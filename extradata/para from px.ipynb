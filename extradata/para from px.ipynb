{
 "metadata": {
  "name": "",
  "signature": "sha256:f346a2c33d738acfdf6f92bb18e8e4f172834af65a46cb4dc5b5451fc3488a89"
 },
 "nbformat": 3,
 "nbformat_minor": 0,
 "worksheets": [
  {
   "cells": [
    {
     "cell_type": "markdown",
     "metadata": {},
     "source": [
      "<a href=\"http://laf-fabric.readthedocs.org/en/latest/\" target=\"_blank\"><img align=\"left\" src=\"images/laf-fabric-xsmall.png\"/></a>\n",
      "<a href=\"http://www.godgeleerdheid.vu.nl/etcbc\" target=\"_blank\"><img align=\"left\" src=\"images/VU-ETCBC-xsmall.png\"/></a>\n",
      "<a href=\"http://tla.mpi.nl\" target=\"_blank\"><img align=\"right\" src=\"images/TLA-xsmall.png\"/></a>\n",
      "<a href=\"http://www.dans.knaw.nl\" target=\"_blank\"><img align=\"right\"src=\"images/DANS-xsmall.png\"/></a>"
     ]
    },
    {
     "cell_type": "heading",
     "level": 1,
     "metadata": {},
     "source": [
      "Paragraphs from the px files"
     ]
    },
    {
     "cell_type": "code",
     "collapsed": false,
     "input": [
      "from IPython.display import display, HTML, FileLinks\n",
      "%load_ext autoreload\n",
      "%autoreload 2\n",
      "import laf\n",
      "from laf.fabric import LafFabric\n",
      "from etcbc.preprocess import prepare\n",
      "from etcbc.px import PX\n",
      "fabric = LafFabric()"
     ],
     "language": "python",
     "metadata": {},
     "outputs": [
      {
       "output_type": "stream",
       "stream": "stderr",
       "text": [
        "  0.00s This is LAF-Fabric 4.3.0\n",
        "http://laf-fabric.readthedocs.org/en/latest/texts/API-reference.html\n"
       ]
      },
      {
       "output_type": "stream",
       "stream": "stdout",
       "text": [
        "The autoreload extension is already loaded. To reload it, use:\n",
        "  %reload_ext autoreload\n"
       ]
      }
     ],
     "prompt_number": 10
    },
    {
     "cell_type": "heading",
     "level": 2,
     "metadata": {},
     "source": [
      "Create annotations from px file"
     ]
    },
    {
     "cell_type": "code",
     "collapsed": false,
     "input": [
      "API=fabric.load('bhs4', '--', 'can', {\n",
      "    \"xmlids\": {\"node\": True, \"edge\": False},\n",
      "    \"features\": ('''\n",
      "        otype number label\n",
      "    ''',\n",
      "    '''\n",
      "    '''),\n",
      "    \"prepare\": prepare,\n",
      "}, verbose='DETAIL')\n",
      "exec(fabric.localnames.format(var='fabric'))"
     ],
     "language": "python",
     "metadata": {},
     "outputs": [
      {
       "output_type": "stream",
       "stream": "stderr",
       "text": [
        "  0.00s LOADING API: please wait ... \n"
       ]
      },
      {
       "output_type": "stream",
       "stream": "stderr",
       "text": [
        "  0.00s DETAIL: COMPILING m: UP TO DATE\n"
       ]
      },
      {
       "output_type": "stream",
       "stream": "stderr",
       "text": [
        "  0.01s INFO: USING DATA COMPILED AT: 2014-06-30T05-57-52\n"
       ]
      },
      {
       "output_type": "stream",
       "stream": "stderr",
       "text": [
        "  0.01s DETAIL: COMPILING a: UP TO DATE\n"
       ]
      },
      {
       "output_type": "stream",
       "stream": "stderr",
       "text": [
        "  0.01s DETAIL: load main: G.node_anchor_min\n"
       ]
      },
      {
       "output_type": "stream",
       "stream": "stderr",
       "text": [
        "  0.07s DETAIL: load main: G.node_anchor_max\n"
       ]
      },
      {
       "output_type": "stream",
       "stream": "stderr",
       "text": [
        "  0.14s DETAIL: load main: G.node_sort\n"
       ]
      },
      {
       "output_type": "stream",
       "stream": "stderr",
       "text": [
        "  0.19s DETAIL: load main: G.node_sort_inv\n"
       ]
      },
      {
       "output_type": "stream",
       "stream": "stderr",
       "text": [
        "  0.90s DETAIL: load main: G.edges_from\n"
       ]
      },
      {
       "output_type": "stream",
       "stream": "stderr",
       "text": [
        "  0.97s DETAIL: load main: G.edges_to\n"
       ]
      },
      {
       "output_type": "stream",
       "stream": "stderr",
       "text": [
        "  1.09s DETAIL: load main: X. [node]  -> \n"
       ]
      },
      {
       "output_type": "stream",
       "stream": "stderr",
       "text": [
        "  2.62s DETAIL: load main: X. [node]  <- \n"
       ]
      },
      {
       "output_type": "stream",
       "stream": "stderr",
       "text": [
        "  3.51s DETAIL: load main: F.shebanq_db_otype [node] \n"
       ]
      },
      {
       "output_type": "stream",
       "stream": "stderr",
       "text": [
        "  4.36s DETAIL: load main: F.shebanq_ft_number [node] \n"
       ]
      },
      {
       "output_type": "stream",
       "stream": "stderr",
       "text": [
        "  4.87s DETAIL: load main: F.shebanq_sft_label [node] \n"
       ]
      },
      {
       "output_type": "stream",
       "stream": "stderr",
       "text": [
        "  4.89s LOGFILE=/Users/dirk/laf-fabric-output/bhs4/can/__log__can.txt\n"
       ]
      },
      {
       "output_type": "stream",
       "stream": "stderr",
       "text": [
        "  4.89s DETAIL: prep prep: G.node_sort\n"
       ]
      },
      {
       "output_type": "stream",
       "stream": "stderr",
       "text": [
        "  4.96s DETAIL: prep prep: G.node_sort_inv\n"
       ]
      },
      {
       "output_type": "stream",
       "stream": "stderr",
       "text": [
        "  5.59s INFO: DATA LOADED FROM SOURCE bhs4 AND ANNOX -- FOR TASK can AT 2014-07-03T10-45-25\n"
       ]
      }
     ],
     "prompt_number": 11
    },
    {
     "cell_type": "code",
     "collapsed": false,
     "input": [
      "px = PX(API)\n",
      "px.deliver_annots('px/px_data', 'px', 'para', (\n",
      "    ('shebanq', 'px', 'instruction'),\n",
      "    ('shebanq', 'px', 'number_in_ch'),\n",
      "    ('shebanq', 'px', 'pargr'),\n",
      "))"
     ],
     "language": "python",
     "metadata": {},
     "outputs": [
      {
       "output_type": "stream",
       "stream": "stderr",
       "text": [
        "  4.27s Making mappings between clause atoms in PX and nodes in LAF\n"
       ]
      },
      {
       "output_type": "stream",
       "stream": "stderr",
       "text": [
        "  6.15s End making mappings: 90197=90197 clauses\n"
       ]
      },
      {
       "output_type": "stream",
       "stream": "stderr",
       "text": [
        "  7.19s Read 90197 paragraph annotations\n"
       ]
      },
      {
       "output_type": "stream",
       "stream": "stderr",
       "text": [
        "  7.19s All label/line entries found in index\n"
       ]
      }
     ],
     "prompt_number": 12
    },
    {
     "cell_type": "heading",
     "level": 2,
     "metadata": {},
     "source": [
      "Checking: loading the new features"
     ]
    },
    {
     "cell_type": "code",
     "collapsed": false,
     "input": [
      "API=fabric.load('bhs4', 'px', 'can', {\n",
      "    \"xmlids\": {\"node\": False, \"edge\": False},\n",
      "    \"features\": ('''\n",
      "        otype number label\n",
      "        instruction number_in_ch pargr\n",
      "    ''',\n",
      "    '''\n",
      "    '''),\n",
      "    \"prepare\": prepare,\n",
      "}, verbose='DETAIL')\n",
      "exec(fabric.localnames.format(var='fabric'))"
     ],
     "language": "python",
     "metadata": {},
     "outputs": [
      {
       "output_type": "stream",
       "stream": "stderr",
       "text": [
        "  0.00s LOADING API: please wait ... \n"
       ]
      },
      {
       "output_type": "stream",
       "stream": "stderr",
       "text": [
        "  0.00s DETAIL: COMPILING m: UP TO DATE\n"
       ]
      },
      {
       "output_type": "stream",
       "stream": "stderr",
       "text": [
        "  0.00s INFO: USING DATA COMPILED AT: 2014-06-30T05-57-52\n"
       ]
      },
      {
       "output_type": "stream",
       "stream": "stderr",
       "text": [
        "  0.00s BEGIN COMPILE a: px\n"
       ]
      },
      {
       "output_type": "stream",
       "stream": "stderr",
       "text": [
        "  0.00s DETAIL: load main: X. [node]  -> \n"
       ]
      },
      {
       "output_type": "stream",
       "stream": "stderr",
       "text": [
        "  1.27s DETAIL: load main: X. [e]  -> \n"
       ]
      },
      {
       "output_type": "stream",
       "stream": "stderr",
       "text": [
        "  3.29s DETAIL: load main: G.node_anchor_min\n"
       ]
      },
      {
       "output_type": "stream",
       "stream": "stderr",
       "text": [
        "  3.35s DETAIL: load main: G.node_anchor_max\n"
       ]
      },
      {
       "output_type": "stream",
       "stream": "stderr",
       "text": [
        "  3.40s DETAIL: load main: G.node_sort\n"
       ]
      },
      {
       "output_type": "stream",
       "stream": "stderr",
       "text": [
        "  3.45s DETAIL: load main: G.node_sort_inv\n"
       ]
      },
      {
       "output_type": "stream",
       "stream": "stderr",
       "text": [
        "  4.06s DETAIL: load main: G.edges_from\n"
       ]
      },
      {
       "output_type": "stream",
       "stream": "stderr",
       "text": [
        "  4.14s DETAIL: load main: G.edges_to\n"
       ]
      },
      {
       "output_type": "stream",
       "stream": "stderr",
       "text": [
        "  4.24s PARSING ANNOTATION FILES\n"
       ]
      },
      {
       "output_type": "stream",
       "stream": "stderr",
       "text": [
        "  5.78s INFO: parsing para.xml\n"
       ]
      },
      {
       "output_type": "stream",
       "stream": "stderr",
       "text": [
        "    10s INFO: END PARSING\n",
        "         0 good   regions  and     0 faulty ones\n",
        "         0 linked nodes    and     0 unlinked ones\n",
        "         0 good   edges    and     0 faulty ones\n",
        "     90197 good   annots   and     0 faulty ones\n",
        "    270591 good   features and     0 faulty ones\n",
        "     90197 distinct xml identifiers\n",
        "\n"
       ]
      },
      {
       "output_type": "stream",
       "stream": "stderr",
       "text": [
        "    10s MODELING RESULT FILES\n"
       ]
      },
      {
       "output_type": "stream",
       "stream": "stderr",
       "text": [
        "    10s INFO: CONNECTIVITY\n"
       ]
      },
      {
       "output_type": "stream",
       "stream": "stderr",
       "text": [
        "    11s WRITING RESULT FILES for a\n"
       ]
      },
      {
       "output_type": "stream",
       "stream": "stderr",
       "text": [
        "    11s DETAIL: write annox: F.shebanq_px_instruction [node] \n"
       ]
      },
      {
       "output_type": "stream",
       "stream": "stderr",
       "text": [
        "    11s DETAIL: write annox: F.shebanq_px_number_in_ch [node] \n"
       ]
      },
      {
       "output_type": "stream",
       "stream": "stderr",
       "text": [
        "    11s DETAIL: write annox: F.shebanq_px_pargr [node] \n"
       ]
      },
      {
       "output_type": "stream",
       "stream": "stderr",
       "text": [
        "    11s END   COMPILE a: px\n"
       ]
      },
      {
       "output_type": "stream",
       "stream": "stderr",
       "text": [
        "    11s INFO: USING DATA COMPILED AT: 2014-07-03T10-03-43\n"
       ]
      },
      {
       "output_type": "stream",
       "stream": "stderr",
       "text": [
        "    11s DETAIL: keep main: G.node_anchor_min\n"
       ]
      },
      {
       "output_type": "stream",
       "stream": "stderr",
       "text": [
        "    11s DETAIL: keep main: G.node_anchor_max\n"
       ]
      },
      {
       "output_type": "stream",
       "stream": "stderr",
       "text": [
        "    11s DETAIL: keep main: G.node_sort\n"
       ]
      },
      {
       "output_type": "stream",
       "stream": "stderr",
       "text": [
        "    11s DETAIL: keep main: G.node_sort_inv\n"
       ]
      },
      {
       "output_type": "stream",
       "stream": "stderr",
       "text": [
        "    11s DETAIL: keep main: G.edges_from\n"
       ]
      },
      {
       "output_type": "stream",
       "stream": "stderr",
       "text": [
        "    11s DETAIL: keep main: G.edges_to\n"
       ]
      },
      {
       "output_type": "stream",
       "stream": "stderr",
       "text": [
        "    11s DETAIL: keep main: F.shebanq_db_otype [node] \n"
       ]
      },
      {
       "output_type": "stream",
       "stream": "stderr",
       "text": [
        "    11s DETAIL: keep main: F.shebanq_ft_number [node] \n"
       ]
      },
      {
       "output_type": "stream",
       "stream": "stderr",
       "text": [
        "    11s DETAIL: keep main: F.shebanq_sft_label [node] \n"
       ]
      },
      {
       "output_type": "stream",
       "stream": "stderr",
       "text": [
        "    11s DETAIL: clear main: X. [node]  -> \n"
       ]
      },
      {
       "output_type": "stream",
       "stream": "stderr",
       "text": [
        "    11s DETAIL: clear main: X. [node]  <- \n"
       ]
      },
      {
       "output_type": "stream",
       "stream": "stderr",
       "text": [
        "    11s DETAIL: load main: F.shebanq_px_instruction [node] \n"
       ]
      },
      {
       "output_type": "stream",
       "stream": "stderr",
       "text": [
        "    11s DETAIL: load main: F.shebanq_px_number_in_ch [node] \n"
       ]
      },
      {
       "output_type": "stream",
       "stream": "stderr",
       "text": [
        "    11s DETAIL: load main: F.shebanq_px_pargr [node] \n"
       ]
      },
      {
       "output_type": "stream",
       "stream": "stderr",
       "text": [
        "    11s DETAIL: load annox: F.shebanq_db_otype [node] \n"
       ]
      },
      {
       "output_type": "stream",
       "stream": "stderr",
       "text": [
        "    11s DETAIL: load annox: F.shebanq_ft_number [node] \n"
       ]
      },
      {
       "output_type": "stream",
       "stream": "stderr",
       "text": [
        "    11s DETAIL: load annox: F.shebanq_px_instruction [node] \n"
       ]
      },
      {
       "output_type": "stream",
       "stream": "stderr",
       "text": [
        "    11s DETAIL: load annox: F.shebanq_px_number_in_ch [node] \n"
       ]
      },
      {
       "output_type": "stream",
       "stream": "stderr",
       "text": [
        "    11s DETAIL: load annox: F.shebanq_px_pargr [node] \n"
       ]
      },
      {
       "output_type": "stream",
       "stream": "stderr",
       "text": [
        "    11s DETAIL: load annox: F.shebanq_sft_label [node] \n"
       ]
      },
      {
       "output_type": "stream",
       "stream": "stderr",
       "text": [
        "    11s LOGFILE=/Users/dirk/laf-fabric-output/bhs4/can/__log__can.txt\n"
       ]
      },
      {
       "output_type": "stream",
       "stream": "stderr",
       "text": [
        "    11s DETAIL: prep prep: G.node_sort\n"
       ]
      },
      {
       "output_type": "stream",
       "stream": "stderr",
       "text": [
        "    11s DETAIL: prep prep: G.node_sort_inv\n"
       ]
      },
      {
       "output_type": "stream",
       "stream": "stderr",
       "text": [
        "    12s INFO: DATA LOADED FROM SOURCE bhs4 AND ANNOX px FOR TASK can AT 2014-07-03T10-45-49\n"
       ]
      }
     ],
     "prompt_number": 13
    },
    {
     "cell_type": "heading",
     "level": 2,
     "metadata": {},
     "source": [
      "Inspecting all objects that got new features"
     ]
    },
    {
     "cell_type": "code",
     "collapsed": false,
     "input": [
      "ph = outfile('paras.txt')\n",
      "cur_label = None\n",
      "for n in NN():\n",
      "    otype = F.otype.v(n)\n",
      "    if otype == 'verse':\n",
      "        cur_label = F.label.v(n)\n",
      "    elif otype == 'clause_atom':\n",
      "        nm = F.number_in_ch.v(n)\n",
      "        if nm:\n",
      "            ph.write(\"{}: instruction = {}; {}; para = {}\\n\".format(cur_label, nm, F.instruction.v(n), F.pargr.v(n)))\n",
      "ph.close()"
     ],
     "language": "python",
     "metadata": {},
     "outputs": [],
     "prompt_number": 14
    },
    {
     "cell_type": "code",
     "collapsed": false,
     "input": [
      "!head -n 100 {my_file('paras.txt')}"
     ],
     "language": "python",
     "metadata": {},
     "outputs": [
      {
       "output_type": "stream",
       "stream": "stdout",
       "text": [
        " GEN 01,01: instruction = 1; .N; para = 1\r\n",
        " GEN 01,02: instruction = 2; .#; para = 1.1\r\n",
        " GEN 01,02: instruction = 3; ..; para = 1.1\r\n",
        " GEN 01,02: instruction = 4; ..; para = 1.1\r\n",
        " GEN 01,03: instruction = 5; .#; para = 1.2\r\n",
        " GEN 01,03: instruction = 6; .q; para = 1.2.1\r\n",
        " GEN 01,03: instruction = 7; .#; para = 1.2.2\r\n",
        " GEN 01,04: instruction = 8; .#; para = 1.2.3\r\n",
        " GEN 01,04: instruction = 9; ..; para = 1.2.3\r\n",
        " GEN 01,04: instruction = 10; .#; para = 1.2.4\r\n",
        " GEN 01,05: instruction = 11; .#; para = 1.2.5\r\n",
        " GEN 01,05: instruction = 12; ..; para = 1.2.5\r\n",
        " GEN 01,05: instruction = 13; .#; para = 1.2.5.1\r\n",
        " GEN 01,05: instruction = 14; .#; para = 1.2.5.2\r\n",
        " GEN 01,05: instruction = 15; ..; para = 1.2.5.2\r\n",
        " GEN 01,06: instruction = 16; .#; para = 1.3\r\n",
        " GEN 01,06: instruction = 17; .q; para = 1.3.1\r\n",
        " GEN 01,06: instruction = 18; ..; para = 1.3.1\r\n",
        " GEN 01,07: instruction = 19; .#; para = 1.3.2\r\n",
        " GEN 01,07: instruction = 20; ..; para = 1.3.2\r\n",
        " GEN 01,07: instruction = 21; .e; para = 1.3.2\r\n",
        " GEN 01,07: instruction = 22; d.; para = 1.3.2\r\n",
        " GEN 01,07: instruction = 23; ..; para = 1.3.2\r\n",
        " GEN 01,07: instruction = 24; ..; para = 1.3.2\r\n",
        " GEN 01,08: instruction = 25; .#; para = 1.3.2.1\r\n",
        " GEN 01,08: instruction = 26; .#; para = 1.3.2.1.1\r\n",
        " GEN 01,08: instruction = 27; .#; para = 1.3.2.1.2\r\n",
        " GEN 01,08: instruction = 28; ..; para = 1.3.2.1.2\r\n",
        " GEN 01,09: instruction = 29; .#; para = 1.4\r\n",
        " GEN 01,09: instruction = 30; .q; para = 1.4.1\r\n",
        " GEN 01,09: instruction = 31; ..; para = 1.4.1\r\n",
        " GEN 01,09: instruction = 32; ..; para = 1.4\r\n",
        " GEN 01,10: instruction = 33; .#; para = 1.4.2\r\n",
        " GEN 01,10: instruction = 34; ..; para = 1.4.2\r\n",
        " GEN 01,10: instruction = 35; .#; para = 1.4.3\r\n",
        " GEN 01,10: instruction = 36; ..; para = 1.4.3\r\n",
        " GEN 01,11: instruction = 37; .#; para = 1.5\r\n",
        " GEN 01,11: instruction = 38; .q; para = 1.5.1\r\n",
        " GEN 01,11: instruction = 39; .e; para = 1.5.1\r\n",
        " GEN 01,11: instruction = 40; d.; para = 1.5.1\r\n",
        " GEN 01,11: instruction = 41; ..; para = 1.5.1\r\n",
        " GEN 01,11: instruction = 42; .e; para = 1.5.1\r\n",
        " GEN 01,11: instruction = 43; d.; para = 1.5.1\r\n",
        " GEN 01,11: instruction = 44; ..; para = 1.5\r\n",
        " GEN 01,12: instruction = 45; .#; para = 1.5.2\r\n",
        " GEN 01,12: instruction = 46; .e; para = 1.5.2\r\n",
        " GEN 01,12: instruction = 47; d.; para = 1.5.2\r\n",
        " GEN 01,12: instruction = 48; ..; para = 1.5.2\r\n",
        " GEN 01,12: instruction = 49; .e; para = 1.5.2\r\n",
        " GEN 01,12: instruction = 50; d.; para = 1.5.2\r\n",
        " GEN 01,12: instruction = 51; .#; para = 1.5.3\r\n",
        " GEN 01,12: instruction = 52; ..; para = 1.5.3\r\n",
        " GEN 01,13: instruction = 53; .#; para = 1.5.3.1\r\n",
        " GEN 01,13: instruction = 54; .#; para = 1.5.3.2\r\n",
        " GEN 01,13: instruction = 55; ..; para = 1.5.3.2\r\n",
        " GEN 01,14: instruction = 56; .#; para = 1.6\r\n",
        " GEN 01,14: instruction = 57; .q; para = 1.6.1\r\n",
        " GEN 01,14: instruction = 58; ..; para = 1.6.1\r\n",
        " GEN 01,14: instruction = 59; ..; para = 1.6.1\r\n",
        " GEN 01,15: instruction = 60; ..; para = 1.6.1\r\n",
        " GEN 01,15: instruction = 61; ..; para = 1.6.1\r\n",
        " GEN 01,15: instruction = 62; ..; para = 1.6\r\n",
        " GEN 01,16: instruction = 63; .#; para = 1.6.2\r\n",
        " GEN 01,16: instruction = 64; l.; para = 1.6.2\r\n",
        " GEN 01,16: instruction = 65; l.; para = 1.6.2\r\n",
        " GEN 01,16: instruction = 66; l.; para = 1.6.2\r\n",
        " GEN 01,17: instruction = 67; .#; para = 1.6.2.1\r\n",
        " GEN 01,17: instruction = 68; ..; para = 1.6.2.1\r\n",
        " GEN 01,18: instruction = 69; ..; para = 1.6.2.1\r\n",
        " GEN 01,18: instruction = 70; ..; para = 1.6.2.1\r\n",
        " GEN 01,18: instruction = 71; .#; para = 1.6.3\r\n",
        " GEN 01,18: instruction = 72; ..; para = 1.6.3\r\n",
        " GEN 01,19: instruction = 73; .#; para = 1.6.3.1\r\n",
        " GEN 01,19: instruction = 74; .#; para = 1.6.3.2\r\n",
        " GEN 01,19: instruction = 75; ..; para = 1.6.3.2\r\n",
        " GEN 01,20: instruction = 76; .#; para = 1.7\r\n",
        " GEN 01,20: instruction = 77; .q; para = 1.7.1\r\n",
        " GEN 01,20: instruction = 78; ..; para = 1.7.1\r\n",
        " GEN 01,21: instruction = 79; .#; para = 1.7.2\r\n",
        " GEN 01,21: instruction = 80; ..; para = 1.7.2\r\n",
        " GEN 01,21: instruction = 81; ..; para = 1.7.2\r\n",
        " GEN 01,21: instruction = 82; .e; para = 1.7.2\r\n",
        " GEN 01,21: instruction = 83; d.; para = 1.7.2\r\n",
        " GEN 01,21: instruction = 84; l.; para = 1.7.2\r\n",
        " GEN 01,21: instruction = 85; .#; para = 1.7.3\r\n",
        " GEN 01,21: instruction = 86; ..; para = 1.7.3\r\n",
        " GEN 01,22: instruction = 87; .#; para = 1.7.3.1\r\n",
        " GEN 01,22: instruction = 88; ..; para = 1.7.3.1\r\n",
        " GEN 01,22: instruction = 89; .q; para = 1.7.3.1.1\r\n",
        " GEN 01,22: instruction = 90; ..; para = 1.7.3.1.1\r\n",
        " GEN 01,22: instruction = 91; ..; para = 1.7.3.1.1\r\n",
        " GEN 01,22: instruction = 92; ..; para = 1.7.3.1.1\r\n",
        " GEN 01,23: instruction = 93; .#; para = 1.7.3.2\r\n",
        " GEN 01,23: instruction = 94; .#; para = 1.7.3.3\r\n",
        " GEN 01,23: instruction = 95; ..; para = 1.7.3.3\r\n",
        " GEN 01,24: instruction = 96; .#; para = 1.8\r\n",
        " GEN 01,24: instruction = 97; .q; para = 1.8.1\r\n",
        " GEN 01,24: instruction = 98; l.; para = 1.8.1\r\n",
        " GEN 01,24: instruction = 99; ..; para = 1.8\r\n",
        " GEN 01,25: instruction = 100; .#; para = 1.8.2\r\n"
       ]
      }
     ],
     "prompt_number": 15
    },
    {
     "cell_type": "code",
     "collapsed": false,
     "input": [],
     "language": "python",
     "metadata": {},
     "outputs": []
    }
   ],
   "metadata": {}
  }
 ]
}