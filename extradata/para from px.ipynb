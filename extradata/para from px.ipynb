{
 "metadata": {
  "name": "",
  "signature": "sha256:10c160ca8dc01eb192a7be4c27585e6950b203dab5d889ee9c5adcec44f634f8"
 },
 "nbformat": 3,
 "nbformat_minor": 0,
 "worksheets": [
  {
   "cells": [
    {
     "cell_type": "markdown",
     "metadata": {},
     "source": [
      "<a href=\"http://laf-fabric.readthedocs.org/en/latest/\" target=\"_blank\"><img align=\"left\" src=\"images/laf-fabric-xsmall.png\"/></a>\n",
      "<a href=\"http://www.godgeleerdheid.vu.nl/etcbc\" target=\"_blank\"><img align=\"left\" src=\"images/VU-ETCBC-xsmall.png\"/></a>\n",
      "<a href=\"http://tla.mpi.nl\" target=\"_blank\"><img align=\"right\" src=\"images/TLA-xsmall.png\"/></a>\n",
      "<a href=\"http://www.dans.knaw.nl\" target=\"_blank\"><img align=\"right\"src=\"images/DANS-xsmall.png\"/></a>"
     ]
    },
    {
     "cell_type": "heading",
     "level": 1,
     "metadata": {},
     "source": [
      "Paragraphs from the px files"
     ]
    },
    {
     "cell_type": "code",
     "collapsed": false,
     "input": [
      "from IPython.display import display, HTML, FileLinks\n",
      "%load_ext autoreload\n",
      "%autoreload 2\n",
      "import laf\n",
      "from laf.fabric import LafFabric\n",
      "from etcbc.preprocess import prepare\n",
      "from etcbc.px import PX\n",
      "fabric = LafFabric()"
     ],
     "language": "python",
     "metadata": {},
     "outputs": [
      {
       "output_type": "stream",
       "stream": "stderr",
       "text": [
        "  0.00s This is LAF-Fabric 4.3.0\n",
        "http://laf-fabric.readthedocs.org/en/latest/texts/API-reference.html\n"
       ]
      }
     ],
     "prompt_number": 1
    },
    {
     "cell_type": "heading",
     "level": 2,
     "metadata": {},
     "source": [
      "Create annotations from px file"
     ]
    },
    {
     "cell_type": "code",
     "collapsed": false,
     "input": [
      "API=fabric.load('bhs4', '--', 'can', {\n",
      "    \"xmlids\": {\"node\": True, \"edge\": False},\n",
      "    \"features\": ('''\n",
      "        otype number label\n",
      "    ''',\n",
      "    '''\n",
      "    '''),\n",
      "    \"prepare\": prepare,\n",
      "}, verbose='DETAIL')\n",
      "exec(fabric.localnames.format(var='fabric'))"
     ],
     "language": "python",
     "metadata": {},
     "outputs": [
      {
       "output_type": "stream",
       "stream": "stderr",
       "text": [
        "  0.00s LOADING API: please wait ... \n"
       ]
      },
      {
       "output_type": "stream",
       "stream": "stderr",
       "text": [
        "  0.00s BEGIN COMPILE m: bhs4\n"
       ]
      },
      {
       "output_type": "stream",
       "stream": "stderr",
       "text": [
        "  0.75s LOGFILE=/Users/dirk/laf-fabric-data/bhs4/bin/__log__compile__.txt\n"
       ]
      },
      {
       "output_type": "stream",
       "stream": "stderr",
       "text": [
        "  0.75s PARSING ANNOTATION FILES\n"
       ]
      },
      {
       "output_type": "stream",
       "stream": "stderr",
       "text": [
        "  0.80s INFO: parsing bhs4_regions.xml\n"
       ]
      },
      {
       "output_type": "stream",
       "stream": "stderr",
       "text": [
        "    11s INFO: parsing bhs4_monads.xml\n"
       ]
      },
      {
       "output_type": "stream",
       "stream": "stderr",
       "text": [
        "    50s INFO: parsing bhs4_lingo.xml\n"
       ]
      },
      {
       "output_type": "stream",
       "stream": "stderr",
       "text": [
        " 2m 17s INFO: parsing bhs4_sections.xml\n"
       ]
      },
      {
       "output_type": "stream",
       "stream": "stderr",
       "text": [
        " 2m 28s INFO: parsing bhs4_monads.lex.xml\n"
       ]
      },
      {
       "output_type": "stream",
       "stream": "stderr",
       "text": [
        " 5m 48s INFO: parsing bhs4_lingo.c.xml\n"
       ]
      },
      {
       "output_type": "stream",
       "stream": "stderr",
       "text": [
        " 6m 19s INFO: parsing bhs4_lingo.p.xml\n"
       ]
      },
      {
       "output_type": "stream",
       "stream": "stderr",
       "text": [
        " 6m 52s INFO: parsing bhs4_lingo.pa.xml\n"
       ]
      },
      {
       "output_type": "stream",
       "stream": "stderr",
       "text": [
        " 7m 34s INFO: parsing bhs4_lingo.s.xml\n"
       ]
      },
      {
       "output_type": "stream",
       "stream": "stderr",
       "text": [
        " 7m 40s INFO: parsing bhs4_lingo.sp.xml\n"
       ]
      },
      {
       "output_type": "stream",
       "stream": "stderr",
       "text": [
        " 7m 47s INFO: END PARSING\n",
        "    921973 good   regions  and     0 faulty ones\n",
        "   1442030 linked nodes    and     0 unlinked ones\n",
        "   2224866 good   edges    and     0 faulty ones\n",
        "   5040102 good   annots   and     0 faulty ones\n",
        "  30281780 good   features and     0 faulty ones\n",
        "   9628971 distinct xml identifiers\n",
        "\n"
       ]
      },
      {
       "output_type": "stream",
       "stream": "stderr",
       "text": [
        " 7m 47s MODELING RESULT FILES\n"
       ]
      },
      {
       "output_type": "stream",
       "stream": "stderr",
       "text": [
        " 7m 47s INFO: XML-IDS (inverse mapping)\n"
       ]
      },
      {
       "output_type": "stream",
       "stream": "stderr",
       "text": [
        " 7m 49s INFO: NODES AND REGIONS\n"
       ]
      },
      {
       "output_type": "stream",
       "stream": "stderr",
       "text": [
        " 7m 49s INFO: NODES ANCHOR BOUNDARIES\n"
       ]
      },
      {
       "output_type": "stream",
       "stream": "stderr",
       "text": [
        " 8m 19s INFO: NODES SORTING BY REGIONS\n"
       ]
      },
      {
       "output_type": "stream",
       "stream": "stderr",
       "text": [
        " 8m 21s INFO: NODES EVENTS\n"
       ]
      },
      {
       "output_type": "stream",
       "stream": "stderr",
       "text": [
        " 8m 56s INFO: CONNECTIVITY\n"
       ]
      },
      {
       "output_type": "stream",
       "stream": "stderr",
       "text": [
        " 9m 00s WRITING RESULT FILES for m\n"
       ]
      },
      {
       "output_type": "stream",
       "stream": "stderr",
       "text": [
        " 9m 00s DETAIL: write main: C.laf__x <- \n"
       ]
      },
      {
       "output_type": "stream",
       "stream": "stderr",
       "text": [
        " 9m 00s DETAIL: write main: C.shebanq_ft_distributional_parent <- \n"
       ]
      },
      {
       "output_type": "stream",
       "stream": "stderr",
       "text": [
        " 9m 01s DETAIL: write main: C.shebanq_ft_functional_parent <- \n"
       ]
      },
      {
       "output_type": "stream",
       "stream": "stderr",
       "text": [
        " 9m 02s DETAIL: write main: C.shebanq_ft_mother <- \n"
       ]
      },
      {
       "output_type": "stream",
       "stream": "stderr",
       "text": [
        " 9m 02s DETAIL: write main: C.laf__x -> \n"
       ]
      },
      {
       "output_type": "stream",
       "stream": "stderr",
       "text": [
        " 9m 02s DETAIL: write main: C.shebanq_ft_distributional_parent -> \n"
       ]
      },
      {
       "output_type": "stream",
       "stream": "stderr",
       "text": [
        " 9m 03s DETAIL: write main: C.shebanq_ft_functional_parent -> \n"
       ]
      },
      {
       "output_type": "stream",
       "stream": "stderr",
       "text": [
        " 9m 04s DETAIL: write main: C.shebanq_ft_mother -> \n"
       ]
      },
      {
       "output_type": "stream",
       "stream": "stderr",
       "text": [
        " 9m 04s DETAIL: write main: F.shebanq_ft_distributional_parent [e] \n"
       ]
      },
      {
       "output_type": "stream",
       "stream": "stderr",
       "text": [
        " 9m 04s DETAIL: write main: F.shebanq_ft_functional_parent [e] \n"
       ]
      },
      {
       "output_type": "stream",
       "stream": "stderr",
       "text": [
        " 9m 04s DETAIL: write main: F.shebanq_ft_mother [e] \n"
       ]
      },
      {
       "output_type": "stream",
       "stream": "stderr",
       "text": [
        " 9m 04s DETAIL: write main: F.shebanq_db_maxmonad [node] \n"
       ]
      },
      {
       "output_type": "stream",
       "stream": "stderr",
       "text": [
        " 9m 06s DETAIL: write main: F.shebanq_db_minmonad [node] \n"
       ]
      },
      {
       "output_type": "stream",
       "stream": "stderr",
       "text": [
        " 9m 07s DETAIL: write main: F.shebanq_db_monads [node] \n"
       ]
      },
      {
       "output_type": "stream",
       "stream": "stderr",
       "text": [
        " 9m 08s DETAIL: write main: F.shebanq_db_oid [node] \n"
       ]
      },
      {
       "output_type": "stream",
       "stream": "stderr",
       "text": [
        " 9m 10s DETAIL: write main: F.shebanq_db_otype [node] \n"
       ]
      },
      {
       "output_type": "stream",
       "stream": "stderr",
       "text": [
        " 9m 11s DETAIL: write main: F.shebanq_ft_clause_kind [node] \n"
       ]
      },
      {
       "output_type": "stream",
       "stream": "stderr",
       "text": [
        " 9m 11s DETAIL: write main: F.shebanq_ft_code [node] \n"
       ]
      },
      {
       "output_type": "stream",
       "stream": "stderr",
       "text": [
        " 9m 11s DETAIL: write main: F.shebanq_ft_det [node] \n"
       ]
      },
      {
       "output_type": "stream",
       "stream": "stderr",
       "text": [
        " 9m 11s DETAIL: write main: F.shebanq_ft_dist [node] \n"
       ]
      },
      {
       "output_type": "stream",
       "stream": "stderr",
       "text": [
        " 9m 12s DETAIL: write main: F.shebanq_ft_dist_unit [node] \n"
       ]
      },
      {
       "output_type": "stream",
       "stream": "stderr",
       "text": [
        " 9m 12s DETAIL: write main: F.shebanq_ft_domain [node] \n"
       ]
      },
      {
       "output_type": "stream",
       "stream": "stderr",
       "text": [
        " 9m 12s DETAIL: write main: F.shebanq_ft_function [node] \n"
       ]
      },
      {
       "output_type": "stream",
       "stream": "stderr",
       "text": [
        " 9m 12s DETAIL: write main: F.shebanq_ft_g_cons [node] \n"
       ]
      },
      {
       "output_type": "stream",
       "stream": "stderr",
       "text": [
        " 9m 13s DETAIL: write main: F.shebanq_ft_g_cons_utf8 [node] \n"
       ]
      },
      {
       "output_type": "stream",
       "stream": "stderr",
       "text": [
        " 9m 14s DETAIL: write main: F.shebanq_ft_g_lex [node] \n"
       ]
      },
      {
       "output_type": "stream",
       "stream": "stderr",
       "text": [
        " 9m 14s DETAIL: write main: F.shebanq_ft_g_lex_utf8 [node] \n"
       ]
      },
      {
       "output_type": "stream",
       "stream": "stderr",
       "text": [
        " 9m 15s DETAIL: write main: F.shebanq_ft_g_nme [node] \n"
       ]
      },
      {
       "output_type": "stream",
       "stream": "stderr",
       "text": [
        " 9m 15s DETAIL: write main: F.shebanq_ft_g_nme_utf8 [node] \n"
       ]
      },
      {
       "output_type": "stream",
       "stream": "stderr",
       "text": [
        " 9m 15s DETAIL: write main: F.shebanq_ft_g_pfm [node] \n"
       ]
      },
      {
       "output_type": "stream",
       "stream": "stderr",
       "text": [
        " 9m 15s DETAIL: write main: F.shebanq_ft_g_pfm_utf8 [node] \n"
       ]
      },
      {
       "output_type": "stream",
       "stream": "stderr",
       "text": [
        " 9m 15s DETAIL: write main: F.shebanq_ft_g_prs [node] \n"
       ]
      },
      {
       "output_type": "stream",
       "stream": "stderr",
       "text": [
        " 9m 15s DETAIL: write main: F.shebanq_ft_g_prs_utf8 [node] \n"
       ]
      },
      {
       "output_type": "stream",
       "stream": "stderr",
       "text": [
        " 9m 16s DETAIL: write main: F.shebanq_ft_g_uvf [node] \n"
       ]
      },
      {
       "output_type": "stream",
       "stream": "stderr",
       "text": [
        " 9m 16s DETAIL: write main: F.shebanq_ft_g_uvf_utf8 [node] \n"
       ]
      },
      {
       "output_type": "stream",
       "stream": "stderr",
       "text": [
        " 9m 16s DETAIL: write main: F.shebanq_ft_g_vbe [node] \n"
       ]
      },
      {
       "output_type": "stream",
       "stream": "stderr",
       "text": [
        " 9m 16s DETAIL: write main: F.shebanq_ft_g_vbe_utf8 [node] \n"
       ]
      },
      {
       "output_type": "stream",
       "stream": "stderr",
       "text": [
        " 9m 16s DETAIL: write main: F.shebanq_ft_g_vbs [node] \n"
       ]
      },
      {
       "output_type": "stream",
       "stream": "stderr",
       "text": [
        " 9m 16s DETAIL: write main: F.shebanq_ft_g_vbs_utf8 [node] \n"
       ]
      },
      {
       "output_type": "stream",
       "stream": "stderr",
       "text": [
        " 9m 16s DETAIL: write main: F.shebanq_ft_g_word [node] \n"
       ]
      },
      {
       "output_type": "stream",
       "stream": "stderr",
       "text": [
        " 9m 17s DETAIL: write main: F.shebanq_ft_g_word_utf8 [node] \n"
       ]
      },
      {
       "output_type": "stream",
       "stream": "stderr",
       "text": [
        " 9m 18s DETAIL: write main: F.shebanq_ft_gn [node] \n"
       ]
      },
      {
       "output_type": "stream",
       "stream": "stderr",
       "text": [
        " 9m 18s DETAIL: write main: F.shebanq_ft_is_root [node] \n"
       ]
      },
      {
       "output_type": "stream",
       "stream": "stderr",
       "text": [
        " 9m 18s DETAIL: write main: F.shebanq_ft_language [node] \n"
       ]
      },
      {
       "output_type": "stream",
       "stream": "stderr",
       "text": [
        " 9m 18s DETAIL: write main: F.shebanq_ft_lex [node] \n"
       ]
      },
      {
       "output_type": "stream",
       "stream": "stderr",
       "text": [
        " 9m 19s DETAIL: write main: F.shebanq_ft_lex_utf8 [node] \n"
       ]
      },
      {
       "output_type": "stream",
       "stream": "stderr",
       "text": [
        " 9m 19s DETAIL: write main: F.shebanq_ft_ls [node] \n"
       ]
      },
      {
       "output_type": "stream",
       "stream": "stderr",
       "text": [
        " 9m 19s DETAIL: write main: F.shebanq_ft_mother_object_type [node] \n"
       ]
      },
      {
       "output_type": "stream",
       "stream": "stderr",
       "text": [
        " 9m 20s DETAIL: write main: F.shebanq_ft_nme [node] \n"
       ]
      },
      {
       "output_type": "stream",
       "stream": "stderr",
       "text": [
        " 9m 20s DETAIL: write main: F.shebanq_ft_nu [node] \n"
       ]
      },
      {
       "output_type": "stream",
       "stream": "stderr",
       "text": [
        " 9m 20s DETAIL: write main: F.shebanq_ft_number [node] \n"
       ]
      },
      {
       "output_type": "stream",
       "stream": "stderr",
       "text": [
        " 9m 21s DETAIL: write main: F.shebanq_ft_pdp [node] \n"
       ]
      },
      {
       "output_type": "stream",
       "stream": "stderr",
       "text": [
        " 9m 22s DETAIL: write main: F.shebanq_ft_pfm [node] \n"
       ]
      },
      {
       "output_type": "stream",
       "stream": "stderr",
       "text": [
        " 9m 22s DETAIL: write main: F.shebanq_ft_prs [node] \n"
       ]
      },
      {
       "output_type": "stream",
       "stream": "stderr",
       "text": [
        " 9m 22s DETAIL: write main: F.shebanq_ft_ps [node] \n"
       ]
      },
      {
       "output_type": "stream",
       "stream": "stderr",
       "text": [
        " 9m 23s DETAIL: write main: F.shebanq_ft_rela [node] \n"
       ]
      },
      {
       "output_type": "stream",
       "stream": "stderr",
       "text": [
        " 9m 23s DETAIL: write main: F.shebanq_ft_sp [node] \n"
       ]
      },
      {
       "output_type": "stream",
       "stream": "stderr",
       "text": [
        " 9m 24s DETAIL: write main: F.shebanq_ft_st [node] \n"
       ]
      },
      {
       "output_type": "stream",
       "stream": "stderr",
       "text": [
        " 9m 24s DETAIL: write main: F.shebanq_ft_tab [node] \n"
       ]
      },
      {
       "output_type": "stream",
       "stream": "stderr",
       "text": [
        " 9m 24s DETAIL: write main: F.shebanq_ft_txt [node] \n"
       ]
      },
      {
       "output_type": "stream",
       "stream": "stderr",
       "text": [
        " 9m 24s DETAIL: write main: F.shebanq_ft_typ [node] \n"
       ]
      },
      {
       "output_type": "stream",
       "stream": "stderr",
       "text": [
        " 9m 25s DETAIL: write main: F.shebanq_ft_uvf [node] \n"
       ]
      },
      {
       "output_type": "stream",
       "stream": "stderr",
       "text": [
        " 9m 25s DETAIL: write main: F.shebanq_ft_vbe [node] \n"
       ]
      },
      {
       "output_type": "stream",
       "stream": "stderr",
       "text": [
        " 9m 25s DETAIL: write main: F.shebanq_ft_vbs [node] \n"
       ]
      },
      {
       "output_type": "stream",
       "stream": "stderr",
       "text": [
        " 9m 26s DETAIL: write main: F.shebanq_ft_vs [node] \n"
       ]
      },
      {
       "output_type": "stream",
       "stream": "stderr",
       "text": [
        " 9m 26s DETAIL: write main: F.shebanq_ft_vt [node] \n"
       ]
      },
      {
       "output_type": "stream",
       "stream": "stderr",
       "text": [
        " 9m 26s DETAIL: write main: F.shebanq_sft_book [node] \n"
       ]
      },
      {
       "output_type": "stream",
       "stream": "stderr",
       "text": [
        " 9m 26s DETAIL: write main: F.shebanq_sft_chapter [node] \n"
       ]
      },
      {
       "output_type": "stream",
       "stream": "stderr",
       "text": [
        " 9m 26s DETAIL: write main: F.shebanq_sft_half_verse [node] \n"
       ]
      },
      {
       "output_type": "stream",
       "stream": "stderr",
       "text": [
        " 9m 26s DETAIL: write main: F.shebanq_sft_label [node] \n"
       ]
      },
      {
       "output_type": "stream",
       "stream": "stderr",
       "text": [
        " 9m 26s DETAIL: write main: F.shebanq_sft_verse [node] \n"
       ]
      },
      {
       "output_type": "stream",
       "stream": "stderr",
       "text": [
        " 9m 26s DETAIL: write main: G.edges_from\n"
       ]
      },
      {
       "output_type": "stream",
       "stream": "stderr",
       "text": [
        " 9m 27s DETAIL: write main: G.edges_to\n"
       ]
      },
      {
       "output_type": "stream",
       "stream": "stderr",
       "text": [
        " 9m 27s DETAIL: write main: G.node_anchor_max\n"
       ]
      },
      {
       "output_type": "stream",
       "stream": "stderr",
       "text": [
        " 9m 27s DETAIL: write main: G.node_anchor_min\n"
       ]
      },
      {
       "output_type": "stream",
       "stream": "stderr",
       "text": [
        " 9m 27s DETAIL: write main: G.node_sort\n"
       ]
      },
      {
       "output_type": "stream",
       "stream": "stderr",
       "text": [
        " 9m 28s DETAIL: write main: G.node_sort_inv\n"
       ]
      },
      {
       "output_type": "stream",
       "stream": "stderr",
       "text": [
        " 9m 28s DETAIL: write main: P.node_anchor\n"
       ]
      },
      {
       "output_type": "stream",
       "stream": "stderr",
       "text": [
        " 9m 29s DETAIL: write main: P.node_anchor_items\n"
       ]
      },
      {
       "output_type": "stream",
       "stream": "stderr",
       "text": [
        " 9m 30s DETAIL: write main: P.node_events\n"
       ]
      },
      {
       "output_type": "stream",
       "stream": "stderr",
       "text": [
        " 9m 30s DETAIL: write main: P.node_events_items\n"
       ]
      },
      {
       "output_type": "stream",
       "stream": "stderr",
       "text": [
        " 9m 31s DETAIL: write main: P.node_events_k\n"
       ]
      },
      {
       "output_type": "stream",
       "stream": "stderr",
       "text": [
        " 9m 31s DETAIL: write main: P.node_events_n\n"
       ]
      },
      {
       "output_type": "stream",
       "stream": "stderr",
       "text": [
        " 9m 32s DETAIL: write main: P.primary_data\n"
       ]
      },
      {
       "output_type": "stream",
       "stream": "stderr",
       "text": [
        " 9m 34s DETAIL: write main: X. [e]  <- \n"
       ]
      },
      {
       "output_type": "stream",
       "stream": "stderr",
       "text": [
        " 9m 36s DETAIL: write main: X. [e]  -> \n"
       ]
      },
      {
       "output_type": "stream",
       "stream": "stderr",
       "text": [
        " 9m 39s DETAIL: write main: X. [node]  <- \n"
       ]
      },
      {
       "output_type": "stream",
       "stream": "stderr",
       "text": [
        " 9m 40s DETAIL: write main: X. [node]  -> \n"
       ]
      },
      {
       "output_type": "stream",
       "stream": "stderr",
       "text": [
        " 9m 43s END   COMPILE m: bhs4\n"
       ]
      },
      {
       "output_type": "stream",
       "stream": "stderr",
       "text": [
        " 9m 43s INFO: USING DATA COMPILED AT: 2014-06-30T05-57-52\n"
       ]
      },
      {
       "output_type": "stream",
       "stream": "stderr",
       "text": [
        " 9m 43s DETAIL: COMPILING a: UP TO DATE\n"
       ]
      },
      {
       "output_type": "stream",
       "stream": "stderr",
       "text": [
        " 9m 46s DETAIL: load main: G.node_anchor_min\n"
       ]
      },
      {
       "output_type": "stream",
       "stream": "stderr",
       "text": [
        " 9m 46s DETAIL: load main: G.node_anchor_max\n"
       ]
      },
      {
       "output_type": "stream",
       "stream": "stderr",
       "text": [
        " 9m 46s DETAIL: load main: G.node_sort\n"
       ]
      },
      {
       "output_type": "stream",
       "stream": "stderr",
       "text": [
        " 9m 46s DETAIL: load main: G.node_sort_inv\n"
       ]
      },
      {
       "output_type": "stream",
       "stream": "stderr",
       "text": [
        " 9m 46s DETAIL: load main: G.edges_from\n"
       ]
      },
      {
       "output_type": "stream",
       "stream": "stderr",
       "text": [
        " 9m 47s DETAIL: load main: G.edges_to\n"
       ]
      },
      {
       "output_type": "stream",
       "stream": "stderr",
       "text": [
        " 9m 47s DETAIL: load main: X. [node]  -> \n"
       ]
      },
      {
       "output_type": "stream",
       "stream": "stderr",
       "text": [
        " 9m 48s DETAIL: load main: X. [node]  <- \n"
       ]
      },
      {
       "output_type": "stream",
       "stream": "stderr",
       "text": [
        " 9m 49s DETAIL: load main: F.shebanq_db_otype [node] \n"
       ]
      },
      {
       "output_type": "stream",
       "stream": "stderr",
       "text": [
        " 9m 49s DETAIL: load main: F.shebanq_ft_number [node] \n"
       ]
      },
      {
       "output_type": "stream",
       "stream": "stderr",
       "text": [
        " 9m 50s DETAIL: load main: F.shebanq_sft_label [node] \n"
       ]
      },
      {
       "output_type": "stream",
       "stream": "stderr",
       "text": [
        " 9m 50s LOGFILE=/Users/dirk/laf-fabric-output/bhs4/can/__log__can.txt\n"
       ]
      },
      {
       "output_type": "stream",
       "stream": "stderr",
       "text": [
        " 9m 50s DETAIL: prep prep: G.node_sort\n"
       ]
      },
      {
       "output_type": "stream",
       "stream": "stderr",
       "text": [
        " 9m 50s DETAIL: PREPARING prep: G.node_sort\n"
       ]
      },
      {
       "output_type": "stream",
       "stream": "stderr",
       "text": [
        "  0.00s LOADING API with EXTRAs: please wait ... \n"
       ]
      },
      {
       "output_type": "stream",
       "stream": "stderr",
       "text": [
        "  0.00s DETAIL: COMPILING m: UP TO DATE\n"
       ]
      },
      {
       "output_type": "stream",
       "stream": "stderr",
       "text": [
        "  0.00s INFO: USING DATA COMPILED AT: 2014-06-30T05-57-52\n"
       ]
      },
      {
       "output_type": "stream",
       "stream": "stderr",
       "text": [
        "  0.00s DETAIL: COMPILING a: UP TO DATE\n"
       ]
      },
      {
       "output_type": "stream",
       "stream": "stderr",
       "text": [
        "  0.01s DETAIL: keep main: G.node_anchor_min\n"
       ]
      },
      {
       "output_type": "stream",
       "stream": "stderr",
       "text": [
        "  0.01s DETAIL: keep main: G.node_anchor_max\n"
       ]
      },
      {
       "output_type": "stream",
       "stream": "stderr",
       "text": [
        "  0.01s DETAIL: keep main: G.node_sort\n"
       ]
      },
      {
       "output_type": "stream",
       "stream": "stderr",
       "text": [
        "  0.01s DETAIL: keep main: G.node_sort_inv\n"
       ]
      },
      {
       "output_type": "stream",
       "stream": "stderr",
       "text": [
        "  0.01s DETAIL: keep main: G.edges_from\n"
       ]
      },
      {
       "output_type": "stream",
       "stream": "stderr",
       "text": [
        "  0.01s DETAIL: keep main: G.edges_to\n"
       ]
      },
      {
       "output_type": "stream",
       "stream": "stderr",
       "text": [
        "  0.01s DETAIL: keep main: F.shebanq_db_otype [node] \n"
       ]
      },
      {
       "output_type": "stream",
       "stream": "stderr",
       "text": [
        "  0.01s DETAIL: load main: F.shebanq_db_monads [node] \n"
       ]
      },
      {
       "output_type": "stream",
       "stream": "stderr",
       "text": [
        "  0.98s INFO: DATA LOADED FROM SOURCE bhs4 AND ANNOX -- FOR TASK can AT 2014-06-30T05-58-01\n"
       ]
      },
      {
       "output_type": "stream",
       "stream": "stderr",
       "text": [
        " 1m 14s DETAIL: WRITING prep: G.node_sort\n"
       ]
      },
      {
       "output_type": "stream",
       "stream": "stderr",
       "text": [
        " 1m 14s DETAIL: write prep: G.node_sort\n"
       ]
      },
      {
       "output_type": "stream",
       "stream": "stderr",
       "text": [
        " 1m 15s DETAIL: prep prep: G.node_sort_inv\n"
       ]
      },
      {
       "output_type": "stream",
       "stream": "stderr",
       "text": [
        " 1m 15s DETAIL: PREPARING prep: G.node_sort_inv\n"
       ]
      },
      {
       "output_type": "stream",
       "stream": "stderr",
       "text": [
        " 1m 15s DETAIL: WRITING prep: G.node_sort_inv\n"
       ]
      },
      {
       "output_type": "stream",
       "stream": "stderr",
       "text": [
        " 1m 15s DETAIL: write prep: G.node_sort_inv\n"
       ]
      },
      {
       "output_type": "stream",
       "stream": "stderr",
       "text": [
        " 1m 16s INFO: DATA LOADED FROM SOURCE bhs4 AND ANNOX -- FOR TASK can AT 2014-06-30T05-59-17\n"
       ]
      }
     ],
     "prompt_number": 2
    },
    {
     "cell_type": "code",
     "collapsed": false,
     "input": [
      "px = PX(API)\n",
      "px.deliver_annots('px/px_data', 'px', 'para', (('shebanq', 'px', 'number_in_ch'), ('shebanq', 'px', 'pargr')))"
     ],
     "language": "python",
     "metadata": {},
     "outputs": [
      {
       "output_type": "stream",
       "stream": "stderr",
       "text": [
        "12m 15s Making mappings between clause atoms in PX and nodes in LAF\n"
       ]
      },
      {
       "output_type": "stream",
       "stream": "stderr",
       "text": [
        "12m 17s End making mappings: 90197=90197 clauses\n"
       ]
      },
      {
       "output_type": "stream",
       "stream": "stderr",
       "text": [
        "12m 18s Read 90197 paragraph annotations\n"
       ]
      },
      {
       "output_type": "stream",
       "stream": "stderr",
       "text": [
        "12m 18s All label/line entries found in index\n"
       ]
      }
     ],
     "prompt_number": 3
    },
    {
     "cell_type": "heading",
     "level": 2,
     "metadata": {},
     "source": [
      "Checking: loading the new features"
     ]
    },
    {
     "cell_type": "code",
     "collapsed": false,
     "input": [
      "API=fabric.load('bhs4', 'px', 'can', {\n",
      "    \"xmlids\": {\"node\": False, \"edge\": False},\n",
      "    \"features\": ('''\n",
      "        otype number label\n",
      "        number_in_ch pargr\n",
      "    ''',\n",
      "    '''\n",
      "    '''),\n",
      "    \"prepare\": prepare,\n",
      "}, verbose='DETAIL')\n",
      "exec(fabric.localnames.format(var='fabric'))"
     ],
     "language": "python",
     "metadata": {},
     "outputs": [
      {
       "output_type": "stream",
       "stream": "stderr",
       "text": [
        "  0.00s LOADING API: please wait ... \n"
       ]
      },
      {
       "output_type": "stream",
       "stream": "stderr",
       "text": [
        "  0.00s DETAIL: COMPILING m: UP TO DATE\n"
       ]
      },
      {
       "output_type": "stream",
       "stream": "stderr",
       "text": [
        "  0.00s INFO: USING DATA COMPILED AT: 2014-06-30T05-57-52\n"
       ]
      },
      {
       "output_type": "stream",
       "stream": "stderr",
       "text": [
        "  0.00s BEGIN COMPILE a: px\n"
       ]
      },
      {
       "output_type": "stream",
       "stream": "stderr",
       "text": [
        "  0.01s DETAIL: load main: X. [node]  -> \n"
       ]
      },
      {
       "output_type": "stream",
       "stream": "stderr",
       "text": [
        "  1.47s DETAIL: load main: X. [e]  -> \n"
       ]
      },
      {
       "output_type": "stream",
       "stream": "stderr",
       "text": [
        "  3.77s DETAIL: load main: G.node_anchor_min\n"
       ]
      },
      {
       "output_type": "stream",
       "stream": "stderr",
       "text": [
        "  3.84s DETAIL: load main: G.node_anchor_max\n"
       ]
      },
      {
       "output_type": "stream",
       "stream": "stderr",
       "text": [
        "  3.89s DETAIL: load main: G.node_sort\n"
       ]
      },
      {
       "output_type": "stream",
       "stream": "stderr",
       "text": [
        "  3.95s DETAIL: load main: G.node_sort_inv\n"
       ]
      },
      {
       "output_type": "stream",
       "stream": "stderr",
       "text": [
        "  4.78s DETAIL: load main: G.edges_from\n"
       ]
      },
      {
       "output_type": "stream",
       "stream": "stderr",
       "text": [
        "  4.87s DETAIL: load main: G.edges_to\n"
       ]
      },
      {
       "output_type": "stream",
       "stream": "stderr",
       "text": [
        "  4.97s PARSING ANNOTATION FILES\n"
       ]
      },
      {
       "output_type": "stream",
       "stream": "stderr",
       "text": [
        "  8.92s INFO: parsing para.xml\n"
       ]
      },
      {
       "output_type": "stream",
       "stream": "stderr",
       "text": [
        "    12s INFO: END PARSING\n",
        "         0 good   regions  and     0 faulty ones\n",
        "         0 linked nodes    and     0 unlinked ones\n",
        "         0 good   edges    and     0 faulty ones\n",
        "     90197 good   annots   and     0 faulty ones\n",
        "    180394 good   features and     0 faulty ones\n",
        "     90197 distinct xml identifiers\n",
        "\n"
       ]
      },
      {
       "output_type": "stream",
       "stream": "stderr",
       "text": [
        "    12s MODELING RESULT FILES\n"
       ]
      },
      {
       "output_type": "stream",
       "stream": "stderr",
       "text": [
        "    12s INFO: CONNECTIVITY\n"
       ]
      },
      {
       "output_type": "stream",
       "stream": "stderr",
       "text": [
        "    13s WRITING RESULT FILES for a\n"
       ]
      },
      {
       "output_type": "stream",
       "stream": "stderr",
       "text": [
        "    13s DETAIL: write annox: F.shebanq_px_number_in_ch [node] \n"
       ]
      },
      {
       "output_type": "stream",
       "stream": "stderr",
       "text": [
        "    13s DETAIL: write annox: F.shebanq_px_pargr [node] \n"
       ]
      },
      {
       "output_type": "stream",
       "stream": "stderr",
       "text": [
        "    13s END   COMPILE a: px\n"
       ]
      },
      {
       "output_type": "stream",
       "stream": "stderr",
       "text": [
        "    13s INFO: USING DATA COMPILED AT: 2014-06-27T14-22-14\n"
       ]
      },
      {
       "output_type": "stream",
       "stream": "stderr",
       "text": [
        "    13s DETAIL: keep main: G.node_anchor_min\n"
       ]
      },
      {
       "output_type": "stream",
       "stream": "stderr",
       "text": [
        "    13s DETAIL: keep main: G.node_anchor_max\n"
       ]
      },
      {
       "output_type": "stream",
       "stream": "stderr",
       "text": [
        "    13s DETAIL: keep main: G.node_sort\n"
       ]
      },
      {
       "output_type": "stream",
       "stream": "stderr",
       "text": [
        "    13s DETAIL: keep main: G.node_sort_inv\n"
       ]
      },
      {
       "output_type": "stream",
       "stream": "stderr",
       "text": [
        "    13s DETAIL: keep main: G.edges_from\n"
       ]
      },
      {
       "output_type": "stream",
       "stream": "stderr",
       "text": [
        "    13s DETAIL: keep main: G.edges_to\n"
       ]
      },
      {
       "output_type": "stream",
       "stream": "stderr",
       "text": [
        "    13s DETAIL: keep main: F.shebanq_db_otype [node] \n"
       ]
      },
      {
       "output_type": "stream",
       "stream": "stderr",
       "text": [
        "    13s DETAIL: clear main: F.shebanq_db_monads [node] \n"
       ]
      },
      {
       "output_type": "stream",
       "stream": "stderr",
       "text": [
        "    13s DETAIL: load main: F.shebanq_ft_number [node] \n"
       ]
      },
      {
       "output_type": "stream",
       "stream": "stderr",
       "text": [
        "    13s DETAIL: load main: F.shebanq_px_number_in_ch [node] \n"
       ]
      },
      {
       "output_type": "stream",
       "stream": "stderr",
       "text": [
        "    13s DETAIL: load main: F.shebanq_px_pargr [node] \n"
       ]
      },
      {
       "output_type": "stream",
       "stream": "stderr",
       "text": [
        "    13s DETAIL: load main: F.shebanq_sft_label [node] \n"
       ]
      },
      {
       "output_type": "stream",
       "stream": "stderr",
       "text": [
        "    13s DETAIL: load annox: F.shebanq_db_otype [node] \n"
       ]
      },
      {
       "output_type": "stream",
       "stream": "stderr",
       "text": [
        "    13s DETAIL: load annox: F.shebanq_ft_number [node] \n"
       ]
      },
      {
       "output_type": "stream",
       "stream": "stderr",
       "text": [
        "    13s DETAIL: load annox: F.shebanq_px_number_in_ch [node] \n"
       ]
      },
      {
       "output_type": "stream",
       "stream": "stderr",
       "text": [
        "    13s DETAIL: load annox: F.shebanq_px_pargr [node] \n"
       ]
      },
      {
       "output_type": "stream",
       "stream": "stderr",
       "text": [
        "    13s DETAIL: load annox: F.shebanq_sft_label [node] \n"
       ]
      },
      {
       "output_type": "stream",
       "stream": "stderr",
       "text": [
        "    13s LOGFILE=/Users/dirk/laf-fabric-output/bhs4/can/__log__can.txt\n"
       ]
      },
      {
       "output_type": "stream",
       "stream": "stderr",
       "text": [
        "    13s DETAIL: prep prep: G.node_sort\n"
       ]
      },
      {
       "output_type": "stream",
       "stream": "stderr",
       "text": [
        "    13s DETAIL: prep prep: G.node_sort_inv\n"
       ]
      },
      {
       "output_type": "stream",
       "stream": "stderr",
       "text": [
        "    14s INFO: DATA LOADED FROM SOURCE bhs4 AND ANNOX px FOR TASK can AT 2014-06-30T06-12-00\n"
       ]
      }
     ],
     "prompt_number": 4
    },
    {
     "cell_type": "heading",
     "level": 2,
     "metadata": {},
     "source": [
      "Inspecting all objects that got new features"
     ]
    },
    {
     "cell_type": "code",
     "collapsed": false,
     "input": [
      "ph = outfile('paras.txt')\n",
      "cur_label = None\n",
      "for n in NN():\n",
      "    otype = F.otype.v(n)\n",
      "    if otype == 'verse':\n",
      "        cur_label = F.label.v(n)\n",
      "    elif otype == 'clause_atom':\n",
      "        nm = F.number_in_ch.v(n)\n",
      "        if nm:\n",
      "            ph.write(\"{}: {}: para = {}\\n\".format(cur_label, nm, F.pargr.v(n)))\n",
      "ph.close()"
     ],
     "language": "python",
     "metadata": {},
     "outputs": [],
     "prompt_number": 5
    },
    {
     "cell_type": "code",
     "collapsed": false,
     "input": [
      "!head -n 100 {my_file('paras.txt')}"
     ],
     "language": "python",
     "metadata": {},
     "outputs": [
      {
       "output_type": "stream",
       "stream": "stdout",
       "text": [
        " GEN 01,01: 1: para = 1\r\n",
        " GEN 01,02: 2: para = 1.1\r\n",
        " GEN 01,02: 3: para = 1.1\r\n",
        " GEN 01,02: 4: para = 1.1\r\n",
        " GEN 01,03: 5: para = 1.2\r\n",
        " GEN 01,03: 6: para = 1.2.1\r\n",
        " GEN 01,03: 7: para = 1.2.2\r\n",
        " GEN 01,04: 8: para = 1.2.3\r\n",
        " GEN 01,04: 9: para = 1.2.3\r\n",
        " GEN 01,04: 10: para = 1.2.4\r\n",
        " GEN 01,05: 11: para = 1.2.5\r\n",
        " GEN 01,05: 12: para = 1.2.5\r\n",
        " GEN 01,05: 13: para = 1.2.5.1\r\n",
        " GEN 01,05: 14: para = 1.2.5.2\r\n",
        " GEN 01,05: 15: para = 1.2.5.2\r\n",
        " GEN 01,06: 16: para = 1.3\r\n",
        " GEN 01,06: 17: para = 1.3.1\r\n",
        " GEN 01,06: 18: para = 1.3.1\r\n",
        " GEN 01,07: 19: para = 1.3.2\r\n",
        " GEN 01,07: 20: para = 1.3.2\r\n",
        " GEN 01,07: 21: para = 1.3.2\r\n",
        " GEN 01,07: 22: para = 1.3.2\r\n",
        " GEN 01,07: 23: para = 1.3.2\r\n",
        " GEN 01,07: 24: para = 1.3.2\r\n",
        " GEN 01,08: 25: para = 1.3.2.1\r\n",
        " GEN 01,08: 26: para = 1.3.2.1.1\r\n",
        " GEN 01,08: 27: para = 1.3.2.1.2\r\n",
        " GEN 01,08: 28: para = 1.3.2.1.2\r\n",
        " GEN 01,09: 29: para = 1.4\r\n",
        " GEN 01,09: 30: para = 1.4.1\r\n",
        " GEN 01,09: 31: para = 1.4.1\r\n",
        " GEN 01,09: 32: para = 1.4\r\n",
        " GEN 01,10: 33: para = 1.4.2\r\n",
        " GEN 01,10: 34: para = 1.4.2\r\n",
        " GEN 01,10: 35: para = 1.4.3\r\n",
        " GEN 01,10: 36: para = 1.4.3\r\n",
        " GEN 01,11: 37: para = 1.5\r\n",
        " GEN 01,11: 38: para = 1.5.1\r\n",
        " GEN 01,11: 39: para = 1.5.1\r\n",
        " GEN 01,11: 40: para = 1.5.1\r\n",
        " GEN 01,11: 41: para = 1.5.1\r\n",
        " GEN 01,11: 42: para = 1.5.1\r\n",
        " GEN 01,11: 43: para = 1.5.1\r\n",
        " GEN 01,11: 44: para = 1.5\r\n",
        " GEN 01,12: 45: para = 1.5.2\r\n",
        " GEN 01,12: 46: para = 1.5.2\r\n",
        " GEN 01,12: 47: para = 1.5.2\r\n",
        " GEN 01,12: 48: para = 1.5.2\r\n",
        " GEN 01,12: 49: para = 1.5.2\r\n",
        " GEN 01,12: 50: para = 1.5.2\r\n",
        " GEN 01,12: 51: para = 1.5.3\r\n",
        " GEN 01,12: 52: para = 1.5.3\r\n",
        " GEN 01,13: 53: para = 1.5.3.1\r\n",
        " GEN 01,13: 54: para = 1.5.3.2\r\n",
        " GEN 01,13: 55: para = 1.5.3.2\r\n",
        " GEN 01,14: 56: para = 1.6\r\n",
        " GEN 01,14: 57: para = 1.6.1\r\n",
        " GEN 01,14: 58: para = 1.6.1\r\n",
        " GEN 01,14: 59: para = 1.6.1\r\n",
        " GEN 01,15: 60: para = 1.6.1\r\n",
        " GEN 01,15: 61: para = 1.6.1\r\n",
        " GEN 01,15: 62: para = 1.6\r\n",
        " GEN 01,16: 63: para = 1.6.2\r\n",
        " GEN 01,16: 64: para = 1.6.2\r\n",
        " GEN 01,16: 65: para = 1.6.2\r\n",
        " GEN 01,16: 66: para = 1.6.2\r\n",
        " GEN 01,17: 67: para = 1.6.2.1\r\n",
        " GEN 01,17: 68: para = 1.6.2.1\r\n",
        " GEN 01,18: 69: para = 1.6.2.1\r\n",
        " GEN 01,18: 70: para = 1.6.2.1\r\n",
        " GEN 01,18: 71: para = 1.6.3\r\n",
        " GEN 01,18: 72: para = 1.6.3\r\n",
        " GEN 01,19: 73: para = 1.6.3.1\r\n",
        " GEN 01,19: 74: para = 1.6.3.2\r\n",
        " GEN 01,19: 75: para = 1.6.3.2\r\n",
        " GEN 01,20: 76: para = 1.7\r\n",
        " GEN 01,20: 77: para = 1.7.1\r\n",
        " GEN 01,20: 78: para = 1.7.1\r\n",
        " GEN 01,21: 79: para = 1.7.2\r\n",
        " GEN 01,21: 80: para = 1.7.2\r\n",
        " GEN 01,21: 81: para = 1.7.2\r\n",
        " GEN 01,21: 82: para = 1.7.2\r\n",
        " GEN 01,21: 83: para = 1.7.2\r\n",
        " GEN 01,21: 84: para = 1.7.2\r\n",
        " GEN 01,21: 85: para = 1.7.3\r\n",
        " GEN 01,21: 86: para = 1.7.3\r\n",
        " GEN 01,22: 87: para = 1.7.3.1\r\n",
        " GEN 01,22: 88: para = 1.7.3.1\r\n",
        " GEN 01,22: 89: para = 1.7.3.1.1\r\n",
        " GEN 01,22: 90: para = 1.7.3.1.1\r\n",
        " GEN 01,22: 91: para = 1.7.3.1.1\r\n",
        " GEN 01,22: 92: para = 1.7.3.1.1\r\n",
        " GEN 01,23: 93: para = 1.7.3.2\r\n",
        " GEN 01,23: 94: para = 1.7.3.3\r\n",
        " GEN 01,23: 95: para = 1.7.3.3\r\n",
        " GEN 01,24: 96: para = 1.8\r\n",
        " GEN 01,24: 97: para = 1.8.1\r\n",
        " GEN 01,24: 98: para = 1.8.1\r\n",
        " GEN 01,24: 99: para = 1.8\r\n",
        " GEN 01,25: 100: para = 1.8.2\r\n"
       ]
      }
     ],
     "prompt_number": 6
    },
    {
     "cell_type": "code",
     "collapsed": false,
     "input": [],
     "language": "python",
     "metadata": {},
     "outputs": []
    }
   ],
   "metadata": {}
  }
 ]
}