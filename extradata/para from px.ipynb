{
 "metadata": {
  "name": "",
  "signature": "sha256:f7db09484ddc9d988ec349b1b3e18c1bf69a0e40ded015599ca82da82f295139"
 },
 "nbformat": 3,
 "nbformat_minor": 0,
 "worksheets": [
  {
   "cells": [
    {
     "cell_type": "markdown",
     "metadata": {},
     "source": [
      "<a href=\"http://laf-fabric.readthedocs.org/en/latest/\" target=\"_blank\"><img align=\"left\" src=\"images/laf-fabric-xsmall.png\"/></a>\n",
      "<a href=\"http://www.godgeleerdheid.vu.nl/etcbc\" target=\"_blank\"><img align=\"left\" src=\"images/VU-ETCBC-xsmall.png\"/></a>\n",
      "<a href=\"http://www.persistent-identifier.nl/?identifier=urn%3Anbn%3Anl%3Aui%3A13-048i-71\" target=\"_blank\"><img align=\"left\"src=\"images/etcbc4easy-small.png\"/></a>\n",
      "<a href=\"http://tla.mpi.nl\" target=\"_blank\"><img align=\"right\" src=\"images/TLA-xsmall.png\"/></a>\n",
      "<a href=\"http://www.dans.knaw.nl\" target=\"_blank\"><img align=\"right\"src=\"images/DANS-xsmall.png\"/></a>"
     ]
    },
    {
     "cell_type": "heading",
     "level": 1,
     "metadata": {},
     "source": [
      "Paragraphs from the px files"
     ]
    },
    {
     "cell_type": "code",
     "collapsed": false,
     "input": [
      "import re\n",
      "from IPython.display import display, HTML, FileLinks\n",
      "%load_ext autoreload\n",
      "%autoreload 2\n",
      "import laf\n",
      "from laf.fabric import LafFabric\n",
      "from etcbc.preprocess import prepare\n",
      "from etcbc.extra import ExtraData\n",
      "fabric = LafFabric()"
     ],
     "language": "python",
     "metadata": {},
     "outputs": [
      {
       "output_type": "stream",
       "stream": "stderr",
       "text": [
        "  0.00s This is LAF-Fabric 4.4.6\n",
        "API reference: http://laf-fabric.readthedocs.org/en/latest/texts/API-reference.html\n",
        "Feature doc: http://shebanq-doc.readthedocs.org/en/latest/texts/welcome.html\n",
        "\n"
       ]
      }
     ],
     "prompt_number": 2
    },
    {
     "cell_type": "heading",
     "level": 2,
     "metadata": {},
     "source": [
      "Create annotations from px file"
     ]
    },
    {
     "cell_type": "code",
     "collapsed": false,
     "input": [
      "API=fabric.load('etcbc4s', '--', 'can', {\n",
      "    \"xmlids\": {\"node\": True, \"edge\": False},\n",
      "    \"features\": ('''\n",
      "        otype monads number label\n",
      "    ''',\n",
      "    '''\n",
      "    '''),\n",
      "    \"prepare\": prepare,\n",
      "}, verbose='DETAIL')\n",
      "exec(fabric.localnames.format(var='fabric'))"
     ],
     "language": "python",
     "metadata": {},
     "outputs": [
      {
       "output_type": "stream",
       "stream": "stderr",
       "text": [
        "  0.00s LOADING API: please wait ... \n"
       ]
      },
      {
       "output_type": "stream",
       "stream": "stderr",
       "text": [
        "  0.00s DETAIL: COMPILING m: UP TO DATE\n"
       ]
      },
      {
       "output_type": "stream",
       "stream": "stderr",
       "text": [
        "  0.10s INFO: USING DATA COMPILED AT: 2014-10-23T15-58-52\n"
       ]
      },
      {
       "output_type": "stream",
       "stream": "stderr",
       "text": [
        "  0.10s DETAIL: COMPILING a: UP TO DATE\n"
       ]
      },
      {
       "output_type": "stream",
       "stream": "stderr",
       "text": [
        "  0.11s DETAIL: load main: G.node_anchor_min\n"
       ]
      },
      {
       "output_type": "stream",
       "stream": "stderr",
       "text": [
        "  0.82s DETAIL: load main: G.node_anchor_max\n"
       ]
      },
      {
       "output_type": "stream",
       "stream": "stderr",
       "text": [
        "  0.88s DETAIL: load main: G.node_sort\n"
       ]
      },
      {
       "output_type": "stream",
       "stream": "stderr",
       "text": [
        "  0.94s DETAIL: load main: G.node_sort_inv\n"
       ]
      },
      {
       "output_type": "stream",
       "stream": "stderr",
       "text": [
        "  1.39s DETAIL: load main: G.edges_from\n"
       ]
      },
      {
       "output_type": "stream",
       "stream": "stderr",
       "text": [
        "  1.47s DETAIL: load main: G.edges_to\n"
       ]
      },
      {
       "output_type": "stream",
       "stream": "stderr",
       "text": [
        "  1.55s DETAIL: load main: X. [node]  -> \n"
       ]
      },
      {
       "output_type": "stream",
       "stream": "stderr",
       "text": [
        "  2.81s DETAIL: load main: X. [node]  <- \n"
       ]
      },
      {
       "output_type": "stream",
       "stream": "stderr",
       "text": [
        "  3.50s DETAIL: load main: F.etcbc4_db_monads [node] \n"
       ]
      },
      {
       "output_type": "stream",
       "stream": "stderr",
       "text": [
        "  4.23s DETAIL: load main: F.etcbc4_db_otype [node] \n"
       ]
      },
      {
       "output_type": "stream",
       "stream": "stderr",
       "text": [
        "  4.88s DETAIL: load main: F.etcbc4_ft_number [node] \n"
       ]
      },
      {
       "output_type": "stream",
       "stream": "stderr",
       "text": [
        "  5.34s DETAIL: load main: F.etcbc4_sft_label [node] \n"
       ]
      },
      {
       "output_type": "stream",
       "stream": "stderr",
       "text": [
        "  5.37s LOGFILE=/Users/dirk/laf-fabric-output/etcbc4s/can/__log__can.txt\n"
       ]
      },
      {
       "output_type": "stream",
       "stream": "stderr",
       "text": [
        "  5.37s DETAIL: prep prep: G.node_sort\n"
       ]
      },
      {
       "output_type": "stream",
       "stream": "stderr",
       "text": [
        "  5.37s DETAIL: PREPARING prep: G.node_sort\n"
       ]
      },
      {
       "output_type": "stream",
       "stream": "stderr",
       "text": [
        "  0.00s LOADING API with EXTRAs: please wait ... \n"
       ]
      },
      {
       "output_type": "stream",
       "stream": "stderr",
       "text": [
        "  0.00s DETAIL: COMPILING m: UP TO DATE\n"
       ]
      },
      {
       "output_type": "stream",
       "stream": "stderr",
       "text": [
        "  0.00s INFO: USING DATA COMPILED AT: 2014-10-23T15-58-52\n"
       ]
      },
      {
       "output_type": "stream",
       "stream": "stderr",
       "text": [
        "  0.00s DETAIL: COMPILING a: UP TO DATE\n"
       ]
      },
      {
       "output_type": "stream",
       "stream": "stderr",
       "text": [
        "  0.00s DETAIL: keep main: G.node_anchor_min\n"
       ]
      },
      {
       "output_type": "stream",
       "stream": "stderr",
       "text": [
        "  0.01s DETAIL: keep main: G.node_anchor_max\n"
       ]
      },
      {
       "output_type": "stream",
       "stream": "stderr",
       "text": [
        "  0.01s DETAIL: keep main: G.node_sort\n"
       ]
      },
      {
       "output_type": "stream",
       "stream": "stderr",
       "text": [
        "  0.01s DETAIL: keep main: G.node_sort_inv\n"
       ]
      },
      {
       "output_type": "stream",
       "stream": "stderr",
       "text": [
        "  0.01s DETAIL: keep main: G.edges_from\n"
       ]
      },
      {
       "output_type": "stream",
       "stream": "stderr",
       "text": [
        "  0.01s DETAIL: keep main: G.edges_to\n"
       ]
      },
      {
       "output_type": "stream",
       "stream": "stderr",
       "text": [
        "  0.01s DETAIL: keep main: F.etcbc4_db_monads [node] \n"
       ]
      },
      {
       "output_type": "stream",
       "stream": "stderr",
       "text": [
        "  0.01s DETAIL: keep main: F.etcbc4_db_otype [node] \n"
       ]
      },
      {
       "output_type": "stream",
       "stream": "stderr",
       "text": [
        "  0.01s INFO: DATA LOADED FROM SOURCE etcbc4s AND ANNOX -- FOR TASK can AT 2014-10-24T08-59-59\n"
       ]
      },
      {
       "output_type": "stream",
       "stream": "stderr",
       "text": [
        " 1m 20s DETAIL: WRITING prep: G.node_sort\n"
       ]
      },
      {
       "output_type": "stream",
       "stream": "stderr",
       "text": [
        " 1m 20s DETAIL: write prep: G.node_sort\n"
       ]
      },
      {
       "output_type": "stream",
       "stream": "stderr",
       "text": [
        " 1m 21s DETAIL: prep prep: G.node_sort_inv\n"
       ]
      },
      {
       "output_type": "stream",
       "stream": "stderr",
       "text": [
        " 1m 21s DETAIL: PREPARING prep: G.node_sort_inv\n"
       ]
      },
      {
       "output_type": "stream",
       "stream": "stderr",
       "text": [
        " 1m 21s DETAIL: WRITING prep: G.node_sort_inv\n"
       ]
      },
      {
       "output_type": "stream",
       "stream": "stderr",
       "text": [
        " 1m 21s DETAIL: write prep: G.node_sort_inv\n"
       ]
      },
      {
       "output_type": "stream",
       "stream": "stderr",
       "text": [
        " 1m 22s INFO: DATA LOADED FROM SOURCE etcbc4s AND ANNOX -- FOR TASK can AT 2014-10-24T09-01-21\n"
       ]
      }
     ],
     "prompt_number": 2
    },
    {
     "cell_type": "heading",
     "level": 1,
     "metadata": {},
     "source": [
      "Method to read px data"
     ]
    },
    {
     "cell_type": "code",
     "collapsed": false,
     "input": [
      "def read_px(px_file):\n",
      "    msg(\"Making mappings between clause atoms in PX and nodes in LAF\")\n",
      "    ca_labn2id = {}\n",
      "    ca_id2labn = {}\n",
      "    for n in NN():\n",
      "        otype = F.otype.v(n)\n",
      "        if otype == 'verse':\n",
      "            cur_label = F.label.v(n)\n",
      "        elif otype == 'chapter':\n",
      "            cur_subtract += cur_chapter_cas\n",
      "            cur_chapter_cas = 0\n",
      "        elif otype == 'book':\n",
      "            cur_subtract = 0\n",
      "            cur_chapter_cas = 0\n",
      "        elif otype == 'clause_atom':\n",
      "            cur_chapter_cas += 1\n",
      "            nm = int(F.number.v(n)) - cur_subtract\n",
      "            ca_labn2id[(cur_label, nm)] = n\n",
      "            ca_id2labn[n] = (cur_label, nm)\n",
      "    msg(\"End making mappings: {}={} clauses\".format(len(ca_labn2id), len(ca_id2labn)))\n",
      "\n",
      "    data = []\n",
      "    not_found = set()\n",
      "    px_handle = open(px_file)\n",
      "    ln = 0\n",
      "    can = 0\n",
      "    featurescan = re.compile(r'0 0 (..) [0-9]+ LineNr\\s*([0-9]+).*?Pargr:\\s*([0-9.]+)')\n",
      "    cur_label = None\n",
      "    data = []\n",
      "    for line in px_handle:\n",
      "        ln += 1\n",
      "        if line.strip()[0] != '*':\n",
      "            cur_label = line[0:10]\n",
      "            continue\n",
      "        can += 1\n",
      "        features = featurescan.findall(line)\n",
      "        if len(features) == 0:\n",
      "            msg(\"Warning: line {}: no instruction, LineNr, Pargr found\".format(ln))\n",
      "        elif len(features) > 1:\n",
      "            msg(\"Warning: line {}: multiple instruction, LineNr, Pargr found\".format(ln))\n",
      "        else:\n",
      "            feature = features[0]\n",
      "            the_ins = feature[0]\n",
      "            the_n = feature[1]\n",
      "            the_para = feature[2]\n",
      "            labn = (cur_label, int(the_n))\n",
      "            if labn not in ca_labn2id:\n",
      "                not_found.add(labn)\n",
      "                continue\n",
      "            data.append((ca_labn2id[labn], the_ins, the_n, the_para))\n",
      "    px_handle.close()\n",
      "    msg(\"Read {} paragraph annotations\".format(len(data)))\n",
      "    if not_found:\n",
      "        msg(\"Could not find {} label/line entries in index: {}\".format(len(not_found), sorted({lab for lab in not_found})))\n",
      "    else:\n",
      "        msg(\"All label/line entries found in index\")\n",
      "    return data\n"
     ],
     "language": "python",
     "metadata": {},
     "outputs": [],
     "prompt_number": 5
    },
    {
     "cell_type": "markdown",
     "metadata": {},
     "source": [
      "# Integrating the px data\n",
      "\n"
     ]
    },
    {
     "cell_type": "code",
     "collapsed": false,
     "input": [
      "px = ExtraData(API)\n",
      "px.deliver_annots('px/px_data.etcbc4s', 'px', 'para', read_px, (\n",
      "        ('etcbc4', 'px', 'instruction'),\n",
      "        ('etcbc4', 'px', 'number_in_ch'),\n",
      "        ('etcbc4', 'px', 'pargr'),\n",
      "    ),\n",
      "    {'title': 'Paragraph numbers', 'date': '2014'},\n",
      ")"
     ],
     "language": "python",
     "metadata": {},
     "outputs": [
      {
       "output_type": "stream",
       "stream": "stderr",
       "text": [
        " 7m 03s Making mappings between clause atoms in PX and nodes in LAF\n"
       ]
      },
      {
       "output_type": "stream",
       "stream": "stderr",
       "text": [
        " 7m 05s End making mappings: 90209=90209 clauses\n"
       ]
      },
      {
       "output_type": "stream",
       "stream": "stderr",
       "text": [
        " 7m 06s Read 89928 paragraph annotations\n"
       ]
      },
      {
       "output_type": "stream",
       "stream": "stderr",
       "text": [
        " 7m 06s Could not find 303 label/line entries in index: [(' EZE 07,13', 60), (' EZE 07,13', 61), (' EZE 07,14', 64), (' EZE 07,14', 65), (' EZE 07,15', 70), (' EZE 07,15', 71), (' EZE 07,16', 73), (' EZE 07,16', 74), (' EZE 07,17', 75), (' EZE 07,17', 76), (' EZE 07,18', 79), (' EZE 07,18', 80), (' EZE 07,19', 86), (' EZE 07,19', 87), (' EZE 07,20', 90), (' EZE 07,20', 91), (' EZE 07,21', 93), (' EZE 07,21', 94), (' EZE 07,22', 97), (' EZE 07,22', 98), (' EZE 07,23', 100), (' EZE 07,23', 101), (' EZE 07,24', 104), (' EZE 07,24', 105), (' EZE 07,25', 107), (' EZE 07,25', 108), (' EZE 07,26', 112), (' EZE 07,26', 113), (' EZE 07,27', 119), (' EZE 07,27', 120), (' ICHR12,19', 52), (' ICHR12,19', 53), (' ICHR12,20', 58), (' ICHR12,20', 59), (' ICHR12,21', 62), (' ICHR12,21', 63), (' ICHR12,22', 65), (' ICHR12,22', 66), (' ICHR12,23', 68), (' ICHR12,23', 69), (' ICHR12,24', 71), (' ICHR12,24', 72), (' ICHR12,25', 75), (' ICHR12,25', 76), (' ICHR12,26', 77), (' ICHR12,26', 78), (' ICHR12,27', 79), (' ICHR12,27', 80), (' ICHR12,28', 81), (' ICHR12,28', 82), (' ICHR12,29', 83), (' ICHR12,29', 84), (' ICHR12,30', 86), (' ICHR12,30', 87), (' ICHR12,31', 89), (' ICHR12,31', 90), (' ICHR12,32', 94), (' ICHR12,32', 95), (' ICHR12,33', 100), (' ICHR12,33', 101), (' ICHR12,34', 105), (' ICHR12,34', 106), (' ICHR12,35', 107), (' ICHR12,35', 108), (' ICHR12,36', 110), (' ICHR12,36', 111), (' ICHR12,37', 114), (' ICHR12,37', 115), (' ICHR12,38', 116), (' ICHR12,38', 117), (' ICHR12,39', 121), (' ICHR12,39', 122), (' ICHR12,40', 125), (' ICHR12,40', 126), (' ICHR12,41', 130), (' ICHR12,41', 131), (' ICHR16,28', 65), (' ICHR16,29', 69), (' ICHR16,30', 73), (' ICHR16,31', 77), (' ICHR16,32', 80), (' ICHR16,33', 83), (' ICHR16,34', 86), (' ICHR16,35', 92), (' ICHR16,35', 93), (' ICHR16,36', 96), (' ICHR16,36', 97), (' ICHR16,37', 98), (' ICHR16,37', 99), (' ICHR16,38', 100), (' ICHR16,38', 101), (' ICHR16,39', 102), (' ICHR16,39', 103), (' ICHR16,40', 106), (' ICHR16,40', 107), (' ICHR16,41', 111), (' ICHR16,41', 112), (' ICHR16,42', 114), (' ICHR16,42', 115), (' ICHR16,43', 117), (' ICHR16,43', 118), (' ICHR17,16', 76), (' ICHR17,17', 81), (' ICHR17,18', 83), (' ICHR17,19', 86), (' ICHR17,20', 90), (' ICHR17,21', 98), (' ICHR17,22', 100), (' ICHR17,22', 101), (' ICHR17,22', 102), (' ICHR17,23', 107), (' ICHR17,23', 108), (' ICHR17,23', 109), (' ICHR17,24', 112), (' ICHR17,24', 113), (' ICHR17,24', 114), (' ICHR17,25', 118), (' ICHR17,25', 119), (' ICHR17,25', 120), (' ICHR17,26', 123), (' ICHR17,26', 124), (' ICHR17,26', 125), (' ICHR17,27', 129), (' ICHR17,27', 130), (' ICHR17,27', 131), (' ICHR17,27', 132), (' ICHR17,27', 133), (' ICHR22,11', 51), (' ICHR22,12', 54), (' ICHR22,13', 62), (' ICHR22,14', 68), (' ICHR22,15', 69), (' ICHR22,16', 73), (' ICHR22,17', 75), (' ICHR22,18', 79), (' ICHR22,19', 85), (' ICHR28,09', 49), (' ICHR28,10', 54), (' ICHR28,11', 55), (' ICHR28,12', 58), (' ICHR28,13', 59), (' ICHR28,14', 62), (' ICHR28,15', 64), (' ICHR28,16', 65), (' ICHR28,17', 68), (' ICHR28,18', 72), (' ICHR28,19', 75), (' ICHR28,20', 85), (' ICHR28,21', 89), (' ICHR29,10', 33), (' ICHR29,10', 34), (' ICHR29,11', 41), (' ICHR29,11', 42), (' ICHR29,12', 47), (' ICHR29,12', 48), (' ICHR29,13', 51), (' ICHR29,13', 52), (' ICHR29,14', 58), (' ICHR29,14', 59), (' ICHR29,15', 62), (' ICHR29,15', 63), (' ICHR29,16', 68), (' ICHR29,16', 69), (' ICHR29,17', 78), (' ICHR29,17', 79), (' ICHR29,18', 81), (' ICHR29,18', 82), (' ICHR29,19', 86), (' ICHR29,19', 87), (' ICHR29,20', 91), (' ICHR29,20', 92), (' ICHR29,21', 95), (' ICHR29,21', 96), (' ICHR29,22', 99), (' ICHR29,22', 100), (' ICHR29,23', 102), (' ICHR29,23', 103), (' ICHR29,24', 104), (' ICHR29,25', 106), (' ICHR29,25', 107), (' ICHR29,26', 108), (' ICHR29,27', 112), (' ICHR29,27', 113), (' ICHR29,28', 114), (' ICHR29,28', 115), (' ICHR29,29', 116), (' ICHR29,29', 117), (' ICHR29,30', 118), (' ICHR29,30', 119), ('IICHR03,03', 11), ('IICHR03,04', 16), ('IICHR03,05', 19), ('IICHR03,06', 21), ('IICHR03,07', 23), ('IICHR03,08', 27), ('IICHR03,09', 29), ('IICHR03,10', 31), ('IICHR03,11', 37), ('IICHR03,12', 41), ('IICHR03,13', 45), ('IICHR03,14', 47), ('IICHR03,15', 52), ('IICHR03,16', 56), ('IICHR03,17', 61), ('IICHR06,40', 205), ('IICHR06,41', 214), ('IICHR06,42', 217), ('IICHR13,04', 13), ('IICHR13,05', 17), ('IICHR13,06', 19), ('IICHR13,07', 23), ('IICHR13,08', 29), ('IICHR13,09', 36), ('IICHR13,10', 43), ('IICHR13,11', 48), ('IICHR13,12', 55), ('IICHR13,13', 59), ('IICHR13,14', 64), ('IICHR13,15', 68), ('IICHR13,16', 70), ('IICHR13,17', 72), ('IICHR13,18', 75), ('IICHR13,19', 78), ('IICHR13,20', 81), ('IICHR13,21', 84), ('IICHR13,22', 85), ('IICHR13,23', 89), ('IICHR18,27', 142), ('IICHR18,28', 143), ('IICHR18,29', 149), ('IICHR18,30', 154), ('IICHR18,31', 163), ('IICHR18,32', 167), ('IICHR18,33', 173), ('IICHR18,34', 179), ('IICHR20,07', 31), ('IICHR20,08', 34), ('IICHR20,09', 40), ('IICHR20,10', 47), ('IICHR20,11', 52), ('IICHR20,12', 59), ('IICHR20,13', 61), ('IICHR20,14', 63), ('IICHR20,15', 70), ('IICHR20,15', 71), ('IICHR20,16', 73), ('IICHR20,16', 74), ('IICHR20,17', 83), ('IICHR20,17', 84), ('IICHR20,18', 86), ('IICHR20,18', 87), ('IICHR20,19', 88), ('IICHR20,19', 89), ('IICHR20,20', 98), ('IICHR20,20', 99), ('IICHR20,20', 100), ('IICHR20,21', 104), ('IICHR20,21', 105), ('IICHR20,21', 106), ('IICHR20,22', 109), ('IICHR20,22', 110), ('IICHR20,22', 111), ('IICHR20,23', 114), ('IICHR20,23', 115), ('IICHR20,23', 116), ('IICHR20,24', 119), ('IICHR20,24', 120), ('IICHR20,24', 121), ('IICHR20,25', 127), ('IICHR20,25', 128), ('IICHR20,25', 129), ('IICHR20,26', 131), ('IICHR20,26', 132), ('IICHR20,26', 133), ('IICHR20,27', 135), ('IICHR20,27', 136), ('IICHR20,27', 137), ('IICHR20,28', 138), ('IICHR20,29', 139), ('IICHR20,29', 140), ('IICHR20,29', 141), ('IICHR20,30', 142), ('IICHR20,30', 143), ('IICHR20,31', 146), ('IICHR20,31', 147), ('IICHR20,31', 148), ('IICHR20,32', 150), ('IICHR20,32', 151), ('IICHR20,32', 152), ('IICHR20,33', 153), ('IICHR20,33', 154), ('IICHR20,34', 155), ('IICHR20,34', 156), ('IICHR20,34', 157), ('IICHR20,35', 158), ('IICHR20,35', 159), ('IICHR20,35', 160), ('IICHR20,36', 162), ('IICHR20,36', 163), ('IICHR20,36', 164), ('IICHR20,37', 169), ('IICHR20,37', 170), ('IICHR20,37', 171)]\n"
       ]
      }
     ],
     "prompt_number": 6
    },
    {
     "cell_type": "heading",
     "level": 2,
     "metadata": {},
     "source": [
      "Checking: loading the new features"
     ]
    },
    {
     "cell_type": "code",
     "collapsed": false,
     "input": [
      "API=fabric.load('etcbc4s', 'px', 'can', {\n",
      "    \"xmlids\": {\"node\": False, \"edge\": False},\n",
      "    \"features\": ('''\n",
      "        otype number label\n",
      "        instruction number_in_ch pargr\n",
      "    ''',\n",
      "    '''\n",
      "    '''),\n",
      "    \"prepare\": prepare,\n",
      "}, verbose='DETAIL')\n",
      "exec(fabric.localnames.format(var='fabric'))"
     ],
     "language": "python",
     "metadata": {},
     "outputs": [
      {
       "output_type": "stream",
       "stream": "stderr",
       "text": [
        "  0.00s LOADING API: please wait ... \n"
       ]
      },
      {
       "output_type": "stream",
       "stream": "stderr",
       "text": [
        "  0.00s DETAIL: COMPILING m: UP TO DATE\n"
       ]
      },
      {
       "output_type": "stream",
       "stream": "stderr",
       "text": [
        "  0.10s INFO: USING DATA COMPILED AT: 2014-10-23T15-58-52\n"
       ]
      },
      {
       "output_type": "stream",
       "stream": "stderr",
       "text": [
        "  0.10s BEGIN COMPILE a: px\n"
       ]
      },
      {
       "output_type": "stream",
       "stream": "stderr",
       "text": [
        "  0.10s DETAIL: load main: X. [node]  -> \n"
       ]
      },
      {
       "output_type": "stream",
       "stream": "stderr",
       "text": [
        "  1.37s DETAIL: load main: X. [e]  -> \n"
       ]
      },
      {
       "output_type": "stream",
       "stream": "stderr",
       "text": [
        "  3.17s DETAIL: load main: G.node_anchor_min\n"
       ]
      },
      {
       "output_type": "stream",
       "stream": "stderr",
       "text": [
        "  3.23s DETAIL: load main: G.node_anchor_max\n"
       ]
      },
      {
       "output_type": "stream",
       "stream": "stderr",
       "text": [
        "  3.28s DETAIL: load main: G.node_sort\n"
       ]
      },
      {
       "output_type": "stream",
       "stream": "stderr",
       "text": [
        "  3.33s DETAIL: load main: G.node_sort_inv\n"
       ]
      },
      {
       "output_type": "stream",
       "stream": "stderr",
       "text": [
        "  3.74s DETAIL: load main: G.edges_from\n"
       ]
      },
      {
       "output_type": "stream",
       "stream": "stderr",
       "text": [
        "  3.80s DETAIL: load main: G.edges_to\n"
       ]
      },
      {
       "output_type": "stream",
       "stream": "stderr",
       "text": [
        "  3.88s LOGFILE=/Users/dirk/laf-fabric-data/etcbc4s/bin/A/px/__log__compile__.txt\n"
       ]
      },
      {
       "output_type": "stream",
       "stream": "stderr",
       "text": [
        "  3.88s PARSING ANNOTATION FILES\n"
       ]
      },
      {
       "output_type": "stream",
       "stream": "stderr",
       "text": [
        "  3.89s INFO: parsing para.xml\n"
       ]
      },
      {
       "output_type": "stream",
       "stream": "stderr",
       "text": [
        "  8.35s INFO: END PARSING\n",
        "         0 good   regions  and     0 faulty ones\n",
        "         0 linked nodes    and     0 unlinked ones\n",
        "         0 good   edges    and     0 faulty ones\n",
        "     89928 good   annots   and     0 faulty ones\n",
        "    269784 good   features and     0 faulty ones\n",
        "     89928 distinct xml identifiers\n",
        "\n"
       ]
      },
      {
       "output_type": "stream",
       "stream": "stderr",
       "text": [
        "  8.35s MODELING RESULT FILES\n"
       ]
      },
      {
       "output_type": "stream",
       "stream": "stderr",
       "text": [
        "  8.35s INFO: CONNECTIVITY\n"
       ]
      },
      {
       "output_type": "stream",
       "stream": "stderr",
       "text": [
        "  8.60s WRITING RESULT FILES for a\n"
       ]
      },
      {
       "output_type": "stream",
       "stream": "stderr",
       "text": [
        "  8.60s DETAIL: write annox: F.etcbc4_px_instruction [node] \n"
       ]
      },
      {
       "output_type": "stream",
       "stream": "stderr",
       "text": [
        "  8.69s DETAIL: write annox: F.etcbc4_px_number_in_ch [node] \n"
       ]
      },
      {
       "output_type": "stream",
       "stream": "stderr",
       "text": [
        "  8.76s DETAIL: write annox: F.etcbc4_px_pargr [node] \n"
       ]
      },
      {
       "output_type": "stream",
       "stream": "stderr",
       "text": [
        "  8.82s END   COMPILE a: px\n"
       ]
      },
      {
       "output_type": "stream",
       "stream": "stderr",
       "text": [
        "  8.82s INFO: USING DATA COMPILED AT: 2014-10-24T09-17-42\n"
       ]
      },
      {
       "output_type": "stream",
       "stream": "stderr",
       "text": [
        "  8.90s DETAIL: load main: G.node_anchor_min\n"
       ]
      },
      {
       "output_type": "stream",
       "stream": "stderr",
       "text": [
        "  8.95s DETAIL: load main: G.node_anchor_max\n"
       ]
      },
      {
       "output_type": "stream",
       "stream": "stderr",
       "text": [
        "  9.01s DETAIL: load main: G.node_sort\n"
       ]
      },
      {
       "output_type": "stream",
       "stream": "stderr",
       "text": [
        "  9.06s DETAIL: load main: G.node_sort_inv\n"
       ]
      },
      {
       "output_type": "stream",
       "stream": "stderr",
       "text": [
        "  9.49s DETAIL: load main: G.edges_from\n"
       ]
      },
      {
       "output_type": "stream",
       "stream": "stderr",
       "text": [
        "  9.55s DETAIL: load main: G.edges_to\n"
       ]
      },
      {
       "output_type": "stream",
       "stream": "stderr",
       "text": [
        "  9.63s DETAIL: load main: F.etcbc4_db_otype [node] \n"
       ]
      },
      {
       "output_type": "stream",
       "stream": "stderr",
       "text": [
        "    10s DETAIL: load main: F.etcbc4_ft_number [node] \n"
       ]
      },
      {
       "output_type": "stream",
       "stream": "stderr",
       "text": [
        "    11s DETAIL: load main: F.etcbc4_px_instruction [node] \n"
       ]
      },
      {
       "output_type": "stream",
       "stream": "stderr",
       "text": [
        "    11s DETAIL: load main: F.etcbc4_px_number_in_ch [node] \n"
       ]
      },
      {
       "output_type": "stream",
       "stream": "stderr",
       "text": [
        "    11s DETAIL: load main: F.etcbc4_px_pargr [node] \n"
       ]
      },
      {
       "output_type": "stream",
       "stream": "stderr",
       "text": [
        "    11s DETAIL: load main: F.etcbc4_sft_label [node] \n"
       ]
      },
      {
       "output_type": "stream",
       "stream": "stderr",
       "text": [
        "    11s DETAIL: load annox: F.etcbc4_db_otype [node] \n"
       ]
      },
      {
       "output_type": "stream",
       "stream": "stderr",
       "text": [
        "    11s DETAIL: load annox: F.etcbc4_ft_number [node] \n"
       ]
      },
      {
       "output_type": "stream",
       "stream": "stderr",
       "text": [
        "    11s DETAIL: load annox: F.etcbc4_px_instruction [node] \n"
       ]
      },
      {
       "output_type": "stream",
       "stream": "stderr",
       "text": [
        "    11s DETAIL: load annox: F.etcbc4_px_number_in_ch [node] \n"
       ]
      },
      {
       "output_type": "stream",
       "stream": "stderr",
       "text": [
        "    11s DETAIL: load annox: F.etcbc4_px_pargr [node] \n"
       ]
      },
      {
       "output_type": "stream",
       "stream": "stderr",
       "text": [
        "    11s DETAIL: load annox: F.etcbc4_sft_label [node] \n"
       ]
      },
      {
       "output_type": "stream",
       "stream": "stderr",
       "text": [
        "    11s LOGFILE=/Users/dirk/laf-fabric-output/etcbc4s/can/__log__can.txt\n"
       ]
      },
      {
       "output_type": "stream",
       "stream": "stderr",
       "text": [
        "    11s DETAIL: prep prep: G.node_sort\n"
       ]
      },
      {
       "output_type": "stream",
       "stream": "stderr",
       "text": [
        "    11s DETAIL: prep prep: G.node_sort_inv\n"
       ]
      },
      {
       "output_type": "stream",
       "stream": "stderr",
       "text": [
        "    12s INFO: DATA LOADED FROM SOURCE etcbc4s AND ANNOX px FOR TASK can AT 2014-10-24T09-17-45\n"
       ]
      }
     ],
     "prompt_number": 3
    },
    {
     "cell_type": "heading",
     "level": 2,
     "metadata": {},
     "source": [
      "Inspecting all objects that got new features"
     ]
    },
    {
     "cell_type": "code",
     "collapsed": false,
     "input": [
      "ph = outfile('paras.txt')\n",
      "cur_label = None\n",
      "for n in NN():\n",
      "    otype = F.otype.v(n)\n",
      "    if otype == 'verse':\n",
      "        cur_label = F.label.v(n)\n",
      "    elif otype == 'clause_atom':\n",
      "        nm = F.number_in_ch.v(n)\n",
      "        if nm:\n",
      "            ph.write(\"{}: instruction = {}; {}; para = {}\\n\".format(cur_label, nm, F.instruction.v(n), F.pargr.v(n)))\n",
      "ph.close()"
     ],
     "language": "python",
     "metadata": {},
     "outputs": [],
     "prompt_number": 4
    },
    {
     "cell_type": "code",
     "collapsed": false,
     "input": [
      "!head -n 100 {my_file('paras.txt')}"
     ],
     "language": "python",
     "metadata": {},
     "outputs": [
      {
       "output_type": "stream",
       "stream": "stdout",
       "text": [
        " GEN 01,01: instruction = 1; .N; para = 1\r\n",
        " GEN 01,02: instruction = 2; .#; para = 1.1\r\n",
        " GEN 01,02: instruction = 3; ..; para = 1.1\r\n",
        " GEN 01,02: instruction = 4; ..; para = 1.1\r\n",
        " GEN 01,03: instruction = 5; .#; para = 1.2\r\n",
        " GEN 01,03: instruction = 6; .q; para = 1.2.1\r\n",
        " GEN 01,03: instruction = 7; .#; para = 1.2.2\r\n",
        " GEN 01,04: instruction = 8; .#; para = 1.2.3\r\n",
        " GEN 01,04: instruction = 9; ..; para = 1.2.3\r\n",
        " GEN 01,04: instruction = 10; .#; para = 1.2.4\r\n",
        " GEN 01,05: instruction = 11; .#; para = 1.2.5\r\n",
        " GEN 01,05: instruction = 12; ..; para = 1.2.5\r\n",
        " GEN 01,05: instruction = 13; .#; para = 1.2.5.1\r\n",
        " GEN 01,05: instruction = 14; .#; para = 1.2.5.2\r\n",
        " GEN 01,05: instruction = 15; ..; para = 1.2.5.2\r\n",
        " GEN 01,06: instruction = 16; .#; para = 1.3\r\n",
        " GEN 01,06: instruction = 17; .q; para = 1.3.1\r\n",
        " GEN 01,06: instruction = 18; ..; para = 1.3.1\r\n",
        " GEN 01,07: instruction = 19; .#; para = 1.3.2\r\n",
        " GEN 01,07: instruction = 20; ..; para = 1.3.2\r\n",
        " GEN 01,07: instruction = 21; .e; para = 1.3.2\r\n",
        " GEN 01,07: instruction = 22; d.; para = 1.3.2\r\n",
        " GEN 01,07: instruction = 23; ..; para = 1.3.2\r\n",
        " GEN 01,07: instruction = 24; ..; para = 1.3.2\r\n",
        " GEN 01,08: instruction = 25; .#; para = 1.3.2.1\r\n",
        " GEN 01,08: instruction = 26; .#; para = 1.3.2.1.1\r\n",
        " GEN 01,08: instruction = 27; .#; para = 1.3.2.1.2\r\n",
        " GEN 01,08: instruction = 28; ..; para = 1.3.2.1.2\r\n",
        " GEN 01,09: instruction = 29; .#; para = 1.4\r\n",
        " GEN 01,09: instruction = 30; .q; para = 1.4.1\r\n",
        " GEN 01,09: instruction = 31; ..; para = 1.4.1\r\n",
        " GEN 01,09: instruction = 32; ..; para = 1.4\r\n",
        " GEN 01,10: instruction = 33; .#; para = 1.4.2\r\n",
        " GEN 01,10: instruction = 34; ..; para = 1.4.2\r\n",
        " GEN 01,10: instruction = 35; .#; para = 1.4.3\r\n",
        " GEN 01,10: instruction = 36; ..; para = 1.4.3\r\n",
        " GEN 01,11: instruction = 37; .#; para = 1.5\r\n",
        " GEN 01,11: instruction = 38; .q; para = 1.5.1\r\n",
        " GEN 01,11: instruction = 39; .e; para = 1.5.1\r\n",
        " GEN 01,11: instruction = 40; d.; para = 1.5.1\r\n",
        " GEN 01,11: instruction = 41; ..; para = 1.5.1\r\n",
        " GEN 01,11: instruction = 42; .e; para = 1.5.1\r\n",
        " GEN 01,11: instruction = 43; d.; para = 1.5.1\r\n",
        " GEN 01,11: instruction = 44; ..; para = 1.5\r\n",
        " GEN 01,12: instruction = 45; .#; para = 1.5.2\r\n",
        " GEN 01,12: instruction = 46; .e; para = 1.5.2\r\n",
        " GEN 01,12: instruction = 47; d.; para = 1.5.2\r\n",
        " GEN 01,12: instruction = 48; ..; para = 1.5.2\r\n",
        " GEN 01,12: instruction = 49; .e; para = 1.5.2\r\n",
        " GEN 01,12: instruction = 50; d.; para = 1.5.2\r\n",
        " GEN 01,12: instruction = 51; .#; para = 1.5.3\r\n",
        " GEN 01,12: instruction = 52; ..; para = 1.5.3\r\n",
        " GEN 01,13: instruction = 53; .#; para = 1.5.3.1\r\n",
        " GEN 01,13: instruction = 54; .#; para = 1.5.3.2\r\n",
        " GEN 01,13: instruction = 55; ..; para = 1.5.3.2\r\n",
        " GEN 01,14: instruction = 56; .#; para = 1.6\r\n",
        " GEN 01,14: instruction = 57; .q; para = 1.6.1\r\n",
        " GEN 01,14: instruction = 58; ..; para = 1.6.1\r\n",
        " GEN 01,14: instruction = 59; ..; para = 1.6.1\r\n",
        " GEN 01,15: instruction = 60; ..; para = 1.6.1\r\n",
        " GEN 01,15: instruction = 61; ..; para = 1.6.1\r\n",
        " GEN 01,15: instruction = 62; ..; para = 1.6\r\n",
        " GEN 01,16: instruction = 63; .#; para = 1.6.2\r\n",
        " GEN 01,16: instruction = 64; l.; para = 1.6.2\r\n",
        " GEN 01,16: instruction = 65; l.; para = 1.6.2\r\n",
        " GEN 01,16: instruction = 66; l.; para = 1.6.2\r\n",
        " GEN 01,17: instruction = 67; .#; para = 1.6.2.1\r\n",
        " GEN 01,17: instruction = 68; ..; para = 1.6.2.1\r\n",
        " GEN 01,18: instruction = 69; ..; para = 1.6.2.1\r\n",
        " GEN 01,18: instruction = 70; ..; para = 1.6.2.1\r\n",
        " GEN 01,18: instruction = 71; .#; para = 1.6.3\r\n",
        " GEN 01,18: instruction = 72; ..; para = 1.6.3\r\n",
        " GEN 01,19: instruction = 73; .#; para = 1.6.3.1\r\n",
        " GEN 01,19: instruction = 74; .#; para = 1.6.3.2\r\n",
        " GEN 01,19: instruction = 75; ..; para = 1.6.3.2\r\n",
        " GEN 01,20: instruction = 76; .#; para = 1.7\r\n",
        " GEN 01,20: instruction = 77; .q; para = 1.7.1\r\n",
        " GEN 01,20: instruction = 78; ..; para = 1.7.1\r\n",
        " GEN 01,21: instruction = 79; .#; para = 1.7.2\r\n",
        " GEN 01,21: instruction = 80; ..; para = 1.7.2\r\n",
        " GEN 01,21: instruction = 81; ..; para = 1.7.2\r\n",
        " GEN 01,21: instruction = 82; .e; para = 1.7.2\r\n",
        " GEN 01,21: instruction = 83; d.; para = 1.7.2\r\n",
        " GEN 01,21: instruction = 84; l.; para = 1.7.2\r\n",
        " GEN 01,21: instruction = 85; .#; para = 1.7.3\r\n",
        " GEN 01,21: instruction = 86; ..; para = 1.7.3\r\n",
        " GEN 01,22: instruction = 87; .#; para = 1.7.3.1\r\n",
        " GEN 01,22: instruction = 88; ..; para = 1.7.3.1\r\n",
        " GEN 01,22: instruction = 89; .q; para = 1.7.3.1.1\r\n",
        " GEN 01,22: instruction = 90; ..; para = 1.7.3.1.1\r\n",
        " GEN 01,22: instruction = 91; ..; para = 1.7.3.1.1\r\n",
        " GEN 01,22: instruction = 92; ..; para = 1.7.3.1.1\r\n",
        " GEN 01,23: instruction = 93; .#; para = 1.7.3.2\r\n",
        " GEN 01,23: instruction = 94; .#; para = 1.7.3.3\r\n",
        " GEN 01,23: instruction = 95; ..; para = 1.7.3.3\r\n",
        " GEN 01,24: instruction = 96; .#; para = 1.8\r\n",
        " GEN 01,24: instruction = 97; .q; para = 1.8.1\r\n",
        " GEN 01,24: instruction = 98; l.; para = 1.8.1\r\n",
        " GEN 01,24: instruction = 99; ..; para = 1.8\r\n",
        " GEN 01,25: instruction = 100; .#; para = 1.8.2\r\n"
       ]
      }
     ],
     "prompt_number": 5
    },
    {
     "cell_type": "code",
     "collapsed": false,
     "input": [],
     "language": "python",
     "metadata": {},
     "outputs": []
    }
   ],
   "metadata": {}
  }
 ]
}