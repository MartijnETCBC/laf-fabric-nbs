{
 "metadata": {
  "name": "",
  "signature": "sha256:db952673bf25209671315472fa8ad3d79f49205b3e2abafff8bda1de5c989a81"
 },
 "nbformat": 3,
 "nbformat_minor": 0,
 "worksheets": [
  {
   "cells": [
    {
     "cell_type": "markdown",
     "metadata": {},
     "source": [
      "<a href=\"http://laf-fabric.readthedocs.org/en/latest/\" target=\"_blank\"><img align=\"left\" src=\"images/laf-fabric-xsmall.png\"/></a>\n",
      "<a href=\"http://www.godgeleerdheid.vu.nl/etcbc\" target=\"_blank\"><img align=\"left\" src=\"images/VU-ETCBC-xsmall.png\"/></a>\n",
      "<a href=\"http://tla.mpi.nl\" target=\"_blank\"><img align=\"right\" src=\"images/TLA-xsmall.png\"/></a>\n",
      "<a href=\"http://www.dans.knaw.nl\" target=\"_blank\"><img align=\"right\"src=\"images/DANS-xsmall.png\"/></a>"
     ]
    },
    {
     "cell_type": "heading",
     "level": 1,
     "metadata": {},
     "source": [
      "Paragraphs from the px files"
     ]
    },
    {
     "cell_type": "code",
     "collapsed": false,
     "input": [
      "from IPython.display import display, HTML, FileLinks\n",
      "%load_ext autoreload\n",
      "%autoreload 2\n",
      "import laf\n",
      "from laf.fabric import LafFabric\n",
      "from etcbc.preprocess import prepare\n",
      "from etcbc.px import PX\n",
      "fabric = LafFabric()"
     ],
     "language": "python",
     "metadata": {},
     "outputs": [
      {
       "output_type": "stream",
       "stream": "stderr",
       "text": [
        "  0.00s This is LAF-Fabric 4.3.2\n",
        "http://laf-fabric.readthedocs.org/en/latest/texts/API-reference.html\n"
       ]
      }
     ],
     "prompt_number": 1
    },
    {
     "cell_type": "heading",
     "level": 2,
     "metadata": {},
     "source": [
      "Create annotations from px file"
     ]
    },
    {
     "cell_type": "code",
     "collapsed": false,
     "input": [
      "API=fabric.load('bhs4', '--', 'can', {\n",
      "    \"xmlids\": {\"node\": True, \"edge\": False},\n",
      "    \"features\": ('''\n",
      "        otype number label\n",
      "    ''',\n",
      "    '''\n",
      "    '''),\n",
      "    \"prepare\": prepare,\n",
      "}, verbose='DETAIL')\n",
      "exec(fabric.localnames.format(var='fabric'))"
     ],
     "language": "python",
     "metadata": {},
     "outputs": [
      {
       "output_type": "stream",
       "stream": "stderr",
       "text": [
        "  0.00s LOADING API: please wait ... \n"
       ]
      },
      {
       "output_type": "stream",
       "stream": "stderr",
       "text": [
        "  0.01s DETAIL: COMPILING m: UP TO DATE\n"
       ]
      },
      {
       "output_type": "stream",
       "stream": "stderr",
       "text": [
        "  0.01s INFO: USING DATA COMPILED AT: 2014-06-30T05-57-52\n"
       ]
      },
      {
       "output_type": "stream",
       "stream": "stderr",
       "text": [
        "  0.01s DETAIL: COMPILING a: UP TO DATE\n"
       ]
      },
      {
       "output_type": "stream",
       "stream": "stderr",
       "text": [
        "  0.02s DETAIL: load main: G.node_anchor_min\n"
       ]
      },
      {
       "output_type": "stream",
       "stream": "stderr",
       "text": [
        "  0.38s DETAIL: load main: G.node_anchor_max\n"
       ]
      },
      {
       "output_type": "stream",
       "stream": "stderr",
       "text": [
        "  0.54s DETAIL: load main: G.node_sort\n"
       ]
      },
      {
       "output_type": "stream",
       "stream": "stderr",
       "text": [
        "  0.68s DETAIL: load main: G.node_sort_inv\n"
       ]
      },
      {
       "output_type": "stream",
       "stream": "stderr",
       "text": [
        "  1.51s DETAIL: load main: G.edges_from\n"
       ]
      },
      {
       "output_type": "stream",
       "stream": "stderr",
       "text": [
        "  1.70s DETAIL: load main: G.edges_to\n"
       ]
      },
      {
       "output_type": "stream",
       "stream": "stderr",
       "text": [
        "  1.89s DETAIL: load main: X. [node]  -> \n"
       ]
      },
      {
       "output_type": "stream",
       "stream": "stderr",
       "text": [
        "  4.50s DETAIL: load main: X. [node]  <- \n"
       ]
      },
      {
       "output_type": "stream",
       "stream": "stderr",
       "text": [
        "  6.37s DETAIL: load main: F.shebanq_db_otype [node] \n"
       ]
      },
      {
       "output_type": "stream",
       "stream": "stderr",
       "text": [
        "  9.15s DETAIL: load main: F.shebanq_ft_number [node] \n"
       ]
      },
      {
       "output_type": "stream",
       "stream": "stderr",
       "text": [
        "    10s DETAIL: load main: F.shebanq_sft_label [node] \n"
       ]
      },
      {
       "output_type": "stream",
       "stream": "stderr",
       "text": [
        "    10s LOGFILE=C:\\Users\\Gino/laf-fabric-output/bhs4/can/__log__can.txt\n"
       ]
      },
      {
       "output_type": "stream",
       "stream": "stderr",
       "text": [
        "    10s DETAIL: prep prep: G.node_sort\n"
       ]
      },
      {
       "output_type": "stream",
       "stream": "stderr",
       "text": [
        "    10s DETAIL: prep prep: G.node_sort_inv\n"
       ]
      },
      {
       "output_type": "stream",
       "stream": "stderr",
       "text": [
        "    11s INFO: DATA LOADED FROM SOURCE bhs4 AND ANNOX -- FOR TASK can AT 2014-07-04T14-29-24\n"
       ]
      }
     ],
     "prompt_number": 2
    },
    {
     "cell_type": "code",
     "collapsed": false,
     "input": [
      "px = PX(API)\n",
      "px.deliver_annots('px/px_data', 'px', 'para', (\n",
      "    ('shebanq', 'px', 'instruction'),\n",
      "    ('shebanq', 'px', 'number_in_ch'),\n",
      "    ('shebanq', 'px', 'pargr'),\n",
      "))"
     ],
     "language": "python",
     "metadata": {},
     "outputs": [
      {
       "output_type": "stream",
       "stream": "stderr",
       "text": [
        "    11s Making mappings between clause atoms in PX and nodes in LAF\n"
       ]
      },
      {
       "output_type": "stream",
       "stream": "stderr",
       "text": [
        "    14s End making mappings: 90197=90197 clauses\n"
       ]
      },
      {
       "output_type": "stream",
       "stream": "stderr",
       "text": [
        "    18s Read 90197 paragraph annotations\n"
       ]
      },
      {
       "output_type": "stream",
       "stream": "stderr",
       "text": [
        "    18s All label/line entries found in index\n"
       ]
      }
     ],
     "prompt_number": 3
    },
    {
     "cell_type": "heading",
     "level": 2,
     "metadata": {},
     "source": [
      "Checking: loading the new features"
     ]
    },
    {
     "cell_type": "code",
     "collapsed": false,
     "input": [
      "API=fabric.load('bhs4', 'px', 'can', {\n",
      "    \"xmlids\": {\"node\": False, \"edge\": False},\n",
      "    \"features\": ('''\n",
      "        otype number label\n",
      "        instruction number_in_ch pargr\n",
      "    ''',\n",
      "    '''\n",
      "    '''),\n",
      "    \"prepare\": prepare,\n",
      "}, verbose='DETAIL')\n",
      "exec(fabric.localnames.format(var='fabric'))"
     ],
     "language": "python",
     "metadata": {},
     "outputs": [
      {
       "output_type": "stream",
       "stream": "stderr",
       "text": [
        "  0.00s LOADING API: please wait ... \n"
       ]
      },
      {
       "output_type": "stream",
       "stream": "stderr",
       "text": [
        "  0.00s BEGIN COMPILE m: bhs4\n"
       ]
      },
      {
       "output_type": "stream",
       "stream": "stderr",
       "text": [
        "  0.01s LOGFILE=/Users/dirk/laf-fabric-data/bhs4/bin/__log__compile__.txt\n"
       ]
      },
      {
       "output_type": "stream",
       "stream": "stderr",
       "text": [
        "  0.01s PARSING ANNOTATION FILES\n"
       ]
      },
      {
       "output_type": "stream",
       "stream": "stderr",
       "text": [
        "  0.05s INFO: parsing bhs4_regions.xml\n"
       ]
      },
      {
       "output_type": "stream",
       "stream": "stderr",
       "text": [
        "  9.07s INFO: parsing bhs4_monads.xml\n"
       ]
      },
      {
       "output_type": "stream",
       "stream": "stderr",
       "text": [
        "    53s INFO: parsing bhs4_lingo.xml\n"
       ]
      },
      {
       "output_type": "stream",
       "stream": "stderr",
       "text": [
        " 2m 21s INFO: parsing bhs4_sections.xml\n"
       ]
      },
      {
       "output_type": "stream",
       "stream": "stderr",
       "text": [
        " 2m 32s INFO: parsing bhs4_monads.lex.xml\n"
       ]
      },
      {
       "output_type": "stream",
       "stream": "stderr",
       "text": [
        " 6m 09s INFO: parsing bhs4_lingo.c.xml\n"
       ]
      },
      {
       "output_type": "stream",
       "stream": "stderr",
       "text": [
        " 6m 41s INFO: parsing bhs4_lingo.p.xml\n"
       ]
      },
      {
       "output_type": "stream",
       "stream": "stderr",
       "text": [
        " 7m 18s INFO: parsing bhs4_lingo.pa.xml\n"
       ]
      },
      {
       "output_type": "stream",
       "stream": "stderr",
       "text": [
        " 8m 05s INFO: parsing bhs4_lingo.s.xml\n"
       ]
      },
      {
       "output_type": "stream",
       "stream": "stderr",
       "text": [
        " 8m 12s INFO: parsing bhs4_lingo.sp.xml\n"
       ]
      },
      {
       "output_type": "stream",
       "stream": "stderr",
       "text": [
        " 8m 19s INFO: END PARSING\n",
        "    800190 good   regions  and     0 faulty ones\n",
        "   1442030 linked nodes    and     0 unlinked ones\n",
        "   2224866 good   edges    and     0 faulty ones\n",
        "   5040102 good   annots   and     0 faulty ones\n",
        "  30708335 good   features and     0 faulty ones\n",
        "   9507188 distinct xml identifiers\n",
        "\n"
       ]
      },
      {
       "output_type": "stream",
       "stream": "stderr",
       "text": [
        " 8m 19s MODELING RESULT FILES\n"
       ]
      },
      {
       "output_type": "stream",
       "stream": "stderr",
       "text": [
        " 8m 19s INFO: XML-IDS (inverse mapping)\n"
       ]
      },
      {
       "output_type": "stream",
       "stream": "stderr",
       "text": [
        " 8m 22s INFO: NODES AND REGIONS\n"
       ]
      },
      {
       "output_type": "stream",
       "stream": "stderr",
       "text": [
        " 8m 22s INFO: NODES ANCHOR BOUNDARIES\n"
       ]
      },
      {
       "output_type": "stream",
       "stream": "stderr",
       "text": [
        " 8m 52s INFO: NODES SORTING BY REGIONS\n"
       ]
      },
      {
       "output_type": "stream",
       "stream": "stderr",
       "text": [
        " 8m 55s INFO: NODES EVENTS\n"
       ]
      },
      {
       "output_type": "stream",
       "stream": "stderr",
       "text": [
        " 9m 27s INFO: CONNECTIVITY\n"
       ]
      },
      {
       "output_type": "stream",
       "stream": "stderr",
       "text": [
        " 9m 31s WRITING RESULT FILES for m\n"
       ]
      },
      {
       "output_type": "stream",
       "stream": "stderr",
       "text": [
        " 9m 31s DETAIL: write main: C.laf__x <- \n"
       ]
      },
      {
       "output_type": "stream",
       "stream": "stderr",
       "text": [
        " 9m 31s DETAIL: write main: C.shebanq_ft_distributional_parent <- \n"
       ]
      },
      {
       "output_type": "stream",
       "stream": "stderr",
       "text": [
        " 9m 32s DETAIL: write main: C.shebanq_ft_functional_parent <- \n"
       ]
      },
      {
       "output_type": "stream",
       "stream": "stderr",
       "text": [
        " 9m 33s DETAIL: write main: C.shebanq_ft_mother <- \n"
       ]
      },
      {
       "output_type": "stream",
       "stream": "stderr",
       "text": [
        " 9m 33s DETAIL: write main: C.laf__x -> \n"
       ]
      },
      {
       "output_type": "stream",
       "stream": "stderr",
       "text": [
        " 9m 33s DETAIL: write main: C.shebanq_ft_distributional_parent -> \n"
       ]
      },
      {
       "output_type": "stream",
       "stream": "stderr",
       "text": [
        " 9m 34s DETAIL: write main: C.shebanq_ft_functional_parent -> \n"
       ]
      },
      {
       "output_type": "stream",
       "stream": "stderr",
       "text": [
        " 9m 35s DETAIL: write main: C.shebanq_ft_mother -> \n"
       ]
      },
      {
       "output_type": "stream",
       "stream": "stderr",
       "text": [
        " 9m 35s DETAIL: write main: F.shebanq_ft_distributional_parent [e] \n"
       ]
      },
      {
       "output_type": "stream",
       "stream": "stderr",
       "text": [
        " 9m 35s DETAIL: write main: F.shebanq_ft_functional_parent [e] \n"
       ]
      },
      {
       "output_type": "stream",
       "stream": "stderr",
       "text": [
        " 9m 35s DETAIL: write main: F.shebanq_ft_mother [e] \n"
       ]
      },
      {
       "output_type": "stream",
       "stream": "stderr",
       "text": [
        " 9m 35s DETAIL: write main: F.shebanq_db_maxmonad [node] \n"
       ]
      },
      {
       "output_type": "stream",
       "stream": "stderr",
       "text": [
        " 9m 37s DETAIL: write main: F.shebanq_db_minmonad [node] \n"
       ]
      },
      {
       "output_type": "stream",
       "stream": "stderr",
       "text": [
        " 9m 38s DETAIL: write main: F.shebanq_db_monads [node] \n"
       ]
      },
      {
       "output_type": "stream",
       "stream": "stderr",
       "text": [
        " 9m 40s DETAIL: write main: F.shebanq_db_oid [node] \n"
       ]
      },
      {
       "output_type": "stream",
       "stream": "stderr",
       "text": [
        " 9m 41s DETAIL: write main: F.shebanq_db_otype [node] \n"
       ]
      },
      {
       "output_type": "stream",
       "stream": "stderr",
       "text": [
        " 9m 42s DETAIL: write main: F.shebanq_ft_clause_kind [node] \n"
       ]
      },
      {
       "output_type": "stream",
       "stream": "stderr",
       "text": [
        " 9m 42s DETAIL: write main: F.shebanq_ft_code [node] \n"
       ]
      },
      {
       "output_type": "stream",
       "stream": "stderr",
       "text": [
        " 9m 42s DETAIL: write main: F.shebanq_ft_det [node] \n"
       ]
      },
      {
       "output_type": "stream",
       "stream": "stderr",
       "text": [
        " 9m 43s DETAIL: write main: F.shebanq_ft_dist [node] \n"
       ]
      },
      {
       "output_type": "stream",
       "stream": "stderr",
       "text": [
        " 9m 43s DETAIL: write main: F.shebanq_ft_dist_unit [node] \n"
       ]
      },
      {
       "output_type": "stream",
       "stream": "stderr",
       "text": [
        " 9m 44s DETAIL: write main: F.shebanq_ft_domain [node] \n"
       ]
      },
      {
       "output_type": "stream",
       "stream": "stderr",
       "text": [
        " 9m 44s DETAIL: write main: F.shebanq_ft_function [node] \n"
       ]
      },
      {
       "output_type": "stream",
       "stream": "stderr",
       "text": [
        " 9m 44s DETAIL: write main: F.shebanq_ft_g_cons [node] \n"
       ]
      },
      {
       "output_type": "stream",
       "stream": "stderr",
       "text": [
        " 9m 45s DETAIL: write main: F.shebanq_ft_g_cons_utf8 [node] \n"
       ]
      },
      {
       "output_type": "stream",
       "stream": "stderr",
       "text": [
        " 9m 46s DETAIL: write main: F.shebanq_ft_g_lex [node] \n"
       ]
      },
      {
       "output_type": "stream",
       "stream": "stderr",
       "text": [
        " 9m 47s DETAIL: write main: F.shebanq_ft_g_lex_utf8 [node] \n"
       ]
      },
      {
       "output_type": "stream",
       "stream": "stderr",
       "text": [
        " 9m 47s DETAIL: write main: F.shebanq_ft_g_nme [node] \n"
       ]
      },
      {
       "output_type": "stream",
       "stream": "stderr",
       "text": [
        " 9m 47s DETAIL: write main: F.shebanq_ft_g_nme_utf8 [node] \n"
       ]
      },
      {
       "output_type": "stream",
       "stream": "stderr",
       "text": [
        " 9m 48s DETAIL: write main: F.shebanq_ft_g_pfm [node] \n"
       ]
      },
      {
       "output_type": "stream",
       "stream": "stderr",
       "text": [
        " 9m 48s DETAIL: write main: F.shebanq_ft_g_pfm_utf8 [node] \n"
       ]
      },
      {
       "output_type": "stream",
       "stream": "stderr",
       "text": [
        " 9m 48s DETAIL: write main: F.shebanq_ft_g_prs [node] \n"
       ]
      },
      {
       "output_type": "stream",
       "stream": "stderr",
       "text": [
        " 9m 48s DETAIL: write main: F.shebanq_ft_g_prs_utf8 [node] \n"
       ]
      },
      {
       "output_type": "stream",
       "stream": "stderr",
       "text": [
        " 9m 48s DETAIL: write main: F.shebanq_ft_g_uvf [node] \n"
       ]
      },
      {
       "output_type": "stream",
       "stream": "stderr",
       "text": [
        " 9m 48s DETAIL: write main: F.shebanq_ft_g_uvf_utf8 [node] \n"
       ]
      },
      {
       "output_type": "stream",
       "stream": "stderr",
       "text": [
        " 9m 48s DETAIL: write main: F.shebanq_ft_g_vbe [node] \n"
       ]
      },
      {
       "output_type": "stream",
       "stream": "stderr",
       "text": [
        " 9m 49s DETAIL: write main: F.shebanq_ft_g_vbe_utf8 [node] \n"
       ]
      },
      {
       "output_type": "stream",
       "stream": "stderr",
       "text": [
        " 9m 49s DETAIL: write main: F.shebanq_ft_g_vbs [node] \n"
       ]
      },
      {
       "output_type": "stream",
       "stream": "stderr",
       "text": [
        " 9m 49s DETAIL: write main: F.shebanq_ft_g_vbs_utf8 [node] \n"
       ]
      },
      {
       "output_type": "stream",
       "stream": "stderr",
       "text": [
        " 9m 49s DETAIL: write main: F.shebanq_ft_g_word [node] \n"
       ]
      },
      {
       "output_type": "stream",
       "stream": "stderr",
       "text": [
        " 9m 50s DETAIL: write main: F.shebanq_ft_g_word_utf8 [node] \n"
       ]
      },
      {
       "output_type": "stream",
       "stream": "stderr",
       "text": [
        " 9m 50s DETAIL: write main: F.shebanq_ft_gn [node] \n"
       ]
      },
      {
       "output_type": "stream",
       "stream": "stderr",
       "text": [
        " 9m 50s DETAIL: write main: F.shebanq_ft_is_root [node] \n"
       ]
      },
      {
       "output_type": "stream",
       "stream": "stderr",
       "text": [
        " 9m 51s DETAIL: write main: F.shebanq_ft_language [node] \n"
       ]
      },
      {
       "output_type": "stream",
       "stream": "stderr",
       "text": [
        " 9m 51s DETAIL: write main: F.shebanq_ft_lex [node] \n"
       ]
      },
      {
       "output_type": "stream",
       "stream": "stderr",
       "text": [
        " 9m 51s DETAIL: write main: F.shebanq_ft_lex_utf8 [node] \n"
       ]
      },
      {
       "output_type": "stream",
       "stream": "stderr",
       "text": [
        " 9m 52s DETAIL: write main: F.shebanq_ft_ls [node] \n"
       ]
      },
      {
       "output_type": "stream",
       "stream": "stderr",
       "text": [
        " 9m 52s DETAIL: write main: F.shebanq_ft_mother_object_type [node] \n"
       ]
      },
      {
       "output_type": "stream",
       "stream": "stderr",
       "text": [
        " 9m 52s DETAIL: write main: F.shebanq_ft_nme [node] \n"
       ]
      },
      {
       "output_type": "stream",
       "stream": "stderr",
       "text": [
        " 9m 53s DETAIL: write main: F.shebanq_ft_nu [node] \n"
       ]
      },
      {
       "output_type": "stream",
       "stream": "stderr",
       "text": [
        " 9m 53s DETAIL: write main: F.shebanq_ft_number [node] \n"
       ]
      },
      {
       "output_type": "stream",
       "stream": "stderr",
       "text": [
        " 9m 54s DETAIL: write main: F.shebanq_ft_pdp [node] \n"
       ]
      },
      {
       "output_type": "stream",
       "stream": "stderr",
       "text": [
        " 9m 54s DETAIL: write main: F.shebanq_ft_pfm [node] \n"
       ]
      },
      {
       "output_type": "stream",
       "stream": "stderr",
       "text": [
        " 9m 55s DETAIL: write main: F.shebanq_ft_prs [node] \n"
       ]
      },
      {
       "output_type": "stream",
       "stream": "stderr",
       "text": [
        " 9m 55s DETAIL: write main: F.shebanq_ft_ps [node] \n"
       ]
      },
      {
       "output_type": "stream",
       "stream": "stderr",
       "text": [
        " 9m 55s DETAIL: write main: F.shebanq_ft_rela [node] \n"
       ]
      },
      {
       "output_type": "stream",
       "stream": "stderr",
       "text": [
        " 9m 56s DETAIL: write main: F.shebanq_ft_sp [node] \n"
       ]
      },
      {
       "output_type": "stream",
       "stream": "stderr",
       "text": [
        " 9m 56s DETAIL: write main: F.shebanq_ft_st [node] \n"
       ]
      },
      {
       "output_type": "stream",
       "stream": "stderr",
       "text": [
        " 9m 57s DETAIL: write main: F.shebanq_ft_tab [node] \n"
       ]
      },
      {
       "output_type": "stream",
       "stream": "stderr",
       "text": [
        " 9m 57s DETAIL: write main: F.shebanq_ft_trailer_utf8 [node] \n"
       ]
      },
      {
       "output_type": "stream",
       "stream": "stderr",
       "text": [
        " 9m 57s DETAIL: write main: F.shebanq_ft_txt [node] \n"
       ]
      },
      {
       "output_type": "stream",
       "stream": "stderr",
       "text": [
        " 9m 57s DETAIL: write main: F.shebanq_ft_typ [node] \n"
       ]
      },
      {
       "output_type": "stream",
       "stream": "stderr",
       "text": [
        " 9m 58s DETAIL: write main: F.shebanq_ft_uvf [node] \n"
       ]
      },
      {
       "output_type": "stream",
       "stream": "stderr",
       "text": [
        " 9m 58s DETAIL: write main: F.shebanq_ft_vbe [node] \n"
       ]
      },
      {
       "output_type": "stream",
       "stream": "stderr",
       "text": [
        " 9m 58s DETAIL: write main: F.shebanq_ft_vbs [node] \n"
       ]
      },
      {
       "output_type": "stream",
       "stream": "stderr",
       "text": [
        " 9m 59s DETAIL: write main: F.shebanq_ft_vs [node] \n"
       ]
      },
      {
       "output_type": "stream",
       "stream": "stderr",
       "text": [
        " 9m 59s DETAIL: write main: F.shebanq_ft_vt [node] \n"
       ]
      },
      {
       "output_type": "stream",
       "stream": "stderr",
       "text": [
        " 9m 59s DETAIL: write main: F.shebanq_sft_book [node] \n"
       ]
      },
      {
       "output_type": "stream",
       "stream": "stderr",
       "text": [
        " 9m 59s DETAIL: write main: F.shebanq_sft_chapter [node] \n"
       ]
      },
      {
       "output_type": "stream",
       "stream": "stderr",
       "text": [
        " 9m 59s DETAIL: write main: F.shebanq_sft_half_verse [node] \n"
       ]
      },
      {
       "output_type": "stream",
       "stream": "stderr",
       "text": [
        " 9m 59s DETAIL: write main: F.shebanq_sft_label [node] \n"
       ]
      },
      {
       "output_type": "stream",
       "stream": "stderr",
       "text": [
        "10m 00s DETAIL: write main: F.shebanq_sft_verse [node] \n"
       ]
      },
      {
       "output_type": "stream",
       "stream": "stderr",
       "text": [
        "10m 00s DETAIL: write main: G.edges_from\n"
       ]
      },
      {
       "output_type": "stream",
       "stream": "stderr",
       "text": [
        "10m 00s DETAIL: write main: G.edges_to\n"
       ]
      },
      {
       "output_type": "stream",
       "stream": "stderr",
       "text": [
        "10m 00s DETAIL: write main: G.node_anchor_max\n"
       ]
      },
      {
       "output_type": "stream",
       "stream": "stderr",
       "text": [
        "10m 00s DETAIL: write main: G.node_anchor_min\n"
       ]
      },
      {
       "output_type": "stream",
       "stream": "stderr",
       "text": [
        "10m 00s DETAIL: write main: G.node_sort\n"
       ]
      },
      {
       "output_type": "stream",
       "stream": "stderr",
       "text": [
        "10m 01s DETAIL: write main: G.node_sort_inv\n"
       ]
      },
      {
       "output_type": "stream",
       "stream": "stderr",
       "text": [
        "10m 01s DETAIL: write main: P.node_anchor\n"
       ]
      },
      {
       "output_type": "stream",
       "stream": "stderr",
       "text": [
        "10m 02s DETAIL: write main: P.node_anchor_items\n"
       ]
      },
      {
       "output_type": "stream",
       "stream": "stderr",
       "text": [
        "10m 03s DETAIL: write main: P.node_events\n"
       ]
      },
      {
       "output_type": "stream",
       "stream": "stderr",
       "text": [
        "10m 03s DETAIL: write main: P.node_events_items\n"
       ]
      },
      {
       "output_type": "stream",
       "stream": "stderr",
       "text": [
        "10m 04s DETAIL: write main: P.node_events_k\n"
       ]
      },
      {
       "output_type": "stream",
       "stream": "stderr",
       "text": [
        "10m 04s DETAIL: write main: P.node_events_n\n"
       ]
      },
      {
       "output_type": "stream",
       "stream": "stderr",
       "text": [
        "10m 05s DETAIL: write main: P.primary_data\n"
       ]
      },
      {
       "output_type": "stream",
       "stream": "stderr",
       "text": [
        "10m 07s DETAIL: write main: X. [e]  <- \n"
       ]
      },
      {
       "output_type": "stream",
       "stream": "stderr",
       "text": [
        "10m 09s DETAIL: write main: X. [e]  -> \n"
       ]
      },
      {
       "output_type": "stream",
       "stream": "stderr",
       "text": [
        "10m 12s DETAIL: write main: X. [node]  <- \n"
       ]
      },
      {
       "output_type": "stream",
       "stream": "stderr",
       "text": [
        "10m 13s DETAIL: write main: X. [node]  -> \n"
       ]
      },
      {
       "output_type": "stream",
       "stream": "stderr",
       "text": [
        "10m 16s END   COMPILE m: bhs4\n"
       ]
      },
      {
       "output_type": "stream",
       "stream": "stderr",
       "text": [
        "10m 16s INFO: USING DATA COMPILED AT: 2014-07-07T07-58-10\n"
       ]
      },
      {
       "output_type": "stream",
       "stream": "stderr",
       "text": [
        "10m 16s BEGIN COMPILE a: px\n"
       ]
      },
      {
       "output_type": "stream",
       "stream": "stderr",
       "text": [
        "10m 16s DETAIL: load main: X. [node]  -> \n"
       ]
      },
      {
       "output_type": "stream",
       "stream": "stderr",
       "text": [
        "10m 17s DETAIL: load main: X. [e]  -> \n"
       ]
      },
      {
       "output_type": "stream",
       "stream": "stderr",
       "text": [
        "10m 20s DETAIL: load main: G.node_anchor_min\n"
       ]
      },
      {
       "output_type": "stream",
       "stream": "stderr",
       "text": [
        "10m 20s DETAIL: load main: G.node_anchor_max\n"
       ]
      },
      {
       "output_type": "stream",
       "stream": "stderr",
       "text": [
        "10m 20s DETAIL: load main: G.node_sort\n"
       ]
      },
      {
       "output_type": "stream",
       "stream": "stderr",
       "text": [
        "10m 20s DETAIL: load main: G.node_sort_inv\n"
       ]
      },
      {
       "output_type": "stream",
       "stream": "stderr",
       "text": [
        "10m 21s DETAIL: load main: G.edges_from\n"
       ]
      },
      {
       "output_type": "stream",
       "stream": "stderr",
       "text": [
        "10m 21s DETAIL: load main: G.edges_to\n"
       ]
      },
      {
       "output_type": "stream",
       "stream": "stderr",
       "text": [
        "10m 21s LOGFILE=/Users/dirk/laf-fabric-data/bhs4/bin/A/px/__log__compile__.txt\n"
       ]
      },
      {
       "output_type": "stream",
       "stream": "stderr",
       "text": [
        "10m 21s PARSING ANNOTATION FILES\n"
       ]
      },
      {
       "output_type": "stream",
       "stream": "stderr",
       "text": [
        "10m 22s INFO: parsing para.xml\n"
       ]
      },
      {
       "output_type": "stream",
       "stream": "stderr",
       "text": [
        "10m 27s INFO: END PARSING\n",
        "         0 good   regions  and     0 faulty ones\n",
        "         0 linked nodes    and     0 unlinked ones\n",
        "         0 good   edges    and     0 faulty ones\n",
        "     90197 good   annots   and     0 faulty ones\n",
        "    270591 good   features and     0 faulty ones\n",
        "     90197 distinct xml identifiers\n",
        "\n"
       ]
      },
      {
       "output_type": "stream",
       "stream": "stderr",
       "text": [
        "10m 27s MODELING RESULT FILES\n"
       ]
      },
      {
       "output_type": "stream",
       "stream": "stderr",
       "text": [
        "10m 27s INFO: CONNECTIVITY\n"
       ]
      },
      {
       "output_type": "stream",
       "stream": "stderr",
       "text": [
        "10m 27s WRITING RESULT FILES for a\n"
       ]
      },
      {
       "output_type": "stream",
       "stream": "stderr",
       "text": [
        "10m 27s DETAIL: write annox: F.shebanq_px_instruction [node] \n"
       ]
      },
      {
       "output_type": "stream",
       "stream": "stderr",
       "text": [
        "10m 27s DETAIL: write annox: F.shebanq_px_number_in_ch [node] \n"
       ]
      },
      {
       "output_type": "stream",
       "stream": "stderr",
       "text": [
        "10m 27s DETAIL: write annox: F.shebanq_px_pargr [node] \n"
       ]
      },
      {
       "output_type": "stream",
       "stream": "stderr",
       "text": [
        "10m 27s END   COMPILE a: px\n"
       ]
      },
      {
       "output_type": "stream",
       "stream": "stderr",
       "text": [
        "10m 27s INFO: USING DATA COMPILED AT: 2014-07-07T07-58-22\n"
       ]
      },
      {
       "output_type": "stream",
       "stream": "stderr",
       "text": [
        "10m 34s DETAIL: load main: G.node_anchor_min\n"
       ]
      },
      {
       "output_type": "stream",
       "stream": "stderr",
       "text": [
        "10m 34s DETAIL: load main: G.node_anchor_max\n"
       ]
      },
      {
       "output_type": "stream",
       "stream": "stderr",
       "text": [
        "10m 34s DETAIL: load main: G.node_sort\n"
       ]
      },
      {
       "output_type": "stream",
       "stream": "stderr",
       "text": [
        "10m 34s DETAIL: load main: G.node_sort_inv\n"
       ]
      },
      {
       "output_type": "stream",
       "stream": "stderr",
       "text": [
        "10m 34s DETAIL: load main: G.edges_from\n"
       ]
      },
      {
       "output_type": "stream",
       "stream": "stderr",
       "text": [
        "10m 34s DETAIL: load main: G.edges_to\n"
       ]
      },
      {
       "output_type": "stream",
       "stream": "stderr",
       "text": [
        "10m 35s DETAIL: load main: F.shebanq_db_otype [node] \n"
       ]
      },
      {
       "output_type": "stream",
       "stream": "stderr",
       "text": [
        "10m 35s DETAIL: load main: F.shebanq_ft_number [node] \n"
       ]
      },
      {
       "output_type": "stream",
       "stream": "stderr",
       "text": [
        "10m 36s DETAIL: load main: F.shebanq_px_instruction [node] \n"
       ]
      },
      {
       "output_type": "stream",
       "stream": "stderr",
       "text": [
        "10m 36s DETAIL: load main: F.shebanq_px_number_in_ch [node] \n"
       ]
      },
      {
       "output_type": "stream",
       "stream": "stderr",
       "text": [
        "10m 36s DETAIL: load main: F.shebanq_px_pargr [node] \n"
       ]
      },
      {
       "output_type": "stream",
       "stream": "stderr",
       "text": [
        "10m 36s DETAIL: load main: F.shebanq_sft_label [node] \n"
       ]
      },
      {
       "output_type": "stream",
       "stream": "stderr",
       "text": [
        "10m 36s DETAIL: load annox: F.shebanq_db_otype [node] \n"
       ]
      },
      {
       "output_type": "stream",
       "stream": "stderr",
       "text": [
        "10m 36s DETAIL: load annox: F.shebanq_ft_number [node] \n"
       ]
      },
      {
       "output_type": "stream",
       "stream": "stderr",
       "text": [
        "10m 36s DETAIL: load annox: F.shebanq_px_instruction [node] \n"
       ]
      },
      {
       "output_type": "stream",
       "stream": "stderr",
       "text": [
        "10m 36s DETAIL: load annox: F.shebanq_px_number_in_ch [node] \n"
       ]
      },
      {
       "output_type": "stream",
       "stream": "stderr",
       "text": [
        "10m 36s DETAIL: load annox: F.shebanq_px_pargr [node] \n"
       ]
      },
      {
       "output_type": "stream",
       "stream": "stderr",
       "text": [
        "10m 36s DETAIL: load annox: F.shebanq_sft_label [node] \n"
       ]
      },
      {
       "output_type": "stream",
       "stream": "stderr",
       "text": [
        "10m 36s LOGFILE=/Users/dirk/laf-fabric-output/bhs4/can/__log__can.txt\n"
       ]
      },
      {
       "output_type": "stream",
       "stream": "stderr",
       "text": [
        "10m 36s DETAIL: prep prep: G.node_sort\n"
       ]
      },
      {
       "output_type": "stream",
       "stream": "stderr",
       "text": [
        "10m 36s DETAIL: PREPARING prep: G.node_sort\n"
       ]
      },
      {
       "output_type": "stream",
       "stream": "stderr",
       "text": [
        "  0.00s LOADING API with EXTRAs: please wait ... \n"
       ]
      },
      {
       "output_type": "stream",
       "stream": "stderr",
       "text": [
        "  0.00s DETAIL: COMPILING m: UP TO DATE\n"
       ]
      },
      {
       "output_type": "stream",
       "stream": "stderr",
       "text": [
        "  0.00s INFO: USING DATA COMPILED AT: 2014-07-07T07-58-10\n"
       ]
      },
      {
       "output_type": "stream",
       "stream": "stderr",
       "text": [
        "  0.00s DETAIL: COMPILING a: UP TO DATE\n"
       ]
      },
      {
       "output_type": "stream",
       "stream": "stderr",
       "text": [
        "  0.00s INFO: USING DATA COMPILED AT: 2014-07-07T07-58-22\n"
       ]
      },
      {
       "output_type": "stream",
       "stream": "stderr",
       "text": [
        "  0.01s DETAIL: keep main: G.node_anchor_min\n"
       ]
      },
      {
       "output_type": "stream",
       "stream": "stderr",
       "text": [
        "  0.01s DETAIL: keep main: G.node_anchor_max\n"
       ]
      },
      {
       "output_type": "stream",
       "stream": "stderr",
       "text": [
        "  0.01s DETAIL: keep main: G.node_sort\n"
       ]
      },
      {
       "output_type": "stream",
       "stream": "stderr",
       "text": [
        "  0.01s DETAIL: keep main: G.node_sort_inv\n"
       ]
      },
      {
       "output_type": "stream",
       "stream": "stderr",
       "text": [
        "  0.01s DETAIL: keep main: G.edges_from\n"
       ]
      },
      {
       "output_type": "stream",
       "stream": "stderr",
       "text": [
        "  0.01s DETAIL: keep main: G.edges_to\n"
       ]
      },
      {
       "output_type": "stream",
       "stream": "stderr",
       "text": [
        "  0.01s DETAIL: keep main: F.shebanq_db_otype [node] \n"
       ]
      },
      {
       "output_type": "stream",
       "stream": "stderr",
       "text": [
        "  0.01s DETAIL: keep annox: F.shebanq_db_otype [node] \n"
       ]
      },
      {
       "output_type": "stream",
       "stream": "stderr",
       "text": [
        "  0.01s DETAIL: load main: F.shebanq_db_monads [node] \n"
       ]
      },
      {
       "output_type": "stream",
       "stream": "stderr",
       "text": [
        "  0.81s DETAIL: load annox: F.shebanq_db_monads [node] \n"
       ]
      },
      {
       "output_type": "stream",
       "stream": "stderr",
       "text": [
        "  0.81s INFO: DATA LOADED FROM SOURCE bhs4 AND ANNOX px FOR TASK can AT 2014-07-07T07-58-31\n"
       ]
      },
      {
       "output_type": "stream",
       "stream": "stderr",
       "text": [
        " 1m 41s DETAIL: WRITING prep: G.node_sort\n"
       ]
      },
      {
       "output_type": "stream",
       "stream": "stderr",
       "text": [
        " 1m 41s DETAIL: write prep: G.node_sort\n"
       ]
      },
      {
       "output_type": "stream",
       "stream": "stderr",
       "text": [
        " 1m 41s DETAIL: prep prep: G.node_sort_inv\n"
       ]
      },
      {
       "output_type": "stream",
       "stream": "stderr",
       "text": [
        " 1m 41s DETAIL: PREPARING prep: G.node_sort_inv\n"
       ]
      },
      {
       "output_type": "stream",
       "stream": "stderr",
       "text": [
        " 1m 42s DETAIL: WRITING prep: G.node_sort_inv\n"
       ]
      },
      {
       "output_type": "stream",
       "stream": "stderr",
       "text": [
        " 1m 42s DETAIL: write prep: G.node_sort_inv\n"
       ]
      },
      {
       "output_type": "stream",
       "stream": "stderr",
       "text": [
        " 1m 42s INFO: DATA LOADED FROM SOURCE bhs4 AND ANNOX px FOR TASK can AT 2014-07-07T08-00-13\n"
       ]
      }
     ],
     "prompt_number": 2
    },
    {
     "cell_type": "heading",
     "level": 2,
     "metadata": {},
     "source": [
      "Inspecting all objects that got new features"
     ]
    },
    {
     "cell_type": "code",
     "collapsed": false,
     "input": [
      "ph = outfile('paras.txt')\n",
      "cur_label = None\n",
      "for n in NN():\n",
      "    otype = F.otype.v(n)\n",
      "    if otype == 'verse':\n",
      "        cur_label = F.label.v(n)\n",
      "    elif otype == 'clause_atom':\n",
      "        nm = F.number_in_ch.v(n)\n",
      "        if nm:\n",
      "            ph.write(\"{}: instruction = {}; {}; para = {}\\n\".format(cur_label, nm, F.instruction.v(n), F.pargr.v(n)))\n",
      "ph.close()"
     ],
     "language": "python",
     "metadata": {},
     "outputs": [],
     "prompt_number": 8
    },
    {
     "cell_type": "code",
     "collapsed": false,
     "input": [
      "!head -n 100 {my_file('paras.txt')}"
     ],
     "language": "python",
     "metadata": {},
     "outputs": [
      {
       "output_type": "stream",
       "stream": "stdout",
       "text": [
        " GEN 01,01: instruction = 1; .N; para = 1\r\n",
        " GEN 01,02: instruction = 2; .#; para = 1.1\r\n",
        " GEN 01,02: instruction = 3; ..; para = 1.1\r\n",
        " GEN 01,02: instruction = 4; ..; para = 1.1\r\n",
        " GEN 01,03: instruction = 5; .#; para = 1.2\r\n",
        " GEN 01,03: instruction = 6; .q; para = 1.2.1\r\n",
        " GEN 01,03: instruction = 7; .#; para = 1.2.2\r\n",
        " GEN 01,04: instruction = 8; .#; para = 1.2.3\r\n",
        " GEN 01,04: instruction = 9; ..; para = 1.2.3\r\n",
        " GEN 01,04: instruction = 10; .#; para = 1.2.4\r\n",
        " GEN 01,05: instruction = 11; .#; para = 1.2.5\r\n",
        " GEN 01,05: instruction = 12; ..; para = 1.2.5\r\n",
        " GEN 01,05: instruction = 13; .#; para = 1.2.5.1\r\n",
        " GEN 01,05: instruction = 14; .#; para = 1.2.5.2\r\n",
        " GEN 01,05: instruction = 15; ..; para = 1.2.5.2\r\n",
        " GEN 01,06: instruction = 16; .#; para = 1.3\r\n",
        " GEN 01,06: instruction = 17; .q; para = 1.3.1\r\n",
        " GEN 01,06: instruction = 18; ..; para = 1.3.1\r\n",
        " GEN 01,07: instruction = 19; .#; para = 1.3.2\r\n",
        " GEN 01,07: instruction = 20; ..; para = 1.3.2\r\n",
        " GEN 01,07: instruction = 21; .e; para = 1.3.2\r\n",
        " GEN 01,07: instruction = 22; d.; para = 1.3.2\r\n",
        " GEN 01,07: instruction = 23; ..; para = 1.3.2\r\n",
        " GEN 01,07: instruction = 24; ..; para = 1.3.2\r\n",
        " GEN 01,08: instruction = 25; .#; para = 1.3.2.1\r\n",
        " GEN 01,08: instruction = 26; .#; para = 1.3.2.1.1\r\n",
        " GEN 01,08: instruction = 27; .#; para = 1.3.2.1.2\r\n",
        " GEN 01,08: instruction = 28; ..; para = 1.3.2.1.2\r\n",
        " GEN 01,09: instruction = 29; .#; para = 1.4\r\n",
        " GEN 01,09: instruction = 30; .q; para = 1.4.1\r\n",
        " GEN 01,09: instruction = 31; ..; para = 1.4.1\r\n",
        " GEN 01,09: instruction = 32; ..; para = 1.4\r\n",
        " GEN 01,10: instruction = 33; .#; para = 1.4.2\r\n",
        " GEN 01,10: instruction = 34; ..; para = 1.4.2\r\n",
        " GEN 01,10: instruction = 35; .#; para = 1.4.3\r\n",
        " GEN 01,10: instruction = 36; ..; para = 1.4.3\r\n",
        " GEN 01,11: instruction = 37; .#; para = 1.5\r\n",
        " GEN 01,11: instruction = 38; .q; para = 1.5.1\r\n",
        " GEN 01,11: instruction = 39; .e; para = 1.5.1\r\n",
        " GEN 01,11: instruction = 40; d.; para = 1.5.1\r\n",
        " GEN 01,11: instruction = 41; ..; para = 1.5.1\r\n",
        " GEN 01,11: instruction = 42; .e; para = 1.5.1\r\n",
        " GEN 01,11: instruction = 43; d.; para = 1.5.1\r\n",
        " GEN 01,11: instruction = 44; ..; para = 1.5\r\n",
        " GEN 01,12: instruction = 45; .#; para = 1.5.2\r\n",
        " GEN 01,12: instruction = 46; .e; para = 1.5.2\r\n",
        " GEN 01,12: instruction = 47; d.; para = 1.5.2\r\n",
        " GEN 01,12: instruction = 48; ..; para = 1.5.2\r\n",
        " GEN 01,12: instruction = 49; .e; para = 1.5.2\r\n",
        " GEN 01,12: instruction = 50; d.; para = 1.5.2\r\n",
        " GEN 01,12: instruction = 51; .#; para = 1.5.3\r\n",
        " GEN 01,12: instruction = 52; ..; para = 1.5.3\r\n",
        " GEN 01,13: instruction = 53; .#; para = 1.5.3.1\r\n",
        " GEN 01,13: instruction = 54; .#; para = 1.5.3.2\r\n",
        " GEN 01,13: instruction = 55; ..; para = 1.5.3.2\r\n",
        " GEN 01,14: instruction = 56; .#; para = 1.6\r\n",
        " GEN 01,14: instruction = 57; .q; para = 1.6.1\r\n",
        " GEN 01,14: instruction = 58; ..; para = 1.6.1\r\n",
        " GEN 01,14: instruction = 59; ..; para = 1.6.1\r\n",
        " GEN 01,15: instruction = 60; ..; para = 1.6.1\r\n",
        " GEN 01,15: instruction = 61; ..; para = 1.6.1\r\n",
        " GEN 01,15: instruction = 62; ..; para = 1.6\r\n",
        " GEN 01,16: instruction = 63; .#; para = 1.6.2\r\n",
        " GEN 01,16: instruction = 64; l.; para = 1.6.2\r\n",
        " GEN 01,16: instruction = 65; l.; para = 1.6.2\r\n",
        " GEN 01,16: instruction = 66; l.; para = 1.6.2\r\n",
        " GEN 01,17: instruction = 67; .#; para = 1.6.2.1\r\n",
        " GEN 01,17: instruction = 68; ..; para = 1.6.2.1\r\n",
        " GEN 01,18: instruction = 69; ..; para = 1.6.2.1\r\n",
        " GEN 01,18: instruction = 70; ..; para = 1.6.2.1\r\n",
        " GEN 01,18: instruction = 71; .#; para = 1.6.3\r\n",
        " GEN 01,18: instruction = 72; ..; para = 1.6.3\r\n",
        " GEN 01,19: instruction = 73; .#; para = 1.6.3.1\r\n",
        " GEN 01,19: instruction = 74; .#; para = 1.6.3.2\r\n",
        " GEN 01,19: instruction = 75; ..; para = 1.6.3.2\r\n",
        " GEN 01,20: instruction = 76; .#; para = 1.7\r\n",
        " GEN 01,20: instruction = 77; .q; para = 1.7.1\r\n",
        " GEN 01,20: instruction = 78; ..; para = 1.7.1\r\n",
        " GEN 01,21: instruction = 79; .#; para = 1.7.2\r\n",
        " GEN 01,21: instruction = 80; ..; para = 1.7.2\r\n",
        " GEN 01,21: instruction = 81; ..; para = 1.7.2\r\n",
        " GEN 01,21: instruction = 82; .e; para = 1.7.2\r\n",
        " GEN 01,21: instruction = 83; d.; para = 1.7.2\r\n",
        " GEN 01,21: instruction = 84; l.; para = 1.7.2\r\n",
        " GEN 01,21: instruction = 85; .#; para = 1.7.3\r\n",
        " GEN 01,21: instruction = 86; ..; para = 1.7.3\r\n",
        " GEN 01,22: instruction = 87; .#; para = 1.7.3.1\r\n",
        " GEN 01,22: instruction = 88; ..; para = 1.7.3.1\r\n",
        " GEN 01,22: instruction = 89; .q; para = 1.7.3.1.1\r\n",
        " GEN 01,22: instruction = 90; ..; para = 1.7.3.1.1\r\n",
        " GEN 01,22: instruction = 91; ..; para = 1.7.3.1.1\r\n",
        " GEN 01,22: instruction = 92; ..; para = 1.7.3.1.1\r\n",
        " GEN 01,23: instruction = 93; .#; para = 1.7.3.2\r\n",
        " GEN 01,23: instruction = 94; .#; para = 1.7.3.3\r\n",
        " GEN 01,23: instruction = 95; ..; para = 1.7.3.3\r\n",
        " GEN 01,24: instruction = 96; .#; para = 1.8\r\n",
        " GEN 01,24: instruction = 97; .q; para = 1.8.1\r\n",
        " GEN 01,24: instruction = 98; l.; para = 1.8.1\r\n",
        " GEN 01,24: instruction = 99; ..; para = 1.8\r\n",
        " GEN 01,25: instruction = 100; .#; para = 1.8.2\r\n"
       ]
      }
     ],
     "prompt_number": 4
    },
    {
     "cell_type": "code",
     "collapsed": false,
     "input": [],
     "language": "python",
     "metadata": {},
     "outputs": []
    }
   ],
   "metadata": {}
  }
 ]
}