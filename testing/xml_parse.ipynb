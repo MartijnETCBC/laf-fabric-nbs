{
 "metadata": {
  "name": "",
  "signature": "sha256:aa93efa83b1ea178967f5ad63a7214bab25ba952dff50f80a32b64ee2585c5a3"
 },
 "nbformat": 3,
 "nbformat_minor": 0,
 "worksheets": [
  {
   "cells": [
    {
     "cell_type": "code",
     "collapsed": false,
     "input": [
      "import sys\n",
      "import os\n",
      "import time\n",
      "import subprocess\n",
      "from lxml import etree\n",
      "\n",
      "class Timestamp(object):\n",
      "    def __init__(self):\n",
      "        self.timestamp = time.time()\n",
      "    def reset(self): self.timestamp = time.time()\n",
      "    def elapsed(self):\n",
      "            interval = time.time() - self.timestamp\n",
      "            if interval < 10: return \"{: 2.2f}s\".format(interval)\n",
      "            interval = int(round(interval))\n",
      "            if interval < 60: return \"{:>2d}s\".format(interval)\n",
      "            if interval < 3600: return \"{:>2d}m {:>02d}s\".format(interval // 60, interval % 60)\n",
      "            return \"{:>2d}h {:>02d}m {:>02d}s\".format(interval // 3600, (interval % 3600) // 60, interval % 60)\n",
      "\n",
      "overall = Timestamp()\n",
      "this = Timestamp()\n",
      "\n",
      "def msg(txt):\n",
      "    sys.stderr.write('{} - {} {}\\n'.format(overall.elapsed(), this.elapsed(), txt))\n",
      "    this.reset()\n",
      "    sys.stderr.flush()\n",
      "\n",
      "def runx(cmd): return subprocess.call(cmd + ' 2>&1', shell = True)\n",
      "\n",
      "def lvalidate(xf, sc):\n",
      "    msg(\"lxml: parsing {}\".format(xf))\n",
      "    doc = etree.parse(xf)\n",
      "    msg(\"lxml: validating {}\".format(xf))\n",
      "    result = xmlschema.validate(doc)\n",
      "    if not result:\n",
      "        print('{}'.format(xmlschema.error_log))\n",
      "    msg(\"lxml: {}\".format('VALID' if result else 'NOT VALID'))\n",
      "    doc = None\n",
      "\n",
      "class Validate(object):\n",
      "    def __init__(self, sc):\n",
      "        this.reset()\n",
      "        msg(\"lxml: processing schema {}\".format(sc))\n",
      "        xmlschema_doc = etree.parse(sc)\n",
      "        xmlschema = etree.XMLSchema(xmlschema_doc)\n",
      "        self.sc = xmlschema\n",
      "        msg(\"lxml: done\")\n",
      "    def validate(self, xf):\n",
      "        msg(\"lxml: parsing {}\".format(xf))\n",
      "        doc = etree.parse(xf)\n",
      "        msg(\"lxml: validating {}\".format(xf))\n",
      "        result = self.sc.validate(doc)\n",
      "        if not result:\n",
      "            print('{}'.format(self.sc.error_log))\n",
      "        msg(\"lxml: {}\".format('VALID' if result else 'NOT VALID'))\n",
      "        doc = None\n",
      "\n",
      "def validate(xf, sc):\n",
      "    msg(\"xmllint:validating {}\".format(xf))\n",
      "#    os.environ['XML_CATALOG_FILES'] = '{}/xmllint_cat.xml'.format(app)\n",
      "    result = runx('xmllint --noout --nonet --stream --schema {} {}'.format(sc, xf))\n",
      "    msg(\"xmllint: {}\".format('VALID' if not result else 'NOT VALID'))"
     ],
     "language": "python",
     "metadata": {},
     "outputs": [],
     "prompt_number": 3
    },
    {
     "cell_type": "code",
     "collapsed": false,
     "input": [
      "root = '/Users/dirk/laf-fabric-data/etcbc4/laf'\n",
      "decl = '/Users/dirk/laf-fabric-data/etcbc4/decl'\n",
      "schema = '{}/graf-standoff.xsd'.format(decl)\n",
      "app = '/Users/dirk/Dropbox/DANS/current/demos/github/laf-fabric/emdros2laf/xml'\n",
      "\n",
      "for f in (\n",
      "    'etcbc4_lingo.s.xml',\n",
      "#    'etcbc4_lingo.pa.xml',\n",
      "):\n",
      "    validate('{}/{}'.format(root, f), schema)\n",
      "    lvalidate('{}/{}'.format(root, f), schema)"
     ],
     "language": "python",
     "metadata": {},
     "outputs": [
      {
       "output_type": "stream",
       "stream": "stderr",
       "text": [
        " 0.76s -  0.76s xmllint:validating /Users/dirk/laf-fabric-data/etcbc4/laf/etcbc4_lingo.s.xml\n"
       ]
      },
      {
       "output_type": "stream",
       "stream": "stderr",
       "text": [
        " 4.14s -  3.37s xmllint: VALID\n"
       ]
      },
      {
       "output_type": "stream",
       "stream": "stderr",
       "text": [
        " 4.14s -  0.00s lxml: parsing /Users/dirk/laf-fabric-data/etcbc4/laf/etcbc4_lingo.s.xml\n"
       ]
      },
      {
       "output_type": "stream",
       "stream": "stderr",
       "text": [
        " 6.33s -  2.19s lxml: validating /Users/dirk/laf-fabric-data/etcbc4/laf/etcbc4_lingo.s.xml\n"
       ]
      },
      {
       "ename": "NameError",
       "evalue": "name 'xmlschema' is not defined",
       "output_type": "pyerr",
       "traceback": [
        "\u001b[0;31m---------------------------------------------------------------------------\u001b[0m\n\u001b[0;31mNameError\u001b[0m                                 Traceback (most recent call last)",
        "\u001b[0;32m<ipython-input-2-8e03184dd604>\u001b[0m in \u001b[0;36m<module>\u001b[0;34m()\u001b[0m\n\u001b[1;32m      9\u001b[0m ):\n\u001b[1;32m     10\u001b[0m     \u001b[0mvalidate\u001b[0m\u001b[0;34m(\u001b[0m\u001b[0;34m'{}/{}'\u001b[0m\u001b[0;34m.\u001b[0m\u001b[0mformat\u001b[0m\u001b[0;34m(\u001b[0m\u001b[0mroot\u001b[0m\u001b[0;34m,\u001b[0m \u001b[0mf\u001b[0m\u001b[0;34m)\u001b[0m\u001b[0;34m,\u001b[0m \u001b[0mschema\u001b[0m\u001b[0;34m)\u001b[0m\u001b[0;34m\u001b[0m\u001b[0m\n\u001b[0;32m---> 11\u001b[0;31m     \u001b[0mlvalidate\u001b[0m\u001b[0;34m(\u001b[0m\u001b[0;34m'{}/{}'\u001b[0m\u001b[0;34m.\u001b[0m\u001b[0mformat\u001b[0m\u001b[0;34m(\u001b[0m\u001b[0mroot\u001b[0m\u001b[0;34m,\u001b[0m \u001b[0mf\u001b[0m\u001b[0;34m)\u001b[0m\u001b[0;34m,\u001b[0m \u001b[0mschema\u001b[0m\u001b[0;34m)\u001b[0m\u001b[0;34m\u001b[0m\u001b[0m\n\u001b[0m",
        "\u001b[0;32m<ipython-input-1-14c2ee583303>\u001b[0m in \u001b[0;36mlvalidate\u001b[0;34m(xf, sc)\u001b[0m\n\u001b[1;32m     31\u001b[0m     \u001b[0mdoc\u001b[0m \u001b[0;34m=\u001b[0m \u001b[0metree\u001b[0m\u001b[0;34m.\u001b[0m\u001b[0mparse\u001b[0m\u001b[0;34m(\u001b[0m\u001b[0mxf\u001b[0m\u001b[0;34m)\u001b[0m\u001b[0;34m\u001b[0m\u001b[0m\n\u001b[1;32m     32\u001b[0m     \u001b[0mmsg\u001b[0m\u001b[0;34m(\u001b[0m\u001b[0;34m\"lxml: validating {}\"\u001b[0m\u001b[0;34m.\u001b[0m\u001b[0mformat\u001b[0m\u001b[0;34m(\u001b[0m\u001b[0mxf\u001b[0m\u001b[0;34m)\u001b[0m\u001b[0;34m)\u001b[0m\u001b[0;34m\u001b[0m\u001b[0m\n\u001b[0;32m---> 33\u001b[0;31m     \u001b[0mresult\u001b[0m \u001b[0;34m=\u001b[0m \u001b[0mxmlschema\u001b[0m\u001b[0;34m.\u001b[0m\u001b[0mvalidate\u001b[0m\u001b[0;34m(\u001b[0m\u001b[0mdoc\u001b[0m\u001b[0;34m)\u001b[0m\u001b[0;34m\u001b[0m\u001b[0m\n\u001b[0m\u001b[1;32m     34\u001b[0m     \u001b[0;32mif\u001b[0m \u001b[0;32mnot\u001b[0m \u001b[0mresult\u001b[0m\u001b[0;34m:\u001b[0m\u001b[0;34m\u001b[0m\u001b[0m\n\u001b[1;32m     35\u001b[0m         \u001b[0mprint\u001b[0m\u001b[0;34m(\u001b[0m\u001b[0;34m'{}'\u001b[0m\u001b[0;34m.\u001b[0m\u001b[0mformat\u001b[0m\u001b[0;34m(\u001b[0m\u001b[0mxmlschema\u001b[0m\u001b[0;34m.\u001b[0m\u001b[0merror_log\u001b[0m\u001b[0;34m)\u001b[0m\u001b[0;34m)\u001b[0m\u001b[0;34m\u001b[0m\u001b[0m\n",
        "\u001b[0;31mNameError\u001b[0m: name 'xmlschema' is not defined"
       ]
      }
     ],
     "prompt_number": 2
    },
    {
     "cell_type": "code",
     "collapsed": false,
     "input": [
      "prof = '/Users/dirk/Dropbox/DANS/current/projects/Shebanq/work/DANS/LiteraryCorpusProfile.xsd'\n",
      "val = Validate(prof)"
     ],
     "language": "python",
     "metadata": {},
     "outputs": [
      {
       "output_type": "stream",
       "stream": "stderr",
       "text": [
        " 8.38s -  0.00s lxml: processing schema /Users/dirk/Dropbox/DANS/current/projects/Shebanq/work/DANS/LiteraryCorpusProfile.xsd\n"
       ]
      },
      {
       "output_type": "stream",
       "stream": "stderr",
       "text": [
        "25s - 16s lxml: done\n"
       ]
      }
     ],
     "prompt_number": 4
    },
    {
     "cell_type": "code",
     "collapsed": false,
     "input": [
      "etcbc4 = '/Users/dirk/Dropbox/DANS/current/projects/Shebanq/work/DANS/etcbc4.cmdi'\n",
      "etcbc4 = '/Users/dirk/dataset/Niet-DC-metadata/CMDI/etcbc4.cmdi'\n",
      "calap = '/Users/dirk/Dropbox/DANS/current/projects/etcbc/CALAP/Dataset/Niet-DC-metadata/CMDI/calap.cmdi'"
     ],
     "language": "python",
     "metadata": {},
     "outputs": [],
     "prompt_number": 5
    },
    {
     "cell_type": "code",
     "collapsed": false,
     "input": [
      "val.validate(etcbc4)"
     ],
     "language": "python",
     "metadata": {},
     "outputs": [
      {
       "output_type": "stream",
       "stream": "stderr",
       "text": [
        "13m 48s - 21s lxml: parsing /Users/dirk/dataset/Niet-DC-metadata/CMDI/etcbc4.cmdi\n"
       ]
      },
      {
       "output_type": "stream",
       "stream": "stderr",
       "text": [
        "13m 48s -  0.00s lxml: validating /Users/dirk/dataset/Niet-DC-metadata/CMDI/etcbc4.cmdi\n"
       ]
      },
      {
       "output_type": "stream",
       "stream": "stderr",
       "text": [
        "13m 48s -  0.00s lxml: VALID\n"
       ]
      }
     ],
     "prompt_number": 8
    },
    {
     "cell_type": "code",
     "collapsed": false,
     "input": [],
     "language": "python",
     "metadata": {},
     "outputs": []
    }
   ],
   "metadata": {}
  }
 ]
}