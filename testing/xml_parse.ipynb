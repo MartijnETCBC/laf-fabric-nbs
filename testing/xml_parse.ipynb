{
 "metadata": {
  "name": "",
  "signature": "sha256:da49eeff29615f7ed87d062f3cb606754fa85e20778ae52d9a172544275cdd93"
 },
 "nbformat": 3,
 "nbformat_minor": 0,
 "worksheets": [
  {
   "cells": [
    {
     "cell_type": "code",
     "collapsed": false,
     "input": [
      "import sys\n",
      "import os\n",
      "import time\n",
      "import subprocess\n",
      "\n",
      "class Timestamp(object):\n",
      "    def __init__(self):\n",
      "        self.timestamp = time.time()\n",
      "    def reset(self): self.timestamp = time.time()\n",
      "    def elapsed(self):\n",
      "            interval = time.time() - self.timestamp\n",
      "            if interval < 10: return \"{: 2.2f}s\".format(interval)\n",
      "            interval = int(round(interval))\n",
      "            if interval < 60: return \"{:>2d}s\".format(interval)\n",
      "            if interval < 3600: return \"{:>2d}m {:>02d}s\".format(interval // 60, interval % 60)\n",
      "            return \"{:>2d}h {:>02d}m {:>02d}s\".format(interval // 3600, (interval % 3600) // 60, interval % 60)\n",
      "\n",
      "overall = Timestamp()\n",
      "this = Timestamp()\n",
      "\n",
      "def msg(txt):\n",
      "    sys.stderr.write('{} - {} {}\\n'.format(overall.elapsed(), this.elapsed(), txt))\n",
      "    this.reset()\n",
      "    sys.stderr.flush()"
     ],
     "language": "python",
     "metadata": {},
     "outputs": [],
     "prompt_number": 18
    },
    {
     "cell_type": "code",
     "collapsed": false,
     "input": [
      "root = '/Users/dirk/laf-fabric-data/bhs4/laf'\n",
      "decl = '/Users/dirk/laf-fabric-data/bhs4/decl'\n",
      "schema = '{}/graf-standoff.xsd'.format(decl)\n",
      "app = '/Users/dirk/Dropbox/DANS/current/demos/github/laf-fabric/emdros2laf/xml'"
     ],
     "language": "python",
     "metadata": {},
     "outputs": [],
     "prompt_number": 19
    },
    {
     "cell_type": "code",
     "collapsed": false,
     "input": [
      "xmllint_cmd = ''\n",
      "\n",
      "def runx(cmd): return subprocess.call(cmd + ' 2>&1', shell = True)\n",
      "#def runx(cmd): return subprocess.call(cmd, shell = True)\n",
      "\n",
      "def validate(xf):\n",
      "    os.environ['XML_CATALOG_FILES'] = '{}/xmllint_cat.xml'.format(app)\n",
      "    return runx('xmllint --noout --nonet --stream --schema {} {}/{}'.format(schema, root, xf))"
     ],
     "language": "python",
     "metadata": {},
     "outputs": [],
     "prompt_number": 20
    },
    {
     "cell_type": "code",
     "collapsed": false,
     "input": [
      "validate('bhs4_lingo.s.xml')"
     ],
     "language": "python",
     "metadata": {},
     "outputs": [
      {
       "metadata": {},
       "output_type": "pyout",
       "prompt_number": 21,
       "text": [
        "0"
       ]
      }
     ],
     "prompt_number": 21
    },
    {
     "cell_type": "code",
     "collapsed": false,
     "input": [
      "from lxml import etree\n",
      "\n",
      "xmlschema_doc = etree.parse(schema)\n",
      "xmlschema = etree.XMLSchema(xmlschema_doc)\n",
      "\n",
      "def lvalidate(xf):\n",
      "    this.reset()\n",
      "    msg(\"parsing {}\".format(xf))\n",
      "    doc = etree.parse('{}/{}'.format(root, xf))\n",
      "    msg(\"validating {}\".format(xf))\n",
      "    result = xmlschema.validate(doc)\n",
      "    if not result:\n",
      "        print('{}'.format(xmlschema.error_log))\n",
      "    msg(\"{}\".format('VALID' if result else 'NOT VALID'))\n",
      "    doc = None"
     ],
     "language": "python",
     "metadata": {},
     "outputs": []
    },
    {
     "cell_type": "code",
     "collapsed": false,
     "input": [
      "for xf in '''\n",
      "bhs4_lingo.c.xml\n",
      "bhs4_lingo.p.xml\n",
      "bhs4_lingo.pa.xml\n",
      "bhs4_lingo.s.xml\n",
      "bhs4_lingo.sp.xml\n",
      "bhs4_lingo.xml\n",
      "bhs4_monads.lex.xml\n",
      "bhs4_monads.xml\n",
      "bhs4_regions.xml\n",
      "bhs4_sections.xml\n",
      "'''.strip().split():\n",
      "    lvalidate(xf)"
     ],
     "language": "python",
     "metadata": {},
     "outputs": [
      {
       "output_type": "stream",
       "stream": "stderr",
       "text": [
        " 2.35s -  0.00s parsing bhs4_lingo.c.xml\n"
       ]
      },
      {
       "output_type": "stream",
       "stream": "stderr",
       "text": [
        "26s - 24s validating bhs4_lingo.c.xml\n"
       ]
      },
      {
       "output_type": "stream",
       "stream": "stderr",
       "text": [
        "30s -  3.86s VALID\n"
       ]
      },
      {
       "output_type": "stream",
       "stream": "stderr",
       "text": [
        "33s -  0.00s parsing bhs4_lingo.p.xml\n"
       ]
      },
      {
       "output_type": "stream",
       "stream": "stderr",
       "text": [
        " 1m 15s - 42s validating bhs4_lingo.p.xml\n"
       ]
      },
      {
       "output_type": "stream",
       "stream": "stderr",
       "text": [
        " 1m 20s -  4.33s VALID\n"
       ]
      },
      {
       "output_type": "stream",
       "stream": "stderr",
       "text": [
        " 1m 23s -  0.00s parsing bhs4_lingo.pa.xml\n"
       ]
      },
      {
       "ename": "XMLSyntaxError",
       "evalue": "ID ale876295 already defined, line 1811942, column 20 (<string>)",
       "output_type": "pyerr",
       "traceback": [
        "\u001b[0;36m  File \u001b[0;32m\"<string>\"\u001b[0;36m, line \u001b[0;32munknown\u001b[0m\n\u001b[0;31mXMLSyntaxError\u001b[0m\u001b[0;31m:\u001b[0m ID ale876295 already defined, line 1811942, column 20\n"
       ]
      }
     ],
     "prompt_number": 3
    },
    {
     "cell_type": "code",
     "collapsed": false,
     "input": [
      "validate('bhs4_lingo.pa.xml')"
     ],
     "language": "python",
     "metadata": {},
     "outputs": [
      {
       "output_type": "stream",
       "stream": "stderr",
       "text": [
        " 4m 03s -  0.00s parsing bhs4_lingo.pa.xml\n"
       ]
      },
      {
       "output_type": "stream",
       "stream": "stderr",
       "text": [
        " 4m 12s -  9.63s validating bhs4_lingo.pa.xml\n"
       ]
      },
      {
       "output_type": "stream",
       "stream": "stderr",
       "text": [
        " 4m 15s -  2.41s VALID\n"
       ]
      }
     ],
     "prompt_number": 8
    },
    {
     "cell_type": "code",
     "collapsed": false,
     "input": [
      "validate('bhs4_lingo.pa.xml')"
     ],
     "language": "python",
     "metadata": {},
     "outputs": [
      {
       "output_type": "stream",
       "stream": "stderr",
       "text": [
        " 6m 07s -  0.00s parsing bhs4_lingo.pa.xml\n"
       ]
      },
      {
       "output_type": "stream",
       "stream": "stderr",
       "text": [
        " 6m 36s - 29s validating bhs4_lingo.pa.xml\n"
       ]
      },
      {
       "output_type": "stream",
       "stream": "stderr",
       "text": [
        " 6m 39s -  2.98s VALID\n"
       ]
      }
     ],
     "prompt_number": 9
    },
    {
     "cell_type": "code",
     "collapsed": false,
     "input": [
      "validate('bhs4_lingo.pa.xml')"
     ],
     "language": "python",
     "metadata": {},
     "outputs": [
      {
       "output_type": "stream",
       "stream": "stderr",
       "text": [
        "17s -  0.00s parsing bhs4_lingo.pa.xml\n"
       ]
      }
     ]
    },
    {
     "cell_type": "code",
     "collapsed": false,
     "input": [],
     "language": "python",
     "metadata": {},
     "outputs": []
    }
   ],
   "metadata": {}
  }
 ]
}