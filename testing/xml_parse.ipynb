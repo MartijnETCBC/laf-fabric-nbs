{
 "metadata": {
  "name": "",
  "signature": "sha256:440fbe2c6d416ed936e9ca4dd921bbd443d2affa166b3075614291aefbc39dd8"
 },
 "nbformat": 3,
 "nbformat_minor": 0,
 "worksheets": [
  {
   "cells": [
    {
     "cell_type": "code",
     "collapsed": false,
     "input": [
      "import sys\n",
      "import os\n",
      "import time\n",
      "import subprocess\n",
      "from lxml import etree\n",
      "\n",
      "class Timestamp(object):\n",
      "    def __init__(self):\n",
      "        self.timestamp = time.time()\n",
      "    def reset(self): self.timestamp = time.time()\n",
      "    def elapsed(self):\n",
      "            interval = time.time() - self.timestamp\n",
      "            if interval < 10: return \"{: 2.2f}s\".format(interval)\n",
      "            interval = int(round(interval))\n",
      "            if interval < 60: return \"{:>2d}s\".format(interval)\n",
      "            if interval < 3600: return \"{:>2d}m {:>02d}s\".format(interval // 60, interval % 60)\n",
      "            return \"{:>2d}h {:>02d}m {:>02d}s\".format(interval // 3600, (interval % 3600) // 60, interval % 60)\n",
      "\n",
      "overall = Timestamp()\n",
      "this = Timestamp()\n",
      "\n",
      "def msg(txt):\n",
      "    sys.stderr.write('{} - {} {}\\n'.format(overall.elapsed(), this.elapsed(), txt))\n",
      "    this.reset()\n",
      "    sys.stderr.flush()\n",
      "\n",
      "def runx(cmd): return subprocess.call(cmd + ' 2>&1', shell = True)\n",
      "\n",
      "root = '/Users/dirk/laf-fabric-data/etcbc4/laf'\n",
      "decl = '/Users/dirk/laf-fabric-data/etcbc4/decl'\n",
      "schema = '{}/graf-standoff.xsd'.format(decl)\n",
      "app = '/Users/dirk/Dropbox/DANS/current/demos/github/laf-fabric/emdros2laf/xml'\n",
      "xmlschema_doc = etree.parse(schema)\n",
      "xmlschema = etree.XMLSchema(xmlschema_doc)\n",
      "\n",
      "def lvalidate(xf):\n",
      "    this.reset()\n",
      "    msg(\"lxml: parsing {}\".format(xf))\n",
      "    doc = etree.parse('{}/{}'.format(root, xf))\n",
      "    msg(\"lxml: validating {}\".format(xf))\n",
      "    result = xmlschema.validate(doc)\n",
      "    if not result:\n",
      "        print('{}'.format(xmlschema.error_log))\n",
      "    msg(\"lxml: {}\".format('VALID' if result else 'NOT VALID'))\n",
      "    doc = None\n",
      "\n",
      "def validate(xf):\n",
      "    msg(\"xmllint:validating {}\".format(xf))\n",
      "#    os.environ['XML_CATALOG_FILES'] = '{}/xmllint_cat.xml'.format(app)\n",
      "    result = runx('xmllint --noout --nonet --stream --schema {} {}/{}'.format(schema, root, xf))\n",
      "    msg(\"xmllint: {}\".format('VALID' if not result else 'NOT VALID'))"
     ],
     "language": "python",
     "metadata": {},
     "outputs": [],
     "prompt_number": 1
    },
    {
     "cell_type": "code",
     "collapsed": false,
     "input": [
      "for f in (\n",
      "    'etcbc4_lingo.s.xml',\n",
      "    'etcbc4_lingo.pa.xml',\n",
      "):\n",
      "    validate(f)\n",
      "    lvalidate(f)"
     ],
     "language": "python",
     "metadata": {},
     "outputs": [
      {
       "output_type": "stream",
       "stream": "stderr",
       "text": [
        " 1m 14s -  1m 06s xmllint:validating etcbc4_lingo.s.xml\n"
       ]
      },
      {
       "output_type": "stream",
       "stream": "stderr",
       "text": [
        " 1m 17s -  3.33s xmllint: VALID\n"
       ]
      },
      {
       "output_type": "stream",
       "stream": "stderr",
       "text": [
        " 1m 17s -  0.00s lxml: parsing etcbc4_lingo.s.xml\n"
       ]
      },
      {
       "output_type": "stream",
       "stream": "stderr",
       "text": [
        " 1m 20s -  2.29s lxml: validating etcbc4_lingo.s.xml\n"
       ]
      },
      {
       "output_type": "stream",
       "stream": "stderr",
       "text": [
        " 1m 20s -  0.81s lxml: VALID\n"
       ]
      },
      {
       "output_type": "stream",
       "stream": "stderr",
       "text": [
        " 1m 21s -  0.66s xmllint:validating etcbc4_lingo.pa.xml\n"
       ]
      }
     ]
    },
    {
     "cell_type": "code",
     "collapsed": false,
     "input": [],
     "language": "python",
     "metadata": {},
     "outputs": []
    }
   ],
   "metadata": {}
  }
 ]
}