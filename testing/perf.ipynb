{
 "metadata": {
  "name": "",
  "signature": "sha256:4979dedb0ccfa260972cf63a2a04c72cdab771488d684d0d3d49dd2021e37a58"
 },
 "nbformat": 3,
 "nbformat_minor": 0,
 "worksheets": [
  {
   "cells": [
    {
     "cell_type": "code",
     "collapsed": false,
     "input": [
      "import sys\n",
      "import collections\n",
      "\n",
      "from laf.fabric import LafFabric\n",
      "from etcbc.preprocess import prepare\n",
      "\n",
      "fabric = LafFabric()"
     ],
     "language": "python",
     "metadata": {},
     "outputs": [
      {
       "output_type": "stream",
       "stream": "stderr",
       "text": [
        "  0.00s This is LAF-Fabric 4.3.3\n",
        "http://laf-fabric.readthedocs.org/en/latest/texts/API-reference.html\n"
       ]
      }
     ],
     "prompt_number": 2
    },
    {
     "cell_type": "code",
     "collapsed": false,
     "input": [
      "API = fabric.load('etcbc4', '--', 'total', {\n",
      "    \"xmlids\": {\"node\": False, \"edge\": False},\n",
      "    \"prepare\": prepare,\n",
      "    \"features\": ('''\n",
      "maxmonad\n",
      "minmonad\n",
      "monads\n",
      "oid\n",
      "otype\n",
      "''',\n",
      "'''\n",
      "'''),\n",
      "    \"primary\": False,\n",
      "}, verbose='DETAIL', compile_main=False)\n",
      "exec(fabric.localnames.format(var='fabric'))"
     ],
     "language": "python",
     "metadata": {},
     "outputs": [
      {
       "output_type": "stream",
       "stream": "stderr",
       "text": [
        "  0.00s LOADING API: please wait ... \n"
       ]
      },
      {
       "output_type": "stream",
       "stream": "stderr",
       "text": [
        "  0.00s DETAIL: COMPILING m: UP TO DATE\n"
       ]
      },
      {
       "output_type": "stream",
       "stream": "stderr",
       "text": [
        "  0.00s INFO: USING DATA COMPILED AT: 2014-07-14T16-45-08\n"
       ]
      },
      {
       "output_type": "stream",
       "stream": "stderr",
       "text": [
        "  0.00s DETAIL: COMPILING a: UP TO DATE\n"
       ]
      },
      {
       "output_type": "stream",
       "stream": "stderr",
       "text": [
        "  0.01s DETAIL: load main: G.node_anchor_min\n"
       ]
      },
      {
       "output_type": "stream",
       "stream": "stderr",
       "text": [
        "  0.08s DETAIL: load main: G.node_anchor_max\n"
       ]
      },
      {
       "output_type": "stream",
       "stream": "stderr",
       "text": [
        "  0.14s DETAIL: load main: G.node_sort\n"
       ]
      },
      {
       "output_type": "stream",
       "stream": "stderr",
       "text": [
        "  0.20s DETAIL: load main: G.node_sort_inv\n"
       ]
      },
      {
       "output_type": "stream",
       "stream": "stderr",
       "text": [
        "  0.63s DETAIL: load main: G.edges_from\n"
       ]
      },
      {
       "output_type": "stream",
       "stream": "stderr",
       "text": [
        "  0.69s DETAIL: load main: G.edges_to\n"
       ]
      },
      {
       "output_type": "stream",
       "stream": "stderr",
       "text": [
        "  0.76s DETAIL: load main: F.etcbc4_db_maxmonad [node] \n"
       ]
      },
      {
       "output_type": "stream",
       "stream": "stderr",
       "text": [
        "  1.48s DETAIL: load main: F.etcbc4_db_minmonad [node] \n"
       ]
      },
      {
       "output_type": "stream",
       "stream": "stderr",
       "text": [
        "  2.35s DETAIL: load main: F.etcbc4_db_monads [node] \n"
       ]
      },
      {
       "output_type": "stream",
       "stream": "stderr",
       "text": [
        "  3.31s DETAIL: load main: F.etcbc4_db_oid [node] \n"
       ]
      },
      {
       "output_type": "stream",
       "stream": "stderr",
       "text": [
        "  4.04s DETAIL: load main: F.etcbc4_db_otype [node] \n"
       ]
      },
      {
       "output_type": "stream",
       "stream": "stderr",
       "text": [
        "  4.73s LOGFILE=/Users/dirk/laf-fabric-output/etcbc4/total/__log__total.txt\n"
       ]
      },
      {
       "output_type": "stream",
       "stream": "stderr",
       "text": [
        "  4.73s DETAIL: prep prep: G.node_sort\n"
       ]
      },
      {
       "output_type": "stream",
       "stream": "stderr",
       "text": [
        "  4.80s DETAIL: prep prep: G.node_sort_inv\n"
       ]
      },
      {
       "output_type": "stream",
       "stream": "stderr",
       "text": [
        "  5.28s INFO: DATA LOADED FROM SOURCE etcbc4 AND ANNOX -- FOR TASK total AT 2014-07-15T17-06-02\n"
       ]
      }
     ],
     "prompt_number": 3
    },
    {
     "cell_type": "code",
     "collapsed": false,
     "input": [
      "msg(\"Start\")\n",
      "info = []\n",
      "info2 = collections.defaultdict(lambda: [])\n",
      "for n in NN():\n",
      "    info.append((F.oid.v(n), F.otype.v(n)))\n",
      "    info2[F.otype.v(n)].append(F.oid.v(n))\n",
      "msg(\"End\")"
     ],
     "language": "python",
     "metadata": {},
     "outputs": [
      {
       "output_type": "stream",
       "stream": "stderr",
       "text": [
        "  2.73s Start\n"
       ]
      },
      {
       "output_type": "stream",
       "stream": "stderr",
       "text": [
        "  8.33s End\n"
       ]
      }
     ],
     "prompt_number": 4
    },
    {
     "cell_type": "code",
     "collapsed": false,
     "input": [
      "msg(\"Start\")\n",
      "info = []\n",
      "info2 = collections.defaultdict(lambda: [])\n",
      "i = F.oid.v\n",
      "t = F.otype.v\n",
      "for n in NN():\n",
      "    iv, tv = i(n), t(n)\n",
      "    info.append((iv, tv))\n",
      "    info2[tv].append(iv)\n",
      "msg(\"End\")"
     ],
     "language": "python",
     "metadata": {},
     "outputs": [
      {
       "output_type": "stream",
       "stream": "stderr",
       "text": [
        "    13s Start\n"
       ]
      },
      {
       "output_type": "stream",
       "stream": "stderr",
       "text": [
        "    16s End\n"
       ]
      }
     ],
     "prompt_number": 5
    },
    {
     "cell_type": "code",
     "collapsed": false,
     "input": [
      "msg(\"Start\")\n",
      "info = []\n",
      "info2 = collections.defaultdict(lambda: [])\n",
      "i = F.oid.V\n",
      "t = F.otype.V\n",
      "for n in NN():\n",
      "    iv, tv = i(n), t(n)\n",
      "    info.append((iv, tv))\n",
      "    info2[tv].append(iv)\n",
      "msg(\"End\")"
     ],
     "language": "python",
     "metadata": {},
     "outputs": [
      {
       "output_type": "stream",
       "stream": "stderr",
       "text": [
        "    18s Start\n"
       ]
      },
      {
       "output_type": "stream",
       "stream": "stderr",
       "text": [
        "    21s End\n"
       ]
      }
     ],
     "prompt_number": 6
    },
    {
     "cell_type": "code",
     "collapsed": false,
     "input": [
      "max_node = max(NN())\n",
      "max_node"
     ],
     "language": "python",
     "metadata": {},
     "outputs": [
      {
       "metadata": {},
       "output_type": "pyout",
       "prompt_number": 7,
       "text": [
        "1441143"
       ]
      }
     ],
     "prompt_number": 7
    },
    {
     "cell_type": "code",
     "collapsed": false,
     "input": [
      "oid = list(F.oid.v(n) for n in NN())\n",
      "otype = list(F.otype.v(n) for n in NN())"
     ],
     "language": "python",
     "metadata": {},
     "outputs": [],
     "prompt_number": 8
    },
    {
     "cell_type": "code",
     "collapsed": false,
     "input": [
      "msg(\"Start\")\n",
      "info = []\n",
      "info2 = collections.defaultdict(lambda: [])\n",
      "for n in NN():\n",
      "    iv, tv = oid[n], otype[n]\n",
      "    info.append((iv, tv))\n",
      "    info2[tv].append(iv)\n",
      "msg(\"End\")"
     ],
     "language": "python",
     "metadata": {},
     "outputs": [
      {
       "output_type": "stream",
       "stream": "stderr",
       "text": [
        "    33s Start\n"
       ]
      },
      {
       "output_type": "stream",
       "stream": "stderr",
       "text": [
        "    35s End\n"
       ]
      }
     ],
     "prompt_number": 9
    },
    {
     "cell_type": "code",
     "collapsed": false,
     "input": [
      "oida = F.item['oid'].alookup\n",
      "otypea = F.item['otype'].alookup\n",
      "oid = F.item['oid'].lookup\n",
      "otype = F.item['otype'].lookup"
     ],
     "language": "python",
     "metadata": {},
     "outputs": [],
     "prompt_number": 11
    },
    {
     "cell_type": "code",
     "collapsed": false,
     "input": [
      "msg(\"Start\")\n",
      "info = []\n",
      "info2 = collections.defaultdict(lambda: [])\n",
      "for n in NN():\n",
      "    iv, tv = oida.get(n, oid.get(n)), otypea.get(n, otype.get(n))\n",
      "    info.append((iv, tv))\n",
      "    info2[tv].append(iv)\n",
      "msg(\"End\")"
     ],
     "language": "python",
     "metadata": {},
     "outputs": [
      {
       "output_type": "stream",
       "stream": "stderr",
       "text": [
        " 1m 17s Start\n"
       ]
      },
      {
       "output_type": "stream",
       "stream": "stderr",
       "text": [
        " 1m 20s End\n"
       ]
      }
     ],
     "prompt_number": 12
    },
    {
     "cell_type": "code",
     "collapsed": false,
     "input": [],
     "language": "python",
     "metadata": {},
     "outputs": []
    }
   ],
   "metadata": {}
  }
 ]
}