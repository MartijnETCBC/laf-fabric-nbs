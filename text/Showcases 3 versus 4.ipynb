{
 "metadata": {
  "name": "",
  "signature": "sha256:b6e5314227264c15671f929fd9242737aa3212c60057a20d5236606b0ea1fd25"
 },
 "nbformat": 3,
 "nbformat_minor": 0,
 "worksheets": [
  {
   "cells": [
    {
     "cell_type": "markdown",
     "metadata": {},
     "source": [
      "<a href=\"http://laf-fabric.readthedocs.org/en/latest/\" target=\"_blank\"><img align=\"left\" src=\"images/laf-fabric-xsmall.png\"/></a>\n",
      "<a href=\"http://www.godgeleerdheid.vu.nl/etcbc\" target=\"_blank\"><img align=\"left\" src=\"images/VU-ETCBC-xsmall.png\"/></a>\n",
      "<a href=\"http://tla.mpi.nl\" target=\"_blank\"><img align=\"right\" src=\"images/TLA-xsmall.png\"/></a>\n",
      "<a href=\"http://www.dans.knaw.nl\" target=\"_blank\"><img align=\"right\"src=\"images/DANS-xsmall.png\"/></a>"
     ]
    },
    {
     "cell_type": "heading",
     "level": 1,
     "metadata": {},
     "source": [
      "Comparison of the differences between the plain text of ETCBC versions 3 and 4"
     ]
    },
    {
     "cell_type": "code",
     "collapsed": false,
     "input": [
      "import sys\n",
      "import collections\n",
      "import re\n",
      "import unicodedata\n",
      "\n",
      "from IPython.display import clear_output, display, HTML\n",
      "\n",
      "from laf.fabric import LafFabric\n",
      "fabric3 = LafFabric()\n",
      "fabric4 = LafFabric()\n",
      "\n",
      "from etcbc.lib import Transcription\n",
      "from etcbc.preprocess import prepare\n",
      "tr = Transcription()"
     ],
     "language": "python",
     "metadata": {},
     "outputs": [
      {
       "output_type": "stream",
       "stream": "stderr",
       "text": [
        "  0.00s This is LAF-Fabric 4.3.2\n",
        "http://laf-fabric.readthedocs.org/en/latest/texts/API-reference.html\n"
       ]
      },
      {
       "output_type": "stream",
       "stream": "stderr",
       "text": [
        "  0.00s This is LAF-Fabric 4.3.2\n",
        "http://laf-fabric.readthedocs.org/en/latest/texts/API-reference.html\n"
       ]
      }
     ],
     "prompt_number": 1
    },
    {
     "cell_type": "code",
     "collapsed": false,
     "input": [
      "API3 = fabric3.load('bhs3', '--', 'monads', {\n",
      "    \"xmlids\": {\"node\": False, \"edge\": False},\n",
      "    \"features\": ('''\n",
      "        otype monads text suffix\n",
      "        graphical_word\n",
      "        verse_label\n",
      "    ''',''),\n",
      "    \"primary\": False,\n",
      "    \"prepare\": prepare,\n",
      "})\n",
      "API4 = fabric4.load('bhs4', '--', 'monads', {\n",
      "    \"xmlids\": {\"node\": False, \"edge\": False},\n",
      "    \"features\": ('''\n",
      "        otype monads g_word_utf8 trailer_utf8\n",
      "        g_word\n",
      "        label\n",
      "    ''',''),\n",
      "    \"primary\": False,\n",
      "    \"prepare\": prepare,\n",
      "})"
     ],
     "language": "python",
     "metadata": {},
     "outputs": [
      {
       "output_type": "stream",
       "stream": "stderr",
       "text": [
        "  0.00s LOADING API: please wait ... \n"
       ]
      },
      {
       "output_type": "stream",
       "stream": "stderr",
       "text": [
        "  0.00s INFO: USING DATA COMPILED AT: 2014-06-27T12-21-04\n"
       ]
      },
      {
       "output_type": "stream",
       "stream": "stderr",
       "text": [
        "  2.75s LOGFILE=/Users/dirk/laf-fabric-output/bhs3/monads/__log__monads.txt\n"
       ]
      },
      {
       "output_type": "stream",
       "stream": "stderr",
       "text": [
        "  3.30s INFO: DATA LOADED FROM SOURCE bhs3 AND ANNOX -- FOR TASK monads AT 2014-07-07T17-30-07\n"
       ]
      },
      {
       "output_type": "stream",
       "stream": "stderr",
       "text": [
        "  0.00s LOADING API: please wait ... \n"
       ]
      },
      {
       "output_type": "stream",
       "stream": "stderr",
       "text": [
        "  0.00s INFO: USING DATA COMPILED AT: 2014-07-07T07-58-10\n"
       ]
      },
      {
       "output_type": "stream",
       "stream": "stderr",
       "text": [
        "  2.88s LOGFILE=/Users/dirk/laf-fabric-output/bhs4/monads/__log__monads.txt\n"
       ]
      },
      {
       "output_type": "stream",
       "stream": "stderr",
       "text": [
        "  3.44s INFO: DATA LOADED FROM SOURCE bhs4 AND ANNOX -- FOR TASK monads AT 2014-07-07T17-30-11\n"
       ]
      }
     ],
     "prompt_number": 2
    },
    {
     "cell_type": "code",
     "collapsed": false,
     "input": [
      "splits = {\n",
      "    (3, '219371'): 2,\n",
      "    (3, '373226'): 2,\n",
      "    (3, '373327'): 3,\n",
      "    (3, '373518'): 2,\n",
      "    (3, '373579'): 2,\n",
      "    (3, '390441'): 2,\n",
      "    (3, '408542'): 0,\n",
      "}\n",
      "\n",
      "def monad_passage_index(API, vr, vlabel_name, graphical_name, text_name, trailer_name):\n",
      "    mp_index = collections.OrderedDict()\n",
      "    cur_label = None\n",
      "    cur_wn = None\n",
      "    NN = API['NN']\n",
      "    F = API['F']\n",
      "    msg = API['msg']\n",
      "    chunk = 50000\n",
      "    i = 0\n",
      "    ci = 0\n",
      "    for n in NN():\n",
      "        otype = F.otype.v(n)\n",
      "        if otype == 'verse':\n",
      "            cur_label = F.item[vlabel_name].v(n)\n",
      "            cur_wn = 0\n",
      "        elif otype == 'word':\n",
      "            i += 1\n",
      "            ci += 1\n",
      "            if ci == chunk:\n",
      "                ci = 0\n",
      "                msg(\"{} words\".format(i))\n",
      "            m = F.monads.v(n)\n",
      "            \n",
      "            spos = splits.get((vr, m), None)\n",
      "            translit = F.item[graphical_name].v(n)\n",
      "            text = (F.item[text_name].v(n) + F.item[trailer_name].v(n).replace('\\n',''))\n",
      "            if spos != None:\n",
      "                texts = (text[0:spos], text[spos:])\n",
      "            else:\n",
      "                texts = (text,)\n",
      "            for txt in texts:\n",
      "                start = 0\n",
      "                if len(text) == 0:\n",
      "                    cur_wn += 1\n",
      "                    mp_index[(cur_label, cur_wn)] = (n, m, translit, '')\n",
      "                    continue\n",
      "                while start < len(text):\n",
      "                    s_maqef = text.find('\\u05BE', start)\n",
      "                    s_space = text.find(' ', start)\n",
      "                    s_min = min(s_maqef if s_maqef >= 0 else len(text) - 1, s_space if s_space >= 0 else len(text) - 1) + 1\n",
      "                    comp = text[start:s_min]\n",
      "                    start = s_min\n",
      "                    cur_wn += 1\n",
      "                    mp_index[(cur_label, cur_wn)] = (n, m, \n",
      "                        translit,\n",
      "                        comp,\n",
      "                    )\n",
      "    msg(\"{} words\".format(i))\n",
      "    return mp_index\n",
      "\n",
      "def show_heb(heb):\n",
      "    return ['<td>{}</td><td>{:04X}</td><td>{}</td>'.format(\n",
      "            tr.hebrew_mappingi[c] if c in tr.hebrew_mappingi else c, \n",
      "            ord(c), \n",
      "            unicodedata.name(c).replace('HEBREW ',''),\n",
      "        ) for c in Transcription._comp(heb)]"
     ],
     "language": "python",
     "metadata": {},
     "outputs": [],
     "prompt_number": 60
    },
    {
     "cell_type": "code",
     "collapsed": false,
     "input": [
      "API3['msg'](\"Making index for BHS3\")\n",
      "bhs3 = monad_passage_index(API3, 3, 'verse_label', 'graphical_word', 'text', 'suffix')\n",
      "API3['msg'](\"Done\")\n",
      "API4['msg'](\"Making index for BHS4\")\n",
      "bhs4 = monad_passage_index(API4, 4, 'label', 'g_word', 'g_word_utf8', 'trailer_utf8')\n",
      "API4['msg'](\"Done\")"
     ],
     "language": "python",
     "metadata": {},
     "outputs": [
      {
       "output_type": "stream",
       "stream": "stderr",
       "text": [
        " 1h 36m 04s Making index for BHS3\n"
       ]
      },
      {
       "output_type": "stream",
       "stream": "stderr",
       "text": [
        " 1h 36m 05s 50000 words\n"
       ]
      },
      {
       "output_type": "stream",
       "stream": "stderr",
       "text": [
        " 1h 36m 06s 100000 words\n"
       ]
      },
      {
       "output_type": "stream",
       "stream": "stderr",
       "text": [
        " 1h 36m 07s 150000 words\n"
       ]
      },
      {
       "output_type": "stream",
       "stream": "stderr",
       "text": [
        " 1h 36m 08s 200000 words\n"
       ]
      },
      {
       "output_type": "stream",
       "stream": "stderr",
       "text": [
        " 1h 36m 09s 250000 words\n"
       ]
      },
      {
       "output_type": "stream",
       "stream": "stderr",
       "text": [
        " 1h 36m 10s 300000 words\n"
       ]
      },
      {
       "output_type": "stream",
       "stream": "stderr",
       "text": [
        " 1h 36m 11s 350000 words\n"
       ]
      },
      {
       "output_type": "stream",
       "stream": "stderr",
       "text": [
        " 1h 36m 12s 400000 words\n"
       ]
      },
      {
       "output_type": "stream",
       "stream": "stderr",
       "text": [
        " 1h 36m 13s 426499 words\n"
       ]
      },
      {
       "output_type": "stream",
       "stream": "stderr",
       "text": [
        " 1h 36m 13s Done\n"
       ]
      },
      {
       "output_type": "stream",
       "stream": "stderr",
       "text": [
        " 1h 36m 09s Making index for BHS4\n"
       ]
      },
      {
       "output_type": "stream",
       "stream": "stderr",
       "text": [
        " 1h 36m 10s 50000 words\n"
       ]
      },
      {
       "output_type": "stream",
       "stream": "stderr",
       "text": [
        " 1h 36m 12s 100000 words\n"
       ]
      },
      {
       "output_type": "stream",
       "stream": "stderr",
       "text": [
        " 1h 36m 13s 150000 words\n"
       ]
      },
      {
       "output_type": "stream",
       "stream": "stderr",
       "text": [
        " 1h 36m 14s 200000 words\n"
       ]
      },
      {
       "output_type": "stream",
       "stream": "stderr",
       "text": [
        " 1h 36m 15s 250000 words\n"
       ]
      },
      {
       "output_type": "stream",
       "stream": "stderr",
       "text": [
        " 1h 36m 15s 300000 words\n"
       ]
      },
      {
       "output_type": "stream",
       "stream": "stderr",
       "text": [
        " 1h 36m 17s 350000 words\n"
       ]
      },
      {
       "output_type": "stream",
       "stream": "stderr",
       "text": [
        " 1h 36m 18s 400000 words\n"
       ]
      },
      {
       "output_type": "stream",
       "stream": "stderr",
       "text": [
        " 1h 36m 18s 426555 words\n"
       ]
      },
      {
       "output_type": "stream",
       "stream": "stderr",
       "text": [
        " 1h 36m 19s Done\n"
       ]
      }
     ],
     "prompt_number": 61
    },
    {
     "cell_type": "code",
     "collapsed": false,
     "input": [
      "_show_case_init = '''<html><head><style type=\"text/css\">\n",
      ".heb {font-family: SBL Hebrew; font-size: 32pt;}\n",
      ".gw {font-weight: bold; font-size: 18pt;}\n",
      "body {margin-left: 2em; margin-right: 2em; margin-top: 2em; margin-bottom: 2em;}\n",
      "td {padding: 2pt;}\n",
      "th {padding: 4pt;}\n",
      "    </style></head><body><table rules=\"all\">\n",
      "'''\n",
      "\n",
      "_show_case_final = '''</table></body></html>\n",
      "'''\n",
      "\n",
      "def _show_case(passage, wnum):\n",
      "    g_n = {}\n",
      "    g_m = {}\n",
      "    g_w = {}\n",
      "    g_h = {}\n",
      "    l_u = {}\n",
      "    good = True\n",
      "    for v in (('3', bhs3), ('4', bhs4)):\n",
      "        (vn, vindex) = v\n",
      "        if (passage, wnum) not in vindex:\n",
      "            print(\"No word {} in passage {} in bhs{}\".format(wnum, passage, vn))\n",
      "            good = False\n",
      "            continue\n",
      "        (g_n[vn], g_m[vn], g_w[vn], g_h[vn]) = vindex[(passage, wnum)]\n",
      "        l_u[vn] = show_heb(g_h[vn])\n",
      "    if not good: return 'ERROR'\n",
      "    l = max(len(l_u['3']), len(l_u['4']))\n",
      "    t = ''\n",
      "    t += '<tr><td colspan=\"6\"><h3>{} word {}</td></h3></tr>\\n'.format(passage, wnum)\n",
      "    t += '<th colspan=\"3\">BHS3</th><th colspan=\"3\">BHS4</th></tr>\\n'\n",
      "    t += '<tr><td colspan=\"3\"><p>monad {}, node {}</p></td><td colspan=\"3\"><p>monad {}, node {}</p></td></tr>\\n'.format(\n",
      "        g_m['3'], g_n['3'], g_m['4'], g_n['4'],\n",
      "    )\n",
      "    t += '<tr><td colspan=\"3\" class=\"heb\"><p>&nbsp;<br/>{}</br>&nbsp;</p></td><td colspan=\"3\" class=\"heb\"><p>&nbsp;<br/>{}<br/>&nbsp;</p></td></tr>\\n'.format(\n",
      "        g_h['3'], g_h['4'],\n",
      "    )\n",
      "    t += '<tr><td colspan=\"3\" class=\"gw\"><p>&nbsp;<br/>{}</br>&nbsp;</p></td><td colspan=\"3\" class=\"gw\"><p>&nbsp;<br/>{}<br/>&nbsp;</p></td></tr>\\n'.format(\n",
      "        g_w['3'].replace('&', '&amp;').replace('<', '&lt;').replace('>', '&gt;'), \n",
      "        g_w['4'].replace('&', '&amp;').replace('<', '&lt;').replace('>', '&gt;'),\n",
      "    )\n",
      "    for r in range(l):\n",
      "        t += '<tr>{}{}</tr>\\n'.format(\n",
      "            l_u['3'][r] if r < len(l_u['3']) else '<td colspan=\"3\">&nbsp;</td>',\n",
      "            l_u['4'][r] if r < len(l_u['4']) else '<td colspan=\"3\">&nbsp;</td>',\n",
      "        )\n",
      "    return t\n",
      "\n",
      "def show_case(passage, wnum):\n",
      "    t = '{}{}{}'.format(_show_case_init, _show_case(passage, wnum), _show_case_final)\n",
      "    display(HTML(t))\n",
      "\n",
      "def write_cases(elist, oh):\n",
      "    oh.write(_show_case_init)\n",
      "    for e in elist: oh.write(_show_case(*e))\n",
      "    oh.write(_show_case_final)\n",
      "    "
     ],
     "language": "python",
     "metadata": {},
     "outputs": [],
     "prompt_number": 35
    },
    {
     "cell_type": "code",
     "collapsed": false,
     "input": [
      "show_case(' GEN 01,01', 4)"
     ],
     "language": "python",
     "metadata": {},
     "outputs": [
      {
       "html": [
        "<html><head><style type=\"text/css\">\n",
        ".heb {font-family: SBL Hebrew; font-size: 32pt;}\n",
        ".gw {font-weight: bold; font-size: 18pt;}\n",
        "body {margin-left: 2em; margin-right: 2em; margin-top: 2em; margin-bottom: 2em;}\n",
        "td {padding: 2pt;}\n",
        "th {padding: 4pt;}\n",
        "    </style></head><body><table rules=\"all\">\n",
        "<tr><td colspan=\"6\"><h3> GEN 01,01 word 4</td></h3></tr>\n",
        "<th colspan=\"3\">BHS3</th><th colspan=\"3\">BHS4</th></tr>\n",
        "<tr><td colspan=\"3\"><p>monad 4, node 3</p></td><td colspan=\"3\"><p>monad 4, node 3</p></td></tr>\n",
        "<tr><td colspan=\"3\" class=\"heb\"><p>&nbsp;<br/>\u05d0\u05b1\u05dc\u05b9\u05d4\u05b4\u0591\u05d9\u05dd </br>&nbsp;</p></td><td colspan=\"3\" class=\"heb\"><p>&nbsp;<br/>\u05d0\u05b1\u05dc\u05b9\u05d4\u05b4\u0591\u05d9\u05dd <br/>&nbsp;</p></td></tr>\n",
        "<tr><td colspan=\"3\" class=\"gw\"><p>&nbsp;<br/>&gt;:ELOHI92Jm</br>&nbsp;</p></td><td colspan=\"3\" class=\"gw\"><p>&nbsp;<br/>&gt;:ELOHI92JM<br/>&nbsp;</p></td></tr>\n",
        "<tr><td>></td><td>05D0</td><td>LETTER ALEF</td><td>></td><td>05D0</td><td>LETTER ALEF</td></tr>\n",
        "<tr><td>:E</td><td>05B1</td><td>POINT HATAF SEGOL</td><td>:E</td><td>05B1</td><td>POINT HATAF SEGOL</td></tr>\n",
        "<tr><td>L</td><td>05DC</td><td>LETTER LAMED</td><td>L</td><td>05DC</td><td>LETTER LAMED</td></tr>\n",
        "<tr><td>O</td><td>05B9</td><td>POINT HOLAM</td><td>O</td><td>05B9</td><td>POINT HOLAM</td></tr>\n",
        "<tr><td>H</td><td>05D4</td><td>LETTER HE</td><td>H</td><td>05D4</td><td>LETTER HE</td></tr>\n",
        "<tr><td>I</td><td>05B4</td><td>POINT HIRIQ</td><td>I</td><td>05B4</td><td>POINT HIRIQ</td></tr>\n",
        "<tr><td>92</td><td>0591</td><td>ACCENT ETNAHTA</td><td>92</td><td>0591</td><td>ACCENT ETNAHTA</td></tr>\n",
        "<tr><td>J</td><td>05D9</td><td>LETTER YOD</td><td>J</td><td>05D9</td><td>LETTER YOD</td></tr>\n",
        "<tr><td>m</td><td>05DD</td><td>LETTER FINAL MEM</td><td>m</td><td>05DD</td><td>LETTER FINAL MEM</td></tr>\n",
        "<tr><td>_</td><td>0020</td><td>SPACE</td><td>_</td><td>0020</td><td>SPACE</td></tr>\n",
        "</table></body></html>\n"
       ],
       "metadata": {},
       "output_type": "display_data",
       "text": [
        "<IPython.core.display.HTML at 0x142fcab38>"
       ]
      }
     ],
     "prompt_number": 36
    },
    {
     "cell_type": "code",
     "collapsed": false,
     "input": [
      "missing_in_3 = collections.OrderedDict()\n",
      "missing_in_4 = collections.OrderedDict()\n",
      "different = collections.OrderedDict()\n",
      "\n",
      "codes = collections.OrderedDict((\n",
      "    ('q', 'qetiv/qere'),\n",
      "    ('m', 'merecha -silluq-tifcha-mehuppach-nothing'),\n",
      "    ('n', 'nun hafukha'),\n",
      "    ('d', 'dagesh'),\n",
      "    (None, 'NOT ANALYSED'),\n",
      "))\n",
      "\n",
      "for e in bhs3:\n",
      "    if e not in bhs4: missing_in_4[e] = None\n",
      "for e in bhs4:\n",
      "    if e not in bhs3: missing_in_3[e] = None\n",
      "\n",
      "for e in bhs4:\n",
      "    if e in bhs3:\n",
      "        un3 = Transcription._decomp(unicodedata.normalize('NFKD', bhs3[e][3]))\n",
      "        un4 = Transcription._decomp(unicodedata.normalize('NFKD', bhs4[e][3]))\n",
      "        if  un3 != un4:\n",
      "            code = None\n",
      "            if '\\u05AF' in un4:\n",
      "                code = 'q'\n",
      "            elif un3.replace('\\u05A5', '').replace('\\u05BD', '').replace('\\u0596', '').replace('\\u05A4', '').replace('\\u05BE', '') == un4.replace('\\u05A5', '').replace('\\u05BD', '').replace('\\u0596', '').replace('\\u05A4', '').replace('\\u05BE', ''):\n",
      "                code = 'm'\n",
      "            elif un3.replace('\\u05C6', '\\u05E0') == un4:\n",
      "                code = 'n'\n",
      "            elif un3.replace('\\u05BC', '') == un4.replace('\\u05BC', ''):\n",
      "                code = 'd'\n",
      "            different[e] = code\n",
      "\n",
      "print(\"Missing in bhs3: {} words\".format(len(missing_in_3)))\n",
      "print(\"Missing in bhs4: {} words\".format(len(missing_in_4)))\n",
      "print(\"Different in bhs3 and bhs4: {} words\".format(len(different)))\n",
      "\n",
      "for code in codes:\n",
      "    print(\"{}x : {}\".format(len([e for e in different if different[e] == code]), codes[code]))"
     ],
     "language": "python",
     "metadata": {},
     "outputs": [
      {
       "output_type": "stream",
       "stream": "stdout",
       "text": [
        "Missing in bhs3: 2 words\n",
        "Missing in bhs4: 2 words\n",
        "Different in bhs3 and bhs4: 2030 words\n",
        "1892x : qetiv/qere\n",
        "52x : merecha -silluq-tifcha-mehuppach-nothing\n",
        "9x : nun hafukha\n",
        "11x : dagesh\n",
        "66x : NOT ANALYSED\n"
       ]
      }
     ],
     "prompt_number": 62
    },
    {
     "cell_type": "code",
     "collapsed": false,
     "input": [
      "ohtest = API4['outfile']('test.html')\n",
      "testcases = [(' EXO 32,17', i) for i in range(1,11)]\n",
      "write_cases(testcases, ohtest)\n",
      "ohtest.close()"
     ],
     "language": "python",
     "metadata": {},
     "outputs": [],
     "prompt_number": 38
    },
    {
     "cell_type": "code",
     "collapsed": false,
     "input": [
      "print(missing_in_4)"
     ],
     "language": "python",
     "metadata": {},
     "outputs": [
      {
       "output_type": "stream",
       "stream": "stdout",
       "text": [
        "OrderedDict([((' EZE 18,14', 19), None)])\n"
       ]
      }
     ],
     "prompt_number": 39
    },
    {
     "cell_type": "code",
     "collapsed": false,
     "input": [
      "ohf = API4['outfile']('comp.txt')\n",
      "ohe = API4['outfile']('cases.html')\n",
      "for code in reversed(codes):\n",
      "    if code == 'q': continue\n",
      "    desc = codes[code]\n",
      "    cases = list(e for e in different if different[e] == code)\n",
      "    ohe.write(\"<h1>Cases of {}</h1>\".format(desc))\n",
      "    write_cases(cases, ohe)\n",
      "    ohf.write('# {}\\n'.format(desc))\n",
      "    ohf.write('\\n'.join('{}\\t{}\\t{}'.format(e[0], e[1], 'x') for e in cases))\n",
      "ohf.close()\n",
      "ohe.close()"
     ],
     "language": "python",
     "metadata": {},
     "outputs": [],
     "prompt_number": 63
    },
    {
     "cell_type": "code",
     "collapsed": false,
     "input": [],
     "language": "python",
     "metadata": {},
     "outputs": []
    }
   ],
   "metadata": {}
  }
 ]
}