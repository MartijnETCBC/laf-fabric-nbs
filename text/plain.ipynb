{
 "metadata": {
  "name": "",
  "signature": "sha256:653a227080b3d7a59f5c974c55c91e3fde6128b1e5277b876f011d8a1b836300"
 },
 "nbformat": 3,
 "nbformat_minor": 0,
 "worksheets": [
  {
   "cells": [
    {
     "cell_type": "markdown",
     "metadata": {},
     "source": [
      "<a href=\"http://laf-fabric.readthedocs.org/en/latest/\" target=\"_blank\"><img align=\"left\" src=\"images/laf-fabric-xsmall.png\"/></a>\n",
      "<a href=\"http://www.godgeleerdheid.vu.nl/etcbc\" target=\"_blank\"><img align=\"left\" src=\"images/VU-ETCBC-xsmall.png\"/></a>\n",
      "<a href=\"http://www.persistent-identifier.nl/?identifier=urn%3Anbn%3Anl%3Aui%3A13-048i-71\" target=\"_blank\"><img align=\"left\"src=\"images/etcbc4easy-small.png\"/></a>\n",
      "<a href=\"http://tla.mpi.nl\" target=\"_blank\"><img align=\"right\" src=\"images/TLA-xsmall.png\"/></a>\n",
      "<a href=\"http://www.dans.knaw.nl\" target=\"_blank\"><img align=\"right\"src=\"images/DANS-xsmall.png\"/></a>"
     ]
    },
    {
     "cell_type": "heading",
     "level": 1,
     "metadata": {},
     "source": [
      "Plain Text"
     ]
    },
    {
     "cell_type": "heading",
     "level": 1,
     "metadata": {},
     "source": [
      "Text from features"
     ]
    },
    {
     "cell_type": "markdown",
     "metadata": {},
     "source": [
      "Here comes the plain text of the Hebrew Bible.\n",
      "\n",
      "You can retrieve a text that is identical to the primary data of the LAF resource.\n",
      "So what is the use?\n",
      "\n",
      "* You can use it as a check that the LAF-Fabric machinery works correct\n",
      "* You can make text selections that interest you\n",
      "* You can ask for the unvocalized text\n",
      "\n",
      "The text is obtained by walking all word nodes and concatenate their ``g_word_utf8`` or ``g_cons_utf8`` and ``trailer_utf8`` features.\n",
      "\n",
      "The ``g_word_utf8`` feature contains the unicode representation of the vocalized text of the word.\n",
      "\n",
      "The ``g_cons_utf8`` feature contains the unicode representation of the consonantal text of the word.\n",
      "\n",
      "The ``trailer_utf8`` feature contains the unicode representation of material that follows the word,\n",
      "but does not belong to the word and neither to the following word. \n",
      "It may be empty, a space, punctuation, or certain other textual marks."
     ]
    },
    {
     "cell_type": "code",
     "collapsed": false,
     "input": [
      "import sys\n",
      "import collections\n",
      "\n",
      "from laf.fabric import LafFabric\n",
      "fabric = LafFabric()"
     ],
     "language": "python",
     "metadata": {},
     "outputs": [
      {
       "output_type": "stream",
       "stream": "stderr",
       "text": [
        "  0.00s This is LAF-Fabric 4.4.3\n",
        "API reference: http://laf-fabric.readthedocs.org/en/latest/texts/API-reference.html\n",
        "Feature doc: http://shebanq-doc.readthedocs.org/en/latest/texts/welcome.html\n",
        "\n"
       ]
      }
     ],
     "prompt_number": 1
    },
    {
     "cell_type": "code",
     "collapsed": false,
     "input": [
      "fabric.load('etcbc4', '--', 'plain', {\n",
      "    \"xmlids\": {\"node\": False, \"edge\": False},\n",
      "    \"features\": ('''\n",
      "        otype\n",
      "        g_word_utf8 g_cons_utf8 trailer_utf8\n",
      "        g_word g_cons lex_utf8\n",
      "        sp\n",
      "        book chapter verse label\n",
      "    ''',''),\n",
      "    \"primary\": True,\n",
      "})\n",
      "exec(fabric.localnames.format(var='fabric'))"
     ],
     "language": "python",
     "metadata": {},
     "outputs": [
      {
       "output_type": "stream",
       "stream": "stderr",
       "text": [
        "  0.00s LOADING API: please wait ... \n"
       ]
      },
      {
       "output_type": "stream",
       "stream": "stderr",
       "text": [
        "  0.00s INFO: USING DATA COMPILED AT: 2014-07-23T09-31-37\n"
       ]
      },
      {
       "output_type": "stream",
       "stream": "stderr",
       "text": [
        "  4.08s LOGFILE=/Users/dirk/laf-fabric-output/etcbc4/plain/__log__plain.txt\n"
       ]
      },
      {
       "output_type": "stream",
       "stream": "stderr",
       "text": [
        "  4.09s INFO: DATA LOADED FROM SOURCE etcbc4 AND ANNOX -- FOR TASK plain AT 2014-09-29T13-16-50\n"
       ]
      }
     ],
     "prompt_number": 2
    },
    {
     "cell_type": "heading",
     "level": 2,
     "metadata": {},
     "source": [
      "Trailer"
     ]
    },
    {
     "cell_type": "markdown",
     "metadata": {},
     "source": [
      "Before we generate the text, let's list all the different suffixes and their number of occurrences."
     ]
    },
    {
     "cell_type": "code",
     "collapsed": false,
     "input": [
      "trailer = collections.defaultdict(int)\n",
      "\n",
      "for node in NN(test=F.otype.v, value='word'):\n",
      "    trailer[F.trailer_utf8.v(node)] += 1\n",
      "\n",
      "trailer_file = outfile('trailers.txt')\n",
      "for (trl, n) in sorted(trailer.items(), key=lambda x: (-x[1], x[0])):\n",
      "    trailer_file.write(\"{:>7} x [{}]\\n\".format(n, trl))\n",
      "trailer_file.close()"
     ],
     "language": "python",
     "metadata": {},
     "outputs": [],
     "prompt_number": 3
    },
    {
     "cell_type": "code",
     "collapsed": false,
     "input": [
      "cat {my_file('trailers.txt')}"
     ],
     "language": "python",
     "metadata": {},
     "outputs": [
      {
       "output_type": "stream",
       "stream": "stdout",
       "text": [
        " 237040 x [ ]\r\n",
        " 121783 x []\r\n",
        "  42274 x [\u05be]\r\n",
        "  20037 x [\u05c3\r\n",
        "]\r\n",
        "   2266 x [ \u05c0 ]\r\n",
        "   1892 x [\u05c3 \u05e1\r\n",
        "]\r\n",
        "   1165 x [\u05c3 \u05e4\r\n",
        "]\r\n",
        "     76 x [ \u05e1]\r\n",
        "     13 x [ \u05e4]\r\n",
        "      7 x [\u05c3 \u05c6\u0307\r\n",
        "]\r\n",
        "      1 x [\u05c3 \u05c6\u0307 \u05e1\r\n",
        "]\r\n",
        "      1 x [\u05c3 \u05c6\u0307 \u05e4\r\n",
        "]\r\n"
       ]
      }
     ],
     "prompt_number": 4
    },
    {
     "cell_type": "heading",
     "level": 2,
     "metadata": {},
     "source": [
      "Vocalized text versus consonantal text, Hebrew Unicode versus Transliteration"
     ]
    },
    {
     "cell_type": "markdown",
     "metadata": {},
     "source": [
      "Now the complete text, note that we insert some newlines.\n",
      "\n",
      "If you want the consonantal text, replace the feature ``g_word_utf8`` by ``g_cons_utf8``.\n",
      "\n",
      "In many cases the use of Hebrew Unicode characters, however pleasing to the eye, is not preferred.\n",
      "Often the Hebrew occurrs embedded in non-Hebrew text, or under tree structures where the Hebrew right-to-left writing\n",
      "direction does not play nice with the context.\n",
      "Moreover, rendering software such as text editor, command prompts and browsers solve the puzzle of multiple writing directions\n",
      "in unpredictable ways.\n",
      "\n",
      "In those cases you can resort to a *transliteration*, with or without vowels.\n",
      "Use the features ``g_word`` and ``g_cons``."
     ]
    },
    {
     "cell_type": "code",
     "collapsed": false,
     "input": [
      "plain_file = outfile(\"etcbc4_plain.txt\")\n",
      "plainc_file = outfile(\"etcbc4_plainc.txt\")\n",
      "plaint_file = outfile(\"etcbc4_plaint.txt\")\n",
      "plaintc_file = outfile(\"etcbc4_plaintc.txt\")\n",
      "\n",
      "for i in F.otype.s('word'):\n",
      "    the_text = F.g_word_utf8.v(i)\n",
      "    the_textc = F.g_cons_utf8.v(i)\n",
      "    the_textt = F.g_word.v(i)\n",
      "    the_texttc = F.g_cons.v(i)\n",
      "    the_trailer = F.trailer_utf8.v(i)\n",
      "    the_newline = '\\n' if '\\n' in the_trailer else ''\n",
      "    plain_file.write(the_text + the_trailer)\n",
      "    plainc_file.write(the_textc + the_trailer)\n",
      "    plaint_file.write(the_textt + \" \" + the_newline)\n",
      "    plaintc_file.write(the_texttc + \" \" + the_newline)\n",
      "\n",
      "plain_file.close()\n",
      "plainc_file.close()\n",
      "plaint_file.close()\n",
      "plaintc_file.close()"
     ],
     "language": "python",
     "metadata": {},
     "outputs": [],
     "prompt_number": 5
    },
    {
     "cell_type": "code",
     "collapsed": true,
     "input": [
      "!head -n 10 {my_file('etcbc4_plain.txt')}"
     ],
     "language": "python",
     "metadata": {},
     "outputs": [
      {
       "output_type": "stream",
       "stream": "stdout",
       "text": [
        "\u05d1\u05b0\u05bc\u05e8\u05b5\u05d0\u05e9\u05b4\u05c1\u0596\u05d9\u05ea \u05d1\u05b8\u05bc\u05e8\u05b8\u05a3\u05d0 \u05d0\u05b1\u05dc\u05b9\u05d4\u05b4\u0591\u05d9\u05dd \u05d0\u05b5\u05a5\u05ea \u05d4\u05b7\u05e9\u05b8\u05bc\u05c1\u05de\u05b7\u0596\u05d9\u05b4\u05dd \u05d5\u05b0\u05d0\u05b5\u05a5\u05ea \u05d4\u05b8\u05d0\u05b8\u05bd\u05e8\u05b6\u05e5\u05c3\r\n",
        "\u05d5\u05b0\u05d4\u05b8\u05d0\u05b8\u0597\u05e8\u05b6\u05e5 \u05d4\u05b8\u05d9\u05b0\u05ea\u05b8\u05a5\u05d4 \u05ea\u05b9\u05a8\u05d4\u05d5\u05bc\u0599 \u05d5\u05b8\u05d1\u05b9\u0594\u05d4\u05d5\u05bc \u05d5\u05b0\u05d7\u05b9\u0596\u05e9\u05b6\u05c1\u05da\u05b0 \u05e2\u05b7\u05dc\u05be\u05e4\u05b0\u05bc\u05e0\u05b5\u05a3\u05d9 \u05ea\u05b0\u05d4\u05b9\u0591\u05d5\u05dd \u05d5\u05b0\u05e8\u05a3\u05d5\u05bc\u05d7\u05b7 \u05d0\u05b1\u05dc\u05b9\u05d4\u05b4\u0594\u05d9\u05dd \u05de\u05b0\u05e8\u05b7\u05d7\u05b6\u0596\u05e4\u05b6\u05ea \u05e2\u05b7\u05dc\u05be\u05e4\u05b0\u05bc\u05e0\u05b5\u05a5\u05d9 \u05d4\u05b7\u05de\u05b8\u05bc\u05bd\u05d9\u05b4\u05dd\u05c3\r\n",
        "\u05d5\u05b7\u05d9\u05b9\u05bc\u05a5\u05d0\u05de\u05b6\u05e8 \u05d0\u05b1\u05dc\u05b9\u05d4\u05b4\u0596\u05d9\u05dd \u05d9\u05b0\u05d4\u05b4\u05a3\u05d9 \u05d0\u05b9\u0591\u05d5\u05e8 \u05d5\u05b7\u05bd\u05d9\u05b0\u05d4\u05b4\u05d9\u05be\u05d0\u05b9\u05bd\u05d5\u05e8\u05c3\r\n",
        "\u05d5\u05b7\u05d9\u05b7\u05bc\u05a7\u05e8\u05b0\u05d0 \u05d0\u05b1\u05dc\u05b9\u05d4\u05b4\u059b\u05d9\u05dd \u05d0\u05b6\u05ea\u05be\u05d4\u05b8\u05d0\u05b9\u0596\u05d5\u05e8 \u05db\u05b4\u05bc\u05d9\u05be\u05d8\u05b9\u0591\u05d5\u05d1 \u05d5\u05b7\u05d9\u05b7\u05bc\u05d1\u05b0\u05d3\u05b5\u05bc\u05a3\u05dc \u05d0\u05b1\u05dc\u05b9\u05d4\u05b4\u0594\u05d9\u05dd \u05d1\u05b5\u05bc\u05a5\u05d9\u05df \u05d4\u05b8\u05d0\u05b9\u0596\u05d5\u05e8 \u05d5\u05bc\u05d1\u05b5\u05a5\u05d9\u05df \u05d4\u05b7\u05d7\u05b9\u05bd\u05e9\u05b6\u05c1\u05da\u05b0\u05c3\r\n",
        "\u05d5\u05b7\u05d9\u05b4\u05bc\u05e7\u05b0\u05e8\u05b8\u05a8\u05d0 \u05d0\u05b1\u05dc\u05b9\u05d4\u05b4\u05a4\u05d9\u05dd \u05c0 \u05dc\u05b8\u05d0\u05b9\u05d5\u05e8\u0599 \u05d9\u05b9\u0594\u05d5\u05dd \u05d5\u05b0\u05dc\u05b7\u05d7\u05b9\u0596\u05e9\u05b6\u05c1\u05da\u05b0 \u05e7\u05b8\u05a3\u05e8\u05b8\u05d0 \u05dc\u05b8\u0591\u05d9\u05b0\u05dc\u05b8\u05d4 \u05d5\u05b7\u05bd\u05d9\u05b0\u05d4\u05b4\u05d9\u05be\u05e2\u05b6\u05a5\u05e8\u05b6\u05d1 \u05d5\u05b7\u05bd\u05d9\u05b0\u05d4\u05b4\u05d9\u05be\u05d1\u05b9\u0596\u05e7\u05b6\u05e8 \u05d9\u05b9\u05a5\u05d5\u05dd \u05d0\u05b6\u05d7\u05b8\u05bd\u05d3\u05c3 \u05e4\r\n",
        "\u05d5\u05b7\u05d9\u05b9\u05bc\u05a3\u05d0\u05de\u05b6\u05e8 \u05d0\u05b1\u05dc\u05b9\u05d4\u05b4\u0594\u05d9\u05dd \u05d9\u05b0\u05d4\u05b4\u05a5\u05d9 \u05e8\u05b8\u05e7\u05b4\u0596\u05d9\u05e2\u05b7 \u05d1\u05b0\u05bc\u05ea\u05b9\u05a3\u05d5\u05da\u05b0 \u05d4\u05b7\u05de\u05b8\u05bc\u0591\u05d9\u05b4\u05dd \u05d5\u05b4\u05d9\u05d4\u05b4\u05a3\u05d9 \u05de\u05b7\u05d1\u05b0\u05d3\u05b4\u05bc\u0594\u05d9\u05dc \u05d1\u05b5\u05bc\u05a5\u05d9\u05df \u05de\u05b7\u0596\u05d9\u05b4\u05dd \u05dc\u05b8\u05de\u05b8\u05bd\u05d9\u05b4\u05dd\u05c3\r\n",
        "\u05d5\u05b7\u05d9\u05b7\u05bc\u05a3\u05e2\u05b7\u05e9\u05c2 \u05d0\u05b1\u05dc\u05b9\u05d4\u05b4\u05d9\u05dd\u05ae \u05d0\u05b6\u05ea\u05be\u05d4\u05b8\u05e8\u05b8\u05e7\u05b4\u05d9\u05e2\u05b7\u0592 \u05d5\u05b7\u05d9\u05b7\u05bc\u05d1\u05b0\u05d3\u05b5\u05bc\u0597\u05dc \u05d1\u05b5\u05bc\u05a4\u05d9\u05df \u05d4\u05b7\u05de\u05b7\u05bc\u05a8\u05d9\u05b4\u05dd\u0599 \u05d0\u05b2\u05e9\u05b6\u05c1\u05e8\u0599 \u05de\u05b4\u05ea\u05b7\u05bc\u05a3\u05d7\u05b7\u05ea \u05dc\u05b8\u05e8\u05b8\u05e7\u05b4\u0594\u05d9\u05e2\u05b7 \u05d5\u05bc\u05d1\u05b5\u05a3\u05d9\u05df \u05d4\u05b7\u05de\u05b7\u05bc\u0594\u05d9\u05b4\u05dd \u05d0\u05b2\u05e9\u05b6\u05c1\u0596\u05e8 \u05de\u05b5\u05e2\u05b7\u05a3\u05dc \u05dc\u05b8\u05e8\u05b8\u05e7\u05b4\u0591\u05d9\u05e2\u05b7 \u05d5\u05b7\u05bd\u05d9\u05b0\u05d4\u05b4\u05d9\u05be\u05db\u05b5\u05bd\u05df\u05c3\r\n",
        "\u05d5\u05b7\u05d9\u05b4\u05bc\u05e7\u05b0\u05e8\u05b8\u05a7\u05d0 \u05d0\u05b1\u05dc\u05b9\u05d4\u05b4\u059b\u05d9\u05dd \u05dc\u05b8\u05bd\u05e8\u05b8\u05e7\u05b4\u0596\u05d9\u05e2\u05b7 \u05e9\u05b8\u05c1\u05de\u05b8\u0591\u05d9\u05b4\u05dd \u05d5\u05b7\u05bd\u05d9\u05b0\u05d4\u05b4\u05d9\u05be\u05e2\u05b6\u05a5\u05e8\u05b6\u05d1 \u05d5\u05b7\u05bd\u05d9\u05b0\u05d4\u05b4\u05d9\u05be\u05d1\u05b9\u0596\u05e7\u05b6\u05e8 \u05d9\u05b9\u05a5\u05d5\u05dd \u05e9\u05b5\u05c1\u05e0\u05b4\u05bd\u05d9\u05c3 \u05e4\r\n",
        "\u05d5\u05b7\u05d9\u05b9\u05bc\u05a3\u05d0\u05de\u05b6\u05e8 \u05d0\u05b1\u05dc\u05b9\u05d4\u05b4\u0597\u05d9\u05dd \u05d9\u05b4\u05e7\u05b8\u05bc\u05d5\u05a8\u05d5\u05bc \u05d4\u05b7\u05de\u05b7\u05bc\u059c\u05d9\u05b4\u05dd \u05de\u05b4\u05ea\u05b7\u05bc\u05a4\u05d7\u05b7\u05ea \u05d4\u05b7\u05e9\u05b8\u05bc\u05c1\u05de\u05b7\u05a8\u05d9\u05b4\u05dd\u0599 \u05d0\u05b6\u05dc\u05be\u05de\u05b8\u05e7\u05b9\u05a3\u05d5\u05dd \u05d0\u05b6\u05d7\u05b8\u0594\u05d3 \u05d5\u05b0\u05ea\u05b5\u05e8\u05b8\u05d0\u05b6\u0596\u05d4 \u05d4\u05b7\u05d9\u05b7\u05bc\u05d1\u05b8\u05bc\u05e9\u05b8\u05c1\u0591\u05d4 \u05d5\u05b7\u05bd\u05d9\u05b0\u05d4\u05b4\u05d9\u05be\u05db\u05b5\u05bd\u05df\u05c3\r\n",
        "\u05d5\u05b7\u05d9\u05b4\u05bc\u05e7\u05b0\u05e8\u05b8\u05a8\u05d0 \u05d0\u05b1\u05dc\u05b9\u05d4\u05b4\u05a4\u05d9\u05dd \u05c0 \u05dc\u05b7\u05d9\u05b7\u05bc\u05d1\u05b8\u05bc\u05e9\u05b8\u05c1\u05d4\u0599 \u05d0\u05b6\u0594\u05e8\u05b6\u05e5 \u05d5\u05bc\u05dc\u05b0\u05de\u05b4\u05e7\u05b0\u05d5\u05b5\u05a5\u05d4 \u05d4\u05b7\u05de\u05b7\u05bc\u0596\u05d9\u05b4\u05dd \u05e7\u05b8\u05e8\u05b8\u05a3\u05d0 \u05d9\u05b7\u05de\u05b4\u05bc\u0591\u05d9\u05dd \u05d5\u05b7\u05d9\u05b7\u05bc\u05a5\u05e8\u05b0\u05d0 \u05d0\u05b1\u05dc\u05b9\u05d4\u05b4\u0596\u05d9\u05dd \u05db\u05b4\u05bc\u05d9\u05be\u05d8\u05b9\u05bd\u05d5\u05d1\u05c3\r\n"
       ]
      }
     ],
     "prompt_number": 6
    },
    {
     "cell_type": "code",
     "collapsed": true,
     "input": [
      "!head -n 10 {my_file('etcbc4_plainc.txt')}"
     ],
     "language": "python",
     "metadata": {},
     "outputs": [
      {
       "output_type": "stream",
       "stream": "stdout",
       "text": [
        "\u05d1\u05e8\u05d0\u05e9\u05c1\u05d9\u05ea \u05d1\u05e8\u05d0 \u05d0\u05dc\u05d4\u05d9\u05dd \u05d0\u05ea \u05d4\u05e9\u05c1\u05de\u05d9\u05dd \u05d5\u05d0\u05ea \u05d4\u05d0\u05e8\u05e5\u05c3\r\n",
        "\u05d5\u05d4\u05d0\u05e8\u05e5 \u05d4\u05d9\u05ea\u05d4 \u05ea\u05d4\u05d5 \u05d5\u05d1\u05d4\u05d5 \u05d5\u05d7\u05e9\u05c1\u05da \u05e2\u05dc\u05be\u05e4\u05e0\u05d9 \u05ea\u05d4\u05d5\u05dd \u05d5\u05e8\u05d5\u05d7 \u05d0\u05dc\u05d4\u05d9\u05dd \u05de\u05e8\u05d7\u05e4\u05ea \u05e2\u05dc\u05be\u05e4\u05e0\u05d9 \u05d4\u05de\u05d9\u05dd\u05c3\r\n",
        "\u05d5\u05d9\u05d0\u05de\u05e8 \u05d0\u05dc\u05d4\u05d9\u05dd \u05d9\u05d4\u05d9 \u05d0\u05d5\u05e8 \u05d5\u05d9\u05d4\u05d9\u05be\u05d0\u05d5\u05e8\u05c3\r\n",
        "\u05d5\u05d9\u05e8\u05d0 \u05d0\u05dc\u05d4\u05d9\u05dd \u05d0\u05ea\u05be\u05d4\u05d0\u05d5\u05e8 \u05db\u05d9\u05be\u05d8\u05d5\u05d1 \u05d5\u05d9\u05d1\u05d3\u05dc \u05d0\u05dc\u05d4\u05d9\u05dd \u05d1\u05d9\u05df \u05d4\u05d0\u05d5\u05e8 \u05d5\u05d1\u05d9\u05df \u05d4\u05d7\u05e9\u05c1\u05da\u05c3\r\n",
        "\u05d5\u05d9\u05e7\u05e8\u05d0 \u05d0\u05dc\u05d4\u05d9\u05dd \u05c0 \u05dc\u05d0\u05d5\u05e8 \u05d9\u05d5\u05dd \u05d5\u05dc\u05d7\u05e9\u05c1\u05da \u05e7\u05e8\u05d0 \u05dc\u05d9\u05dc\u05d4 \u05d5\u05d9\u05d4\u05d9\u05be\u05e2\u05e8\u05d1 \u05d5\u05d9\u05d4\u05d9\u05be\u05d1\u05e7\u05e8 \u05d9\u05d5\u05dd \u05d0\u05d7\u05d3\u05c3 \u05e4\r\n",
        "\u05d5\u05d9\u05d0\u05de\u05e8 \u05d0\u05dc\u05d4\u05d9\u05dd \u05d9\u05d4\u05d9 \u05e8\u05e7\u05d9\u05e2 \u05d1\u05ea\u05d5\u05da \u05d4\u05de\u05d9\u05dd \u05d5\u05d9\u05d4\u05d9 \u05de\u05d1\u05d3\u05d9\u05dc \u05d1\u05d9\u05df \u05de\u05d9\u05dd \u05dc\u05de\u05d9\u05dd\u05c3\r\n",
        "\u05d5\u05d9\u05e2\u05e9\u05c2 \u05d0\u05dc\u05d4\u05d9\u05dd \u05d0\u05ea\u05be\u05d4\u05e8\u05e7\u05d9\u05e2 \u05d5\u05d9\u05d1\u05d3\u05dc \u05d1\u05d9\u05df \u05d4\u05de\u05d9\u05dd \u05d0\u05e9\u05c1\u05e8 \u05de\u05ea\u05d7\u05ea \u05dc\u05e8\u05e7\u05d9\u05e2 \u05d5\u05d1\u05d9\u05df \u05d4\u05de\u05d9\u05dd \u05d0\u05e9\u05c1\u05e8 \u05de\u05e2\u05dc \u05dc\u05e8\u05e7\u05d9\u05e2 \u05d5\u05d9\u05d4\u05d9\u05be\u05db\u05df\u05c3\r\n",
        "\u05d5\u05d9\u05e7\u05e8\u05d0 \u05d0\u05dc\u05d4\u05d9\u05dd \u05dc\u05e8\u05e7\u05d9\u05e2 \u05e9\u05c1\u05de\u05d9\u05dd \u05d5\u05d9\u05d4\u05d9\u05be\u05e2\u05e8\u05d1 \u05d5\u05d9\u05d4\u05d9\u05be\u05d1\u05e7\u05e8 \u05d9\u05d5\u05dd \u05e9\u05c1\u05e0\u05d9\u05c3 \u05e4\r\n",
        "\u05d5\u05d9\u05d0\u05de\u05e8 \u05d0\u05dc\u05d4\u05d9\u05dd \u05d9\u05e7\u05d5\u05d5 \u05d4\u05de\u05d9\u05dd \u05de\u05ea\u05d7\u05ea \u05d4\u05e9\u05c1\u05de\u05d9\u05dd \u05d0\u05dc\u05be\u05de\u05e7\u05d5\u05dd \u05d0\u05d7\u05d3 \u05d5\u05ea\u05e8\u05d0\u05d4 \u05d4\u05d9\u05d1\u05e9\u05c1\u05d4 \u05d5\u05d9\u05d4\u05d9\u05be\u05db\u05df\u05c3\r\n",
        "\u05d5\u05d9\u05e7\u05e8\u05d0 \u05d0\u05dc\u05d4\u05d9\u05dd \u05c0 \u05dc\u05d9\u05d1\u05e9\u05c1\u05d4 \u05d0\u05e8\u05e5 \u05d5\u05dc\u05de\u05e7\u05d5\u05d4 \u05d4\u05de\u05d9\u05dd \u05e7\u05e8\u05d0 \u05d9\u05de\u05d9\u05dd \u05d5\u05d9\u05e8\u05d0 \u05d0\u05dc\u05d4\u05d9\u05dd \u05db\u05d9\u05be\u05d8\u05d5\u05d1\u05c3\r\n"
       ]
      }
     ],
     "prompt_number": 7
    },
    {
     "cell_type": "code",
     "collapsed": true,
     "input": [
      "!head -n 10 {my_file('etcbc4_plaint.txt')}"
     ],
     "language": "python",
     "metadata": {},
     "outputs": [
      {
       "output_type": "stream",
       "stream": "stdout",
       "text": [
        "B.:- R;>CI73JT B.@R@74> >:ELOHI92JM >;71T HA- C.@MA73JIM W:- >;71T H@- >@75REY00 \r\n",
        "W:- H@- >@81REY H@J:T@71H TO33HW.03 W@- BO80HW. W:- XO73CEK: <AL& P.:N;74J T:HO92WM W:- R74W.XA >:ELOHI80JM M:RAXE73PET <AL& P.:N;71J HA- M.@75JIM00 \r\n",
        "WA- J.O71>MER >:ELOHI73JM J:HI74J >O92WR WA75- J:HIJ& >O75WR00 \r\n",
        "WA- J.A94R:> >:ELOHI91JM >ET& H@- >O73WR K.IJ& VO92WB WA- J.AB:D.;74L >:ELOHI80JM B.;71JN H@- >O73WR W.- B;71JN HA- XO75CEK:00 \r\n",
        "WA- J.IQ:R@63> >:ELOHI70JM05 L@- >OWR03 - JO80WM W:- LA- XO73CEK: - Q@74R@> L@92J:L@H WA75- J:HIJ& <E71REB WA75- J:HIJ& BO73QER JO71WM >EX@75D00_P \r\n",
        "WA- J.O74>MER >:ELOHI80JM J:HI71J R@QI73J<A B.:- TO74WK: HA- M.@92JIM WI- JHI74J MAB:D.I80JL B.;71JN MA73JIM L@- M@75JIM00 \r\n",
        "WA- J.A74<AF >:ELOHIJM02 >ET& H@- R@QIJ<A01 WA- J.AB:D.;81L B.;70JN HA- M.A33JIM03 >:ACER03 MI- T.A74XAT L@- R@QI80J<A - W.- B;74JN HA- M.A80JIM >:ACE73R M;- <A74L L@- R@QI92J<A - WA75- J:HIJ& K;75N00 \r\n",
        "WA- J.IQ:R@94> >:ELOHI91JM L@75- R@QI73J<A - C@M@92JIM WA75- J:HIJ& <E71REB WA75- J:HIJ& BO73QER JO71WM C;NI75J00_P \r\n",
        "WA- J.O74>MER >:ELOHI81JM JIQ.@W63W. HA- M.A61JIM MI- T.A70XAT HA- C.@MA33JIM03 >EL& M@QO74WM >EX@80D W:- T;R@>E73H HA- J.AB.@C@92H WA75- J:HIJ& K;75N00 \r\n",
        "WA- J.IQ:R@63> >:ELOHI70JM05 LA- J.AB.@C@H03 - >E80REY W.- L:- MIQ:W;71H HA- M.A73JIM Q@R@74> JAM.I92JM WA- J.A71R:> >:ELOHI73JM K.IJ& VO75WB00 \r\n"
       ]
      }
     ],
     "prompt_number": 8
    },
    {
     "cell_type": "code",
     "collapsed": true,
     "input": [
      "!head -n 10 {my_file('etcbc4_plaintc.txt')}"
     ],
     "language": "python",
     "metadata": {},
     "outputs": [
      {
       "output_type": "stream",
       "stream": "stdout",
       "text": [
        "B R>CJT BR> >LHJM >T H CMJM W >T H >RY \r\n",
        "W H >RY HJTH THW W BHW W XCK <L PNJ THWM W RWX >LHJM MRXPT <L PNJ H MJM \r\n",
        "W J>MR >LHJM JHJ >WR W JHJ >WR \r\n",
        "W JR> >LHJM >T H >WR KJ VWB W JBDL >LHJM BJN H >WR W BJN H XCK \r\n",
        "W JQR> >LHJM L >WR  JWM W L XCK  QR> LJLH W JHJ <RB W JHJ BQR JWM >XD \r\n",
        "W J>MR >LHJM JHJ RQJ< B TWK H MJM W JHJ MBDJL BJN MJM L MJM \r\n",
        "W J<F >LHJM >T H RQJ< W JBDL BJN H MJM >CR M TXT L RQJ<  W BJN H MJM >CR M <L L RQJ<  W JHJ KN \r\n",
        "W JQR> >LHJM L RQJ<  CMJM W JHJ <RB W JHJ BQR JWM CNJ \r\n",
        "W J>MR >LHJM JQWW H MJM M TXT H CMJM >L MQWM >XD W TR>H H JBCH W JHJ KN \r\n",
        "W JQR> >LHJM L JBCH  >RY W L MQWH H MJM QR> JMJM W JR> >LHJM KJ VWB \r\n"
       ]
      }
     ],
     "prompt_number": 9
    },
    {
     "cell_type": "heading",
     "level": 2,
     "metadata": {},
     "source": [
      "Passage indicators"
     ]
    },
    {
     "cell_type": "markdown",
     "metadata": {},
     "source": [
      "If you want books, chapters and verses marked, you can achieve it in the following way:"
     ]
    },
    {
     "cell_type": "code",
     "collapsed": false,
     "input": [
      "plainx_file = outfile(\"etcbc4_plainx.txt\")\n",
      "plaintx_file = outfile(\"etcbc4_plaintx.txt\")\n",
      "\n",
      "the_book = None\n",
      "the_chapter = None\n",
      "the_verse = None\n",
      "\n",
      "for i in NN():\n",
      "    this_type = F.otype.v(i)\n",
      "    if this_type == \"word\":\n",
      "        the_text = F.g_word_utf8.v(i)\n",
      "        the_textt = F.g_word.v(i)\n",
      "        the_trailer = F.trailer_utf8.v(i)\n",
      "        the_newline = '\\n' if '\\n' in the_trailer else ''\n",
      "        plainx_file.write(the_text + the_trailer)\n",
      "        plaintx_file.write(the_textt + ' ' + the_newline)\n",
      "    elif this_type == \"book\":\n",
      "        the_book = F.book.v(i)\n",
      "        sys.stderr.write(\"\\r{:>6} {:<30}\".format(i, the_book)) \n",
      "        plainx_file.write(\"\\n{}\".format(the_book))\n",
      "        plaintx_file.write(\"\\n{}\".format(the_book))\n",
      "    elif this_type == \"chapter\":\n",
      "        the_chapter = F.chapter.v(i)\n",
      "        plainx_file.write(\"\\n{} {}\".format(the_book, the_chapter))\n",
      "        plaintx_file.write(\"\\n{} {}\".format(the_book, the_chapter))\n",
      "    elif this_type == \"verse\":\n",
      "        the_verse = F.verse.v(i)\n",
      "        plainx_file.write(\"\\n{}:{} \".format(the_chapter, the_verse))\n",
      "        plaintx_file.write(\"\\n{}:{} \".format(the_chapter, the_verse))\n",
      "sys.stderr.write(\"\\n\")\n",
      "\n",
      "plainx_file.close()\n",
      "plaintx_file.close()"
     ],
     "language": "python",
     "metadata": {},
     "outputs": [
      {
       "output_type": "stream",
       "stream": "stderr",
       "text": [
        "\r",
        "1372281 Genesis                       \r",
        "1372282 Exodus                        "
       ]
      },
      {
       "output_type": "stream",
       "stream": "stderr",
       "text": [
        "\r",
        "1372283 Leviticus                     \r",
        "1372284 Numeri                        "
       ]
      },
      {
       "output_type": "stream",
       "stream": "stderr",
       "text": [
        "\r",
        "1372285 Deuteronomium                 \r",
        "1372286 Josua                         "
       ]
      },
      {
       "output_type": "stream",
       "stream": "stderr",
       "text": [
        "\r",
        "1372287 Judices                       \r",
        "1372288 Samuel_I                      "
       ]
      },
      {
       "output_type": "stream",
       "stream": "stderr",
       "text": [
        "\r",
        "1372289 Samuel_II                     \r",
        "1372290 Reges_I                       "
       ]
      },
      {
       "output_type": "stream",
       "stream": "stderr",
       "text": [
        "\r",
        "1372291 Reges_II                      \r",
        "1372292 Jesaia                        "
       ]
      },
      {
       "output_type": "stream",
       "stream": "stderr",
       "text": [
        "\r",
        "1372293 Jeremia                       \r",
        "1372294 Ezechiel                      "
       ]
      },
      {
       "output_type": "stream",
       "stream": "stderr",
       "text": [
        "\r",
        "1372295 Hosea                         \r",
        "1372296 Joel                          \r",
        "1372297 Amos                          \r",
        "1372298 Obadia                        "
       ]
      },
      {
       "output_type": "stream",
       "stream": "stderr",
       "text": [
        "\r",
        "1372299 Jona                          \r",
        "1372300 Micha                         \r",
        "1372301 Nahum                         \r",
        "1372302 Habakuk                       "
       ]
      },
      {
       "output_type": "stream",
       "stream": "stderr",
       "text": [
        "\r",
        "1372303 Zephania                      \r",
        "1372304 Haggai                        \r",
        "1372305 Sacharia                      \r",
        "1372306 Maleachi                      "
       ]
      },
      {
       "output_type": "stream",
       "stream": "stderr",
       "text": [
        "\r",
        "1372307 Psalmi                        \r",
        "1372308 Iob                           "
       ]
      },
      {
       "output_type": "stream",
       "stream": "stderr",
       "text": [
        "\r",
        "1372309 Proverbia                     \r",
        "1372310 Ruth                          "
       ]
      },
      {
       "output_type": "stream",
       "stream": "stderr",
       "text": [
        "\r",
        "1372311 Canticum                      \r",
        "1372312 Ecclesiastes                  \r",
        "1372313 Threni                        "
       ]
      },
      {
       "output_type": "stream",
       "stream": "stderr",
       "text": [
        "\r",
        "1372314 Esther                        \r",
        "1372315 Daniel                        \r",
        "1372316 Esra                          "
       ]
      },
      {
       "output_type": "stream",
       "stream": "stderr",
       "text": [
        "\r",
        "1372317 Nehemia                       \r",
        "1372318 Chronica_I                    "
       ]
      },
      {
       "output_type": "stream",
       "stream": "stderr",
       "text": [
        "\r",
        "1372319 Chronica_II                   \n"
       ]
      }
     ],
     "prompt_number": 10
    },
    {
     "cell_type": "code",
     "collapsed": false,
     "input": [
      "!head -n 10 {my_file('etcbc4_plainx.txt')}"
     ],
     "language": "python",
     "metadata": {},
     "outputs": [
      {
       "output_type": "stream",
       "stream": "stdout",
       "text": [
        "\r\n",
        "Genesis\r\n",
        "Genesis 1\r\n",
        "1:1 \u05d1\u05b0\u05bc\u05e8\u05b5\u05d0\u05e9\u05b4\u05c1\u0596\u05d9\u05ea \u05d1\u05b8\u05bc\u05e8\u05b8\u05a3\u05d0 \u05d0\u05b1\u05dc\u05b9\u05d4\u05b4\u0591\u05d9\u05dd \u05d0\u05b5\u05a5\u05ea \u05d4\u05b7\u05e9\u05b8\u05bc\u05c1\u05de\u05b7\u0596\u05d9\u05b4\u05dd \u05d5\u05b0\u05d0\u05b5\u05a5\u05ea \u05d4\u05b8\u05d0\u05b8\u05bd\u05e8\u05b6\u05e5\u05c3\r\n",
        "\r\n",
        "1:2 \u05d5\u05b0\u05d4\u05b8\u05d0\u05b8\u0597\u05e8\u05b6\u05e5 \u05d4\u05b8\u05d9\u05b0\u05ea\u05b8\u05a5\u05d4 \u05ea\u05b9\u05a8\u05d4\u05d5\u05bc\u0599 \u05d5\u05b8\u05d1\u05b9\u0594\u05d4\u05d5\u05bc \u05d5\u05b0\u05d7\u05b9\u0596\u05e9\u05b6\u05c1\u05da\u05b0 \u05e2\u05b7\u05dc\u05be\u05e4\u05b0\u05bc\u05e0\u05b5\u05a3\u05d9 \u05ea\u05b0\u05d4\u05b9\u0591\u05d5\u05dd \u05d5\u05b0\u05e8\u05a3\u05d5\u05bc\u05d7\u05b7 \u05d0\u05b1\u05dc\u05b9\u05d4\u05b4\u0594\u05d9\u05dd \u05de\u05b0\u05e8\u05b7\u05d7\u05b6\u0596\u05e4\u05b6\u05ea \u05e2\u05b7\u05dc\u05be\u05e4\u05b0\u05bc\u05e0\u05b5\u05a5\u05d9 \u05d4\u05b7\u05de\u05b8\u05bc\u05bd\u05d9\u05b4\u05dd\u05c3\r\n",
        "\r\n",
        "1:3 \u05d5\u05b7\u05d9\u05b9\u05bc\u05a5\u05d0\u05de\u05b6\u05e8 \u05d0\u05b1\u05dc\u05b9\u05d4\u05b4\u0596\u05d9\u05dd \u05d9\u05b0\u05d4\u05b4\u05a3\u05d9 \u05d0\u05b9\u0591\u05d5\u05e8 \u05d5\u05b7\u05bd\u05d9\u05b0\u05d4\u05b4\u05d9\u05be\u05d0\u05b9\u05bd\u05d5\u05e8\u05c3\r\n",
        "\r\n",
        "1:4 \u05d5\u05b7\u05d9\u05b7\u05bc\u05a7\u05e8\u05b0\u05d0 \u05d0\u05b1\u05dc\u05b9\u05d4\u05b4\u059b\u05d9\u05dd \u05d0\u05b6\u05ea\u05be\u05d4\u05b8\u05d0\u05b9\u0596\u05d5\u05e8 \u05db\u05b4\u05bc\u05d9\u05be\u05d8\u05b9\u0591\u05d5\u05d1 \u05d5\u05b7\u05d9\u05b7\u05bc\u05d1\u05b0\u05d3\u05b5\u05bc\u05a3\u05dc \u05d0\u05b1\u05dc\u05b9\u05d4\u05b4\u0594\u05d9\u05dd \u05d1\u05b5\u05bc\u05a5\u05d9\u05df \u05d4\u05b8\u05d0\u05b9\u0596\u05d5\u05e8 \u05d5\u05bc\u05d1\u05b5\u05a5\u05d9\u05df \u05d4\u05b7\u05d7\u05b9\u05bd\u05e9\u05b6\u05c1\u05da\u05b0\u05c3\r\n"
       ]
      }
     ],
     "prompt_number": 11
    },
    {
     "cell_type": "code",
     "collapsed": false,
     "input": [
      "!head -n 10 {my_file('etcbc4_plaintx.txt')}"
     ],
     "language": "python",
     "metadata": {},
     "outputs": [
      {
       "output_type": "stream",
       "stream": "stdout",
       "text": [
        "\r\n",
        "Genesis\r\n",
        "Genesis 1\r\n",
        "1:1 B.:- R;>CI73JT B.@R@74> >:ELOHI92JM >;71T HA- C.@MA73JIM W:- >;71T H@- >@75REY00 \r\n",
        "\r\n",
        "1:2 W:- H@- >@81REY H@J:T@71H TO33HW.03 W@- BO80HW. W:- XO73CEK: <AL& P.:N;74J T:HO92WM W:- R74W.XA >:ELOHI80JM M:RAXE73PET <AL& P.:N;71J HA- M.@75JIM00 \r\n",
        "\r\n",
        "1:3 WA- J.O71>MER >:ELOHI73JM J:HI74J >O92WR WA75- J:HIJ& >O75WR00 \r\n",
        "\r\n",
        "1:4 WA- J.A94R:> >:ELOHI91JM >ET& H@- >O73WR K.IJ& VO92WB WA- J.AB:D.;74L >:ELOHI80JM B.;71JN H@- >O73WR W.- B;71JN HA- XO75CEK:00 \r\n"
       ]
      }
     ],
     "prompt_number": 12
    },
    {
     "cell_type": "heading",
     "level": 2,
     "metadata": {},
     "source": [
      "Verse list"
     ]
    },
    {
     "cell_type": "markdown",
     "metadata": {},
     "source": [
      "We can get the text in a quite different way: just read it from the *primary data*.\n",
      "\n",
      "Let us do that per verse."
     ]
    },
    {
     "cell_type": "code",
     "collapsed": false,
     "input": [
      "verse_file = outfile(\"etcbc4_verses.txt\")\n",
      "\n",
      "for i in F.otype.s('verse'):\n",
      "    the_text = ''.join([txt for (j, txt) in P.data(i)])\n",
      "    the_verse = F.label.v(i)\n",
      "    verse_file.write(\"{}\\n{}\\n\".format(the_verse, the_text))\n",
      "\n",
      "verse_file.close()"
     ],
     "language": "python",
     "metadata": {},
     "outputs": [],
     "prompt_number": 13
    },
    {
     "cell_type": "code",
     "collapsed": false,
     "input": [
      "!head -n 10 {my_file('etcbc4_verses.txt')}"
     ],
     "language": "python",
     "metadata": {},
     "outputs": [
      {
       "output_type": "stream",
       "stream": "stdout",
       "text": [
        " GEN 01,01\r\n",
        "\u05d1\u05b0\u05bc\u05e8\u05b5\u05d0\u05e9\u05b4\u05c1\u0596\u05d9\u05ea \u05d1\u05b8\u05bc\u05e8\u05b8\u05a3\u05d0 \u05d0\u05b1\u05dc\u05b9\u05d4\u05b4\u0591\u05d9\u05dd \u05d0\u05b5\u05a5\u05ea \u05d4\u05b7\u05e9\u05b8\u05bc\u05c1\u05de\u05b7\u0596\u05d9\u05b4\u05dd \u05d5\u05b0\u05d0\u05b5\u05a5\u05ea \u05d4\u05b8\u05d0\u05b8\u05bd\u05e8\u05b6\u05e5\u05c3\r\n",
        "\r\n",
        " GEN 01,02\r\n",
        "\u05d5\u05b0\u05d4\u05b8\u05d0\u05b8\u0597\u05e8\u05b6\u05e5 \u05d4\u05b8\u05d9\u05b0\u05ea\u05b8\u05a5\u05d4 \u05ea\u05b9\u05a8\u05d4\u05d5\u05bc\u0599 \u05d5\u05b8\u05d1\u05b9\u0594\u05d4\u05d5\u05bc \u05d5\u05b0\u05d7\u05b9\u0596\u05e9\u05b6\u05c1\u05da\u05b0 \u05e2\u05b7\u05dc\u05be\u05e4\u05b0\u05bc\u05e0\u05b5\u05a3\u05d9 \u05ea\u05b0\u05d4\u05b9\u0591\u05d5\u05dd \u05d5\u05b0\u05e8\u05a3\u05d5\u05bc\u05d7\u05b7 \u05d0\u05b1\u05dc\u05b9\u05d4\u05b4\u0594\u05d9\u05dd \u05de\u05b0\u05e8\u05b7\u05d7\u05b6\u0596\u05e4\u05b6\u05ea \u05e2\u05b7\u05dc\u05be\u05e4\u05b0\u05bc\u05e0\u05b5\u05a5\u05d9 \u05d4\u05b7\u05de\u05b8\u05bc\u05bd\u05d9\u05b4\u05dd\u05c3\r\n",
        "\r\n",
        " GEN 01,03\r\n",
        "\u05d5\u05b7\u05d9\u05b9\u05bc\u05a5\u05d0\u05de\u05b6\u05e8 \u05d0\u05b1\u05dc\u05b9\u05d4\u05b4\u0596\u05d9\u05dd \u05d9\u05b0\u05d4\u05b4\u05a3\u05d9 \u05d0\u05b9\u0591\u05d5\u05e8 \u05d5\u05b7\u05bd\u05d9\u05b0\u05d4\u05b4\u05d9\u05be\u05d0\u05b9\u05bd\u05d5\u05e8\u05c3\r\n",
        "\r\n",
        " GEN 01,04\r\n"
       ]
      }
     ],
     "prompt_number": 14
    },
    {
     "cell_type": "heading",
     "level": 2,
     "metadata": {},
     "source": [
      "Empty words"
     ]
    },
    {
     "cell_type": "markdown",
     "metadata": {},
     "source": [
      "There are words that have an empty representation.\n",
      "\n",
      "Let us have a closer look.\n",
      "How frequent are they and to what lexemes do they correspond, and what is their part of speech?"
     ]
    },
    {
     "cell_type": "code",
     "collapsed": false,
     "input": [
      "ewords = collections.defaultdict(lambda: [])\n",
      "verse = None\n",
      "\n",
      "for i in NN(test=F.otype.v, values=['verse', 'word']):\n",
      "    if F.otype.v(i) == 'verse':\n",
      "        verse = i\n",
      "        continue\n",
      "    text = F.g_word_utf8.v(i)\n",
      "    if text == '':\n",
      "        lex = F.lex_utf8.v(i)\n",
      "        pos = F.sp.v(i)\n",
      "        ewords[(lex, pos)].append(verse)\n",
      "\n",
      "for (item, occs) in sorted(ewords.items(), key=lambda x: (-len(x[1]), x[0][1], x[0][0])):\n",
      "    print(\"{:>6} x {:<15} = {:>10} in {}{}\".format(\n",
      "        len(occs), \n",
      "        item[1], \n",
      "        item[0], \n",
      "        \"; \".join([F.label.v(j) for j in occs][0:5]),\n",
      "        ' ...' if len(occs) > 20 else '',\n",
      "    ))"
     ],
     "language": "python",
     "metadata": {},
     "outputs": [
      {
       "output_type": "stream",
       "stream": "stdout",
       "text": [
        "  6423 x art             =          \u05d4 in  GEN 01,05;  GEN 01,05;  GEN 01,07;  GEN 01,07;  GEN 01,08 ...\n"
       ]
      }
     ],
     "prompt_number": 15
    },
    {
     "cell_type": "code",
     "collapsed": false,
     "input": [
      "close()"
     ],
     "language": "python",
     "metadata": {},
     "outputs": [
      {
       "output_type": "stream",
       "stream": "stderr",
       "text": [
        "    49s Results directory:\n",
        "/Users/dirk/laf-fabric-output/etcbc4/plain\n"
       ]
      },
      {
       "output_type": "stream",
       "stream": "stderr",
       "text": [
        "\n",
        "__log__plain.txt                        202 Tue Jul 15 19:56:56 2014\n",
        "etcbc4_plain.txt                    5320396 Tue Jul 15 19:56:24 2014\n",
        "etcbc4_plainc.txt                   2862466 Tue Jul 15 19:56:24 2014\n",
        "etcbc4_plaint.txt                   3416955 Tue Jul 15 19:56:24 2014\n",
        "etcbc4_plaintc.txt                  1647434 Tue Jul 15 19:56:24 2014\n",
        "etcbc4_plaintx.txt                  3575457 Tue Jul 15 19:56:37 2014\n",
        "etcbc4_plainx.txt                   5478898 Tue Jul 15 19:56:37 2014\n",
        "etcbc4_verses.txt                   5598952 Tue Jul 15 19:56:47 2014\n",
        "trailers.txt                            214 Tue Jul 15 19:56:15 2014\n",
        "unicode_utf8.txt                    5320396 Tue Jul 15 13:38:34 2014\n"
       ]
      }
     ],
     "prompt_number": 16
    },
    {
     "cell_type": "code",
     "collapsed": false,
     "input": [],
     "language": "python",
     "metadata": {},
     "outputs": []
    }
   ],
   "metadata": {}
  }
 ]
}