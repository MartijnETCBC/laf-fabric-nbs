{
 "metadata": {
  "name": "",
  "signature": "sha256:b661fd8df6c2466f87bedf24e6d99f018b1864fb3941ed8c1f6461e735d78a51"
 },
 "nbformat": 3,
 "nbformat_minor": 0,
 "worksheets": [
  {
   "cells": [
    {
     "cell_type": "markdown",
     "metadata": {},
     "source": [
      "<a href=\"http://laf-fabric.readthedocs.org/en/latest/\" target=\"_blank\"><img align=\"left\" src=\"images/laf-fabric-xsmall.png\"/></a>\n",
      "<a href=\"http://www.godgeleerdheid.vu.nl/etcbc\" target=\"_blank\"><img align=\"left\" src=\"images/VU-ETCBC-xsmall.png\"/></a>\n",
      "<a href=\"http://tla.mpi.nl\" target=\"_blank\"><img align=\"right\" src=\"images/TLA-xsmall.png\"/></a>\n",
      "<a href=\"http://www.dans.knaw.nl\" target=\"_blank\"><img align=\"right\"src=\"images/DANS-xsmall.png\"/></a>"
     ]
    },
    {
     "cell_type": "heading",
     "level": 1,
     "metadata": {},
     "source": [
      "Proper"
     ]
    },
    {
     "cell_type": "markdown",
     "metadata": {},
     "source": [
      "A text visualization in which proper nouns and verbs are marked.\n",
      "\n",
      "The sentences, clauses and phrases are also marked.\n",
      "\n",
      "The visualization shows genre transitions to and from genealogies."
     ]
    },
    {
     "cell_type": "code",
     "collapsed": false,
     "input": [
      "import sys\n",
      "import collections\n",
      "\n",
      "import matplotlib.pyplot as plt\n",
      "%matplotlib inline\n",
      "\n",
      "from laf.fabric import LafFabric\n",
      "fabric = LafFabric()"
     ],
     "language": "python",
     "metadata": {},
     "outputs": [
      {
       "output_type": "stream",
       "stream": "stderr",
       "text": [
        "  0.00s This is LAF-Fabric 4.2.15\n",
        "http://laf-fabric.readthedocs.org/en/latest/texts/API-reference.html\n"
       ]
      }
     ],
     "prompt_number": 1
    },
    {
     "cell_type": "code",
     "collapsed": false,
     "input": [
      "fabric.load('bhs3', '--', 'proper', {\n",
      "    \"xmlids\": {\"node\": False, \"edge\": False},\n",
      "    \"features\": ('''\n",
      "        otype monads maxmonad minmonad\n",
      "        noun_type gender part_of_speech\n",
      "        verse_label chapter book\n",
      "    ''',''),\n",
      "    \"primary\": False,\n",
      "})\n",
      "exec(fabric.localnames.format(var='fabric'))"
     ],
     "language": "python",
     "metadata": {},
     "outputs": [
      {
       "output_type": "stream",
       "stream": "stderr",
       "text": [
        "  0.00s LOADING API: please wait ... \n"
       ]
      },
      {
       "output_type": "stream",
       "stream": "stderr",
       "text": [
        "  0.00s INFO: USING DATA COMPILED AT: 2014-06-27T12-21-04\n"
       ]
      },
      {
       "output_type": "stream",
       "stream": "stderr",
       "text": [
        "  4.43s LOGFILE=/Users/dirk/laf-fabric-output/bhs3/proper/__log__proper.txt\n"
       ]
      },
      {
       "output_type": "stream",
       "stream": "stderr",
       "text": [
        "  4.44s INFO: DATA LOADED FROM SOURCE bhs3 AND ANNOX -- FOR TASK proper AT 2014-06-27T12-49-14\n"
       ]
      }
     ],
     "prompt_number": 2
    },
    {
     "cell_type": "code",
     "collapsed": true,
     "input": [
      "out = outfile(\"properviz.txt\")\n",
      "\n",
      "type_map = collections.defaultdict(lambda: None, [\n",
      "    (\"chapter\", 'Ch'),\n",
      "    (\"verse\", 'V'),\n",
      "    (\"sentence\", 'S'),\n",
      "    (\"clause\", 'C'),\n",
      "    (\"phrase\", 'P'),\n",
      "    (\"word\", 'w'),\n",
      "])\n",
      "otypes = ['Ch', 'V', 'S', 'C', 'P', 'w']\n",
      "watch = collections.defaultdict(lambda: {})\n",
      "start = {}\n",
      "cur_verse_label = ['','']\n",
      "\n",
      "def print_node(ob, obdata):\n",
      "    (node, minm, maxm, monads) = obdata\n",
      "    if ob == \"w\":\n",
      "        if not watch:\n",
      "            out.write(\"\u25d8\".format(monads))\n",
      "        else:\n",
      "            outchar = \"\u2500\"\n",
      "            p_o_s = F.shebanq_ft_part_of_speech.v(node)\n",
      "            if p_o_s == \"noun\":\n",
      "                if F.shebanq_ft_noun_type.v(node) == \"proper\":\n",
      "                    if F.shebanq_ft_gender.v(node) == \"masculine\":\n",
      "                        outchar = \"\u2642\"\n",
      "                    elif F.shebanq_ft_gender.v(node) == \"feminine\":\n",
      "                        outchar = \"\u2640\"\n",
      "                    elif F.shebanq_ft_gender.v(node) == \"unknown\":\n",
      "                        outchar = \"\u2299\"\n",
      "            elif p_o_s == \"verb\":\n",
      "                outchar = \"\u2660\"\n",
      "            out.write(outchar)\n",
      "        if monads in watch:\n",
      "            tofinish = watch[monads]\n",
      "            for o in reversed(otypes):\n",
      "                if o in tofinish:\n",
      "                    if o == 'C':\n",
      "                        out.write(\"\u2524\")\n",
      "                    elif o == 'P':\n",
      "                        if 'C' not in tofinish:\n",
      "                            out.write(\"\u253c\")\n",
      "                    elif o != 'S':\n",
      "                        out.write(\"{}\u00bb\".format(o))\n",
      "            del watch[monads]\n",
      "    elif ob == \"Ch\":\n",
      "        this_chapter_label = \"{} {}\".format(F.shebanq_sft_book.v(node), F.shebanq_sft_chapter.v(node))\n",
      "    elif ob == \"V\":\n",
      "        this_verse_label = F.shebanq_sft_verse_label.v(node).strip(\" \")\n",
      "        cur_verse_label[0] = this_verse_label\n",
      "        cur_verse_label[1] = this_verse_label\n",
      "    elif ob == \"S\":\n",
      "        out.write(\"\\n{:<11} \".format(cur_verse_label[1]))\n",
      "        cur_verse_label[1] = ''\n",
      "        watch[maxm][ob] = None\n",
      "    elif ob == \"C\":\n",
      "        out.write(\"\u251c\")\n",
      "        watch[maxm][ob] = None\n",
      "    elif ob == \"P\":\n",
      "        watch[maxm][ob] = None\n",
      "    else:\n",
      "        out.write(\"\u00ab{}\".format(ob))\n",
      "        watch[maxm][ob] = None\n",
      "\n",
      "lastmin = None\n",
      "lastmax = None\n",
      "\n",
      "for i in NN():\n",
      "    otype = F.shebanq_db_otype.v(i)\n",
      "    if otype == 'book':\n",
      "        sys.stderr.write(\"{:<11}\".format(F.shebanq_sft_book.v(i)))\n",
      "    \n",
      "    ob = type_map[otype]\n",
      "    if ob == None:\n",
      "        continue\n",
      "    monads = F.shebanq_db_monads.v(i)\n",
      "    minm = F.shebanq_db_minmonad.v(i)\n",
      "    maxm = F.shebanq_db_maxmonad.v(i)\n",
      "    if lastmin == minm and lastmax == maxm:\n",
      "        start[ob] = (i, minm, maxm, monads)\n",
      "    else:\n",
      "        for o in otypes:\n",
      "            if o in start:\n",
      "                print_node(o, start[o])\n",
      "        start = {ob: (i, minm, maxm, monads)}\n",
      "        lastmin = minm\n",
      "        lastmax = maxm\n",
      "for ob in otypes:\n",
      "    if ob in start:\n",
      "        print_node(ob, start[ob])\n",
      "\n",
      "close()"
     ],
     "language": "python",
     "metadata": {},
     "outputs": [
      {
       "output_type": "stream",
       "stream": "stderr",
       "text": [
        "Genesis    Exodus     "
       ]
      },
      {
       "output_type": "stream",
       "stream": "stderr",
       "text": [
        "Leviticus  Numbers    "
       ]
      },
      {
       "output_type": "stream",
       "stream": "stderr",
       "text": [
        "DeuteronomyJoshua     "
       ]
      },
      {
       "output_type": "stream",
       "stream": "stderr",
       "text": [
        "Judges     I_Samuel   "
       ]
      },
      {
       "output_type": "stream",
       "stream": "stderr",
       "text": [
        "II_Samuel  I_Kings    "
       ]
      },
      {
       "output_type": "stream",
       "stream": "stderr",
       "text": [
        "II_Kings   Isaiah     "
       ]
      },
      {
       "output_type": "stream",
       "stream": "stderr",
       "text": [
        "Jeremiah   Ezekiel    "
       ]
      },
      {
       "output_type": "stream",
       "stream": "stderr",
       "text": [
        "Hosea      Joel       "
       ]
      },
      {
       "output_type": "stream",
       "stream": "stderr",
       "text": [
        "Amos       Obadiah    "
       ]
      },
      {
       "output_type": "stream",
       "stream": "stderr",
       "text": [
        "Jonah      Micah      Nahum      "
       ]
      },
      {
       "output_type": "stream",
       "stream": "stderr",
       "text": [
        "Habakkuk   Zephaniah  Haggai     Zechariah  "
       ]
      },
      {
       "output_type": "stream",
       "stream": "stderr",
       "text": [
        "Malachi    Psalms     Job        "
       ]
      },
      {
       "output_type": "stream",
       "stream": "stderr",
       "text": [
        "Proverbs   Ruth       "
       ]
      },
      {
       "output_type": "stream",
       "stream": "stderr",
       "text": [
        "Canticles  EcclesiastesLamentations"
       ]
      },
      {
       "output_type": "stream",
       "stream": "stderr",
       "text": [
        "Esther     Daniel     "
       ]
      },
      {
       "output_type": "stream",
       "stream": "stderr",
       "text": [
        "Ezra       Nehemiah   "
       ]
      },
      {
       "output_type": "stream",
       "stream": "stderr",
       "text": [
        "I_ChroniclesII_Chronicles"
       ]
      },
      {
       "output_type": "stream",
       "stream": "stderr",
       "text": [
        "  9.40s Results directory:\n",
        "/Users/dirk/laf-fabric-output/bhs3/proper\n"
       ]
      },
      {
       "output_type": "stream",
       "stream": "stderr",
       "text": [
        "\n",
        "__log__proper.txt                       201 Fri Jun 27 14:49:23 2014\n",
        "properviz.txt                       3243578 Fri Jun 27 14:49:23 2014\n"
       ]
      }
     ],
     "prompt_number": 3
    },
    {
     "cell_type": "code",
     "collapsed": false,
     "input": [
      "viz = infile('properviz.txt')\n",
      "lines = viz.readlines()\n",
      "print(''.join(lines[5021:5121]))"
     ],
     "language": "python",
     "metadata": {},
     "outputs": [
      {
       "output_type": "stream",
       "stream": "stdout",
       "text": [
        "EXO 06,11   \u251c\u2660\u2524\n",
        "            \u251c\u2660\u253c\u2500\u2500\u2500\u2299\u2524\n",
        "            \u251c\u2500\u253c\u2660\u253c\u2500\u2500\u2299\u253c\u2500\u2500\u2524\n",
        "EXO 06,12   \u251c\u2500\u253c\u2660\u253c\u2642\u253c\u2500\u2500\u2642\u2524\u251c\u2500\u2660\u2524\n",
        "            \u251c\u2500\u2524\n",
        "            \u251c\u2500\u2299\u253c\u2500\u253c\u2660\u253c\u2500\u2524\n",
        "            \u251c\u2500\u253c\u2500\u253c\u2660\u253c\u2500\u2524\n",
        "            \u251c\u2500\u253c\u2500\u253c\u2500\u2500\u2524\n",
        "EXO 06,13   \u251c\u2500\u253c\u2660\u253c\u2642\u253c\u2500\u2642\u2500\u2500\u2642\u2524\n",
        "            \u251c\u2500\u253c\u2660\u253c\u2500\u2500\u2299\u2500\u2500\u2500\u2500\u2299\u2524\u251c\u2500\u2660\u253c\u2500\u2500\u2299\u253c\u2500\u2500\u2299\u2524\n",
        "EXO 06,14   \u251c\u2500\u253c\u2500\u2500\u2500\u2524\n",
        "            \u251c\u2500\u2299\u2500\u2299\u253c\u2642\u2500\u2642\u2642\u2500\u2642\u2524\n",
        "            \u251c\u2500\u253c\u2500\u2299\u2524\n",
        "EXO 06,15   \u251c\u2500\u253c\u2500\u2299\u253c\u2642\u2500\u2642\u2500\u2642\u2500\u2642\u2500\u2642\u2500\u2642\u2500\u2500\u2500\u2524\n",
        "            \u251c\u2500\u253c\u2500\u2299\u2524\n",
        "EXO 06,16   \u251c\u2500\u253c\u2500\u253c\u2500\u2500\u2299\u253c\u2500\u2500\u2524\n",
        "            \u251c\u2642\u2500\u2642\u2500\u2642\u2524\n",
        "            \u251c\u2500\u253c\u2500\u2500\u2299\u253c\u2500\u2500\u2500\u2500\u2500\u2500\u2524\n",
        "EXO 06,17   \u251c\u2500\u2642\u253c\u2642\u2500\u2642\u253c\u2500\u2500\u2524\n",
        "EXO 06,18   \u251c\u2500\u253c\u2500\u2642\u253c\u2642\u2500\u2642\u2500\u2642\u2500\u2642\u2524\n",
        "            \u251c\u2500\u253c\u2500\u2500\u2642\u253c\u2500\u2500\u2500\u2500\u2500\u2500\u2524\n",
        "EXO 06,19   \u251c\u2500\u253c\u2500\u2642\u253c\u2642\u2500\u2642\u2524\n",
        "            \u251c\u2500\u253c\u2500\u2500\u2500\u253c\u2500\u2500\u2524\n",
        "EXO 06,20   \u251c\u2500\u253c\u2660\u253c\u2642\u253c\u2500\u2640\u2500\u253c\u2500\u253c\u2500\u2500\u2524\n",
        "            \u251c\u2500\u253c\u2660\u253c\u2500\u253c\u2500\u2642\u2500\u2500\u2642\u2524\n",
        "            \u251c\u2500\u253c\u2500\u2500\u2642\u253c\u2500\u2500\u2500\u2500\u2500\u2500\u2524\n",
        "EXO 06,21   \u251c\u2500\u253c\u2500\u2642\u253c\u2642\u2500\u2642\u2500\u2642\u2524\n",
        "EXO 06,22   \u251c\u2500\u253c\u2500\u2642\u253c\u2642\u2500\u2642\u2500\u2642\u2524\n",
        "EXO 06,23   \u251c\u2500\u253c\u2660\u253c\u2642\u253c\u2500\u2640\u2500\u2642\u2500\u2642\u253c\u2500\u253c\u2500\u2500\u2524\n",
        "            \u251c\u2500\u253c\u2660\u253c\u2500\u253c\u2500\u2642\u2500\u2500\u2642\u2500\u2642\u2500\u2500\u2642\u2524\n",
        "EXO 06,24   \u251c\u2500\u253c\u2500\u2642\u253c\u2642\u2500\u2642\u2500\u2642\u2524\n",
        "            \u251c\u2500\u253c\u2500\u2500\u2500\u2524\n",
        "EXO 06,25   \u251c\u2500\u253c\u2642\u2500\u2642\u253c\u2660\u253c\u2500\u253c\u2500\u2500\u2642\u253c\u2500\u253c\u2500\u2500\u2524\n",
        "            \u251c\u2500\u253c\u2660\u253c\u2500\u253c\u2500\u2642\u2524\n",
        "            \u251c\u2500\u253c\u2500\u2500\u2500\u2500\u253c\u2500\u2500\u2524\n",
        "EXO 06,26   \u251c\u2500\u253c\u2642\u2500\u2642\u2524\u251c\u2500\u253c\u2660\u253c\u2642\u253c\u2500\u2524\n",
        "            \u251c\u2660\u253c\u2500\u2500\u2299\u253c\u2500\u2500\u2299\u253c\u2500\u2500\u2524\n",
        "EXO 06,27   \u251c\u2500\u2524\u251c\u2500\u253c\u2660\u253c\u2500\u2500\u2500\u2299\u2524\u251c\u2500\u2660\u253c\u2500\u2500\u2299\u253c\u2500\u2299\u2524\n",
        "            \u251c\u2500\u253c\u2642\u2500\u2642\u2524\n",
        "EXO 06,28   \u251c\u2500\u253c\u2660\u253c\u2500\u2500\u2524\u251c\u2660\u253c\u2642\u253c\u2500\u2642\u253c\u2500\u2500\u2299\u2524\n",
        "EXO 06,29   \u251c\u2500\u253c\u2660\u253c\u2642\u253c\u2500\u2642\u2524\u251c\u2500\u2660\u2524\n",
        "            \u251c\u2500\u253c\u2642\u2524\n",
        "            \u251c\u2660\u253c\u2500\u2500\u2500\u2299\u253c\u2500\u2500\u2524\u251c\u2500\u253c\u2500\u253c\u2660\u253c\u2500\u2524\n",
        "EXO 06,30   \u251c\u2500\u253c\u2660\u253c\u2642\u253c\u2500\u2500\u2642\u2524\n",
        "            \u251c\u2500\u253c\u2500\u253c\u2500\u2500\u2524\n",
        "            \u251c\u2500\u253c\u2500\u253c\u2660\u253c\u2500\u253c\u2500\u2524\n",
        "EXO 07,01   \u251c\u2500\u253c\u2660\u253c\u2642\u253c\u2500\u2642\u2524\n",
        "            \u251c\u2660\u2524\n",
        "            \u251c\u2660\u253c\u2500\u253c\u2500\u2500\u2524\n",
        "            \u251c\u2500\u253c\u2642\u2500\u253c\u2660\u253c\u2500\u2524\n",
        "EXO 07,02   \u251c\u2500\u253c\u2660\u253c\u2500\u2500\u2524\u251c\u2500\u253c\u2660\u2524\n",
        "            \u251c\u2500\u253c\u2642\u2500\u253c\u2660\u253c\u2500\u2500\u2524\n",
        "            \u251c\u2500\u253c\u2660\u253c\u2500\u2500\u2299\u253c\u2500\u2500\u2524\n",
        "EXO 07,03   \u251c\u2500\u253c\u2500\u253c\u2660\u253c\u2500\u2500\u2500\u2524\n",
        "            \u251c\u2500\u253c\u2660\u253c\u2500\u2500\u2500\u2500\u2500\u253c\u2500\u2500\u2299\u2524\n",
        "EXO 07,04   \u251c\u2500\u253c\u2500\u253c\u2660\u253c\u2500\u253c\u2500\u2524\n",
        "            \u251c\u2500\u253c\u2660\u253c\u2500\u2500\u253c\u2500\u2299\u2524\n",
        "            \u251c\u2500\u253c\u2660\u253c\u2500\u2500\u2500\u2500\u2500\u2299\u253c\u2500\u2500\u2299\u253c\u2500\u2500\u2500\u2524\n",
        "EXO 07,05   \u251c\u2500\u253c\u2660\u253c\u2299\u2524\u251c\u2500\u253c\u2500\u253c\u2642\u2524\u251c\u2500\u2660\u253c\u2500\u2500\u253c\u2500\u2299\u2524\u251c\u2500\u253c\u2660\u253c\u2500\u2500\u2299\u253c\u2500\u2500\u2524\n",
        "EXO 07,06   \u251c\u2500\u253c\u2660\u253c\u2642\u2500\u2642\u2524\u251c\u2500\u2500\u253c\u2660\u253c\u2642\u253c\u2500\u2524\n",
        "            \u251c\u2500\u253c\u2660\u2524\n",
        "EXO 07,07   \u251c\u2500\u253c\u2642\u253c\u2500\u2500\u2500\u2524\n",
        "            \u251c\u2500\u253c\u2642\u253c\u2500\u2500\u2500\u2500\u2500\u2524\u251c\u2500\u2660\u253c\u2500\u2500\u2524\n",
        "EXO 07,08   \u251c\u2500\u253c\u2660\u253c\u2642\u253c\u2500\u2642\u2500\u2500\u2642\u2524\u251c\u2500\u2660\u2524\n",
        "EXO 07,09   \u251c\u2500\u253c\u2660\u253c\u2500\u253c\u2500\u2524\u251c\u2500\u2660\u2524\n",
        "            \u251c\u2660\u253c\u2500\u253c\u2500\u2524\n",
        "            \u251c\u2500\u253c\u2660\u253c\u2500\u2642\u2524\n",
        "            \u251c\u2660\u253c\u2500\u2500\u2524\n",
        "            \u251c\u2500\u253c\u2660\u253c\u2500\u2500\u2500\u2524\n",
        "            \u251c\u2660\u253c\u2500\u2500\u2524\n",
        "EXO 07,10   \u251c\u2500\u253c\u2660\u253c\u2642\u2500\u2642\u253c\u2500\u2500\u2524\n",
        "            \u251c\u2500\u253c\u2660\u253c\u2500\u2524\u251c\u2500\u2500\u253c\u2660\u253c\u2642\u2524\n",
        "            \u251c\u2500\u253c\u2660\u253c\u2642\u253c\u2500\u2500\u253c\u2500\u2500\u2500\u2500\u2500\u2500\u2500\u2524\n",
        "            \u251c\u2500\u253c\u2660\u253c\u2500\u2500\u2524\n",
        "EXO 07,11   \u251c\u2500\u253c\u2660\u253c\u2500\u253c\u2500\u253c\u2500\u2500\u2500\u2500\u2500\u2660\u2524\u25d8\n",
        "            \u251c\u2500\u253c\u2660\u253c\u2500\u253c\u2500\u2500\u2299\u253c\u2500\u2500\u253c\u2500\u2524\n",
        "EXO 07,12   \u251c\u2500\u253c\u2660\u253c\u2500\u253c\u2500\u2524\n",
        "            \u251c\u2500\u253c\u2660\u253c\u2500\u2500\u2524\n",
        "            \u251c\u2500\u253c\u2660\u253c\u2500\u2642\u253c\u2500\u2500\u2524\n",
        "EXO 07,13   \u251c\u2500\u253c\u2660\u253c\u2500\u2500\u2524\n",
        "            \u251c\u2500\u253c\u2500\u253c\u2660\u253c\u2500\u2524\u251c\u2500\u2500\u253c\u2660\u253c\u2642\u2524\n",
        "EXO 07,14   \u251c\u2500\u253c\u2660\u253c\u2642\u253c\u2500\u2642\u2524\n",
        "            \u251c\u2500\u253c\u2500\u2500\u2524\n",
        "            \u251c\u2660\u2524\u251c\u2500\u2660\u253c\u2500\u2500\u2524\n",
        "EXO 07,15   \u251c\u2660\u253c\u2500\u2500\u253c\u2500\u2500\u2524\u25d8\n",
        "            \u251c\u2500\u253c\u2660\u253c\u2500\u2500\u2524\n",
        "            \u251c\u2500\u253c\u2660\u253c\u251c\u2500\u2660\u2524\u2500\u2500\u2500\u2299\u2524\n",
        "            \u251c\u2500\u253c\u2500\u2500\u253c\u251c\u2500\u253c\u2660\u253c\u2500\u2500\u2524\u2660\u253c\u2500\u2500\u2524\n",
        "EXO 07,16   \u251c\u2500\u253c\u2660\u253c\u2500\u2524\n",
        "            \u251c\u2642\u2500\u2500\u2500\u253c\u2660\u253c\u2500\u2524\u251c\u2500\u2660\u2524\n",
        "            \u251c\u2660\u253c\u2500\u2500\u2524\n",
        "            \u251c\u2500\u253c\u2660\u253c\u2500\u2500\u2524\u25d8\n",
        "            \u251c\u2500\u253c\u2500\u2524\n",
        "            \u251c\u2500\u253c\u2660\u253c\u2500\u2500\u2524\n",
        "EXO 07,17   \u251c\u2500\u253c\u2660\u253c\u2642\u2524\n",
        "            \u251c\u2500\u2500\u253c\u2660\u2524\u251c\u2500\u253c\u2500\u253c\u2642\u2524\n",
        "            \u251c\u2500\u2524\n",
        "            \u251c\u2500\u253c\u2660\u253c\u2500\u2500\u253c\u2500\u251c\u2500\u253c\u2500\u2500\u2524\u2500\u2500\u2500\u2524\u251c\u2500\u253c\u2500\u2299\u2524\u25d8\n",
        "            \u251c\u2500\u253c\u2660\u253c\u2500\u2500\u2524\n",
        "EXO 07,18   \u251c\u2500\u253c\u2500\u2500\u253c\u251c\u2500\u253c\u2500\u2299\u2524\u2500\u2660\u2524\n",
        "\n"
       ]
      }
     ],
     "prompt_number": 4
    },
    {
     "cell_type": "markdown",
     "metadata": {},
     "source": [
      "Let us plot the proper noun density per chapter.\n",
      "First we put the chapters, proper noun frequencies and verb frequencies in corresponding lists ``ch``, ``p``, and ``v``."
     ]
    },
    {
     "cell_type": "code",
     "collapsed": false,
     "input": [
      "book = None\n",
      "chapter = None\n",
      "words = 0\n",
      "proper = 0\n",
      "verb = 0\n",
      "ch = []\n",
      "p = []\n",
      "v = []\n",
      "\n",
      "for node in NN(test=F.shebanq_db_otype.v, values=['word', 'chapter', 'book']):\n",
      "    otype = F.shebanq_db_otype.v(node)\n",
      "    if otype == 'book':\n",
      "        book = F.shebanq_sft_book.v(node)\n",
      "    elif otype == 'chapter':\n",
      "        if chapter != None:\n",
      "            p.append(100 * float(proper)/words if words else 0)\n",
      "            v.append(100 * float(verb)/words if words else 0)\n",
      "            ch.append(cur_chapter)\n",
      "        chapter = F.shebanq_sft_chapter.v(node)\n",
      "        cur_chapter = \"{} {}\".format(book, chapter)\n",
      "        verb = 0\n",
      "        proper = 0\n",
      "        words = 0\n",
      "    else:\n",
      "        words += 1\n",
      "        if F.shebanq_ft_noun_type.v(node) == 'proper':\n",
      "            proper += 1\n",
      "        if F.shebanq_ft_part_of_speech.v(node) == 'verb':\n",
      "            verb += 1\n",
      "if chapter != None:\n",
      "    ch.append(cur_chapter)\n",
      "    p.append(100 * float(proper)/words if words else 0)\n",
      "    v.append(100 * float(verb)/words if words else 0)"
     ],
     "language": "python",
     "metadata": {},
     "outputs": [],
     "prompt_number": 5
    },
    {
     "cell_type": "markdown",
     "metadata": {},
     "source": [
      "Then we plot the ``p`` and ``v`` series against the ``ch`` series."
     ]
    },
    {
     "cell_type": "code",
     "collapsed": false,
     "input": [
      "x = range(len(ch))\n",
      "start = 50\n",
      "end = 70\n",
      "fig = plt.figure()\n",
      "plt.plot(x[start:end], p[start:end], 'b-', x[start:end], v[start:end], 'r-')\n",
      "plt.axis([start, end, 0, 50])\n",
      "plt.xticks(x[start:end], ch[start:end], rotation='vertical')\n",
      "plt.margins(0.2)\n",
      "plt.subplots_adjust(bottom=0.15);\n",
      "plt.title('proper');"
     ],
     "language": "python",
     "metadata": {},
     "outputs": [
      {
       "metadata": {},
       "output_type": "display_data",
       "png": "[encoded data removed]",
       "text": [
        "<matplotlib.figure.Figure at 0x15d5032e8>"
       ]
      }
     ],
     "prompt_number": 6
    },
    {
     "cell_type": "code",
     "collapsed": false,
     "input": [],
     "language": "python",
     "metadata": {},
     "outputs": []
    }
   ],
   "metadata": {}
  }
 ]
}