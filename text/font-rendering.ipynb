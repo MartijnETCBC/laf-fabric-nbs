{
 "metadata": {
  "name": "",
  "signature": "sha256:4b7f7f324ac0ba0926c0268e1cb5af30907d93b7364eff5cb23ea329a6ccdf32"
 },
 "nbformat": 3,
 "nbformat_minor": 0,
 "worksheets": [
  {
   "cells": [
    {
     "cell_type": "markdown",
     "metadata": {},
     "source": [
      "<a href=\"http://laf-fabric.readthedocs.org/en/latest/\" target=\"_blank\"><img align=\"left\" src=\"images/laf-fabric-xsmall.png\"/></a>\n",
      "<a href=\"http://www.godgeleerdheid.vu.nl/etcbc\" target=\"_blank\"><img align=\"left\" src=\"images/VU-ETCBC-xsmall.png\"/></a>\n",
      "<a href=\"http://www.persistent-identifier.nl/?identifier=urn%3Anbn%3Anl%3Aui%3A13-048i-71\" target=\"_blank\"><img align=\"left\"src=\"images/etcbc4easy-small.png\"/></a>\n",
      "<a href=\"http://tla.mpi.nl\" target=\"_blank\"><img align=\"right\" src=\"images/TLA-xsmall.png\"/></a>\n",
      "<a href=\"http://www.dans.knaw.nl\" target=\"_blank\"><img align=\"right\"src=\"images/DANS-xsmall.png\"/></a>"
     ]
    },
    {
     "cell_type": "heading",
     "level": 1,
     "metadata": {},
     "source": [
      "Hebrew fonts in browsers: exploring rendering issues"
     ]
    },
    {
     "cell_type": "markdown",
     "metadata": {},
     "source": [
      "Hebrew fonts in browsers render characters badly sometimes, especially when portions of text are surrounded by tags.\n",
      "\n",
      "It turns out, however, that much can be remedied by adding a &nbsp; in the right places."
     ]
    },
    {
     "cell_type": "code",
     "collapsed": false,
     "input": [
      "import collections\n",
      "import unicodedata\n",
      "from IPython.display import clear_output, display, HTML\n",
      "from laf.fabric import LafFabric\n",
      "from etcbc.lib import Transcription\n",
      "\n",
      "fabric = LafFabric()\n",
      "fabric.load('etcbc4', '--', 'fontrender', {\n",
      "    \"xmlids\": {\"node\": False, \"edge\": False},\n",
      "    \"features\": ('''\n",
      "    ''',''),\n",
      "    \"primary\": False,\n",
      "})\n",
      "exec(fabric.localnames.format(var='fabric'))"
     ],
     "language": "python",
     "metadata": {},
     "outputs": [
      {
       "output_type": "stream",
       "stream": "stderr",
       "text": [
        "  0.00s This is LAF-Fabric 4.4.1\n",
        "http://laf-fabric.readthedocs.org/en/latest/texts/API-reference.html\n"
       ]
      },
      {
       "output_type": "stream",
       "stream": "stderr",
       "text": [
        "  0.00s LOADING API: please wait ... \n"
       ]
      },
      {
       "output_type": "stream",
       "stream": "stderr",
       "text": [
        "  0.00s INFO: USING DATA COMPILED AT: 2014-07-23T09-31-37\n"
       ]
      },
      {
       "output_type": "stream",
       "stream": "stderr",
       "text": [
        "  0.69s LOGFILE=/Users/dirk/laf-fabric-output/etcbc4/fontrender/__log__fontrender.txt\n"
       ]
      },
      {
       "output_type": "stream",
       "stream": "stderr",
       "text": [
        "  0.69s INFO: DATA LOADED FROM SOURCE etcbc4 AND ANNOX -- FOR TASK fontrender AT 2014-07-31T08-35-48\n"
       ]
      }
     ],
     "prompt_number": 1
    },
    {
     "cell_type": "code",
     "collapsed": false,
     "input": [
      "to_be_skipped = {\n",
      "    'A', 'E', 'I', 'O', 'U', '<', '>', '#', '55', '56', '57', '_',\n",
      "}\n",
      "not_to_be_adapted = {\n",
      "    '&', '.', '.c', '.f', '00', '01', '05', 'O',\n",
      "}\n",
      "to_be_adapted = {\n",
      "    '*', ',', '02', '03', '04', '10', '11', '13', '14',\n",
      "    '24', '33', '35', '44', '52', '53', '60', '61', '62',\n",
      "    '63', '64', '65', '70', '71', '72', '73', '74', '75',\n",
      "    '80', '81', '82', '83', '84', '85', '91', '92', '93',\n",
      "    '94', '95', \n",
      "    ':', ':@', ':A', ':E', ';', '@', 'A', 'E', 'I', 'U',\n",
      "}\n",
      "\n",
      "# 02, 03, 04, 10, 13, 24, 84: \n",
      "# sbl goes wrong in firefox: eats space in x y plain and adapted\n",
      "\n",
      "# 14, 44:\n",
      "# even after adaptation still very tight\n",
      "\n",
      "# @, A:\n",
      "# In SBL: heth discards more after-space than he\n",
      "\n",
      "klegenda = ('adapted', 'spanned', 'plain')\n",
      "kcolor = (('#ffddbb','#ffeecc'), ('#ffbbbb','#ffcccc'), ('#bbffbb','#ccffcc'))\n",
      "plegenda = ('x y', 'x-y', 'xy')"
     ],
     "language": "python",
     "metadata": {},
     "outputs": [],
     "prompt_number": 10
    },
    {
     "cell_type": "code",
     "collapsed": false,
     "input": [
      "def htrans(tr):\n",
      "    return Transcription.to_hebrew_x(tr)\n",
      "\n",
      "def replace_condition(charset):\n",
      "    return '{' + ','.join('0x{:04X}'.format(ord(Transcription.hebrew_mapping[c])) for c in charset) + '}'\n",
      "\n",
      "def replace_reclass(charset):\n",
      "    return '[' + ''.join('\\\\u{:04X}'.format(ord(Transcription.hebrew_mapping[c])) for c in charset) + ']'\n",
      "\n",
      "print(replace_condition(to_be_adapted))\n",
      "print(replace_reclass(to_be_adapted))"
     ],
     "language": "python",
     "metadata": {},
     "outputs": [
      {
       "output_type": "stream",
       "stream": "stdout",
       "text": [
        "{0x059C,0x05A8,0x05BD,0x05A9,0x0594,0x05A4,0x05B4,0x05B1,0x05A5,0x05A0,0x05A9,0x059D,0x0598,0x05B0,0x05BD,0x05B7,0x0595,0x059F,0x05B3,0x059B,0x05B2,0x05AD,0x05BB,0x05B6,0x05C4,0x05B8,0x0599,0x05AE,0x05A3,0x05C5,0x05B5,0x05A1,0x0591,0x0596,0x0593,0x05AF,0x05AB,0x05AC,0x059A,0x05A6,0x05BF,0x05AA,0x05A8,0x05A7,0x05A0,0x0597,0x059E,0x05BD}\n",
        "[\\u059C\\u05A8\\u05BD\\u05A9\\u0594\\u05A4\\u05B4\\u05B1\\u05A5\\u05A0\\u05A9\\u059D\\u0598\\u05B0\\u05BD\\u05B7\\u0595\\u059F\\u05B3\\u059B\\u05B2\\u05AD\\u05BB\\u05B6\\u05C4\\u05B8\\u0599\\u05AE\\u05A3\\u05C5\\u05B5\\u05A1\\u0591\\u0596\\u0593\\u05AF\\u05AB\\u05AC\\u059A\\u05A6\\u05BF\\u05AA\\u05A8\\u05A7\\u05A0\\u0597\\u059E\\u05BD]\n"
       ]
      }
     ],
     "prompt_number": 27
    },
    {
     "cell_type": "code",
     "collapsed": false,
     "input": [
      "hfile = outfile('hebtest.html')\n",
      "hfile.write('''<html>\n",
      "<head>\n",
      "<meta http-equiv=\"Content-Type\" content=\"text/html; charset=utf-8\">\n",
      "</head>\n",
      "<body>\n",
      "<table rules=\"all\" border=\"all\">\n",
      "''')\n",
      "\n",
      "font = dict(\n",
      "sil='''\n",
      "font-family: Ezra SIL;\n",
      "font-size: 20pt;\n",
      "line-height:28pt;\n",
      "margin-right:0.5em;\n",
      "direction:rtl;\n",
      "unicode-bidi:bidi-override;\n",
      "text-align: right;\n",
      "''',\n",
      "sbl='''\n",
      "font-family: SBL Hebrew;\n",
      "font-size: 24pt;\n",
      "line-height:28pt;\n",
      "margin-right:0.5em;\n",
      "direction:rtl;\n",
      "unicode-bidi:bidi-override;\n",
      "text-align: right;\n",
      "''')\n",
      "\n",
      "cnotadapt = 0\n",
      "cadapt = 0\n",
      "cremaining = 0\n",
      "cskip = 0\n",
      "cdone = ''\n",
      "first = True\n",
      "for x in sorted(Transcription.hebrew_mapping):\n",
      "    if x in to_be_skipped or x.isalpha():\n",
      "        cskip +=1\n",
      "        continue\n",
      "    if x in {}:\n",
      "        cskip += 1\n",
      "        continue\n",
      "    if x in not_to_be_adapted: \n",
      "        cnotadapt +=1\n",
      "        continue\n",
      "    if x in to_be_adapted:\n",
      "        cadapt +=1\n",
      "        continue\n",
      "    if not first:\n",
      "        cremaining += 1\n",
      "        continue\n",
      "    data = collections.defaultdict(lambda: collections.defaultdict(lambda: []))\n",
      "    for cons in ('>', 'H', 'X', '<', 'W', '#'):\n",
      "        for (p, pat) in enumerate(('{} {}', '{}-{}', '{}{}')):\n",
      "            heb = pat.format(cons + x, 'B')\n",
      "            comps = heb.split(' ')\n",
      "            plain = ''\n",
      "            spanned = ''\n",
      "            aspanned = ''\n",
      "            first = True\n",
      "            sep = ''\n",
      "            for comp in comps:\n",
      "                plain += sep + ''.join(htrans(word) for word in comp.split('-'))\n",
      "                spanned += sep + ''.join('<span>'.format(word) + htrans(word) + '</span>' for word in comp.split('-'))\n",
      "                aspanned += sep + ''.join('<span>'.format(word) + htrans(word) + '&nbsp;</span>' for word in comp.split('-'))\n",
      "                if sep == '': sep = ' '\n",
      "            if p != 1:\n",
      "                data[2][p].append((heb, plain))\n",
      "            data[1][p].append((heb, spanned))\n",
      "            data[0][p].append((heb, aspanned))\n",
      "    for k in sorted(data):\n",
      "        for p in sorted(data[k]):\n",
      "            for (heb, text) in data[k][p]:\n",
      "                for (f, fnt) in enumerate(sorted(font)):\n",
      "                    para = '''\n",
      "<tr style=\"font-family: Menlo; font-size: 12pt; background-color: {};\">\n",
      "<td>{}</td><td>{}</td><td>{}</td><td>{}</td><td>{}</td>\n",
      "<td style=\"{}\">{}</td>\n",
      "</tr>\n",
      "        '''.format(\n",
      "                        kcolor[k][f], \n",
      "                        x.replace('&', '&amp;'), klegenda[k], plegenda[p], \n",
      "                        heb.replace('&','&amp;').replace('<','&lt;').replace('>','&gt;'), \n",
      "                        fnt,\n",
      "                        font[fnt],\n",
      "                        text,\n",
      "        )\n",
      "                    hfile.write(para)\n",
      "    cdone = x\n",
      "    first = False\n",
      "print('''\n",
      "Skipped           = {:>3}\n",
      "To be adapted     = {:>3}\n",
      "Not to be adapted = {:>3}\n",
      "Done              = '{}'\n",
      "Remaining         = {:>3}\n",
      "'''.format(cskip, cadapt, cnotadapt, cdone, cremaining)\n",
      ")    \n",
      "\n",
      "hfile.write('''\n",
      "</table>\n",
      "</body>\n",
      "</html>\n",
      "''')\n",
      "hfile.close()"
     ],
     "language": "python",
     "metadata": {},
     "outputs": [
      {
       "output_type": "stream",
       "stream": "stdout",
       "text": [
        "\n",
        "Skipped           =  38\n",
        "To be adapted     =  44\n",
        "Not to be adapted =   7\n",
        "Done              = '_'\n",
        "Remaining         =   0\n",
        "\n"
       ]
      }
     ],
     "prompt_number": 9
    },
    {
     "cell_type": "code",
     "collapsed": false,
     "input": [
      "show_case_init = '''<html><head><style type=\"text/css\">\n",
      ".casehd {border-top: 4pt solid black; text-align: center; font-size: 24pt; height: 28pt; font-weight: bold; color: #00B060;}\n",
      ".heb {padding-right: 12pt; text-align: right; font-family: Ezra SIL; font-size: 24pt; height: 32pt;}\n",
      ".code {font-family: Menlo;}\n",
      ".name {font-family: Verdana; font-variant: small-caps;}\n",
      "body {margin-left: 2em; margin-right: 2em; margin-top: 2em; margin-bottom: 2em;}\n",
      "td {padding: 2pt;}\n",
      "th {padding: 6pt;}\n",
      "    </style></head><body>\n",
      "'''\n",
      "show_case_table_init = '''<table rules=\"all\" border=\"all\">\n",
      "<tr><th>ETCBC4 code</th><th>UNICODE</th><th>GLYPH</th><th>NAME</th></tr>\n",
      "'''\n",
      "show_case_table_final = '''</table>\n",
      "'''\n",
      "show_case_final = '''</body></html>\n",
      "'''\n",
      "\n",
      "tfile = outfile('trans.html')\n",
      "tfile.write(show_case_init)\n",
      "tfile.write('''\n",
      "<h2>Transcription table for ETCBC4</h2>\n",
      "<p>Below is a table that connects the transcription codes for Hebrew letters, vowels, accents, and punctuation with\n",
      "their unicode point and names.</p>\n",
      "''')\n",
      "tfile.write(show_case_table_init)\n",
      "for (c, u) in sorted(Transcription.hebrew_mapping.items()):\n",
      "    if c in {'55', '56', '57'}: continue\n",
      "    un = unicodedata.name(u[0]).replace('HEBREW ','')\n",
      "    tfile.write('''\n",
      "<tr><td class=\"code\">{}</td><td class=\"code\">{:04X}</td><td class=\"heb\">&nbsp;{}&nbsp;</td><td class=\"name\">{}</td></tr>\n",
      "'''.format(c, ord(u[0]), u, un))\n",
      "tfile.write(show_case_table_final)\n",
      "tfile.write(show_case_final)\n",
      "tfile.close()\n"
     ],
     "language": "python",
     "metadata": {},
     "outputs": [],
     "prompt_number": 12
    },
    {
     "cell_type": "code",
     "collapsed": false,
     "input": [],
     "language": "python",
     "metadata": {},
     "outputs": []
    }
   ],
   "metadata": {}
  }
 ]
}