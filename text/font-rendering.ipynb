{
 "metadata": {
  "name": "",
  "signature": "sha256:81fd3078903a3957af284886e9e73e3dbdc34e93226f39f2ac44d73c20fadf7f"
 },
 "nbformat": 3,
 "nbformat_minor": 0,
 "worksheets": [
  {
   "cells": [
    {
     "cell_type": "markdown",
     "metadata": {},
     "source": [
      "<a href=\"http://laf-fabric.readthedocs.org/en/latest/\" target=\"_blank\"><img align=\"left\" src=\"images/laf-fabric-xsmall.png\"/></a>\n",
      "<a href=\"http://www.godgeleerdheid.vu.nl/etcbc\" target=\"_blank\"><img align=\"left\" src=\"images/VU-ETCBC-xsmall.png\"/></a>\n",
      "<a href=\"http://www.persistent-identifier.nl/?identifier=urn%3Anbn%3Anl%3Aui%3A13-048i-71\" target=\"_blank\"><img align=\"left\"src=\"images/etcbc4easy-small.png\"/></a>\n",
      "<a href=\"http://tla.mpi.nl\" target=\"_blank\"><img align=\"right\" src=\"images/TLA-xsmall.png\"/></a>\n",
      "<a href=\"http://www.dans.knaw.nl\" target=\"_blank\"><img align=\"right\"src=\"images/DANS-xsmall.png\"/></a>"
     ]
    },
    {
     "cell_type": "heading",
     "level": 1,
     "metadata": {},
     "source": [
      "Hebrew fonts in browsers: exploring rendering issues"
     ]
    },
    {
     "cell_type": "markdown",
     "metadata": {},
     "source": [
      "Hebrew fonts in browsers render characters badly sometimes, especially when portions of text are surrounded by tags.\n",
      "\n",
      "It turns out, however, that much can be remedied by adding a &nbsp; in the right places."
     ]
    },
    {
     "cell_type": "code",
     "collapsed": false,
     "input": [
      "import collections\n",
      "import unicodedata\n",
      "from IPython.display import clear_output, display, HTML\n",
      "from laf.fabric import LafFabric\n",
      "from etcbc.lib import Transcription\n",
      "\n",
      "fabric = LafFabric()\n",
      "fabric.load('etcbc4', '--', 'fontrender', {\n",
      "    \"xmlids\": {\"node\": False, \"edge\": False},\n",
      "    \"features\": ('''\n",
      "    ''',''),\n",
      "    \"primary\": False,\n",
      "})\n",
      "exec(fabric.localnames.format(var='fabric'))"
     ],
     "language": "python",
     "metadata": {},
     "outputs": [
      {
       "output_type": "stream",
       "stream": "stderr",
       "text": [
        "  0.00s This is LAF-Fabric 4.4.2\n",
        "http://laf-fabric.readthedocs.org/en/latest/texts/API-reference.html\n"
       ]
      },
      {
       "output_type": "stream",
       "stream": "stderr",
       "text": [
        "  0.00s LOADING API: please wait ... \n"
       ]
      },
      {
       "output_type": "stream",
       "stream": "stderr",
       "text": [
        "  0.00s INFO: USING DATA COMPILED AT: 2014-07-23T09-31-37\n"
       ]
      },
      {
       "output_type": "stream",
       "stream": "stderr",
       "text": [
        "  0.73s LOGFILE=/Users/dirk/laf-fabric-output/etcbc4/fontrender/__log__fontrender.txt\n"
       ]
      },
      {
       "output_type": "stream",
       "stream": "stderr",
       "text": [
        "  0.73s INFO: DATA LOADED FROM SOURCE etcbc4 AND ANNOX -- FOR TASK fontrender AT 2014-09-23T11-18-41\n"
       ]
      }
     ],
     "prompt_number": 1
    },
    {
     "cell_type": "code",
     "collapsed": false,
     "input": [
      "to_be_skipped = {\n",
      "    'A', 'E', 'I', 'O', 'U', '<', '>', '#', '55', '56', '57', '_',\n",
      "}\n",
      "not_to_be_adapted = {\n",
      "    '&', '.', '.c', '.f', '00', '01', '05', 'O',\n",
      "}\n",
      "to_be_adapted = {\n",
      "    '*', ',', '02', '03', '04', '10', '11', '13', '14',\n",
      "    '24', '33', '35', '44', '52', '53', '60', '61', '62',\n",
      "    '63', '64', '65', '70', '71', '72', '73', '74', '75',\n",
      "    '80', '81', '82', '83', '84', '85', '91', '92', '93',\n",
      "    '94', '95', \n",
      "    ':', ':@', ':A', ':E', ';', '@', 'A', 'E', 'I', 'U',\n",
      "}\n",
      "\n",
      "# 02, 03, 04, 10, 13, 24, 84: \n",
      "# sbl goes wrong in firefox: eats space in x y plain and adapted\n",
      "\n",
      "# 14, 44:\n",
      "# even after adaptation still very tight\n",
      "\n",
      "# @, A:\n",
      "# In SBL: heth discards more after-space than he\n",
      "\n",
      "klegenda = ('adapted', 'spanned', 'plain')\n",
      "kcolor = (('#ffddbb','#ffeecc'), ('#ffbbbb','#ffcccc'), ('#bbffbb','#ccffcc'))\n",
      "plegenda = ('x y', 'x-y', 'xy')"
     ],
     "language": "python",
     "metadata": {},
     "outputs": [],
     "prompt_number": 5
    },
    {
     "cell_type": "code",
     "collapsed": false,
     "input": [
      "def htrans(tr):\n",
      "    return Transcription.to_hebrew_x(tr)\n",
      "\n",
      "def replace_condition(charset):\n",
      "    return '{' + ','.join('0x{:04X}'.format(ord(Transcription.hebrew_mapping[c])) for c in charset) + '}'\n",
      "\n",
      "def replace_reclass(charset):\n",
      "    return '[' + ''.join('\\\\u{:04X}'.format(ord(Transcription.hebrew_mapping[c])) for c in charset) + ']'\n",
      "\n",
      "print(replace_condition(to_be_adapted))\n",
      "print(replace_reclass(to_be_adapted))"
     ],
     "language": "python",
     "metadata": {},
     "outputs": [
      {
       "output_type": "stream",
       "stream": "stdout",
       "text": [
        "{}\n",
        "[]\n"
       ]
      }
     ],
     "prompt_number": 6
    },
    {
     "cell_type": "code",
     "collapsed": false,
     "input": [
      "hfile = outfile('hebtest.html')\n",
      "hfile.write('''<html>\n",
      "<head>\n",
      "<meta http-equiv=\"Content-Type\" content=\"text/html; charset=utf-8\">\n",
      "</head>\n",
      "<body>\n",
      "<table rules=\"all\" border=\"all\">\n",
      "''')\n",
      "\n",
      "font = dict(\n",
      "sil='''\n",
      "font-family: Ezra SIL;\n",
      "font-size: 20pt;\n",
      "line-height:28pt;\n",
      "margin-right:0.5em;\n",
      "direction:rtl;\n",
      "unicode-bidi:bidi-override;\n",
      "text-align: right;\n",
      "''',\n",
      "sbl='''\n",
      "font-family: SBL Hebrew;\n",
      "font-size: 24pt;\n",
      "line-height:28pt;\n",
      "margin-right:0.5em;\n",
      "direction:rtl;\n",
      "unicode-bidi:bidi-override;\n",
      "text-align: right;\n",
      "''')\n",
      "\n",
      "cnotadapt = 0\n",
      "cadapt = 0\n",
      "cremaining = 0\n",
      "cskip = 0\n",
      "cdone = ''\n",
      "first = True\n",
      "for x in sorted(Transcription.hebrew_mapping):\n",
      "    if x in to_be_skipped or x.isalpha():\n",
      "        cskip +=1\n",
      "        continue\n",
      "    if x in {}:\n",
      "        cskip += 1\n",
      "        continue\n",
      "    if x in not_to_be_adapted: \n",
      "        cnotadapt +=1\n",
      "        continue\n",
      "    if x in to_be_adapted:\n",
      "        cadapt +=1\n",
      "        continue\n",
      "    if not first:\n",
      "        cremaining += 1\n",
      "        continue\n",
      "    data = collections.defaultdict(lambda: collections.defaultdict(lambda: []))\n",
      "    for cons in ('>', 'H', 'X', '<', 'W', '#'):\n",
      "        for (p, pat) in enumerate(('{} {}', '{}-{}', '{}{}')):\n",
      "            heb = pat.format(cons + x, 'B')\n",
      "            comps = heb.split(' ')\n",
      "            plain = ''\n",
      "            spanned = ''\n",
      "            aspanned = ''\n",
      "            first = True\n",
      "            sep = ''\n",
      "            for comp in comps:\n",
      "                plain += sep + ''.join(htrans(word) for word in comp.split('-'))\n",
      "                spanned += sep + ''.join('<span>'.format(word) + htrans(word) + '</span>' for word in comp.split('-'))\n",
      "                aspanned += sep + ''.join('<span>'.format(word) + htrans(word) + '&nbsp;</span>' for word in comp.split('-'))\n",
      "                if sep == '': sep = ' '\n",
      "            if p != 1:\n",
      "                data[2][p].append((heb, plain))\n",
      "            data[1][p].append((heb, spanned))\n",
      "            data[0][p].append((heb, aspanned))\n",
      "    for k in sorted(data):\n",
      "        for p in sorted(data[k]):\n",
      "            for (heb, text) in data[k][p]:\n",
      "                for (f, fnt) in enumerate(sorted(font)):\n",
      "                    para = '''\n",
      "<tr style=\"font-family: Menlo; font-size: 12pt; background-color: {};\">\n",
      "<td>{}</td><td>{}</td><td>{}</td><td>{}</td><td>{}</td>\n",
      "<td style=\"{}\">{}</td>\n",
      "</tr>\n",
      "        '''.format(\n",
      "                        kcolor[k][f], \n",
      "                        x.replace('&', '&amp;'), klegenda[k], plegenda[p], \n",
      "                        heb.replace('&','&amp;').replace('<','&lt;').replace('>','&gt;'), \n",
      "                        fnt,\n",
      "                        font[fnt],\n",
      "                        text,\n",
      "        )\n",
      "                    hfile.write(para)\n",
      "    cdone = x\n",
      "    first = False\n",
      "print('''\n",
      "Skipped           = {:>3}\n",
      "To be adapted     = {:>3}\n",
      "Not to be adapted = {:>3}\n",
      "Done              = '{}'\n",
      "Remaining         = {:>3}\n",
      "'''.format(cskip, cadapt, cnotadapt, cdone, cremaining)\n",
      ")    \n",
      "\n",
      "hfile.write('''\n",
      "</table>\n",
      "</body>\n",
      "</html>\n",
      "''')\n",
      "hfile.close()"
     ],
     "language": "python",
     "metadata": {},
     "outputs": [
      {
       "output_type": "stream",
       "stream": "stdout",
       "text": [
        "\n",
        "Skipped           =  39\n",
        "To be adapted     =   0\n",
        "Not to be adapted =   7\n",
        "Done              = '@'\n",
        "Remaining         =   0\n",
        "\n"
       ]
      }
     ],
     "prompt_number": 8
    },
    {
     "cell_type": "heading",
     "level": 1,
     "metadata": {},
     "source": [
      "Results"
     ]
    },
    {
     "cell_type": "markdown",
     "metadata": {},
     "source": [
      "For each diacritic we inspect a series of contexts of the form CdB, where C is a Hebrew consonant, B is the Hebrew consonant beth, and d is a diacritic. \n",
      "\n",
      "More precisely, we examine the following patterns:\n",
      "\n",
      "plain (x y resp xy)\n",
      "\n",
      "    Cd B\n",
      "    CdB\n",
      "\n",
      "spanned (x y resp. x-y resp xy)\n",
      "\n",
      "    <span>Cd</span> <span>B</span>\n",
      "    <span>Cd</span><span>B</span>\n",
      "    <span>CdB</span>\n",
      "\n",
      "adapted (x y resp. x-y resp. xy)\n",
      "\n",
      "    <span>Cd&nbsp;</span> <span>B</span>\n",
      "    <span>Cd&nbsp;</span><span>B</span>\n",
      "    <span>Cd&nbsp;B</span>\n",
      "\n",
      "If the patterns in the *spanned* category look right, no space insertion is needed.\n",
      "\n",
      "Here are the \n",
      "[results of all diacritics where we extra spacing is needed](images/hebtest.pdf).\n",
      "\n",
      "You see how the patterns behave in the contexts indicated, for two choices of font (SBL Hebrew and Ezra SIL), on a webkit browser (Safari). The results for Chrome are identical. Firefox behaves better, less extra space is needed.\n",
      "I have not tested anything on Windows.\n",
      "\n",
      "For the adaptation to work, it is essential that the ``&nbsp;`` occurs inside the span-element."
     ]
    },
    {
     "cell_type": "code",
     "collapsed": false,
     "input": [
      "show_case_init = '''<html><head><style type=\"text/css\">\n",
      ".casehd {border-top: 4pt solid black; text-align: center; font-size: 24pt; height: 28pt; font-weight: bold; color: #00B060;}\n",
      ".heb {padding-right: 12pt; text-align: right; font-family: Ezra SIL; font-size: 24pt; height: 32pt;}\n",
      ".code {font-family: Menlo;}\n",
      ".name {font-family: Verdana; font-variant: small-caps;}\n",
      "body {margin-left: 2em; margin-right: 2em; margin-top: 2em; margin-bottom: 2em;}\n",
      "td {padding: 2pt;}\n",
      "th {padding: 6pt;}\n",
      "    </style></head><body>\n",
      "'''\n",
      "show_case_table_init = '''<table rules=\"all\" border=\"all\">\n",
      "<tr><th>ETCBC4 code</th><th>UNICODE</th><th>GLYPH</th><th>NAME</th></tr>\n",
      "'''\n",
      "show_case_table_final = '''</table>\n",
      "'''\n",
      "show_case_final = '''</body></html>\n",
      "'''\n",
      "\n",
      "tfile = outfile('trans.html')\n",
      "tfile.write(show_case_init)\n",
      "tfile.write('''\n",
      "<h2>Transcription table for ETCBC4</h2>\n",
      "<p>Below is a table that connects the transcription codes for Hebrew letters, vowels, accents, and punctuation with\n",
      "their unicode point and names.</p>\n",
      "''')\n",
      "tfile.write(show_case_table_init)\n",
      "for (c, u) in sorted(Transcription.hebrew_mapping.items()):\n",
      "    if c in {'55', '56', '57'}: continue\n",
      "    un = unicodedata.name(u[0]).replace('HEBREW ','')\n",
      "    tfile.write('''\n",
      "<tr><td class=\"code\">{}</td><td class=\"code\">{:04X}</td><td class=\"heb\">&nbsp;{}&nbsp;</td><td class=\"name\">{}</td></tr>\n",
      "'''.format(c, ord(u[0]), u, un))\n",
      "tfile.write(show_case_table_final)\n",
      "tfile.write(show_case_final)\n",
      "tfile.close()\n"
     ],
     "language": "python",
     "metadata": {},
     "outputs": [],
     "prompt_number": 12
    },
    {
     "cell_type": "markdown",
     "metadata": {},
     "source": []
    }
   ],
   "metadata": {}
  }
 ]
}