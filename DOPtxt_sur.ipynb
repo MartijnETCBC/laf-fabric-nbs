{
 "metadata": {
  "name": ""
 },
 "nbformat": 3,
 "nbformat_minor": 0,
 "worksheets": [
  {
   "cells": [
    {
     "cell_type": "markdown",
     "metadata": {},
     "source": [
      "Make a mapping between the text_plain and the surface_consonants features of words."
     ]
    },
    {
     "cell_type": "code",
     "collapsed": false,
     "input": [
      "sur2txt = collections.defaultdict(lambda: set())\n",
      "txt2sur = collections.defaultdict(lambda: set())\n",
      "nw = 0\n",
      "for n in NN(test=F.otype.v, value='word'):\n",
      "    nw += 1\n",
      "    sur = F.surface_consonants.v(n)\n",
      "    nsur = sur.replace('_', '')\n",
      "    txt = F.text_plain.v(n)\n",
      "    ntxt = txt.replace('\u05be','').replace(' ', '').replace('\u05df', '\u05e0').replace('\u05dd', '\u05de')\n",
      "    sur2txt[nsur].add(ntxt)\n",
      "    txt2sur[ntxt].add(nsur)\n",
      "\n",
      "print(\"NW={}\".format(nw))"
     ],
     "language": "python",
     "metadata": {},
     "outputs": [
      {
       "output_type": "stream",
       "stream": "stdout",
       "text": [
        "NW=426499\n"
       ]
      }
     ],
     "prompt_number": 7
    },
    {
     "cell_type": "code",
     "collapsed": false,
     "input": [
      "ns = 0\n",
      "corr_sur = {}\n",
      "for sur in sorted(sur2txt):\n",
      "    if len(sur2txt[sur]) > 1:\n",
      "        corr_sur[sur] = {x for x in sur2txt[sur] if len(x) == len(sur)}\n",
      "        print(\"{} = {}; corr = {}\".format(sur, ', '.join(sorted(sur2txt[sur])), ', '.join(corr_sur[sur])))\n",
      "        ns += 1\n",
      "nt = 0\n",
      "corr_txt = {}\n",
      "for txt in sorted(txt2sur):\n",
      "    if len(txt2sur[txt]) > 1:\n",
      "        corr_txt[txt] = {x for x in txt2sur[txt] if len(x) == len(txt)}\n",
      "        print(\"{} = {}; corr = {}\".format(txt, ', '.join(sorted(txt2sur[txt])), ', '.join(corr_txt[txt])))\n",
      "        nt += 1\n",
      "print(\"NS={}; NT={}\".format(ns, nt))\n",
      "\n",
      "sur2txt.update(corr_sur)\n",
      "txt2sur.update(corr_txt)\n",
      "del txt2sur['']"
     ],
     "language": "python",
     "metadata": {},
     "outputs": [
      {
       "output_type": "stream",
       "stream": "stdout",
       "text": [
        ">M = \u05d0\u05de, \u05db\u05d9\u05d0\u05de; corr = \u05d0\u05de\n",
        "FJBH = \u05e9\u05c2\u05d9\u05d1\u05d4, \u05e9\u05d9\u05d1\u05d4; corr = \u05e9\u05d9\u05d1\u05d4\n",
        "KJ = \u05d0\u05de\u05e0\u05de, \u05db\u05d9; corr = \u05db\u05d9\n",
        " = ., Q; corr = \n",
        "\u05d0\u05de\u05e0\u05de = >MNM, KJ; corr = >MNM\n",
        "\u05db\u05d9 = KJ, KJ>MNM; corr = KJ\n",
        "\u05db\u05d9\u05d0\u05de = >M, KJ>M; corr = KJ>M\n",
        "NS=3; NT=4"
       ]
      },
      {
       "output_type": "stream",
       "stream": "stdout",
       "text": [
        "\n"
       ]
      }
     ],
     "prompt_number": 8
    },
    {
     "cell_type": "code",
     "collapsed": false,
     "input": [
      "sur_txt = dict([(x[0], list(x[1])[0]) for x in sur2txt.items()])\n",
      "txt_sur = dict([(x[0], list(x[1])[0]) for x in txt2sur.items()])\n",
      "txt_sur[''] = ''"
     ],
     "language": "python",
     "metadata": {},
     "outputs": [],
     "prompt_number": 9
    }
   ],
   "metadata": {}
  }
 ]
}