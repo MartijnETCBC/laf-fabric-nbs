{
 "metadata": {
  "name": "",
  "signature": "sha256:18d0b44162e9c101a9d8becc86239d912c8c03baa2fc2d7db99979b041116cac"
 },
 "nbformat": 3,
 "nbformat_minor": 0,
 "worksheets": [
  {
   "cells": [
    {
     "cell_type": "code",
     "collapsed": false,
     "input": [
      "import sys\n",
      "import random\n",
      "import collections\n",
      "from pyparsing import nestedExpr\n",
      "import laf\n",
      "from laf.fabric import LafFabric\n",
      "from etcbc.preprocess import prepare\n",
      "from etcbc.mql import MQL\n",
      "fabric = LafFabric()\n",
      "\n",
      "data_dir = '/Users/dirk/Dropbox/DANS/current/projects/etcbc/DOP/'\n",
      "sort_frags_file = 'ot_fragments.txt'\n",
      "data_path = \"{}/{}\".format(data_dir, sort_frags_file)"
     ],
     "language": "python",
     "metadata": {},
     "outputs": [
      {
       "output_type": "stream",
       "stream": "stderr",
       "text": [
        "  0.00s This is LAF-Fabric 4.1.2\n",
        "http://laf-fabric.readthedocs.org/texts/API-reference.html\n"
       ]
      }
     ],
     "prompt_number": 1
    },
    {
     "cell_type": "code",
     "collapsed": false,
     "input": [
      "API = fabric.load('bhs3.txt.hdr', '--', 'dop', {\n",
      "    \"xmlids\": {\"node\": False, \"edge\": False},\n",
      "    \"features\": ('''\n",
      "        oid otype monads\n",
      "        text_plain\n",
      "        surface_consonants\n",
      "        part_of_speech\n",
      "        clause_constituent_relation phrase_type\n",
      "        verse_label\n",
      "    ''','''\n",
      "    '''),\n",
      "    \"prepare\": prepare,\n",
      "}, verbose='NORMAL')\n",
      "exec(fabric.localnames.format(var='fabric'))\n",
      "Q = MQL(API)\n",
      "msg(\"Ready for further processing\")"
     ],
     "language": "python",
     "metadata": {},
     "outputs": [
      {
       "output_type": "stream",
       "stream": "stderr",
       "text": [
        "  0.00s LOADING API: please wait ... \n"
       ]
      },
      {
       "output_type": "stream",
       "stream": "stderr",
       "text": [
        "  0.01s INFO: DATA COMPILED AT: 2014-04-05T09-12-34\n"
       ]
      },
      {
       "output_type": "stream",
       "stream": "stderr",
       "text": [
        "  5.74s LOGFILE=/Users/dirk/laf-fabric-data/etcbc-bhs3/tasks/bhs3.txt.hdr/dop/__log__dop.txt\n"
       ]
      },
      {
       "output_type": "stream",
       "stream": "stderr",
       "text": [
        "  6.61s INFO: DATA LOADED FROM SOURCE bhs3.txt.hdr AND ANNOX -- FOR TASK dop\n"
       ]
      },
      {
       "output_type": "stream",
       "stream": "stderr",
       "text": [
        "  8.48s Ready for further processing\n"
       ]
      }
     ],
     "prompt_number": 2
    },
    {
     "cell_type": "code",
     "collapsed": false,
     "input": [
      "phrase_types = set('AdjP AdvP CP DPrP IPrP InjP InrP NP NegP PP PPrP PrNP VP'.split())\n",
      "clause_types = set('Adju Attr Cmpl CoVo Coor Objc Pred Resu RgRc Subj none'.split())\n",
      "pos_table = {\n",
      " 'adjective': 'aj',\n",
      " 'adverb': 'av',\n",
      " 'article': 'dt',\n",
      " 'conjunction': 'cj',\n",
      " 'interjection': 'ij',\n",
      " 'interrogative': 'ir',\n",
      " 'negative': 'ng',\n",
      " 'noun': 'n',\n",
      " 'preposition': 'pp',\n",
      " 'pronoun': 'pr',\n",
      " 'verb': 'vb',\n",
      "} \n",
      "relevant_nodes = [\n",
      "    (\"word\", '', True),\n",
      "    (\"subphrase\", 'SU', True),\n",
      "    (\"phrase_atom\", 'Pa', False),\n",
      "    (\"phrase\", 'P', True),\n",
      "    (\"clause_atom\", 'Ca', False),\n",
      "    (\"clause\", 'C', True),\n",
      "    (\"sentence_atom\", 'Sa', False),\n",
      "    (\"sentence\", 'S', True),\n",
      "]\n",
      " \n",
      "long_name = {}\n",
      "short_name = {}\n",
      "dtype = {}\n",
      "for (lname, abb, bl) in relevant_nodes:\n",
      "    long_name[abb] = lname\n",
      "    short_name[lname] = abb\n",
      "    dtype[abb] = 'con'\n",
      "for (lname, abb) in pos_table.items():\n",
      "    long_name[abb] = lname\n",
      "    short_name[lname] = abb\n",
      "    dtype[abb] = 'pos'\n",
      "for pt in phrase_types:\n",
      "    long_name[pt] = pt\n",
      "    dtype[pt] = 'phr'\n",
      "for ctr in clause_types:\n",
      "    ct = ctr\n",
      "    if ct == \"none\": ct = 'C'\n",
      "    long_name[ct] = ct\n",
      "    dtype[ct] = 'cls'"
     ],
     "language": "python",
     "metadata": {},
     "outputs": [],
     "prompt_number": 3
    },
    {
     "cell_type": "code",
     "collapsed": false,
     "input": [
      "def heb2esc(heb):\n",
      "    return ''.join(r'\\{}'.format(hex(b)[1:]) for b in bytes(heb, encoding=\"utf8\"))\n",
      "\n",
      "def make_mql(line):\n",
      "    (fragstr, text, num) = line.rstrip().split('\\t')\n",
      "    words = [word[::-1] for word in text.split(' ')]\n",
      "    frag = nestedExpr('(',')').parseString(fragstr).asList()\n",
      "#    print(frag[0])\n",
      "    return (fragstr, trans_mql(frag[0], words, 0, False, False), words, int(num))\n",
      "\n",
      "def trans_word(label, n, words, indent, is_first, is_last):\n",
      "    w = heb2esc(words[int(n)][::-1])\n",
      "    wc = 'text_plain = \"{}\"'.format(w) if w != '' else ''\n",
      "    pos = 'part_of_speech = {}'.format(label) if label != '' else ''\n",
      "    attlist = [x for x in (wc, pos) if x != '']\n",
      "    atts = ' AND '.join(attlist)\n",
      "    frst = ' FIRST AND LAST ' if is_first and is_last else ' FIRST ' if is_first else ' LAST ' if is_last else ''\n",
      "    return '{ind}[word {}{}]\\n'.format(frst, atts, ind = ' ' * indent)\n",
      "\n",
      "def trans_con(label, extra, children, words, indent, is_first, is_last):\n",
      "    chsep = '{ind}!\\n'.format(ind=' ' * indent)\n",
      "    children_rep = chsep.join(trans_mql(child, words, indent+1, c==0, c==len(children)-1) for (c, child) in enumerate(children))\n",
      "    frst = ' FIRST AND LAST ' if is_first and is_last else ' FIRST ' if is_first else ' LAST ' if is_last else ''\n",
      "    return '{ind}[{}{}{}\\n{}{ind}]\\n'.format(label, frst, extra, children_rep, ind = ' ' * indent)\n",
      "\n",
      "def trans_mql(rep, words, indent, is_first, is_last):\n",
      "    if type(rep) == list:\n",
      "        label = long_name[rep[0]]\n",
      "        dt = dtype[rep[0]]\n",
      "        n = rep[1]\n",
      "        children = rep[1:]\n",
      "        if dt != 'pos' and len(children) == 1 and type(children[0]) != list:\n",
      "            children = []\n",
      "        if dt == 'pos': return trans_word(label, n, words, indent, is_first, is_last)\n",
      "        if dt == 'con': return trans_con(label, '', children, words, indent, is_first, is_last)\n",
      "        if dt == 'phr': return trans_con('phrase', ' phrase_type = {}'.format(label), children, words, indent, is_first, is_last)\n",
      "        if dt == 'cls':\n",
      "            extra = ' clause_constituent_relation = {} '.format(label if label != 'C' else 'none')\n",
      "            return trans_con('clause', extra, children, words, indent, is_first, is_last) \n",
      "        return 'XXX'\n",
      "    else: \n",
      "        return trans_word('', rep, words, indent, is_first, is_last)\n",
      "\n",
      "def rich_results(sheaf, monadrep, passages=None, sentence=None, limit=None):\n",
      "    return _rich_results(MQL._results_sheaf(sheaf.data, limit=limit), 0, monadrep, passages, sentence)\n",
      "\n",
      "def _rich_results(data, level, monadrep, passages, sentence):\n",
      "    if data == None: return ''\n",
      "    sep = '\\n' if level == 0 else ' -- '\n",
      "    return sep.join([_rich_result(elem, level+1, monadrep, passages, sentence) for elem in data])\n",
      "\n",
      "def _rich_result(data, level, monadrep, passages, sentence):\n",
      "    return ' '.join([_rich_resgrain(elem, level, monadrep, passages, sentence) for elem in data])\n",
      "\n",
      "def _rich_resgrain(data, level, monadrep, passages, sentence):\n",
      "    passage = ''\n",
      "    sentext = ''\n",
      "    n = data[0]\n",
      "    if level == 1:\n",
      "        if passages:\n",
      "            verse = MQL.node2verse[n]\n",
      "            passage = \"{} \".format(F.verse_label.v(verse))\n",
      "        if sentence:\n",
      "            sent = MQL.node2sentence[n]\n",
      "            sentext = '{} '.format(' '.join(monadrep(w) for w in MQL.object2words[sent]))\n",
      "\n",
      "    otype = F.otype.v(n)\n",
      "    if otype == 'word':\n",
      "        return \"{}{} ({} {})\".format(passage,sentext, short_name[F.part_of_speech.v(n)], monadrep(n))\n",
      "    else:\n",
      "        treenode = short_name[otype]\n",
      "        if treenode == 'P': treenode = F.phrase_type.v(n)\n",
      "        elif treenode == 'C':\n",
      "            treenode = format(F.clause_constituent_relation.v(n))\n",
      "            if treenode == 'none': treenode = 'C'\n",
      "        subdata = data[1] if len(data) > 1 else []\n",
      "        subdatarep = '()'\n",
      "        if len(subdata):\n",
      "            subdatarep =  _rich_result(subdata, level+1, monadrep, passages, sentence)\n",
      "        else:\n",
      "            if n in MQL.object2words:\n",
      "                subdatarep = ' '.join(monadrep(w) for w in MQL.object2words[n])\n",
      "        return \"{}{} ({} {})\".format(passage, sentext, treenode, subdatarep)\n"
     ],
     "language": "python",
     "metadata": {},
     "outputs": [],
     "prompt_number": 4
    },
    {
     "cell_type": "code",
     "collapsed": false,
     "input": [
      "lines = '''\n",
      "(C (CP (cj 0)) (NegP (ng 1)) (VP 2))\t  \t634\n",
      "(S (C 0) (Adju (VP (pp 1) (vb 2))))\t \u05dc \u05d0\u05de\u05e8\t631\n",
      "(C (CP (cj 0)) (VP (vb 1)) (PrNP (n 2)) (PP (pp 3) (n 4)))\t  \u05d9\u05d4\u05d5\u05d4 \u05d0\u05dc \t172\n",
      "(C (CP 0) (VP (vb 1)) (NP (SU (n 2)) (SU 3)) (PP (pp 4) (SU (n 5)) (SU 6)))\t      \t101\n",
      "'''.split('\\n')[1:-1]\n",
      "line = lines[-1]\n",
      "\n",
      "mquery = '''[clause\n",
      " [phrase FIRST  phrase_type = CP\n",
      "  [word  FIRST AND LAST part_of_speech = conjunction]\n",
      " ]\n",
      "!\n",
      " [phrase phrase_type = NegP\n",
      "  [word  FIRST AND LAST part_of_speech = negative]\n",
      " ]\n",
      "!\n",
      " [phrase LAST  phrase_type = VP\n",
      " ]\n",
      "]\n",
      "'''\n",
      "\n",
      "mquery = make_mql(line)\n",
      "print(mquery[0])\n",
      "print(mquery[1])"
     ],
     "language": "python",
     "metadata": {},
     "outputs": [
      {
       "output_type": "stream",
       "stream": "stdout",
       "text": [
        "(C (CP 0) (VP (vb 1)) (NP (SU (n 2)) (SU 3)) (PP (pp 4) (SU (n 5)) (SU 6)))\n",
        "[clause clause_constituent_relation = none \n",
        " [phrase FIRST  phrase_type = CP\n",
        " ]\n",
        "!\n",
        " [phrase phrase_type = VP\n",
        "  [word  FIRST AND LAST part_of_speech = verb]\n",
        " ]\n",
        "!\n",
        " [phrase phrase_type = NP\n",
        "  [subphrase FIRST \n",
        "   [word  FIRST AND LAST part_of_speech = noun]\n",
        "  ]\n",
        " !\n",
        "  [subphrase LAST \n",
        "  ]\n",
        " ]\n",
        "!\n",
        " [phrase LAST  phrase_type = PP\n",
        "  [word  FIRST part_of_speech = preposition]\n",
        " !\n",
        "  [subphrase\n",
        "   [word  FIRST AND LAST part_of_speech = noun]\n",
        "  ]\n",
        " !\n",
        "  [subphrase LAST \n",
        "  ]\n",
        " ]\n",
        "]\n",
        "\n"
       ]
      }
     ],
     "prompt_number": 5
    },
    {
     "cell_type": "code",
     "collapsed": false,
     "input": [
      "def match_frags(frominput=None, toinput=None, limitinput=None, limitresults=None, output=None, terse=False):\n",
      "    frag_occs = outfile('frag_occs{}-{},{}.txt'.format(frominput, toinput, limitinput)) if output == None else output\n",
      "    frag_file = open(data_path)\n",
      "    li = 0\n",
      "    lr = 0\n",
      "    wn = 0\n",
      "    for line in frag_file:\n",
      "        li += 1\n",
      "        if frominput != None and li < frominput: continue\n",
      "        if toinput != None and li >= toinput + 1: break\n",
      "        if limitinput != None and lr >= limitinput: break\n",
      "        lr += 1\n",
      "        (frag, mquery, words, num) = make_mql(line)\n",
      "        sheaf = Q.mql('''\n",
      "    select all objects\n",
      "    \n",
      "    where\n",
      "    {}\n",
      "    '''.format(mquery))\n",
      "        nr = len(sheaf.data)\n",
      "        if num == nr:\n",
      "            if not terse:\n",
      "                msg(\"frag {} ({} of {})\".format(li, lr, limitinput))\n",
      "        else: \n",
      "            if terse:\n",
      "                msg(\"FRAG {}: {} versus {}\".format(li, num, nr))\n",
      "            else:\n",
      "                msg(\"FRAG {} ({} of {}): {} versus {}\".format(li, lr, limitinput, num, nr))\n",
      "            wn += 1\n",
      "        frag_occs.write('<<{}<<{}: {}\\nExpected {} results, found {} results\\n{}\\n====\\n'.format(\n",
      "            '' if num == nr else 'XXX!', li, line, num, nr, mquery\n",
      "        ))\n",
      "        frag_occs.write(rich_results(sheaf,\n",
      "            F.surface_consonants.v, passages=True, sentence=False, limit=limitresults\n",
      "        ))\n",
      "        frag_occs.write(\"\\n>>>>\\n\\n\")\n",
      "    if output == None: frag_occs.close()\n",
      "    frag_file.close()\n",
      "    if not terse:\n",
      "        msg(\"{} discrepancies\".format(wn))\n",
      "    return wn\n",
      "\n",
      "def match_exp(periodpoints=10, samplepoints=4, chunk=3, results=10):\n",
      "    period = int(198219 // periodpoints)\n",
      "    frag_occs = open(my_file('frag_occs_exp-{}-{}-{}-{}.txt'.format(periodpoints, samplepoints, chunk, results)), 'w')\n",
      "    points = {m * period + random.randint(0, period) for m in range(periodpoints) for i in range(samplepoints)}\n",
      "    n = len(points)\n",
      "    discr = 0\n",
      "    for (i, s) in enumerate(sorted(points)): \n",
      "        msg(\"{} discs. SAMPLE POINT {} of {}\".format(discr, i+1, n))\n",
      "        discr += match_frags(frominput=s, limitinput=chunk, limitresults=results, output=frag_occs, terse=True)  \n",
      "    msg(\"Total {} discrepancies in {} fragments\".format(discr, n * chunk))\n",
      "    frag_occs.close()"
     ],
     "language": "python",
     "metadata": {},
     "outputs": [],
     "prompt_number": 6
    },
    {
     "cell_type": "code",
     "collapsed": false,
     "input": [
      "#match_frags(frominput=186291, toinput=None, limitinput=100, limitresults=10)\n",
      "match_frags(frominput=0, toinput=None, limitinput=100, limitresults=20)"
     ],
     "language": "python",
     "metadata": {},
     "outputs": [
      {
       "output_type": "stream",
       "stream": "stderr",
       "text": [
        "42m 18s FRAG 1 (1 of 100): 71398 versus 71618\n"
       ]
      },
      {
       "output_type": "stream",
       "stream": "stderr",
       "text": [
        "42m 23s frag 2 (2 of 100)\n"
       ]
      },
      {
       "output_type": "stream",
       "stream": "stderr",
       "text": [
        "42m 27s FRAG 3 (3 of 100): 60901 versus 61890\n"
       ]
      },
      {
       "output_type": "stream",
       "stream": "stderr",
       "text": [
        "42m 29s FRAG 4 (4 of 100): 50782 versus 50969\n"
       ]
      },
      {
       "output_type": "stream",
       "stream": "stderr",
       "text": [
        "42m 33s frag 5 (5 of 100)\n"
       ]
      },
      {
       "output_type": "stream",
       "stream": "stderr",
       "text": [
        "42m 35s FRAG 6 (6 of 100): 39091 versus 39123\n"
       ]
      },
      {
       "output_type": "stream",
       "stream": "stderr",
       "text": [
        "42m 36s FRAG 7 (7 of 100): 23793 versus 23904\n"
       ]
      },
      {
       "output_type": "stream",
       "stream": "stderr",
       "text": [
        "42m 38s frag 8 (8 of 100)\n"
       ]
      },
      {
       "output_type": "stream",
       "stream": "stderr",
       "text": [
        "42m 41s frag 9 (9 of 100)\n"
       ]
      },
      {
       "output_type": "stream",
       "stream": "stderr",
       "text": [
        "42m 41s FRAG 10 (10 of 100): 15906 versus 15952\n"
       ]
      },
      {
       "output_type": "stream",
       "stream": "stderr",
       "text": [
        "42m 42s FRAG 11 (11 of 100): 14328 versus 14388\n"
       ]
      },
      {
       "output_type": "stream",
       "stream": "stderr",
       "text": [
        "42m 45s FRAG 12 (12 of 100): 12887 versus 12893\n"
       ]
      },
      {
       "output_type": "stream",
       "stream": "stderr",
       "text": [
        "42m 46s FRAG 13 (13 of 100): 12791 versus 12787\n"
       ]
      },
      {
       "output_type": "stream",
       "stream": "stderr",
       "text": [
        "42m 47s frag 14 (14 of 100)\n"
       ]
      },
      {
       "output_type": "stream",
       "stream": "stderr",
       "text": [
        "42m 49s FRAG 15 (15 of 100): 11374 versus 11381\n"
       ]
      },
      {
       "output_type": "stream",
       "stream": "stderr",
       "text": [
        "42m 52s FRAG 16 (16 of 100): 11010 versus 11009\n"
       ]
      },
      {
       "output_type": "stream",
       "stream": "stderr",
       "text": [
        "42m 54s FRAG 17 (17 of 100): 9663 versus 9710\n"
       ]
      },
      {
       "output_type": "stream",
       "stream": "stderr",
       "text": [
        "42m 54s FRAG 18 (18 of 100): 9630 versus 9681\n"
       ]
      },
      {
       "output_type": "stream",
       "stream": "stderr",
       "text": [
        "42m 57s FRAG 19 (19 of 100): 8625 versus 8710\n"
       ]
      },
      {
       "output_type": "stream",
       "stream": "stderr",
       "text": [
        "42m 59s FRAG 20 (20 of 100): 8538 versus 8574\n"
       ]
      },
      {
       "output_type": "stream",
       "stream": "stderr",
       "text": [
        "43m 00s frag 21 (21 of 100)\n"
       ]
      },
      {
       "output_type": "stream",
       "stream": "stderr",
       "text": [
        "43m 02s FRAG 22 (22 of 100): 7286 versus 7284\n"
       ]
      },
      {
       "output_type": "stream",
       "stream": "stderr",
       "text": [
        "43m 04s FRAG 23 (23 of 100): 7151 versus 7185\n"
       ]
      },
      {
       "output_type": "stream",
       "stream": "stderr",
       "text": [
        "43m 05s FRAG 24 (24 of 100): 6822 versus 6828\n"
       ]
      },
      {
       "output_type": "stream",
       "stream": "stderr",
       "text": [
        "43m 06s FRAG 25 (25 of 100): 6819 versus 6305\n"
       ]
      },
      {
       "output_type": "stream",
       "stream": "stderr",
       "text": [
        "43m 08s FRAG 26 (26 of 100): 6817 versus 6864\n"
       ]
      },
      {
       "output_type": "stream",
       "stream": "stderr",
       "text": [
        "43m 10s frag 27 (27 of 100)\n"
       ]
      },
      {
       "output_type": "stream",
       "stream": "stderr",
       "text": [
        "43m 13s FRAG 28 (28 of 100): 6758 versus 6805\n"
       ]
      },
      {
       "output_type": "stream",
       "stream": "stderr",
       "text": [
        "43m 15s frag 29 (29 of 100)\n"
       ]
      },
      {
       "output_type": "stream",
       "stream": "stderr",
       "text": [
        "43m 17s FRAG 30 (30 of 100): 6513 versus 5990\n"
       ]
      },
      {
       "output_type": "stream",
       "stream": "stderr",
       "text": [
        "43m 19s FRAG 31 (31 of 100): 6511 versus 6557\n"
       ]
      },
      {
       "output_type": "stream",
       "stream": "stderr",
       "text": [
        "43m 22s FRAG 32 (32 of 100): 6455 versus 6501\n"
       ]
      },
      {
       "output_type": "stream",
       "stream": "stderr",
       "text": [
        "43m 24s FRAG 33 (33 of 100): 6448 versus 30368\n"
       ]
      },
      {
       "output_type": "stream",
       "stream": "stderr",
       "text": [
        "43m 26s FRAG 34 (34 of 100): 6215 versus 6224\n"
       ]
      },
      {
       "output_type": "stream",
       "stream": "stderr",
       "text": [
        "43m 27s FRAG 35 (35 of 100): 6207 versus 6234\n"
       ]
      },
      {
       "output_type": "stream",
       "stream": "stderr",
       "text": [
        "43m 27s frag 36 (36 of 100)\n"
       ]
      },
      {
       "output_type": "stream",
       "stream": "stderr",
       "text": [
        "43m 29s frag 37 (37 of 100)\n"
       ]
      },
      {
       "output_type": "stream",
       "stream": "stderr",
       "text": [
        "43m 31s FRAG 38 (38 of 100): 5933 versus 5275\n"
       ]
      },
      {
       "output_type": "stream",
       "stream": "stderr",
       "text": [
        "43m 34s FRAG 39 (39 of 100): 5931 versus 5978\n"
       ]
      },
      {
       "output_type": "stream",
       "stream": "stderr",
       "text": [
        "43m 37s frag 40 (40 of 100)\n"
       ]
      },
      {
       "output_type": "stream",
       "stream": "stderr",
       "text": [
        "43m 40s FRAG 41 (41 of 100): 5877 versus 5924\n"
       ]
      },
      {
       "output_type": "stream",
       "stream": "stderr",
       "text": [
        "43m 41s FRAG 42 (42 of 100): 5830 versus 5190\n"
       ]
      },
      {
       "output_type": "stream",
       "stream": "stderr",
       "text": [
        "43m 44s FRAG 43 (43 of 100): 5829 versus 5859\n"
       ]
      },
      {
       "output_type": "stream",
       "stream": "stderr",
       "text": [
        "43m 46s FRAG 44 (44 of 100): 5773 versus 5803\n"
       ]
      },
      {
       "output_type": "stream",
       "stream": "stderr",
       "text": [
        "43m 48s FRAG 45 (45 of 100): 5556 versus 4938\n"
       ]
      },
      {
       "output_type": "stream",
       "stream": "stderr",
       "text": [
        "43m 51s FRAG 46 (46 of 100): 5555 versus 5585\n"
       ]
      },
      {
       "output_type": "stream",
       "stream": "stderr",
       "text": [
        "43m 54s FRAG 47 (47 of 100): 5502 versus 5532\n"
       ]
      },
      {
       "output_type": "stream",
       "stream": "stderr",
       "text": [
        "43m 54s FRAG 48 (48 of 100): 5471 versus 5499\n"
       ]
      },
      {
       "output_type": "stream",
       "stream": "stderr",
       "text": [
        "43m 56s FRAG 49 (49 of 100): 5376 versus 5408\n"
       ]
      },
      {
       "output_type": "stream",
       "stream": "stderr",
       "text": [
        "43m 57s FRAG 50 (50 of 100): 5266 versus 5271\n"
       ]
      },
      {
       "output_type": "stream",
       "stream": "stderr",
       "text": [
        "43m 58s FRAG 51 (51 of 100): 5254 versus 5255\n"
       ]
      },
      {
       "output_type": "stream",
       "stream": "stderr",
       "text": [
        "44m 00s FRAG 52 (52 of 100): 5209 versus 5207\n"
       ]
      },
      {
       "output_type": "stream",
       "stream": "stderr",
       "text": [
        "44m 02s FRAG 53 (53 of 100): 5052 versus 4342\n"
       ]
      },
      {
       "output_type": "stream",
       "stream": "stderr",
       "text": [
        "44m 02s FRAG 54 (54 of 100): 5052 versus 5057\n"
       ]
      },
      {
       "output_type": "stream",
       "stream": "stderr",
       "text": [
        "44m 05s FRAG 55 (55 of 100): 5051 versus 5081\n"
       ]
      },
      {
       "output_type": "stream",
       "stream": "stderr",
       "text": [
        "44m 05s FRAG 56 (56 of 100): 5036 versus 5041\n"
       ]
      },
      {
       "output_type": "stream",
       "stream": "stderr",
       "text": [
        "44m 07s FRAG 57 (57 of 100): 5006 versus 5009\n"
       ]
      },
      {
       "output_type": "stream",
       "stream": "stderr",
       "text": [
        "44m 10s FRAG 58 (58 of 100): 4999 versus 5029\n"
       ]
      },
      {
       "output_type": "stream",
       "stream": "stderr",
       "text": [
        "44m 13s frag 59 (59 of 100)\n"
       ]
      },
      {
       "output_type": "stream",
       "stream": "stderr",
       "text": [
        "44m 15s FRAG 60 (60 of 100): 4769 versus 4788\n"
       ]
      },
      {
       "output_type": "stream",
       "stream": "stderr",
       "text": [
        "44m 15s FRAG 61 (61 of 100): 4566 versus 4569\n"
       ]
      },
      {
       "output_type": "stream",
       "stream": "stderr",
       "text": [
        "44m 17s FRAG 62 (62 of 100): 4544 versus 4560\n"
       ]
      },
      {
       "output_type": "stream",
       "stream": "stderr",
       "text": [
        "44m 18s FRAG 63 (63 of 100): 4520 versus 4544\n"
       ]
      },
      {
       "output_type": "stream",
       "stream": "stderr",
       "text": [
        "44m 18s frag 64 (64 of 100)\n"
       ]
      },
      {
       "output_type": "stream",
       "stream": "stderr",
       "text": [
        "44m 20s FRAG 65 (65 of 100): 4479 versus 4482\n"
       ]
      },
      {
       "output_type": "stream",
       "stream": "stderr",
       "text": [
        "44m 21s frag 66 (66 of 100)\n"
       ]
      },
      {
       "output_type": "stream",
       "stream": "stderr",
       "text": [
        "44m 23s frag 67 (67 of 100)\n"
       ]
      },
      {
       "output_type": "stream",
       "stream": "stderr",
       "text": [
        "44m 25s FRAG 68 (68 of 100): 4431 versus 4440\n"
       ]
      },
      {
       "output_type": "stream",
       "stream": "stderr",
       "text": [
        "44m 27s FRAG 69 (69 of 100): 4424 versus 4422\n"
       ]
      },
      {
       "output_type": "stream",
       "stream": "stderr",
       "text": [
        "44m 27s FRAG 70 (70 of 100): 4265 versus 4277\n"
       ]
      },
      {
       "output_type": "stream",
       "stream": "stderr",
       "text": [
        "44m 29s FRAG 71 (71 of 100): 4256 versus 4258\n"
       ]
      },
      {
       "output_type": "stream",
       "stream": "stderr",
       "text": [
        "44m 30s frag 72 (72 of 100)\n"
       ]
      },
      {
       "output_type": "stream",
       "stream": "stderr",
       "text": [
        "44m 31s FRAG 73 (73 of 100): 4221 versus 4227\n"
       ]
      },
      {
       "output_type": "stream",
       "stream": "stderr",
       "text": [
        "44m 34s frag 74 (74 of 100)\n"
       ]
      },
      {
       "output_type": "stream",
       "stream": "stderr",
       "text": [
        "44m 34s frag 75 (75 of 100)\n"
       ]
      },
      {
       "output_type": "stream",
       "stream": "stderr",
       "text": [
        "44m 35s FRAG 76 (76 of 100): 3864 versus 3877\n"
       ]
      },
      {
       "output_type": "stream",
       "stream": "stderr",
       "text": [
        "44m 36s FRAG 77 (77 of 100): 3861 versus 3877\n"
       ]
      },
      {
       "output_type": "stream",
       "stream": "stderr",
       "text": [
        "44m 38s FRAG 78 (78 of 100): 3803 versus 3805\n"
       ]
      },
      {
       "output_type": "stream",
       "stream": "stderr",
       "text": [
        "44m 40s FRAG 79 (79 of 100): 3786 versus 6798\n"
       ]
      },
      {
       "output_type": "stream",
       "stream": "stderr",
       "text": [
        "44m 43s frag 80 (80 of 100)\n"
       ]
      },
      {
       "output_type": "stream",
       "stream": "stderr",
       "text": [
        "44m 44s frag 81 (81 of 100)\n"
       ]
      },
      {
       "output_type": "stream",
       "stream": "stderr",
       "text": [
        "44m 45s FRAG 82 (82 of 100): 3589 versus 3591\n"
       ]
      },
      {
       "output_type": "stream",
       "stream": "stderr",
       "text": [
        "44m 46s FRAG 83 (83 of 100): 3275 versus 3279\n"
       ]
      },
      {
       "output_type": "stream",
       "stream": "stderr",
       "text": [
        "44m 47s frag 84 (84 of 100)\n"
       ]
      },
      {
       "output_type": "stream",
       "stream": "stderr",
       "text": [
        "44m 49s FRAG 85 (85 of 100): 3135 versus 3147\n"
       ]
      },
      {
       "output_type": "stream",
       "stream": "stderr",
       "text": [
        "44m 51s FRAG 86 (86 of 100): 3003 versus 3007\n"
       ]
      },
      {
       "output_type": "stream",
       "stream": "stderr",
       "text": [
        "44m 52s FRAG 87 (87 of 100): 2985 versus 3015\n"
       ]
      },
      {
       "output_type": "stream",
       "stream": "stderr",
       "text": [
        "44m 53s FRAG 88 (88 of 100): 2943 versus 2927\n"
       ]
      },
      {
       "output_type": "stream",
       "stream": "stderr",
       "text": [
        "44m 55s FRAG 89 (89 of 100): 2942 versus 2970\n"
       ]
      },
      {
       "output_type": "stream",
       "stream": "stderr",
       "text": [
        "44m 55s FRAG 90 (90 of 100): 2937 versus 2941\n"
       ]
      },
      {
       "output_type": "stream",
       "stream": "stderr",
       "text": [
        "44m 56s FRAG 91 (91 of 100): 2831 versus 2863\n"
       ]
      },
      {
       "output_type": "stream",
       "stream": "stderr",
       "text": [
        "44m 58s FRAG 92 (92 of 100): 2828 versus 2858\n"
       ]
      },
      {
       "output_type": "stream",
       "stream": "stderr",
       "text": [
        "45m 01s FRAG 93 (93 of 100): 2787 versus 2815\n"
       ]
      },
      {
       "output_type": "stream",
       "stream": "stderr",
       "text": [
        "45m 02s FRAG 94 (94 of 100): 2682 versus 2685\n"
       ]
      },
      {
       "output_type": "stream",
       "stream": "stderr",
       "text": [
        "45m 03s FRAG 95 (95 of 100): 2608 versus 2654\n"
       ]
      },
      {
       "output_type": "stream",
       "stream": "stderr",
       "text": [
        "45m 04s FRAG 96 (96 of 100): 2581 versus 2585\n"
       ]
      },
      {
       "output_type": "stream",
       "stream": "stderr",
       "text": [
        "45m 05s FRAG 97 (97 of 100): 2577 versus 2612\n"
       ]
      },
      {
       "output_type": "stream",
       "stream": "stderr",
       "text": [
        "45m 07s FRAG 98 (98 of 100): 2560 versus 2582\n"
       ]
      },
      {
       "output_type": "stream",
       "stream": "stderr",
       "text": [
        "45m 09s FRAG 99 (99 of 100): 2517 versus 2537\n"
       ]
      },
      {
       "output_type": "stream",
       "stream": "stderr",
       "text": [
        "45m 09s FRAG 100 (100 of 100): 2510 versus 2513\n"
       ]
      },
      {
       "output_type": "stream",
       "stream": "stderr",
       "text": [
        "45m 09s 79 discrepancies\n"
       ]
      },
      {
       "metadata": {},
       "output_type": "pyout",
       "prompt_number": 9,
       "text": [
        "79"
       ]
      }
     ],
     "prompt_number": 9
    },
    {
     "cell_type": "code",
     "collapsed": false,
     "input": [
      "match_exp(50, 2, 4, 100)"
     ],
     "language": "python",
     "metadata": {},
     "outputs": [
      {
       "output_type": "stream",
       "stream": "stderr",
       "text": [
        "    37s 0 discs. SAMPLE POINT 1 of 100\n"
       ]
      },
      {
       "output_type": "stream",
       "stream": "stderr",
       "text": [
        "    42s FRAG 1082: 406 versus 408\n"
       ]
      },
      {
       "output_type": "stream",
       "stream": "stderr",
       "text": [
        "    44s FRAG 1083: 406 versus 407\n"
       ]
      },
      {
       "output_type": "stream",
       "stream": "stderr",
       "text": [
        "    44s 2 discs. SAMPLE POINT 2 of 100\n"
       ]
      },
      {
       "output_type": "stream",
       "stream": "stderr",
       "text": [
        "    46s FRAG 2673: 189 versus 193\n"
       ]
      },
      {
       "output_type": "stream",
       "stream": "stderr",
       "text": [
        "    46s 3 discs. SAMPLE POINT 3 of 100\n"
       ]
      },
      {
       "output_type": "stream",
       "stream": "stderr",
       "text": [
        "    48s 3 discs. SAMPLE POINT 4 of 100\n"
       ]
      },
      {
       "output_type": "stream",
       "stream": "stderr",
       "text": [
        "    51s FRAG 6539: 79 versus 553\n"
       ]
      },
      {
       "output_type": "stream",
       "stream": "stderr",
       "text": [
        "    55s 4 discs. SAMPLE POINT 5 of 100\n"
       ]
      },
      {
       "output_type": "stream",
       "stream": "stderr",
       "text": [
        " 1m 01s 4 discs. SAMPLE POINT 6 of 100\n"
       ]
      },
      {
       "output_type": "stream",
       "stream": "stderr",
       "text": [
        " 1m 03s FRAG 10314: 51 versus 52\n"
       ]
      },
      {
       "output_type": "stream",
       "stream": "stderr",
       "text": [
        " 1m 08s 5 discs. SAMPLE POINT 7 of 100\n"
       ]
      },
      {
       "output_type": "stream",
       "stream": "stderr",
       "text": [
        " 1m 17s 5 discs. SAMPLE POINT 8 of 100\n"
       ]
      },
      {
       "output_type": "stream",
       "stream": "stderr",
       "text": [
        " 1m 25s 5 discs. SAMPLE POINT 9 of 100\n"
       ]
      },
      {
       "output_type": "stream",
       "stream": "stderr",
       "text": [
        " 1m 26s FRAG 17556: 29 versus 35\n"
       ]
      },
      {
       "output_type": "stream",
       "stream": "stderr",
       "text": [
        " 1m 30s 6 discs. SAMPLE POINT 10 of 100\n"
       ]
      },
      {
       "output_type": "stream",
       "stream": "stderr",
       "text": [
        " 1m 32s 6 discs. SAMPLE POINT 11 of 100\n"
       ]
      },
      {
       "output_type": "stream",
       "stream": "stderr",
       "text": [
        " 1m 42s 6 discs. SAMPLE POINT 12 of 100\n"
       ]
      },
      {
       "output_type": "stream",
       "stream": "stderr",
       "text": [
        " 1m 52s 6 discs. SAMPLE POINT 13 of 100\n"
       ]
      },
      {
       "output_type": "stream",
       "stream": "stderr",
       "text": [
        " 2m 01s 6 discs. SAMPLE POINT 14 of 100\n"
       ]
      },
      {
       "output_type": "stream",
       "stream": "stderr",
       "text": [
        " 2m 06s FRAG 25710: 19 versus 26\n"
       ]
      },
      {
       "output_type": "stream",
       "stream": "stderr",
       "text": [
        " 2m 06s 7 discs. SAMPLE POINT 15 of 100\n"
       ]
      },
      {
       "output_type": "stream",
       "stream": "stderr",
       "text": [
        " 2m 15s 7 discs. SAMPLE POINT 16 of 100\n"
       ]
      },
      {
       "output_type": "stream",
       "stream": "stderr",
       "text": [
        " 2m 25s 7 discs. SAMPLE POINT 17 of 100\n"
       ]
      },
      {
       "output_type": "stream",
       "stream": "stderr",
       "text": [
        " 2m 34s FRAG 34481: 14 versus 15\n"
       ]
      },
      {
       "output_type": "stream",
       "stream": "stderr",
       "text": [
        " 2m 37s 8 discs. SAMPLE POINT 18 of 100\n"
       ]
      },
      {
       "output_type": "stream",
       "stream": "stderr",
       "text": [
        " 2m 43s FRAG 34719: 14 versus 54\n"
       ]
      },
      {
       "output_type": "stream",
       "stream": "stderr",
       "text": [
        " 2m 48s 9 discs. SAMPLE POINT 19 of 100\n"
       ]
      },
      {
       "output_type": "stream",
       "stream": "stderr",
       "text": [
        " 2m 53s FRAG 38584: 12 versus 182\n"
       ]
      },
      {
       "output_type": "stream",
       "stream": "stderr",
       "text": [
        " 2m 53s 10 discs. SAMPLE POINT 20 of 100\n"
       ]
      },
      {
       "output_type": "stream",
       "stream": "stderr",
       "text": [
        " 3m 02s FRAG 39267: 12 versus 13\n"
       ]
      },
      {
       "output_type": "stream",
       "stream": "stderr",
       "text": [
        " 3m 02s 11 discs. SAMPLE POINT 21 of 100\n"
       ]
      },
      {
       "output_type": "stream",
       "stream": "stderr",
       "text": [
        " 3m 04s 11 discs. SAMPLE POINT 22 of 100\n"
       ]
      },
      {
       "output_type": "stream",
       "stream": "stderr",
       "text": [
        " 3m 11s 11 discs. SAMPLE POINT 23 of 100\n"
       ]
      },
      {
       "output_type": "stream",
       "stream": "stderr",
       "text": [
        " 3m 15s FRAG 43991: 10 versus 11\n"
       ]
      },
      {
       "output_type": "stream",
       "stream": "stderr",
       "text": [
        " 3m 18s 12 discs. SAMPLE POINT 24 of 100\n"
       ]
      },
      {
       "output_type": "stream",
       "stream": "stderr",
       "text": [
        " 3m 26s 12 discs. SAMPLE POINT 25 of 100\n"
       ]
      },
      {
       "output_type": "stream",
       "stream": "stderr",
       "text": [
        " 3m 32s FRAG 49850: 9 versus 262\n"
       ]
      },
      {
       "output_type": "stream",
       "stream": "stderr",
       "text": [
        " 3m 34s FRAG 49851: 9 versus 89\n"
       ]
      },
      {
       "output_type": "stream",
       "stream": "stderr",
       "text": [
        " 3m 34s 14 discs. SAMPLE POINT 26 of 100\n"
       ]
      },
      {
       "output_type": "stream",
       "stream": "stderr",
       "text": [
        " 3m 46s 14 discs. SAMPLE POINT 27 of 100\n"
       ]
      },
      {
       "output_type": "stream",
       "stream": "stderr",
       "text": [
        " 3m 51s FRAG 52704: 8 versus 10\n"
       ]
      },
      {
       "output_type": "stream",
       "stream": "stderr",
       "text": [
        " 3m 54s 15 discs. SAMPLE POINT 28 of 100\n"
       ]
      },
      {
       "output_type": "stream",
       "stream": "stderr",
       "text": [
        " 4m 02s 15 discs. SAMPLE POINT 29 of 100\n"
       ]
      },
      {
       "output_type": "stream",
       "stream": "stderr",
       "text": [
        " 4m 12s 15 discs. SAMPLE POINT 30 of 100\n"
       ]
      },
      {
       "output_type": "stream",
       "stream": "stderr",
       "text": [
        " 4m 17s 15 discs. SAMPLE POINT 31 of 100\n"
       ]
      },
      {
       "output_type": "stream",
       "stream": "stderr",
       "text": [
        " 4m 23s 15 discs. SAMPLE POINT 32 of 100\n"
       ]
      },
      {
       "output_type": "stream",
       "stream": "stderr",
       "text": [
        " 4m 36s 15 discs. SAMPLE POINT 33 of 100\n"
       ]
      },
      {
       "output_type": "stream",
       "stream": "stderr",
       "text": [
        " 4m 38s FRAG 64518: 7 versus 9\n"
       ]
      },
      {
       "output_type": "stream",
       "stream": "stderr",
       "text": [
        "32m 08s FRAG 64519: 7 versus 24\n"
       ]
      },
      {
       "output_type": "stream",
       "stream": "stderr",
       "text": [
        "32m 09s FRAG 64520: 7 versus 314\n"
       ]
      },
      {
       "output_type": "stream",
       "stream": "stderr",
       "text": [
        "32m 11s 18 discs. SAMPLE POINT 34 of 100\n"
       ]
      },
      {
       "output_type": "stream",
       "stream": "stderr",
       "text": [
        "32m 24s FRAG 66408: 6 versus 7\n"
       ]
      },
      {
       "output_type": "stream",
       "stream": "stderr",
       "text": [
        "32m 24s 19 discs. SAMPLE POINT 35 of 100\n"
       ]
      },
      {
       "output_type": "stream",
       "stream": "stderr",
       "text": [
        "32m 33s 19 discs. SAMPLE POINT 36 of 100\n"
       ]
      },
      {
       "output_type": "stream",
       "stream": "stderr",
       "text": [
        "32m 48s 19 discs. SAMPLE POINT 37 of 100\n"
       ]
      },
      {
       "output_type": "stream",
       "stream": "stderr",
       "text": [
        "32m 58s 19 discs. SAMPLE POINT 38 of 100\n"
       ]
      },
      {
       "output_type": "stream",
       "stream": "stderr",
       "text": [
        "33m 06s 19 discs. SAMPLE POINT 39 of 100\n"
       ]
      },
      {
       "output_type": "stream",
       "stream": "stderr",
       "text": [
        "33m 13s 19 discs. SAMPLE POINT 40 of 100\n"
       ]
      },
      {
       "output_type": "stream",
       "stream": "stderr",
       "text": [
        "33m 18s 19 discs. SAMPLE POINT 41 of 100\n"
       ]
      },
      {
       "output_type": "stream",
       "stream": "stderr",
       "text": [
        "33m 24s 19 discs. SAMPLE POINT 42 of 100\n"
       ]
      },
      {
       "output_type": "stream",
       "stream": "stderr",
       "text": [
        "33m 35s 19 discs. SAMPLE POINT 43 of 100\n"
       ]
      },
      {
       "output_type": "stream",
       "stream": "stderr",
       "text": [
        "33m 50s 19 discs. SAMPLE POINT 44 of 100\n"
       ]
      },
      {
       "output_type": "stream",
       "stream": "stderr",
       "text": [
        "34m 03s 19 discs. SAMPLE POINT 45 of 100\n"
       ]
      },
      {
       "output_type": "stream",
       "stream": "stderr",
       "text": [
        "34m 10s 19 discs. SAMPLE POINT 46 of 100\n"
       ]
      },
      {
       "output_type": "stream",
       "stream": "stderr",
       "text": [
        "34m 23s 19 discs. SAMPLE POINT 47 of 100\n"
       ]
      },
      {
       "output_type": "stream",
       "stream": "stderr",
       "text": [
        "34m 27s 19 discs. SAMPLE POINT 48 of 100\n"
       ]
      },
      {
       "output_type": "stream",
       "stream": "stderr",
       "text": [
        "34m 34s 19 discs. SAMPLE POINT 49 of 100\n"
       ]
      },
      {
       "output_type": "stream",
       "stream": "stderr",
       "text": [
        "34m 38s 19 discs. SAMPLE POINT 50 of 100\n"
       ]
      },
      {
       "output_type": "stream",
       "stream": "stderr",
       "text": [
        "34m 42s 19 discs. SAMPLE POINT 51 of 100\n"
       ]
      },
      {
       "output_type": "stream",
       "stream": "stderr",
       "text": [
        "34m 51s 19 discs. SAMPLE POINT 52 of 100\n"
       ]
      },
      {
       "output_type": "stream",
       "stream": "stderr",
       "text": [
        "34m 58s 19 discs. SAMPLE POINT 53 of 100\n"
       ]
      },
      {
       "output_type": "stream",
       "stream": "stderr",
       "text": [
        "35m 01s 19 discs. SAMPLE POINT 54 of 100\n"
       ]
      },
      {
       "output_type": "stream",
       "stream": "stderr",
       "text": [
        "35m 03s 19 discs. SAMPLE POINT 55 of 100\n"
       ]
      },
      {
       "output_type": "stream",
       "stream": "stderr",
       "text": [
        "35m 11s 19 discs. SAMPLE POINT 56 of 100\n"
       ]
      },
      {
       "output_type": "stream",
       "stream": "stderr",
       "text": [
        "35m 15s FRAG 110034: 3 versus 17\n"
       ]
      },
      {
       "output_type": "stream",
       "stream": "stderr",
       "text": [
        "35m 23s 20 discs. SAMPLE POINT 57 of 100\n"
       ]
      },
      {
       "output_type": "stream",
       "stream": "stderr",
       "text": [
        "35m 32s 20 discs. SAMPLE POINT 58 of 100\n"
       ]
      },
      {
       "output_type": "stream",
       "stream": "stderr",
       "text": [
        "35m 39s 20 discs. SAMPLE POINT 59 of 100\n"
       ]
      },
      {
       "output_type": "stream",
       "stream": "stderr",
       "text": [
        "35m 46s 20 discs. SAMPLE POINT 60 of 100\n"
       ]
      },
      {
       "output_type": "stream",
       "stream": "stderr",
       "text": [
        "35m 48s 20 discs. SAMPLE POINT 61 of 100\n"
       ]
      },
      {
       "output_type": "stream",
       "stream": "stderr",
       "text": [
        "35m 52s 20 discs. SAMPLE POINT 62 of 100\n"
       ]
      },
      {
       "output_type": "stream",
       "stream": "stderr",
       "text": [
        "36m 02s 20 discs. SAMPLE POINT 63 of 100\n"
       ]
      },
      {
       "output_type": "stream",
       "stream": "stderr",
       "text": [
        "36m 13s 20 discs. SAMPLE POINT 64 of 100\n"
       ]
      },
      {
       "output_type": "stream",
       "stream": "stderr",
       "text": [
        "36m 23s 20 discs. SAMPLE POINT 65 of 100\n"
       ]
      },
      {
       "output_type": "stream",
       "stream": "stderr",
       "text": [
        "36m 34s 20 discs. SAMPLE POINT 66 of 100\n"
       ]
      },
      {
       "output_type": "stream",
       "stream": "stderr",
       "text": [
        "36m 44s 20 discs. SAMPLE POINT 67 of 100\n"
       ]
      },
      {
       "output_type": "stream",
       "stream": "stderr",
       "text": [
        "36m 52s 20 discs. SAMPLE POINT 68 of 100\n"
       ]
      },
      {
       "output_type": "stream",
       "stream": "stderr",
       "text": [
        "36m 56s FRAG 134378: 3 versus 0\n"
       ]
      },
      {
       "output_type": "stream",
       "stream": "stderr",
       "text": [
        "37m 00s 21 discs. SAMPLE POINT 69 of 100\n"
       ]
      },
      {
       "output_type": "stream",
       "stream": "stderr",
       "text": [
        "37m 07s 21 discs. SAMPLE POINT 70 of 100\n"
       ]
      },
      {
       "output_type": "stream",
       "stream": "stderr",
       "text": [
        "37m 08s FRAG 138493: 3 versus 0\n"
       ]
      },
      {
       "output_type": "stream",
       "stream": "stderr",
       "text": [
        "37m 08s FRAG 138494: 3 versus 0\n"
       ]
      },
      {
       "output_type": "stream",
       "stream": "stderr",
       "text": [
        "37m 08s 23 discs. SAMPLE POINT 71 of 100\n"
       ]
      },
      {
       "output_type": "stream",
       "stream": "stderr",
       "text": [
        "37m 15s 23 discs. SAMPLE POINT 72 of 100\n"
       ]
      },
      {
       "output_type": "stream",
       "stream": "stderr",
       "text": [
        "37m 24s 23 discs. SAMPLE POINT 73 of 100\n"
       ]
      },
      {
       "output_type": "stream",
       "stream": "stderr",
       "text": [
        "37m 36s 23 discs. SAMPLE POINT 74 of 100\n"
       ]
      },
      {
       "output_type": "stream",
       "stream": "stderr",
       "text": [
        "37m 47s 23 discs. SAMPLE POINT 75 of 100\n"
       ]
      },
      {
       "output_type": "stream",
       "stream": "stderr",
       "text": [
        "38m 01s 23 discs. SAMPLE POINT 76 of 100\n"
       ]
      },
      {
       "output_type": "stream",
       "stream": "stderr",
       "text": [
        "38m 07s 23 discs. SAMPLE POINT 77 of 100\n"
       ]
      },
      {
       "output_type": "stream",
       "stream": "stderr",
       "text": [
        "38m 11s 23 discs. SAMPLE POINT 78 of 100\n"
       ]
      },
      {
       "output_type": "stream",
       "stream": "stderr",
       "text": [
        "38m 14s 23 discs. SAMPLE POINT 79 of 100\n"
       ]
      },
      {
       "output_type": "stream",
       "stream": "stderr",
       "text": [
        "38m 22s 23 discs. SAMPLE POINT 80 of 100\n"
       ]
      },
      {
       "output_type": "stream",
       "stream": "stderr",
       "text": [
        "38m 28s 23 discs. SAMPLE POINT 81 of 100\n"
       ]
      },
      {
       "output_type": "stream",
       "stream": "stderr",
       "text": [
        "38m 31s FRAG 158664: 2 versus 4\n"
       ]
      },
      {
       "output_type": "stream",
       "stream": "stderr",
       "text": [
        "38m 34s 24 discs. SAMPLE POINT 82 of 100\n"
       ]
      },
      {
       "output_type": "stream",
       "stream": "stderr",
       "text": [
        "38m 39s 24 discs. SAMPLE POINT 83 of 100\n"
       ]
      },
      {
       "output_type": "stream",
       "stream": "stderr",
       "text": [
        "38m 51s 24 discs. SAMPLE POINT 84 of 100\n"
       ]
      },
      {
       "output_type": "stream",
       "stream": "stderr",
       "text": [
        "39m 00s 24 discs. SAMPLE POINT 85 of 100\n"
       ]
      },
      {
       "output_type": "stream",
       "stream": "stderr",
       "text": [
        "39m 14s 24 discs. SAMPLE POINT 86 of 100\n"
       ]
      },
      {
       "output_type": "stream",
       "stream": "stderr",
       "text": [
        "39m 17s FRAG 169271: 2 versus 1\n"
       ]
      },
      {
       "output_type": "stream",
       "stream": "stderr",
       "text": [
        "39m 29s 25 discs. SAMPLE POINT 87 of 100\n"
       ]
      },
      {
       "output_type": "stream",
       "stream": "stderr",
       "text": [
        "39m 41s 25 discs. SAMPLE POINT 88 of 100\n"
       ]
      },
      {
       "output_type": "stream",
       "stream": "stderr",
       "text": [
        "39m 55s 25 discs. SAMPLE POINT 89 of 100\n"
       ]
      },
      {
       "output_type": "stream",
       "stream": "stderr",
       "text": [
        "40m 04s 25 discs. SAMPLE POINT 90 of 100\n"
       ]
      },
      {
       "output_type": "stream",
       "stream": "stderr",
       "text": [
        "40m 16s 25 discs. SAMPLE POINT 91 of 100\n"
       ]
      },
      {
       "output_type": "stream",
       "stream": "stderr",
       "text": [
        "40m 25s 25 discs. SAMPLE POINT 92 of 100\n"
       ]
      },
      {
       "output_type": "stream",
       "stream": "stderr",
       "text": [
        "40m 32s 25 discs. SAMPLE POINT 93 of 100\n"
       ]
      },
      {
       "output_type": "stream",
       "stream": "stderr",
       "text": [
        "40m 36s 25 discs. SAMPLE POINT 94 of 100\n"
       ]
      },
      {
       "output_type": "stream",
       "stream": "stderr",
       "text": [
        "40m 43s 25 discs. SAMPLE POINT 95 of 100\n"
       ]
      },
      {
       "output_type": "stream",
       "stream": "stderr",
       "text": [
        "40m 50s 25 discs. SAMPLE POINT 96 of 100\n"
       ]
      },
      {
       "output_type": "stream",
       "stream": "stderr",
       "text": [
        "40m 59s 25 discs. SAMPLE POINT 97 of 100\n"
       ]
      },
      {
       "output_type": "stream",
       "stream": "stderr",
       "text": [
        "41m 12s 25 discs. SAMPLE POINT 98 of 100\n"
       ]
      },
      {
       "output_type": "stream",
       "stream": "stderr",
       "text": [
        "41m 15s 25 discs. SAMPLE POINT 99 of 100\n"
       ]
      },
      {
       "output_type": "stream",
       "stream": "stderr",
       "text": [
        "41m 19s 25 discs. SAMPLE POINT 100 of 100\n"
       ]
      },
      {
       "output_type": "stream",
       "stream": "stderr",
       "text": [
        "41m 20s Total 25 discrepancies in 400 fragments\n"
       ]
      }
     ],
     "prompt_number": 8
    },
    {
     "cell_type": "code",
     "collapsed": false,
     "input": [
      "match_exp(200, 3, 4, 100)"
     ],
     "language": "python",
     "metadata": {},
     "outputs": [
      {
       "output_type": "stream",
       "stream": "stderr",
       "text": [
        "55m 35s 0 discs. SAMPLE POINT 1 of 600\n"
       ]
      },
      {
       "output_type": "stream",
       "stream": "stderr",
       "text": [
        "55m 37s FRAG 470: 816 versus 822\n"
       ]
      },
      {
       "output_type": "stream",
       "stream": "stderr",
       "text": [
        "55m 39s FRAG 471: 816 versus 4938\n"
       ]
      },
      {
       "output_type": "stream",
       "stream": "stderr",
       "text": [
        "55m 42s FRAG 472: 815 versus 819\n"
       ]
      },
      {
       "output_type": "stream",
       "stream": "stderr",
       "text": [
        "55m 43s FRAG 473: 815 versus 824\n"
       ]
      },
      {
       "output_type": "stream",
       "stream": "stderr",
       "text": [
        "55m 43s 4 discs. SAMPLE POINT 2 of 600\n"
       ]
      },
      {
       "output_type": "stream",
       "stream": "stderr",
       "text": [
        "55m 45s FRAG 651: 639 versus 640\n"
       ]
      },
      {
       "output_type": "stream",
       "stream": "stderr",
       "text": [
        "55m 48s FRAG 652: 638 versus 639\n"
       ]
      },
      {
       "output_type": "stream",
       "stream": "stderr",
       "text": [
        "55m 50s FRAG 653: 637 versus 642\n"
       ]
      },
      {
       "output_type": "stream",
       "stream": "stderr",
       "text": [
        "55m 52s FRAG 654: 637 versus 641\n"
       ]
      },
      {
       "output_type": "stream",
       "stream": "stderr",
       "text": [
        "55m 52s 8 discs. SAMPLE POINT 3 of 600\n"
       ]
      },
      {
       "output_type": "stream",
       "stream": "stderr",
       "text": [
        "55m 56s FRAG 981: 441 versus 442\n"
       ]
      },
      {
       "output_type": "stream",
       "stream": "stderr",
       "text": [
        "55m 58s FRAG 982: 441 versus 440\n"
       ]
      },
      {
       "output_type": "stream",
       "stream": "stderr",
       "text": [
        "55m 59s 10 discs. SAMPLE POINT 4 of 600\n"
       ]
      },
      {
       "output_type": "stream",
       "stream": "stderr",
       "text": [
        "56m 02s FRAG 1558: 299 versus 301\n"
       ]
      },
      {
       "output_type": "stream",
       "stream": "stderr",
       "text": [
        "56m 04s FRAG 1559: 298 versus 300\n"
       ]
      },
      {
       "output_type": "stream",
       "stream": "stderr",
       "text": [
        "56m 05s FRAG 1560: 298 versus 297\n"
       ]
      },
      {
       "output_type": "stream",
       "stream": "stderr",
       "text": [
        "56m 05s 13 discs. SAMPLE POINT 5 of 600\n"
       ]
      },
      {
       "output_type": "stream",
       "stream": "stderr",
       "text": [
        "56m 08s FRAG 1933: 249 versus 250\n"
       ]
      },
      {
       "output_type": "stream",
       "stream": "stderr",
       "text": [
        "56m 13s FRAG 1935: 249 versus 251\n"
       ]
      },
      {
       "output_type": "stream",
       "stream": "stderr",
       "text": [
        "56m 14s 15 discs. SAMPLE POINT 6 of 600\n"
       ]
      },
      {
       "output_type": "stream",
       "stream": "stderr",
       "text": [
        "56m 16s FRAG 1973: 246 versus 5190\n"
       ]
      },
      {
       "output_type": "stream",
       "stream": "stderr",
       "text": [
        "56m 20s 16 discs. SAMPLE POINT 7 of 600\n"
       ]
      },
      {
       "output_type": "stream",
       "stream": "stderr",
       "text": [
        "56m 26s FRAG 2084: 234 versus 235\n"
       ]
      },
      {
       "output_type": "stream",
       "stream": "stderr",
       "text": [
        "56m 28s FRAG 2085: 234 versus 235\n"
       ]
      },
      {
       "output_type": "stream",
       "stream": "stderr",
       "text": [
        "56m 30s 18 discs. SAMPLE POINT 8 of 600\n"
       ]
      },
      {
       "output_type": "stream",
       "stream": "stderr",
       "text": [
        "56m 35s FRAG 2582: 196 versus 3187\n"
       ]
      },
      {
       "output_type": "stream",
       "stream": "stderr",
       "text": [
        "56m 36s FRAG 2583: 196 versus 197\n"
       ]
      },
      {
       "output_type": "stream",
       "stream": "stderr",
       "text": [
        "56m 38s 20 discs. SAMPLE POINT 9 of 600\n"
       ]
      },
      {
       "output_type": "stream",
       "stream": "stderr",
       "text": [
        "56m 41s FRAG 2905: 175 versus 3201\n"
       ]
      },
      {
       "output_type": "stream",
       "stream": "stderr",
       "text": [
        "56m 43s FRAG 2906: 175 versus 174\n"
       ]
      },
      {
       "output_type": "stream",
       "stream": "stderr",
       "text": [
        "56m 45s FRAG 2907: 175 versus 176\n"
       ]
      },
      {
       "output_type": "stream",
       "stream": "stderr",
       "text": [
        "56m 47s 23 discs. SAMPLE POINT 10 of 600\n"
       ]
      },
      {
       "output_type": "stream",
       "stream": "stderr",
       "text": [
        "56m 49s FRAG 3084: 166 versus 3201\n"
       ]
      },
      {
       "output_type": "stream",
       "stream": "stderr",
       "text": [
        "56m 51s FRAG 3085: 166 versus 167\n"
       ]
      },
      {
       "output_type": "stream",
       "stream": "stderr",
       "text": [
        "56m 53s FRAG 3086: 166 versus 479\n"
       ]
      },
      {
       "output_type": "stream",
       "stream": "stderr",
       "text": [
        "56m 54s 26 discs. SAMPLE POINT 11 of 600\n"
       ]
      },
      {
       "output_type": "stream",
       "stream": "stderr",
       "text": [
        "56m 58s FRAG 3249: 157 versus 158\n"
       ]
      },
      {
       "output_type": "stream",
       "stream": "stderr",
       "text": [
        "56m 59s 27 discs. SAMPLE POINT 12 of 600\n"
       ]
      },
      {
       "output_type": "stream",
       "stream": "stderr",
       "text": [
        "57m 00s FRAG 3891: 130 versus 244\n"
       ]
      },
      {
       "output_type": "stream",
       "stream": "stderr",
       "text": [
        "57m 02s FRAG 3892: 130 versus 145\n"
       ]
      },
      {
       "output_type": "stream",
       "stream": "stderr",
       "text": [
        "57m 02s FRAG 3893: 130 versus 131\n"
       ]
      },
      {
       "output_type": "stream",
       "stream": "stderr",
       "text": [
        "57m 03s 30 discs. SAMPLE POINT 13 of 600\n"
       ]
      },
      {
       "output_type": "stream",
       "stream": "stderr",
       "text": [
        "57m 12s 30 discs. SAMPLE POINT 14 of 600\n"
       ]
      },
      {
       "output_type": "stream",
       "stream": "stderr",
       "text": [
        "57m 22s 30 discs. SAMPLE POINT 15 of 600\n"
       ]
      },
      {
       "output_type": "stream",
       "stream": "stderr",
       "text": [
        "57m 24s FRAG 4689: 108 versus 110\n"
       ]
      },
      {
       "output_type": "stream",
       "stream": "stderr",
       "text": [
        "57m 30s FRAG 4692: 108 versus 5990\n"
       ]
      },
      {
       "output_type": "stream",
       "stream": "stderr",
       "text": [
        "57m 30s 32 discs. SAMPLE POINT 16 of 600\n"
       ]
      },
      {
       "output_type": "stream",
       "stream": "stderr",
       "text": [
        "57m 37s 32 discs. SAMPLE POINT 17 of 600\n"
       ]
      },
      {
       "output_type": "stream",
       "stream": "stderr",
       "text": [
        "57m 45s 32 discs. SAMPLE POINT 18 of 600\n"
       ]
      },
      {
       "output_type": "stream",
       "stream": "stderr",
       "text": [
        "57m 47s FRAG 5936: 86 versus 88\n"
       ]
      },
      {
       "output_type": "stream",
       "stream": "stderr",
       "text": [
        "57m 55s 33 discs. SAMPLE POINT 19 of 600\n"
       ]
      },
      {
       "output_type": "stream",
       "stream": "stderr",
       "text": [
        "58m 01s FRAG 6209: 83 versus 86\n"
       ]
      },
      {
       "output_type": "stream",
       "stream": "stderr",
       "text": [
        "58m 01s 34 discs. SAMPLE POINT 20 of 600\n"
       ]
      },
      {
       "output_type": "stream",
       "stream": "stderr",
       "text": [
        "58m 07s 34 discs. SAMPLE POINT 21 of 600\n"
       ]
      },
      {
       "output_type": "stream",
       "stream": "stderr",
       "text": [
        "58m 08s FRAG 6803: 77 versus 82\n"
       ]
      },
      {
       "output_type": "stream",
       "stream": "stderr",
       "text": [
        "58m 09s FRAG 6804: 77 versus 78\n"
       ]
      },
      {
       "output_type": "stream",
       "stream": "stderr",
       "text": [
        "58m 12s 36 discs. SAMPLE POINT 22 of 600\n"
       ]
      },
      {
       "output_type": "stream",
       "stream": "stderr",
       "text": [
        "58m 21s 36 discs. SAMPLE POINT 23 of 600\n"
       ]
      },
      {
       "output_type": "stream",
       "stream": "stderr",
       "text": [
        "58m 23s FRAG 7235: 72 versus 73\n"
       ]
      },
      {
       "output_type": "stream",
       "stream": "stderr",
       "text": [
        "58m 25s FRAG 7237: 72 versus 75\n"
       ]
      },
      {
       "output_type": "stream",
       "stream": "stderr",
       "text": [
        "58m 27s 38 discs. SAMPLE POINT 24 of 600\n"
       ]
      },
      {
       "output_type": "stream",
       "stream": "stderr",
       "text": [
        "58m 27s FRAG 7745: 68 versus 69\n"
       ]
      },
      {
       "output_type": "stream",
       "stream": "stderr",
       "text": [
        "58m 28s 39 discs. SAMPLE POINT 25 of 600\n"
       ]
      },
      {
       "output_type": "stream",
       "stream": "stderr",
       "text": [
        "58m 38s 39 discs. SAMPLE POINT 26 of 600\n"
       ]
      },
      {
       "output_type": "stream",
       "stream": "stderr",
       "text": [
        "58m 41s FRAG 8315: 63 versus 152\n"
       ]
      },
      {
       "output_type": "stream",
       "stream": "stderr",
       "text": [
        "58m 45s FRAG 8317: 63 versus 62\n"
       ]
      },
      {
       "output_type": "stream",
       "stream": "stderr",
       "text": [
        "58m 47s 41 discs. SAMPLE POINT 27 of 600\n"
       ]
      },
      {
       "output_type": "stream",
       "stream": "stderr",
       "text": [
        "58m 48s FRAG 8363: 63 versus 64\n"
       ]
      },
      {
       "output_type": "stream",
       "stream": "stderr",
       "text": [
        "58m 49s FRAG 8364: 63 versus 64\n"
       ]
      },
      {
       "output_type": "stream",
       "stream": "stderr",
       "text": [
        "58m 50s FRAG 8366: 63 versus 64\n"
       ]
      },
      {
       "output_type": "stream",
       "stream": "stderr",
       "text": [
        "58m 50s 44 discs. SAMPLE POINT 28 of 600\n"
       ]
      },
      {
       "output_type": "stream",
       "stream": "stderr",
       "text": [
        "58m 54s FRAG 9231: 57 versus 58\n"
       ]
      },
      {
       "output_type": "stream",
       "stream": "stderr",
       "text": [
        "58m 59s FRAG 9233: 57 versus 60\n"
       ]
      },
      {
       "output_type": "stream",
       "stream": "stderr",
       "text": [
        "58m 59s 46 discs. SAMPLE POINT 29 of 600\n"
       ]
      },
      {
       "output_type": "stream",
       "stream": "stderr",
       "text": [
        "59m 05s 46 discs. SAMPLE POINT 30 of 600\n"
       ]
      },
      {
       "output_type": "stream",
       "stream": "stderr",
       "text": [
        "59m 06s 46 discs. SAMPLE POINT 31 of 600\n"
       ]
      },
      {
       "output_type": "stream",
       "stream": "stderr",
       "text": [
        "59m 15s 46 discs. SAMPLE POINT 32 of 600\n"
       ]
      },
      {
       "output_type": "stream",
       "stream": "stderr",
       "text": [
        "59m 25s 46 discs. SAMPLE POINT 33 of 600\n"
       ]
      },
      {
       "output_type": "stream",
       "stream": "stderr",
       "text": [
        "59m 26s FRAG 10295: 51 versus 50\n"
       ]
      },
      {
       "output_type": "stream",
       "stream": "stderr",
       "text": [
        "59m 33s 47 discs. SAMPLE POINT 34 of 600\n"
       ]
      },
      {
       "output_type": "stream",
       "stream": "stderr",
       "text": [
        "59m 34s FRAG 11448: 46 versus 507\n"
       ]
      },
      {
       "output_type": "stream",
       "stream": "stderr",
       "text": [
        "59m 37s 48 discs. SAMPLE POINT 35 of 600\n"
       ]
      },
      {
       "output_type": "stream",
       "stream": "stderr",
       "text": [
        "59m 39s FRAG 11574: 45 versus 46\n"
       ]
      },
      {
       "output_type": "stream",
       "stream": "stderr",
       "text": [
        "59m 42s 49 discs. SAMPLE POINT 36 of 600\n"
       ]
      },
      {
       "output_type": "stream",
       "stream": "stderr",
       "text": [
        "59m 47s FRAG 11578: 45 versus 46\n"
       ]
      },
      {
       "output_type": "stream",
       "stream": "stderr",
       "text": [
        "59m 49s 50 discs. SAMPLE POINT 37 of 600\n"
       ]
      },
      {
       "output_type": "stream",
       "stream": "stderr",
       "text": [
        "59m 51s 50 discs. SAMPLE POINT 38 of 600\n"
       ]
      },
      {
       "output_type": "stream",
       "stream": "stderr",
       "text": [
        "59m 53s FRAG 12379: 42 versus 43\n"
       ]
      },
      {
       "output_type": "stream",
       "stream": "stderr",
       "text": [
        " 1h 00m 02s 51 discs. SAMPLE POINT 39 of 600\n"
       ]
      },
      {
       "output_type": "stream",
       "stream": "stderr",
       "text": [
        " 1h 00m 04s FRAG 12389: 42 versus 43\n"
       ]
      },
      {
       "output_type": "stream",
       "stream": "stderr",
       "text": [
        " 1h 00m 07s FRAG 12390: 42 versus 43\n"
       ]
      },
      {
       "output_type": "stream",
       "stream": "stderr",
       "text": [
        " 1h 00m 13s 53 discs. SAMPLE POINT 40 of 600\n"
       ]
      },
      {
       "output_type": "stream",
       "stream": "stderr",
       "text": [
        " 1h 00m 19s 53 discs. SAMPLE POINT 41 of 600\n"
       ]
      },
      {
       "output_type": "stream",
       "stream": "stderr",
       "text": [
        " 1h 00m 20s FRAG 13402: 39 versus 41\n"
       ]
      },
      {
       "output_type": "stream",
       "stream": "stderr",
       "text": [
        " 1h 00m 24s 54 discs. SAMPLE POINT 42 of 600\n"
       ]
      },
      {
       "output_type": "stream",
       "stream": "stderr",
       "text": [
        " 1h 00m 26s FRAG 13874: 38 versus 40\n"
       ]
      },
      {
       "output_type": "stream",
       "stream": "stderr",
       "text": [
        " 1h 00m 26s 55 discs. SAMPLE POINT 43 of 600\n"
       ]
      },
      {
       "output_type": "stream",
       "stream": "stderr",
       "text": [
        " 1h 00m 36s 55 discs. SAMPLE POINT 44 of 600\n"
       ]
      },
      {
       "output_type": "stream",
       "stream": "stderr",
       "text": [
        " 1h 00m 38s FRAG 14309: 36 versus 35\n"
       ]
      },
      {
       "output_type": "stream",
       "stream": "stderr",
       "text": [
        " 1h 00m 46s 56 discs. SAMPLE POINT 45 of 600\n"
       ]
      },
      {
       "output_type": "stream",
       "stream": "stderr",
       "text": [
        " 1h 00m 49s FRAG 14384: 36 versus 209\n"
       ]
      },
      {
       "output_type": "stream",
       "stream": "stderr",
       "text": [
        " 1h 00m 50s 57 discs. SAMPLE POINT 46 of 600\n"
       ]
      },
      {
       "output_type": "stream",
       "stream": "stderr",
       "text": [
        " 1h 01m 00s 57 discs. SAMPLE POINT 47 of 600\n"
       ]
      },
      {
       "output_type": "stream",
       "stream": "stderr",
       "text": [
        " 1h 01m 03s FRAG 15389: 33 versus 34\n"
       ]
      },
      {
       "output_type": "stream",
       "stream": "stderr",
       "text": [
        " 1h 01m 05s 58 discs. SAMPLE POINT 48 of 600\n"
       ]
      },
      {
       "output_type": "stream",
       "stream": "stderr",
       "text": [
        " 1h 01m 12s FRAG 15764: 33 versus 32\n"
       ]
      },
      {
       "output_type": "stream",
       "stream": "stderr",
       "text": [
        " 1h 01m 12s 59 discs. SAMPLE POINT 49 of 600\n"
       ]
      },
      {
       "output_type": "stream",
       "stream": "stderr",
       "text": [
        " 1h 01m 21s 59 discs. SAMPLE POINT 50 of 600\n"
       ]
      },
      {
       "output_type": "stream",
       "stream": "stderr",
       "text": [
        " 1h 01m 30s 59 discs. SAMPLE POINT 51 of 600\n"
       ]
      },
      {
       "output_type": "stream",
       "stream": "stderr",
       "text": [
        " 1h 01m 31s 59 discs. SAMPLE POINT 52 of 600\n"
       ]
      },
      {
       "output_type": "stream",
       "stream": "stderr",
       "text": [
        " 1h 01m 40s 59 discs. SAMPLE POINT 53 of 600\n"
       ]
      },
      {
       "output_type": "stream",
       "stream": "stderr",
       "text": [
        " 1h 01m 41s FRAG 16980: 30 versus 25\n"
       ]
      },
      {
       "output_type": "stream",
       "stream": "stderr",
       "text": [
        " 1h 01m 47s 60 discs. SAMPLE POINT 54 of 600\n"
       ]
      },
      {
       "output_type": "stream",
       "stream": "stderr",
       "text": [
        " 1h 01m 57s 60 discs. SAMPLE POINT 55 of 600\n"
       ]
      },
      {
       "output_type": "stream",
       "stream": "stderr",
       "text": [
        " 1h 02m 02s 60 discs. SAMPLE POINT 56 of 600\n"
       ]
      },
      {
       "output_type": "stream",
       "stream": "stderr",
       "text": [
        " 1h 02m 04s FRAG 18533: 28 versus 40\n"
       ]
      },
      {
       "output_type": "stream",
       "stream": "stderr",
       "text": [
        " 1h 02m 05s 61 discs. SAMPLE POINT 57 of 600\n"
       ]
      },
      {
       "output_type": "stream",
       "stream": "stderr",
       "text": [
        " 1h 02m 13s FRAG 18712: 27 versus 28\n"
       ]
      },
      {
       "output_type": "stream",
       "stream": "stderr",
       "text": [
        " 1h 02m 16s FRAG 18713: 27 versus 28\n"
       ]
      },
      {
       "output_type": "stream",
       "stream": "stderr",
       "text": [
        " 1h 02m 16s 63 discs. SAMPLE POINT 58 of 600\n"
       ]
      },
      {
       "output_type": "stream",
       "stream": "stderr",
       "text": [
        " 1h 02m 28s 63 discs. SAMPLE POINT 59 of 600\n"
       ]
      },
      {
       "output_type": "stream",
       "stream": "stderr",
       "text": [
        " 1h 02m 32s 63 discs. SAMPLE POINT 60 of 600\n"
       ]
      },
      {
       "output_type": "stream",
       "stream": "stderr",
       "text": [
        " 1h 02m 34s FRAG 19578: 26 versus 29\n"
       ]
      },
      {
       "output_type": "stream",
       "stream": "stderr",
       "text": [
        " 1h 02m 39s 64 discs. SAMPLE POINT 61 of 600\n"
       ]
      },
      {
       "output_type": "stream",
       "stream": "stderr",
       "text": [
        " 1h 02m 46s 64 discs. SAMPLE POINT 62 of 600\n"
       ]
      },
      {
       "output_type": "stream",
       "stream": "stderr",
       "text": [
        " 1h 02m 53s 64 discs. SAMPLE POINT 63 of 600\n"
       ]
      },
      {
       "output_type": "stream",
       "stream": "stderr",
       "text": [
        " 1h 02m 58s FRAG 20745: 24 versus 25\n"
       ]
      },
      {
       "output_type": "stream",
       "stream": "stderr",
       "text": [
        " 1h 02m 59s FRAG 20746: 24 versus 25\n"
       ]
      },
      {
       "output_type": "stream",
       "stream": "stderr",
       "text": [
        " 1h 03m 01s 66 discs. SAMPLE POINT 64 of 600\n"
       ]
      },
      {
       "output_type": "stream",
       "stream": "stderr",
       "text": [
        " 1h 03m 12s FRAG 20829: 24 versus 25\n"
       ]
      },
      {
       "output_type": "stream",
       "stream": "stderr",
       "text": [
        " 1h 03m 12s 67 discs. SAMPLE POINT 65 of 600\n"
       ]
      },
      {
       "output_type": "stream",
       "stream": "stderr",
       "text": [
        " 1h 03m 18s 67 discs. SAMPLE POINT 66 of 600\n"
       ]
      },
      {
       "output_type": "stream",
       "stream": "stderr",
       "text": [
        " 1h 03m 26s 67 discs. SAMPLE POINT 67 of 600\n"
       ]
      },
      {
       "output_type": "stream",
       "stream": "stderr",
       "text": [
        " 1h 03m 29s FRAG 21944: 23 versus 0\n"
       ]
      },
      {
       "output_type": "stream",
       "stream": "stderr",
       "text": [
        " 1h 03m 31s FRAG 21946: 23 versus 25\n"
       ]
      },
      {
       "output_type": "stream",
       "stream": "stderr",
       "text": [
        " 1h 03m 32s 69 discs. SAMPLE POINT 68 of 600\n"
       ]
      },
      {
       "output_type": "stream",
       "stream": "stderr",
       "text": [
        " 1h 03m 42s 69 discs. SAMPLE POINT 69 of 600\n"
       ]
      },
      {
       "output_type": "stream",
       "stream": "stderr",
       "text": [
        " 1h 03m 50s FRAG 22734: 22 versus 23\n"
       ]
      },
      {
       "output_type": "stream",
       "stream": "stderr",
       "text": [
        " 1h 03m 50s 70 discs. SAMPLE POINT 70 of 600\n"
       ]
      },
      {
       "output_type": "stream",
       "stream": "stderr",
       "text": [
        " 1h 04m 00s 70 discs. SAMPLE POINT 71 of 600\n"
       ]
      },
      {
       "output_type": "stream",
       "stream": "stderr",
       "text": [
        " 1h 04m 08s 70 discs. SAMPLE POINT 72 of 600\n"
       ]
      },
      {
       "output_type": "stream",
       "stream": "stderr",
       "text": [
        " 1h 04m 13s 70 discs. SAMPLE POINT 73 of 600\n"
       ]
      },
      {
       "output_type": "stream",
       "stream": "stderr",
       "text": [
        " 1h 04m 23s 70 discs. SAMPLE POINT 74 of 600\n"
       ]
      },
      {
       "output_type": "stream",
       "stream": "stderr",
       "text": [
        " 1h 04m 31s 70 discs. SAMPLE POINT 75 of 600\n"
       ]
      },
      {
       "output_type": "stream",
       "stream": "stderr",
       "text": [
        " 1h 04m 34s FRAG 24601: 20 versus 21\n"
       ]
      },
      {
       "output_type": "stream",
       "stream": "stderr",
       "text": [
        " 1h 04m 41s 71 discs. SAMPLE POINT 76 of 600\n"
       ]
      },
      {
       "output_type": "stream",
       "stream": "stderr",
       "text": [
        " 1h 04m 46s FRAG 24788: 20 versus 29\n"
       ]
      },
      {
       "output_type": "stream",
       "stream": "stderr",
       "text": [
        " 1h 04m 47s FRAG 24789: 20 versus 34\n"
       ]
      },
      {
       "output_type": "stream",
       "stream": "stderr",
       "text": [
        " 1h 04m 47s 73 discs. SAMPLE POINT 77 of 600\n"
       ]
      },
      {
       "output_type": "stream",
       "stream": "stderr",
       "text": [
        " 1h 04m 49s FRAG 25278: 20 versus 21\n"
       ]
      },
      {
       "output_type": "stream",
       "stream": "stderr",
       "text": [
        " 1h 04m 51s FRAG 25280: 20 versus 21\n"
       ]
      },
      {
       "output_type": "stream",
       "stream": "stderr",
       "text": [
        " 1h 04m 51s 75 discs. SAMPLE POINT 78 of 600\n"
       ]
      },
      {
       "output_type": "stream",
       "stream": "stderr",
       "text": [
        " 1h 05m 01s 75 discs. SAMPLE POINT 79 of 600\n"
       ]
      },
      {
       "output_type": "stream",
       "stream": "stderr",
       "text": [
        " 1h 05m 09s 75 discs. SAMPLE POINT 80 of 600\n"
       ]
      },
      {
       "output_type": "stream",
       "stream": "stderr",
       "text": [
        " 1h 05m 16s 75 discs. SAMPLE POINT 81 of 600\n"
       ]
      },
      {
       "output_type": "stream",
       "stream": "stderr",
       "text": [
        " 1h 05m 21s 75 discs. SAMPLE POINT 82 of 600\n"
       ]
      },
      {
       "output_type": "stream",
       "stream": "stderr",
       "text": [
        " 1h 05m 28s 75 discs. SAMPLE POINT 83 of 600\n"
       ]
      },
      {
       "output_type": "stream",
       "stream": "stderr",
       "text": [
        " 1h 05m 37s 75 discs. SAMPLE POINT 84 of 600\n"
       ]
      },
      {
       "output_type": "stream",
       "stream": "stderr",
       "text": [
        " 1h 05m 43s 75 discs. SAMPLE POINT 85 of 600\n"
       ]
      },
      {
       "output_type": "stream",
       "stream": "stderr",
       "text": [
        " 1h 05m 44s 75 discs. SAMPLE POINT 86 of 600\n"
       ]
      },
      {
       "output_type": "stream",
       "stream": "stderr",
       "text": [
        " 1h 05m 45s FRAG 27946: 18 versus 19\n"
       ]
      },
      {
       "output_type": "stream",
       "stream": "stderr",
       "text": [
        " 1h 05m 46s 76 discs. SAMPLE POINT 87 of 600\n"
       ]
      },
      {
       "output_type": "stream",
       "stream": "stderr",
       "text": [
        " 1h 05m 54s 76 discs. SAMPLE POINT 88 of 600\n"
       ]
      },
      {
       "output_type": "stream",
       "stream": "stderr",
       "text": [
        " 1h 05m 58s 76 discs. SAMPLE POINT 89 of 600\n"
       ]
      },
      {
       "output_type": "stream",
       "stream": "stderr",
       "text": [
        " 1h 06m 09s 76 discs. SAMPLE POINT 90 of 600\n"
       ]
      },
      {
       "output_type": "stream",
       "stream": "stderr",
       "text": [
        " 1h 06m 10s FRAG 29553: 17 versus 18\n"
       ]
      },
      {
       "output_type": "stream",
       "stream": "stderr",
       "text": [
        " 1h 06m 10s 77 discs. SAMPLE POINT 91 of 600\n"
       ]
      },
      {
       "output_type": "stream",
       "stream": "stderr",
       "text": [
        " 1h 06m 16s FRAG 30344: 16 versus 19\n"
       ]
      },
      {
       "output_type": "stream",
       "stream": "stderr",
       "text": [
        " 1h 06m 16s 78 discs. SAMPLE POINT 92 of 600\n"
       ]
      },
      {
       "output_type": "stream",
       "stream": "stderr",
       "text": [
        " 1h 06m 19s 78 discs. SAMPLE POINT 93 of 600\n"
       ]
      },
      {
       "output_type": "stream",
       "stream": "stderr",
       "text": [
        " 1h 06m 30s 78 discs. SAMPLE POINT 94 of 600\n"
       ]
      },
      {
       "output_type": "stream",
       "stream": "stderr",
       "text": [
        " 1h 06m 37s 78 discs. SAMPLE POINT 95 of 600\n"
       ]
      },
      {
       "output_type": "stream",
       "stream": "stderr",
       "text": [
        " 1h 06m 42s 78 discs. SAMPLE POINT 96 of 600\n"
       ]
      },
      {
       "output_type": "stream",
       "stream": "stderr",
       "text": [
        " 1h 06m 51s 78 discs. SAMPLE POINT 97 of 600\n"
       ]
      },
      {
       "output_type": "stream",
       "stream": "stderr",
       "text": [
        " 1h 06m 54s FRAG 32132: 15 versus 14\n"
       ]
      },
      {
       "output_type": "stream",
       "stream": "stderr",
       "text": [
        " 1h 06m 56s FRAG 32134: 15 versus 16\n"
       ]
      },
      {
       "output_type": "stream",
       "stream": "stderr",
       "text": [
        " 1h 06m 56s 80 discs. SAMPLE POINT 98 of 600\n"
       ]
      },
      {
       "output_type": "stream",
       "stream": "stderr",
       "text": [
        " 1h 07m 00s 80 discs. SAMPLE POINT 99 of 600\n"
       ]
      },
      {
       "output_type": "stream",
       "stream": "stderr",
       "text": [
        " 1h 07m 11s 80 discs. SAMPLE POINT 100 of 600\n"
       ]
      },
      {
       "output_type": "stream",
       "stream": "stderr",
       "text": [
        " 1h 07m 12s FRAG 33104: 15 versus 13\n"
       ]
      },
      {
       "output_type": "stream",
       "stream": "stderr",
       "text": [
        " 1h 07m 13s 81 discs. SAMPLE POINT 101 of 600\n"
       ]
      },
      {
       "output_type": "stream",
       "stream": "stderr",
       "text": [
        " 1h 07m 22s 81 discs. SAMPLE POINT 102 of 600\n"
       ]
      },
      {
       "output_type": "stream",
       "stream": "stderr",
       "text": [
        " 1h 07m 32s 81 discs. SAMPLE POINT 103 of 600\n"
       ]
      },
      {
       "output_type": "stream",
       "stream": "stderr",
       "text": [
        " 1h 07m 40s 81 discs. SAMPLE POINT 104 of 600\n"
       ]
      },
      {
       "output_type": "stream",
       "stream": "stderr",
       "text": [
        " 1h 07m 50s 81 discs. SAMPLE POINT 105 of 600\n"
       ]
      },
      {
       "output_type": "stream",
       "stream": "stderr",
       "text": [
        " 1h 08m 02s 81 discs. SAMPLE POINT 106 of 600\n"
       ]
      },
      {
       "output_type": "stream",
       "stream": "stderr",
       "text": [
        " 1h 08m 09s 81 discs. SAMPLE POINT 107 of 600\n"
       ]
      },
      {
       "output_type": "stream",
       "stream": "stderr",
       "text": [
        " 1h 08m 11s 81 discs. SAMPLE POINT 108 of 600\n"
       ]
      },
      {
       "output_type": "stream",
       "stream": "stderr",
       "text": [
        " 1h 08m 17s 81 discs. SAMPLE POINT 109 of 600\n"
       ]
      },
      {
       "output_type": "stream",
       "stream": "stderr",
       "text": [
        " 1h 08m 28s 81 discs. SAMPLE POINT 110 of 600\n"
       ]
      },
      {
       "output_type": "stream",
       "stream": "stderr",
       "text": [
        " 1h 08m 32s 81 discs. SAMPLE POINT 111 of 600\n"
       ]
      },
      {
       "output_type": "stream",
       "stream": "stderr",
       "text": [
        " 1h 08m 36s 81 discs. SAMPLE POINT 112 of 600\n"
       ]
      },
      {
       "output_type": "stream",
       "stream": "stderr",
       "text": [
        " 1h 08m 40s FRAG 37207: 13 versus 56\n"
       ]
      },
      {
       "output_type": "stream",
       "stream": "stderr",
       "text": [
        " 1h 08m 41s 82 discs. SAMPLE POINT 113 of 600\n"
       ]
      },
      {
       "output_type": "stream",
       "stream": "stderr",
       "text": [
        " 1h 08m 42s FRAG 37572: 13 versus 14\n"
       ]
      },
      {
       "output_type": "stream",
       "stream": "stderr",
       "text": [
        " 1h 08m 42s 83 discs. SAMPLE POINT 114 of 600\n"
       ]
      },
      {
       "output_type": "stream",
       "stream": "stderr",
       "text": [
        " 1h 08m 44s 83 discs. SAMPLE POINT 115 of 600\n"
       ]
      },
      {
       "output_type": "stream",
       "stream": "stderr",
       "text": [
        " 1h 08m 53s 83 discs. SAMPLE POINT 116 of 600\n"
       ]
      },
      {
       "output_type": "stream",
       "stream": "stderr",
       "text": [
        " 1h 09m 00s 83 discs. SAMPLE POINT 117 of 600\n"
       ]
      },
      {
       "output_type": "stream",
       "stream": "stderr",
       "text": [
        " 1h 09m 07s 83 discs. SAMPLE POINT 118 of 600\n"
       ]
      },
      {
       "output_type": "stream",
       "stream": "stderr",
       "text": [
        " 1h 09m 13s FRAG 38779: 12 versus 13\n"
       ]
      },
      {
       "output_type": "stream",
       "stream": "stderr",
       "text": [
        " 1h 09m 15s 84 discs. SAMPLE POINT 119 of 600\n"
       ]
      },
      {
       "output_type": "stream",
       "stream": "stderr",
       "text": [
        " 1h 09m 26s 84 discs. SAMPLE POINT 120 of 600\n"
       ]
      },
      {
       "output_type": "stream",
       "stream": "stderr",
       "text": [
        " 1h 09m 37s 84 discs. SAMPLE POINT 121 of 600\n"
       ]
      },
      {
       "output_type": "stream",
       "stream": "stderr",
       "text": [
        " 1h 09m 45s 84 discs. SAMPLE POINT 122 of 600\n"
       ]
      },
      {
       "output_type": "stream",
       "stream": "stderr",
       "text": [
        " 1h 09m 54s 84 discs. SAMPLE POINT 123 of 600\n"
       ]
      },
      {
       "output_type": "stream",
       "stream": "stderr",
       "text": [
        " 1h 09m 56s FRAG 40116: 12 versus 14\n"
       ]
      },
      {
       "output_type": "stream",
       "stream": "stderr",
       "text": [
        " 1h 09m 58s FRAG 40117: 12 versus 26\n"
       ]
      },
      {
       "output_type": "stream",
       "stream": "stderr",
       "text": [
        " 1h 09m 59s FRAG 40118: 12 versus 1220\n"
       ]
      },
      {
       "output_type": "stream",
       "stream": "stderr",
       "text": [
        " 1h 10m 00s 87 discs. SAMPLE POINT 124 of 600\n"
       ]
      },
      {
       "output_type": "stream",
       "stream": "stderr",
       "text": [
        " 1h 10m 11s FRAG 40961: 11 versus 15\n"
       ]
      },
      {
       "output_type": "stream",
       "stream": "stderr",
       "text": [
        " 1h 10m 11s 88 discs. SAMPLE POINT 125 of 600\n"
       ]
      },
      {
       "output_type": "stream",
       "stream": "stderr",
       "text": [
        " 1h 10m 16s 88 discs. SAMPLE POINT 126 of 600\n"
       ]
      },
      {
       "output_type": "stream",
       "stream": "stderr",
       "text": [
        " 1h 10m 23s FRAG 41363: 11 versus 10\n"
       ]
      },
      {
       "output_type": "stream",
       "stream": "stderr",
       "text": [
        " 1h 10m 23s 89 discs. SAMPLE POINT 127 of 600\n"
       ]
      },
      {
       "output_type": "stream",
       "stream": "stderr",
       "text": [
        " 1h 10m 25s FRAG 41825: 11 versus 216\n"
       ]
      },
      {
       "output_type": "stream",
       "stream": "stderr",
       "text": [
        " 1h 10m 27s FRAG 41826: 11 versus 46\n"
       ]
      },
      {
       "output_type": "stream",
       "stream": "stderr",
       "text": [
        " 1h 10m 30s 91 discs. SAMPLE POINT 128 of 600\n"
       ]
      },
      {
       "output_type": "stream",
       "stream": "stderr",
       "text": [
        " 1h 10m 39s FRAG 42186: 11 versus 12\n"
       ]
      },
      {
       "output_type": "stream",
       "stream": "stderr",
       "text": [
        " 1h 10m 39s 92 discs. SAMPLE POINT 129 of 600\n"
       ]
      },
      {
       "output_type": "stream",
       "stream": "stderr",
       "text": [
        " 1h 10m 50s 92 discs. SAMPLE POINT 130 of 600\n"
       ]
      },
      {
       "output_type": "stream",
       "stream": "stderr",
       "text": [
        " 1h 11m 01s 92 discs. SAMPLE POINT 131 of 600\n"
       ]
      },
      {
       "output_type": "stream",
       "stream": "stderr",
       "text": [
        " 1h 11m 11s 92 discs. SAMPLE POINT 132 of 600\n"
       ]
      },
      {
       "output_type": "stream",
       "stream": "stderr",
       "text": [
        " 1h 11m 18s 92 discs. SAMPLE POINT 133 of 600\n"
       ]
      },
      {
       "output_type": "stream",
       "stream": "stderr",
       "text": [
        " 1h 11m 20s 92 discs. SAMPLE POINT 134 of 600\n"
       ]
      },
      {
       "output_type": "stream",
       "stream": "stderr",
       "text": [
        " 1h 11m 31s 92 discs. SAMPLE POINT 135 of 600\n"
       ]
      },
      {
       "output_type": "stream",
       "stream": "stderr",
       "text": [
        " 1h 11m 34s FRAG 44509: 10 versus 24\n"
       ]
      },
      {
       "output_type": "stream",
       "stream": "stderr",
       "text": [
        " 1h 11m 43s 93 discs. SAMPLE POINT 136 of 600\n"
       ]
      },
      {
       "output_type": "stream",
       "stream": "stderr",
       "text": [
        " 1h 11m 49s 93 discs. SAMPLE POINT 137 of 600\n"
       ]
      },
      {
       "output_type": "stream",
       "stream": "stderr",
       "text": [
        " 1h 11m 54s 93 discs. SAMPLE POINT 138 of 600\n"
       ]
      },
      {
       "output_type": "stream",
       "stream": "stderr",
       "text": [
        " 1h 12m 01s FRAG 44802: 10 versus 12\n"
       ]
      },
      {
       "output_type": "stream",
       "stream": "stderr",
       "text": [
        " 1h 12m 02s 94 discs. SAMPLE POINT 139 of 600\n"
       ]
      },
      {
       "output_type": "stream",
       "stream": "stderr",
       "text": [
        " 1h 12m 03s FRAG 45632: 10 versus 11\n"
       ]
      },
      {
       "output_type": "stream",
       "stream": "stderr",
       "text": [
        " 1h 12m 04s 95 discs. SAMPLE POINT 140 of 600\n"
       ]
      },
      {
       "output_type": "stream",
       "stream": "stderr",
       "text": [
        " 1h 12m 14s 95 discs. SAMPLE POINT 141 of 600\n"
       ]
      },
      {
       "output_type": "stream",
       "stream": "stderr",
       "text": [
        " 1h 12m 22s 95 discs. SAMPLE POINT 142 of 600\n"
       ]
      },
      {
       "output_type": "stream",
       "stream": "stderr",
       "text": [
        " 1h 12m 27s 95 discs. SAMPLE POINT 143 of 600\n"
       ]
      },
      {
       "output_type": "stream",
       "stream": "stderr",
       "text": [
        " 1h 12m 29s 95 discs. SAMPLE POINT 144 of 600\n"
       ]
      },
      {
       "output_type": "stream",
       "stream": "stderr",
       "text": [
        " 1h 12m 31s 95 discs. SAMPLE POINT 145 of 600\n"
       ]
      },
      {
       "output_type": "stream",
       "stream": "stderr",
       "text": [
        " 1h 12m 34s FRAG 47787: 9 versus 10\n"
       ]
      },
      {
       "output_type": "stream",
       "stream": "stderr",
       "text": [
        " 1h 12m 36s FRAG 47788: 9 versus 11\n"
       ]
      },
      {
       "output_type": "stream",
       "stream": "stderr",
       "text": [
        " 1h 12m 38s 97 discs. SAMPLE POINT 146 of 600\n"
       ]
      },
      {
       "output_type": "stream",
       "stream": "stderr",
       "text": [
        " 1h 12m 47s 97 discs. SAMPLE POINT 147 of 600\n"
       ]
      },
      {
       "output_type": "stream",
       "stream": "stderr",
       "text": [
        " 1h 12m 56s 97 discs. SAMPLE POINT 148 of 600\n"
       ]
      },
      {
       "output_type": "stream",
       "stream": "stderr",
       "text": [
        " 1h 13m 06s 97 discs. SAMPLE POINT 149 of 600\n"
       ]
      },
      {
       "output_type": "stream",
       "stream": "stderr",
       "text": [
        " 1h 13m 15s 97 discs. SAMPLE POINT 150 of 600\n"
       ]
      },
      {
       "output_type": "stream",
       "stream": "stderr",
       "text": [
        " 1h 13m 23s 97 discs. SAMPLE POINT 151 of 600\n"
       ]
      },
      {
       "output_type": "stream",
       "stream": "stderr",
       "text": [
        " 1h 13m 24s FRAG 49976: 9 versus 10\n"
       ]
      },
      {
       "output_type": "stream",
       "stream": "stderr",
       "text": [
        " 1h 13m 27s FRAG 49978: 9 versus 10\n"
       ]
      },
      {
       "output_type": "stream",
       "stream": "stderr",
       "text": [
        " 1h 13m 28s 99 discs. SAMPLE POINT 152 of 600\n"
       ]
      },
      {
       "output_type": "stream",
       "stream": "stderr",
       "text": [
        " 1h 13m 30s FRAG 50195: 9 versus 0\n"
       ]
      },
      {
       "output_type": "stream",
       "stream": "stderr",
       "text": [
        " 1h 13m 32s FRAG 50196: 9 versus 0\n"
       ]
      },
      {
       "output_type": "stream",
       "stream": "stderr",
       "text": [
        " 1h 13m 42s 101 discs. SAMPLE POINT 153 of 600\n"
       ]
      },
      {
       "output_type": "stream",
       "stream": "stderr",
       "text": [
        " 1h 13m 51s 101 discs. SAMPLE POINT 154 of 600\n"
       ]
      },
      {
       "output_type": "stream",
       "stream": "stderr",
       "text": [
        " 1h 14m 07s 101 discs. SAMPLE POINT 155 of 600\n"
       ]
      },
      {
       "output_type": "stream",
       "stream": "stderr",
       "text": [
        " 1h 14m 16s 101 discs. SAMPLE POINT 156 of 600\n"
       ]
      },
      {
       "output_type": "stream",
       "stream": "stderr",
       "text": [
        " 1h 14m 18s FRAG 51507: 9 versus 11\n"
       ]
      },
      {
       "output_type": "stream",
       "stream": "stderr",
       "text": [
        " 1h 14m 25s 102 discs. SAMPLE POINT 157 of 600\n"
       ]
      },
      {
       "output_type": "stream",
       "stream": "stderr",
       "text": [
        " 1h 14m 28s FRAG 51558: 9 versus 13\n"
       ]
      },
      {
       "output_type": "stream",
       "stream": "stderr",
       "text": [
        " 1h 14m 33s 103 discs. SAMPLE POINT 158 of 600\n"
       ]
      },
      {
       "output_type": "stream",
       "stream": "stderr",
       "text": [
        " 1h 14m 37s 103 discs. SAMPLE POINT 159 of 600\n"
       ]
      },
      {
       "output_type": "stream",
       "stream": "stderr",
       "text": [
        " 1h 14m 39s 103 discs. SAMPLE POINT 160 of 600\n"
       ]
      },
      {
       "output_type": "stream",
       "stream": "stderr",
       "text": [
        " 1h 14m 41s FRAG 53364: 8 versus 471\n"
       ]
      },
      {
       "output_type": "stream",
       "stream": "stderr",
       "text": [
        " 1h 14m 48s 104 discs. SAMPLE POINT 161 of 600\n"
       ]
      },
      {
       "output_type": "stream",
       "stream": "stderr",
       "text": [
        " 1h 14m 58s FRAG 53412: 8 versus 52\n"
       ]
      },
      {
       "output_type": "stream",
       "stream": "stderr",
       "text": [
        " 1h 14m 58s 105 discs. SAMPLE POINT 162 of 600\n"
       ]
      },
      {
       "output_type": "stream",
       "stream": "stderr",
       "text": [
        " 1h 15m 09s 105 discs. SAMPLE POINT 163 of 600\n"
       ]
      },
      {
       "output_type": "stream",
       "stream": "stderr",
       "text": [
        " 1h 15m 15s FRAG 53604: 8 versus 13\n"
       ]
      },
      {
       "output_type": "stream",
       "stream": "stderr",
       "text": [
        " 1h 15m 15s 106 discs. SAMPLE POINT 164 of 600\n"
       ]
      },
      {
       "output_type": "stream",
       "stream": "stderr",
       "text": [
        " 1h 15m 25s 106 discs. SAMPLE POINT 165 of 600\n"
       ]
      },
      {
       "output_type": "stream",
       "stream": "stderr",
       "text": [
        " 1h 15m 31s 106 discs. SAMPLE POINT 166 of 600\n"
       ]
      },
      {
       "output_type": "stream",
       "stream": "stderr",
       "text": [
        " 1h 15m 39s 106 discs. SAMPLE POINT 167 of 600\n"
       ]
      },
      {
       "output_type": "stream",
       "stream": "stderr",
       "text": [
        " 1h 15m 50s 106 discs. SAMPLE POINT 168 of 600\n"
       ]
      },
      {
       "output_type": "stream",
       "stream": "stderr",
       "text": [
        " 1h 16m 01s 106 discs. SAMPLE POINT 169 of 600\n"
       ]
      },
      {
       "output_type": "stream",
       "stream": "stderr",
       "text": [
        " 1h 16m 07s FRAG 55561: 8 versus 17\n"
       ]
      },
      {
       "output_type": "stream",
       "stream": "stderr",
       "text": [
        " 1h 16m 12s 107 discs. SAMPLE POINT 170 of 600\n"
       ]
      },
      {
       "output_type": "stream",
       "stream": "stderr",
       "text": [
        " 1h 16m 19s 107 discs. SAMPLE POINT 171 of 600\n"
       ]
      },
      {
       "output_type": "stream",
       "stream": "stderr",
       "text": [
        " 1h 16m 31s 107 discs. SAMPLE POINT 172 of 600\n"
       ]
      },
      {
       "output_type": "stream",
       "stream": "stderr",
       "text": [
        " 1h 16m 34s FRAG 56588: 8 versus 14\n"
       ]
      },
      {
       "output_type": "stream",
       "stream": "stderr",
       "text": [
        " 1h 16m 40s 108 discs. SAMPLE POINT 173 of 600\n"
       ]
      },
      {
       "output_type": "stream",
       "stream": "stderr",
       "text": [
        " 1h 16m 47s 108 discs. SAMPLE POINT 174 of 600\n"
       ]
      },
      {
       "output_type": "stream",
       "stream": "stderr",
       "text": [
        " 1h 16m 48s FRAG 57210: 8 versus 7\n"
       ]
      },
      {
       "output_type": "stream",
       "stream": "stderr",
       "text": [
        " 1h 16m 51s FRAG 57212: 8 versus 9\n"
       ]
      },
      {
       "output_type": "stream",
       "stream": "stderr",
       "text": [
        " 1h 16m 53s 110 discs. SAMPLE POINT 175 of 600\n"
       ]
      },
      {
       "output_type": "stream",
       "stream": "stderr",
       "text": [
        " 1h 16m 55s 110 discs. SAMPLE POINT 176 of 600\n"
       ]
      },
      {
       "output_type": "stream",
       "stream": "stderr",
       "text": [
        " 1h 16m 56s 110 discs. SAMPLE POINT 177 of 600\n"
       ]
      },
      {
       "output_type": "stream",
       "stream": "stderr",
       "text": [
        " 1h 17m 03s 110 discs. SAMPLE POINT 178 of 600\n"
       ]
      },
      {
       "output_type": "stream",
       "stream": "stderr",
       "text": [
        " 1h 17m 08s 110 discs. SAMPLE POINT 179 of 600\n"
       ]
      },
      {
       "output_type": "stream",
       "stream": "stderr",
       "text": [
        " 1h 17m 18s 110 discs. SAMPLE POINT 180 of 600\n"
       ]
      },
      {
       "output_type": "stream",
       "stream": "stderr",
       "text": [
        " 1h 17m 31s 110 discs. SAMPLE POINT 181 of 600\n"
       ]
      },
      {
       "output_type": "stream",
       "stream": "stderr",
       "text": [
        " 1h 17m 36s 110 discs. SAMPLE POINT 182 of 600\n"
       ]
      },
      {
       "output_type": "stream",
       "stream": "stderr",
       "text": [
        " 1h 17m 46s 110 discs. SAMPLE POINT 183 of 600\n"
       ]
      },
      {
       "output_type": "stream",
       "stream": "stderr",
       "text": [
        " 1h 17m 47s FRAG 60282: 7 versus 9\n"
       ]
      },
      {
       "output_type": "stream",
       "stream": "stderr",
       "text": [
        " 1h 17m 50s 111 discs. SAMPLE POINT 184 of 600\n"
       ]
      },
      {
       "output_type": "stream",
       "stream": "stderr",
       "text": [
        " 1h 18m 04s 111 discs. SAMPLE POINT 185 of 600\n"
       ]
      },
      {
       "output_type": "stream",
       "stream": "stderr",
       "text": [
        " 1h 18m 13s 111 discs. SAMPLE POINT 186 of 600\n"
       ]
      },
      {
       "output_type": "stream",
       "stream": "stderr",
       "text": [
        " 1h 18m 17s 111 discs. SAMPLE POINT 187 of 600\n"
       ]
      },
      {
       "output_type": "stream",
       "stream": "stderr",
       "text": [
        " 1h 18m 27s 111 discs. SAMPLE POINT 188 of 600\n"
       ]
      },
      {
       "output_type": "stream",
       "stream": "stderr",
       "text": [
        " 1h 18m 39s 111 discs. SAMPLE POINT 189 of 600\n"
       ]
      },
      {
       "output_type": "stream",
       "stream": "stderr",
       "text": [
        " 1h 18m 53s 111 discs. SAMPLE POINT 190 of 600\n"
       ]
      },
      {
       "output_type": "stream",
       "stream": "stderr",
       "text": [
        " 1h 19m 05s 111 discs. SAMPLE POINT 191 of 600\n"
       ]
      },
      {
       "output_type": "stream",
       "stream": "stderr",
       "text": [
        " 1h 19m 16s 111 discs. SAMPLE POINT 192 of 600\n"
       ]
      },
      {
       "output_type": "stream",
       "stream": "stderr",
       "text": [
        " 1h 19m 24s 111 discs. SAMPLE POINT 193 of 600\n"
       ]
      },
      {
       "output_type": "stream",
       "stream": "stderr",
       "text": [
        " 1h 19m 32s 111 discs. SAMPLE POINT 194 of 600\n"
       ]
      },
      {
       "output_type": "stream",
       "stream": "stderr",
       "text": [
        " 1h 19m 40s 111 discs. SAMPLE POINT 195 of 600\n"
       ]
      },
      {
       "output_type": "stream",
       "stream": "stderr",
       "text": [
        " 1h 19m 48s 111 discs. SAMPLE POINT 196 of 600\n"
       ]
      },
      {
       "output_type": "stream",
       "stream": "stderr",
       "text": [
        " 1h 19m 50s FRAG 64536: 7 versus 2132\n"
       ]
      },
      {
       "output_type": "stream",
       "stream": "stderr",
       "text": [
        " 1h 19m 53s 112 discs. SAMPLE POINT 197 of 600\n"
       ]
      },
      {
       "output_type": "stream",
       "stream": "stderr",
       "text": [
        " 1h 19m 55s 112 discs. SAMPLE POINT 198 of 600\n"
       ]
      },
      {
       "output_type": "stream",
       "stream": "stderr",
       "text": [
        " 1h 19m 57s 112 discs. SAMPLE POINT 199 of 600\n"
       ]
      },
      {
       "output_type": "stream",
       "stream": "stderr",
       "text": [
        " 1h 20m 04s 112 discs. SAMPLE POINT 200 of 600\n"
       ]
      },
      {
       "output_type": "stream",
       "stream": "stderr",
       "text": [
        " 1h 20m 05s FRAG 65616: 6 versus 7\n"
       ]
      },
      {
       "output_type": "stream",
       "stream": "stderr",
       "text": [
        " 1h 20m 08s 113 discs. SAMPLE POINT 201 of 600\n"
       ]
      },
      {
       "output_type": "stream",
       "stream": "stderr",
       "text": [
        " 1h 20m 17s 113 discs. SAMPLE POINT 202 of 600\n"
       ]
      },
      {
       "output_type": "stream",
       "stream": "stderr",
       "text": [
        " 1h 20m 28s 113 discs. SAMPLE POINT 203 of 600\n"
       ]
      },
      {
       "output_type": "stream",
       "stream": "stderr",
       "text": [
        " 1h 20m 38s 113 discs. SAMPLE POINT 204 of 600\n"
       ]
      },
      {
       "output_type": "stream",
       "stream": "stderr",
       "text": [
        " 1h 20m 47s 113 discs. SAMPLE POINT 205 of 600\n"
       ]
      },
      {
       "output_type": "stream",
       "stream": "stderr",
       "text": [
        " 1h 20m 52s 113 discs. SAMPLE POINT 206 of 600\n"
       ]
      },
      {
       "output_type": "stream",
       "stream": "stderr",
       "text": [
        " 1h 20m 58s 113 discs. SAMPLE POINT 207 of 600\n"
       ]
      },
      {
       "output_type": "stream",
       "stream": "stderr",
       "text": [
        " 1h 21m 00s 113 discs. SAMPLE POINT 208 of 600\n"
       ]
      },
      {
       "output_type": "stream",
       "stream": "stderr",
       "text": [
        " 1h 21m 02s 113 discs. SAMPLE POINT 209 of 600\n"
       ]
      },
      {
       "output_type": "stream",
       "stream": "stderr",
       "text": [
        " 1h 21m 07s 113 discs. SAMPLE POINT 210 of 600\n"
       ]
      },
      {
       "output_type": "stream",
       "stream": "stderr",
       "text": [
        " 1h 21m 11s 113 discs. SAMPLE POINT 211 of 600\n"
       ]
      },
      {
       "output_type": "stream",
       "stream": "stderr",
       "text": [
        " 1h 21m 20s 113 discs. SAMPLE POINT 212 of 600\n"
       ]
      },
      {
       "output_type": "stream",
       "stream": "stderr",
       "text": [
        " 1h 21m 30s 113 discs. SAMPLE POINT 213 of 600\n"
       ]
      },
      {
       "output_type": "stream",
       "stream": "stderr",
       "text": [
        " 1h 21m 32s FRAG 70230: 6 versus 0\n"
       ]
      },
      {
       "output_type": "stream",
       "stream": "stderr",
       "text": [
        " 1h 21m 42s 114 discs. SAMPLE POINT 214 of 600\n"
       ]
      },
      {
       "output_type": "stream",
       "stream": "stderr",
       "text": [
        " 1h 21m 56s 114 discs. SAMPLE POINT 215 of 600\n"
       ]
      },
      {
       "output_type": "stream",
       "stream": "stderr",
       "text": [
        " 1h 22m 08s 114 discs. SAMPLE POINT 216 of 600\n"
       ]
      },
      {
       "output_type": "stream",
       "stream": "stderr",
       "text": [
        " 1h 22m 19s 114 discs. SAMPLE POINT 217 of 600\n"
       ]
      },
      {
       "output_type": "stream",
       "stream": "stderr",
       "text": [
        " 1h 22m 25s 114 discs. SAMPLE POINT 218 of 600\n"
       ]
      },
      {
       "output_type": "stream",
       "stream": "stderr",
       "text": [
        " 1h 22m 33s FRAG 72257: 6 versus 7\n"
       ]
      },
      {
       "output_type": "stream",
       "stream": "stderr",
       "text": [
        " 1h 22m 33s 115 discs. SAMPLE POINT 219 of 600\n"
       ]
      },
      {
       "output_type": "stream",
       "stream": "stderr",
       "text": [
        " 1h 22m 43s 115 discs. SAMPLE POINT 220 of 600\n"
       ]
      },
      {
       "output_type": "stream",
       "stream": "stderr",
       "text": [
        " 1h 22m 48s 115 discs. SAMPLE POINT 221 of 600\n"
       ]
      },
      {
       "output_type": "stream",
       "stream": "stderr",
       "text": [
        " 1h 22m 55s 115 discs. SAMPLE POINT 222 of 600\n"
       ]
      },
      {
       "output_type": "stream",
       "stream": "stderr",
       "text": [
        " 1h 23m 04s 115 discs. SAMPLE POINT 223 of 600\n"
       ]
      },
      {
       "output_type": "stream",
       "stream": "stderr",
       "text": [
        " 1h 23m 11s 115 discs. SAMPLE POINT 224 of 600\n"
       ]
      },
      {
       "output_type": "stream",
       "stream": "stderr",
       "text": [
        " 1h 23m 16s FRAG 73635: 6 versus 14\n"
       ]
      },
      {
       "output_type": "stream",
       "stream": "stderr",
       "text": [
        " 1h 23m 18s FRAG 73636: 6 versus 11\n"
       ]
      },
      {
       "output_type": "stream",
       "stream": "stderr",
       "text": [
        " 1h 23m 18s 117 discs. SAMPLE POINT 225 of 600\n"
       ]
      },
      {
       "output_type": "stream",
       "stream": "stderr",
       "text": [
        " 1h 23m 20s 117 discs. SAMPLE POINT 226 of 600\n"
       ]
      },
      {
       "output_type": "stream",
       "stream": "stderr",
       "text": [
        " 1h 23m 21s 117 discs. SAMPLE POINT 227 of 600\n"
       ]
      },
      {
       "output_type": "stream",
       "stream": "stderr",
       "text": [
        " 1h 23m 23s 117 discs. SAMPLE POINT 228 of 600\n"
       ]
      },
      {
       "output_type": "stream",
       "stream": "stderr",
       "text": [
        " 1h 23m 25s 117 discs. SAMPLE POINT 229 of 600\n"
       ]
      },
      {
       "output_type": "stream",
       "stream": "stderr",
       "text": [
        " 1h 23m 33s 117 discs. SAMPLE POINT 230 of 600\n"
       ]
      },
      {
       "output_type": "stream",
       "stream": "stderr",
       "text": [
        " 1h 23m 40s 117 discs. SAMPLE POINT 231 of 600\n"
       ]
      },
      {
       "output_type": "stream",
       "stream": "stderr",
       "text": [
        " 1h 23m 50s 117 discs. SAMPLE POINT 232 of 600\n"
       ]
      },
      {
       "output_type": "stream",
       "stream": "stderr",
       "text": [
        " 1h 24m 01s 117 discs. SAMPLE POINT 233 of 600\n"
       ]
      },
      {
       "output_type": "stream",
       "stream": "stderr",
       "text": [
        " 1h 24m 08s 117 discs. SAMPLE POINT 234 of 600\n"
       ]
      },
      {
       "output_type": "stream",
       "stream": "stderr",
       "text": [
        " 1h 24m 17s 117 discs. SAMPLE POINT 235 of 600\n"
       ]
      },
      {
       "output_type": "stream",
       "stream": "stderr",
       "text": [
        " 1h 24m 19s FRAG 77521: 5 versus 30\n"
       ]
      },
      {
       "output_type": "stream",
       "stream": "stderr",
       "text": [
        " 1h 24m 23s 118 discs. SAMPLE POINT 236 of 600\n"
       ]
      },
      {
       "output_type": "stream",
       "stream": "stderr",
       "text": [
        " 1h 24m 29s 118 discs. SAMPLE POINT 237 of 600\n"
       ]
      },
      {
       "output_type": "stream",
       "stream": "stderr",
       "text": [
        " 1h 24m 34s 118 discs. SAMPLE POINT 238 of 600\n"
       ]
      },
      {
       "output_type": "stream",
       "stream": "stderr",
       "text": [
        " 1h 24m 38s FRAG 78588: 5 versus 137\n"
       ]
      },
      {
       "output_type": "stream",
       "stream": "stderr",
       "text": [
        " 1h 24m 40s 119 discs. SAMPLE POINT 239 of 600\n"
       ]
      },
      {
       "output_type": "stream",
       "stream": "stderr",
       "text": [
        " 1h 24m 41s FRAG 78721: 5 versus 7\n"
       ]
      },
      {
       "output_type": "stream",
       "stream": "stderr",
       "text": [
        " 1h 24m 46s 120 discs. SAMPLE POINT 240 of 600\n"
       ]
      },
      {
       "output_type": "stream",
       "stream": "stderr",
       "text": [
        " 1h 24m 51s FRAG 79039: 5 versus 7\n"
       ]
      },
      {
       "output_type": "stream",
       "stream": "stderr",
       "text": [
        " 1h 24m 56s 121 discs. SAMPLE POINT 241 of 600\n"
       ]
      },
      {
       "output_type": "stream",
       "stream": "stderr",
       "text": [
        " 1h 25m 01s FRAG 79688: 5 versus 6\n"
       ]
      },
      {
       "output_type": "stream",
       "stream": "stderr",
       "text": [
        " 1h 25m 03s FRAG 79689: 5 versus 7\n"
       ]
      },
      {
       "output_type": "stream",
       "stream": "stderr",
       "text": [
        " 1h 25m 03s 123 discs. SAMPLE POINT 242 of 600\n"
       ]
      },
      {
       "output_type": "stream",
       "stream": "stderr",
       "text": [
        " 1h 25m 05s FRAG 80118: 5 versus 6\n"
       ]
      },
      {
       "output_type": "stream",
       "stream": "stderr",
       "text": [
        " 1h 25m 08s 124 discs. SAMPLE POINT 243 of 600\n"
       ]
      },
      {
       "output_type": "stream",
       "stream": "stderr",
       "text": [
        " 1h 25m 13s 124 discs. SAMPLE POINT 244 of 600\n"
       ]
      },
      {
       "output_type": "stream",
       "stream": "stderr",
       "text": [
        " 1h 25m 16s FRAG 80292: 5 versus 6\n"
       ]
      },
      {
       "output_type": "stream",
       "stream": "stderr",
       "text": [
        " 1h 25m 18s FRAG 80293: 5 versus 43\n"
       ]
      },
      {
       "output_type": "stream",
       "stream": "stderr",
       "text": [
        " 1h 25m 20s FRAG 80294: 5 versus 148\n"
       ]
      },
      {
       "output_type": "stream",
       "stream": "stderr",
       "text": [
        " 1h 25m 20s 127 discs. SAMPLE POINT 245 of 600\n"
       ]
      },
      {
       "output_type": "stream",
       "stream": "stderr",
       "text": [
        " 1h 25m 25s 127 discs. SAMPLE POINT 246 of 600\n"
       ]
      },
      {
       "output_type": "stream",
       "stream": "stderr",
       "text": [
        " 1h 25m 34s 127 discs. SAMPLE POINT 247 of 600\n"
       ]
      },
      {
       "output_type": "stream",
       "stream": "stderr",
       "text": [
        " 1h 25m 43s 127 discs. SAMPLE POINT 248 of 600\n"
       ]
      },
      {
       "output_type": "stream",
       "stream": "stderr",
       "text": [
        " 1h 25m 53s 127 discs. SAMPLE POINT 249 of 600\n"
       ]
      },
      {
       "output_type": "stream",
       "stream": "stderr",
       "text": [
        " 1h 26m 03s 127 discs. SAMPLE POINT 250 of 600\n"
       ]
      },
      {
       "output_type": "stream",
       "stream": "stderr",
       "text": [
        " 1h 26m 16s 127 discs. SAMPLE POINT 251 of 600\n"
       ]
      },
      {
       "output_type": "stream",
       "stream": "stderr",
       "text": [
        " 1h 26m 26s 127 discs. SAMPLE POINT 252 of 600\n"
       ]
      },
      {
       "output_type": "stream",
       "stream": "stderr",
       "text": [
        " 1h 26m 39s 127 discs. SAMPLE POINT 253 of 600\n"
       ]
      },
      {
       "output_type": "stream",
       "stream": "stderr",
       "text": [
        " 1h 26m 50s FRAG 83323: 5 versus 4\n"
       ]
      },
      {
       "output_type": "stream",
       "stream": "stderr",
       "text": [
        " 1h 26m 50s 128 discs. SAMPLE POINT 254 of 600\n"
       ]
      },
      {
       "output_type": "stream",
       "stream": "stderr",
       "text": [
        " 1h 27m 01s 128 discs. SAMPLE POINT 255 of 600\n"
       ]
      },
      {
       "output_type": "stream",
       "stream": "stderr",
       "text": [
        " 1h 27m 08s FRAG 83547: 5 versus 6\n"
       ]
      },
      {
       "output_type": "stream",
       "stream": "stderr",
       "text": [
        " 1h 27m 13s 129 discs. SAMPLE POINT 256 of 600\n"
       ]
      },
      {
       "output_type": "stream",
       "stream": "stderr",
       "text": [
        " 1h 27m 23s 129 discs. SAMPLE POINT 257 of 600\n"
       ]
      },
      {
       "output_type": "stream",
       "stream": "stderr",
       "text": [
        " 1h 27m 25s FRAG 84812: 5 versus 7\n"
       ]
      },
      {
       "output_type": "stream",
       "stream": "stderr",
       "text": [
        " 1h 27m 29s FRAG 84814: 5 versus 6\n"
       ]
      },
      {
       "output_type": "stream",
       "stream": "stderr",
       "text": [
        " 1h 27m 31s 131 discs. SAMPLE POINT 258 of 600\n"
       ]
      },
      {
       "output_type": "stream",
       "stream": "stderr",
       "text": [
        " 1h 27m 40s FRAG 85018: 5 versus 7\n"
       ]
      },
      {
       "output_type": "stream",
       "stream": "stderr",
       "text": [
        " 1h 27m 40s 132 discs. SAMPLE POINT 259 of 600\n"
       ]
      },
      {
       "output_type": "stream",
       "stream": "stderr",
       "text": [
        " 1h 27m 48s 132 discs. SAMPLE POINT 260 of 600\n"
       ]
      },
      {
       "output_type": "stream",
       "stream": "stderr",
       "text": [
        " 1h 27m 54s 132 discs. SAMPLE POINT 261 of 600\n"
       ]
      },
      {
       "output_type": "stream",
       "stream": "stderr",
       "text": [
        " 1h 28m 00s 132 discs. SAMPLE POINT 262 of 600\n"
       ]
      },
      {
       "output_type": "stream",
       "stream": "stderr",
       "text": [
        " 1h 28m 03s FRAG 86229: 5 versus 6\n"
       ]
      },
      {
       "output_type": "stream",
       "stream": "stderr",
       "text": [
        " 1h 28m 07s 133 discs. SAMPLE POINT 263 of 600\n"
       ]
      },
      {
       "output_type": "stream",
       "stream": "stderr",
       "text": [
        " 1h 28m 11s 133 discs. SAMPLE POINT 264 of 600\n"
       ]
      },
      {
       "output_type": "stream",
       "stream": "stderr",
       "text": [
        " 1h 28m 16s 133 discs. SAMPLE POINT 265 of 600\n"
       ]
      },
      {
       "output_type": "stream",
       "stream": "stderr",
       "text": [
        " 1h 28m 17s 133 discs. SAMPLE POINT 266 of 600\n"
       ]
      },
      {
       "output_type": "stream",
       "stream": "stderr",
       "text": [
        " 1h 28m 21s 133 discs. SAMPLE POINT 267 of 600\n"
       ]
      },
      {
       "output_type": "stream",
       "stream": "stderr",
       "text": [
        " 1h 28m 26s 133 discs. SAMPLE POINT 268 of 600\n"
       ]
      },
      {
       "output_type": "stream",
       "stream": "stderr",
       "text": [
        " 1h 28m 33s 133 discs. SAMPLE POINT 269 of 600\n"
       ]
      },
      {
       "output_type": "stream",
       "stream": "stderr",
       "text": [
        " 1h 28m 44s 133 discs. SAMPLE POINT 270 of 600\n"
       ]
      },
      {
       "output_type": "stream",
       "stream": "stderr",
       "text": [
        " 1h 28m 54s 133 discs. SAMPLE POINT 271 of 600\n"
       ]
      },
      {
       "output_type": "stream",
       "stream": "stderr",
       "text": [
        " 1h 29m 05s 133 discs. SAMPLE POINT 272 of 600\n"
       ]
      },
      {
       "output_type": "stream",
       "stream": "stderr",
       "text": [
        " 1h 29m 16s 133 discs. SAMPLE POINT 273 of 600\n"
       ]
      },
      {
       "output_type": "stream",
       "stream": "stderr",
       "text": [
        " 1h 29m 26s 133 discs. SAMPLE POINT 274 of 600\n"
       ]
      },
      {
       "output_type": "stream",
       "stream": "stderr",
       "text": [
        " 1h 29m 36s 133 discs. SAMPLE POINT 275 of 600\n"
       ]
      },
      {
       "output_type": "stream",
       "stream": "stderr",
       "text": [
        " 1h 29m 46s 133 discs. SAMPLE POINT 276 of 600\n"
       ]
      },
      {
       "output_type": "stream",
       "stream": "stderr",
       "text": [
        " 1h 29m 55s FRAG 90626: 4 versus 21\n"
       ]
      },
      {
       "output_type": "stream",
       "stream": "stderr",
       "text": [
        " 1h 29m 58s 134 discs. SAMPLE POINT 277 of 600\n"
       ]
      },
      {
       "output_type": "stream",
       "stream": "stderr",
       "text": [
        " 1h 30m 06s 134 discs. SAMPLE POINT 278 of 600\n"
       ]
      },
      {
       "output_type": "stream",
       "stream": "stderr",
       "text": [
        " 1h 30m 13s 134 discs. SAMPLE POINT 279 of 600\n"
       ]
      },
      {
       "output_type": "stream",
       "stream": "stderr",
       "text": [
        " 1h 30m 18s 134 discs. SAMPLE POINT 280 of 600\n"
       ]
      },
      {
       "output_type": "stream",
       "stream": "stderr",
       "text": [
        " 1h 30m 20s FRAG 92178: 4 versus 107\n"
       ]
      },
      {
       "output_type": "stream",
       "stream": "stderr",
       "text": [
        " 1h 30m 25s 135 discs. SAMPLE POINT 281 of 600\n"
       ]
      },
      {
       "output_type": "stream",
       "stream": "stderr",
       "text": [
        " 1h 30m 27s 135 discs. SAMPLE POINT 282 of 600\n"
       ]
      },
      {
       "output_type": "stream",
       "stream": "stderr",
       "text": [
        " 1h 30m 32s FRAG 93154: 4 versus 7\n"
       ]
      },
      {
       "output_type": "stream",
       "stream": "stderr",
       "text": [
        " 1h 30m 34s FRAG 93155: 4 versus 31\n"
       ]
      },
      {
       "output_type": "stream",
       "stream": "stderr",
       "text": [
        " 1h 30m 34s 137 discs. SAMPLE POINT 283 of 600\n"
       ]
      },
      {
       "output_type": "stream",
       "stream": "stderr",
       "text": [
        " 1h 30m 36s 137 discs. SAMPLE POINT 284 of 600\n"
       ]
      },
      {
       "output_type": "stream",
       "stream": "stderr",
       "text": [
        " 1h 30m 40s 137 discs. SAMPLE POINT 285 of 600\n"
       ]
      },
      {
       "output_type": "stream",
       "stream": "stderr",
       "text": [
        " 1h 30m 47s 137 discs. SAMPLE POINT 286 of 600\n"
       ]
      },
      {
       "output_type": "stream",
       "stream": "stderr",
       "text": [
        " 1h 30m 55s 137 discs. SAMPLE POINT 287 of 600\n"
       ]
      },
      {
       "output_type": "stream",
       "stream": "stderr",
       "text": [
        " 1h 31m 02s 137 discs. SAMPLE POINT 288 of 600\n"
       ]
      },
      {
       "output_type": "stream",
       "stream": "stderr",
       "text": [
        " 1h 31m 08s 137 discs. SAMPLE POINT 289 of 600\n"
       ]
      },
      {
       "output_type": "stream",
       "stream": "stderr",
       "text": [
        " 1h 31m 12s 137 discs. SAMPLE POINT 290 of 600\n"
       ]
      },
      {
       "output_type": "stream",
       "stream": "stderr",
       "text": [
        " 1h 31m 16s 137 discs. SAMPLE POINT 291 of 600\n"
       ]
      },
      {
       "output_type": "stream",
       "stream": "stderr",
       "text": [
        " 1h 31m 20s 137 discs. SAMPLE POINT 292 of 600\n"
       ]
      },
      {
       "output_type": "stream",
       "stream": "stderr",
       "text": [
        " 1h 31m 21s 137 discs. SAMPLE POINT 293 of 600\n"
       ]
      },
      {
       "output_type": "stream",
       "stream": "stderr",
       "text": [
        " 1h 31m 28s 137 discs. SAMPLE POINT 294 of 600\n"
       ]
      },
      {
       "output_type": "stream",
       "stream": "stderr",
       "text": [
        " 1h 31m 38s 137 discs. SAMPLE POINT 295 of 600\n"
       ]
      },
      {
       "output_type": "stream",
       "stream": "stderr",
       "text": [
        " 1h 31m 48s 137 discs. SAMPLE POINT 296 of 600\n"
       ]
      },
      {
       "output_type": "stream",
       "stream": "stderr",
       "text": [
        " 1h 31m 57s 137 discs. SAMPLE POINT 297 of 600\n"
       ]
      },
      {
       "output_type": "stream",
       "stream": "stderr",
       "text": [
        " 1h 32m 08s 137 discs. SAMPLE POINT 298 of 600\n"
       ]
      },
      {
       "output_type": "stream",
       "stream": "stderr",
       "text": [
        " 1h 32m 20s 137 discs. SAMPLE POINT 299 of 600\n"
       ]
      },
      {
       "output_type": "stream",
       "stream": "stderr",
       "text": [
        " 1h 32m 30s 137 discs. SAMPLE POINT 300 of 600\n"
       ]
      },
      {
       "output_type": "stream",
       "stream": "stderr",
       "text": [
        " 1h 32m 42s 137 discs. SAMPLE POINT 301 of 600\n"
       ]
      },
      {
       "output_type": "stream",
       "stream": "stderr",
       "text": [
        " 1h 32m 54s 137 discs. SAMPLE POINT 302 of 600\n"
       ]
      },
      {
       "output_type": "stream",
       "stream": "stderr",
       "text": [
        " 1h 33m 08s 137 discs. SAMPLE POINT 303 of 600\n"
       ]
      },
      {
       "output_type": "stream",
       "stream": "stderr",
       "text": [
        " 1h 33m 22s 137 discs. SAMPLE POINT 304 of 600\n"
       ]
      },
      {
       "output_type": "stream",
       "stream": "stderr",
       "text": [
        " 1h 33m 29s FRAG 100498: 4 versus 12\n"
       ]
      },
      {
       "output_type": "stream",
       "stream": "stderr",
       "text": [
        " 1h 33m 36s 138 discs. SAMPLE POINT 305 of 600\n"
       ]
      },
      {
       "output_type": "stream",
       "stream": "stderr",
       "text": [
        " 1h 33m 50s 138 discs. SAMPLE POINT 306 of 600\n"
       ]
      },
      {
       "output_type": "stream",
       "stream": "stderr",
       "text": [
        " 1h 33m 57s 138 discs. SAMPLE POINT 307 of 600\n"
       ]
      },
      {
       "output_type": "stream",
       "stream": "stderr",
       "text": [
        " 1h 34m 06s FRAG 101106: 4 versus 17\n"
       ]
      },
      {
       "output_type": "stream",
       "stream": "stderr",
       "text": [
        " 1h 34m 06s 139 discs. SAMPLE POINT 308 of 600\n"
       ]
      },
      {
       "output_type": "stream",
       "stream": "stderr",
       "text": [
        " 1h 34m 15s 139 discs. SAMPLE POINT 309 of 600\n"
       ]
      },
      {
       "output_type": "stream",
       "stream": "stderr",
       "text": [
        " 1h 34m 27s 139 discs. SAMPLE POINT 310 of 600\n"
       ]
      },
      {
       "output_type": "stream",
       "stream": "stderr",
       "text": [
        " 1h 34m 32s 139 discs. SAMPLE POINT 311 of 600\n"
       ]
      },
      {
       "output_type": "stream",
       "stream": "stderr",
       "text": [
        " 1h 34m 41s 139 discs. SAMPLE POINT 312 of 600\n"
       ]
      },
      {
       "output_type": "stream",
       "stream": "stderr",
       "text": [
        " 1h 34m 49s 139 discs. SAMPLE POINT 313 of 600\n"
       ]
      },
      {
       "output_type": "stream",
       "stream": "stderr",
       "text": [
        " 1h 34m 58s 139 discs. SAMPLE POINT 314 of 600\n"
       ]
      },
      {
       "output_type": "stream",
       "stream": "stderr",
       "text": [
        " 1h 35m 07s 139 discs. SAMPLE POINT 315 of 600\n"
       ]
      },
      {
       "output_type": "stream",
       "stream": "stderr",
       "text": [
        " 1h 35m 14s FRAG 103986: 4 versus 3\n"
       ]
      },
      {
       "output_type": "stream",
       "stream": "stderr",
       "text": [
        " 1h 35m 14s 140 discs. SAMPLE POINT 316 of 600\n"
       ]
      },
      {
       "output_type": "stream",
       "stream": "stderr",
       "text": [
        " 1h 35m 28s FRAG 104564: 4 versus 5\n"
       ]
      },
      {
       "output_type": "stream",
       "stream": "stderr",
       "text": [
        " 1h 35m 32s 141 discs. SAMPLE POINT 317 of 600\n"
       ]
      },
      {
       "output_type": "stream",
       "stream": "stderr",
       "text": [
        " 1h 35m 39s 141 discs. SAMPLE POINT 318 of 600\n"
       ]
      },
      {
       "output_type": "stream",
       "stream": "stderr",
       "text": [
        " 1h 35m 43s 141 discs. SAMPLE POINT 319 of 600\n"
       ]
      },
      {
       "output_type": "stream",
       "stream": "stderr",
       "text": [
        " 1h 35m 45s 141 discs. SAMPLE POINT 320 of 600\n"
       ]
      },
      {
       "output_type": "stream",
       "stream": "stderr",
       "text": [
        " 1h 35m 47s 141 discs. SAMPLE POINT 321 of 600\n"
       ]
      },
      {
       "output_type": "stream",
       "stream": "stderr",
       "text": [
        " 1h 35m 50s 141 discs. SAMPLE POINT 322 of 600\n"
       ]
      },
      {
       "output_type": "stream",
       "stream": "stderr",
       "text": [
        " 1h 35m 52s 141 discs. SAMPLE POINT 323 of 600\n"
       ]
      },
      {
       "output_type": "stream",
       "stream": "stderr",
       "text": [
        " 1h 35m 55s 141 discs. SAMPLE POINT 324 of 600\n"
       ]
      },
      {
       "output_type": "stream",
       "stream": "stderr",
       "text": [
        " 1h 35m 55s FRAG 106608: 4 versus 3\n"
       ]
      },
      {
       "output_type": "stream",
       "stream": "stderr",
       "text": [
        " 1h 35m 56s 142 discs. SAMPLE POINT 325 of 600\n"
       ]
      },
      {
       "output_type": "stream",
       "stream": "stderr",
       "text": [
        " 1h 36m 01s 142 discs. SAMPLE POINT 326 of 600\n"
       ]
      },
      {
       "output_type": "stream",
       "stream": "stderr",
       "text": [
        " 1h 36m 08s 142 discs. SAMPLE POINT 327 of 600\n"
       ]
      },
      {
       "output_type": "stream",
       "stream": "stderr",
       "text": [
        " 1h 36m 16s 142 discs. SAMPLE POINT 328 of 600\n"
       ]
      },
      {
       "output_type": "stream",
       "stream": "stderr",
       "text": [
        " 1h 36m 23s 142 discs. SAMPLE POINT 329 of 600\n"
       ]
      },
      {
       "output_type": "stream",
       "stream": "stderr",
       "text": [
        " 1h 36m 28s 142 discs. SAMPLE POINT 330 of 600\n"
       ]
      },
      {
       "output_type": "stream",
       "stream": "stderr",
       "text": [
        " 1h 36m 34s 142 discs. SAMPLE POINT 331 of 600\n"
       ]
      },
      {
       "output_type": "stream",
       "stream": "stderr",
       "text": [
        " 1h 36m 44s 142 discs. SAMPLE POINT 332 of 600\n"
       ]
      },
      {
       "output_type": "stream",
       "stream": "stderr",
       "text": [
        " 1h 36m 54s 142 discs. SAMPLE POINT 333 of 600\n"
       ]
      },
      {
       "output_type": "stream",
       "stream": "stderr",
       "text": [
        " 1h 37m 03s 142 discs. SAMPLE POINT 334 of 600\n"
       ]
      },
      {
       "output_type": "stream",
       "stream": "stderr",
       "text": [
        " 1h 37m 06s FRAG 110426: 3 versus 1\n"
       ]
      },
      {
       "output_type": "stream",
       "stream": "stderr",
       "text": [
        " 1h 37m 13s FRAG 110428: 3 versus 10\n"
       ]
      },
      {
       "output_type": "stream",
       "stream": "stderr",
       "text": [
        " 1h 37m 16s 144 discs. SAMPLE POINT 335 of 600\n"
       ]
      },
      {
       "output_type": "stream",
       "stream": "stderr",
       "text": [
        " 1h 37m 27s 144 discs. SAMPLE POINT 336 of 600\n"
       ]
      },
      {
       "output_type": "stream",
       "stream": "stderr",
       "text": [
        " 1h 37m 37s 144 discs. SAMPLE POINT 337 of 600\n"
       ]
      },
      {
       "output_type": "stream",
       "stream": "stderr",
       "text": [
        " 1h 37m 43s FRAG 111089: 3 versus 4\n"
       ]
      },
      {
       "output_type": "stream",
       "stream": "stderr",
       "text": [
        " 1h 37m 49s 145 discs. SAMPLE POINT 338 of 600\n"
       ]
      },
      {
       "output_type": "stream",
       "stream": "stderr",
       "text": [
        " 1h 37m 56s 145 discs. SAMPLE POINT 339 of 600\n"
       ]
      },
      {
       "output_type": "stream",
       "stream": "stderr",
       "text": [
        " 1h 38m 10s 145 discs. SAMPLE POINT 340 of 600\n"
       ]
      },
      {
       "output_type": "stream",
       "stream": "stderr",
       "text": [
        " 1h 38m 18s FRAG 112201: 3 versus 5285\n"
       ]
      },
      {
       "output_type": "stream",
       "stream": "stderr",
       "text": [
        " 1h 38m 19s 146 discs. SAMPLE POINT 341 of 600\n"
       ]
      },
      {
       "output_type": "stream",
       "stream": "stderr",
       "text": [
        " 1h 38m 21s FRAG 112860: 3 versus 133\n"
       ]
      },
      {
       "output_type": "stream",
       "stream": "stderr",
       "text": [
        " 1h 38m 24s 147 discs. SAMPLE POINT 342 of 600\n"
       ]
      },
      {
       "output_type": "stream",
       "stream": "stderr",
       "text": [
        " 1h 38m 33s 147 discs. SAMPLE POINT 343 of 600\n"
       ]
      },
      {
       "output_type": "stream",
       "stream": "stderr",
       "text": [
        " 1h 38m 39s 147 discs. SAMPLE POINT 344 of 600\n"
       ]
      },
      {
       "output_type": "stream",
       "stream": "stderr",
       "text": [
        " 1h 38m 46s 147 discs. SAMPLE POINT 345 of 600\n"
       ]
      },
      {
       "output_type": "stream",
       "stream": "stderr",
       "text": [
        " 1h 38m 54s 147 discs. SAMPLE POINT 346 of 600\n"
       ]
      },
      {
       "output_type": "stream",
       "stream": "stderr",
       "text": [
        " 1h 38m 58s 147 discs. SAMPLE POINT 347 of 600\n"
       ]
      },
      {
       "output_type": "stream",
       "stream": "stderr",
       "text": [
        " 1h 39m 02s 147 discs. SAMPLE POINT 348 of 600\n"
       ]
      },
      {
       "output_type": "stream",
       "stream": "stderr",
       "text": [
        " 1h 39m 06s 147 discs. SAMPLE POINT 349 of 600\n"
       ]
      },
      {
       "output_type": "stream",
       "stream": "stderr",
       "text": [
        " 1h 39m 09s 147 discs. SAMPLE POINT 350 of 600\n"
       ]
      },
      {
       "output_type": "stream",
       "stream": "stderr",
       "text": [
        " 1h 39m 15s 147 discs. SAMPLE POINT 351 of 600\n"
       ]
      },
      {
       "output_type": "stream",
       "stream": "stderr",
       "text": [
        " 1h 39m 23s 147 discs. SAMPLE POINT 352 of 600\n"
       ]
      },
      {
       "output_type": "stream",
       "stream": "stderr",
       "text": [
        " 1h 39m 39s 147 discs. SAMPLE POINT 353 of 600\n"
       ]
      },
      {
       "output_type": "stream",
       "stream": "stderr",
       "text": [
        " 1h 39m 48s 147 discs. SAMPLE POINT 354 of 600\n"
       ]
      },
      {
       "output_type": "stream",
       "stream": "stderr",
       "text": [
        " 1h 39m 53s 147 discs. SAMPLE POINT 355 of 600\n"
       ]
      },
      {
       "output_type": "stream",
       "stream": "stderr",
       "text": [
        " 1h 39m 59s 147 discs. SAMPLE POINT 356 of 600\n"
       ]
      },
      {
       "output_type": "stream",
       "stream": "stderr",
       "text": [
        " 1h 40m 05s 147 discs. SAMPLE POINT 357 of 600\n"
       ]
      },
      {
       "output_type": "stream",
       "stream": "stderr",
       "text": [
        " 1h 40m 11s 147 discs. SAMPLE POINT 358 of 600\n"
       ]
      },
      {
       "output_type": "stream",
       "stream": "stderr",
       "text": [
        " 1h 40m 17s FRAG 118249: 3 versus 4\n"
       ]
      },
      {
       "output_type": "stream",
       "stream": "stderr",
       "text": [
        " 1h 40m 17s 148 discs. SAMPLE POINT 359 of 600\n"
       ]
      },
      {
       "output_type": "stream",
       "stream": "stderr",
       "text": [
        " 1h 40m 19s FRAG 118407: 3 versus 6\n"
       ]
      },
      {
       "output_type": "stream",
       "stream": "stderr",
       "text": [
        " 1h 40m 21s FRAG 118409: 3 versus 11\n"
       ]
      },
      {
       "output_type": "stream",
       "stream": "stderr",
       "text": [
        " 1h 40m 23s FRAG 118410: 3 versus 236\n"
       ]
      },
      {
       "output_type": "stream",
       "stream": "stderr",
       "text": [
        " 1h 40m 23s 151 discs. SAMPLE POINT 360 of 600\n"
       ]
      },
      {
       "output_type": "stream",
       "stream": "stderr",
       "text": [
        " 1h 40m 28s FRAG 118888: 3 versus 2\n"
       ]
      },
      {
       "output_type": "stream",
       "stream": "stderr",
       "text": [
        " 1h 40m 30s 152 discs. SAMPLE POINT 361 of 600\n"
       ]
      },
      {
       "output_type": "stream",
       "stream": "stderr",
       "text": [
        " 1h 40m 35s 152 discs. SAMPLE POINT 362 of 600\n"
       ]
      },
      {
       "output_type": "stream",
       "stream": "stderr",
       "text": [
        " 1h 40m 39s FRAG 119296: 3 versus 10\n"
       ]
      },
      {
       "output_type": "stream",
       "stream": "stderr",
       "text": [
        " 1h 40m 41s FRAG 119297: 3 versus 5\n"
       ]
      },
      {
       "output_type": "stream",
       "stream": "stderr",
       "text": [
        " 1h 40m 41s 154 discs. SAMPLE POINT 363 of 600\n"
       ]
      },
      {
       "output_type": "stream",
       "stream": "stderr",
       "text": [
        " 1h 40m 44s 154 discs. SAMPLE POINT 364 of 600\n"
       ]
      },
      {
       "output_type": "stream",
       "stream": "stderr",
       "text": [
        " 1h 40m 49s 154 discs. SAMPLE POINT 365 of 600\n"
       ]
      },
      {
       "output_type": "stream",
       "stream": "stderr",
       "text": [
        " 1h 40m 53s 154 discs. SAMPLE POINT 366 of 600\n"
       ]
      },
      {
       "output_type": "stream",
       "stream": "stderr",
       "text": [
        " 1h 41m 00s 154 discs. SAMPLE POINT 367 of 600\n"
       ]
      },
      {
       "output_type": "stream",
       "stream": "stderr",
       "text": [
        " 1h 41m 10s 154 discs. SAMPLE POINT 368 of 600\n"
       ]
      },
      {
       "output_type": "stream",
       "stream": "stderr",
       "text": [
        " 1h 41m 19s 154 discs. SAMPLE POINT 369 of 600\n"
       ]
      },
      {
       "output_type": "stream",
       "stream": "stderr",
       "text": [
        " 1h 41m 30s 154 discs. SAMPLE POINT 370 of 600\n"
       ]
      },
      {
       "output_type": "stream",
       "stream": "stderr",
       "text": [
        " 1h 41m 39s FRAG 122105: 3 versus 4\n"
       ]
      },
      {
       "output_type": "stream",
       "stream": "stderr",
       "text": [
        " 1h 41m 42s FRAG 122106: 3 versus 0\n"
       ]
      },
      {
       "output_type": "stream",
       "stream": "stderr",
       "text": [
        " 1h 41m 44s FRAG 122107: 3 versus 0\n"
       ]
      },
      {
       "output_type": "stream",
       "stream": "stderr",
       "text": [
        " 1h 41m 44s 157 discs. SAMPLE POINT 371 of 600\n"
       ]
      },
      {
       "output_type": "stream",
       "stream": "stderr",
       "text": [
        " 1h 41m 54s 157 discs. SAMPLE POINT 372 of 600\n"
       ]
      },
      {
       "output_type": "stream",
       "stream": "stderr",
       "text": [
        " 1h 42m 04s 157 discs. SAMPLE POINT 373 of 600\n"
       ]
      },
      {
       "output_type": "stream",
       "stream": "stderr",
       "text": [
        " 1h 42m 13s 157 discs. SAMPLE POINT 374 of 600\n"
       ]
      },
      {
       "output_type": "stream",
       "stream": "stderr",
       "text": [
        " 1h 42m 25s 157 discs. SAMPLE POINT 375 of 600\n"
       ]
      },
      {
       "output_type": "stream",
       "stream": "stderr",
       "text": [
        " 1h 42m 35s 157 discs. SAMPLE POINT 376 of 600\n"
       ]
      },
      {
       "output_type": "stream",
       "stream": "stderr",
       "text": [
        " 1h 42m 44s 157 discs. SAMPLE POINT 377 of 600\n"
       ]
      },
      {
       "output_type": "stream",
       "stream": "stderr",
       "text": [
        " 1h 42m 56s 157 discs. SAMPLE POINT 378 of 600\n"
       ]
      },
      {
       "output_type": "stream",
       "stream": "stderr",
       "text": [
        " 1h 43m 09s FRAG 124482: 3 versus 5\n"
       ]
      },
      {
       "output_type": "stream",
       "stream": "stderr",
       "text": [
        " 1h 43m 09s 158 discs. SAMPLE POINT 379 of 600\n"
       ]
      },
      {
       "output_type": "stream",
       "stream": "stderr",
       "text": [
        " 1h 43m 20s 158 discs. SAMPLE POINT 380 of 600\n"
       ]
      },
      {
       "output_type": "stream",
       "stream": "stderr",
       "text": [
        " 1h 43m 38s 158 discs. SAMPLE POINT 381 of 600\n"
       ]
      },
      {
       "output_type": "stream",
       "stream": "stderr",
       "text": [
        " 1h 43m 51s 158 discs. SAMPLE POINT 382 of 600\n"
       ]
      },
      {
       "output_type": "stream",
       "stream": "stderr",
       "text": [
        " 1h 44m 02s 158 discs. SAMPLE POINT 383 of 600\n"
       ]
      },
      {
       "output_type": "stream",
       "stream": "stderr",
       "text": [
        " 1h 44m 15s 158 discs. SAMPLE POINT 384 of 600\n"
       ]
      },
      {
       "output_type": "stream",
       "stream": "stderr",
       "text": [
        " 1h 44m 25s 158 discs. SAMPLE POINT 385 of 600\n"
       ]
      },
      {
       "output_type": "stream",
       "stream": "stderr",
       "text": [
        " 1h 44m 38s 158 discs. SAMPLE POINT 386 of 600\n"
       ]
      },
      {
       "output_type": "stream",
       "stream": "stderr",
       "text": [
        " 1h 44m 50s 158 discs. SAMPLE POINT 387 of 600\n"
       ]
      },
      {
       "output_type": "stream",
       "stream": "stderr",
       "text": [
        " 1h 45m 01s 158 discs. SAMPLE POINT 388 of 600\n"
       ]
      },
      {
       "output_type": "stream",
       "stream": "stderr",
       "text": [
        " 1h 45m 15s 158 discs. SAMPLE POINT 389 of 600\n"
       ]
      },
      {
       "output_type": "stream",
       "stream": "stderr",
       "text": [
        " 1h 45m 27s 158 discs. SAMPLE POINT 390 of 600\n"
       ]
      },
      {
       "output_type": "stream",
       "stream": "stderr",
       "text": [
        " 1h 45m 39s FRAG 128536: 3 versus 8\n"
       ]
      },
      {
       "output_type": "stream",
       "stream": "stderr",
       "text": [
        " 1h 45m 43s 159 discs. SAMPLE POINT 391 of 600\n"
       ]
      },
      {
       "output_type": "stream",
       "stream": "stderr",
       "text": [
        " 1h 45m 55s 159 discs. SAMPLE POINT 392 of 600\n"
       ]
      },
      {
       "output_type": "stream",
       "stream": "stderr",
       "text": [
        " 1h 46m 07s 159 discs. SAMPLE POINT 393 of 600\n"
       ]
      },
      {
       "output_type": "stream",
       "stream": "stderr",
       "text": [
        " 1h 46m 14s FRAG 129551: 3 versus 2\n"
       ]
      },
      {
       "output_type": "stream",
       "stream": "stderr",
       "text": [
        " 1h 46m 15s FRAG 129552: 3 versus 0\n"
       ]
      },
      {
       "output_type": "stream",
       "stream": "stderr",
       "text": [
        " 1h 46m 15s 161 discs. SAMPLE POINT 394 of 600\n"
       ]
      },
      {
       "output_type": "stream",
       "stream": "stderr",
       "text": [
        " 1h 46m 24s 161 discs. SAMPLE POINT 395 of 600\n"
       ]
      },
      {
       "output_type": "stream",
       "stream": "stderr",
       "text": [
        " 1h 46m 35s 161 discs. SAMPLE POINT 396 of 600\n"
       ]
      },
      {
       "output_type": "stream",
       "stream": "stderr",
       "text": [
        " 1h 46m 41s 161 discs. SAMPLE POINT 397 of 600\n"
       ]
      },
      {
       "output_type": "stream",
       "stream": "stderr",
       "text": [
        " 1h 46m 50s 161 discs. SAMPLE POINT 398 of 600\n"
       ]
      },
      {
       "output_type": "stream",
       "stream": "stderr",
       "text": [
        " 1h 46m 59s 161 discs. SAMPLE POINT 399 of 600\n"
       ]
      },
      {
       "output_type": "stream",
       "stream": "stderr",
       "text": [
        " 1h 47m 09s 161 discs. SAMPLE POINT 400 of 600\n"
       ]
      },
      {
       "output_type": "stream",
       "stream": "stderr",
       "text": [
        " 1h 47m 11s FRAG 132107: 3 versus 0\n"
       ]
      },
      {
       "output_type": "stream",
       "stream": "stderr",
       "text": [
        " 1h 47m 15s 162 discs. SAMPLE POINT 401 of 600\n"
       ]
      },
      {
       "output_type": "stream",
       "stream": "stderr",
       "text": [
        " 1h 47m 25s 162 discs. SAMPLE POINT 402 of 600\n"
       ]
      },
      {
       "output_type": "stream",
       "stream": "stderr",
       "text": [
        " 1h 47m 36s 162 discs. SAMPLE POINT 403 of 600\n"
       ]
      },
      {
       "output_type": "stream",
       "stream": "stderr",
       "text": [
        " 1h 47m 43s 162 discs. SAMPLE POINT 404 of 600\n"
       ]
      },
      {
       "output_type": "stream",
       "stream": "stderr",
       "text": [
        " 1h 47m 48s 162 discs. SAMPLE POINT 405 of 600\n"
       ]
      },
      {
       "output_type": "stream",
       "stream": "stderr",
       "text": [
        " 1h 47m 53s FRAG 133296: 3 versus 9\n"
       ]
      },
      {
       "output_type": "stream",
       "stream": "stderr",
       "text": [
        " 1h 47m 54s FRAG 133297: 3 versus 13\n"
       ]
      },
      {
       "output_type": "stream",
       "stream": "stderr",
       "text": [
        " 1h 47m 54s 164 discs. SAMPLE POINT 406 of 600\n"
       ]
      },
      {
       "output_type": "stream",
       "stream": "stderr",
       "text": [
        " 1h 48m 03s 164 discs. SAMPLE POINT 407 of 600\n"
       ]
      },
      {
       "output_type": "stream",
       "stream": "stderr",
       "text": [
        " 1h 48m 11s 164 discs. SAMPLE POINT 408 of 600\n"
       ]
      },
      {
       "output_type": "stream",
       "stream": "stderr",
       "text": [
        " 1h 48m 18s 164 discs. SAMPLE POINT 409 of 600\n"
       ]
      },
      {
       "output_type": "stream",
       "stream": "stderr",
       "text": [
        " 1h 48m 23s FRAG 135489: 3 versus 2\n"
       ]
      },
      {
       "output_type": "stream",
       "stream": "stderr",
       "text": [
        " 1h 48m 23s 165 discs. SAMPLE POINT 410 of 600\n"
       ]
      },
      {
       "output_type": "stream",
       "stream": "stderr",
       "text": [
        " 1h 48m 26s 165 discs. SAMPLE POINT 411 of 600\n"
       ]
      },
      {
       "output_type": "stream",
       "stream": "stderr",
       "text": [
        " 1h 48m 29s 165 discs. SAMPLE POINT 412 of 600\n"
       ]
      },
      {
       "output_type": "stream",
       "stream": "stderr",
       "text": [
        " 1h 48m 32s 165 discs. SAMPLE POINT 413 of 600\n"
       ]
      },
      {
       "output_type": "stream",
       "stream": "stderr",
       "text": [
        " 1h 48m 36s 165 discs. SAMPLE POINT 414 of 600\n"
       ]
      },
      {
       "output_type": "stream",
       "stream": "stderr",
       "text": [
        " 1h 48m 40s 165 discs. SAMPLE POINT 415 of 600\n"
       ]
      },
      {
       "output_type": "stream",
       "stream": "stderr",
       "text": [
        " 1h 48m 44s 165 discs. SAMPLE POINT 416 of 600\n"
       ]
      },
      {
       "output_type": "stream",
       "stream": "stderr",
       "text": [
        " 1h 48m 46s 165 discs. SAMPLE POINT 417 of 600\n"
       ]
      },
      {
       "output_type": "stream",
       "stream": "stderr",
       "text": [
        " 1h 48m 48s 165 discs. SAMPLE POINT 418 of 600\n"
       ]
      },
      {
       "output_type": "stream",
       "stream": "stderr",
       "text": [
        " 1h 48m 50s 165 discs. SAMPLE POINT 419 of 600\n"
       ]
      },
      {
       "output_type": "stream",
       "stream": "stderr",
       "text": [
        " 1h 48m 51s 165 discs. SAMPLE POINT 420 of 600\n"
       ]
      },
      {
       "output_type": "stream",
       "stream": "stderr",
       "text": [
        " 1h 48m 52s 165 discs. SAMPLE POINT 421 of 600\n"
       ]
      },
      {
       "output_type": "stream",
       "stream": "stderr",
       "text": [
        " 1h 48m 55s 165 discs. SAMPLE POINT 422 of 600\n"
       ]
      },
      {
       "output_type": "stream",
       "stream": "stderr",
       "text": [
        " 1h 49m 02s 165 discs. SAMPLE POINT 423 of 600\n"
       ]
      },
      {
       "output_type": "stream",
       "stream": "stderr",
       "text": [
        " 1h 49m 08s 165 discs. SAMPLE POINT 424 of 600\n"
       ]
      },
      {
       "output_type": "stream",
       "stream": "stderr",
       "text": [
        " 1h 49m 09s FRAG 140182: 2 versus 0\n"
       ]
      },
      {
       "output_type": "stream",
       "stream": "stderr",
       "text": [
        " 1h 49m 12s 166 discs. SAMPLE POINT 425 of 600\n"
       ]
      },
      {
       "output_type": "stream",
       "stream": "stderr",
       "text": [
        " 1h 49m 14s FRAG 140350: 2 versus 4\n"
       ]
      },
      {
       "output_type": "stream",
       "stream": "stderr",
       "text": [
        " 1h 49m 22s 167 discs. SAMPLE POINT 426 of 600\n"
       ]
      },
      {
       "output_type": "stream",
       "stream": "stderr",
       "text": [
        " 1h 49m 29s 167 discs. SAMPLE POINT 427 of 600\n"
       ]
      },
      {
       "output_type": "stream",
       "stream": "stderr",
       "text": [
        " 1h 49m 38s FRAG 141459: 2 versus 3\n"
       ]
      },
      {
       "output_type": "stream",
       "stream": "stderr",
       "text": [
        " 1h 49m 38s 168 discs. SAMPLE POINT 428 of 600\n"
       ]
      },
      {
       "output_type": "stream",
       "stream": "stderr",
       "text": [
        " 1h 49m 43s 168 discs. SAMPLE POINT 429 of 600\n"
       ]
      },
      {
       "output_type": "stream",
       "stream": "stderr",
       "text": [
        " 1h 49m 53s 168 discs. SAMPLE POINT 430 of 600\n"
       ]
      },
      {
       "output_type": "stream",
       "stream": "stderr",
       "text": [
        " 1h 50m 02s 168 discs. SAMPLE POINT 431 of 600\n"
       ]
      },
      {
       "output_type": "stream",
       "stream": "stderr",
       "text": [
        " 1h 50m 10s 168 discs. SAMPLE POINT 432 of 600\n"
       ]
      },
      {
       "output_type": "stream",
       "stream": "stderr",
       "text": [
        " 1h 50m 14s FRAG 142057: 2 versus 17\n"
       ]
      },
      {
       "output_type": "stream",
       "stream": "stderr",
       "text": [
        " 1h 50m 17s FRAG 142058: 2 versus 0\n"
       ]
      },
      {
       "output_type": "stream",
       "stream": "stderr",
       "text": [
        " 1h 50m 20s FRAG 142059: 2 versus 0\n"
       ]
      },
      {
       "output_type": "stream",
       "stream": "stderr",
       "text": [
        " 1h 50m 20s 171 discs. SAMPLE POINT 433 of 600\n"
       ]
      },
      {
       "output_type": "stream",
       "stream": "stderr",
       "text": [
        " 1h 50m 28s 171 discs. SAMPLE POINT 434 of 600\n"
       ]
      },
      {
       "output_type": "stream",
       "stream": "stderr",
       "text": [
        " 1h 50m 37s 171 discs. SAMPLE POINT 435 of 600\n"
       ]
      },
      {
       "output_type": "stream",
       "stream": "stderr",
       "text": [
        " 1h 50m 46s 171 discs. SAMPLE POINT 436 of 600\n"
       ]
      },
      {
       "output_type": "stream",
       "stream": "stderr",
       "text": [
        " 1h 51m 00s 171 discs. SAMPLE POINT 437 of 600\n"
       ]
      },
      {
       "output_type": "stream",
       "stream": "stderr",
       "text": [
        " 1h 51m 14s FRAG 144235: 2 versus 4\n"
       ]
      },
      {
       "output_type": "stream",
       "stream": "stderr",
       "text": [
        " 1h 51m 14s 172 discs. SAMPLE POINT 438 of 600\n"
       ]
      },
      {
       "output_type": "stream",
       "stream": "stderr",
       "text": [
        " 1h 51m 25s 172 discs. SAMPLE POINT 439 of 600\n"
       ]
      },
      {
       "output_type": "stream",
       "stream": "stderr",
       "text": [
        " 1h 51m 28s FRAG 145064: 2 versus 100\n"
       ]
      },
      {
       "output_type": "stream",
       "stream": "stderr",
       "text": [
        " 1h 51m 36s FRAG 145067: 2 versus 160\n"
       ]
      },
      {
       "output_type": "stream",
       "stream": "stderr",
       "text": [
        " 1h 51m 36s 174 discs. SAMPLE POINT 440 of 600\n"
       ]
      },
      {
       "output_type": "stream",
       "stream": "stderr",
       "text": [
        " 1h 51m 47s 174 discs. SAMPLE POINT 441 of 600\n"
       ]
      },
      {
       "output_type": "stream",
       "stream": "stderr",
       "text": [
        " 1h 51m 58s 174 discs. SAMPLE POINT 442 of 600\n"
       ]
      },
      {
       "output_type": "stream",
       "stream": "stderr",
       "text": [
        " 1h 52m 05s 174 discs. SAMPLE POINT 443 of 600\n"
       ]
      },
      {
       "output_type": "stream",
       "stream": "stderr",
       "text": [
        " 1h 52m 16s 174 discs. SAMPLE POINT 444 of 600\n"
       ]
      },
      {
       "output_type": "stream",
       "stream": "stderr",
       "text": [
        " 1h 52m 22s 174 discs. SAMPLE POINT 445 of 600\n"
       ]
      },
      {
       "output_type": "stream",
       "stream": "stderr",
       "text": [
        " 1h 52m 28s 174 discs. SAMPLE POINT 446 of 600\n"
       ]
      },
      {
       "output_type": "stream",
       "stream": "stderr",
       "text": [
        " 1h 52m 38s 174 discs. SAMPLE POINT 447 of 600\n"
       ]
      },
      {
       "output_type": "stream",
       "stream": "stderr",
       "text": [
        " 1h 52m 48s 174 discs. SAMPLE POINT 448 of 600\n"
       ]
      },
      {
       "output_type": "stream",
       "stream": "stderr",
       "text": [
        " 1h 52m 57s 174 discs. SAMPLE POINT 449 of 600\n"
       ]
      },
      {
       "output_type": "stream",
       "stream": "stderr",
       "text": [
        " 1h 53m 02s 174 discs. SAMPLE POINT 450 of 600\n"
       ]
      },
      {
       "output_type": "stream",
       "stream": "stderr",
       "text": [
        " 1h 53m 12s 174 discs. SAMPLE POINT 451 of 600\n"
       ]
      },
      {
       "output_type": "stream",
       "stream": "stderr",
       "text": [
        " 1h 53m 19s 174 discs. SAMPLE POINT 452 of 600\n"
       ]
      },
      {
       "output_type": "stream",
       "stream": "stderr",
       "text": [
        " 1h 53m 27s 174 discs. SAMPLE POINT 453 of 600\n"
       ]
      },
      {
       "output_type": "stream",
       "stream": "stderr",
       "text": [
        " 1h 53m 31s 174 discs. SAMPLE POINT 454 of 600\n"
       ]
      },
      {
       "output_type": "stream",
       "stream": "stderr",
       "text": [
        " 1h 53m 39s 174 discs. SAMPLE POINT 455 of 600\n"
       ]
      },
      {
       "output_type": "stream",
       "stream": "stderr",
       "text": [
        " 1h 53m 43s 174 discs. SAMPLE POINT 456 of 600\n"
       ]
      },
      {
       "output_type": "stream",
       "stream": "stderr",
       "text": [
        " 1h 53m 51s 174 discs. SAMPLE POINT 457 of 600\n"
       ]
      },
      {
       "output_type": "stream",
       "stream": "stderr",
       "text": [
        " 1h 53m 55s 174 discs. SAMPLE POINT 458 of 600\n"
       ]
      },
      {
       "output_type": "stream",
       "stream": "stderr",
       "text": [
        " 1h 54m 00s 174 discs. SAMPLE POINT 459 of 600\n"
       ]
      },
      {
       "output_type": "stream",
       "stream": "stderr",
       "text": [
        " 1h 54m 04s 174 discs. SAMPLE POINT 460 of 600\n"
       ]
      },
      {
       "output_type": "stream",
       "stream": "stderr",
       "text": [
        " 1h 54m 08s FRAG 151714: 2 versus 5\n"
       ]
      },
      {
       "output_type": "stream",
       "stream": "stderr",
       "text": [
        " 1h 54m 08s 175 discs. SAMPLE POINT 461 of 600\n"
       ]
      },
      {
       "output_type": "stream",
       "stream": "stderr",
       "text": [
        " 1h 54m 11s FRAG 151714: 2 versus 5\n"
       ]
      },
      {
       "output_type": "stream",
       "stream": "stderr",
       "text": [
        " 1h 54m 13s 176 discs. SAMPLE POINT 462 of 600\n"
       ]
      },
      {
       "output_type": "stream",
       "stream": "stderr",
       "text": [
        " 1h 54m 14s FRAG 152600: 2 versus 24\n"
       ]
      },
      {
       "output_type": "stream",
       "stream": "stderr",
       "text": [
        " 1h 54m 16s FRAG 152602: 2 versus 5\n"
       ]
      },
      {
       "output_type": "stream",
       "stream": "stderr",
       "text": [
        " 1h 54m 17s 178 discs. SAMPLE POINT 463 of 600\n"
       ]
      },
      {
       "output_type": "stream",
       "stream": "stderr",
       "text": [
        " 1h 54m 23s 178 discs. SAMPLE POINT 464 of 600\n"
       ]
      },
      {
       "output_type": "stream",
       "stream": "stderr",
       "text": [
        " 1h 54m 25s 178 discs. SAMPLE POINT 465 of 600\n"
       ]
      },
      {
       "output_type": "stream",
       "stream": "stderr",
       "text": [
        " 1h 54m 32s 178 discs. SAMPLE POINT 466 of 600\n"
       ]
      },
      {
       "output_type": "stream",
       "stream": "stderr",
       "text": [
        " 1h 54m 42s 178 discs. SAMPLE POINT 467 of 600\n"
       ]
      },
      {
       "output_type": "stream",
       "stream": "stderr",
       "text": [
        " 1h 54m 49s 178 discs. SAMPLE POINT 468 of 600\n"
       ]
      },
      {
       "output_type": "stream",
       "stream": "stderr",
       "text": [
        " 1h 54m 58s 178 discs. SAMPLE POINT 469 of 600\n"
       ]
      },
      {
       "output_type": "stream",
       "stream": "stderr",
       "text": [
        " 1h 55m 05s 178 discs. SAMPLE POINT 470 of 600\n"
       ]
      },
      {
       "output_type": "stream",
       "stream": "stderr",
       "text": [
        " 1h 55m 07s FRAG 154721: 2 versus 3\n"
       ]
      },
      {
       "output_type": "stream",
       "stream": "stderr",
       "text": [
        " 1h 55m 13s 179 discs. SAMPLE POINT 471 of 600\n"
       ]
      },
      {
       "output_type": "stream",
       "stream": "stderr",
       "text": [
        " 1h 55m 20s 179 discs. SAMPLE POINT 472 of 600\n"
       ]
      },
      {
       "output_type": "stream",
       "stream": "stderr",
       "text": [
        " 1h 55m 28s 179 discs. SAMPLE POINT 473 of 600\n"
       ]
      },
      {
       "output_type": "stream",
       "stream": "stderr",
       "text": [
        " 1h 55m 34s 179 discs. SAMPLE POINT 474 of 600\n"
       ]
      },
      {
       "output_type": "stream",
       "stream": "stderr",
       "text": [
        " 1h 55m 39s FRAG 156363: 2 versus 3\n"
       ]
      },
      {
       "output_type": "stream",
       "stream": "stderr",
       "text": [
        " 1h 55m 41s 180 discs. SAMPLE POINT 475 of 600\n"
       ]
      },
      {
       "output_type": "stream",
       "stream": "stderr",
       "text": [
        " 1h 55m 44s FRAG 156698: 2 versus 7\n"
       ]
      },
      {
       "output_type": "stream",
       "stream": "stderr",
       "text": [
        " 1h 55m 47s FRAG 156700: 2 versus 24\n"
       ]
      },
      {
       "output_type": "stream",
       "stream": "stderr",
       "text": [
        " 1h 55m 47s 182 discs. SAMPLE POINT 476 of 600\n"
       ]
      },
      {
       "output_type": "stream",
       "stream": "stderr",
       "text": [
        " 1h 55m 55s 182 discs. SAMPLE POINT 477 of 600\n"
       ]
      },
      {
       "output_type": "stream",
       "stream": "stderr",
       "text": [
        " 1h 56m 00s 182 discs. SAMPLE POINT 478 of 600\n"
       ]
      },
      {
       "output_type": "stream",
       "stream": "stderr",
       "text": [
        " 1h 56m 07s 182 discs. SAMPLE POINT 479 of 600\n"
       ]
      },
      {
       "output_type": "stream",
       "stream": "stderr",
       "text": [
        " 1h 56m 11s FRAG 158046: 2 versus 3\n"
       ]
      },
      {
       "output_type": "stream",
       "stream": "stderr",
       "text": [
        " 1h 56m 11s 183 discs. SAMPLE POINT 480 of 600\n"
       ]
      },
      {
       "output_type": "stream",
       "stream": "stderr",
       "text": [
        " 1h 56m 16s 183 discs. SAMPLE POINT 481 of 600\n"
       ]
      },
      {
       "output_type": "stream",
       "stream": "stderr",
       "text": [
        " 1h 56m 21s 183 discs. SAMPLE POINT 482 of 600\n"
       ]
      },
      {
       "output_type": "stream",
       "stream": "stderr",
       "text": [
        " 1h 56m 25s 183 discs. SAMPLE POINT 483 of 600\n"
       ]
      },
      {
       "output_type": "stream",
       "stream": "stderr",
       "text": [
        " 1h 56m 29s FRAG 159167: 2 versus 36\n"
       ]
      },
      {
       "output_type": "stream",
       "stream": "stderr",
       "text": [
        " 1h 56m 32s FRAG 159168: 2 versus 3\n"
       ]
      },
      {
       "output_type": "stream",
       "stream": "stderr",
       "text": [
        " 1h 56m 33s 185 discs. SAMPLE POINT 484 of 600\n"
       ]
      },
      {
       "output_type": "stream",
       "stream": "stderr",
       "text": [
        " 1h 56m 37s 185 discs. SAMPLE POINT 485 of 600\n"
       ]
      },
      {
       "output_type": "stream",
       "stream": "stderr",
       "text": [
        " 1h 56m 40s 185 discs. SAMPLE POINT 486 of 600\n"
       ]
      },
      {
       "output_type": "stream",
       "stream": "stderr",
       "text": [
        " 1h 56m 41s FRAG 160242: 2 versus 0\n"
       ]
      },
      {
       "output_type": "stream",
       "stream": "stderr",
       "text": [
        " 1h 56m 44s 186 discs. SAMPLE POINT 487 of 600\n"
       ]
      },
      {
       "output_type": "stream",
       "stream": "stderr",
       "text": [
        " 1h 56m 49s FRAG 160657: 2 versus 0\n"
       ]
      },
      {
       "output_type": "stream",
       "stream": "stderr",
       "text": [
        " 1h 56m 53s FRAG 160658: 2 versus 0\n"
       ]
      },
      {
       "output_type": "stream",
       "stream": "stderr",
       "text": [
        " 1h 56m 55s FRAG 160659: 2 versus 0\n"
       ]
      },
      {
       "output_type": "stream",
       "stream": "stderr",
       "text": [
        " 1h 56m 59s FRAG 160660: 2 versus 0\n"
       ]
      },
      {
       "output_type": "stream",
       "stream": "stderr",
       "text": [
        " 1h 56m 59s 190 discs. SAMPLE POINT 488 of 600\n"
       ]
      },
      {
       "output_type": "stream",
       "stream": "stderr",
       "text": [
        " 1h 57m 07s 190 discs. SAMPLE POINT 489 of 600\n"
       ]
      },
      {
       "output_type": "stream",
       "stream": "stderr",
       "text": [
        " 1h 57m 16s 190 discs. SAMPLE POINT 490 of 600\n"
       ]
      },
      {
       "output_type": "stream",
       "stream": "stderr",
       "text": [
        " 1h 57m 23s 190 discs. SAMPLE POINT 491 of 600\n"
       ]
      },
      {
       "output_type": "stream",
       "stream": "stderr",
       "text": [
        " 1h 57m 33s FRAG 162212: 2 versus 4\n"
       ]
      },
      {
       "output_type": "stream",
       "stream": "stderr",
       "text": [
        " 1h 57m 33s 191 discs. SAMPLE POINT 492 of 600\n"
       ]
      },
      {
       "output_type": "stream",
       "stream": "stderr",
       "text": [
        " 1h 57m 42s 191 discs. SAMPLE POINT 493 of 600\n"
       ]
      },
      {
       "output_type": "stream",
       "stream": "stderr",
       "text": [
        " 1h 57m 56s 191 discs. SAMPLE POINT 494 of 600\n"
       ]
      },
      {
       "output_type": "stream",
       "stream": "stderr",
       "text": [
        " 1h 58m 06s 191 discs. SAMPLE POINT 495 of 600\n"
       ]
      },
      {
       "output_type": "stream",
       "stream": "stderr",
       "text": [
        " 1h 58m 15s 191 discs. SAMPLE POINT 496 of 600\n"
       ]
      },
      {
       "output_type": "stream",
       "stream": "stderr",
       "text": [
        " 1h 58m 23s 191 discs. SAMPLE POINT 497 of 600\n"
       ]
      },
      {
       "output_type": "stream",
       "stream": "stderr",
       "text": [
        " 1h 58m 31s 191 discs. SAMPLE POINT 498 of 600\n"
       ]
      },
      {
       "output_type": "stream",
       "stream": "stderr",
       "text": [
        " 1h 58m 43s 191 discs. SAMPLE POINT 499 of 600\n"
       ]
      },
      {
       "output_type": "stream",
       "stream": "stderr",
       "text": [
        " 1h 58m 56s 191 discs. SAMPLE POINT 500 of 600\n"
       ]
      },
      {
       "output_type": "stream",
       "stream": "stderr",
       "text": [
        " 1h 58m 58s FRAG 164944: 2 versus 0\n"
       ]
      },
      {
       "output_type": "stream",
       "stream": "stderr",
       "text": [
        " 1h 59m 01s FRAG 164945: 2 versus 0\n"
       ]
      },
      {
       "output_type": "stream",
       "stream": "stderr",
       "text": [
        " 1h 59m 05s FRAG 164946: 2 versus 0\n"
       ]
      },
      {
       "output_type": "stream",
       "stream": "stderr",
       "text": [
        " 1h 59m 08s FRAG 164947: 2 versus 0\n"
       ]
      },
      {
       "output_type": "stream",
       "stream": "stderr",
       "text": [
        " 1h 59m 08s 195 discs. SAMPLE POINT 501 of 600\n"
       ]
      },
      {
       "output_type": "stream",
       "stream": "stderr",
       "text": [
        " 1h 59m 20s 195 discs. SAMPLE POINT 502 of 600\n"
       ]
      },
      {
       "output_type": "stream",
       "stream": "stderr",
       "text": [
        " 1h 59m 30s 195 discs. SAMPLE POINT 503 of 600\n"
       ]
      },
      {
       "output_type": "stream",
       "stream": "stderr",
       "text": [
        " 1h 59m 42s 195 discs. SAMPLE POINT 504 of 600\n"
       ]
      },
      {
       "output_type": "stream",
       "stream": "stderr",
       "text": [
        " 1h 59m 53s 195 discs. SAMPLE POINT 505 of 600\n"
       ]
      },
      {
       "output_type": "stream",
       "stream": "stderr",
       "text": [
        " 2h 00m 03s 195 discs. SAMPLE POINT 506 of 600\n"
       ]
      },
      {
       "output_type": "stream",
       "stream": "stderr",
       "text": [
        " 2h 00m 13s 195 discs. SAMPLE POINT 507 of 600\n"
       ]
      },
      {
       "output_type": "stream",
       "stream": "stderr",
       "text": [
        " 2h 00m 18s FRAG 167365: 2 versus 1\n"
       ]
      },
      {
       "output_type": "stream",
       "stream": "stderr",
       "text": [
        " 2h 00m 21s FRAG 167366: 2 versus 1\n"
       ]
      },
      {
       "output_type": "stream",
       "stream": "stderr",
       "text": [
        " 2h 00m 23s 197 discs. SAMPLE POINT 508 of 600\n"
       ]
      },
      {
       "output_type": "stream",
       "stream": "stderr",
       "text": [
        " 2h 00m 31s 197 discs. SAMPLE POINT 509 of 600\n"
       ]
      },
      {
       "output_type": "stream",
       "stream": "stderr",
       "text": [
        " 2h 00m 45s 197 discs. SAMPLE POINT 510 of 600\n"
       ]
      },
      {
       "output_type": "stream",
       "stream": "stderr",
       "text": [
        " 2h 00m 59s 197 discs. SAMPLE POINT 511 of 600\n"
       ]
      },
      {
       "output_type": "stream",
       "stream": "stderr",
       "text": [
        " 2h 01m 12s 197 discs. SAMPLE POINT 512 of 600\n"
       ]
      },
      {
       "output_type": "stream",
       "stream": "stderr",
       "text": [
        " 2h 01m 25s 197 discs. SAMPLE POINT 513 of 600\n"
       ]
      },
      {
       "output_type": "stream",
       "stream": "stderr",
       "text": [
        " 2h 01m 39s 197 discs. SAMPLE POINT 514 of 600\n"
       ]
      },
      {
       "output_type": "stream",
       "stream": "stderr",
       "text": [
        " 2h 01m 53s 197 discs. SAMPLE POINT 515 of 600\n"
       ]
      },
      {
       "output_type": "stream",
       "stream": "stderr",
       "text": [
        " 2h 02m 05s 197 discs. SAMPLE POINT 516 of 600\n"
       ]
      },
      {
       "output_type": "stream",
       "stream": "stderr",
       "text": [
        " 2h 02m 16s 197 discs. SAMPLE POINT 517 of 600\n"
       ]
      },
      {
       "output_type": "stream",
       "stream": "stderr",
       "text": [
        " 2h 02m 28s 197 discs. SAMPLE POINT 518 of 600\n"
       ]
      },
      {
       "output_type": "stream",
       "stream": "stderr",
       "text": [
        " 2h 02m 43s 197 discs. SAMPLE POINT 519 of 600\n"
       ]
      },
      {
       "output_type": "stream",
       "stream": "stderr",
       "text": [
        " 2h 02m 54s 197 discs. SAMPLE POINT 520 of 600\n"
       ]
      },
      {
       "output_type": "stream",
       "stream": "stderr",
       "text": [
        " 2h 03m 09s 197 discs. SAMPLE POINT 521 of 600\n"
       ]
      },
      {
       "output_type": "stream",
       "stream": "stderr",
       "text": [
        " 2h 03m 24s 197 discs. SAMPLE POINT 522 of 600\n"
       ]
      },
      {
       "output_type": "stream",
       "stream": "stderr",
       "text": [
        " 2h 03m 37s 197 discs. SAMPLE POINT 523 of 600\n"
       ]
      },
      {
       "output_type": "stream",
       "stream": "stderr",
       "text": [
        " 2h 03m 49s 197 discs. SAMPLE POINT 524 of 600\n"
       ]
      },
      {
       "output_type": "stream",
       "stream": "stderr",
       "text": [
        " 2h 04m 02s 197 discs. SAMPLE POINT 525 of 600\n"
       ]
      },
      {
       "output_type": "stream",
       "stream": "stderr",
       "text": [
        " 2h 04m 19s 197 discs. SAMPLE POINT 526 of 600\n"
       ]
      },
      {
       "output_type": "stream",
       "stream": "stderr",
       "text": [
        " 2h 04m 30s 197 discs. SAMPLE POINT 527 of 600\n"
       ]
      },
      {
       "output_type": "stream",
       "stream": "stderr",
       "text": [
        " 2h 04m 42s 197 discs. SAMPLE POINT 528 of 600\n"
       ]
      },
      {
       "output_type": "stream",
       "stream": "stderr",
       "text": [
        " 2h 04m 52s 197 discs. SAMPLE POINT 529 of 600\n"
       ]
      },
      {
       "output_type": "stream",
       "stream": "stderr",
       "text": [
        " 2h 05m 02s 197 discs. SAMPLE POINT 530 of 600\n"
       ]
      },
      {
       "output_type": "stream",
       "stream": "stderr",
       "text": [
        " 2h 05m 11s 197 discs. SAMPLE POINT 531 of 600\n"
       ]
      },
      {
       "output_type": "stream",
       "stream": "stderr",
       "text": [
        " 2h 05m 23s 197 discs. SAMPLE POINT 532 of 600\n"
       ]
      },
      {
       "output_type": "stream",
       "stream": "stderr",
       "text": [
        " 2h 05m 36s 197 discs. SAMPLE POINT 533 of 600\n"
       ]
      },
      {
       "output_type": "stream",
       "stream": "stderr",
       "text": [
        " 2h 05m 44s 197 discs. SAMPLE POINT 534 of 600\n"
       ]
      },
      {
       "output_type": "stream",
       "stream": "stderr",
       "text": [
        " 2h 05m 55s 197 discs. SAMPLE POINT 535 of 600\n"
       ]
      },
      {
       "output_type": "stream",
       "stream": "stderr",
       "text": [
        " 2h 06m 08s 197 discs. SAMPLE POINT 536 of 600\n"
       ]
      },
      {
       "output_type": "stream",
       "stream": "stderr",
       "text": [
        " 2h 06m 19s 197 discs. SAMPLE POINT 537 of 600\n"
       ]
      },
      {
       "output_type": "stream",
       "stream": "stderr",
       "text": [
        " 2h 06m 30s 197 discs. SAMPLE POINT 538 of 600\n"
       ]
      },
      {
       "output_type": "stream",
       "stream": "stderr",
       "text": [
        " 2h 06m 46s 197 discs. SAMPLE POINT 539 of 600\n"
       ]
      },
      {
       "output_type": "stream",
       "stream": "stderr",
       "text": [
        " 2h 06m 59s 197 discs. SAMPLE POINT 540 of 600\n"
       ]
      },
      {
       "output_type": "stream",
       "stream": "stderr",
       "text": [
        " 2h 07m 11s 197 discs. SAMPLE POINT 541 of 600\n"
       ]
      },
      {
       "output_type": "stream",
       "stream": "stderr",
       "text": [
        " 2h 07m 27s 197 discs. SAMPLE POINT 542 of 600\n"
       ]
      },
      {
       "output_type": "stream",
       "stream": "stderr",
       "text": [
        " 2h 07m 40s 197 discs. SAMPLE POINT 543 of 600\n"
       ]
      },
      {
       "output_type": "stream",
       "stream": "stderr",
       "text": [
        " 2h 07m 51s 197 discs. SAMPLE POINT 544 of 600\n"
       ]
      },
      {
       "output_type": "stream",
       "stream": "stderr",
       "text": [
        " 2h 07m 57s 197 discs. SAMPLE POINT 545 of 600\n"
       ]
      },
      {
       "output_type": "stream",
       "stream": "stderr",
       "text": [
        " 2h 08m 08s 197 discs. SAMPLE POINT 546 of 600\n"
       ]
      },
      {
       "output_type": "stream",
       "stream": "stderr",
       "text": [
        " 2h 08m 18s 197 discs. SAMPLE POINT 547 of 600\n"
       ]
      },
      {
       "output_type": "stream",
       "stream": "stderr",
       "text": [
        " 2h 08m 27s 197 discs. SAMPLE POINT 548 of 600\n"
       ]
      },
      {
       "output_type": "stream",
       "stream": "stderr",
       "text": [
        " 2h 08m 35s 197 discs. SAMPLE POINT 549 of 600\n"
       ]
      },
      {
       "output_type": "stream",
       "stream": "stderr",
       "text": [
        " 2h 08m 43s 197 discs. SAMPLE POINT 550 of 600\n"
       ]
      },
      {
       "output_type": "stream",
       "stream": "stderr",
       "text": [
        " 2h 08m 50s 197 discs. SAMPLE POINT 551 of 600\n"
       ]
      },
      {
       "output_type": "stream",
       "stream": "stderr",
       "text": [
        " 2h 08m 58s 197 discs. SAMPLE POINT 552 of 600\n"
       ]
      },
      {
       "output_type": "stream",
       "stream": "stderr",
       "text": [
        " 2h 09m 04s 197 discs. SAMPLE POINT 553 of 600\n"
       ]
      },
      {
       "output_type": "stream",
       "stream": "stderr",
       "text": [
        " 2h 09m 12s 197 discs. SAMPLE POINT 554 of 600\n"
       ]
      },
      {
       "output_type": "stream",
       "stream": "stderr",
       "text": [
        " 2h 09m 14s FRAG 182582: 2 versus 3\n"
       ]
      },
      {
       "output_type": "stream",
       "stream": "stderr",
       "text": [
        " 2h 09m 18s 198 discs. SAMPLE POINT 555 of 600\n"
       ]
      },
      {
       "output_type": "stream",
       "stream": "stderr",
       "text": [
        " 2h 09m 26s 198 discs. SAMPLE POINT 556 of 600\n"
       ]
      },
      {
       "output_type": "stream",
       "stream": "stderr",
       "text": [
        " 2h 09m 33s 198 discs. SAMPLE POINT 557 of 600\n"
       ]
      },
      {
       "output_type": "stream",
       "stream": "stderr",
       "text": [
        " 2h 09m 38s 198 discs. SAMPLE POINT 558 of 600\n"
       ]
      },
      {
       "output_type": "stream",
       "stream": "stderr",
       "text": [
        " 2h 09m 47s 198 discs. SAMPLE POINT 559 of 600\n"
       ]
      },
      {
       "output_type": "stream",
       "stream": "stderr",
       "text": [
        " 2h 09m 54s FRAG 184944: 2 versus 1\n"
       ]
      },
      {
       "output_type": "stream",
       "stream": "stderr",
       "text": [
        " 2h 09m 55s 199 discs. SAMPLE POINT 560 of 600\n"
       ]
      },
      {
       "output_type": "stream",
       "stream": "stderr",
       "text": [
        " 2h 10m 03s 199 discs. SAMPLE POINT 561 of 600\n"
       ]
      },
      {
       "output_type": "stream",
       "stream": "stderr",
       "text": [
        " 2h 10m 11s 199 discs. SAMPLE POINT 562 of 600\n"
       ]
      },
      {
       "output_type": "stream",
       "stream": "stderr",
       "text": [
        " 2h 10m 20s 199 discs. SAMPLE POINT 563 of 600\n"
       ]
      },
      {
       "output_type": "stream",
       "stream": "stderr",
       "text": [
        " 2h 10m 27s 199 discs. SAMPLE POINT 564 of 600\n"
       ]
      },
      {
       "output_type": "stream",
       "stream": "stderr",
       "text": [
        " 2h 10m 35s 199 discs. SAMPLE POINT 565 of 600\n"
       ]
      },
      {
       "output_type": "stream",
       "stream": "stderr",
       "text": [
        " 2h 10m 43s 199 discs. SAMPLE POINT 566 of 600\n"
       ]
      },
      {
       "output_type": "stream",
       "stream": "stderr",
       "text": [
        " 2h 10m 49s 199 discs. SAMPLE POINT 567 of 600\n"
       ]
      },
      {
       "output_type": "stream",
       "stream": "stderr",
       "text": [
        " 2h 11m 00s 199 discs. SAMPLE POINT 568 of 600\n"
       ]
      },
      {
       "output_type": "stream",
       "stream": "stderr",
       "text": [
        " 2h 11m 05s 199 discs. SAMPLE POINT 569 of 600\n"
       ]
      },
      {
       "output_type": "stream",
       "stream": "stderr",
       "text": [
        " 2h 11m 15s 199 discs. SAMPLE POINT 570 of 600\n"
       ]
      },
      {
       "output_type": "stream",
       "stream": "stderr",
       "text": [
        " 2h 11m 23s 199 discs. SAMPLE POINT 571 of 600\n"
       ]
      },
      {
       "output_type": "stream",
       "stream": "stderr",
       "text": [
        " 2h 11m 28s FRAG 188710: 2 versus 1\n"
       ]
      },
      {
       "output_type": "stream",
       "stream": "stderr",
       "text": [
        " 2h 11m 29s 200 discs. SAMPLE POINT 572 of 600\n"
       ]
      },
      {
       "output_type": "stream",
       "stream": "stderr",
       "text": [
        " 2h 11m 37s 200 discs. SAMPLE POINT 573 of 600\n"
       ]
      },
      {
       "output_type": "stream",
       "stream": "stderr",
       "text": [
        " 2h 11m 44s 200 discs. SAMPLE POINT 574 of 600\n"
       ]
      },
      {
       "output_type": "stream",
       "stream": "stderr",
       "text": [
        " 2h 11m 48s FRAG 189512: 2 versus 0\n"
       ]
      },
      {
       "output_type": "stream",
       "stream": "stderr",
       "text": [
        " 2h 11m 52s FRAG 189513: 2 versus 0\n"
       ]
      },
      {
       "output_type": "stream",
       "stream": "stderr",
       "text": [
        " 2h 11m 58s FRAG 189514: 2 versus 0\n"
       ]
      },
      {
       "output_type": "stream",
       "stream": "stderr",
       "text": [
        " 2h 12m 01s FRAG 189515: 2 versus 0\n"
       ]
      },
      {
       "output_type": "stream",
       "stream": "stderr",
       "text": [
        " 2h 12m 01s 204 discs. SAMPLE POINT 575 of 600\n"
       ]
      },
      {
       "output_type": "stream",
       "stream": "stderr",
       "text": [
        " 2h 12m 09s 204 discs. SAMPLE POINT 576 of 600\n"
       ]
      },
      {
       "output_type": "stream",
       "stream": "stderr",
       "text": [
        " 2h 12m 20s 204 discs. SAMPLE POINT 577 of 600\n"
       ]
      },
      {
       "output_type": "stream",
       "stream": "stderr",
       "text": [
        " 2h 12m 28s 204 discs. SAMPLE POINT 578 of 600\n"
       ]
      },
      {
       "output_type": "stream",
       "stream": "stderr",
       "text": [
        " 2h 12m 30s FRAG 190960: 2 versus 1\n"
       ]
      },
      {
       "output_type": "stream",
       "stream": "stderr",
       "text": [
        " 2h 12m 36s 205 discs. SAMPLE POINT 579 of 600\n"
       ]
      },
      {
       "output_type": "stream",
       "stream": "stderr",
       "text": [
        " 2h 12m 42s 205 discs. SAMPLE POINT 580 of 600\n"
       ]
      },
      {
       "output_type": "stream",
       "stream": "stderr",
       "text": [
        " 2h 12m 50s FRAG 191488: 2 versus 1\n"
       ]
      },
      {
       "output_type": "stream",
       "stream": "stderr",
       "text": [
        " 2h 12m 53s 206 discs. SAMPLE POINT 581 of 600\n"
       ]
      },
      {
       "output_type": "stream",
       "stream": "stderr",
       "text": [
        " 2h 13m 14s 206 discs. SAMPLE POINT 582 of 600\n"
       ]
      },
      {
       "output_type": "stream",
       "stream": "stderr",
       "text": [
        " 2h 13m 28s 206 discs. SAMPLE POINT 583 of 600\n"
       ]
      },
      {
       "output_type": "stream",
       "stream": "stderr",
       "text": [
        " 2h 13m 32s FRAG 192270: 2 versus 180\n"
       ]
      },
      {
       "output_type": "stream",
       "stream": "stderr",
       "text": [
        " 2h 13m 34s FRAG 192271: 2 versus 8\n"
       ]
      },
      {
       "output_type": "stream",
       "stream": "stderr",
       "text": [
        " 2h 13m 34s 208 discs. SAMPLE POINT 584 of 600\n"
       ]
      },
      {
       "output_type": "stream",
       "stream": "stderr",
       "text": [
        " 2h 13m 40s 208 discs. SAMPLE POINT 585 of 600\n"
       ]
      },
      {
       "output_type": "stream",
       "stream": "stderr",
       "text": [
        " 2h 13m 47s 208 discs. SAMPLE POINT 586 of 600\n"
       ]
      },
      {
       "output_type": "stream",
       "stream": "stderr",
       "text": [
        " 2h 13m 53s FRAG 193316: 2 versus 0\n"
       ]
      },
      {
       "output_type": "stream",
       "stream": "stderr",
       "text": [
        " 2h 13m 53s 209 discs. SAMPLE POINT 587 of 600\n"
       ]
      },
      {
       "output_type": "stream",
       "stream": "stderr",
       "text": [
        " 2h 13m 57s 209 discs. SAMPLE POINT 588 of 600\n"
       ]
      },
      {
       "output_type": "stream",
       "stream": "stderr",
       "text": [
        " 2h 13m 58s FRAG 193775: 2 versus 3\n"
       ]
      },
      {
       "output_type": "stream",
       "stream": "stderr",
       "text": [
        " 2h 13m 59s 210 discs. SAMPLE POINT 589 of 600\n"
       ]
      },
      {
       "output_type": "stream",
       "stream": "stderr",
       "text": [
        " 2h 14m 01s 210 discs. SAMPLE POINT 590 of 600\n"
       ]
      },
      {
       "output_type": "stream",
       "stream": "stderr",
       "text": [
        " 2h 14m 02s FRAG 194769: 2 versus 3\n"
       ]
      },
      {
       "output_type": "stream",
       "stream": "stderr",
       "text": [
        " 2h 14m 05s FRAG 194772: 2 versus 1\n"
       ]
      },
      {
       "output_type": "stream",
       "stream": "stderr",
       "text": [
        " 2h 14m 05s 212 discs. SAMPLE POINT 591 of 600\n"
       ]
      },
      {
       "output_type": "stream",
       "stream": "stderr",
       "text": [
        " 2h 14m 09s 212 discs. SAMPLE POINT 592 of 600\n"
       ]
      },
      {
       "output_type": "stream",
       "stream": "stderr",
       "text": [
        " 2h 14m 12s 212 discs. SAMPLE POINT 593 of 600\n"
       ]
      },
      {
       "output_type": "stream",
       "stream": "stderr",
       "text": [
        " 2h 14m 15s 212 discs. SAMPLE POINT 594 of 600\n"
       ]
      },
      {
       "output_type": "stream",
       "stream": "stderr",
       "text": [
        " 2h 14m 17s 212 discs. SAMPLE POINT 595 of 600\n"
       ]
      },
      {
       "output_type": "stream",
       "stream": "stderr",
       "text": [
        " 2h 14m 20s 212 discs. SAMPLE POINT 596 of 600\n"
       ]
      },
      {
       "output_type": "stream",
       "stream": "stderr",
       "text": [
        " 2h 14m 22s 212 discs. SAMPLE POINT 597 of 600\n"
       ]
      },
      {
       "output_type": "stream",
       "stream": "stderr",
       "text": [
        " 2h 14m 25s 212 discs. SAMPLE POINT 598 of 600\n"
       ]
      },
      {
       "output_type": "stream",
       "stream": "stderr",
       "text": [
        " 2h 14m 25s FRAG 197372: 2 versus 1\n"
       ]
      },
      {
       "output_type": "stream",
       "stream": "stderr",
       "text": [
        " 2h 14m 26s 213 discs. SAMPLE POINT 599 of 600\n"
       ]
      },
      {
       "output_type": "stream",
       "stream": "stderr",
       "text": [
        " 2h 14m 27s 213 discs. SAMPLE POINT 600 of 600\n"
       ]
      },
      {
       "output_type": "stream",
       "stream": "stderr",
       "text": [
        " 2h 14m 29s Total 213 discrepancies in 2400 fragments\n"
       ]
      }
     ],
     "prompt_number": 10
    },
    {
     "cell_type": "code",
     "collapsed": false,
     "input": [],
     "language": "python",
     "metadata": {},
     "outputs": []
    }
   ],
   "metadata": {}
  }
 ]
}