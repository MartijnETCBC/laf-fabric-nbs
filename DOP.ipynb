{
 "metadata": {
  "name": ""
 },
 "nbformat": 3,
 "nbformat_minor": 0,
 "worksheets": [
  {
   "cells": [
    {
     "cell_type": "code",
     "collapsed": false,
     "input": [
      "import sys\n",
      "import collections\n",
      "from pyparsing import nestedExpr\n",
      "import laf\n",
      "from laf.fabric import LafFabric\n",
      "from etcbc.preprocess import prepare\n",
      "from etcbc.mql import MQL\n",
      "fabric = LafFabric()\n",
      "\n",
      "data_dir = '/Users/dirk/Dropbox/DANS/current/projects/etcbc/DOP/'\n",
      "sort_frags_file = 'ot_fragments.txt'\n",
      "data_path = \"{}/{}\".format(data_dir, sort_frags_file)"
     ],
     "language": "python",
     "metadata": {},
     "outputs": [
      {
       "output_type": "stream",
       "stream": "stderr",
       "text": [
        "  0.00s This is LAF-Fabric 4.1.2\n",
        "http://laf-fabric.readthedocs.org/texts/API-reference.html\n"
       ]
      }
     ],
     "prompt_number": 3
    },
    {
     "cell_type": "code",
     "collapsed": false,
     "input": [
      "API = fabric.load('bhs3.txt.hdr', '--', 'dop', {\n",
      "    \"xmlids\": {\"node\": False, \"edge\": False},\n",
      "    \"features\": ('''\n",
      "        oid otype monads\n",
      "        text_plain\n",
      "        surface_consonants\n",
      "        part_of_speech\n",
      "        clause_constituent_relation phrase_type\n",
      "        verse_label\n",
      "    ''','''\n",
      "    '''),\n",
      "    \"prepare\": prepare,\n",
      "}, verbose='NORMAL')\n",
      "exec(fabric.localnames.format(var='fabric'))"
     ],
     "language": "python",
     "metadata": {},
     "outputs": [
      {
       "output_type": "stream",
       "stream": "stderr",
       "text": [
        "  0.00s LOADING API: please wait ... \n"
       ]
      },
      {
       "output_type": "stream",
       "stream": "stderr",
       "text": [
        "  0.01s INFO: DATA COMPILED AT: 2014-04-05T09-12-34\n"
       ]
      },
      {
       "output_type": "stream",
       "stream": "stderr",
       "text": [
        "  6.61s LOGFILE=/Users/dirk/laf-fabric-data/etcbc-bhs3/tasks/bhs3.txt.hdr/dop/__log__dop.txt\n"
       ]
      },
      {
       "output_type": "stream",
       "stream": "stderr",
       "text": [
        "  7.48s INFO: DATA LOADED FROM SOURCE bhs3.txt.hdr AND ANNOX -- FOR TASK dop\n"
       ]
      }
     ],
     "prompt_number": 4
    },
    {
     "cell_type": "code",
     "collapsed": false,
     "input": [
      "phrase_types = set('AdjP AdvP CP DPrP IPrP InjP InrP NP NegP PP PPrP PrNP VP'.split())\n",
      "clause_types = set('Adju Attr Cmpl CoVo Coor Objc Pred Resu RgRc Subj none'.split())\n",
      "pos_table = {\n",
      " 'adjective': 'aj',\n",
      " 'adverb': 'av',\n",
      " 'article': 'dt',\n",
      " 'conjunction': 'cj',\n",
      " 'interjection': 'ij',\n",
      " 'interrogative': 'ir',\n",
      " 'negative': 'ng',\n",
      " 'noun': 'n',\n",
      " 'preposition': 'pp',\n",
      " 'pronoun': 'pr',\n",
      " 'verb': 'vb',\n",
      "} \n",
      "relevant_nodes = [\n",
      "    (\"word\", '', True),\n",
      "    (\"subphrase\", 'SU', True),\n",
      "    (\"phrase_atom\", 'Pa', False),\n",
      "    (\"phrase\", 'P', True),\n",
      "    (\"clause_atom\", 'Ca', False),\n",
      "    (\"clause\", 'C', True),\n",
      "    (\"sentence_atom\", 'Sa', False),\n",
      "    (\"sentence\", 'S', True),\n",
      "]\n",
      " \n",
      "long_name = {}\n",
      "dtype = {}\n",
      "for (lname, abb, bl) in relevant_nodes:\n",
      "    long_name[abb] = lname\n",
      "    dtype[abb] = 'con'\n",
      "for (lname, abb) in pos_table.items():\n",
      "    long_name[abb] = lname\n",
      "    dtype[abb] = 'pos'\n",
      "for pt in phrase_types:\n",
      "    long_name[pt] = pt\n",
      "    dtype[pt] = 'phr'\n",
      "for ctr in clause_types:\n",
      "    ct = ctr\n",
      "    if ct == \"none\": ct = 'C'\n",
      "    long_name[ct] = ct\n",
      "    dtype[ct] = 'cls'"
     ],
     "language": "python",
     "metadata": {},
     "outputs": [],
     "prompt_number": 5
    },
    {
     "cell_type": "code",
     "collapsed": false,
     "input": [
      "def make_mql(line):\n",
      "    (fragstr, text, num) = line.rstrip().split('\\t')\n",
      "    words = [word[::-1] for word in text.split(' ')]\n",
      "    frag = nestedExpr('(',')').parseString(fragstr).asList()\n",
      "#    print(frag[0])\n",
      "    return (fragstr, trans_mql(frag[0], words, 0, False, False), words, num)\n",
      "\n",
      "def trans_word(label, n, words, indent, is_first, is_last):\n",
      "    w = words[int(n)]\n",
      "    sc = 'surface_consonants = \"{}\"'.format(txt_sur[w[::-1]]) if w != '' else ''\n",
      "    pos = 'part_of_speech = {}'.format(label) if label != '' else ''\n",
      "    attlist = [x for x in (sc, pos) if x != '']\n",
      "    atts = ' AND '.join(attlist)\n",
      "    frst = ' FIRST AND LAST ' if is_first and is_last else ' FIRST ' if is_first else ' LAST ' if is_last else ''\n",
      "    return '{ind}[word {}{}]\\n'.format(frst, atts, ind = ' ' * indent)\n",
      "\n",
      "def trans_con(label, extra, children, words, indent, is_first, is_last):\n",
      "    chsep = '{ind}!\\n'.format(ind=' ' * indent)\n",
      "    children_rep = chsep.join(trans_mql(child, words, indent+1, c==0, c==len(children)-1) for (c, child) in enumerate(children))\n",
      "    frst = ' FIRST AND LAST ' if is_first and is_last else ' FIRST ' if is_first else ' LAST ' if is_last else ''\n",
      "    return '{ind}[{}{}{}\\n{}{ind}]\\n'.format(label, frst, extra, children_rep, ind = ' ' * indent)\n",
      "\n",
      "def trans_mql(rep, words, indent, is_first, is_last):\n",
      "    if type(rep) == list:\n",
      "        label = long_name[rep[0]]\n",
      "        dt = dtype[rep[0]]\n",
      "        n = rep[1]\n",
      "        children = rep[1:]\n",
      "        if dt != 'pos' and len(children) == 1 and type(children[0]) != list:\n",
      "            children = []\n",
      "        if dt == 'pos': return trans_word(label, n, words, indent, is_first, is_last)\n",
      "        if dt == 'con': return trans_con(label, '', children, words, indent, is_first, is_last)\n",
      "        if dt == 'phr': return trans_con('phrase', ' phrase_type = {}'.format(label), children, words, indent, is_first, is_last)\n",
      "        if dt == 'cls':\n",
      "            extra = ' clause_constituent_relation= {} '.format(label) if label != 'C' else ''\n",
      "            return trans_con('clause', extra, children, words, indent, is_first, is_last) \n",
      "        return 'XXX'\n",
      "    else: \n",
      "        return trans_word('', rep, words, indent, is_first, is_last)"
     ],
     "language": "python",
     "metadata": {},
     "outputs": [],
     "prompt_number": 6
    },
    {
     "cell_type": "markdown",
     "metadata": {},
     "source": [
      "Make a mapping between the text_plain and the surface_consonants features of words."
     ]
    },
    {
     "cell_type": "code",
     "collapsed": false,
     "input": [
      "sur2txt = collections.defaultdict(lambda: set())\n",
      "txt2sur = collections.defaultdict(lambda: set())\n",
      "nw = 0\n",
      "for n in NN(test=F.otype.v, value='word'):\n",
      "    nw += 1\n",
      "    sur = F.surface_consonants.v(n)\n",
      "    nsur = sur.replace('_', '')\n",
      "    txt = F.text_plain.v(n)\n",
      "    ntxt = txt.replace('\u05be','').replace(' ', '').replace('\u05df', '\u05e0').replace('\u05dd', '\u05de')\n",
      "    sur2txt[nsur].add(ntxt)\n",
      "    txt2sur[ntxt].add(nsur)\n",
      "\n",
      "print(\"NW={}\".format(nw))"
     ],
     "language": "python",
     "metadata": {},
     "outputs": [
      {
       "output_type": "stream",
       "stream": "stdout",
       "text": [
        "NW=426499\n"
       ]
      }
     ],
     "prompt_number": 7
    },
    {
     "cell_type": "code",
     "collapsed": false,
     "input": [
      "ns = 0\n",
      "corr_sur = {}\n",
      "for sur in sorted(sur2txt):\n",
      "    if len(sur2txt[sur]) > 1:\n",
      "        corr_sur[sur] = {x for x in sur2txt[sur] if len(x) == len(sur)}\n",
      "        print(\"{} = {}; corr = {}\".format(sur, ', '.join(sorted(sur2txt[sur])), ', '.join(corr_sur[sur])))\n",
      "        ns += 1\n",
      "nt = 0\n",
      "corr_txt = {}\n",
      "for txt in sorted(txt2sur):\n",
      "    if len(txt2sur[txt]) > 1:\n",
      "        corr_txt[txt] = {x for x in txt2sur[txt] if len(x) == len(txt)}\n",
      "        print(\"{} = {}; corr = {}\".format(txt, ', '.join(sorted(txt2sur[txt])), ', '.join(corr_txt[txt])))\n",
      "        nt += 1\n",
      "print(\"NS={}; NT={}\".format(ns, nt))\n",
      "\n",
      "sur2txt.update(corr_sur)\n",
      "txt2sur.update(corr_txt)\n",
      "del txt2sur['']"
     ],
     "language": "python",
     "metadata": {},
     "outputs": [
      {
       "output_type": "stream",
       "stream": "stdout",
       "text": [
        ">M = \u05d0\u05de, \u05db\u05d9\u05d0\u05de; corr = \u05d0\u05de\n",
        "FJBH = \u05e9\u05c2\u05d9\u05d1\u05d4, \u05e9\u05d9\u05d1\u05d4; corr = \u05e9\u05d9\u05d1\u05d4\n",
        "KJ = \u05d0\u05de\u05e0\u05de, \u05db\u05d9; corr = \u05db\u05d9\n",
        " = ., Q; corr = \n",
        "\u05d0\u05de\u05e0\u05de = >MNM, KJ; corr = >MNM\n",
        "\u05db\u05d9 = KJ, KJ>MNM; corr = KJ\n",
        "\u05db\u05d9\u05d0\u05de = >M, KJ>M; corr = KJ>M\n",
        "NS=3; NT=4"
       ]
      },
      {
       "output_type": "stream",
       "stream": "stdout",
       "text": [
        "\n"
       ]
      }
     ],
     "prompt_number": 8
    },
    {
     "cell_type": "code",
     "collapsed": false,
     "input": [
      "sur_txt = dict([(x[0], list(x[1])[0]) for x in sur2txt.items()])\n",
      "txt_sur = dict([(x[0], list(x[1])[0]) for x in txt2sur.items()])\n",
      "txt_sur[''] = ''"
     ],
     "language": "python",
     "metadata": {},
     "outputs": [],
     "prompt_number": 9
    },
    {
     "cell_type": "code",
     "collapsed": false,
     "input": [
      "lines = '''\n",
      "(C (CP (cj 0)) (NegP (ng 1)) (VP 2))\t  \t634\n",
      "(S (C 0) (Adju (VP (pp 1) (vb 2))))\t \u05dc \u05d0\u05de\u05e8\t631\n",
      "(C (CP (cj 0)) (VP (vb 1)) (PrNP (n 2)) (PP (pp 3) (n 4)))\t  \u05d9\u05d4\u05d5\u05d4 \u05d0\u05dc \t172\n",
      "(C (CP 0) (VP (vb 1)) (NP (SU (n 2)) (SU 3)) (PP (pp 4) (SU (n 5)) (SU 6)))\t      \t101\n",
      "'''.split('\\n')[1:-1]\n",
      "line = lines[-1]\n",
      "\n",
      "mquery = '''[clause\n",
      " [phrase FIRST  phrase_type = CP\n",
      "  [word  FIRST AND LAST part_of_speech = conjunction]\n",
      " ]\n",
      "!\n",
      " [phrase phrase_type = NegP\n",
      "  [word  FIRST AND LAST part_of_speech = negative]\n",
      " ]\n",
      "!\n",
      " [phrase LAST  phrase_type = VP\n",
      " ]\n",
      "]\n",
      "'''\n",
      "\n",
      "mquery = make_mql(line)[0]\n",
      "print(mquery)"
     ],
     "language": "python",
     "metadata": {},
     "outputs": [
      {
       "output_type": "stream",
       "stream": "stdout",
       "text": [
        "(C (CP 0) (VP (vb 1)) (NP (SU (n 2)) (SU 3)) (PP (pp 4) (SU (n 5)) (SU 6)))\n"
       ]
      }
     ],
     "prompt_number": 10
    },
    {
     "cell_type": "code",
     "collapsed": false,
     "input": [
      "Q = MQL(API)"
     ],
     "language": "python",
     "metadata": {},
     "outputs": [],
     "prompt_number": 11
    },
    {
     "cell_type": "code",
     "collapsed": false,
     "input": [
      "limitresults = 5\n",
      "limitinput = 100\n",
      "frag_occs = outfile('frag_occs.txt')\n",
      "frag_file = open(data_path)\n",
      "li = 0\n",
      "for line in frag_file:\n",
      "    li += 1\n",
      "    if li > limitinput: break\n",
      "    (frag, mquery, words, num) = make_mql(line)\n",
      "    sheaf = Q.mql('''\n",
      "select all objects\n",
      "\n",
      "where\n",
      "{}\n",
      "'''.format(mquery))\n",
      "    nr = len(sheaf.data)\n",
      "    msg(\"Executed query ({} of {}) for {}, expected {} found {} results\".format(li, limitinput, frag, num, nr))\n",
      "    frag_occs.write('<<<<{}\\nExpected {} results, found {} results\\n{}\\n====\\n'.format(line, num, nr, mquery))\n",
      "    frag_occs.write(sheaf.compact_results(F.surface_consonants.v, passages=True, sentence=True, limit=limitresults))\n",
      "    frag_occs.write(\"\\n>>>>\\n\\n\")\n",
      "frag_occs.close()\n",
      "frag_file.close()"
     ],
     "language": "python",
     "metadata": {},
     "outputs": [
      {
       "output_type": "stream",
       "stream": "stderr",
       "text": [
        "    15s Executed query (1 of 100) for (SU (n 0)), expected 71398 found 71618 results\n"
       ]
      },
      {
       "output_type": "stream",
       "stream": "stderr",
       "text": [
        "    19s Executed query (2 of 100) for (VP (vb 0)), expected 62793 found 62793 results\n"
       ]
      },
      {
       "output_type": "stream",
       "stream": "stderr",
       "text": [
        "    23s Executed query (3 of 100) for (S (C 0)), expected 60901 found 61890 results\n"
       ]
      },
      {
       "output_type": "stream",
       "stream": "stderr",
       "text": [
        "    25s Executed query (4 of 100) for (cj 0), expected 50782 found 50969 results\n"
       ]
      },
      {
       "output_type": "stream",
       "stream": "stderr",
       "text": [
        "    29s Executed query (5 of 100) for (CP (cj 0)), expected 49317 found 49317 results\n"
       ]
      },
      {
       "output_type": "stream",
       "stream": "stderr",
       "text": [
        "    32s Executed query (6 of 100) for (CP (cj 0)), expected 39091 found 39123 results\n"
       ]
      },
      {
       "output_type": "stream",
       "stream": "stderr",
       "text": [
        "    33s Executed query (7 of 100) for (dt 0), expected 23793 found 23904 results\n"
       ]
      },
      {
       "output_type": "stream",
       "stream": "stderr",
       "text": [
        "    35s Executed query (8 of 100) for (NP (n 0)), expected 18810 found 18810 results\n"
       ]
      },
      {
       "output_type": "stream",
       "stream": "stderr",
       "text": [
        "    37s Executed query (9 of 100) for (PP (pp 0) (n 1)), expected 16960 found 16960 results\n"
       ]
      },
      {
       "output_type": "stream",
       "stream": "stderr",
       "text": [
        "    38s Executed query (10 of 100) for (pp 0), expected 15906 found 15952 results\n"
       ]
      },
      {
       "output_type": "stream",
       "stream": "stderr",
       "text": [
        "    39s Executed query (11 of 100) for (pp 0), expected 14328 found 14388 results\n"
       ]
      },
      {
       "output_type": "stream",
       "stream": "stderr",
       "text": [
        "    41s Executed query (12 of 100) for (PP (pp 0) (SU 1) (SU 2)), expected 12887 found 12893 results\n"
       ]
      },
      {
       "output_type": "stream",
       "stream": "stderr",
       "text": [
        "    42s Executed query (13 of 100) for (NP (SU 0) (SU 1)), expected 12791 found 12787 results\n"
       ]
      },
      {
       "output_type": "stream",
       "stream": "stderr",
       "text": [
        "    44s Executed query (14 of 100) for (PP (pp 0)), expected 11918 found 11918 results\n"
       ]
      },
      {
       "output_type": "stream",
       "stream": "stderr",
       "text": [
        "    46s Executed query (15 of 100) for (NP (SU (n 0)) (SU 1)), expected 11374 found 11381 results\n"
       ]
      },
      {
       "output_type": "stream",
       "stream": "stderr",
       "text": [
        "    49s Executed query (16 of 100) for (PP (pp 0) (SU (n 1)) (SU 2)), expected 11010 found 11009 results\n"
       ]
      },
      {
       "output_type": "stream",
       "stream": "stderr",
       "text": [
        "    51s Executed query (17 of 100) for (SU (dt 0) (n 1)), expected 9663 found 9710 results\n"
       ]
      },
      {
       "output_type": "stream",
       "stream": "stderr",
       "text": [
        "    51s Executed query (18 of 100) for (pp 0), expected 9630 found 9681 results\n"
       ]
      },
      {
       "output_type": "stream",
       "stream": "stderr",
       "text": [
        "    53s Executed query (19 of 100) for (SU (dt 0) (n 1)), expected 8625 found 8710 results\n"
       ]
      },
      {
       "output_type": "stream",
       "stream": "stderr",
       "text": [
        "    54s Executed query (20 of 100) for (SU (SU 0) (SU 1)), expected 8538 found 8574 results\n"
       ]
      },
      {
       "output_type": "stream",
       "stream": "stderr",
       "text": [
        "    55s Executed query (21 of 100) for (PrNP (n 0)), expected 7452 found 7452 results\n"
       ]
      },
      {
       "output_type": "stream",
       "stream": "stderr",
       "text": [
        "    57s Executed query (22 of 100) for (NP (SU 0) (SU (n 1))), expected 7286 found 7284 results\n"
       ]
      },
      {
       "output_type": "stream",
       "stream": "stderr",
       "text": [
        "    59s Executed query (23 of 100) for (SU (SU (n 0)) (SU 1)), expected 7151 found 7185 results\n"
       ]
      },
      {
       "output_type": "stream",
       "stream": "stderr",
       "text": [
        " 1m 00s Executed query (24 of 100) for (n 0), expected 6822 found 6828 results\n"
       ]
      },
      {
       "output_type": "stream",
       "stream": "stderr",
       "text": [
        " 1m 01s Executed query (25 of 100) for (C (CP 0) 1), expected 6819 found 7357 results\n"
       ]
      },
      {
       "output_type": "stream",
       "stream": "stderr",
       "text": [
        " 1m 03s Executed query (26 of 100) for (C (CP 0) (VP 1) (PP 2)), expected 6817 found 8553 results\n"
       ]
      },
      {
       "output_type": "stream",
       "stream": "stderr",
       "text": [
        " 1m 05s Executed query (27 of 100) for (PP (pp 0) (dt 1) (n 2)), expected 6798 found 6798 results\n"
       ]
      },
      {
       "output_type": "stream",
       "stream": "stderr",
       "text": [
        " 1m 08s Executed query (28 of 100) for (C (CP 0) (VP (vb 1)) (PP 2)), expected 6758 found 8412 results\n"
       ]
      },
      {
       "output_type": "stream",
       "stream": "stderr",
       "text": [
        " 1m 09s Executed query (29 of 100) for (NP (SU (n 0)) (SU (n 1))), expected 6715 found 6715 results\n"
       ]
      },
      {
       "output_type": "stream",
       "stream": "stderr",
       "text": [
        " 1m 12s Executed query (30 of 100) for (C (CP (cj 0)) 1), expected 6513 found 6795 results\n"
       ]
      },
      {
       "output_type": "stream",
       "stream": "stderr",
       "text": [
        " 1m 14s Executed query (31 of 100) for (C (CP (cj 0)) (VP 1) (PP 2)), expected 6511 found 7617 results\n"
       ]
      },
      {
       "output_type": "stream",
       "stream": "stderr",
       "text": [
        " 1m 17s Executed query (32 of 100) for (C (CP (cj 0)) (VP (vb 1)) (PP 2)), expected 6455 found 7480 results\n"
       ]
      },
      {
       "output_type": "stream",
       "stream": "stderr",
       "text": [
        " 1m 19s Executed query (33 of 100) for (dt 0), expected 6448 found 30368 results\n"
       ]
      },
      {
       "output_type": "stream",
       "stream": "stderr",
       "text": [
        " 1m 21s Executed query (34 of 100) for (PP (pp 0) (SU 1) (SU (n 2))), expected 6215 found 6224 results\n"
       ]
      },
      {
       "output_type": "stream",
       "stream": "stderr",
       "text": [
        " 1m 21s Executed query (35 of 100) for (pp 0), expected 6207 found 6234 results\n"
       ]
      },
      {
       "output_type": "stream",
       "stream": "stderr",
       "text": [
        " 1m 22s Executed query (36 of 100) for (NegP (ng 0)), expected 6029 found 6029 results\n"
       ]
      },
      {
       "output_type": "stream",
       "stream": "stderr",
       "text": [
        " 1m 24s Executed query (37 of 100) for (VP (pp 0) (vb 1)), expected 5954 found 5954 results\n"
       ]
      },
      {
       "output_type": "stream",
       "stream": "stderr",
       "text": [
        " 1m 26s Executed query (38 of 100) for (C (CP (cj 0)) 1), expected 5933 found 5346 results\n"
       ]
      },
      {
       "output_type": "stream",
       "stream": "stderr",
       "text": [
        " 1m 28s Executed query (39 of 100) for (C (CP (cj 0)) (VP 1) (PP 2)), expected 5931 found 6148 results\n"
       ]
      },
      {
       "output_type": "stream",
       "stream": "stderr",
       "text": [
        " 1m 31s Executed query (40 of 100) for (PP (pp 0) (SU (n 1)) (SU (n 2))), expected 5926 found 5926 results\n"
       ]
      },
      {
       "output_type": "stream",
       "stream": "stderr",
       "text": [
        " 1m 33s Executed query (41 of 100) for (C (CP (cj 0)) (VP (vb 1)) (PP 2)), expected 5877 found 6016 results\n"
       ]
      },
      {
       "output_type": "stream",
       "stream": "stderr",
       "text": [
        " 1m 35s Executed query (42 of 100) for (S (C (CP 0) 1)), expected 5830 found 5190 results\n"
       ]
      },
      {
       "output_type": "stream",
       "stream": "stderr",
       "text": [
        " 1m 37s Executed query (43 of 100) for (S (C (CP 0) (VP 1) (PP 2))), expected 5829 found 5859 results\n"
       ]
      },
      {
       "output_type": "stream",
       "stream": "stderr",
       "text": [
        " 1m 40s Executed query (44 of 100) for (S (C (CP 0) (VP (vb 1)) (PP 2))), expected 5773 found 5803 results\n"
       ]
      },
      {
       "output_type": "stream",
       "stream": "stderr",
       "text": [
        " 1m 43s Executed query (45 of 100) for (S (C (CP (cj 0)) 1)), expected 5556 found 4938 results\n"
       ]
      },
      {
       "output_type": "stream",
       "stream": "stderr",
       "text": [
        " 1m 45s Executed query (46 of 100) for (S (C (CP (cj 0)) (VP 1) (PP 2))), expected 5555 found 5585 results\n"
       ]
      },
      {
       "output_type": "stream",
       "stream": "stderr",
       "text": [
        " 1m 49s Executed query (47 of 100) for (S (C (CP (cj 0)) (VP (vb 1)) (PP 2))), expected 5502 found 5532 results\n"
       ]
      },
      {
       "output_type": "stream",
       "stream": "stderr",
       "text": [
        " 1m 50s Executed query (48 of 100) for (cj 0), expected 5471 found 5499 results\n"
       ]
      },
      {
       "output_type": "stream",
       "stream": "stderr",
       "text": [
        " 1m 52s Executed query (49 of 100) for (SU (SU 0) (SU (n 1))), expected 5376 found 5408 results\n"
       ]
      },
      {
       "output_type": "stream",
       "stream": "stderr",
       "text": [
        " 1m 52s Executed query (50 of 100) for (n 0), expected 5266 found 5271 results\n"
       ]
      },
      {
       "output_type": "stream",
       "stream": "stderr",
       "text": [
        " 1m 53s Executed query (51 of 100) for (C (CP 0) (VP 1)), expected 5254 found 6116 results\n"
       ]
      },
      {
       "output_type": "stream",
       "stream": "stderr",
       "text": [
        " 1m 55s Executed query (52 of 100) for (C (CP 0) (VP (vb 1))), expected 5209 found 5999 results\n"
       ]
      },
      {
       "output_type": "stream",
       "stream": "stderr",
       "text": [
        " 1m 57s Executed query (53 of 100) for (S (C (CP (cj 0)) 1)), expected 5052 found 4342 results\n"
       ]
      },
      {
       "output_type": "stream",
       "stream": "stderr",
       "text": [
        " 1m 58s Executed query (54 of 100) for (ng 0), expected 5052 found 5057 results\n"
       ]
      },
      {
       "output_type": "stream",
       "stream": "stderr",
       "text": [
        " 2m 00s Executed query (55 of 100) for (S (C (CP (cj 0)) (VP 1) (PP 2))), expected 5051 found 5081 results\n"
       ]
      },
      {
       "output_type": "stream",
       "stream": "stderr",
       "text": [
        " 2m 01s Executed query (56 of 100) for (NegP (ng 0)), expected 5036 found 5041 results\n"
       ]
      },
      {
       "output_type": "stream",
       "stream": "stderr",
       "text": [
        " 2m 03s Executed query (57 of 100) for (C (CP (cj 0)) (VP 1)), expected 5006 found 5634 results\n"
       ]
      },
      {
       "output_type": "stream",
       "stream": "stderr",
       "text": [
        " 2m 06s Executed query (58 of 100) for (S (C (CP (cj 0)) (VP (vb 1)) (PP 2))), expected 4999 found 5029 results\n"
       ]
      },
      {
       "output_type": "stream",
       "stream": "stderr",
       "text": [
        " 2m 08s Executed query (59 of 100) for (C (CP (cj 0)) (VP (vb 1))), expected 4962 found 5522 results\n"
       ]
      },
      {
       "output_type": "stream",
       "stream": "stderr",
       "text": [
        " 2m 10s Executed query (60 of 100) for (SU (SU (n 0)) (SU (n 1))), expected 4769 found 4788 results\n"
       ]
      },
      {
       "output_type": "stream",
       "stream": "stderr",
       "text": [
        " 2m 11s Executed query (61 of 100) for (SU (n 0)), expected 4566 found 4569 results\n"
       ]
      },
      {
       "output_type": "stream",
       "stream": "stderr",
       "text": [
        " 2m 13s Executed query (62 of 100) for (VP (pp 0) (vb 1)), expected 4544 found 4560 results\n"
       ]
      },
      {
       "output_type": "stream",
       "stream": "stderr",
       "text": [
        " 2m 14s Executed query (63 of 100) for (CP (cj 0)), expected 4520 found 4544 results\n"
       ]
      },
      {
       "output_type": "stream",
       "stream": "stderr",
       "text": [
        " 2m 14s Executed query (64 of 100) for (cj 0), expected 4480 found 4479 results\n"
       ]
      },
      {
       "output_type": "stream",
       "stream": "stderr",
       "text": [
        " 2m 16s Executed query (65 of 100) for (C (CP (cj 0)) (VP 1)), expected 4479 found 4595 results\n"
       ]
      },
      {
       "output_type": "stream",
       "stream": "stderr",
       "text": [
        " 2m 17s Executed query (66 of 100) for (S (C (CP 0) (VP 1))), expected 4467 found 4467 results\n"
       ]
      },
      {
       "output_type": "stream",
       "stream": "stderr",
       "text": [
        " 2m 19s Executed query (67 of 100) for (C (CP (cj 0)) (VP (vb 1))), expected 4437 found 4492 results\n"
       ]
      },
      {
       "output_type": "stream",
       "stream": "stderr",
       "text": [
        " 2m 21s Executed query (68 of 100) for (PP (pp 0) (n 1)), expected 4431 found 4440 results\n"
       ]
      },
      {
       "output_type": "stream",
       "stream": "stderr",
       "text": [
        " 2m 23s Executed query (69 of 100) for (S (C (CP 0) (VP (vb 1)))), expected 4424 found 4422 results\n"
       ]
      },
      {
       "output_type": "stream",
       "stream": "stderr",
       "text": [
        " 2m 23s Executed query (70 of 100) for (pp 0), expected 4265 found 4277 results\n"
       ]
      },
      {
       "output_type": "stream",
       "stream": "stderr",
       "text": [
        " 2m 25s Executed query (71 of 100) for (S (C (CP (cj 0)) (VP 1))), expected 4256 found 4258 results\n"
       ]
      },
      {
       "output_type": "stream",
       "stream": "stderr",
       "text": [
        " 2m 26s Executed query (72 of 100) for (CP (cj 0)), expected 4233 found 4232 results\n"
       ]
      },
      {
       "output_type": "stream",
       "stream": "stderr",
       "text": [
        " 2m 27s Executed query (73 of 100) for (PP (pp 0) (n 1)), expected 4221 found 4227 results\n"
       ]
      },
      {
       "output_type": "stream",
       "stream": "stderr",
       "text": [
        " 2m 30s Executed query (74 of 100) for (S (C (CP (cj 0)) (VP (vb 1)))), expected 4213 found 4213 results\n"
       ]
      },
      {
       "output_type": "stream",
       "stream": "stderr",
       "text": [
        " 2m 30s Executed query (75 of 100) for (PPrP (pr 0)), expected 4077 found 4077 results\n"
       ]
      },
      {
       "output_type": "stream",
       "stream": "stderr",
       "text": [
        " 2m 31s Executed query (76 of 100) for (pp 0), expected 3864 found 3877 results\n"
       ]
      },
      {
       "output_type": "stream",
       "stream": "stderr",
       "text": [
        " 2m 32s Executed query (77 of 100) for (PP (pp 0) (SU 1) (SU 2)), expected 3861 found 3877 results\n"
       ]
      },
      {
       "output_type": "stream",
       "stream": "stderr",
       "text": [
        " 2m 34s Executed query (78 of 100) for (S (C (CP (cj 0)) (VP 1))), expected 3803 found 3805 results\n"
       ]
      },
      {
       "output_type": "stream",
       "stream": "stderr",
       "text": [
        " 2m 36s Executed query (79 of 100) for (PP (pp 0) (dt 1) (n 2)), expected 3786 found 6798 results\n"
       ]
      },
      {
       "output_type": "stream",
       "stream": "stderr",
       "text": [
        " 2m 38s Executed query (80 of 100) for (S (C (CP (cj 0)) (VP (vb 1)))), expected 3762 found 3762 results\n"
       ]
      },
      {
       "output_type": "stream",
       "stream": "stderr",
       "text": [
        " 2m 40s Executed query (81 of 100) for (NP (dt 0) (n 1)), expected 3592 found 3592 results\n"
       ]
      },
      {
       "output_type": "stream",
       "stream": "stderr",
       "text": [
        " 2m 41s Executed query (82 of 100) for (NP (dt 0) (n 1)), expected 3589 found 3591 results\n"
       ]
      },
      {
       "output_type": "stream",
       "stream": "stderr",
       "text": [
        " 2m 42s Executed query (83 of 100) for (SU (aj 0)), expected 3275 found 3279 results\n"
       ]
      },
      {
       "output_type": "stream",
       "stream": "stderr",
       "text": [
        " 2m 42s Executed query (84 of 100) for (AdvP (av 0)), expected 3198 found 3198 results\n"
       ]
      },
      {
       "output_type": "stream",
       "stream": "stderr",
       "text": [
        " 2m 44s Executed query (85 of 100) for (PP (pp 0) (SU (n 1)) (SU 2)), expected 3135 found 3147 results\n"
       ]
      },
      {
       "output_type": "stream",
       "stream": "stderr",
       "text": [
        " 2m 45s Executed query (86 of 100) for (PP (pp 0) (dt 1) (n 2)), expected 3003 found 3007 results\n"
       ]
      },
      {
       "output_type": "stream",
       "stream": "stderr",
       "text": [
        " 2m 47s Executed query (87 of 100) for (C (CP 0) (VP 1) (NP 2)), expected 2985 found 3368 results\n"
       ]
      },
      {
       "output_type": "stream",
       "stream": "stderr",
       "text": [
        " 2m 48s Executed query (88 of 100) for (SU (SU 0) (cj 1) (SU 2)), expected 2943 found 2927 results\n"
       ]
      },
      {
       "output_type": "stream",
       "stream": "stderr",
       "text": [
        " 2m 50s Executed query (89 of 100) for (C (CP 0) (VP (vb 1)) (NP 2)), expected 2942 found 3284 results\n"
       ]
      },
      {
       "output_type": "stream",
       "stream": "stderr",
       "text": [
        " 2m 50s Executed query (90 of 100) for (pp 0), expected 2937 found 2941 results\n"
       ]
      },
      {
       "output_type": "stream",
       "stream": "stderr",
       "text": [
        " 2m 52s Executed query (91 of 100) for (SU (SU 0) (cj 1) (SU 2)), expected 2831 found 2863 results\n"
       ]
      },
      {
       "output_type": "stream",
       "stream": "stderr",
       "text": [
        " 2m 53s Executed query (92 of 100) for (C (CP (cj 0)) (VP 1) (NP 2)), expected 2828 found 3129 results\n"
       ]
      },
      {
       "output_type": "stream",
       "stream": "stderr",
       "text": [
        " 2m 56s Executed query (93 of 100) for (C (CP (cj 0)) (VP (vb 1)) (NP 2)), expected 2787 found 3048 results\n"
       ]
      },
      {
       "output_type": "stream",
       "stream": "stderr",
       "text": [
        " 2m 57s Executed query (94 of 100) for (SU (n 0)), expected 2682 found 2685 results\n"
       ]
      },
      {
       "output_type": "stream",
       "stream": "stderr",
       "text": [
        " 2m 58s Executed query (95 of 100) for (SU (pp 0) (n 1)), expected 2608 found 2654 results\n"
       ]
      },
      {
       "output_type": "stream",
       "stream": "stderr",
       "text": [
        " 2m 59s Executed query (96 of 100) for (PP (pp 0) (n 1)), expected 2581 found 2585 results\n"
       ]
      },
      {
       "output_type": "stream",
       "stream": "stderr",
       "text": [
        " 3m 00s Executed query (97 of 100) for (C (NP 0)), expected 2577 found 2702 results\n"
       ]
      },
      {
       "output_type": "stream",
       "stream": "stderr",
       "text": [
        " 3m 01s Executed query (98 of 100) for (S (C (CP 0) (VP 1) (NP 2))), expected 2560 found 2582 results\n"
       ]
      },
      {
       "output_type": "stream",
       "stream": "stderr",
       "text": [
        " 3m 03s Executed query (99 of 100) for (S (C (CP 0) (VP (vb 1)) (NP 2))), expected 2517 found 2537 results\n"
       ]
      },
      {
       "output_type": "stream",
       "stream": "stderr",
       "text": [
        " 3m 04s Executed query (100 of 100) for (n 0), expected 2510 found 2513 results\n"
       ]
      }
     ],
     "prompt_number": 12
    },
    {
     "cell_type": "code",
     "collapsed": false,
     "input": [],
     "language": "python",
     "metadata": {},
     "outputs": [],
     "prompt_number": 12
    }
   ],
   "metadata": {}
  }
 ]
}