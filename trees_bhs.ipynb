{
 "metadata": {
  "name": "",
  "signature": "sha256:4d7575915777b5d93b386ec21f0a04f17f2f8851698e111e9db8f42ae669dfab"
 },
 "nbformat": 3,
 "nbformat_minor": 0,
 "worksheets": [
  {
   "cells": [
    {
     "cell_type": "markdown",
     "metadata": {},
     "source": [
      "<a href=\"http://laf-fabric.readthedocs.org/en/latest/\" target=\"_blank\"><img align=\"left\" src=\"images/laf-fabric-xsmall.png\"/></a>\n",
      "<a href=\"http://www.godgeleerdheid.vu.nl/etcbc\" target=\"_blank\"><img align=\"left\" src=\"images/VU-ETCBC-xsmall.png\"/></a>\n",
      "<a href=\"http://tla.mpi.nl\" target=\"_blank\"><img align=\"right\" src=\"images/TLA-xsmall.png\"/></a>\n",
      "<a href=\"http://www.dans.knaw.nl\" target=\"_blank\"><img align=\"right\"src=\"images/DANS-xsmall.png\"/></a>"
     ]
    },
    {
     "cell_type": "heading",
     "level": 1,
     "metadata": {},
     "source": [
      "Trees - for BHS data (Hebrew)"
     ]
    },
    {
     "cell_type": "heading",
     "level": 1,
     "metadata": {},
     "source": [
      "Starting LAF-Fabric"
     ]
    },
    {
     "cell_type": "code",
     "collapsed": false,
     "input": [
      "import sys\n",
      "import collections\n",
      "import laf\n",
      "from laf.fabric import LafFabric\n",
      "from etcbc.preprocess import prepare\n",
      "from etcbc.lib import Transcription\n",
      "from etcbc.trees import Tree\n",
      "fabric = LafFabric()"
     ],
     "language": "python",
     "metadata": {},
     "outputs": [
      {
       "output_type": "stream",
       "stream": "stderr",
       "text": [
        "  0.00s This is LAF-Fabric 4.2.4\n",
        "http://laf-fabric.readthedocs.org/texts/API-reference.html\n"
       ]
      }
     ],
     "prompt_number": 1
    },
    {
     "cell_type": "heading",
     "level": 1,
     "metadata": {},
     "source": [
      "Declaring the features"
     ]
    },
    {
     "cell_type": "code",
     "collapsed": false,
     "input": [
      "tr = Transcription()\n",
      "API = fabric.load('bhs3', '--', 'trees', {\n",
      "    \"xmlids\": {\"node\": False, \"edge\": False},\n",
      "    \"features\": ('''\n",
      "        otype monads\n",
      "        surface_consonants\n",
      "        part_of_speech\n",
      "        clause_constituent_relation phrase_type\n",
      "        verse_label\n",
      "    ''','''\n",
      "        mother.\n",
      "    '''),\n",
      "    \"prepare\": prepare,\n",
      "}, verbose='DETAIL')\n",
      "exec(fabric.localnames.format(var='fabric'))"
     ],
     "language": "python",
     "metadata": {},
     "outputs": [
      {
       "output_type": "stream",
       "stream": "stderr",
       "text": [
        "  0.00s LOADING API: please wait ... \n"
       ]
      },
      {
       "output_type": "stream",
       "stream": "stderr",
       "text": [
        "  0.00s DETAIL: COMPILING m: UP TO DATE\n"
       ]
      },
      {
       "output_type": "stream",
       "stream": "stderr",
       "text": [
        "  0.00s INFO: DATA COMPILED AT: 2014-04-18T18-24-37\n"
       ]
      },
      {
       "output_type": "stream",
       "stream": "stderr",
       "text": [
        "  0.00s DETAIL: COMPILING a: UP TO DATE\n"
       ]
      },
      {
       "output_type": "stream",
       "stream": "stderr",
       "text": [
        "  0.01s DETAIL: load main: G.node_anchor_min\n"
       ]
      },
      {
       "output_type": "stream",
       "stream": "stderr",
       "text": [
        "  0.08s DETAIL: load main: G.node_anchor_max\n"
       ]
      },
      {
       "output_type": "stream",
       "stream": "stderr",
       "text": [
        "  0.13s DETAIL: load main: G.node_sort\n"
       ]
      },
      {
       "output_type": "stream",
       "stream": "stderr",
       "text": [
        "  0.19s DETAIL: load main: G.node_sort_inv\n"
       ]
      },
      {
       "output_type": "stream",
       "stream": "stderr",
       "text": [
        "  0.63s DETAIL: load main: G.edges_from\n"
       ]
      },
      {
       "output_type": "stream",
       "stream": "stderr",
       "text": [
        "  0.67s DETAIL: load main: G.edges_to\n"
       ]
      },
      {
       "output_type": "stream",
       "stream": "stderr",
       "text": [
        "  0.72s DETAIL: load main: F.shebanq_ft_surface_consonants [node] \n"
       ]
      },
      {
       "output_type": "stream",
       "stream": "stderr",
       "text": [
        "  0.90s DETAIL: load main: F.shebanq_sft_verse_label [node] \n"
       ]
      },
      {
       "output_type": "stream",
       "stream": "stderr",
       "text": [
        "  0.91s DETAIL: load main: F.shebanq_ft_clause_constituent_relation [node] \n"
       ]
      },
      {
       "output_type": "stream",
       "stream": "stderr",
       "text": [
        "  0.96s DETAIL: load main: F.shebanq_ft_phrase_type [node] \n"
       ]
      },
      {
       "output_type": "stream",
       "stream": "stderr",
       "text": [
        "  1.10s DETAIL: load main: F.shebanq_db_monads [node] \n"
       ]
      },
      {
       "output_type": "stream",
       "stream": "stderr",
       "text": [
        "  1.86s DETAIL: load main: F.shebanq_db_otype [node] \n"
       ]
      },
      {
       "output_type": "stream",
       "stream": "stderr",
       "text": [
        "  2.56s DETAIL: load main: F.shebanq_ft_part_of_speech [node] \n"
       ]
      },
      {
       "output_type": "stream",
       "stream": "stderr",
       "text": [
        "  2.76s DETAIL: load main: F.shebanq_mother_ [e] \n"
       ]
      },
      {
       "output_type": "stream",
       "stream": "stderr",
       "text": [
        "  2.80s DETAIL: load main: C.shebanq_mother_ -> \n"
       ]
      },
      {
       "output_type": "stream",
       "stream": "stderr",
       "text": [
        "  2.94s DETAIL: load main: C.shebanq_mother_ <- \n"
       ]
      },
      {
       "output_type": "stream",
       "stream": "stderr",
       "text": [
        "  3.06s LOGFILE=/Users/dirk/laf-fabric-data/bhs3/tasks/trees/__log__trees.txt\n"
       ]
      },
      {
       "output_type": "stream",
       "stream": "stderr",
       "text": [
        "  3.06s DETAIL: prep prep: G.node_sort\n"
       ]
      },
      {
       "output_type": "stream",
       "stream": "stderr",
       "text": [
        "  3.12s DETAIL: prep prep: G.node_sort_inv\n"
       ]
      },
      {
       "output_type": "stream",
       "stream": "stderr",
       "text": [
        "  3.62s INFO: DATA LOADED FROM SOURCE bhs3 AND ANNOX -- FOR TASK trees\n"
       ]
      }
     ],
     "prompt_number": 2
    },
    {
     "cell_type": "code",
     "collapsed": false,
     "input": [
      "tree = Tree(API, ['sentence', 'clause', 'phrase', 'subphrase', 'word'])\n",
      "(parent, children) = tree.embedding()"
     ],
     "language": "python",
     "metadata": {},
     "outputs": [
      {
       "output_type": "stream",
       "stream": "stderr",
       "text": [
        "  0.00s LOADING API with EXTRAs: please wait ... \n"
       ]
      },
      {
       "output_type": "stream",
       "stream": "stderr",
       "text": [
        "  0.00s DETAIL: COMPILING m: UP TO DATE\n"
       ]
      },
      {
       "output_type": "stream",
       "stream": "stderr",
       "text": [
        "  0.00s INFO: DATA COMPILED AT: 2014-04-18T18-24-37\n"
       ]
      },
      {
       "output_type": "stream",
       "stream": "stderr",
       "text": [
        "  0.00s DETAIL: COMPILING a: UP TO DATE\n"
       ]
      },
      {
       "output_type": "stream",
       "stream": "stderr",
       "text": [
        "  0.01s DETAIL: keep main: G.node_anchor_min\n"
       ]
      },
      {
       "output_type": "stream",
       "stream": "stderr",
       "text": [
        "  0.01s DETAIL: keep main: G.node_anchor_max\n"
       ]
      },
      {
       "output_type": "stream",
       "stream": "stderr",
       "text": [
        "  0.01s DETAIL: keep main: G.node_sort\n"
       ]
      },
      {
       "output_type": "stream",
       "stream": "stderr",
       "text": [
        "  0.01s DETAIL: keep main: G.node_sort_inv\n"
       ]
      },
      {
       "output_type": "stream",
       "stream": "stderr",
       "text": [
        "  0.01s DETAIL: keep main: G.edges_from\n"
       ]
      },
      {
       "output_type": "stream",
       "stream": "stderr",
       "text": [
        "  0.01s DETAIL: keep main: G.edges_to\n"
       ]
      },
      {
       "output_type": "stream",
       "stream": "stderr",
       "text": [
        "  0.01s DETAIL: keep main: F.shebanq_db_monads [node] \n"
       ]
      },
      {
       "output_type": "stream",
       "stream": "stderr",
       "text": [
        "  0.01s DETAIL: keep main: F.shebanq_db_otype [node] \n"
       ]
      },
      {
       "output_type": "stream",
       "stream": "stderr",
       "text": [
        "  0.01s LOGFILE=/Users/dirk/laf-fabric-data/bhs3/tasks/trees/__log__trees.txt\n"
       ]
      },
      {
       "output_type": "stream",
       "stream": "stderr",
       "text": [
        "  0.01s INFO: DATA LOADED FROM SOURCE bhs3 AND ANNOX -- FOR TASK trees\n"
       ]
      },
      {
       "output_type": "stream",
       "stream": "stderr",
       "text": [
        "  0.00s Start computing parent and children relations for objects of type sentence, clause, phrase, subphrase, word\n"
       ]
      },
      {
       "output_type": "stream",
       "stream": "stderr",
       "text": [
        "  1.55s 100000 nodes\n"
       ]
      },
      {
       "output_type": "stream",
       "stream": "stderr",
       "text": [
        "  2.98s 200000 nodes\n"
       ]
      },
      {
       "output_type": "stream",
       "stream": "stderr",
       "text": [
        "  4.36s 300000 nodes\n"
       ]
      },
      {
       "output_type": "stream",
       "stream": "stderr",
       "text": [
        "  6.01s 400000 nodes\n"
       ]
      },
      {
       "output_type": "stream",
       "stream": "stderr",
       "text": [
        "  7.53s 500000 nodes\n"
       ]
      },
      {
       "output_type": "stream",
       "stream": "stderr",
       "text": [
        "  9.23s 600000 nodes\n"
       ]
      },
      {
       "output_type": "stream",
       "stream": "stderr",
       "text": [
        "    11s 700000 nodes\n"
       ]
      },
      {
       "output_type": "stream",
       "stream": "stderr",
       "text": [
        "    12s 800000 nodes\n"
       ]
      },
      {
       "output_type": "stream",
       "stream": "stderr",
       "text": [
        "    14s 900000 nodes\n"
       ]
      },
      {
       "output_type": "stream",
       "stream": "stderr",
       "text": [
        "    14s 952885 nodes: 881531 have parents and 526386 have children\n"
       ]
      }
     ],
     "prompt_number": 3
    },
    {
     "cell_type": "code",
     "collapsed": true,
     "input": [
      "type_info = (\n",
      "    (\"word\", ''),\n",
      "    (\"subphrase\", 'U'),\n",
      "    (\"phrase\", 'P'),\n",
      "    (\"clause\", 'C'),\n",
      "    (\"sentence\", 'S'),\n",
      ")\n",
      "\n",
      "type_table = dict(t for t in type_info)\n",
      "type_order = [t[0] for t in type_info]\n",
      "\n",
      "pos_table = {\n",
      " 'adjective':     'aj',\n",
      " 'adverb':        'av',\n",
      " 'article':       'dt',\n",
      " 'conjunction':   'cj',\n",
      " 'interjection':  'ij',\n",
      " 'interrogative': 'ir',\n",
      " 'negative':      'ng',\n",
      " 'noun':          'n',\n",
      " 'preposition':   'pp',\n",
      " 'pronoun':       'pr',\n",
      " 'verb':          'vb',\n",
      "}\n",
      "\n",
      "ccr_info = {\n",
      "    'Adju': ('c', 'Cadju'),\n",
      "    'Attr': ('p', 'Cattr'),\n",
      "    'Cmpl': ('c', 'Ccmpl'),\n",
      "    'CoVo': ('n', 'Ccovo'),\n",
      "    'Coor': ('x', 'Ccoor'),\n",
      "    'Objc': ('c', 'Cobjc'),\n",
      "    'Pred': ('c', 'Cpred'),\n",
      "    'Resu': ('n', 'Cresu'),\n",
      "    'RgRc': ('p', 'Crgrc'),\n",
      "    'Subj': ('c', 'Csubj'),\n",
      "    'none': ('n', 'C'),\n",
      "}\n",
      "\n",
      "crr_table = dict((c[0],c[1][1]) for c in ccr_info.items())\n",
      "crr_class = dict((c[0],c[1][0]) for c in ccr_info.items())"
     ],
     "language": "python",
     "metadata": {},
     "outputs": [],
     "prompt_number": 4
    },
    {
     "cell_type": "heading",
     "level": 1,
     "metadata": {},
     "source": [
      "Checking for sanity"
     ]
    },
    {
     "cell_type": "markdown",
     "metadata": {},
     "source": [
      "1. How many sentence nodes? \n",
      "1. Does any sentence have a parent? \n",
      "1. Is every top node a sentence?\n",
      "1. Do you reach all sentences if you go up from words?\n",
      "1. Do you reach all words if you go down from sentences? \n",
      "1. From what object types to what object types does the parent relationship link?"
     ]
    },
    {
     "cell_type": "code",
     "collapsed": false,
     "input": [
      "#1\n",
      "print(len(set(NN(test=F.otype.v, value='sentence'))))"
     ],
     "language": "python",
     "metadata": {},
     "outputs": [
      {
       "output_type": "stream",
       "stream": "stdout",
       "text": [
        "71354\n"
       ]
      }
     ],
     "prompt_number": 5
    },
    {
     "cell_type": "code",
     "collapsed": false,
     "input": [
      "#2\n",
      "exceptions = set()\n",
      "for node in NN(test=F.otype.v, value='sentence'):\n",
      "    if node in parent: exceptions.add(node)\n",
      "if len(exceptions) == 0:\n",
      "    print(\"No sentence has a parent\")\n",
      "else:\n",
      "    print(\"{} sentences have a parent:\".format(len(exceptions)))\n",
      "    for n in sorted(exceptions):\n",
      "        p = parent[n]\n",
      "        print(\"{} {} [{}] has {} parent {} [{}]\".format(\n",
      "            'sentence', n, F.monads.v(n), \n",
      "            F.otype.v(p), p, F.monads.v(p)\n",
      "        ))"
     ],
     "language": "python",
     "metadata": {},
     "outputs": [
      {
       "output_type": "stream",
       "stream": "stdout",
       "text": [
        "No sentence has a parent\n"
       ]
      }
     ],
     "prompt_number": 6
    },
    {
     "cell_type": "code",
     "collapsed": false,
     "input": [
      "#3 (again a check on #1)\n",
      "exceptions = collections.defaultdict(lambda: [])\n",
      "sn = 0\n",
      "for node in NN():\n",
      "    otype = F.otype.v(node)\n",
      "    if otype not in type_table: continue\n",
      "    if otype == 'sentence': sn += 1\n",
      "    if node not in parent and otype != 'sentence': \n",
      "        exceptions[otype].append(node)\n",
      "if len(exceptions) == 0:\n",
      "    print(\"All top nodes are sentences\")\n",
      "else:\n",
      "    print(\"Top nodes which are not sentences:\")\n",
      "    for t in sorted(exceptions): print(\"{}: {}x\".format(t, len(exceptions[t])))\n",
      "print(\"{} sentences seen\".format(sn))"
     ],
     "language": "python",
     "metadata": {},
     "outputs": [
      {
       "output_type": "stream",
       "stream": "stdout",
       "text": [
        "All top nodes are sentences\n",
        "71354 sentences seen\n"
       ]
      }
     ],
     "prompt_number": 7
    },
    {
     "cell_type": "code",
     "collapsed": false,
     "input": [
      "#4, 5\n",
      "def get_top(kind, rel, multi):\n",
      "    seen = set()\n",
      "    top_nodes = set()\n",
      "    start_nodes = set(NN(test=F.otype.v, value=kind))\n",
      "    next_nodes = start_nodes\n",
      "    print(\"Start with {} {} nodes\".format(len(start_nodes), kind))\n",
      "    while len(next_nodes):\n",
      "        new_next_nodes = set()\n",
      "        for node in next_nodes:\n",
      "            if node in seen: continue\n",
      "            seen.add(node)\n",
      "            if node in rel: \n",
      "                if multi:\n",
      "                    for c in rel[node]: new_next_nodes.add(c)\n",
      "                else:\n",
      "                    new_next_nodes.add(rel[node])\n",
      "            else: top_nodes.add(node)\n",
      "        next_nodes = new_next_nodes\n",
      "    top_types = collections.defaultdict(lambda: 0)\n",
      "    for t in top_nodes:\n",
      "        top_types[F.otype.v(t)] += 1\n",
      "    for t in top_types:\n",
      "        print(\"{}: {} topnodes\".format(t, top_types[t]))\n",
      "\n",
      "get_top('word', parent, False)\n",
      "get_top('sentence', children, True)"
     ],
     "language": "python",
     "metadata": {},
     "outputs": [
      {
       "output_type": "stream",
       "stream": "stdout",
       "text": [
        "Start with 426499 word nodes\n",
        "sentence: 71354 topnodes"
       ]
      },
      {
       "output_type": "stream",
       "stream": "stdout",
       "text": [
        "\n",
        "Start with 71354 sentence nodes"
       ]
      },
      {
       "output_type": "stream",
       "stream": "stdout",
       "text": [
        "\n",
        "word: 426499 topnodes"
       ]
      },
      {
       "output_type": "stream",
       "stream": "stdout",
       "text": [
        "\n"
       ]
      }
     ],
     "prompt_number": 8
    },
    {
     "cell_type": "code",
     "collapsed": false,
     "input": [
      "#6\n",
      "linked_types = collections.defaultdict(lambda: 0)\n",
      "for (c, p) in parent.items():\n",
      "    linked_types[(F.otype.v(c), F.otype.v(p))] += 1\n",
      "for lt in sorted(linked_types):\n",
      "    print(\"{}: {}x\".format(lt, linked_types[lt]))"
     ],
     "language": "python",
     "metadata": {},
     "outputs": [
      {
       "output_type": "stream",
       "stream": "stdout",
       "text": [
        "('clause', 'sentence'): 88387x\n",
        "('phrase', 'clause'): 257109x\n",
        "('subphrase', 'phrase'): 81475x\n",
        "('subphrase', 'subphrase'): 28061x\n",
        "('word', 'phrase'): 306319x\n",
        "('word', 'subphrase'): 120180x\n"
       ]
      }
     ],
     "prompt_number": 9
    },
    {
     "cell_type": "code",
     "collapsed": false,
     "input": [
      "trees = outfile(\"trees.txt\")\n",
      "\n",
      "nodes_seen = set()\n",
      "words = []\n",
      "sequential = []\n",
      "\n",
      "def write_tree(node):\n",
      "    if node in nodes_seen: return\n",
      "    nodes_seen.add(node)\n",
      "    otype = F.otype.v(node)\n",
      "    tag = type_table[otype]\n",
      "    is_word = False\n",
      "    if tag == '': is_word = True\n",
      "    elif tag == 'P':\n",
      "        tag = F.phrase_type.v(node)\n",
      "    elif tag == 'C':\n",
      "        tag = crr_table[F.clause_constituent_relation.v(node)]\n",
      "    if is_word:\n",
      "        text = tr.to_hebrew(F.surface_consonants.v(node))\n",
      "        pos = pos_table[F.part_of_speech.v(node)]\n",
      "        monad = int(F.monads.v(node))\n",
      "        sequential.append((\"W\", len(words)))\n",
      "        words.append((monad, text, pos))\n",
      "    else: sequential.append((\"O\", tag))\n",
      "    for ch in children[node]: write_tree(ch)\n",
      "    if not is_word: sequential.append((\"C\", tag))\n",
      "\n",
      "def do_sequential():\n",
      "    word_perm = {}\n",
      "    new_words = sorted(enumerate(words), key=lambda x: x[1][0])\n",
      "    word_reps = []\n",
      "    for (nn, (on, (monad, text, pos))) in enumerate(new_words):\n",
      "        word_perm[on] = nn\n",
      "        word_reps.append(text)\n",
      "    word_rep = ' '.join(word_reps)\n",
      "                    \n",
      "    for (code, info) in sequential:\n",
      "        if code == 'O' or code == 'C':\n",
      "            if code == 'O': trees.write('({}'.format(info))\n",
      "            else: trees.write(')')\n",
      "        elif code == 'W':\n",
      "            nn = word_perm[info]\n",
      "            pos = words[info][2]\n",
      "            trees.write('({} {})'.format(pos, nn))\n",
      "    trees.write(\"\\t{}\".format(word_rep))\n",
      "    \n",
      "msg(\"Writing trees ...\")\n",
      "verse_label = ''\n",
      "\n",
      "s = 0\n",
      "chunk = 10000\n",
      "sc = 0\n",
      "\n",
      "msg(\"making nodeset\")\n",
      "msg(\"processing topnodes\")\n",
      "for node in NN():\n",
      "    otype = F.otype.v(node)\n",
      "    if  otype == 'verse':\n",
      "        verse_label = F.verse_label.v(node)\n",
      "        continue\n",
      "    if otype not in type_table or node in parent: continue\n",
      "    nodes_seen = set()\n",
      "    sequential = []\n",
      "    words = []\n",
      "    write_tree(node)\n",
      "    do_sequential()\n",
      "    trees.write(\"\\t{}\\n\".format(verse_label))\n",
      "    s += 1\n",
      "    sc += 1\n",
      "    if sc == chunk:\n",
      "        msg(\"{} trees written\".format(s))\n",
      "        sc = 0\n",
      "    \n",
      "msg(\"{} trees written\".format(s))"
     ],
     "language": "python",
     "metadata": {},
     "outputs": [
      {
       "output_type": "stream",
       "stream": "stderr",
       "text": [
        "    54s Writing trees ...\n"
       ]
      },
      {
       "output_type": "stream",
       "stream": "stderr",
       "text": [
        "    54s making nodeset\n"
       ]
      },
      {
       "output_type": "stream",
       "stream": "stderr",
       "text": [
        "    54s processing topnodes\n"
       ]
      },
      {
       "output_type": "stream",
       "stream": "stderr",
       "text": [
        "    56s 10000 trees written\n"
       ]
      },
      {
       "output_type": "stream",
       "stream": "stderr",
       "text": [
        "    58s 20000 trees written\n"
       ]
      },
      {
       "output_type": "stream",
       "stream": "stderr",
       "text": [
        " 1m 00s 30000 trees written\n"
       ]
      },
      {
       "output_type": "stream",
       "stream": "stderr",
       "text": [
        " 1m 02s 40000 trees written\n"
       ]
      },
      {
       "output_type": "stream",
       "stream": "stderr",
       "text": [
        " 1m 04s 50000 trees written\n"
       ]
      },
      {
       "output_type": "stream",
       "stream": "stderr",
       "text": [
        " 1m 05s 60000 trees written\n"
       ]
      },
      {
       "output_type": "stream",
       "stream": "stderr",
       "text": [
        " 1m 07s 70000 trees written\n"
       ]
      },
      {
       "output_type": "stream",
       "stream": "stderr",
       "text": [
        " 1m 07s 71354 trees written\n"
       ]
      }
     ],
     "prompt_number": 10
    },
    {
     "cell_type": "code",
     "collapsed": false,
     "input": [
      "close()"
     ],
     "language": "python",
     "metadata": {},
     "outputs": [
      {
       "output_type": "stream",
       "stream": "stderr",
       "text": [
        " 1m 11s Results directory:\n",
        "/Users/dirk/laf-fabric-data/bhs3/tasks/trees\n"
       ]
      },
      {
       "output_type": "stream",
       "stream": "stderr",
       "text": [
        "\n",
        "__log__trees.txt                        852 Fri Apr 25 14:02:59 2014\n",
        "objects-deut-new.txt                    966 Fri Apr 25 09:53:16 2014\n",
        "objects-deut-old.txt                    966 Fri Apr 25 09:51:15 2014\n",
        "objects.txt                           15416 Fri Apr 25 09:47:18 2014\n",
        "trees.txt                           8220296 Fri Apr 25 14:02:59 2014\n"
       ]
      }
     ],
     "prompt_number": 11
    },
    {
     "cell_type": "heading",
     "level": 1,
     "metadata": {},
     "source": [
      "Preview"
     ]
    },
    {
     "cell_type": "markdown",
     "metadata": {},
     "source": [
      "Here are the first lines of the output."
     ]
    },
    {
     "cell_type": "code",
     "collapsed": false,
     "input": [
      "!head -n 25 {my_file('trees.txt')}"
     ],
     "language": "python",
     "metadata": {},
     "outputs": [
      {
       "output_type": "stream",
       "stream": "stdout",
       "text": [
        "(S(C(PP(pp 0)(n 1))(VP(vb 2))(NP(n 3))(PP(U(pp 4)(dt 5)(n 6))(cj 7)(U(pp 8)(dt 9)(n 10)))))\t\u05d1 \u05e8\u05d0\u05e9\u05c1\u05d9\u05ea \u05d1\u05e8\u05d0 \u05d0\u05dc\u05d4\u05d9\u05de \u05d0\u05ea \u05d4 \u05e9\u05c1\u05de\u05d9\u05de \u05d5 \u05d0\u05ea \u05d4 \u05d0\u05e8\u05e6\t GEN 01,01\r\n",
        "(S(C(CP(cj 0))(NP(dt 1)(n 2))(VP(vb 3))(NP(U(n 4))(cj 5)(U(n 6)))))\t\u05d5 \u05d4 \u05d0\u05e8\u05e6 \u05d4\u05d9\u05ea\u05d4 \u05ea\u05d4\u05d5 \u05d5 \u05d1\u05d4\u05d5\t GEN 01,02\r\n",
        "(S(C(CP(cj 0))(NP(n 1))(PP(pp 2)(U(n 3))(U(n 4)))))\t\u05d5 \u05d7\u05e9\u05c1\u05db \u05e2\u05dc \u05e4\u05e0\u05d9 \u05ea\u05d4\u05d5\u05de\t GEN 01,02\r\n",
        "(S(C(CP(cj 0))(NP(U(n 1))(U(n 2)))(VP(vb 3))(PP(pp 4)(U(n 5))(U(dt 6)(n 7)))))\t\u05d5 \u05e8\u05d5\u05d7 \u05d0\u05dc\u05d4\u05d9\u05de \u05de\u05e8\u05d7\u05e4\u05ea \u05e2\u05dc \u05e4\u05e0\u05d9 \u05d4 \u05de\u05d9\u05de\t GEN 01,02\r\n",
        "(S(C(CP(cj 0))(VP(vb 1))(NP(n 2))))\t\u05d5 \u05d9\u05d0\u05de\u05e8 \u05d0\u05dc\u05d4\u05d9\u05de\t GEN 01,03\r\n",
        "(S(C(VP(vb 0))(NP(n 1))))\t\u05d9\u05d4\u05d9 \u05d0\u05d5\u05e8\t GEN 01,03\r\n",
        "(S(C(CP(cj 0))(VP(vb 1))(NP(n 2))))\t\u05d5 \u05d9\u05d4\u05d9 \u05d0\u05d5\u05e8\t GEN 01,03\r\n",
        "(S(C(CP(cj 0))(VP(vb 1))(NP(n 2))(PP(pp 3)(dt 4)(n 5)))(Cobjc(CP(cj 6))(VP(vb 7))))\t\u05d5 \u05d9\u05e8\u05d0 \u05d0\u05dc\u05d4\u05d9\u05de \u05d0\u05ea \u05d4 \u05d0\u05d5\u05e8 \u05db\u05d9 \u05d8\u05d5\u05d1\t GEN 01,04\r\n",
        "(S(C(CP(cj 0))(VP(vb 1))(NP(n 2))(PP(U(n 3)(dt 4)(n 5))(cj 6)(U(n 7)(dt 8)(n 9)))))\t\u05d5 \u05d9\u05d1\u05d3\u05dc \u05d0\u05dc\u05d4\u05d9\u05de \u05d1\u05d9\u05e0 \u05d4 \u05d0\u05d5\u05e8 \u05d5 \u05d1\u05d9\u05e0 \u05d4 \u05d7\u05e9\u05c1\u05db\t GEN 01,04\r\n",
        "(S(C(CP(cj 0))(VP(vb 1))(NP(n 2))(PP(pp 3)(dt 4)(n 5))(NP(n 6))))\t\u05d5 \u05d9\u05e7\u05e8\u05d0 \u05d0\u05dc\u05d4\u05d9\u05de \u05dc . \u05d0\u05d5\u05e8 \u05d9\u05d5\u05de\t GEN 01,05\r\n",
        "(S(C(CP(cj 0))(PP(pp 1)(dt 2)(n 3))(VP(vb 4))(NP(n 5))))\t\u05d5 \u05dc . \u05d7\u05e9\u05c1\u05db \u05e7\u05e8\u05d0 \u05dc\u05d9\u05dc\u05d4\t GEN 01,05\r\n",
        "(S(C(CP(cj 0))(VP(vb 1))(NP(n 2))))\t\u05d5 \u05d9\u05d4\u05d9 \u05e2\u05e8\u05d1\t GEN 01,05\r\n",
        "(S(C(CP(cj 0))(VP(vb 1))(NP(n 2))))\t\u05d5 \u05d9\u05d4\u05d9 \u05d1\u05e7\u05e8\t GEN 01,05\r\n",
        "(S(C(NP(U(n 0))(U(n 1)))))\t\u05d9\u05d5\u05de \u05d0\u05d7\u05d3\t GEN 01,05\r\n",
        "(S(C(CP(cj 0))(VP(vb 1))(NP(n 2))))\t\u05d5 \u05d9\u05d0\u05de\u05e8 \u05d0\u05dc\u05d4\u05d9\u05de\t GEN 01,06\r\n",
        "(S(C(VP(vb 0))(NP(n 1))(PP(pp 2)(U(n 3))(U(dt 4)(n 5)))))\t\u05d9\u05d4\u05d9 \u05e8\u05e7\u05d9\u05e2 \u05d1 \u05ea\u05d5\u05db \u05d4 \u05de\u05d9\u05de\t GEN 01,06\r\n",
        "(S(C(CP(cj 0))(VP(vb 1))(VP(vb 2))(PP(n 3)(n 4)(pp 5)(n 6))))\t\u05d5 \u05d9\u05d4\u05d9 \u05de\u05d1\u05d3\u05d9\u05dc \u05d1\u05d9\u05e0 \u05de\u05d9\u05de \u05dc \u05de\u05d9\u05de\t GEN 01,06\r\n",
        "(S(C(CP(cj 0))(VP(vb 1))(NP(n 2))(PP(pp 3)(dt 4)(n 5))))\t\u05d5 \u05d9\u05e2\u05e9\u05c2 \u05d0\u05dc\u05d4\u05d9\u05de \u05d0\u05ea \u05d4 \u05e8\u05e7\u05d9\u05e2\t GEN 01,07\r\n",
        "(S(C(CP(cj 0))(VP(vb 1))(PP(n 2)(dt 3)(n 4))(CP(cj 11))(PP(n 12)(dt 13)(n 14)))(Cattr(CP(cj 5))(PP(pp 6)(n 7)(pp 8)(dt 9)(n 10)))(Cattr(CP(cj 15))(PP(pp 16)(pp 17)(pp 18)(dt 19)(n 20))))\t\u05d5 \u05d9\u05d1\u05d3\u05dc \u05d1\u05d9\u05e0 \u05d4 \u05de\u05d9\u05de \u05d0\u05e9\u05c1\u05e8 \u05de \u05ea\u05d7\u05ea \u05dc . \u05e8\u05e7\u05d9\u05e2 \u05d5 \u05d1\u05d9\u05e0 \u05d4 \u05de\u05d9\u05de \u05d0\u05e9\u05c1\u05e8 \u05de \u05e2\u05dc \u05dc . \u05e8\u05e7\u05d9\u05e2\t GEN 01,07\r\n",
        "(S(C(CP(cj 0))(VP(vb 1))(AdvP(av 2))))\t\u05d5 \u05d9\u05d4\u05d9 \u05db\u05e0\t GEN 01,07\r\n",
        "(S(C(CP(cj 0))(VP(vb 1))(NP(n 2))(PP(pp 3)(dt 4)(n 5))(NP(n 6))))\t\u05d5 \u05d9\u05e7\u05e8\u05d0 \u05d0\u05dc\u05d4\u05d9\u05de \u05dc . \u05e8\u05e7\u05d9\u05e2 \u05e9\u05c1\u05de\u05d9\u05de\t GEN 01,08\r\n",
        "(S(C(CP(cj 0))(VP(vb 1))(NP(n 2))))\t\u05d5 \u05d9\u05d4\u05d9 \u05e2\u05e8\u05d1\t GEN 01,08\r\n",
        "(S(C(CP(cj 0))(VP(vb 1))(NP(n 2))))\t\u05d5 \u05d9\u05d4\u05d9 \u05d1\u05e7\u05e8\t GEN 01,08\r\n",
        "(S(C(NP(U(n 0))(U(aj 1)))))\t\u05d9\u05d5\u05de \u05e9\u05c1\u05e0\u05d9\t GEN 01,08\r\n",
        "(S(C(CP(cj 0))(VP(vb 1))(NP(n 2))))\t\u05d5 \u05d9\u05d0\u05de\u05e8 \u05d0\u05dc\u05d4\u05d9\u05de\t GEN 01,09\r\n"
       ]
      }
     ],
     "prompt_number": 12
    },
    {
     "cell_type": "code",
     "collapsed": false,
     "input": [],
     "language": "python",
     "metadata": {},
     "outputs": []
    }
   ],
   "metadata": {}
  }
 ]
}