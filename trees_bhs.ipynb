{
 "metadata": {
  "name": "",
  "signature": "sha256:2137f41a22e7b0171621ebfb431ba324b572a65590b4b31d4e876e06bee8f380"
 },
 "nbformat": 3,
 "nbformat_minor": 0,
 "worksheets": [
  {
   "cells": [
    {
     "cell_type": "markdown",
     "metadata": {},
     "source": [
      "<a href=\"http://laf-fabric.readthedocs.org/en/latest/\" target=\"_blank\"><img align=\"left\" src=\"images/laf-fabric-xsmall.png\"/></a>\n",
      "<a href=\"http://www.godgeleerdheid.vu.nl/etcbc\" target=\"_blank\"><img align=\"left\" src=\"images/VU-ETCBC-xsmall.png\"/></a>\n",
      "<a href=\"http://tla.mpi.nl\" target=\"_blank\"><img align=\"right\" src=\"images/TLA-xsmall.png\"/></a>\n",
      "<a href=\"http://www.dans.knaw.nl\" target=\"_blank\"><img align=\"right\"src=\"images/DANS-xsmall.png\"/></a>"
     ]
    },
    {
     "cell_type": "heading",
     "level": 1,
     "metadata": {},
     "source": [
      "Trees - for BHS data (Hebrew)"
     ]
    },
    {
     "cell_type": "code",
     "collapsed": false,
     "input": [
      "import sys\n",
      "import collections\n",
      "import random\n",
      "%load_ext autoreload\n",
      "%autoreload 2\n",
      "import laf\n",
      "from laf.fabric import LafFabric\n",
      "from etcbc.preprocess import prepare\n",
      "from etcbc.lib import Transcription, monad_set\n",
      "from etcbc.trees import Tree\n",
      "fabric = LafFabric()\n",
      "tr = Transcription()"
     ],
     "language": "python",
     "metadata": {},
     "outputs": [
      {
       "output_type": "stream",
       "stream": "stderr",
       "text": [
        "  0.00s This is LAF-Fabric 4.2.7\n",
        "http://laf-fabric.readthedocs.org/texts/API-reference.html\n"
       ]
      }
     ],
     "prompt_number": 1
    },
    {
     "cell_type": "code",
     "collapsed": false,
     "input": [
      "API = fabric.load('bhs3', '--', 'trees', {\n",
      "    \"xmlids\": {\"node\": False, \"edge\": False},\n",
      "    \"features\": ('''\n",
      "        oid otype monads\n",
      "        surface_consonants\n",
      "        part_of_speech\n",
      "        clause_constituent_relation phrase_type\n",
      "        verse_label\n",
      "    ''','''\n",
      "        mother.\n",
      "    '''),\n",
      "    \"prepare\": prepare,\n",
      "}, verbose='NORMAL')\n",
      "exec(fabric.localnames.format(var='fabric'))\n",
      "type_info = (\n",
      "    (\"word\", ''),\n",
      "    (\"subphrase\", 'U'),\n",
      "    (\"phrase\", 'P'),\n",
      "    (\"clause\", 'C'),\n",
      "    (\"sentence\", 'S'),\n",
      ")\n",
      "type_table = dict(t for t in type_info)\n",
      "type_order = [t[0] for t in type_info]\n",
      "pos_table = {\n",
      " 'adjective':     'aj',\n",
      " 'adverb':        'av',\n",
      " 'article':       'dt',\n",
      " 'conjunction':   'cj',\n",
      " 'interjection':  'ij',\n",
      " 'interrogative': 'ir',\n",
      " 'negative':      'ng',\n",
      " 'noun':          'n',\n",
      " 'preposition':   'pp',\n",
      " 'pronoun':       'pr',\n",
      " 'verb':          'vb',\n",
      "}\n",
      "ccr_info = {\n",
      "    'Adju': ('r', 'Cadju'),\n",
      "    'Attr': ('r', 'Cattr'),\n",
      "    'Cmpl': ('r', 'Ccmpl'),\n",
      "    'CoVo': ('n', 'Ccovo'),\n",
      "    'Coor': ('x', 'Ccoor'),\n",
      "    'Objc': ('r', 'Cobjc'),\n",
      "    'Pred': ('r', 'Cpred'),\n",
      "    'Resu': ('n', 'Cresu'),\n",
      "    'RgRc': ('r', 'Crgrc'),\n",
      "    'Subj': ('r', 'Csubj'),\n",
      "    'none': ('n', 'C'),\n",
      "}\n",
      "tree_types = ('sentence', 'clause', 'phrase', 'subphrase', 'word')\n",
      "(root_type, leaf_type, clause_type) = (tree_types[0], tree_types[-1], 'clause')\n",
      "ccr_table = dict((c[0],c[1][1]) for c in ccr_info.items())\n",
      "ccr_class = dict((c[0],c[1][0]) for c in ccr_info.items())\n",
      "tree = Tree(API, otypes=tree_types, clause_type=clause_type)\n",
      "tree.restructure_clauses(ccr_class)\n",
      "results = tree.relations()\n",
      "parent = results['rparent']\n",
      "sisters = results['sisters']\n",
      "children = results['rchildren']\n",
      "elder_sister = results['elder_sister']\n",
      "root_verse = {}\n",
      "\n",
      "for n in NN():\n",
      "    otype = F.otype.v(n)\n",
      "    if otype == 'verse': cur_verse = F.verse_label.v(n)\n",
      "    elif otype == root_type: root_verse[n] = cur_verse\n",
      "\n",
      "msg(\"Ready for processing\")"
     ],
     "language": "python",
     "metadata": {},
     "outputs": [
      {
       "output_type": "stream",
       "stream": "stderr",
       "text": [
        "  0.00s LOADING API: please wait ... \n"
       ]
      },
      {
       "output_type": "stream",
       "stream": "stderr",
       "text": [
        "  0.00s INFO: DATA COMPILED AT: 2014-04-18T18-24-37\n"
       ]
      },
      {
       "output_type": "stream",
       "stream": "stderr",
       "text": [
        "  4.38s LOGFILE=/Users/dirk/laf-fabric-data/bhs3/tasks/trees/__log__trees.txt\n"
       ]
      },
      {
       "output_type": "stream",
       "stream": "stderr",
       "text": [
        "  5.13s INFO: DATA LOADED FROM SOURCE bhs3 AND ANNOX -- FOR TASK trees\n"
       ]
      },
      {
       "output_type": "stream",
       "stream": "stderr",
       "text": [
        "  0.00s LOADING API with EXTRAs: please wait ... \n"
       ]
      },
      {
       "output_type": "stream",
       "stream": "stderr",
       "text": [
        "  0.00s INFO: DATA COMPILED AT: 2014-04-18T18-24-37\n"
       ]
      },
      {
       "output_type": "stream",
       "stream": "stderr",
       "text": [
        "  0.82s LOGFILE=/Users/dirk/laf-fabric-data/bhs3/tasks/trees/__log__trees.txt\n"
       ]
      },
      {
       "output_type": "stream",
       "stream": "stderr",
       "text": [
        "  0.83s INFO: DATA LOADED FROM SOURCE bhs3 AND ANNOX -- FOR TASK trees\n"
       ]
      },
      {
       "output_type": "stream",
       "stream": "stderr",
       "text": [
        "  0.00s Start computing parent and children relations for objects of type sentence, clause, phrase, subphrase, word\n"
       ]
      },
      {
       "output_type": "stream",
       "stream": "stderr",
       "text": [
        "  1.75s 100000 nodes\n"
       ]
      },
      {
       "output_type": "stream",
       "stream": "stderr",
       "text": [
        "  3.72s 200000 nodes\n"
       ]
      },
      {
       "output_type": "stream",
       "stream": "stderr",
       "text": [
        "  5.37s 300000 nodes\n"
       ]
      },
      {
       "output_type": "stream",
       "stream": "stderr",
       "text": [
        "  6.83s 400000 nodes\n"
       ]
      },
      {
       "output_type": "stream",
       "stream": "stderr",
       "text": [
        "  8.19s 500000 nodes\n"
       ]
      },
      {
       "output_type": "stream",
       "stream": "stderr",
       "text": [
        "  9.65s 600000 nodes\n"
       ]
      },
      {
       "output_type": "stream",
       "stream": "stderr",
       "text": [
        "    11s 700000 nodes\n"
       ]
      },
      {
       "output_type": "stream",
       "stream": "stderr",
       "text": [
        "    13s 800000 nodes\n"
       ]
      },
      {
       "output_type": "stream",
       "stream": "stderr",
       "text": [
        "    14s 900000 nodes\n"
       ]
      },
      {
       "output_type": "stream",
       "stream": "stderr",
       "text": [
        "    15s 952885 nodes: 881531 have parents and 526386 have children\n"
       ]
      },
      {
       "output_type": "stream",
       "stream": "stderr",
       "text": [
        "    15s Restructuring clauses: deep copying tree relations\n"
       ]
      },
      {
       "output_type": "stream",
       "stream": "stderr",
       "text": [
        "    22s Pass 0: Storing mother relationship\n"
       ]
      },
      {
       "output_type": "stream",
       "stream": "stderr",
       "text": [
        "    23s 13328 clauses have a mother\n"
       ]
      },
      {
       "output_type": "stream",
       "stream": "stderr",
       "text": [
        "    23s All clauses have mothers of types in {'sentence', 'clause', 'phrase', 'subphrase', 'word'}\n"
       ]
      },
      {
       "output_type": "stream",
       "stream": "stderr",
       "text": [
        "    23s Pass 1: all clauses except those of type Coor\n"
       ]
      },
      {
       "output_type": "stream",
       "stream": "stderr",
       "text": [
        "    24s Pass 2: clauses of type Coor only\n"
       ]
      },
      {
       "output_type": "stream",
       "stream": "stderr",
       "text": [
        "    25s Mothers applied. Found 0 motherless clauses.\n"
       ]
      },
      {
       "output_type": "stream",
       "stream": "stderr",
       "text": [
        "    25s 862 nodes have 1 sisters\n"
       ]
      },
      {
       "output_type": "stream",
       "stream": "stderr",
       "text": [
        "    25s 23 nodes have 2 sisters\n"
       ]
      },
      {
       "output_type": "stream",
       "stream": "stderr",
       "text": [
        "    25s There are 908 sisters, 885 nodes have sisters.\n"
       ]
      },
      {
       "output_type": "stream",
       "stream": "stderr",
       "text": [
        "    27s Ready for processing\n"
       ]
      }
     ],
     "prompt_number": 2
    },
    {
     "cell_type": "heading",
     "level": 1,
     "metadata": {},
     "source": [
      "Checking for sanity"
     ]
    },
    {
     "cell_type": "markdown",
     "metadata": {},
     "source": [
      "1. How many sentence nodes? \n",
      "1. Does any sentence have a parent? \n",
      "1. Is every top node a sentence?\n",
      "1. Do you reach all sentences if you go up from words?\n",
      "1. Do you reach all words if you go down from sentences? \n",
      "1. Do you reach the same word in reconstructed trees as in embedded trees?\n",
      "1. From what object types to what object types does the parent relationship link?\n",
      "1. Has every node at most one mother?\n",
      "1. From what object types to what object types does the mother relationship link?\n",
      "1. Is the mother of a clause always in the same sentence?\n",
      "1. Has the max/average tree depth increased after restructuring? By how much?"
     ]
    },
    {
     "cell_type": "code",
     "collapsed": false,
     "input": [
      "#1\n",
      "msg(\"Counting {}s ...\".format(root_type))\n",
      "msg(\"There are {} {}s\".format(len(set(NN(test=F.otype.v, value=root_type))), root_type))"
     ],
     "language": "python",
     "metadata": {},
     "outputs": [
      {
       "output_type": "stream",
       "stream": "stderr",
       "text": [
        "    32s Counting sentences ...\n"
       ]
      },
      {
       "output_type": "stream",
       "stream": "stderr",
       "text": [
        "    33s There are 71354 sentences\n"
       ]
      }
     ],
     "prompt_number": 3
    },
    {
     "cell_type": "code",
     "collapsed": false,
     "input": [
      "#2\n",
      "msg(\"Checking parents of {}s\".format(root_type))\n",
      "exceptions = set()\n",
      "for node in NN(test=F.otype.v, value=root_type):\n",
      "    if node in parent: exceptions.add(node)\n",
      "if len(exceptions) == 0:\n",
      "    msg(\"No {} has a parent\".format(root_type))\n",
      "else:\n",
      "    msg(\"{} {}s have a parent:\".format(len(exceptions), root_type))\n",
      "    for n in sorted(exceptions):\n",
      "        p = parent[n]\n",
      "        msg(\"{} {} [{}] has {} parent {} [{}]\".format(\n",
      "            root_type, n, F.monads.v(n), \n",
      "            F.otype.v(p), p, F.monads.v(p)\n",
      "        ))"
     ],
     "language": "python",
     "metadata": {},
     "outputs": [
      {
       "output_type": "stream",
       "stream": "stderr",
       "text": [
        "    36s Checking parents of sentences\n"
       ]
      },
      {
       "output_type": "stream",
       "stream": "stderr",
       "text": [
        "    37s No sentence has a parent\n"
       ]
      }
     ],
     "prompt_number": 4
    },
    {
     "cell_type": "code",
     "collapsed": false,
     "input": [
      "#3 (again a check on #1)\n",
      "msg(\"Checking the types of root nodes ...\")\n",
      "exceptions = collections.defaultdict(lambda: [])\n",
      "sn = 0\n",
      "for node in NN():\n",
      "    otype = F.otype.v(node)\n",
      "    if otype not in type_table: continue\n",
      "    if otype == root_type: sn += 1\n",
      "    if node not in parent and node not in elder_sister and otype != root_type: \n",
      "        exceptions[otype].append(node)\n",
      "if len(exceptions) == 0:\n",
      "    msg(\"All top nodes are {}s\".format(root_type))\n",
      "else:\n",
      "    msg(\"Top nodes which are not {}s:\".format(root_type))\n",
      "    for t in sorted(exceptions):\n",
      "        msg(\"{}: {}x\".format(t, len(exceptions[t])), withtime=False)\n",
      "msg(\"{} {}s seen\".format(sn, root_type))\n",
      "\n",
      "for c in exceptions[clause_type]:\n",
      "    (s, st) = tree.get_root(c, 'e')\n",
      "    v = root_verse[s]\n",
      "    msg(\"{}={}, {}={}={}, verse={}\".format(clause_type, c, root_type, st, s, v), withtime=False)"
     ],
     "language": "python",
     "metadata": {},
     "outputs": [
      {
       "output_type": "stream",
       "stream": "stderr",
       "text": [
        "    43s Checking the types of root nodes ...\n"
       ]
      },
      {
       "output_type": "stream",
       "stream": "stderr",
       "text": [
        "    45s All top nodes are sentences\n"
       ]
      },
      {
       "output_type": "stream",
       "stream": "stderr",
       "text": [
        "    45s 71354 sentences seen\n"
       ]
      }
     ],
     "prompt_number": 5
    },
    {
     "cell_type": "code",
     "collapsed": false,
     "input": [
      "#4, 5\n",
      "def get_top(kind, rel, rela, multi):\n",
      "    seen = set()\n",
      "    top_nodes = set()\n",
      "    start_nodes = set(NN(test=F.otype.v, value=kind))\n",
      "    next_nodes = start_nodes\n",
      "    msg(\"Starting from {} nodes ...\".format(kind))\n",
      "    while len(next_nodes):\n",
      "        new_next_nodes = set()\n",
      "        for node in next_nodes:\n",
      "            if node in seen: continue\n",
      "            seen.add(node)\n",
      "            is_top = True\n",
      "            if node in rel: \n",
      "                is_top = False\n",
      "                if multi:\n",
      "                    for c in rel[node]: new_next_nodes.add(c)\n",
      "                else:\n",
      "                    new_next_nodes.add(rel[node])\n",
      "            if node in rela: \n",
      "                is_top = False\n",
      "                if multi:\n",
      "                    for c in rela[node]: new_next_nodes.add(c)\n",
      "                else:\n",
      "                    new_next_nodes.add(rela[node])\n",
      "            if is_top: top_nodes.add(node)\n",
      "        next_nodes = new_next_nodes\n",
      "    top_types = collections.defaultdict(lambda: 0)\n",
      "    for t in top_nodes:\n",
      "        top_types[F.otype.v(t)] += 1\n",
      "    for t in top_types:\n",
      "        msg(\"From {} {} nodes reached {} {} nodes\".format(len(start_nodes), kind, top_types[t], t), withtime=False)\n",
      "\n",
      "msg(\"Embedding trees\")\n",
      "get_top(leaf_type, tree.eparent, {}, False)\n",
      "get_top(root_type, tree.echildren, {}, True)\n",
      "msg(\"Restructd trees\")\n",
      "get_top(leaf_type, tree.rparent, tree.elder_sister, False)\n",
      "get_top(root_type, tree.rchildren, tree.sisters, True)\n",
      "msg(\"Done\")"
     ],
     "language": "python",
     "metadata": {},
     "outputs": [
      {
       "output_type": "stream",
       "stream": "stderr",
       "text": [
        "    52s Embedding trees\n"
       ]
      },
      {
       "output_type": "stream",
       "stream": "stderr",
       "text": [
        "    53s Starting from word nodes ...\n"
       ]
      },
      {
       "output_type": "stream",
       "stream": "stderr",
       "text": [
        "From 426499 word nodes reached 71354 sentence nodes\n"
       ]
      },
      {
       "output_type": "stream",
       "stream": "stderr",
       "text": [
        "    54s Starting from sentence nodes ...\n"
       ]
      },
      {
       "output_type": "stream",
       "stream": "stderr",
       "text": [
        "From 71354 sentence nodes reached 426499 word nodes\n"
       ]
      },
      {
       "output_type": "stream",
       "stream": "stderr",
       "text": [
        "    56s Restructd trees\n"
       ]
      },
      {
       "output_type": "stream",
       "stream": "stderr",
       "text": [
        "    57s Starting from word nodes ...\n"
       ]
      },
      {
       "output_type": "stream",
       "stream": "stderr",
       "text": [
        "From 426499 word nodes reached 71352 sentence nodes\n"
       ]
      },
      {
       "output_type": "stream",
       "stream": "stderr",
       "text": [
        "    58s Starting from sentence nodes ...\n"
       ]
      },
      {
       "output_type": "stream",
       "stream": "stderr",
       "text": [
        "From 71354 sentence nodes reached 425606 word nodes\n"
       ]
      },
      {
       "output_type": "stream",
       "stream": "stderr",
       "text": [
        " 1m 00s Done\n"
       ]
      }
     ],
     "prompt_number": 6
    },
    {
     "cell_type": "code",
     "collapsed": false,
     "input": [
      "msg(\"Verifying whether all monads are preserved under restructuring\")\n",
      "errors = []\n",
      "#i = 10\n",
      "for snode in NN(test=F.otype.v, value=root_type):\n",
      "    declared_monads = monad_set(F.monads.v(snode))\n",
      "    results = {}\n",
      "    thisgood = {}\n",
      "    for kind in ('e', 'r'):\n",
      "        results[kind] = set(int(F.monads.v(l)) for l in tree.get_leaves(snode, kind) if F.otype.v(l) == leaf_type)\n",
      "        thisgood[kind] = declared_monads == results[kind]\n",
      "        #if not thisgood[kind]:\n",
      "            #print(\"{} D={}\\nL={}\".format(kind, declared_monads, results[kind]))\n",
      "            #i -= 1\n",
      "    #if i == 0: break\n",
      "    if False in thisgood.values(): errors.append((snode, thisgood['e'], thisgood['r']))\n",
      "msg(\"{} mismatches:\".format(len(errors)))\n",
      "mine = min(20, len(errors))\n",
      "skip = {e[0] for e in errors}\n",
      "for (s, e, r) in errors[0:mine]:\n",
      "    msg(\"{} embedding: {}; restructd: {}\".format(s, 'OK' if e else 'XX', 'OK' if r else 'XX'), withtime=False)"
     ],
     "language": "python",
     "metadata": {},
     "outputs": [
      {
       "output_type": "stream",
       "stream": "stderr",
       "text": [
        " 1m 57s Verifying whether all monads are preserved under restructuring\n"
       ]
      },
      {
       "output_type": "stream",
       "stream": "stderr",
       "text": [
        " 2m 02s 13 mismatches:\n"
       ]
      },
      {
       "output_type": "stream",
       "stream": "stderr",
       "text": [
        "1143081 embedding: OK; restructd: XX\n"
       ]
      },
      {
       "output_type": "stream",
       "stream": "stderr",
       "text": [
        "1153973 embedding: OK; restructd: XX\n"
       ]
      },
      {
       "output_type": "stream",
       "stream": "stderr",
       "text": [
        "1158971 embedding: OK; restructd: XX\n"
       ]
      },
      {
       "output_type": "stream",
       "stream": "stderr",
       "text": [
        "1160416 embedding: OK; restructd: XX\n"
       ]
      },
      {
       "output_type": "stream",
       "stream": "stderr",
       "text": [
        "1160464 embedding: OK; restructd: XX\n"
       ]
      },
      {
       "output_type": "stream",
       "stream": "stderr",
       "text": [
        "1161141 embedding: OK; restructd: XX\n"
       ]
      },
      {
       "output_type": "stream",
       "stream": "stderr",
       "text": [
        "1163666 embedding: OK; restructd: XX\n"
       ]
      },
      {
       "output_type": "stream",
       "stream": "stderr",
       "text": [
        "1164830 embedding: OK; restructd: XX\n"
       ]
      },
      {
       "output_type": "stream",
       "stream": "stderr",
       "text": [
        "1167680 embedding: OK; restructd: XX\n"
       ]
      },
      {
       "output_type": "stream",
       "stream": "stderr",
       "text": [
        "1170057 embedding: OK; restructd: XX\n"
       ]
      },
      {
       "output_type": "stream",
       "stream": "stderr",
       "text": [
        "1193065 embedding: OK; restructd: XX\n"
       ]
      },
      {
       "output_type": "stream",
       "stream": "stderr",
       "text": [
        "1199681 embedding: OK; restructd: XX\n"
       ]
      },
      {
       "output_type": "stream",
       "stream": "stderr",
       "text": [
        "1199682 embedding: OK; restructd: XX\n"
       ]
      }
     ],
     "prompt_number": 8
    },
    {
     "cell_type": "code",
     "collapsed": false,
     "input": [
      "#7\n",
      "msg(\"Which types embed which types and how often? ...\")\n",
      "for kind in ('e', 'r'):\n",
      "    plinked_types = collections.defaultdict(lambda: 0)\n",
      "    parent = tree.eparent if kind == 'e' else tree.rparent\n",
      "    kindrep = 'embedding' if kind == 'e' else 'restructd'\n",
      "    for (c, p) in parent.items():\n",
      "        plinked_types[(F.otype.v(c), F.otype.v(p))] += 1\n",
      "    msg(\"Found {} parent ({}) links between types\".format(len(parent), kindrep))\n",
      "    for lt in sorted(plinked_types):\n",
      "        msg(\"{}: {}x\".format(lt, plinked_types[lt]), withtime=False)"
     ],
     "language": "python",
     "metadata": {},
     "outputs": [
      {
       "output_type": "stream",
       "stream": "stderr",
       "text": [
        " 2m 21s Which types embed which types and how often? ...\n"
       ]
      },
      {
       "output_type": "stream",
       "stream": "stderr",
       "text": [
        " 2m 23s Found 881531 parent (embedding) links between types\n"
       ]
      },
      {
       "output_type": "stream",
       "stream": "stderr",
       "text": [
        "('clause', 'sentence'): 88387x\n"
       ]
      },
      {
       "output_type": "stream",
       "stream": "stderr",
       "text": [
        "('phrase', 'clause'): 257109x\n"
       ]
      },
      {
       "output_type": "stream",
       "stream": "stderr",
       "text": [
        "('subphrase', 'phrase'): 81475x\n"
       ]
      },
      {
       "output_type": "stream",
       "stream": "stderr",
       "text": [
        "('subphrase', 'subphrase'): 28061x\n"
       ]
      },
      {
       "output_type": "stream",
       "stream": "stderr",
       "text": [
        "('word', 'phrase'): 306319x\n"
       ]
      },
      {
       "output_type": "stream",
       "stream": "stderr",
       "text": [
        "('word', 'subphrase'): 120180x\n"
       ]
      },
      {
       "output_type": "stream",
       "stream": "stderr",
       "text": [
        " 2m 25s Found 880623 parent (restructd) links between types\n"
       ]
      },
      {
       "output_type": "stream",
       "stream": "stderr",
       "text": [
        "('clause', 'clause'): 6392x\n"
       ]
      },
      {
       "output_type": "stream",
       "stream": "stderr",
       "text": [
        "('clause', 'phrase'): 4288x\n"
       ]
      },
      {
       "output_type": "stream",
       "stream": "stderr",
       "text": [
        "('clause', 'sentence'): 76178x\n"
       ]
      },
      {
       "output_type": "stream",
       "stream": "stderr",
       "text": [
        "('clause', 'subphrase'): 621x\n"
       ]
      },
      {
       "output_type": "stream",
       "stream": "stderr",
       "text": [
        "('phrase', 'clause'): 257109x\n"
       ]
      },
      {
       "output_type": "stream",
       "stream": "stderr",
       "text": [
        "('subphrase', 'phrase'): 81475x\n"
       ]
      },
      {
       "output_type": "stream",
       "stream": "stderr",
       "text": [
        "('subphrase', 'subphrase'): 28061x\n"
       ]
      },
      {
       "output_type": "stream",
       "stream": "stderr",
       "text": [
        "('word', 'phrase'): 306319x\n"
       ]
      },
      {
       "output_type": "stream",
       "stream": "stderr",
       "text": [
        "('word', 'subphrase'): 120180x\n"
       ]
      }
     ],
     "prompt_number": 10
    },
    {
     "cell_type": "code",
     "collapsed": false,
     "input": [
      "#8\n",
      "msg(\"How many mothers can nodes have? ...\")\n",
      "mother_len = {}\n",
      "for c in NN():\n",
      "    lms = list(C.mother_.v(c))\n",
      "    nms = len(lms)\n",
      "    if nms: mother_len[c] = nms\n",
      "count = collections.defaultdict(lambda: 0)\n",
      "for c in tree.mother: count[mother_len[c]] += 1\n",
      "msg(\"There are {} tree nodes with a mother\".format(len(tree.mother)))\n",
      "for cnt in sorted(count):\n",
      "    msg(\"{} nodes have {} mother{}\".format(count[cnt], cnt, 's' if cnt != 1 else ''), withtime=False)      "
     ],
     "language": "python",
     "metadata": {},
     "outputs": [
      {
       "output_type": "stream",
       "stream": "stderr",
       "text": [
        " 2m 27s How many mothers can nodes have? ...\n"
       ]
      },
      {
       "output_type": "stream",
       "stream": "stderr",
       "text": [
        " 2m 34s There are 13328 tree nodes with a mother\n"
       ]
      },
      {
       "output_type": "stream",
       "stream": "stderr",
       "text": [
        "13328 nodes have 1 mother\n"
       ]
      }
     ],
     "prompt_number": 11
    },
    {
     "cell_type": "code",
     "collapsed": false,
     "input": [
      "#9\n",
      "msg(\"Which types have mother links to which types and how often? ...\")\n",
      "mlinked_types = collections.defaultdict(lambda: set())\n",
      "for (c, m) in tree.mother.items():\n",
      "    ctype = F.otype.v(c)\n",
      "    mlinked_types[(ctype, F.clause_constituent_relation.v(c), F.otype.v(m))].add(c)\n",
      "msg(\"Found {} mother links between types\".format(len(parent)))\n",
      "for lt in sorted(mlinked_types):\n",
      "    msg(\"{}: {}x\".format(lt, len(mlinked_types[lt])), withtime=False)"
     ],
     "language": "python",
     "metadata": {},
     "outputs": [
      {
       "output_type": "stream",
       "stream": "stderr",
       "text": [
        " 1m 49s Which types have mother links to which types and how often? ...\n"
       ]
      },
      {
       "output_type": "stream",
       "stream": "stderr",
       "text": [
        " 1m 49s Found 880623 mother links between types\n"
       ]
      },
      {
       "output_type": "stream",
       "stream": "stderr",
       "text": [
        "('clause', 'Adju', 'clause'): 4910x\n"
       ]
      },
      {
       "output_type": "stream",
       "stream": "stderr",
       "text": [
        "('clause', 'Attr', 'clause'): 2x\n"
       ]
      },
      {
       "output_type": "stream",
       "stream": "stderr",
       "text": [
        "('clause', 'Attr', 'phrase'): 4147x\n"
       ]
      },
      {
       "output_type": "stream",
       "stream": "stderr",
       "text": [
        "('clause', 'Attr', 'word'): 655x\n"
       ]
      },
      {
       "output_type": "stream",
       "stream": "stderr",
       "text": [
        "('clause', 'Cmpl', 'clause'): 74x\n"
       ]
      },
      {
       "output_type": "stream",
       "stream": "stderr",
       "text": [
        "('clause', 'Cmpl', 'word'): 1x\n"
       ]
      },
      {
       "output_type": "stream",
       "stream": "stderr",
       "text": [
        "('clause', 'CoVo', 'clause'): 143x\n"
       ]
      },
      {
       "output_type": "stream",
       "stream": "stderr",
       "text": [
        "('clause', 'Coor', 'clause'): 904x\n"
       ]
      },
      {
       "output_type": "stream",
       "stream": "stderr",
       "text": [
        "('clause', 'Coor', 'phrase'): 4x\n"
       ]
      },
      {
       "output_type": "stream",
       "stream": "stderr",
       "text": [
        "('clause', 'Objc', 'clause'): 1066x\n"
       ]
      },
      {
       "output_type": "stream",
       "stream": "stderr",
       "text": [
        "('clause', 'Pred', 'clause'): 91x\n"
       ]
      },
      {
       "output_type": "stream",
       "stream": "stderr",
       "text": [
        "('clause', 'Resu', 'clause'): 975x\n"
       ]
      },
      {
       "output_type": "stream",
       "stream": "stderr",
       "text": [
        "('clause', 'Resu', 'phrase'): 1x\n"
       ]
      },
      {
       "output_type": "stream",
       "stream": "stderr",
       "text": [
        "('clause', 'RgRc', 'clause'): 8x\n"
       ]
      },
      {
       "output_type": "stream",
       "stream": "stderr",
       "text": [
        "('clause', 'RgRc', 'phrase'): 4x\n"
       ]
      },
      {
       "output_type": "stream",
       "stream": "stderr",
       "text": [
        "('clause', 'RgRc', 'word'): 102x\n"
       ]
      },
      {
       "output_type": "stream",
       "stream": "stderr",
       "text": [
        "('clause', 'Subj', 'clause'): 241x\n"
       ]
      }
     ],
     "prompt_number": 10
    },
    {
     "cell_type": "code",
     "collapsed": false,
     "input": [
      "#10\n",
      "msg(\"Counting {}s with mothers in another {}\".format(clause_type, root_type))\n",
      "exceptions = set()\n",
      "for node in tree.mother:\n",
      "    if F.otype.v(node) not in type_table: continue\n",
      "    mnode = tree.mother[node]\n",
      "    snode = tree.get_root(node, 'e')\n",
      "    smnode = tree.get_root(mnode, 'e')\n",
      "    if snode != smnode:\n",
      "        exceptions.add((node, snode, smnode))\n",
      "msg(\"{} nodes have a mother in another {}\".format(len(exceptions), root_type))\n",
      "for (n, sn, smn) in exceptions:\n",
      "    msg(\"[{} {}]({}) occurs in {} but has mother in {}\".format(F.otype.v(n), F.monads.v(n), n, sn, smn), withtime=False)"
     ],
     "language": "python",
     "metadata": {},
     "outputs": [
      {
       "output_type": "stream",
       "stream": "stderr",
       "text": [
        " 2m 39s Counting clauses with mothers in another sentence\n"
       ]
      },
      {
       "output_type": "stream",
       "stream": "stderr",
       "text": [
        " 2m 40s 2 nodes have a mother in another sentence\n"
       ]
      },
      {
       "output_type": "stream",
       "stream": "stderr",
       "text": [
        "[clause 410628-410633](511446) occurs in (1199682, 'sentence') but has mother in (1199681, 'sentence')\n"
       ]
      },
      {
       "output_type": "stream",
       "stream": "stderr",
       "text": [
        "[clause 410634-410639](511447) occurs in (1199682, 'sentence') but has mother in (1199681, 'sentence')\n"
       ]
      }
     ],
     "prompt_number": 12
    },
    {
     "cell_type": "code",
     "collapsed": false,
     "input": [
      "#11\n",
      "msg(\"Computing depths\")\n",
      "ntrees = 0\n",
      "rntrees = 0\n",
      "total_depth = {'e': 0, 'r': 0}\n",
      "rtotal_depth = {'e': 0, 'r': 0}\n",
      "max_depth = {'e': 0, 'r':0}\n",
      "rmax_depth = {'e': 0, 'r': 0}\n",
      "for node in NN(test=F.otype.v, value=root_type):\n",
      "    ntrees += 1\n",
      "    this_depth = {}\n",
      "    for kind in ('e', 'r'):\n",
      "        this_depth[kind] = tree.depth(node, kind)\n",
      "    different = this_depth['e'] != this_depth['r']\n",
      "    if different: rntrees += 1\n",
      "    for kind in ('e', 'r'):\n",
      "        if this_depth[kind] > max_depth[kind]: max_depth[kind] = this_depth[kind]\n",
      "        total_depth[kind] += this_depth[kind]\n",
      "        if different:\n",
      "            if this_depth[kind] > rmax_depth[kind]: rmax_depth[kind] = this_depth[kind]\n",
      "            rtotal_depth[kind] += this_depth[kind]\n",
      "                \n",
      "msg(\"{} trees seen, of which in {} cases restructuring makes a difference in depth\".format(ntrees, rntrees))\n",
      "if ntrees > 0:\n",
      "    msg(\"Embedding trees: max depth = {:>2}, average depth = {:.2g}\".format(max_depth['e'], total_depth['e'] / ntrees))\n",
      "    msg(\"Restructd trees: max depth = {:>2}, average depth = {:.2g}\".format(max_depth['r'], total_depth['r'] / ntrees))\n",
      "if rntrees > 0:\n",
      "    msg(\"Statistics for cases where restructuring makes a difference:\")\n",
      "    msg(\"Embedding trees: max depth = {:>2}, average depth = {:.2g}\".format(rmax_depth['e'], rtotal_depth['e'] / rntrees))\n",
      "    msg(\"Restructd trees: max depth = {:>2}, average depth = {:.2g}\".format(rmax_depth['r'], rtotal_depth['r'] / rntrees))"
     ],
     "language": "python",
     "metadata": {},
     "outputs": [
      {
       "output_type": "stream",
       "stream": "stderr",
       "text": [
        " 2m 44s Computing depths\n"
       ]
      },
      {
       "output_type": "stream",
       "stream": "stderr",
       "text": [
        " 2m 48s 71354 trees seen, of which in 7083 cases restructuring makes a difference in depth\n"
       ]
      },
      {
       "output_type": "stream",
       "stream": "stderr",
       "text": [
        " 2m 48s Embedding trees: max depth = 13, average depth = 3.5\n"
       ]
      },
      {
       "output_type": "stream",
       "stream": "stderr",
       "text": [
        " 2m 48s Restructd trees: max depth = 19, average depth = 3.7\n"
       ]
      },
      {
       "output_type": "stream",
       "stream": "stderr",
       "text": [
        " 2m 48s Statistics for cases where restructuring makes a difference:\n"
       ]
      },
      {
       "output_type": "stream",
       "stream": "stderr",
       "text": [
        " 2m 48s Embedding trees: max depth = 13, average depth = 3.7\n"
       ]
      },
      {
       "output_type": "stream",
       "stream": "stderr",
       "text": [
        " 2m 48s Restructd trees: max depth = 19, average depth = 5.3\n"
       ]
      }
     ],
     "prompt_number": 13
    },
    {
     "cell_type": "heading",
     "level": 1,
     "metadata": {},
     "source": [
      "Writing Trees"
     ]
    },
    {
     "cell_type": "code",
     "collapsed": false,
     "input": [
      "def get_tag(node):\n",
      "    otype = F.otype.v(node)\n",
      "    tag = type_table[otype]\n",
      "    if tag == 'P': tag = F.phrase_type.v(node)\n",
      "    elif tag == 'C': tag = ccr_table[F.clause_constituent_relation.v(node)]\n",
      "    is_word = tag == ''\n",
      "    pos = pos_table[F.part_of_speech.v(node)] if is_word else None\n",
      "    monad = int(F.monads.v(node)) if is_word else None\n",
      "    text = '\"{}\"'.format(F.surface_consonants.v(node)) if is_word else None\n",
      "    return (tag, pos, monad, text, is_word)\n",
      "\n",
      "def passage_roots(verse_label):\n",
      "    sought = []\n",
      "    grab = -1\n",
      "    for n in NN():\n",
      "        if grab == 1: continue\n",
      "        otype = F.otype.v(n)\n",
      "        if otype == 'verse': \n",
      "            check = F.verse_label.v(n) == verse_label\n",
      "            if check: grab = 0\n",
      "            elif grab == 0: grab = 1\n",
      "        if grab == 0 and otype == root_type: sought.append(n)\n",
      "    return sought\n",
      "\n",
      "def showcases(cases, ofile):\n",
      "    out = outfile(ofile)\n",
      "    for snode in cases:\n",
      "        out.write(\"\\n====================\\n{}\\n{}\\n{} bhs_id={} laf_node={}:\\n\".format(\n",
      "            root_verse[snode], cases[snode], root_type, F.oid.v(snode), snode,\n",
      "        ))\n",
      "        for kind in ('e', 'r'):\n",
      "            out.write(\"\\nTree based on monad embedding {}\\n\\n\".format(\n",
      "                \"only\" if kind == 'e' else \" and mother+clause_constituent relation\"\n",
      "            ))\n",
      "            (tree_rep, words_rep, bmonad) = tree.write_tree(snode, kind, get_tag, rev=False, leafnumbers=False)\n",
      "            out.write(\"{}\\n\\n{}\\n\".format(words_rep, tree_rep))\n",
      "            out.write(\"\\nDepth={}\\n\".format(tree.depth(snode, kind)))\n",
      "            out.write(tree.debug_write_tree(snode, kind, legenda=kind=='r'))\n",
      "    out.close()\n",
      "    \n",
      "problem_desc = collections.OrderedDict((\n",
      "    (1131739, \"debug reorder\"),\n",
      "    (1131712, \"interesting\"), \n",
      "    (1140469, \"subject clause order\"),\n",
      "    (passage_roots(' GEN 01,16')[1], \"interesting\"), \n",
      "    (1164864, \"interesting\"),\n",
      "    (1143081, \"cyclic mothers\"),\n",
      "    (1153973, \"cyclic mothers\"),\n",
      "    (1158971, \"cyclic mothers\"),\n",
      "    (1158971, \"cyclic mothers\"),\n",
      "    (1160416, \"cyclic mothers\"),\n",
      "    (1160464, \"cyclic mothers\"),\n",
      "    (1161141, \"nested cyclic mothers: C.coor => C.attr => P below first C.coor\"), \n",
      "    (1163666, \"cyclic mothers\"), \n",
      "    (1164830, \"cyclic mothers\"), \n",
      "    (1167680, \"cyclic mothers\"), \n",
      "    (1170057, \"cyclic mothers\"), \n",
      "    (1193065, \"cyclic mothers\"), \n",
      "    (1199681, \"cyclic mothers\"), \n",
      "    (1199682, \"mother points outside sentence\"),\n",
      "))\n",
      "fixed_sample = (\n",
      "    1167680,\n",
      "    1167152,\n",
      "    1145250,\n",
      "    1154339,\n",
      "    1136677,\n",
      "    1166385,\n",
      "    1198984,\n",
      "    1152969,\n",
      "    1153930,\n",
      "    1150648,\n",
      "    1168396,\n",
      "    1151917,\n",
      "    1164750,\n",
      "    1156719,\n",
      "    1148048,\n",
      "    1138673,\n",
      "    1134184,\n",
      "    1156789,\n",
      "    1156600,\n",
      "    1140469,\n",
      ")\n",
      "sample_size = 20\n",
      "sample = {}\n",
      "fsample = collections.OrderedDict()\n",
      "mother_keys = list(sorted(tree.mother))\n",
      "for s in range(20):\n",
      "    r = random.randint(0, len(mother_keys) - 1)\n",
      "    snode = tree.get_root(tree.mother[mother_keys[r]], 'e')[0]\n",
      "    sample[snode] = 'random sample in {}s with {}s with mothers'.format(root_type, clause_type)\n",
      "for snode in fixed_sample:\n",
      "    fsample[snode] = 'random sample in {}s with {}s with mothers'.format(root_type, clause_type)\n",
      "\n",
      "showcases(problem_desc, \"tree_notabene.txt\")\n",
      "showcases(sample, 'trees_random_{}.txt'.format(sample_size))\n",
      "showcases(fsample, 'trees_fixed_{}.txt'.format(len(fsample)))"
     ],
     "language": "python",
     "metadata": {},
     "outputs": [],
     "prompt_number": 14
    },
    {
     "cell_type": "code",
     "collapsed": false,
     "input": [
      "msg(\"Writing {} trees\".format(root_type))\n",
      "trees = outfile(\"trees.txt\")\n",
      "verse_label = ''\n",
      "s = 0\n",
      "chunk = 10000\n",
      "sc = 0\n",
      "for node in NN():\n",
      "    if node in skip: continue\n",
      "    otype = F.otype.v(node)\n",
      "    oid = F.oid.v(node)\n",
      "    if  otype == 'verse':\n",
      "        verse_label = F.verse_label.v(node)\n",
      "        continue\n",
      "    if otype != root_type: continue\n",
      "    (tree_rep, words_rep, bmonad) = tree.write_tree(node, 'r', get_tag, rev=False, leafnumbers=False)\n",
      "    trees.write(\"\\n#{}\\tnode={}\\toid={}\\tbmonad={}\\t{}\\n{}\\n\".format(\n",
      "        verse_label, node, oid, bmonad, words_rep, tree_rep,\n",
      "    ))\n",
      "    s += 1\n",
      "    sc += 1\n",
      "    if sc == chunk:\n",
      "        msg(\"{} trees written\".format(s))\n",
      "        sc = 0\n",
      "trees.close()    \n",
      "msg(\"{} trees written\".format(s))"
     ],
     "language": "python",
     "metadata": {},
     "outputs": [
      {
       "output_type": "stream",
       "stream": "stderr",
       "text": [
        " 3m 05s Writing sentence trees\n"
       ]
      },
      {
       "output_type": "stream",
       "stream": "stderr",
       "text": [
        " 3m 13s 10000 trees written\n"
       ]
      },
      {
       "output_type": "stream",
       "stream": "stderr",
       "text": [
        " 3m 22s 20000 trees written\n"
       ]
      },
      {
       "output_type": "stream",
       "stream": "stderr",
       "text": [
        " 3m 30s 30000 trees written\n"
       ]
      },
      {
       "output_type": "stream",
       "stream": "stderr",
       "text": [
        " 3m 37s 40000 trees written\n"
       ]
      },
      {
       "output_type": "stream",
       "stream": "stderr",
       "text": [
        " 3m 42s 50000 trees written\n"
       ]
      },
      {
       "output_type": "stream",
       "stream": "stderr",
       "text": [
        " 3m 46s 60000 trees written\n"
       ]
      },
      {
       "output_type": "stream",
       "stream": "stderr",
       "text": [
        " 3m 53s 70000 trees written\n"
       ]
      },
      {
       "output_type": "stream",
       "stream": "stderr",
       "text": [
        " 3m 54s 71341 trees written\n"
       ]
      }
     ],
     "prompt_number": 15
    },
    {
     "cell_type": "code",
     "collapsed": false,
     "input": [
      "close()"
     ],
     "language": "python",
     "metadata": {},
     "outputs": [
      {
       "output_type": "stream",
       "stream": "stderr",
       "text": [
        " 2m 18s Results directory:\n",
        "/Users/dirk/laf-fabric-data/bhs3/tasks/trees\n"
       ]
      },
      {
       "output_type": "stream",
       "stream": "stderr",
       "text": [
        "\n",
        ".DS_Store                              6148 Wed Apr 30 16:30:02 2014\n",
        "__log__trees.txt                       1877 Fri May 16 14:21:19 2014\n",
        "coor.txt                              70830 Wed Apr 30 20:57:45 2014\n",
        "depths.txt                           714284 Wed Apr 30 20:57:44 2014\n",
        "objects-deut-new.txt                    966 Fri Apr 25 09:53:16 2014\n",
        "objects-deut-old.txt                    966 Fri Apr 25 09:51:15 2014\n",
        "objects.txt                           15416 Fri Apr 25 09:47:18 2014\n",
        "tgrep_result.txt                    4916101 Wed Apr 30 20:57:37 2014\n",
        "tree_notabene-2014-04-30.txt         111037 Wed Apr 30 20:51:21 2014\n",
        "tree_notabene.txt                    114212 Fri May 16 14:20:01 2014\n",
        "trees-nocoor.txt                      13914 Mon Apr 28 09:59:30 2014\n",
        "trees-nosisters.txt                   13928 Mon Apr 28 09:59:30 2014\n",
        "trees-notransform.txt                   501 Mon Apr 28 09:47:29 2014\n",
        "trees-transformed.txt                   371 Mon Apr 28 09:47:43 2014\n",
        "trees.t2c                          12361153 Wed Apr 30 20:57:22 2014\n",
        "trees.txt                          10621788 Fri May 16 14:21:16 2014\n",
        "trees2014-04-30.txt                10626155 Wed Apr 30 20:56:26 2014\n",
        "trees_fixed_20.txt                   150015 Fri May 16 14:20:01 2014\n",
        "trees_random_20-2014-04-30.txt       150015 Wed Apr 30 20:51:21 2014\n",
        "trees_random_20.txt                  136817 Fri May 16 14:20:01 2014\n"
       ]
      }
     ],
     "prompt_number": 7
    },
    {
     "cell_type": "heading",
     "level": 1,
     "metadata": {},
     "source": [
      "Preview"
     ]
    },
    {
     "cell_type": "markdown",
     "metadata": {},
     "source": [
      "Here are the first lines of the output."
     ]
    },
    {
     "cell_type": "code",
     "collapsed": false,
     "input": [
      "!head -n 25 {my_file('trees.txt')}"
     ],
     "language": "python",
     "metadata": {},
     "outputs": [
      {
       "output_type": "stream",
       "stream": "stdout",
       "text": [
        "\r\n",
        "# GEN 01,01\tnode=1131694\toid=84383\tbmonad=1\t0 1 2 3 4 5 6 7 8 9 10\r\n",
        "(S(C(PP(pp \"B\")(n \"R>CJT\"))(VP(vb \"BR>\"))(NP(n \">LHJM\"))(PP(U(pp \">T\")(dt \"H\")(n \"CMJM\"))(cj \"W\")(U(pp \">T\")(dt \"H\")(n \">RY\")))))\r\n",
        "\r\n",
        "# GEN 01,02\tnode=1131695\toid=84384\tbmonad=12\t0 1 2 3 4 5 6\r\n",
        "(S(C(CP(cj \"W\"))(NP(dt \"H\")(n \">RY\"))(VP(vb \"HJTH\"))(NP(U(n \"THW\"))(cj \"W\")(U(n \"BHW\")))))\r\n",
        "\r\n",
        "# GEN 01,02\tnode=1131696\toid=84385\tbmonad=19\t0 1 2 3 4\r\n",
        "(S(C(CP(cj \"W\"))(NP(n \"XCK\"))(PP(pp \"<L\")(U(n \"PNJ\"))(U(n \"THWM\")))))\r\n",
        "\r\n",
        "# GEN 01,02\tnode=1131697\toid=84386\tbmonad=24\t0 1 2 3 4 5 6 7\r\n",
        "(S(C(CP(cj \"W\"))(NP(U(n \"RWX\"))(U(n \">LHJM\")))(VP(vb \"MRXPT\"))(PP(pp \"<L\")(U(n \"PNJ\"))(U(dt \"H\")(n \"MJM\")))))\r\n",
        "\r\n",
        "# GEN 01,03\tnode=1131698\toid=84387\tbmonad=32\t0 1 2\r\n",
        "(S(C(CP(cj \"W\"))(VP(vb \"J>MR\"))(NP(n \">LHJM\"))))\r\n",
        "\r\n",
        "# GEN 01,03\tnode=1131699\toid=84388\tbmonad=35\t0 1\r\n",
        "(S(C(VP(vb \"JHJ\"))(NP(n \">WR\"))))\r\n",
        "\r\n",
        "# GEN 01,03\tnode=1131700\toid=84389\tbmonad=37\t0 1 2\r\n",
        "(S(C(CP(cj \"W\"))(VP(vb \"JHJ\"))(NP(n \">WR\"))))\r\n",
        "\r\n",
        "# GEN 01,04\tnode=1131701\toid=84390\tbmonad=40\t0 1 2 3 4 5 6 7\r\n",
        "(S(C(CP(cj \"W\"))(VP(vb \"JR>\"))(NP(n \">LHJM\"))(PP(pp \">T\")(dt \"H\")(n \">WR\"))(Cobjc(CP(cj \"KJ\"))(VP(vb \"VWB\")))))\r\n",
        "\r\n"
       ]
      }
     ],
     "prompt_number": 7
    },
    {
     "cell_type": "code",
     "collapsed": false,
     "input": [],
     "language": "python",
     "metadata": {},
     "outputs": [],
     "prompt_number": 15
    }
   ],
   "metadata": {}
  }
 ]
}