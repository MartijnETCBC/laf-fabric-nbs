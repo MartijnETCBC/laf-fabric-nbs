{
 "metadata": {
  "name": "",
  "signature": "sha256:7439f143453edc398c66ef61b0b426fc0867e23e5820ebcb42c4371cf556f292"
 },
 "nbformat": 3,
 "nbformat_minor": 0,
 "worksheets": [
  {
   "cells": [
    {
     "cell_type": "markdown",
     "metadata": {},
     "source": [
      "<a href=\"http://laf-fabric.readthedocs.org/en/latest/\" target=\"_blank\"><img align=\"left\" src=\"images/laf-fabric-xsmall.png\"/></a>\n",
      "<a href=\"http://www.godgeleerdheid.vu.nl/etcbc\" target=\"_blank\"><img align=\"left\" src=\"images/VU-ETCBC-xsmall.png\"/></a>\n",
      "<a href=\"http://tla.mpi.nl\" target=\"_blank\"><img align=\"right\" src=\"images/TLA-xsmall.png\"/></a>\n",
      "<a href=\"http://www.dans.knaw.nl\" target=\"_blank\"><img align=\"right\"src=\"images/DANS-xsmall.png\"/></a>"
     ]
    },
    {
     "cell_type": "heading",
     "level": 1,
     "metadata": {},
     "source": [
      "Trees - for BHS data (Hebrew)"
     ]
    },
    {
     "cell_type": "code",
     "collapsed": false,
     "input": [
      "import sys\n",
      "import collections\n",
      "import random\n",
      "%load_ext autoreload\n",
      "%autoreload 2\n",
      "import laf\n",
      "from laf.fabric import LafFabric\n",
      "from etcbc.preprocess import prepare\n",
      "from etcbc.lib import Transcription\n",
      "from etcbc.trees import Tree\n",
      "fabric = LafFabric()\n",
      "tr = Transcription()\n",
      "API = fabric.load('bhs3', '--', 'trees', {\n",
      "    \"xmlids\": {\"node\": False, \"edge\": False},\n",
      "    \"features\": ('''\n",
      "        oid otype monads\n",
      "        surface_consonants\n",
      "        part_of_speech\n",
      "        clause_constituent_relation phrase_type\n",
      "        verse_label\n",
      "    ''','''\n",
      "        mother.\n",
      "    '''),\n",
      "    \"prepare\": prepare,\n",
      "}, verbose='NORMAL')\n",
      "exec(fabric.localnames.format(var='fabric'))\n",
      "type_info = (\n",
      "    (\"word\", ''),\n",
      "    (\"subphrase\", 'U'),\n",
      "    (\"phrase\", 'P'),\n",
      "    (\"clause\", 'C'),\n",
      "    (\"sentence\", 'S'),\n",
      ")\n",
      "\n",
      "type_table = dict(t for t in type_info)\n",
      "type_order = [t[0] for t in type_info]\n",
      "\n",
      "pos_table = {\n",
      " 'adjective':     'aj',\n",
      " 'adverb':        'av',\n",
      " 'article':       'dt',\n",
      " 'conjunction':   'cj',\n",
      " 'interjection':  'ij',\n",
      " 'interrogative': 'ir',\n",
      " 'negative':      'ng',\n",
      " 'noun':          'n',\n",
      " 'preposition':   'pp',\n",
      " 'pronoun':       'pr',\n",
      " 'verb':          'vb',\n",
      "}\n",
      "\n",
      "ccr_info = {\n",
      "    'Adju': ('c', 'Cadju'),\n",
      "    'Attr': ('p', 'Cattr'),\n",
      "    'Cmpl': ('c', 'Ccmpl'),\n",
      "    'CoVo': ('n', 'Ccovo'),\n",
      "    'Coor': ('x', 'Ccoor'),\n",
      "    'Objc': ('c', 'Cobjc'),\n",
      "    'Pred': ('c', 'Cpred'),\n",
      "    'Resu': ('n', 'Cresu'),\n",
      "    'RgRc': ('p', 'Crgrc'),\n",
      "    'Subj': ('c', 'Csubj'),\n",
      "    'none': ('n', 'C'),\n",
      "}\n",
      "\n",
      "ccr_table = dict((c[0],c[1][1]) for c in ccr_info.items())\n",
      "ccr_class = dict((c[0],c[1][0]) for c in ccr_info.items())\n",
      "\n",
      "tree = Tree(API, ['sentence', 'clause', 'phrase', 'subphrase', 'word'])\n",
      "tree.restructure_clauses(ccr_class)\n",
      "results = tree.relations()\n",
      "parent = results['rparent']\n",
      "sisters = results['sisters']\n",
      "children = results['rchildren']\n",
      "elder_sister = results['elder_sister']\n",
      "\n",
      "def get_tag(node):\n",
      "    otype = F.otype.v(node)\n",
      "    tag = type_table[otype]\n",
      "    if tag == 'P':\n",
      "        tag = F.phrase_type.v(node)\n",
      "    elif tag == 'C':\n",
      "        tag = ccr_table[F.clause_constituent_relation.v(node)]\n",
      "    is_word = tag == ''\n",
      "    pos = pos_table[F.part_of_speech.v(node)] if is_word else None\n",
      "    monad = int(F.monads.v(node)) if is_word else None\n",
      "    text = tr.to_hebrew(F.surface_consonants.v(node)) if is_word else None\n",
      "    return (tag, pos, monad, text, is_word)\n",
      "\n",
      "def showcases(cases, ofile):\n",
      "    out = outfile(ofile)\n",
      "    for snode in cases:\n",
      "        out.write(\"\\n====================\\n{}\\n{}\\nsentence bhs_id={} laf_node={}:\\n\".format(\n",
      "            sentence_verse[snode], cases[snode], F.oid.v(snode), snode,\n",
      "        ))\n",
      "        for kind in ('e', 'r'):\n",
      "            out.write(\"\\nTree based on monad embedding {}\\n\\n\".format(\n",
      "                \"only\" if kind == 'e' else \" and mother+clause_constituent relation\"\n",
      "            ))\n",
      "            out.write(tree.write_tree(snode, kind, get_tag))\n",
      "            out.write(\"\\n\\n\")\n",
      "            out.write(tree.debug_write_tree(snode, kind, legenda=kind=='r'))\n",
      "    out.close()\n",
      "\n",
      "sentence_verse = {}\n",
      "for n in NN():\n",
      "    otype = F.otype.v(n)\n",
      "    if otype == 'verse': cur_verse = F.verse_label.v(n)\n",
      "    elif otype == 'sentence': sentence_verse[n] = cur_verse"
     ],
     "language": "python",
     "metadata": {},
     "outputs": [
      {
       "output_type": "stream",
       "stream": "stderr",
       "text": [
        "  0.00s This is LAF-Fabric 4.2.5\n",
        "http://laf-fabric.readthedocs.org/texts/API-reference.html\n"
       ]
      },
      {
       "output_type": "stream",
       "stream": "stderr",
       "text": [
        "  0.00s LOADING API: please wait ... \n"
       ]
      },
      {
       "output_type": "stream",
       "stream": "stderr",
       "text": [
        "  0.65s INFO: DATA COMPILED AT: 2014-04-18T18-24-37\n"
       ]
      },
      {
       "output_type": "stream",
       "stream": "stderr",
       "text": [
        "  5.52s LOGFILE=/Users/dirk/laf-fabric-data/bhs3/tasks/trees/__log__trees.txt\n"
       ]
      },
      {
       "output_type": "stream",
       "stream": "stderr",
       "text": [
        "  6.62s INFO: DATA LOADED FROM SOURCE bhs3 AND ANNOX -- FOR TASK trees\n"
       ]
      },
      {
       "output_type": "stream",
       "stream": "stderr",
       "text": [
        "  0.00s LOADING API with EXTRAs: please wait ... \n"
       ]
      },
      {
       "output_type": "stream",
       "stream": "stderr",
       "text": [
        "  0.00s INFO: DATA COMPILED AT: 2014-04-18T18-24-37\n"
       ]
      },
      {
       "output_type": "stream",
       "stream": "stderr",
       "text": [
        "  0.93s LOGFILE=/Users/dirk/laf-fabric-data/bhs3/tasks/trees/__log__trees.txt\n"
       ]
      },
      {
       "output_type": "stream",
       "stream": "stderr",
       "text": [
        "  0.93s INFO: DATA LOADED FROM SOURCE bhs3 AND ANNOX -- FOR TASK trees\n"
       ]
      },
      {
       "output_type": "stream",
       "stream": "stderr",
       "text": [
        "  0.00s Start computing parent and children relations for objects of type sentence, clause, phrase, subphrase, word\n"
       ]
      },
      {
       "output_type": "stream",
       "stream": "stderr",
       "text": [
        "  1.44s 100000 nodes\n"
       ]
      },
      {
       "output_type": "stream",
       "stream": "stderr",
       "text": [
        "  3.23s 200000 nodes\n"
       ]
      },
      {
       "output_type": "stream",
       "stream": "stderr",
       "text": [
        "  5.32s 300000 nodes\n"
       ]
      },
      {
       "output_type": "stream",
       "stream": "stderr",
       "text": [
        "  7.28s 400000 nodes\n"
       ]
      },
      {
       "output_type": "stream",
       "stream": "stderr",
       "text": [
        "  9.43s 500000 nodes\n"
       ]
      },
      {
       "output_type": "stream",
       "stream": "stderr",
       "text": [
        "    11s 600000 nodes\n"
       ]
      },
      {
       "output_type": "stream",
       "stream": "stderr",
       "text": [
        "    13s 700000 nodes\n"
       ]
      },
      {
       "output_type": "stream",
       "stream": "stderr",
       "text": [
        "    15s 800000 nodes\n"
       ]
      },
      {
       "output_type": "stream",
       "stream": "stderr",
       "text": [
        "    16s 900000 nodes\n"
       ]
      },
      {
       "output_type": "stream",
       "stream": "stderr",
       "text": [
        "    17s 952885 nodes: 881531 have parents and 526386 have children\n"
       ]
      },
      {
       "output_type": "stream",
       "stream": "stderr",
       "text": [
        "    17s Restructuring clauses: deep copying tree relations\n"
       ]
      },
      {
       "output_type": "stream",
       "stream": "stderr",
       "text": [
        " 5m 58s END\n"
       ]
      },
      {
       "output_type": "stream",
       "stream": "stderr",
       "text": [
        "    24s Pass 0: Storing mother relationship\n"
       ]
      },
      {
       "output_type": "stream",
       "stream": "stderr",
       "text": [
        "    26s 13328 clauses have a mother\n"
       ]
      },
      {
       "output_type": "stream",
       "stream": "stderr",
       "text": [
        "    26s Pass 1: all clauses except those of type Coor\n"
       ]
      },
      {
       "output_type": "stream",
       "stream": "stderr",
       "text": [
        "    27s Pass 2: clauses of type Coor only\n"
       ]
      },
      {
       "output_type": "stream",
       "stream": "stderr",
       "text": [
        "    28s Mothers applied. Found 0 motherless clauses.\n"
       ]
      },
      {
       "output_type": "stream",
       "stream": "stderr",
       "text": [
        "    28s 862 nodes have 1 sisters\n"
       ]
      },
      {
       "output_type": "stream",
       "stream": "stderr",
       "text": [
        "    28s 23 nodes have 2 sisters\n"
       ]
      },
      {
       "output_type": "stream",
       "stream": "stderr",
       "text": [
        "    28s There are 908 sisters, 885 nodes have sisters.\n"
       ]
      },
      {
       "output_type": "stream",
       "stream": "stdout",
       "text": [
        "The autoreload extension is already loaded. To reload it, use:\n",
        "  %reload_ext autoreload\n"
       ]
      }
     ],
     "prompt_number": 39
    },
    {
     "cell_type": "heading",
     "level": 1,
     "metadata": {},
     "source": [
      "Checking for sanity"
     ]
    },
    {
     "cell_type": "markdown",
     "metadata": {},
     "source": [
      "1. How many sentence nodes? \n",
      "1. Does any sentence have a parent? \n",
      "1. Is every top node a sentence?\n",
      "1. Do you reach all sentences if you go up from words?\n",
      "1. Do you reach all words if you go down from sentences? \n",
      "1. Do you reach the same word in reconstructed trees as in embedded trees?\n",
      "1. From what object types to what object types does the parent relationship link?\n",
      "1. Has every node at most one mother?\n",
      "1. From what object types to what object types does the mother relationship link?\n",
      "1. Is the mother of a clause always in the same sentence?"
     ]
    },
    {
     "cell_type": "code",
     "collapsed": false,
     "input": [
      "#1\n",
      "print(len(set(NN(test=F.otype.v, value='sentence'))))"
     ],
     "language": "python",
     "metadata": {},
     "outputs": [
      {
       "output_type": "stream",
       "stream": "stdout",
       "text": [
        "71354\n"
       ]
      }
     ],
     "prompt_number": 2
    },
    {
     "cell_type": "code",
     "collapsed": false,
     "input": [
      "#2\n",
      "exceptions = set()\n",
      "for node in NN(test=F.otype.v, value='sentence'):\n",
      "    if node in parent: exceptions.add(node)\n",
      "if len(exceptions) == 0:\n",
      "    print(\"No sentence has a parent\")\n",
      "else:\n",
      "    print(\"{} sentences have a parent:\".format(len(exceptions)))\n",
      "    for n in sorted(exceptions):\n",
      "        p = parent[n]\n",
      "        print(\"{} {} [{}] has {} parent {} [{}]\".format(\n",
      "            'sentence', n, F.monads.v(n), \n",
      "            F.otype.v(p), p, F.monads.v(p)\n",
      "        ))"
     ],
     "language": "python",
     "metadata": {},
     "outputs": [
      {
       "output_type": "stream",
       "stream": "stdout",
       "text": [
        "No sentence has a parent\n"
       ]
      }
     ],
     "prompt_number": 3
    },
    {
     "cell_type": "code",
     "collapsed": false,
     "input": [
      "#3 (again a check on #1)\n",
      "exceptions = collections.defaultdict(lambda: [])\n",
      "sn = 0\n",
      "for node in NN():\n",
      "    otype = F.otype.v(node)\n",
      "    if otype not in type_table: continue\n",
      "    if otype == 'sentence': sn += 1\n",
      "    if node not in parent and node not in elder_sister and otype != 'sentence': \n",
      "        exceptions[otype].append(node)\n",
      "if len(exceptions) == 0:\n",
      "    print(\"All top nodes are sentences\")\n",
      "else:\n",
      "    print(\"Top nodes which are not sentences:\")\n",
      "    for t in sorted(exceptions):\n",
      "        print(\"{}: {}x\".format(t, len(exceptions[t])))\n",
      "print(\"{} sentences seen\".format(sn))\n",
      "\n",
      "problems = set()\n",
      "for c in exceptions['clause']:\n",
      "    s = tree.get_sentence(c, 'e')\n",
      "    problems.add(s)\n",
      "    v = sentence_verse[s]\n",
      "    print(\"clause={}, sentence={}, verse={}\".format(c, s, v))"
     ],
     "language": "python",
     "metadata": {},
     "outputs": [
      {
       "output_type": "stream",
       "stream": "stdout",
       "text": [
        "All top nodes are sentences\n",
        "71354 sentences seen\n"
       ]
      }
     ],
     "prompt_number": 4
    },
    {
     "cell_type": "code",
     "collapsed": false,
     "input": [
      "#4, 5\n",
      "def get_top(kind, rel, rela, multi):\n",
      "    seen = set()\n",
      "    top_nodes = set()\n",
      "    start_nodes = set(NN(test=F.otype.v, value=kind))\n",
      "    next_nodes = start_nodes\n",
      "    print(\"Starting from {} nodes ...\".format(kind))\n",
      "    while len(next_nodes):\n",
      "        new_next_nodes = set()\n",
      "        for node in next_nodes:\n",
      "            if node in seen: continue\n",
      "            seen.add(node)\n",
      "            is_top = True\n",
      "            if node in rel: \n",
      "                is_top = False\n",
      "                if multi:\n",
      "                    for c in rel[node]: new_next_nodes.add(c)\n",
      "                else:\n",
      "                    new_next_nodes.add(rel[node])\n",
      "            if node in rela: \n",
      "                is_top = False\n",
      "                if multi:\n",
      "                    for c in rela[node]: new_next_nodes.add(c)\n",
      "                else:\n",
      "                    new_next_nodes.add(rela[node])\n",
      "            if is_top: top_nodes.add(node)\n",
      "        next_nodes = new_next_nodes\n",
      "    top_types = collections.defaultdict(lambda: 0)\n",
      "    for t in top_nodes:\n",
      "        top_types[F.otype.v(t)] += 1\n",
      "    for t in top_types:\n",
      "        print(\"From {} {} nodes reached {} {} nodes\".format(len(start_nodes), kind, top_types[t], t))\n",
      "\n",
      "msg(\"Embedding trees\")\n",
      "get_top('word', tree.eparent, {}, False)\n",
      "get_top('sentence', tree.echildren, {}, True)\n",
      "msg(\"Restructd trees\")\n",
      "get_top('word', tree.rparent, tree.elder_sister, False)\n",
      "get_top('sentence', tree.rchildren, tree.sisters, True)\n",
      "msg(\"Done\")"
     ],
     "language": "python",
     "metadata": {},
     "outputs": [
      {
       "output_type": "stream",
       "stream": "stderr",
       "text": [
        "    39s Embedding trees\n"
       ]
      },
      {
       "output_type": "stream",
       "stream": "stdout",
       "text": [
        "Starting from word nodes ...\n",
        "From 426499 word nodes reached 71354 sentence nodes"
       ]
      },
      {
       "output_type": "stream",
       "stream": "stdout",
       "text": [
        "\n",
        "Starting from sentence nodes ..."
       ]
      },
      {
       "output_type": "stream",
       "stream": "stdout",
       "text": [
        "\n",
        "From 71354 sentence nodes reached 426499 word nodes"
       ]
      },
      {
       "output_type": "stream",
       "stream": "stderr",
       "text": [
        "    43s Restructd trees\n"
       ]
      },
      {
       "output_type": "stream",
       "stream": "stdout",
       "text": [
        "\n",
        "Starting from word nodes ..."
       ]
      },
      {
       "output_type": "stream",
       "stream": "stdout",
       "text": [
        "\n",
        "From 426499 word nodes reached 71352 sentence nodes"
       ]
      },
      {
       "output_type": "stream",
       "stream": "stdout",
       "text": [
        "\n",
        "Starting from sentence nodes ..."
       ]
      },
      {
       "output_type": "stream",
       "stream": "stdout",
       "text": [
        "\n",
        "From 71354 sentence nodes reached 425606 word nodes"
       ]
      },
      {
       "output_type": "stream",
       "stream": "stderr",
       "text": [
        "    47s Done\n"
       ]
      },
      {
       "output_type": "stream",
       "stream": "stdout",
       "text": [
        "\n"
       ]
      }
     ],
     "prompt_number": 5
    },
    {
     "cell_type": "code",
     "collapsed": false,
     "input": [
      "errors = []\n",
      "for snode in NN(test=F.otype.v, value='sentence'):\n",
      "    results = {}\n",
      "    for kind in ('e', 'r'):\n",
      "        results[kind] = frozenset(tree.get_leaves(snode, kind))\n",
      "    thisgood = results['e'] == results['r']\n",
      "    if not thisgood: errors.append(snode)\n",
      "msg(\"{} mismatches: {}\".format(len(errors), errors))"
     ],
     "language": "python",
     "metadata": {},
     "outputs": [
      {
       "output_type": "stream",
       "stream": "stderr",
       "text": [
        " 1m 24s 13 mismatches: [1143081, 1153973, 1158971, 1160416, 1160464, 1161141, 1163666, 1164830, 1167680, 1170057, 1193065, 1199681, 1199682]\n"
       ]
      }
     ],
     "prompt_number": 6
    },
    {
     "cell_type": "code",
     "collapsed": false,
     "input": [
      "sought = set()\n",
      "grab = False\n",
      "for n in NN():\n",
      "    otype = F.otype.v(n)\n",
      "    if otype == 'verse': grab = F.verse_label.v(n) == ' GEN 01,16'\n",
      "    if grab and otype == \"sentence\": sought.add(n)\n",
      "sought"
     ],
     "language": "python",
     "metadata": {},
     "outputs": [
      {
       "metadata": {},
       "output_type": "pyout",
       "prompt_number": 7,
       "text": [
        "{1131738, 1131739}"
       ]
      }
     ],
     "prompt_number": 7
    },
    {
     "cell_type": "code",
     "collapsed": false,
     "input": [
      "problem_desc = collections.OrderedDict((\n",
      "    (1131712, \"interesting\"), \n",
      "    (1131739, \"interesting\"), \n",
      "    (1164864, \"interesting\"),\n",
      "    (1143081, \"cyclic mothers\"),\n",
      "    (1153973, \"cyclic mothers\"),\n",
      "    (1158971, \"cyclic mothers\"),\n",
      "    (1158971, \"cyclic mothers\"),\n",
      "    (1160416, \"cyclic mothers\"),\n",
      "    (1160464, \"cyclic mothers\"),\n",
      "    (1161141, \"nested cyclic mothers: C.coor => C.attr => P below first C.coor\"), \n",
      "    (1163666, \"cyclic mothers\"), \n",
      "    (1164830, \"cyclic mothers\"), \n",
      "    (1167680, \"cyclic mothers\"), \n",
      "    (1170057, \"cyclic mothers\"), \n",
      "    (1193065, \"cyclic mothers\"), \n",
      "    (1199681, \"cyclic mothers\"), \n",
      "    (1199682, \"mother points outside sentence\"),\n",
      "))"
     ],
     "language": "python",
     "metadata": {},
     "outputs": [],
     "prompt_number": 25
    },
    {
     "cell_type": "code",
     "collapsed": false,
     "input": [
      "showcases(problem_desc, \"tree_notabene.txt\")"
     ],
     "language": "python",
     "metadata": {},
     "outputs": [],
     "prompt_number": 38
    },
    {
     "cell_type": "code",
     "collapsed": false,
     "input": [
      "#7\n",
      "plinked_types = collections.defaultdict(lambda: 0)\n",
      "for (c, p) in tree.eparent.items():\n",
      "    plinked_types[(F.otype.v(c), F.otype.v(p))] += 1\n",
      "for lt in sorted(plinked_types):\n",
      "    print(\"{}: {}x\".format(lt, plinked_types[lt]))"
     ],
     "language": "python",
     "metadata": {},
     "outputs": [
      {
       "output_type": "stream",
       "stream": "stdout",
       "text": [
        "('clause', 'sentence'): 88387x\n",
        "('phrase', 'clause'): 257109x\n",
        "('subphrase', 'phrase'): 81475x\n",
        "('subphrase', 'subphrase'): 28061x\n",
        "('word', 'phrase'): 306319x\n",
        "('word', 'subphrase'): 120180x\n"
       ]
      }
     ],
     "prompt_number": 29
    },
    {
     "cell_type": "code",
     "collapsed": false,
     "input": [
      "#8\n",
      "mother_len = {}\n",
      "mother = tree.mother\n",
      "for c in NN(test=F.otype.v, value='clause'):\n",
      "    lms = list(C.mother_.v(c))\n",
      "    ms = len(lms)\n",
      "    if ms: mother_len[c] = ms\n",
      "count = collections.defaultdict(lambda: 0)\n",
      "for c in mother: count[mother_len[c]] += 1\n",
      "msg(\"{} nodes have a mother\".format(len(mother_len)))\n",
      "for cnt in sorted(count):\n",
      "    msg(\"{} nodes have {} mothers\".format(count[cnt], cnt))      "
     ],
     "language": "python",
     "metadata": {},
     "outputs": [
      {
       "output_type": "stream",
       "stream": "stderr",
       "text": [
        "27m 27s 13328 nodes have a mother\n"
       ]
      },
      {
       "output_type": "stream",
       "stream": "stderr",
       "text": [
        "27m 27s 13328 nodes have 1 mothers\n"
       ]
      }
     ],
     "prompt_number": 30
    },
    {
     "cell_type": "code",
     "collapsed": false,
     "input": [
      "#9\n",
      "mlinked_types = collections.defaultdict(lambda: set())\n",
      "all_mothers = []\n",
      "for (c, m) in mother.items():\n",
      "    ctype = F.otype.v(c)\n",
      "    if ctype not in type_table: continue\n",
      "    all_mothers.append(c)\n",
      "    mlinked_types[(ctype, F.clause_constituent_relation.v(c), F.otype.v(m))].add(c)\n",
      "for lt in sorted(mlinked_types):\n",
      "    print(\"{}: {}x\".format(lt, len(mlinked_types[lt])))"
     ],
     "language": "python",
     "metadata": {},
     "outputs": [
      {
       "output_type": "stream",
       "stream": "stdout",
       "text": [
        "('clause', 'Adju', 'clause'): 4910x\n",
        "('clause', 'Attr', 'clause'): 2x\n",
        "('clause', 'Attr', 'phrase'): 4147x\n",
        "('clause', 'Attr', 'word'): 655x\n",
        "('clause', 'Cmpl', 'clause'): 74x\n",
        "('clause', 'Cmpl', 'word'): 1x\n",
        "('clause', 'CoVo', 'clause'): 143x\n",
        "('clause', 'Coor', 'clause'): 904x\n",
        "('clause', 'Coor', 'phrase'): 4x\n",
        "('clause', 'Objc', 'clause'): 1066x\n",
        "('clause', 'Pred', 'clause'): 91x\n",
        "('clause', 'Resu', 'clause'): 975x\n",
        "('clause', 'Resu', 'phrase'): 1x\n",
        "('clause', 'RgRc', 'clause'): 8x\n",
        "('clause', 'RgRc', 'phrase'): 4x\n",
        "('clause', 'RgRc', 'word'): 102x\n",
        "('clause', 'Subj', 'clause'): 241x\n"
       ]
      }
     ],
     "prompt_number": 43
    },
    {
     "cell_type": "code",
     "collapsed": false,
     "input": [
      "sample_size = 20\n",
      "sample = {}\n",
      "for s in range(20):\n",
      "    r = random.randint(0, len(all_mothers) - 1)\n",
      "    snode = tree.get_sentence(all_mothers[r], 'e')\n",
      "    sample[snode] = 'random sample in sentences with clauses with mothers'\n",
      "showcases(sample, 'trees_random_{}.txt'.format(sample_size))"
     ],
     "language": "python",
     "metadata": {},
     "outputs": [],
     "prompt_number": 44
    },
    {
     "cell_type": "code",
     "collapsed": false,
     "input": [
      "#10\n",
      "exceptions = set()\n",
      "for node in tree.mother:\n",
      "    if F.otype.v(node) not in type_table: continue\n",
      "    mnode = tree.mother[node]\n",
      "    snode = tree.get_sentence(node, 'e')\n",
      "    smnode = tree.get_sentence(mnode, 'e')\n",
      "    if snode != smnode:\n",
      "        exceptions.add((node, snode, smnode))\n",
      "print(\"{} nodes have a mother in another sentence\".format(len(exceptions)))\n",
      "for (n, sn, smn) in exceptions:\n",
      "    print(\"[{} {}]({}) occurs in {} but has mother in {}\".format(F.otype.v(n), F.monads.v(n), n, sn, smn))"
     ],
     "language": "python",
     "metadata": {},
     "outputs": [
      {
       "output_type": "stream",
       "stream": "stdout",
       "text": [
        "2 nodes have a mother in another sentence\n",
        "[clause 410634-410639](511447) occurs in 1199682 but has mother in 1199681\n",
        "[clause 410628-410633](511446) occurs in 1199682 but has mother in 1199681\n"
       ]
      }
     ],
     "prompt_number": 5
    },
    {
     "cell_type": "code",
     "collapsed": false,
     "input": [
      "trees = outfile(\"trees.txt\")\n",
      "\n",
      "msg(\"Writing trees ...\")\n",
      "verse_label = ''\n",
      "\n",
      "s = 0\n",
      "chunk = 10000\n",
      "sc = 0\n",
      "\n",
      "msg(\"making nodeset\")\n",
      "msg(\"processing sentence nodes\")\n",
      "for node in NN():\n",
      "    otype = F.otype.v(node)\n",
      "    if  otype == 'verse':\n",
      "        verse_label = F.verse_label.v(node)\n",
      "        continue\n",
      "    if otype != 'sentence': continue\n",
      "    trees.write(\"{}\\t{}\\n\".format(tree.write_tree(node, 'r', get_tag, rev=True), verse_label))\n",
      "    s += 1\n",
      "    sc += 1\n",
      "    if sc == chunk:\n",
      "        msg(\"{} trees written\".format(s))\n",
      "        sc = 0\n",
      "trees.close()    \n",
      "msg(\"{} trees written\".format(s))"
     ],
     "language": "python",
     "metadata": {},
     "outputs": [
      {
       "output_type": "stream",
       "stream": "stderr",
       "text": [
        "12m 56s Writing trees ...\n"
       ]
      },
      {
       "output_type": "stream",
       "stream": "stderr",
       "text": [
        "12m 56s making nodeset\n"
       ]
      },
      {
       "output_type": "stream",
       "stream": "stderr",
       "text": [
        "12m 56s processing sentence nodes\n"
       ]
      },
      {
       "output_type": "stream",
       "stream": "stderr",
       "text": [
        "12m 58s 10000 trees written\n"
       ]
      },
      {
       "output_type": "stream",
       "stream": "stderr",
       "text": [
        "13m 01s 20000 trees written\n"
       ]
      },
      {
       "output_type": "stream",
       "stream": "stderr",
       "text": [
        "13m 02s 30000 trees written\n"
       ]
      },
      {
       "output_type": "stream",
       "stream": "stderr",
       "text": [
        "13m 04s 40000 trees written\n"
       ]
      },
      {
       "output_type": "stream",
       "stream": "stderr",
       "text": [
        "13m 06s 50000 trees written\n"
       ]
      },
      {
       "output_type": "stream",
       "stream": "stderr",
       "text": [
        "13m 07s 60000 trees written\n"
       ]
      },
      {
       "output_type": "stream",
       "stream": "stderr",
       "text": [
        "13m 09s 70000 trees written\n"
       ]
      },
      {
       "output_type": "stream",
       "stream": "stderr",
       "text": [
        "13m 09s 71354 trees written\n"
       ]
      }
     ],
     "prompt_number": 12
    },
    {
     "cell_type": "code",
     "collapsed": false,
     "input": [
      "close()"
     ],
     "language": "python",
     "metadata": {},
     "outputs": [
      {
       "output_type": "stream",
       "stream": "stderr",
       "text": [
        " 8m 15s Results directory:\n",
        "/Users/dirk/laf-fabric-data/bhs3/tasks/trees\n"
       ]
      },
      {
       "output_type": "stream",
       "stream": "stderr",
       "text": [
        "\n",
        ".DS_Store                              6148 Mon Apr 28 08:58:14 2014\n",
        ".trees.txt.swp                        86016 Tue Apr 29 21:57:46 2014\n",
        "__log__trees.txt                       4640 Tue Apr 29 21:51:42 2014\n",
        "objects-deut-new.txt                    966 Fri Apr 25 09:53:16 2014\n",
        "objects-deut-old.txt                    966 Fri Apr 25 09:51:15 2014\n",
        "objects.txt                           15416 Fri Apr 25 09:47:18 2014\n",
        "tree_e_1131712.txt                     3120 Tue Apr 29 20:59:58 2014\n",
        "tree_e_1131739.txt                     5156 Tue Apr 29 20:59:58 2014\n",
        "tree_e_1143081.txt                     2320 Tue Apr 29 20:59:58 2014\n",
        "tree_e_1153973.txt                     4003 Tue Apr 29 20:59:58 2014\n",
        "tree_e_1158971.txt                     5685 Tue Apr 29 21:00:11 2014\n",
        "tree_e_1160416.txt                     2498 Tue Apr 29 20:59:58 2014\n",
        "tree_e_1160464.txt                     4004 Tue Apr 29 20:59:58 2014\n",
        "tree_e_1161141.txt                     3561 Tue Apr 29 20:59:58 2014\n",
        "tree_e_1163666.txt                     8247 Tue Apr 29 21:00:11 2014\n",
        "tree_e_1164830.txt                     3031 Tue Apr 29 20:59:58 2014\n",
        "tree_e_1164864.txt                    10021 Tue Apr 29 21:00:11 2014\n",
        "tree_e_1167680.txt                     4359 Tue Apr 29 21:00:11 2014\n",
        "tree_e_1170057.txt                     3212 Tue Apr 29 20:59:58 2014\n",
        "tree_e_1193065.txt                      996 Tue Apr 29 20:59:58 2014\n",
        "tree_e_1199681.txt                     2589 Tue Apr 29 20:59:58 2014\n",
        "tree_e_1199682.txt                     4759 Tue Apr 29 21:00:11 2014\n",
        "tree_r_1131712.txt                     3120 Tue Apr 29 20:59:58 2014\n",
        "tree_r_1131739.txt                     5148 Tue Apr 29 20:59:58 2014\n",
        "tree_r_1143081.txt                     1096 Tue Apr 29 20:59:58 2014\n",
        "tree_r_1153973.txt                     3165 Tue Apr 29 20:59:58 2014\n",
        "tree_r_1158971.txt                     4009 Tue Apr 29 20:59:58 2014\n",
        "tree_r_1160416.txt                     1532 Tue Apr 29 20:59:58 2014\n",
        "tree_r_1160464.txt                     3166 Tue Apr 29 20:59:58 2014\n",
        "tree_r_1161141.txt                     1692 Tue Apr 29 20:59:58 2014\n",
        "tree_r_1163666.txt                     6242 Tue Apr 29 20:59:58 2014\n",
        "tree_r_1164830.txt                     1483 Tue Apr 29 20:59:58 2014\n",
        "tree_r_1164864.txt                     9993 Tue Apr 29 21:00:11 2014\n",
        "tree_r_1167680.txt                     2683 Tue Apr 29 20:59:58 2014\n",
        "tree_r_1170057.txt                     1984 Tue Apr 29 20:59:58 2014\n",
        "tree_r_1193065.txt                      417 Tue Apr 29 20:59:58 2014\n",
        "tree_r_1199681.txt                      849 Tue Apr 29 20:59:58 2014\n",
        "tree_r_1199682.txt                     2052 Tue Apr 29 21:00:11 2014\n",
        "trees-nocoor.txt                      13914 Mon Apr 28 09:59:30 2014\n",
        "trees-nosisters.txt                   13928 Mon Apr 28 09:59:30 2014\n",
        "trees-notransform.txt                   501 Mon Apr 28 09:47:29 2014\n",
        "trees-transformed.txt                   371 Mon Apr 28 09:47:43 2014\n",
        "trees.txt                           7635236 Tue Apr 29 21:57:12 2014\n"
       ]
      },
      {
       "ename": "AttributeError",
       "evalue": "'NoneType' object has no attribute 'write'",
       "output_type": "pyerr",
       "traceback": [
        "\u001b[0;31m---------------------------------------------------------------------------\u001b[0m\n\u001b[0;31mAttributeError\u001b[0m                            Traceback (most recent call last)",
        "\u001b[0;32m<ipython-input-9-7113b4242903>\u001b[0m in \u001b[0;36m<module>\u001b[0;34m()\u001b[0m\n\u001b[0;32m----> 1\u001b[0;31m \u001b[0mclose\u001b[0m\u001b[0;34m(\u001b[0m\u001b[0;34m)\u001b[0m\u001b[0;34m\u001b[0m\u001b[0m\n\u001b[0m",
        "\u001b[0;32m/Library/Frameworks/Python.framework/Versions/3.4/lib/python3.4/site-packages/laf/data.py\u001b[0m in \u001b[0;36mfinish_task\u001b[0;34m(self, show)\u001b[0m\n\u001b[1;32m     55\u001b[0m                 \u001b[0mmg\u001b[0m\u001b[0;34m.\u001b[0m\u001b[0mappend\u001b[0m\u001b[0;34m(\u001b[0m\u001b[0;34m\"{:<30} {:>12} {}\"\u001b[0m\u001b[0;34m.\u001b[0m\u001b[0mformat\u001b[0m\u001b[0;34m(\u001b[0m\u001b[0mname\u001b[0m\u001b[0;34m,\u001b[0m \u001b[0msize\u001b[0m\u001b[0;34m,\u001b[0m \u001b[0mmtime\u001b[0m\u001b[0;34m)\u001b[0m\u001b[0;34m)\u001b[0m\u001b[0;34m\u001b[0m\u001b[0m\n\u001b[1;32m     56\u001b[0m             \u001b[0mself\u001b[0m\u001b[0;34m.\u001b[0m\u001b[0mstamp\u001b[0m\u001b[0;34m.\u001b[0m\u001b[0mNmsg\u001b[0m\u001b[0;34m(\u001b[0m\u001b[0;34m\"\\n\"\u001b[0m \u001b[0;34m+\u001b[0m \u001b[0;34m\"\\n\"\u001b[0m\u001b[0;34m.\u001b[0m\u001b[0mjoin\u001b[0m\u001b[0;34m(\u001b[0m\u001b[0mmg\u001b[0m\u001b[0;34m)\u001b[0m\u001b[0;34m,\u001b[0m \u001b[0mwithtime\u001b[0m\u001b[0;34m=\u001b[0m\u001b[0;32mFalse\u001b[0m\u001b[0;34m)\u001b[0m\u001b[0;34m\u001b[0m\u001b[0m\n\u001b[0;32m---> 57\u001b[0;31m         \u001b[0mself\u001b[0m\u001b[0;34m.\u001b[0m\u001b[0m_finish_logfile\u001b[0m\u001b[0;34m(\u001b[0m\u001b[0;34m)\u001b[0m\u001b[0;34m\u001b[0m\u001b[0m\n\u001b[0m\u001b[1;32m     58\u001b[0m \u001b[0;34m\u001b[0m\u001b[0m\n\u001b[1;32m     59\u001b[0m     \u001b[0;32mdef\u001b[0m \u001b[0m_finish_logfile\u001b[0m\u001b[0;34m(\u001b[0m\u001b[0mself\u001b[0m\u001b[0;34m)\u001b[0m\u001b[0;34m:\u001b[0m\u001b[0;34m\u001b[0m\u001b[0m\n",
        "\u001b[0;32m/Library/Frameworks/Python.framework/Versions/3.4/lib/python3.4/site-packages/laf/data.py\u001b[0m in \u001b[0;36m_finish_logfile\u001b[0;34m(self)\u001b[0m\n\u001b[1;32m     58\u001b[0m \u001b[0;34m\u001b[0m\u001b[0m\n\u001b[1;32m     59\u001b[0m     \u001b[0;32mdef\u001b[0m \u001b[0m_finish_logfile\u001b[0m\u001b[0;34m(\u001b[0m\u001b[0mself\u001b[0m\u001b[0;34m)\u001b[0m\u001b[0;34m:\u001b[0m\u001b[0;34m\u001b[0m\u001b[0m\n\u001b[0;32m---> 60\u001b[0;31m         \u001b[0mself\u001b[0m\u001b[0;34m.\u001b[0m\u001b[0mlog\u001b[0m\u001b[0;34m.\u001b[0m\u001b[0mwrite\u001b[0m\u001b[0;34m(\u001b[0m\u001b[0;34m\"\\nCLOSED AT:{}\"\u001b[0m\u001b[0;34m.\u001b[0m\u001b[0mformat\u001b[0m\u001b[0;34m(\u001b[0m\u001b[0mtime\u001b[0m\u001b[0;34m.\u001b[0m\u001b[0mstrftime\u001b[0m\u001b[0;34m(\u001b[0m\u001b[0;34m\"%Y-%m-%dT%H-%M-%S\"\u001b[0m\u001b[0;34m,\u001b[0m \u001b[0mtime\u001b[0m\u001b[0;34m.\u001b[0m\u001b[0mgmtime\u001b[0m\u001b[0;34m(\u001b[0m\u001b[0;34m)\u001b[0m\u001b[0;34m)\u001b[0m\u001b[0;34m)\u001b[0m\u001b[0;34m)\u001b[0m\u001b[0;34m\u001b[0m\u001b[0m\n\u001b[0m\u001b[1;32m     61\u001b[0m         \u001b[0;32mtry\u001b[0m\u001b[0;34m:\u001b[0m \u001b[0mself\u001b[0m\u001b[0;34m.\u001b[0m\u001b[0mlog\u001b[0m\u001b[0;34m.\u001b[0m\u001b[0mclose\u001b[0m\u001b[0;34m(\u001b[0m\u001b[0;34m)\u001b[0m\u001b[0;34m\u001b[0m\u001b[0m\n\u001b[1;32m     62\u001b[0m         \u001b[0;32mexcept\u001b[0m\u001b[0;34m:\u001b[0m \u001b[0;32mpass\u001b[0m\u001b[0;34m\u001b[0m\u001b[0m\n",
        "\u001b[0;31mAttributeError\u001b[0m: 'NoneType' object has no attribute 'write'"
       ]
      }
     ],
     "prompt_number": 9
    },
    {
     "cell_type": "heading",
     "level": 1,
     "metadata": {},
     "source": [
      "Preview"
     ]
    },
    {
     "cell_type": "markdown",
     "metadata": {},
     "source": [
      "Here are the first lines of the output."
     ]
    },
    {
     "cell_type": "code",
     "collapsed": false,
     "input": [
      "!head -n 25 {my_file('trees.txt')}"
     ],
     "language": "python",
     "metadata": {},
     "outputs": [
      {
       "output_type": "stream",
       "stream": "stdout",
       "text": [
        "(S(C(PP(pp 0)(n 1))(VP(vb 2))(NP(n 3))(PP(U(pp 4)(dt 5)(n 6))(cj 7)(U(pp 8)(dt 9)(n 10)))))\t\u05d1 \u05e8\u05d0\u05e9\u05c1\u05d9\u05ea \u05d1\u05e8\u05d0 \u05d0\u05dc\u05d4\u05d9\u05de \u05d0\u05ea \u05d4 \u05e9\u05c1\u05de\u05d9\u05de \u05d5 \u05d0\u05ea \u05d4 \u05d0\u05e8\u05e6\t GEN 01,01\r\n",
        "(S(C(CP(cj 0))(NP(dt 1)(n 2))(VP(vb 3))(NP(U(n 4))(cj 5)(U(n 6)))))\t\u05d5 \u05d4 \u05d0\u05e8\u05e6 \u05d4\u05d9\u05ea\u05d4 \u05ea\u05d4\u05d5 \u05d5 \u05d1\u05d4\u05d5\t GEN 01,02\r\n",
        "(S(C(CP(cj 0))(NP(n 1))(PP(pp 2)(U(n 3))(U(n 4)))))\t\u05d5 \u05d7\u05e9\u05c1\u05db \u05e2\u05dc \u05e4\u05e0\u05d9 \u05ea\u05d4\u05d5\u05de\t GEN 01,02\r\n",
        "(S(C(CP(cj 0))(NP(U(n 1))(U(n 2)))(VP(vb 3))(PP(pp 4)(U(n 5))(U(dt 6)(n 7)))))\t\u05d5 \u05e8\u05d5\u05d7 \u05d0\u05dc\u05d4\u05d9\u05de \u05de\u05e8\u05d7\u05e4\u05ea \u05e2\u05dc \u05e4\u05e0\u05d9 \u05d4 \u05de\u05d9\u05de\t GEN 01,02\r\n",
        "(S(C(CP(cj 0))(VP(vb 1))(NP(n 2))))\t\u05d5 \u05d9\u05d0\u05de\u05e8 \u05d0\u05dc\u05d4\u05d9\u05de\t GEN 01,03\r\n",
        "(S(C(VP(vb 0))(NP(n 1))))\t\u05d9\u05d4\u05d9 \u05d0\u05d5\u05e8\t GEN 01,03\r\n",
        "(S(C(CP(cj 0))(VP(vb 1))(NP(n 2))))\t\u05d5 \u05d9\u05d4\u05d9 \u05d0\u05d5\u05e8\t GEN 01,03\r\n",
        "(S(C(CP(cj 0))(VP(vb 1))(NP(n 2))(PP(pp 3)(dt 4)(n 5)))(Cobjc(CP(cj 6))(VP(vb 7))))\t\u05d5 \u05d9\u05e8\u05d0 \u05d0\u05dc\u05d4\u05d9\u05de \u05d0\u05ea \u05d4 \u05d0\u05d5\u05e8 \u05db\u05d9 \u05d8\u05d5\u05d1\t GEN 01,04\r\n",
        "(S(C(CP(cj 0))(VP(vb 1))(NP(n 2))(PP(U(n 3)(dt 4)(n 5))(cj 6)(U(n 7)(dt 8)(n 9)))))\t\u05d5 \u05d9\u05d1\u05d3\u05dc \u05d0\u05dc\u05d4\u05d9\u05de \u05d1\u05d9\u05e0 \u05d4 \u05d0\u05d5\u05e8 \u05d5 \u05d1\u05d9\u05e0 \u05d4 \u05d7\u05e9\u05c1\u05db\t GEN 01,04\r\n",
        "(S(C(CP(cj 0))(VP(vb 1))(NP(n 2))(PP(pp 3)(dt 4)(n 5))(NP(n 6))))\t\u05d5 \u05d9\u05e7\u05e8\u05d0 \u05d0\u05dc\u05d4\u05d9\u05de \u05dc . \u05d0\u05d5\u05e8 \u05d9\u05d5\u05de\t GEN 01,05\r\n",
        "(S(C(CP(cj 0))(PP(pp 1)(dt 2)(n 3))(VP(vb 4))(NP(n 5))))\t\u05d5 \u05dc . \u05d7\u05e9\u05c1\u05db \u05e7\u05e8\u05d0 \u05dc\u05d9\u05dc\u05d4\t GEN 01,05\r\n",
        "(S(C(CP(cj 0))(VP(vb 1))(NP(n 2))))\t\u05d5 \u05d9\u05d4\u05d9 \u05e2\u05e8\u05d1\t GEN 01,05\r\n",
        "(S(C(CP(cj 0))(VP(vb 1))(NP(n 2))))\t\u05d5 \u05d9\u05d4\u05d9 \u05d1\u05e7\u05e8\t GEN 01,05\r\n",
        "(S(C(NP(U(n 0))(U(n 1)))))\t\u05d9\u05d5\u05de \u05d0\u05d7\u05d3\t GEN 01,05\r\n",
        "(S(C(CP(cj 0))(VP(vb 1))(NP(n 2))))\t\u05d5 \u05d9\u05d0\u05de\u05e8 \u05d0\u05dc\u05d4\u05d9\u05de\t GEN 01,06\r\n",
        "(S(C(VP(vb 0))(NP(n 1))(PP(pp 2)(U(n 3))(U(dt 4)(n 5)))))\t\u05d9\u05d4\u05d9 \u05e8\u05e7\u05d9\u05e2 \u05d1 \u05ea\u05d5\u05db \u05d4 \u05de\u05d9\u05de\t GEN 01,06\r\n",
        "(S(C(CP(cj 0))(VP(vb 1))(VP(vb 2))(PP(n 3)(n 4)(pp 5)(n 6))))\t\u05d5 \u05d9\u05d4\u05d9 \u05de\u05d1\u05d3\u05d9\u05dc \u05d1\u05d9\u05e0 \u05de\u05d9\u05de \u05dc \u05de\u05d9\u05de\t GEN 01,06\r\n",
        "(S(C(CP(cj 0))(VP(vb 1))(NP(n 2))(PP(pp 3)(dt 4)(n 5))))\t\u05d5 \u05d9\u05e2\u05e9\u05c2 \u05d0\u05dc\u05d4\u05d9\u05de \u05d0\u05ea \u05d4 \u05e8\u05e7\u05d9\u05e2\t GEN 01,07\r\n",
        "(S(C(CP(cj 0))(VP(vb 1))(PP(n 2)(dt 3)(n 4))(CP(cj 11))(PP(n 12)(dt 13)(n 14)))(Cattr(CP(cj 5))(PP(pp 6)(n 7)(pp 8)(dt 9)(n 10)))(Cattr(CP(cj 15))(PP(pp 16)(pp 17)(pp 18)(dt 19)(n 20))))\t\u05d5 \u05d9\u05d1\u05d3\u05dc \u05d1\u05d9\u05e0 \u05d4 \u05de\u05d9\u05de \u05d0\u05e9\u05c1\u05e8 \u05de \u05ea\u05d7\u05ea \u05dc . \u05e8\u05e7\u05d9\u05e2 \u05d5 \u05d1\u05d9\u05e0 \u05d4 \u05de\u05d9\u05de \u05d0\u05e9\u05c1\u05e8 \u05de \u05e2\u05dc \u05dc . \u05e8\u05e7\u05d9\u05e2\t GEN 01,07\r\n",
        "(S(C(CP(cj 0))(VP(vb 1))(AdvP(av 2))))\t\u05d5 \u05d9\u05d4\u05d9 \u05db\u05e0\t GEN 01,07\r\n",
        "(S(C(CP(cj 0))(VP(vb 1))(NP(n 2))(PP(pp 3)(dt 4)(n 5))(NP(n 6))))\t\u05d5 \u05d9\u05e7\u05e8\u05d0 \u05d0\u05dc\u05d4\u05d9\u05de \u05dc . \u05e8\u05e7\u05d9\u05e2 \u05e9\u05c1\u05de\u05d9\u05de\t GEN 01,08\r\n",
        "(S(C(CP(cj 0))(VP(vb 1))(NP(n 2))))\t\u05d5 \u05d9\u05d4\u05d9 \u05e2\u05e8\u05d1\t GEN 01,08\r\n",
        "(S(C(CP(cj 0))(VP(vb 1))(NP(n 2))))\t\u05d5 \u05d9\u05d4\u05d9 \u05d1\u05e7\u05e8\t GEN 01,08\r\n",
        "(S(C(NP(U(n 0))(U(aj 1)))))\t\u05d9\u05d5\u05de \u05e9\u05c1\u05e0\u05d9\t GEN 01,08\r\n",
        "(S(C(CP(cj 0))(VP(vb 1))(NP(n 2))))\t\u05d5 \u05d9\u05d0\u05de\u05e8 \u05d0\u05dc\u05d4\u05d9\u05de\t GEN 01,09\r\n"
       ]
      }
     ],
     "prompt_number": 81
    },
    {
     "cell_type": "code",
     "collapsed": false,
     "input": [],
     "language": "python",
     "metadata": {},
     "outputs": []
    }
   ],
   "metadata": {}
  }
 ]
}