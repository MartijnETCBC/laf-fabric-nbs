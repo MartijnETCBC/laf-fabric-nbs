{
 "metadata": {
  "name": "",
  "signature": "sha256:fbbd0da2c5e1e101d8b14b8f447cedb667e06b86150056ec2205b79e314252a9"
 },
 "nbformat": 3,
 "nbformat_minor": 0,
 "worksheets": [
  {
   "cells": [
    {
     "cell_type": "markdown",
     "metadata": {},
     "source": [
      "<a href=\"http://laf-fabric.readthedocs.org/en/latest/\" target=\"_blank\"><img align=\"left\" src=\"images/laf-fabric-xsmall.png\"/></a>\n",
      "<a href=\"http://www.godgeleerdheid.vu.nl/etcbc\" target=\"_blank\"><img align=\"left\" src=\"images/VU-ETCBC-xsmall.png\"/></a>\n",
      "<a href=\"http://tla.mpi.nl\" target=\"_blank\"><img align=\"right\" src=\"images/TLA-xsmall.png\"/></a>\n",
      "<a href=\"http://www.dans.knaw.nl\" target=\"_blank\"><img align=\"right\"src=\"images/DANS-xsmall.png\"/></a>"
     ]
    },
    {
     "cell_type": "heading",
     "level": 1,
     "metadata": {},
     "source": [
      "Trees - for BHS data (Hebrew)"
     ]
    },
    {
     "cell_type": "markdown",
     "metadata": {},
     "source": [
      "This notebook composes syntax trees out of the ETCBC data.\n",
      "To this end, it imports the module ``etcbc.trees``, which contains the logic to\n",
      "synthesize trees from the data as it lies encoded in an EMDROS database and has been translated to LAF.\n",
      "\n",
      "``etcbc.trees`` can also work for other data, such as the CALAP database of parts of the Syriac Peshitta.\n",
      "\n",
      "This notebook invokes the functions of ``etcbc.trees`` to generate trees for every sentence in the Hebrew Bible.\n",
      "After that it performs a dozen sanity checks on the trees.\n",
      "There are 13 sentences that do not pass some of these tests (out of 71354). \n",
      "\n",
      "They will be excluded from further processing, since they probably have been coded wrong in the first place.\n",
      "\n",
      "<span style=\"color: red; font-weight: bold\">\n",
      "An earlier method of tree construction can be found in the notebook [trees](http://nbviewer.ipython.org/github/ETCBC/laf-fabric-nbs/blob/master/trees.ipynb).\n",
      "</span>"
     ]
    },
    {
     "cell_type": "heading",
     "level": 2,
     "metadata": {},
     "source": [
      "ETCBC data and syntax trees"
     ]
    },
    {
     "cell_type": "markdown",
     "metadata": {},
     "source": [
      "The process of tree construction is not straightforward, since the ETCBC data have not been coded as syntax trees.\n",
      "Rather they take the shape of a collection of features that describe observable characteristics of the words, phrases, clauses and\n",
      "sentences. Moreover, if a phrase, clause or sentence is discontinuous, it is divided in *phrase_atoms*, *clause_atoms*,\n",
      "or *sentence_atoms*, respectively, which are by definition continuous.\n",
      "\n",
      "There are no explicit hierarchical relationships between these objects. But there is an implicit hierarchy: *embedding*.\n",
      "Every object carries with it the set of word occurrences it contains.\n",
      "\n",
      "The module ``etcbc.trees`` constructs a hierarchy of words, subphrases, phrases, clauses and sentences based on the embedding\n",
      "relationship. \n",
      "\n",
      "But this is not all. The ETCBC data contains a *mother* relationship, which in some cases denotes a parent relationship between \n",
      "objects. The module ``etcbc.trees`` reconstructs the tree obtained from the embedding by \n",
      "using the mother relationship as a set of instructions to move certain nodes below others.\n",
      "In some cases extra nodes will be constructed as well."
     ]
    },
    {
     "cell_type": "heading",
     "level": 2,
     "metadata": {},
     "source": [
      "The embedding relationship"
     ]
    },
    {
     "cell_type": "markdown",
     "metadata": {},
     "source": [
      "###Objects:\n",
      "The ETCBC data is coded in such a way that every object is associated with a *type* and a *monad set*. \n",
      "\n",
      "The *type* of an object, $T(O)$, determines which features an object has. ETCBC types are ``sentence``, ``sentence_atom``,\n",
      "``clause``, ``clause_atom``, ``phrase``, ``phrase_atom``, ``subphrase``, ``word``.\n",
      "\n",
      "There is an implicit *ordering of object types*, given by the sequence above, where ``word`` comes first and \n",
      "``sentence`` comes last. We denote this ordering by $<$.\n",
      "\n",
      "The *monad set* of an object, $m(O)$, is the set of word occurrences contained by that object.\n",
      "Every word occurrence in the source has a unique sequence number, so monad sets are sets of sequence numbers.\n",
      "\n",
      "Note that\n",
      "when a sentence contains a clause which contains a phrase, the sentence, clause, and phrase contain words directly as monad sets. The fact that a sentence contains a clause is not marked directly, it is a consequence of the monad set embedding.\n",
      "\n",
      "###Definition (monad set order):\n",
      "There is a natural order on monad sets, following the intuition that monad sets with smaller elements come before monad set with bigger elements, and embedding monad sets come before embedded monad sets.\n",
      "Hence, if you enumerate a set of objects that happens to constitute a tree hierarchy based on monad set embedding, and you enumerate those objects in the monad set order, you will walk the tree in pre-order.\n",
      "\n",
      "This order is a modification of the one as described in (Doedens 1994, 3.6.3).\n",
      "<img src=\"images/DoedensLO.png\"/>\n",
      "> Doedens, Crist-Jan (1994), *Text Databases. One Database Model and Several Retrieval Languages*, number 14 in Language and Computers, Editions Rodopi, Amsterdam, Netherlands and Atlanta, USA. ISBN: 90-5183-729-1, http://books.google.nl/books?id=9ggOBRz1dO4C.\n",
      "The order as defined by Doedens corresponds to walking trees in post-order.\n",
      "\n",
      "For a lot of processing, it is handy to have a the stack of embedding elements available when working with an element. That is the advantage of pre-order over post-order. It is very much like SAX parsing.\n",
      "\n",
      "Here is as the formal definition of my order:\n",
      "\n",
      "$m_1 < m_2$ if either of the following holds:\n",
      "\n",
      "1. $m_2 \\subset m_1$ (note that the embedder comes first!)\n",
      "1. $m_1 \\not\\subset m_2 \\wedge m_2 \\not\\subset m_1 \\wedge \\min(m_1 \\setminus m_2) < \\min(m_2 \\setminus m_1)$\n",
      "\n",
      "We will not base our trees on *all* object types, since in the ETCBC data they do not constitute a single hierarchy.\n",
      "We will restrict ourselves to the set $\\cal O = \\{$ ``sentence``, ``clause``, ``phrase``, ``word`` $\\}$.\n",
      "\n",
      "###Definition (directly below):\n",
      "Object type $T_1$ is *directly below* $T_2$ ( $T_1 <_1 T_2 $ ) in $\\cal O$ if $T_1 < T_2$ and there is no $T$ in $\\cal O$ with\n",
      "$T_1 < T < T_2$.\n",
      "\n",
      "Now we can introduce the notion of (tree) parent with respect to a set of object types $\\cal O$\n",
      "(e.g. ):\n",
      "\n",
      "###Definition (parent)\n",
      "Object $A$ is a parent of object $B$ if the following are true:\n",
      "1. $m(A) \\subseteq\\ m(B)$ \n",
      "2. $T(A) <_1 T(B)$ in $\\cal O$."
     ]
    },
    {
     "cell_type": "heading",
     "level": 2,
     "metadata": {},
     "source": [
      "The mother relationship"
     ]
    },
    {
     "cell_type": "markdown",
     "metadata": {},
     "source": [
      "While using the embedding got us trees, using the mother relationship will give us more interesting trees.\n",
      "In general, the *mother* in the ETCBC points to an object on which the object in question is, in some sense, dependent.\n",
      "The nature of this dependency is coded in a specific feature on clauses, the ``clause_constituent_relation``.\n",
      "For a list of values this feature can take and the associated meanings, see the \n",
      "notebook [clause_phrase_types](http://nbviewer.ipython.org/github/ETCBC/laf-fabric-nbs/blob/master/clause_phrase_types.ipynb) in this directory.\n",
      "\n",
      "Here is a description of what we do with the mother relationship.\n",
      "\n",
      "If a *clause* has a mother, there are three cases for the *clause_constituent_relation* of this clause:\n",
      "\n",
      "1. its value is in $\\{$ ``Adju``, ``Objc``, ``Subj``, ``Pred``, ``Cmpl``, ``Attr``, ``RgRc`` $\\}$\n",
      "2. its value is ``Coor``\n",
      "3. its value is in $\\{$ ``Resu``, ``Covo``, ``none`` $\\}$\n",
      "\n",
      "In case 3 we do nothing.\n",
      "\n",
      "In case 1 we remove the link of the clause to its parent and add the clause as a child to either the object that the mother\n",
      "points to, or to the parent of the mother. We do the latter only if the mother is a word. We will not add children to words.\n",
      "\n",
      "In the diagrams, the red arrows represent the mother relationship, and the black arrows the embedding relationships, and the fat black arrows the new parent relationships. The gray arrows indicated severed parent links.\n",
      "\n",
      "<img src=\"images/TreesCase1.pdf\"/>\n",
      "\n",
      "In case 2 we create a node between the mother and its parent.\n",
      "This node takes the name of the mother, and the mother will be added as child, but with name ``Ccoor``, and the clause which points to the mother is added as a sister.\n",
      "\n",
      "This is a rather complicated case, but the intuition is not that difficult. Consider the sentence:\n",
      "\n",
      "    John thinks that Mary said it and did it\n",
      "   \n",
      "We have a compound object sentence, with ``Mary said it`` and ``did it`` as coordinated components.\n",
      "The way this has been marked up in the ETCBC database is as follows:\n",
      "\n",
      "``Mary said it``, clause with ``clause_constituent_relation``=``Objc``, ``mother``=``John thinks``(clause)\n",
      "\n",
      "``and did it``, clause with ``clause_constituent_relation``=``Coor``, ``mother``=``Mary said it``(clause)\n",
      "\n",
      "So the second coordinated clause is simply linked to the first coordinated clause. Restructuring means to create a parent for both coordinated clauses and treat both as sisters at the same hierarchical level. See the diagram.\n",
      "\n",
      "<img src=\"images/TreesCase2.pdf\"/>\n",
      "\n",
      "### Note on order\n",
      "When we add nodes to new parents, we let them occupy the sequential position among its new sisters that corresponds with the monad set ordering.\n",
      "\n",
      "### Note on discontinuity\n",
      "Sentences, clauses and phrases are not always continuous. Before restructuring it will not always be the case that if you\n",
      "walk the tree in pre-order, you will end up with the leaves (the words) in the same order as the original sentence.\n",
      "Restructuring generally improves that, because it often puts an object under a non-continuous parent object precisely at the location that corresponds with the a gap in the parent.\n",
      "\n",
      "However, there is no guarantee that every discontinuity will be resolved in this graceful manner.\n",
      "When we create the trees, we also output the list of monad numbers that you get when you walk the tree in pre-order.\n",
      "Whenever this list is not monotonic, there is an issue with the ordering.\n",
      "\n",
      "### Note on incest\n",
      "If a mother points to itself or a descendant of itself, we have a grave form of incest. In these cases, the restructuring algorithm will disconnect a parent link without introducing a new link to the tree above it: a whole fragment of the tree becomes disconnected and will get lost.\n",
      "\n",
      "Sanity check 6 below reveals that this occurs in fact 13 times in the ETCBC data in its BHS3 version! \n",
      "We will exclude these trees from further processing.\n",
      "\n",
      "### Note on adultery\n",
      "If a mother points outside the sentence of the clause on which it is specified we have a form of adultery.\n",
      "This should not happen. Mothers may point outside their sentences, but not in the cases that trigger restructuring.\n",
      "Yet, the sanity checks below reveal that this occurs twice. We will exclude these cases from further processing."
     ]
    },
    {
     "cell_type": "code",
     "collapsed": false,
     "input": [
      "import sys\n",
      "import collections\n",
      "import random\n",
      "%load_ext autoreload\n",
      "%autoreload 2\n",
      "\n",
      "import laf\n",
      "from laf.fabric import LafFabric\n",
      "from etcbc.preprocess import prepare\n",
      "from etcbc.lib import Transcription, monad_set\n",
      "from etcbc.trees import Tree\n",
      "\n",
      "fabric = LafFabric()\n",
      "tr = Transcription()"
     ],
     "language": "python",
     "metadata": {},
     "outputs": [
      {
       "output_type": "stream",
       "stream": "stderr",
       "text": [
        "  0.00s This is LAF-Fabric 4.2.8\n",
        "http://laf-fabric.readthedocs.org/texts/API-reference.html\n"
       ]
      }
     ],
     "prompt_number": 1
    },
    {
     "cell_type": "markdown",
     "metadata": {},
     "source": [
      "The engines are fired up now, all ETCBC data we need is accessible through the ``fabric`` and ``tr`` objects.\n",
      "\n",
      "Next we select the information we want and load it into memory."
     ]
    },
    {
     "cell_type": "code",
     "collapsed": false,
     "input": [
      "API = fabric.load('bhs3', '--', 'trees', {\n",
      "    \"xmlids\": {\"node\": False, \"edge\": False},\n",
      "    \"features\": ('''\n",
      "        oid otype monads\n",
      "        surface_consonants\n",
      "        part_of_speech\n",
      "        clause_constituent_relation phrase_type\n",
      "        verse_label\n",
      "    ''','''\n",
      "        mother.\n",
      "    '''),\n",
      "    \"prepare\": prepare,\n",
      "}, verbose='NORMAL')\n",
      "exec(fabric.localnames.format(var='fabric'))"
     ],
     "language": "python",
     "metadata": {},
     "outputs": [
      {
       "output_type": "stream",
       "stream": "stderr",
       "text": [
        "  0.00s LOADING API: please wait ... \n"
       ]
      },
      {
       "output_type": "stream",
       "stream": "stderr",
       "text": [
        "  0.00s INFO: DATA COMPILED AT: 2014-04-18T18-24-37\n"
       ]
      },
      {
       "output_type": "stream",
       "stream": "stderr",
       "text": [
        "  3.54s LOGFILE=/Users/dirk/laf-fabric-data/bhs3/tasks/trees/__log__trees.txt\n"
       ]
      },
      {
       "output_type": "stream",
       "stream": "stderr",
       "text": [
        "  4.06s INFO: DATA LOADED FROM SOURCE bhs3 AND ANNOX -- FOR TASK trees\n"
       ]
      }
     ],
     "prompt_number": 2
    },
    {
     "cell_type": "markdown",
     "metadata": {},
     "source": [
      "Before we can apply tree construction, we have to specify the objects and features we work with, since the tree constructing\n",
      "algorithm can also work on slightly different data, with other object types and different feature names.\n",
      "\n",
      "We also construct an index that tells to which verse each sentence belongs."
     ]
    },
    {
     "cell_type": "code",
     "collapsed": false,
     "input": [
      "type_info = (\n",
      "    (\"word\", ''),\n",
      "    (\"subphrase\", 'U'),\n",
      "    (\"phrase\", 'P'),\n",
      "    (\"clause\", 'C'),\n",
      "    (\"sentence\", 'S'),\n",
      ")\n",
      "type_table = dict(t for t in type_info)\n",
      "type_order = [t[0] for t in type_info]\n",
      "pos_table = {\n",
      " 'adjective':     'aj',\n",
      " 'adverb':        'av',\n",
      " 'article':       'dt',\n",
      " 'conjunction':   'cj',\n",
      " 'interjection':  'ij',\n",
      " 'interrogative': 'ir',\n",
      " 'negative':      'ng',\n",
      " 'noun':          'n',\n",
      " 'preposition':   'pp',\n",
      " 'pronoun':       'pr',\n",
      " 'verb':          'vb',\n",
      "}\n",
      "ccr_info = {\n",
      "    'Adju': ('r', 'Cadju'),\n",
      "    'Attr': ('r', 'Cattr'),\n",
      "    'Cmpl': ('r', 'Ccmpl'),\n",
      "    'CoVo': ('n', 'Ccovo'),\n",
      "    'Coor': ('x', 'Ccoor'),\n",
      "    'Objc': ('r', 'Cobjc'),\n",
      "    'Pred': ('r', 'Cpred'),\n",
      "    'Resu': ('n', 'Cresu'),\n",
      "    'RgRc': ('r', 'Crgrc'),\n",
      "    'Subj': ('r', 'Csubj'),\n",
      "    'none': ('n', 'C'),\n",
      "}\n",
      "tree_types = ('sentence', 'clause', 'phrase', 'subphrase', 'word')\n",
      "(root_type, leaf_type, clause_type) = (tree_types[0], tree_types[-1], 'clause')\n",
      "ccr_table = dict((c[0],c[1][1]) for c in ccr_info.items())\n",
      "ccr_class = dict((c[0],c[1][0]) for c in ccr_info.items())\n",
      "\n",
      "root_verse = {}\n",
      "\n",
      "for n in NN():\n",
      "    otype = F.otype.v(n)\n",
      "    if otype == 'verse': cur_verse = F.verse_label.v(n)\n",
      "    elif otype == root_type: root_verse[n] = cur_verse"
     ],
     "language": "python",
     "metadata": {},
     "outputs": [],
     "prompt_number": 3
    },
    {
     "cell_type": "markdown",
     "metadata": {},
     "source": [
      "Now we can actually construct the tree by initializing a tree object.\n",
      "After that we call its ``restructure_clauses()`` method.\n",
      "\n",
      "Then we have two tree structures for each sentence: \n",
      "\n",
      "* the *etree*, i.e. the tree obtained by working out the embedding relationships and nothing else\n",
      "* the *rtree*, i.e. the tree obtained by restructuring the *etree*\n",
      "\n",
      "We have several tree relationships at our disposal:\n",
      "\n",
      "* *eparent* and its inverse *echildren*\n",
      "* *rparent* and its inverse *rchildren*\n",
      "* *eldest_sister* going from a mother clause of kind ``Coor`` (case 2) to its daughter clauses\n",
      "* *sisters* being the inverse of *eldest_sister*\n",
      "\n",
      "where *eldest_sister* and *sisters* only occur in the *rtree*.\n",
      "\n",
      "This will take a while (25 seconds approx on a MacBook Air 2012)."
     ]
    },
    {
     "cell_type": "code",
     "collapsed": false,
     "input": [
      "tree = Tree(API, otypes=tree_types, clause_type=clause_type)\n",
      "tree.restructure_clauses(ccr_class)\n",
      "results = tree.relations()\n",
      "parent = results['rparent']\n",
      "sisters = results['sisters']\n",
      "children = results['rchildren']\n",
      "elder_sister = results['elder_sister']\n",
      "msg(\"Ready for processing\")"
     ],
     "language": "python",
     "metadata": {},
     "outputs": [
      {
       "output_type": "stream",
       "stream": "stderr",
       "text": [
        "  0.00s LOADING API with EXTRAs: please wait ... \n"
       ]
      },
      {
       "output_type": "stream",
       "stream": "stderr",
       "text": [
        "  0.00s INFO: DATA COMPILED AT: 2014-04-18T18-24-37\n"
       ]
      },
      {
       "output_type": "stream",
       "stream": "stderr",
       "text": [
        "  1.42s LOGFILE=/Users/dirk/laf-fabric-data/bhs3/tasks/trees/__log__trees.txt\n"
       ]
      },
      {
       "output_type": "stream",
       "stream": "stderr",
       "text": [
        "  1.42s INFO: DATA LOADED FROM SOURCE bhs3 AND ANNOX -- FOR TASK trees\n"
       ]
      },
      {
       "output_type": "stream",
       "stream": "stderr",
       "text": [
        "  0.00s Start computing parent and children relations for objects of type sentence, clause, phrase, subphrase, word\n"
       ]
      },
      {
       "output_type": "stream",
       "stream": "stderr",
       "text": [
        "  1.43s 100000 nodes\n"
       ]
      },
      {
       "output_type": "stream",
       "stream": "stderr",
       "text": [
        "  2.84s 200000 nodes\n"
       ]
      },
      {
       "output_type": "stream",
       "stream": "stderr",
       "text": [
        "  4.17s 300000 nodes\n"
       ]
      },
      {
       "output_type": "stream",
       "stream": "stderr",
       "text": [
        "  5.58s 400000 nodes\n"
       ]
      },
      {
       "output_type": "stream",
       "stream": "stderr",
       "text": [
        "  6.90s 500000 nodes\n"
       ]
      },
      {
       "output_type": "stream",
       "stream": "stderr",
       "text": [
        "  8.31s 600000 nodes\n"
       ]
      },
      {
       "output_type": "stream",
       "stream": "stderr",
       "text": [
        "  9.74s 700000 nodes\n"
       ]
      },
      {
       "output_type": "stream",
       "stream": "stderr",
       "text": [
        "    11s 800000 nodes\n"
       ]
      },
      {
       "output_type": "stream",
       "stream": "stderr",
       "text": [
        "    13s 900000 nodes\n"
       ]
      },
      {
       "output_type": "stream",
       "stream": "stderr",
       "text": [
        "    13s 952885 nodes: 881531 have parents and 526386 have children\n"
       ]
      },
      {
       "output_type": "stream",
       "stream": "stderr",
       "text": [
        "    13s Restructuring clauses: deep copying tree relations\n"
       ]
      },
      {
       "output_type": "stream",
       "stream": "stderr",
       "text": [
        "    20s Pass 0: Storing mother relationship\n"
       ]
      },
      {
       "output_type": "stream",
       "stream": "stderr",
       "text": [
        "    21s 13328 clauses have a mother\n"
       ]
      },
      {
       "output_type": "stream",
       "stream": "stderr",
       "text": [
        "    21s All clauses have mothers of types in {'sentence', 'word', 'clause', 'phrase', 'subphrase'}\n"
       ]
      },
      {
       "output_type": "stream",
       "stream": "stderr",
       "text": [
        "    21s Pass 1: all clauses except those of type Coor\n"
       ]
      },
      {
       "output_type": "stream",
       "stream": "stderr",
       "text": [
        "    23s Pass 2: clauses of type Coor only\n"
       ]
      },
      {
       "output_type": "stream",
       "stream": "stderr",
       "text": [
        "    24s Mothers applied. Found 0 motherless clauses.\n"
       ]
      },
      {
       "output_type": "stream",
       "stream": "stderr",
       "text": [
        "    24s 862 nodes have 1 sisters\n"
       ]
      },
      {
       "output_type": "stream",
       "stream": "stderr",
       "text": [
        "    24s 23 nodes have 2 sisters\n"
       ]
      },
      {
       "output_type": "stream",
       "stream": "stderr",
       "text": [
        "    24s There are 908 sisters, 885 nodes have sisters.\n"
       ]
      },
      {
       "output_type": "stream",
       "stream": "stderr",
       "text": [
        "    24s Ready for processing\n"
       ]
      }
     ],
     "prompt_number": 4
    },
    {
     "cell_type": "heading",
     "level": 1,
     "metadata": {},
     "source": [
      "Checking for sanity"
     ]
    },
    {
     "cell_type": "markdown",
     "metadata": {},
     "source": [
      "Let us see whether the trees we have constructed satisfy some sanity constraints.\n",
      "After all, the algorithm is based on certain assumptions about the data, but are those assumptions valid?\n",
      "And restructuring is a tricky operation, do we have confidence that nothing went wrong?\n",
      "\n",
      "1. How many sentence nodes? From earlier queries we know what to expect.\n",
      "1. Does any sentence have a parent? If so, there is something wrong with our assumptions or algorithm.\n",
      "1. Is every top node a sentence? If not, we have material outside a sentence, which contradicts the assumptions.\n",
      "1. Do you reach all sentences if you go up from words? If not, some sentences do not contain words.\n",
      "1. Do you reach all words if you go down from sentences? If not, some words have become disconnected from their sentences.\n",
      "1. Do you reach the same words in reconstructed trees as in embedded trees? If not, some sentence material has got lost during the restructuring process.\n",
      "1. From what object types to what object types does the parent relationship link? Here we check that parents do not link object types that are too distant in the object type ranking.\n",
      "1. How many nodes have mothers and how many mothers can a node have? We expect at most one.\n",
      "1. From what object types to what object types does the mother relationship link?\n",
      "1. Is the mother of a clause always in the same sentence? If not, foreign sentences will be drawn in, leading to (very) big chunks. This may occur when we use mother relationships in cases where ``clause_constituent_relation`` has different values than the ones that should trigger restructuring.\n",
      "1. Has the max/average tree depth increased after restructuring? By how much? This is meant as an indication by how much our tree structures improve in significant hierarchy when we take the mother relationship into account."
     ]
    },
    {
     "cell_type": "code",
     "collapsed": false,
     "input": [
      "#1\n",
      "msg(\"Counting {}s ... (expecting 71354)\".format(root_type))\n",
      "msg(\"There are {} {}s\".format(len(set(NN(test=F.otype.v, value=root_type))), root_type))"
     ],
     "language": "python",
     "metadata": {},
     "outputs": [
      {
       "output_type": "stream",
       "stream": "stderr",
       "text": [
        " 3m 23s Counting sentences ... (expecting 71354)\n"
       ]
      },
      {
       "output_type": "stream",
       "stream": "stderr",
       "text": [
        " 3m 24s There are 71354 sentences\n"
       ]
      }
     ],
     "prompt_number": 7
    },
    {
     "cell_type": "code",
     "collapsed": false,
     "input": [
      "#2\n",
      "msg(\"Checking parents of {}s ... (expecting none)\".format(root_type))\n",
      "exceptions = set()\n",
      "for node in NN(test=F.otype.v, value=root_type):\n",
      "    if node in parent: exceptions.add(node)\n",
      "if len(exceptions) == 0:\n",
      "    msg(\"No {} has a parent\".format(root_type))\n",
      "else:\n",
      "    msg(\"{} {}s have a parent:\".format(len(exceptions), root_type))\n",
      "    for n in sorted(exceptions):\n",
      "        p = parent[n]\n",
      "        msg(\"{} {} [{}] has {} parent {} [{}]\".format(\n",
      "            root_type, n, F.monads.v(n), \n",
      "            F.otype.v(p), p, F.monads.v(p)\n",
      "        ))"
     ],
     "language": "python",
     "metadata": {},
     "outputs": [
      {
       "output_type": "stream",
       "stream": "stderr",
       "text": [
        " 4m 44s Checking parents of sentences ... (expecting none)\n"
       ]
      },
      {
       "output_type": "stream",
       "stream": "stderr",
       "text": [
        " 4m 45s No sentence has a parent\n"
       ]
      }
     ],
     "prompt_number": 8
    },
    {
     "cell_type": "code",
     "collapsed": false,
     "input": [
      "#3 (again a check on #1)\n",
      "msg(\"Checking the types of root nodes ... (should all be sentences)\")\n",
      "exceptions = collections.defaultdict(lambda: [])\n",
      "sn = 0\n",
      "for node in NN():\n",
      "    otype = F.otype.v(node)\n",
      "    if otype not in type_table: continue\n",
      "    if otype == root_type: sn += 1\n",
      "    if node not in parent and node not in elder_sister and otype != root_type: \n",
      "        exceptions[otype].append(node)\n",
      "if len(exceptions) == 0:\n",
      "    msg(\"All top nodes are {}s\".format(root_type))\n",
      "else:\n",
      "    msg(\"Top nodes which are not {}s:\".format(root_type))\n",
      "    for t in sorted(exceptions):\n",
      "        msg(\"{}: {}x\".format(t, len(exceptions[t])), withtime=False)\n",
      "msg(\"{} {}s seen\".format(sn, root_type))\n",
      "\n",
      "for c in exceptions[clause_type]:\n",
      "    (s, st) = tree.get_root(c, 'e')\n",
      "    v = root_verse[s]\n",
      "    msg(\"{}={}, {}={}={}, verse={}\".format(clause_type, c, root_type, st, s, v), withtime=False)"
     ],
     "language": "python",
     "metadata": {},
     "outputs": [
      {
       "output_type": "stream",
       "stream": "stderr",
       "text": [
        " 5m 59s Checking the types of root nodes ... (should all be sentences)\n"
       ]
      },
      {
       "output_type": "stream",
       "stream": "stderr",
       "text": [
        " 6m 01s All top nodes are sentences\n"
       ]
      },
      {
       "output_type": "stream",
       "stream": "stderr",
       "text": [
        " 6m 01s 71354 sentences seen\n"
       ]
      }
     ],
     "prompt_number": 9
    },
    {
     "cell_type": "code",
     "collapsed": false,
     "input": [
      "#4, 5\n",
      "def get_top(kind, rel, rela, multi):\n",
      "    seen = set()\n",
      "    top_nodes = set()\n",
      "    start_nodes = set(NN(test=F.otype.v, value=kind))\n",
      "    next_nodes = start_nodes\n",
      "    msg(\"Starting from {} nodes ...\".format(kind))\n",
      "    while len(next_nodes):\n",
      "        new_next_nodes = set()\n",
      "        for node in next_nodes:\n",
      "            if node in seen: continue\n",
      "            seen.add(node)\n",
      "            is_top = True\n",
      "            if node in rel: \n",
      "                is_top = False\n",
      "                if multi:\n",
      "                    for c in rel[node]: new_next_nodes.add(c)\n",
      "                else:\n",
      "                    new_next_nodes.add(rel[node])\n",
      "            if node in rela: \n",
      "                is_top = False\n",
      "                if multi:\n",
      "                    for c in rela[node]: new_next_nodes.add(c)\n",
      "                else:\n",
      "                    new_next_nodes.add(rela[node])\n",
      "            if is_top: top_nodes.add(node)\n",
      "        next_nodes = new_next_nodes\n",
      "    top_types = collections.defaultdict(lambda: 0)\n",
      "    for t in top_nodes:\n",
      "        top_types[F.otype.v(t)] += 1\n",
      "    for t in top_types:\n",
      "        msg(\"From {} {} nodes reached {} {} nodes\".format(len(start_nodes), kind, top_types[t], t), withtime=False)\n",
      "\n",
      "msg(\"Embedding trees\")\n",
      "get_top(leaf_type, tree.eparent, {}, False)\n",
      "get_top(root_type, tree.echildren, {}, True)\n",
      "msg(\"Restructd trees\")\n",
      "get_top(leaf_type, tree.rparent, tree.elder_sister, False)\n",
      "get_top(root_type, tree.rchildren, tree.sisters, True)\n",
      "msg(\"Done\")"
     ],
     "language": "python",
     "metadata": {},
     "outputs": [
      {
       "output_type": "stream",
       "stream": "stderr",
       "text": [
        " 9m 15s Embedding trees\n"
       ]
      },
      {
       "output_type": "stream",
       "stream": "stderr",
       "text": [
        " 9m 16s Starting from word nodes ...\n"
       ]
      },
      {
       "output_type": "stream",
       "stream": "stderr",
       "text": [
        "From 426499 word nodes reached 71354 sentence nodes\n"
       ]
      },
      {
       "output_type": "stream",
       "stream": "stderr",
       "text": [
        " 9m 17s Starting from sentence nodes ...\n"
       ]
      },
      {
       "output_type": "stream",
       "stream": "stderr",
       "text": [
        "From 71354 sentence nodes reached 426499 word nodes\n"
       ]
      },
      {
       "output_type": "stream",
       "stream": "stderr",
       "text": [
        " 9m 19s Restructd trees\n"
       ]
      },
      {
       "output_type": "stream",
       "stream": "stderr",
       "text": [
        " 9m 20s Starting from word nodes ...\n"
       ]
      },
      {
       "output_type": "stream",
       "stream": "stderr",
       "text": [
        "From 426499 word nodes reached 71352 sentence nodes\n"
       ]
      },
      {
       "output_type": "stream",
       "stream": "stderr",
       "text": [
        " 9m 21s Starting from sentence nodes ...\n"
       ]
      },
      {
       "output_type": "stream",
       "stream": "stderr",
       "text": [
        "From 71354 sentence nodes reached 425606 word nodes\n"
       ]
      },
      {
       "output_type": "stream",
       "stream": "stderr",
       "text": [
        " 9m 23s Done\n"
       ]
      }
     ],
     "prompt_number": 10
    },
    {
     "cell_type": "code",
     "collapsed": false,
     "input": [
      "#6\n",
      "msg(\"Verifying whether all monads are preserved under restructuring\")\n",
      "errors = []\n",
      "#i = 10\n",
      "for snode in NN(test=F.otype.v, value=root_type):\n",
      "    declared_monads = monad_set(F.monads.v(snode))\n",
      "    results = {}\n",
      "    thisgood = {}\n",
      "    for kind in ('e', 'r'):\n",
      "        results[kind] = set(int(F.monads.v(l)) for l in tree.get_leaves(snode, kind) if F.otype.v(l) == leaf_type)\n",
      "        thisgood[kind] = declared_monads == results[kind]\n",
      "        #if not thisgood[kind]:\n",
      "            #print(\"{} D={}\\nL={}\".format(kind, declared_monads, results[kind]))\n",
      "            #i -= 1\n",
      "    #if i == 0: break\n",
      "    if False in thisgood.values(): errors.append((snode, thisgood['e'], thisgood['r']))\n",
      "msg(\"{} mismatches:\".format(len(errors)))\n",
      "mine = min(20, len(errors))\n",
      "skip = {e[0] for e in errors}\n",
      "for (s, e, r) in errors[0:mine]:\n",
      "    msg(\"{} embedding: {}; restructd: {}\".format(s, 'OK' if e else 'XX', 'OK' if r else 'XX'), withtime=False)"
     ],
     "language": "python",
     "metadata": {},
     "outputs": [
      {
       "output_type": "stream",
       "stream": "stderr",
       "text": [
        "10m 47s Verifying whether all monads are preserved under restructuring\n"
       ]
      },
      {
       "output_type": "stream",
       "stream": "stderr",
       "text": [
        "10m 54s 13 mismatches:\n"
       ]
      },
      {
       "output_type": "stream",
       "stream": "stderr",
       "text": [
        "1143081 embedding: OK; restructd: XX\n"
       ]
      },
      {
       "output_type": "stream",
       "stream": "stderr",
       "text": [
        "1153973 embedding: OK; restructd: XX\n"
       ]
      },
      {
       "output_type": "stream",
       "stream": "stderr",
       "text": [
        "1158971 embedding: OK; restructd: XX\n"
       ]
      },
      {
       "output_type": "stream",
       "stream": "stderr",
       "text": [
        "1160416 embedding: OK; restructd: XX\n"
       ]
      },
      {
       "output_type": "stream",
       "stream": "stderr",
       "text": [
        "1160464 embedding: OK; restructd: XX\n"
       ]
      },
      {
       "output_type": "stream",
       "stream": "stderr",
       "text": [
        "1161141 embedding: OK; restructd: XX\n"
       ]
      },
      {
       "output_type": "stream",
       "stream": "stderr",
       "text": [
        "1163666 embedding: OK; restructd: XX\n"
       ]
      },
      {
       "output_type": "stream",
       "stream": "stderr",
       "text": [
        "1164830 embedding: OK; restructd: XX\n"
       ]
      },
      {
       "output_type": "stream",
       "stream": "stderr",
       "text": [
        "1167680 embedding: OK; restructd: XX\n"
       ]
      },
      {
       "output_type": "stream",
       "stream": "stderr",
       "text": [
        "1170057 embedding: OK; restructd: XX\n"
       ]
      },
      {
       "output_type": "stream",
       "stream": "stderr",
       "text": [
        "1193065 embedding: OK; restructd: XX\n"
       ]
      },
      {
       "output_type": "stream",
       "stream": "stderr",
       "text": [
        "1199681 embedding: OK; restructd: XX\n"
       ]
      },
      {
       "output_type": "stream",
       "stream": "stderr",
       "text": [
        "1199682 embedding: OK; restructd: XX\n"
       ]
      }
     ],
     "prompt_number": 11
    },
    {
     "cell_type": "code",
     "collapsed": false,
     "input": [
      "#7\n",
      "msg(\"Which types embed which types and how often? ...\")\n",
      "for kind in ('e', 'r'):\n",
      "    plinked_types = collections.defaultdict(lambda: 0)\n",
      "    parent = tree.eparent if kind == 'e' else tree.rparent\n",
      "    kindrep = 'embedding' if kind == 'e' else 'restructd'\n",
      "    for (c, p) in parent.items():\n",
      "        plinked_types[(F.otype.v(c), F.otype.v(p))] += 1\n",
      "    msg(\"Found {} parent ({}) links between types\".format(len(parent), kindrep))\n",
      "    for lt in sorted(plinked_types):\n",
      "        msg(\"{}: {}x\".format(lt, plinked_types[lt]), withtime=False)"
     ],
     "language": "python",
     "metadata": {},
     "outputs": [
      {
       "output_type": "stream",
       "stream": "stderr",
       "text": [
        "16m 54s Which types embed which types and how often? ...\n"
       ]
      },
      {
       "output_type": "stream",
       "stream": "stderr",
       "text": [
        "16m 56s Found 881531 parent (embedding) links between types\n"
       ]
      },
      {
       "output_type": "stream",
       "stream": "stderr",
       "text": [
        "('clause', 'sentence'): 88387x\n"
       ]
      },
      {
       "output_type": "stream",
       "stream": "stderr",
       "text": [
        "('phrase', 'clause'): 257109x\n"
       ]
      },
      {
       "output_type": "stream",
       "stream": "stderr",
       "text": [
        "('subphrase', 'phrase'): 81475x\n"
       ]
      },
      {
       "output_type": "stream",
       "stream": "stderr",
       "text": [
        "('subphrase', 'subphrase'): 28061x\n"
       ]
      },
      {
       "output_type": "stream",
       "stream": "stderr",
       "text": [
        "('word', 'phrase'): 306319x\n"
       ]
      },
      {
       "output_type": "stream",
       "stream": "stderr",
       "text": [
        "('word', 'subphrase'): 120180x\n"
       ]
      },
      {
       "output_type": "stream",
       "stream": "stderr",
       "text": [
        "16m 58s Found 880623 parent (restructd) links between types\n"
       ]
      },
      {
       "output_type": "stream",
       "stream": "stderr",
       "text": [
        "('clause', 'clause'): 6392x\n"
       ]
      },
      {
       "output_type": "stream",
       "stream": "stderr",
       "text": [
        "('clause', 'phrase'): 4288x\n"
       ]
      },
      {
       "output_type": "stream",
       "stream": "stderr",
       "text": [
        "('clause', 'sentence'): 76178x\n"
       ]
      },
      {
       "output_type": "stream",
       "stream": "stderr",
       "text": [
        "('clause', 'subphrase'): 621x\n"
       ]
      },
      {
       "output_type": "stream",
       "stream": "stderr",
       "text": [
        "('phrase', 'clause'): 257109x\n"
       ]
      },
      {
       "output_type": "stream",
       "stream": "stderr",
       "text": [
        "('subphrase', 'phrase'): 81475x\n"
       ]
      },
      {
       "output_type": "stream",
       "stream": "stderr",
       "text": [
        "('subphrase', 'subphrase'): 28061x\n"
       ]
      },
      {
       "output_type": "stream",
       "stream": "stderr",
       "text": [
        "('word', 'phrase'): 306319x\n"
       ]
      },
      {
       "output_type": "stream",
       "stream": "stderr",
       "text": [
        "('word', 'subphrase'): 120180x\n"
       ]
      }
     ],
     "prompt_number": 12
    },
    {
     "cell_type": "code",
     "collapsed": false,
     "input": [
      "#8\n",
      "msg(\"How many mothers can nodes have? ...\")\n",
      "mother_len = {}\n",
      "for c in NN():\n",
      "    lms = list(C.mother_.v(c))\n",
      "    nms = len(lms)\n",
      "    if nms: mother_len[c] = nms\n",
      "count = collections.defaultdict(lambda: 0)\n",
      "for c in tree.mother: count[mother_len[c]] += 1\n",
      "msg(\"There are {} tree nodes with a mother\".format(len(tree.mother)))\n",
      "for cnt in sorted(count):\n",
      "    msg(\"{} nodes have {} mother{}\".format(count[cnt], cnt, 's' if cnt != 1 else ''), withtime=False)      "
     ],
     "language": "python",
     "metadata": {},
     "outputs": [
      {
       "output_type": "stream",
       "stream": "stderr",
       "text": [
        "17m 00s How many mothers can nodes have? ...\n"
       ]
      },
      {
       "output_type": "stream",
       "stream": "stderr",
       "text": [
        "17m 06s There are 13328 tree nodes with a mother\n"
       ]
      },
      {
       "output_type": "stream",
       "stream": "stderr",
       "text": [
        "13328 nodes have 1 mother\n"
       ]
      }
     ],
     "prompt_number": 13
    },
    {
     "cell_type": "code",
     "collapsed": false,
     "input": [
      "#9\n",
      "msg(\"Which types have mother links to which types and how often? ...\")\n",
      "mlinked_types = collections.defaultdict(lambda: set())\n",
      "for (c, m) in tree.mother.items():\n",
      "    ctype = F.otype.v(c)\n",
      "    mlinked_types[(ctype, F.clause_constituent_relation.v(c), F.otype.v(m))].add(c)\n",
      "msg(\"Found {} mother links between types\".format(len(parent)))\n",
      "for lt in sorted(mlinked_types):\n",
      "    msg(\"{}: {}x\".format(lt, len(mlinked_types[lt])), withtime=False)"
     ],
     "language": "python",
     "metadata": {},
     "outputs": [
      {
       "output_type": "stream",
       "stream": "stderr",
       "text": [
        " 1m 49s Which types have mother links to which types and how often? ...\n"
       ]
      },
      {
       "output_type": "stream",
       "stream": "stderr",
       "text": [
        " 1m 49s Found 880623 mother links between types\n"
       ]
      },
      {
       "output_type": "stream",
       "stream": "stderr",
       "text": [
        "('clause', 'Adju', 'clause'): 4910x\n"
       ]
      },
      {
       "output_type": "stream",
       "stream": "stderr",
       "text": [
        "('clause', 'Attr', 'clause'): 2x\n"
       ]
      },
      {
       "output_type": "stream",
       "stream": "stderr",
       "text": [
        "('clause', 'Attr', 'phrase'): 4147x\n"
       ]
      },
      {
       "output_type": "stream",
       "stream": "stderr",
       "text": [
        "('clause', 'Attr', 'word'): 655x\n"
       ]
      },
      {
       "output_type": "stream",
       "stream": "stderr",
       "text": [
        "('clause', 'Cmpl', 'clause'): 74x\n"
       ]
      },
      {
       "output_type": "stream",
       "stream": "stderr",
       "text": [
        "('clause', 'Cmpl', 'word'): 1x\n"
       ]
      },
      {
       "output_type": "stream",
       "stream": "stderr",
       "text": [
        "('clause', 'CoVo', 'clause'): 143x\n"
       ]
      },
      {
       "output_type": "stream",
       "stream": "stderr",
       "text": [
        "('clause', 'Coor', 'clause'): 904x\n"
       ]
      },
      {
       "output_type": "stream",
       "stream": "stderr",
       "text": [
        "('clause', 'Coor', 'phrase'): 4x\n"
       ]
      },
      {
       "output_type": "stream",
       "stream": "stderr",
       "text": [
        "('clause', 'Objc', 'clause'): 1066x\n"
       ]
      },
      {
       "output_type": "stream",
       "stream": "stderr",
       "text": [
        "('clause', 'Pred', 'clause'): 91x\n"
       ]
      },
      {
       "output_type": "stream",
       "stream": "stderr",
       "text": [
        "('clause', 'Resu', 'clause'): 975x\n"
       ]
      },
      {
       "output_type": "stream",
       "stream": "stderr",
       "text": [
        "('clause', 'Resu', 'phrase'): 1x\n"
       ]
      },
      {
       "output_type": "stream",
       "stream": "stderr",
       "text": [
        "('clause', 'RgRc', 'clause'): 8x\n"
       ]
      },
      {
       "output_type": "stream",
       "stream": "stderr",
       "text": [
        "('clause', 'RgRc', 'phrase'): 4x\n"
       ]
      },
      {
       "output_type": "stream",
       "stream": "stderr",
       "text": [
        "('clause', 'RgRc', 'word'): 102x\n"
       ]
      },
      {
       "output_type": "stream",
       "stream": "stderr",
       "text": [
        "('clause', 'Subj', 'clause'): 241x\n"
       ]
      }
     ],
     "prompt_number": 10
    },
    {
     "cell_type": "code",
     "collapsed": false,
     "input": [
      "#10\n",
      "msg(\"Counting {}s with mothers in another {}\".format(clause_type, root_type))\n",
      "exceptions = set()\n",
      "for node in tree.mother:\n",
      "    if F.otype.v(node) not in type_table: continue\n",
      "    mnode = tree.mother[node]\n",
      "    snode = tree.get_root(node, 'e')\n",
      "    smnode = tree.get_root(mnode, 'e')\n",
      "    if snode != smnode:\n",
      "        exceptions.add((node, snode, smnode))\n",
      "msg(\"{} nodes have a mother in another {}\".format(len(exceptions), root_type))\n",
      "for (n, sn, smn) in exceptions:\n",
      "    msg(\"[{} {}]({}) occurs in {} but has mother in {}\".format(F.otype.v(n), F.monads.v(n), n, sn, smn), withtime=False)"
     ],
     "language": "python",
     "metadata": {},
     "outputs": [
      {
       "output_type": "stream",
       "stream": "stderr",
       "text": [
        "19m 14s Counting clauses with mothers in another sentence\n"
       ]
      },
      {
       "output_type": "stream",
       "stream": "stderr",
       "text": [
        "19m 14s 2 nodes have a mother in another sentence\n"
       ]
      },
      {
       "output_type": "stream",
       "stream": "stderr",
       "text": [
        "[clause 410634-410639](511447) occurs in (1199682, 'sentence') but has mother in (1199681, 'sentence')\n"
       ]
      },
      {
       "output_type": "stream",
       "stream": "stderr",
       "text": [
        "[clause 410628-410633](511446) occurs in (1199682, 'sentence') but has mother in (1199681, 'sentence')\n"
       ]
      }
     ],
     "prompt_number": 14
    },
    {
     "cell_type": "code",
     "collapsed": false,
     "input": [
      "#11\n",
      "msg(\"Computing lengths and depths\")\n",
      "ntrees = 0\n",
      "rntrees = 0\n",
      "total_depth = {'e': 0, 'r': 0}\n",
      "rtotal_depth = {'e': 0, 'r': 0}\n",
      "max_depth = {'e': 0, 'r':0}\n",
      "rmax_depth = {'e': 0, 'r': 0}\n",
      "total_length = 0\n",
      "\n",
      "for node in NN(test=F.otype.v, value=root_type):\n",
      "    ntrees += 1\n",
      "    total_length += tree.length(node)\n",
      "    this_depth = {}\n",
      "    for kind in ('e', 'r'):\n",
      "        this_depth[kind] = tree.depth(node, kind)\n",
      "    different = this_depth['e'] != this_depth['r']\n",
      "    if different: rntrees += 1\n",
      "    for kind in ('e', 'r'):\n",
      "        if this_depth[kind] > max_depth[kind]: max_depth[kind] = this_depth[kind]\n",
      "        total_depth[kind] += this_depth[kind]\n",
      "        if different:\n",
      "            if this_depth[kind] > rmax_depth[kind]: rmax_depth[kind] = this_depth[kind]\n",
      "            rtotal_depth[kind] += this_depth[kind]\n",
      "                \n",
      "msg(\"{} trees seen, of which in {} cases restructuring makes a difference in depth\".format(ntrees, rntrees))\n",
      "if ntrees > 0:\n",
      "    msg(\"Embedding trees: max depth = {:>2}, average depth = {:.2g}\".format(max_depth['e'], total_depth['e'] / ntrees))\n",
      "    msg(\"Restructd trees: max depth = {:>2}, average depth = {:.2g}\".format(max_depth['r'], total_depth['r'] / ntrees))\n",
      "if rntrees > 0:\n",
      "    msg(\"Statistics for cases where restructuring makes a difference:\")\n",
      "    msg(\"Embedding trees: max depth = {:>2}, average depth = {:.2g}\".format(rmax_depth['e'], rtotal_depth['e'] / rntrees))\n",
      "    msg(\"Restructd trees: max depth = {:>2}, average depth = {:.2g}\".format(rmax_depth['r'], rtotal_depth['r'] / rntrees))\n",
      "msg(\"Total number of leaves in the trees: {}, average number of leaves = {:.2g}\".format(total_length, total_length / ntrees))"
     ],
     "language": "python",
     "metadata": {},
     "outputs": [
      {
       "output_type": "stream",
       "stream": "stderr",
       "text": [
        " 1m 31s Computing lengths and depths\n"
       ]
      },
      {
       "output_type": "stream",
       "stream": "stderr",
       "text": [
        " 1m 36s 71354 trees seen, of which in 7083 cases restructuring makes a difference in depth\n"
       ]
      },
      {
       "output_type": "stream",
       "stream": "stderr",
       "text": [
        " 1m 36s Embedding trees: max depth = 13, average depth = 3.5\n"
       ]
      },
      {
       "output_type": "stream",
       "stream": "stderr",
       "text": [
        " 1m 36s Restructd trees: max depth = 19, average depth = 3.7\n"
       ]
      },
      {
       "output_type": "stream",
       "stream": "stderr",
       "text": [
        " 1m 36s Statistics for cases where restructuring makes a difference:\n"
       ]
      },
      {
       "output_type": "stream",
       "stream": "stderr",
       "text": [
        " 1m 36s Embedding trees: max depth = 13, average depth = 3.7\n"
       ]
      },
      {
       "output_type": "stream",
       "stream": "stderr",
       "text": [
        " 1m 36s Restructd trees: max depth = 19, average depth = 5.3\n"
       ]
      },
      {
       "output_type": "stream",
       "stream": "stderr",
       "text": [
        " 1m 36s Total number of leaves in the trees: 426499, average number of leaves = 6\n"
       ]
      }
     ],
     "prompt_number": 6
    },
    {
     "cell_type": "heading",
     "level": 1,
     "metadata": {},
     "source": [
      "Writing Trees"
     ]
    },
    {
     "cell_type": "markdown",
     "metadata": {},
     "source": [
      "After all these checks we can proceed to print out the tree structures as plain, bracketed text strings.\n",
      "\n",
      "Per tree we also print a string of the monad numbers that you get when you walk the tree in preorder.\n",
      "And we produce object ids from the EMDROS database and node ids from the LAF version.\n",
      "\n",
      "First we apply our algorithms to a limited set of interesting trees and a random sample.\n",
      "For those cases we also apply a ``debug_write()`` method that outputs considerably more information.\n",
      "\n",
      "This output has been visually checked by Constantijn Sikkel and Dirk Roorda."
     ]
    },
    {
     "cell_type": "code",
     "collapsed": false,
     "input": [
      "def get_tag(node):\n",
      "    otype = F.otype.v(node)\n",
      "    tag = type_table[otype]\n",
      "    if tag == 'P': tag = F.phrase_type.v(node)\n",
      "    elif tag == 'C': tag = ccr_table[F.clause_constituent_relation.v(node)]\n",
      "    is_word = tag == ''\n",
      "    pos = pos_table[F.part_of_speech.v(node)] if is_word else None\n",
      "    monad = int(F.monads.v(node)) if is_word else None\n",
      "    text = '\"{}\"'.format(F.surface_consonants.v(node)) if is_word else None\n",
      "    return (tag, pos, monad, text, is_word)\n",
      "\n",
      "def passage_roots(verse_label):\n",
      "    sought = []\n",
      "    grab = -1\n",
      "    for n in NN():\n",
      "        if grab == 1: continue\n",
      "        otype = F.otype.v(n)\n",
      "        if otype == 'verse': \n",
      "            check = F.verse_label.v(n) == verse_label\n",
      "            if check: grab = 0\n",
      "            elif grab == 0: grab = 1\n",
      "        if grab == 0 and otype == root_type: sought.append(n)\n",
      "    return sought\n",
      "\n",
      "def showcases(cases, ofile):\n",
      "    out = outfile(ofile)\n",
      "    for snode in cases:\n",
      "        out.write(\"\\n====================\\n{}\\n{}\\n{} bhs_id={} laf_node={}:\\n\".format(\n",
      "            root_verse[snode], cases[snode], root_type, F.oid.v(snode), snode,\n",
      "        ))\n",
      "        for kind in ('e', 'r'):\n",
      "            out.write(\"\\nTree based on monad embedding {}\\n\\n\".format(\n",
      "                \"only\" if kind == 'e' else \" and mother+clause_constituent relation\"\n",
      "            ))\n",
      "            (tree_rep, words_rep, bmonad) = tree.write_tree(snode, kind, get_tag, rev=False, leafnumbers=False)\n",
      "            out.write(\"{}\\n\\n{}\\n\".format(words_rep, tree_rep))\n",
      "            out.write(\"\\nDepth={}\\n\".format(tree.depth(snode, kind)))\n",
      "            out.write(tree.debug_write_tree(snode, kind, legenda=kind=='r'))\n",
      "    out.close()\n",
      "    \n",
      "problem_desc = collections.OrderedDict((\n",
      "    (1131739, \"debug reorder\"),\n",
      "    (1131712, \"interesting\"), \n",
      "    (1131701, \"interesting\"),\n",
      "    (1140469, \"subject clause order\"),\n",
      "    (passage_roots(' GEN 01,16')[1], \"interesting\"), \n",
      "    (1164864, \"interesting\"),\n",
      "    (1143081, \"cyclic mothers\"),\n",
      "    (1153973, \"cyclic mothers\"),\n",
      "    (1158971, \"cyclic mothers\"),\n",
      "    (1158971, \"cyclic mothers\"),\n",
      "    (1160416, \"cyclic mothers\"),\n",
      "    (1160464, \"cyclic mothers\"),\n",
      "    (1161141, \"nested cyclic mothers: C.coor => C.attr => P below first C.coor\"), \n",
      "    (1163666, \"cyclic mothers\"), \n",
      "    (1164830, \"cyclic mothers\"), \n",
      "    (1167680, \"cyclic mothers\"), \n",
      "    (1170057, \"cyclic mothers\"), \n",
      "    (1193065, \"cyclic mothers\"), \n",
      "    (1199681, \"cyclic mothers\"), \n",
      "    (1199682, \"mother points outside sentence\"),\n",
      "))\n",
      "fixed_sample = (\n",
      "    1167680,\n",
      "    1167152,\n",
      "    1145250,\n",
      "    1154339,\n",
      "    1136677,\n",
      "    1166385,\n",
      "    1198984,\n",
      "    1152969,\n",
      "    1153930,\n",
      "    1150648,\n",
      "    1168396,\n",
      "    1151917,\n",
      "    1164750,\n",
      "    1156719,\n",
      "    1148048,\n",
      "    1138673,\n",
      "    1134184,\n",
      "    1156789,\n",
      "    1156600,\n",
      "    1140469,\n",
      ")\n",
      "sample_size = 20\n",
      "sample = {}\n",
      "fsample = collections.OrderedDict()\n",
      "mother_keys = list(sorted(tree.mother))\n",
      "for s in range(20):\n",
      "    r = random.randint(0, len(mother_keys) - 1)\n",
      "    snode = tree.get_root(tree.mother[mother_keys[r]], 'e')[0]\n",
      "    sample[snode] = 'random sample in {}s with {}s with mothers'.format(root_type, clause_type)\n",
      "for snode in fixed_sample:\n",
      "    fsample[snode] = 'random sample in {}s with {}s with mothers'.format(root_type, clause_type)\n",
      "\n",
      "showcases(problem_desc, \"tree_notabene.txt\")\n",
      "showcases(sample, 'trees_random_{}.txt'.format(sample_size))\n",
      "showcases(fsample, 'trees_fixed_{}.txt'.format(len(fsample)))"
     ],
     "language": "python",
     "metadata": {},
     "outputs": [],
     "prompt_number": 5
    },
    {
     "cell_type": "markdown",
     "metadata": {},
     "source": [
      "Finally, here is the production of the whole set of trees."
     ]
    },
    {
     "cell_type": "code",
     "collapsed": false,
     "input": [
      "msg(\"Writing {} trees\".format(root_type))\n",
      "trees = outfile(\"trees.txt\")\n",
      "verse_label = ''\n",
      "s = 0\n",
      "chunk = 10000\n",
      "sc = 0\n",
      "for node in NN():\n",
      "    if node in skip: continue\n",
      "    otype = F.otype.v(node)\n",
      "    oid = F.oid.v(node)\n",
      "    if  otype == 'verse':\n",
      "        verse_label = F.verse_label.v(node)\n",
      "        continue\n",
      "    if otype != root_type: continue\n",
      "    (tree_rep, words_rep, bmonad) = tree.write_tree(node, 'r', get_tag, rev=False, leafnumbers=False)\n",
      "    trees.write(\"\\n#{}\\tnode={}\\toid={}\\tbmonad={}\\t{}\\n{}\\n\".format(\n",
      "        verse_label, node, oid, bmonad, words_rep, tree_rep,\n",
      "    ))\n",
      "    s += 1\n",
      "    sc += 1\n",
      "    if sc == chunk:\n",
      "        msg(\"{} trees written\".format(s))\n",
      "        sc = 0\n",
      "trees.close()    \n",
      "msg(\"{} trees written\".format(s))"
     ],
     "language": "python",
     "metadata": {},
     "outputs": [
      {
       "output_type": "stream",
       "stream": "stderr",
       "text": [
        "29m 52s Writing sentence trees\n"
       ]
      },
      {
       "output_type": "stream",
       "stream": "stderr",
       "text": [
        "30m 00s 10000 trees written\n"
       ]
      },
      {
       "output_type": "stream",
       "stream": "stderr",
       "text": [
        "30m 10s 20000 trees written\n"
       ]
      },
      {
       "output_type": "stream",
       "stream": "stderr",
       "text": [
        "30m 17s 30000 trees written\n"
       ]
      },
      {
       "output_type": "stream",
       "stream": "stderr",
       "text": [
        "30m 24s 40000 trees written\n"
       ]
      },
      {
       "output_type": "stream",
       "stream": "stderr",
       "text": [
        "30m 29s 50000 trees written\n"
       ]
      },
      {
       "output_type": "stream",
       "stream": "stderr",
       "text": [
        "30m 33s 60000 trees written\n"
       ]
      },
      {
       "output_type": "stream",
       "stream": "stderr",
       "text": [
        "30m 40s 70000 trees written\n"
       ]
      },
      {
       "output_type": "stream",
       "stream": "stderr",
       "text": [
        "30m 41s 71341 trees written\n"
       ]
      }
     ],
     "prompt_number": 17
    },
    {
     "cell_type": "code",
     "collapsed": false,
     "input": [
      "close()"
     ],
     "language": "python",
     "metadata": {},
     "outputs": [
      {
       "output_type": "stream",
       "stream": "stderr",
       "text": [
        "30m 54s Results directory:\n",
        "/Users/dirk/laf-fabric-data/bhs3/tasks/trees\n"
       ]
      },
      {
       "output_type": "stream",
       "stream": "stderr",
       "text": [
        "\n",
        ".DS_Store                              6148 Wed Apr 30 16:30:02 2014\n",
        ".trees.txt.swp                       110592 Tue May 27 10:17:20 2014\n",
        "__log__trees.txt                       4153 Tue May 27 12:28:28 2014\n",
        "coor.txt                              70830 Wed Apr 30 20:57:45 2014\n",
        "depths.txt                           714284 Wed Apr 30 20:57:44 2014\n",
        "objects-deut-new.txt                    966 Fri Apr 25 09:53:16 2014\n",
        "objects-deut-old.txt                    966 Fri Apr 25 09:51:15 2014\n",
        "objects.txt                           15416 Fri Apr 25 09:47:18 2014\n",
        "tgrep_result.txt                    4916101 Wed Apr 30 20:57:37 2014\n",
        "tree_notabene-2014-04-30.txt         111037 Wed Apr 30 20:51:21 2014\n",
        "tree_notabene.txt                    114212 Tue May 27 12:27:23 2014\n",
        "trees-nocoor.txt                      13914 Mon Apr 28 09:59:30 2014\n",
        "trees-nosisters.txt                   13928 Mon Apr 28 09:59:30 2014\n",
        "trees-notransform.txt                   501 Mon Apr 28 09:47:29 2014\n",
        "trees-transformed.txt                   371 Mon Apr 28 09:47:43 2014\n",
        "trees.t2c                          12361153 Wed Apr 30 20:57:22 2014\n",
        "trees.txt                          10621788 Tue May 27 12:28:15 2014\n",
        "trees2014-04-30.txt                10626155 Wed Apr 30 20:56:26 2014\n",
        "trees_fixed_20.txt                   150015 Tue May 27 12:27:23 2014\n",
        "trees_random_20-2014-04-30.txt       150015 Wed Apr 30 20:51:21 2014\n",
        "trees_random_20.txt                  108048 Tue May 27 12:27:23 2014\n"
       ]
      }
     ],
     "prompt_number": 18
    },
    {
     "cell_type": "heading",
     "level": 1,
     "metadata": {},
     "source": [
      "Preview"
     ]
    },
    {
     "cell_type": "markdown",
     "metadata": {},
     "source": [
      "Here are the first lines of the output."
     ]
    },
    {
     "cell_type": "code",
     "collapsed": false,
     "input": [
      "!head -n 25 {my_file('trees.txt')}"
     ],
     "language": "python",
     "metadata": {},
     "outputs": [
      {
       "output_type": "stream",
       "stream": "stdout",
       "text": [
        "\r\n",
        "# GEN 01,01\tnode=1131694\toid=84383\tbmonad=1\t0 1 2 3 4 5 6 7 8 9 10\r\n",
        "(S(C(PP(pp \"B\")(n \"R>CJT\"))(VP(vb \"BR>\"))(NP(n \">LHJM\"))(PP(U(pp \">T\")(dt \"H\")(n \"CMJM\"))(cj \"W\")(U(pp \">T\")(dt \"H\")(n \">RY\")))))\r\n",
        "\r\n",
        "# GEN 01,02\tnode=1131695\toid=84384\tbmonad=12\t0 1 2 3 4 5 6\r\n",
        "(S(C(CP(cj \"W\"))(NP(dt \"H\")(n \">RY\"))(VP(vb \"HJTH\"))(NP(U(n \"THW\"))(cj \"W\")(U(n \"BHW\")))))\r\n",
        "\r\n",
        "# GEN 01,02\tnode=1131696\toid=84385\tbmonad=19\t0 1 2 3 4\r\n",
        "(S(C(CP(cj \"W\"))(NP(n \"XCK\"))(PP(pp \"<L\")(U(n \"PNJ\"))(U(n \"THWM\")))))\r\n",
        "\r\n",
        "# GEN 01,02\tnode=1131697\toid=84386\tbmonad=24\t0 1 2 3 4 5 6 7\r\n",
        "(S(C(CP(cj \"W\"))(NP(U(n \"RWX\"))(U(n \">LHJM\")))(VP(vb \"MRXPT\"))(PP(pp \"<L\")(U(n \"PNJ\"))(U(dt \"H\")(n \"MJM\")))))\r\n",
        "\r\n",
        "# GEN 01,03\tnode=1131698\toid=84387\tbmonad=32\t0 1 2\r\n",
        "(S(C(CP(cj \"W\"))(VP(vb \"J>MR\"))(NP(n \">LHJM\"))))\r\n",
        "\r\n",
        "# GEN 01,03\tnode=1131699\toid=84388\tbmonad=35\t0 1\r\n",
        "(S(C(VP(vb \"JHJ\"))(NP(n \">WR\"))))\r\n",
        "\r\n",
        "# GEN 01,03\tnode=1131700\toid=84389\tbmonad=37\t0 1 2\r\n",
        "(S(C(CP(cj \"W\"))(VP(vb \"JHJ\"))(NP(n \">WR\"))))\r\n",
        "\r\n",
        "# GEN 01,04\tnode=1131701\toid=84390\tbmonad=40\t0 1 2 3 4 5 6 7\r\n",
        "(S(C(CP(cj \"W\"))(VP(vb \"JR>\"))(NP(n \">LHJM\"))(PP(pp \">T\")(dt \"H\")(n \">WR\"))(Cobjc(CP(cj \"KJ\"))(VP(vb \"VWB\")))))\r\n",
        "\r\n"
       ]
      }
     ],
     "prompt_number": 19
    },
    {
     "cell_type": "code",
     "collapsed": false,
     "input": [],
     "language": "python",
     "metadata": {},
     "outputs": [],
     "prompt_number": 15
    }
   ],
   "metadata": {}
  }
 ]
}