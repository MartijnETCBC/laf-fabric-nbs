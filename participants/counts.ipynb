{
 "metadata": {
  "name": "",
  "signature": "sha256:687db575183db042dc3361c0092f798500711399f0b9a4402b6b034d65bd129e"
 },
 "nbformat": 3,
 "nbformat_minor": 0,
 "worksheets": [
  {
   "cells": [
    {
     "cell_type": "code",
     "collapsed": false,
     "input": [
      "import sys\n",
      "import collections\n",
      "%load_ext autoreload\n",
      "%autoreload 2\n",
      "import laf\n",
      "from laf.fabric import LafFabric\n",
      "from etcbc.preprocess import prepare\n",
      "from etcbc.lib import Transcription, monad_set\n",
      "from etcbc.trees import Tree\n",
      "fabric = LafFabric()"
     ],
     "language": "python",
     "metadata": {},
     "outputs": [
      {
       "output_type": "stream",
       "stream": "stderr",
       "text": [
        "  0.00s This is LAF-Fabric 4.2.10\n",
        "http://laf-fabric.readthedocs.org/en/latest/texts/API-reference.html\n"
       ]
      }
     ],
     "prompt_number": 1
    },
    {
     "cell_type": "code",
     "collapsed": false,
     "input": [
      "API = fabric.load('bhs4', 'px', 'participants_in_psalms', {\n",
      "    \"xmlids\": {\"node\": False, \"edge\": False},\n",
      "    \"features\": ('''\n",
      "        otype number label\n",
      "        ps nu gn prs lex_utf8\n",
      "        book chapter txt pargr\n",
      "\n",
      "    ''',\n",
      "    '''\n",
      "    '''),\n",
      "    \"prepare\": prepare,\n",
      "}, verbose='DETAIL')\n",
      "exec(fabric.localnames.format(var='fabric'))"
     ],
     "language": "python",
     "metadata": {},
     "outputs": [
      {
       "output_type": "stream",
       "stream": "stderr",
       "text": [
        "  0.00s LOADING API: please wait ... \n"
       ]
      },
      {
       "output_type": "stream",
       "stream": "stderr",
       "text": [
        "  0.01s DETAIL: COMPILING m: UP TO DATE\n"
       ]
      },
      {
       "output_type": "stream",
       "stream": "stderr",
       "text": [
        "  0.01s INFO: DATA COMPILED AT: 2014-06-30T05-57-52\n"
       ]
      },
      {
       "output_type": "stream",
       "stream": "stderr",
       "text": [
        "  0.01s DETAIL: COMPILING a: UP TO DATE\n"
       ]
      },
      {
       "output_type": "stream",
       "stream": "stderr",
       "text": [
        "  0.01s INFO: DATA COMPILED AT: 2014-06-30T09-36-29\n"
       ]
      },
      {
       "output_type": "stream",
       "stream": "stderr",
       "text": [
        "  0.02s DETAIL: load main: G.node_anchor_min\n"
       ]
      },
      {
       "output_type": "stream",
       "stream": "stderr",
       "text": [
        "  0.16s DETAIL: load main: G.node_anchor_max\n"
       ]
      },
      {
       "output_type": "stream",
       "stream": "stderr",
       "text": [
        "  0.27s DETAIL: load main: G.node_sort\n"
       ]
      },
      {
       "output_type": "stream",
       "stream": "stderr",
       "text": [
        "  0.37s DETAIL: load main: G.node_sort_inv\n"
       ]
      },
      {
       "output_type": "stream",
       "stream": "stderr",
       "text": [
        "  1.19s DETAIL: load main: G.edges_from\n"
       ]
      },
      {
       "output_type": "stream",
       "stream": "stderr",
       "text": [
        "  1.36s DETAIL: load main: G.edges_to\n"
       ]
      },
      {
       "output_type": "stream",
       "stream": "stderr",
       "text": [
        "  1.54s DETAIL: load main: F.shebanq_db_otype [node] \n"
       ]
      },
      {
       "output_type": "stream",
       "stream": "stderr",
       "text": [
        "  2.86s DETAIL: load main: F.shebanq_ft_gn [node] \n"
       ]
      },
      {
       "output_type": "stream",
       "stream": "stderr",
       "text": [
        "  3.14s DETAIL: load main: F.shebanq_ft_lex_utf8 [node] \n"
       ]
      },
      {
       "output_type": "stream",
       "stream": "stderr",
       "text": [
        "  3.62s DETAIL: load main: F.shebanq_ft_nu [node] \n"
       ]
      },
      {
       "output_type": "stream",
       "stream": "stderr",
       "text": [
        "  3.99s DETAIL: load main: F.shebanq_ft_number [node] \n"
       ]
      },
      {
       "output_type": "stream",
       "stream": "stderr",
       "text": [
        "  4.98s DETAIL: load main: F.shebanq_ft_prs [node] \n"
       ]
      },
      {
       "output_type": "stream",
       "stream": "stderr",
       "text": [
        "  5.32s DETAIL: load main: F.shebanq_ft_ps [node] \n"
       ]
      },
      {
       "output_type": "stream",
       "stream": "stderr",
       "text": [
        "  5.64s DETAIL: load main: F.shebanq_ft_txt [node] \n"
       ]
      },
      {
       "output_type": "stream",
       "stream": "stderr",
       "text": [
        "  5.72s DETAIL: load main: F.shebanq_px_pargr [node] \n"
       ]
      },
      {
       "output_type": "stream",
       "stream": "stderr",
       "text": [
        "  5.72s DETAIL: load main: F.shebanq_sft_book [node] \n"
       ]
      },
      {
       "output_type": "stream",
       "stream": "stderr",
       "text": [
        "  5.77s DETAIL: load main: F.shebanq_sft_chapter [node] \n"
       ]
      },
      {
       "output_type": "stream",
       "stream": "stderr",
       "text": [
        "  5.81s DETAIL: load main: F.shebanq_sft_label [node] \n"
       ]
      },
      {
       "output_type": "stream",
       "stream": "stderr",
       "text": [
        "  5.88s DETAIL: load annox: F.shebanq_db_otype [node] \n"
       ]
      },
      {
       "output_type": "stream",
       "stream": "stderr",
       "text": [
        "  5.88s DETAIL: load annox: F.shebanq_ft_gn [node] \n"
       ]
      },
      {
       "output_type": "stream",
       "stream": "stderr",
       "text": [
        "  5.88s DETAIL: load annox: F.shebanq_ft_lex_utf8 [node] \n"
       ]
      },
      {
       "output_type": "stream",
       "stream": "stderr",
       "text": [
        "  5.88s DETAIL: load annox: F.shebanq_ft_nu [node] \n"
       ]
      },
      {
       "output_type": "stream",
       "stream": "stderr",
       "text": [
        "  5.88s DETAIL: load annox: F.shebanq_ft_number [node] \n"
       ]
      },
      {
       "output_type": "stream",
       "stream": "stderr",
       "text": [
        "  5.88s DETAIL: load annox: F.shebanq_ft_prs [node] \n"
       ]
      },
      {
       "output_type": "stream",
       "stream": "stderr",
       "text": [
        "  5.88s DETAIL: load annox: F.shebanq_ft_ps [node] \n"
       ]
      },
      {
       "output_type": "stream",
       "stream": "stderr",
       "text": [
        "  5.89s DETAIL: load annox: F.shebanq_ft_txt [node] \n"
       ]
      },
      {
       "output_type": "stream",
       "stream": "stderr",
       "text": [
        "  5.89s DETAIL: load annox: F.shebanq_px_pargr [node] \n"
       ]
      },
      {
       "output_type": "stream",
       "stream": "stderr",
       "text": [
        "  6.01s DETAIL: load annox: F.shebanq_sft_book [node] \n"
       ]
      },
      {
       "output_type": "stream",
       "stream": "stderr",
       "text": [
        "  6.01s DETAIL: load annox: F.shebanq_sft_chapter [node] \n"
       ]
      },
      {
       "output_type": "stream",
       "stream": "stderr",
       "text": [
        "  6.01s DETAIL: load annox: F.shebanq_sft_label [node] \n"
       ]
      },
      {
       "output_type": "stream",
       "stream": "stderr",
       "text": [
        "  6.01s LOGFILE=C:\\Users\\Gino/laf-fabric-output/bhs4/participants_in_psalms/__log__participants_in_psalms.txt\n"
       ]
      },
      {
       "output_type": "stream",
       "stream": "stderr",
       "text": [
        "  6.03s DETAIL: prep prep: G.node_sort\n"
       ]
      },
      {
       "output_type": "stream",
       "stream": "stderr",
       "text": [
        "  6.19s DETAIL: prep prep: G.node_sort_inv\n"
       ]
      },
      {
       "output_type": "stream",
       "stream": "stderr",
       "text": [
        "  8.38s INFO: DATA LOADED FROM SOURCE bhs4 AND ANNOX px FOR TASK participants_in_psalms\n"
       ]
      }
     ],
     "prompt_number": 2
    },
    {
     "cell_type": "code",
     "collapsed": false,
     "input": [
      "def analyze_psalms():\n",
      "    f = outfile('countings.csv')\n",
      "    inPsalms = False\n",
      "    count_1sg = count_1pl = count_2Msg = count_2Fsg = count_2Mpl = count_2Fpl = count_3Msg = count_3Fsg = count_3Mpl = count_3Fpl =0\n",
      "    \n",
      "    for node in NN():\n",
      "        otype = F.otype.v(node)\n",
      "        if otype == 'book':\n",
      "            if F.book.v(node) == \"Psalmi\":\n",
      "                inPsalms = True\n",
      "            else:\n",
      "                inPsalms = False\n",
      "        elif inPsalms:\n",
      "            if otype == \"word\":\n",
      "                if F.ps.v(node) == \"p1\":\n",
      "                    if F.nu.v(node) == \"sg\":\n",
      "                        count_1sg += 1\n",
      "                    else:\n",
      "                        count_1pl += 1\n",
      "                elif F.ps.v(node) == \"p2\":\n",
      "                    if F.nu.v(node) == \"sg\":\n",
      "                        if F.gn.v(node) == \"f\":\n",
      "                            count_2Fsg += 1\n",
      "                        else:\n",
      "                            count_2Msg += 1\n",
      "                    else:\n",
      "                        if F.gn.v(node) == \"f\":\n",
      "                            count_2Fpl += 1\n",
      "                        else:\n",
      "                            count_2Mpl += 1\n",
      "                elif F.ps.v(node) == \"p3\":\n",
      "                    if F.nu.v(node) == \"sg\":\n",
      "                        if F.gn.v(node) == \"f\":\n",
      "                            count_3Fsg += 1\n",
      "                        else:\n",
      "                            count_3Msg += 1\n",
      "                    else:\n",
      "                        if F.gn.v(node) == \"f\":\n",
      "                            count_3Fpl += 1\n",
      "                        else:\n",
      "                            count_3Mpl += 1\n",
      "                suffix = F.prs.v(node)\n",
      "                if suffix == \"NJ\" or suffix == \"J\":\n",
      "                    count_1sg += 1\n",
      "                elif suffix == \"NW\":\n",
      "                    count_1pl += 1\n",
      "                elif suffix == \"K\":\n",
      "                    count_2Fsg += 1\n",
      "                elif suffix == \"K=\":\n",
      "                    count_2Msg += 1\n",
      "                elif suffix == \"W\" or suffix == \"HW\":\n",
      "                    count_3Msg += 1\n",
      "                elif suffix == \"H\":\n",
      "                    count_3Fsg += 1\n",
      "                elif suffix == \"KM\":\n",
      "                    count_2Mpl += 1\n",
      "                elif suffix == \"KN\":\n",
      "                    count_2Fpl += 1\n",
      "                elif suffix == \"HM\" or suffix == \"M\" or suffix == \"MW\":\n",
      "                    count_3Mpl += 1\n",
      "                elif suffix == \"HN\" or suffix == \"N\":\n",
      "                    count_3Fpl += 1\n",
      "                \n",
      "    count_total = count_1sg + count_1pl + count_2Msg + count_2Fsg + count_2Mpl + count_2Fpl + count_3Msg + count_3Fsg + count_3Mpl + count_3Fpl\n",
      "    \n",
      "    f.write(\"{};{};{};{};{};{};{};{};{};{};{}\\n\".format('1sg', '1pl', '2Msg', '2Fsg', '2Mpl', '2Fpl', '3Msg', '3Fsg', '3Mpl', '3Fpl', 'TOTAAL'))\n",
      "    f.write(\"{};{};{};{};{};{};{};{};{};{};{}\\n\".format(count_1sg, count_1pl, count_2Msg, count_2Fsg, count_2Mpl, count_2Fpl, count_3Msg, count_3Fsg, count_3Mpl, count_3Fpl, count_total))\n",
      "    f.write(\"{};{};{};{};{};{};{};{};{};{};{}\\n\".format(round(count_1sg / count_total * 100, 2), round(count_1pl / count_total * 100, 2), round(count_2Msg / count_total * 100, 2), round(count_2Fsg / count_total * 100, 2), round(count_2Mpl / count_total * 100, 2), round(count_2Fpl / count_total * 100, 2), round(count_3Msg / count_total * 100, 2), round(count_3Fsg / count_total * 100, 2), round(count_3Mpl / count_total * 100, 2), round(count_3Fpl / count_total * 100, 2), round(count_total / count_total * 100, 2)))\n",
      "    f.close()"
     ],
     "language": "python",
     "metadata": {},
     "outputs": [],
     "prompt_number": 12
    },
    {
     "cell_type": "code",
     "collapsed": false,
     "input": [
      "analyze_psalms()"
     ],
     "language": "python",
     "metadata": {},
     "outputs": [],
     "prompt_number": 13
    },
    {
     "cell_type": "code",
     "collapsed": false,
     "input": [],
     "language": "python",
     "metadata": {},
     "outputs": []
    }
   ],
   "metadata": {}
  }
 ]
}