{
 "metadata": {
  "name": "",
  "signature": "sha256:5bd7ee1d291f892530793e720615725475920b89d2588903c20eac3e438582e5"
 },
 "nbformat": 3,
 "nbformat_minor": 0,
 "worksheets": [
  {
   "cells": [
    {
     "cell_type": "code",
     "collapsed": false,
     "input": [
      "import sys\n",
      "import collections\n",
      "%load_ext autoreload\n",
      "%autoreload 2\n",
      "import laf\n",
      "from laf.fabric import LafFabric\n",
      "from etcbc.preprocess import prepare\n",
      "from etcbc.lib import Transcription, monad_set\n",
      "from etcbc.trees import Tree\n",
      "fabric = LafFabric()"
     ],
     "language": "python",
     "metadata": {},
     "outputs": [
      {
       "output_type": "stream",
       "stream": "stderr",
       "text": [
        "  0.00s This is LAF-Fabric 4.2.10\n",
        "http://laf-fabric.readthedocs.org/en/latest/texts/API-reference.html\n"
       ]
      }
     ],
     "prompt_number": 1
    },
    {
     "cell_type": "code",
     "collapsed": false,
     "input": [
      "API = fabric.load('bhs4', '--', 'participants_in_psalms', {\n",
      "    \"xmlids\": {\"node\": False, \"edge\": False},\n",
      "    \"features\": ('''\n",
      "        otype number label\n",
      "        ps nu gn prs lex_utf8\n",
      "        book chapter txt\n",
      "\n",
      "    ''',\n",
      "    '''\n",
      "    '''),\n",
      "    \"prepare\": prepare,\n",
      "}, verbose='DETAIL')\n",
      "exec(fabric.localnames.format(var='fabric'))"
     ],
     "language": "python",
     "metadata": {},
     "outputs": [
      {
       "output_type": "stream",
       "stream": "stderr",
       "text": [
        "  0.00s LOADING API: please wait ... \n"
       ]
      },
      {
       "output_type": "stream",
       "stream": "stderr",
       "text": [
        "  0.00s DETAIL: COMPILING m: UP TO DATE\n"
       ]
      },
      {
       "output_type": "stream",
       "stream": "stderr",
       "text": [
        "  0.04s INFO: DATA COMPILED AT: 2014-06-17T12-19-48\n"
       ]
      },
      {
       "output_type": "stream",
       "stream": "stderr",
       "text": [
        "  0.04s DETAIL: COMPILING a: UP TO DATE\n"
       ]
      },
      {
       "output_type": "stream",
       "stream": "stderr",
       "text": [
        "  0.06s DETAIL: load main: G.node_anchor_min\n"
       ]
      },
      {
       "output_type": "stream",
       "stream": "stderr",
       "text": [
        "  0.39s DETAIL: load main: G.node_anchor_max\n"
       ]
      },
      {
       "output_type": "stream",
       "stream": "stderr",
       "text": [
        "  0.56s DETAIL: load main: G.node_sort\n"
       ]
      },
      {
       "output_type": "stream",
       "stream": "stderr",
       "text": [
        "  0.78s DETAIL: load main: G.node_sort_inv\n"
       ]
      },
      {
       "output_type": "stream",
       "stream": "stderr",
       "text": [
        "  1.61s DETAIL: load main: G.edges_from\n"
       ]
      },
      {
       "output_type": "stream",
       "stream": "stderr",
       "text": [
        "  1.85s DETAIL: load main: G.edges_to\n"
       ]
      },
      {
       "output_type": "stream",
       "stream": "stderr",
       "text": [
        "  2.07s DETAIL: load main: F.shebanq_db_otype [node] \n"
       ]
      },
      {
       "output_type": "stream",
       "stream": "stderr",
       "text": [
        "  3.21s DETAIL: load main: F.shebanq_ft_gn [node] \n"
       ]
      },
      {
       "output_type": "stream",
       "stream": "stderr",
       "text": [
        "  3.54s DETAIL: load main: F.shebanq_ft_lex_utf8 [node] \n"
       ]
      },
      {
       "output_type": "stream",
       "stream": "stderr",
       "text": [
        "  4.03s DETAIL: load main: F.shebanq_ft_nu [node] \n"
       ]
      },
      {
       "output_type": "stream",
       "stream": "stderr",
       "text": [
        "  4.43s DETAIL: load main: F.shebanq_ft_number [node] \n"
       ]
      },
      {
       "output_type": "stream",
       "stream": "stderr",
       "text": [
        "  5.32s DETAIL: load main: F.shebanq_ft_prs [node] \n"
       ]
      },
      {
       "output_type": "stream",
       "stream": "stderr",
       "text": [
        "  5.73s DETAIL: load main: F.shebanq_ft_ps [node] \n"
       ]
      },
      {
       "output_type": "stream",
       "stream": "stderr",
       "text": [
        "  6.72s DETAIL: load main: F.shebanq_ft_txt [node] \n"
       ]
      },
      {
       "output_type": "stream",
       "stream": "stderr",
       "text": [
        "  7.03s DETAIL: load main: F.shebanq_sft_book [node] \n"
       ]
      },
      {
       "output_type": "stream",
       "stream": "stderr",
       "text": [
        "  7.20s DETAIL: load main: F.shebanq_sft_chapter [node] \n"
       ]
      },
      {
       "output_type": "stream",
       "stream": "stderr",
       "text": [
        "  7.38s DETAIL: load main: F.shebanq_sft_label [node] \n"
       ]
      },
      {
       "output_type": "stream",
       "stream": "stderr",
       "text": [
        "  7.61s LOGFILE=C:\\Users\\Gino/laf-fabric-output/bhs4/participants_in_psalms/__log__participants_in_psalms.txt\n"
       ]
      },
      {
       "output_type": "stream",
       "stream": "stderr",
       "text": [
        "  7.62s DETAIL: prep prep: G.node_sort\n"
       ]
      },
      {
       "output_type": "stream",
       "stream": "stderr",
       "text": [
        "  8.15s DETAIL: prep prep: G.node_sort_inv\n"
       ]
      },
      {
       "output_type": "stream",
       "stream": "stderr",
       "text": [
        "  9.14s INFO: DATA LOADED FROM SOURCE bhs4 AND ANNOX -- FOR TASK participants_in_psalms\n"
       ]
      }
     ],
     "prompt_number": 2
    },
    {
     "cell_type": "code",
     "collapsed": false,
     "input": [
      "def analyze_psalms():\n",
      "    f = outfile('firstPersonDomainsInPsalms.csv')\n",
      "    inPsalms = False\n",
      "    txttype= verse = chapter = \"\"\n",
      "    chapters = []\n",
      "    firstSgReferences = collections.OrderedDict()\n",
      "    firstPlReferences = collections.OrderedDict()\n",
      "    firstPersonReferences = collections.OrderedDict()\n",
      "    \n",
      "    for node in NN():\n",
      "        otype = F.otype.v(node)\n",
      "        if otype == 'book':\n",
      "            if F.book.v(node) == \"Psalmi\":\n",
      "                inPsalms = True\n",
      "            else:\n",
      "                inPsalms = False\n",
      "        elif inPsalms:\n",
      "            if otype == 'chapter':\n",
      "                ch = F.chapter.v(node)\n",
      "                chapters.append(ch)\n",
      "                firstSgReferences[ch] = collections.defaultdict(dict)\n",
      "                firstPlReferences[ch] = collections.defaultdict(dict)\n",
      "                firstPersonReferences[ch] = collections.defaultdict(list)\n",
      "            elif otype == 'verse':\n",
      "                verse = (F.label.v(node))[-3:]\n",
      "                firstSgReferences[ch][verse] = collections.OrderedDict()\n",
      "                firstPlReferences[ch][verse] = collections.OrderedDict()\n",
      "                firstPersonReferences[ch][verse] = []\n",
      "            elif otype == 'clause':\n",
      "                txttype = F.txt.v(node)\n",
      "            elif otype == \"word\":\n",
      "                text = F.lex_utf8.v(node)\n",
      "                if F.ps.v(node) == \"p1\":\n",
      "                    firstPersonReferences[ch][verse].append(text)\n",
      "                    if F.nu.v(node) == \"sg\":\n",
      "                        firstSgReferences[ch][verse][text] = txttype\n",
      "                    else:\n",
      "                        firstPlReferences[ch][verse][text] = txttype\n",
      "                else:\n",
      "                    suffix = F.prs.v(node)\n",
      "                    if suffix == \"NJ\" or suffix == \"J\":\n",
      "                        firstPersonReferences[ch][verse].append(text)\n",
      "                        firstSgReferences[ch][verse][text] = txttype\n",
      "                    elif suffix == \"NW\":\n",
      "                        firstPersonReferences[ch][verse].append(text)\n",
      "                        firstPlReferences[ch][verse][text] = txttype\n",
      "                \n",
      "    f.write(\"{};{};{};{};{};{}\\n\".format(\"chapter\", \"verse\", \"1sg-references\", \"domain\", \"1pl-references\", \"domain\"))\n",
      "    \n",
      "    for c in chapters:\n",
      "        f.write(\"\\n{}\".format(c))\n",
      "        for v in sorted(firstSgReferences[c]):\n",
      "            f.write(\";{}\\n\".format(v))\n",
      "            for w in firstPersonReferences[c][v]:\n",
      "                sgOcc = sgTxt = \"\"\n",
      "                plOcc = plTxt = \"\"\n",
      "                if w in firstSgReferences[c][v]:\n",
      "                    sgOcc = w\n",
      "                    sgTxt = firstSgReferences[c][v][w]\n",
      "                else:\n",
      "                    plOcc = w\n",
      "                    plTxt = firstPlReferences[c][v][w]\n",
      "                    \n",
      "                f.write(\";;{};{};{};{}\\n\".format(sgOcc, sgTxt, plOcc, plTxt))\n",
      " \n",
      "        f.write(\"\\n\")            \n",
      "    f.close()"
     ],
     "language": "python",
     "metadata": {},
     "outputs": [],
     "prompt_number": 3
    },
    {
     "cell_type": "code",
     "collapsed": false,
     "input": [
      "analyze_psalms()"
     ],
     "language": "python",
     "metadata": {},
     "outputs": [],
     "prompt_number": 4
    },
    {
     "cell_type": "code",
     "collapsed": false,
     "input": [],
     "language": "python",
     "metadata": {},
     "outputs": []
    }
   ],
   "metadata": {}
  }
 ]
}