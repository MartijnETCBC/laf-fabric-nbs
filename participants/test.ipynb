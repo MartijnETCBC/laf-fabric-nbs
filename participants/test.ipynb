{
 "metadata": {
  "name": "",
  "signature": "sha256:d03af0be042ff9aa35aa388c23ccef440d07be9397b59bc8c2b78f7564696af8"
 },
 "nbformat": 3,
 "nbformat_minor": 0,
 "worksheets": [
  {
   "cells": [
    {
     "cell_type": "code",
     "collapsed": false,
     "input": [
      "import sys\n",
      "import collections\n",
      "\n",
      "import laf\n",
      "from laf.fabric import LafFabric\n",
      "from etcbc.preprocess import prepare\n",
      "\n",
      "fabric = LafFabric()"
     ],
     "language": "python",
     "metadata": {},
     "outputs": [
      {
       "output_type": "stream",
       "stream": "stderr",
       "text": [
        "  0.00s This is LAF-Fabric 4.4.1\n",
        "http://laf-fabric.readthedocs.org/en/latest/texts/API-reference.html\n"
       ]
      }
     ],
     "prompt_number": 1
    },
    {
     "cell_type": "code",
     "collapsed": false,
     "input": [
      "API = fabric.load('etcbc4', '--', 'clausecomplements', {\n",
      "    \"xmlids\": {\"node\": False, \"edge\": False},\n",
      "    \"features\": ('''\n",
      "        otype\n",
      "        dist\n",
      "    ''','''\n",
      "    '''),\n",
      "    \"prepare\": prepare,\n",
      "}, verbose='NORMAL')\n",
      "exec(fabric.localnames.format(var='fabric'))"
     ],
     "language": "python",
     "metadata": {},
     "outputs": [
      {
       "output_type": "stream",
       "stream": "stderr",
       "text": [
        "  0.00s LOADING API: please wait ... \n"
       ]
      },
      {
       "output_type": "stream",
       "stream": "stderr",
       "text": [
        "  0.00s INFO: USING DATA COMPILED AT: 2014-07-23T09-31-37\n"
       ]
      },
      {
       "output_type": "stream",
       "stream": "stderr",
       "text": [
        "  1.59s LOGFILE=/Users/dirk/laf-fabric-output/etcbc4/clausecomplements/__log__clausecomplements.txt\n"
       ]
      },
      {
       "output_type": "stream",
       "stream": "stderr",
       "text": [
        "  2.17s INFO: DATA LOADED FROM SOURCE etcbc4 AND ANNOX -- FOR TASK clausecomplements AT 2014-09-17T08-21-52\n"
       ]
      }
     ],
     "prompt_number": 2
    },
    {
     "cell_type": "code",
     "collapsed": false,
     "input": [
      "dists = set()\n",
      "for n in NN():\n",
      "    otype = F.otype.v(n)\n",
      "    if otype != 'clause_atom': next\n",
      "    dists.add(F.dist.v(n))\n",
      "dists"
     ],
     "language": "python",
     "metadata": {},
     "outputs": [
      {
       "metadata": {},
       "output_type": "pyout",
       "prompt_number": 3,
       "text": [
        "{'-12',\n",
        " '-18',\n",
        " '-23',\n",
        " None,\n",
        " '6',\n",
        " '-4',\n",
        " '-17',\n",
        " '-20',\n",
        " '-2',\n",
        " '-5',\n",
        " '4',\n",
        " '1',\n",
        " '-8',\n",
        " '3',\n",
        " '7',\n",
        " '-13',\n",
        " '-16',\n",
        " '-120',\n",
        " '-19',\n",
        " '-1',\n",
        " '-7',\n",
        " '-44',\n",
        " '0',\n",
        " '-6',\n",
        " '-15',\n",
        " '-34',\n",
        " '-22',\n",
        " '-31',\n",
        " '-9',\n",
        " '-21',\n",
        " '-51',\n",
        " '-10',\n",
        " '-24',\n",
        " '2',\n",
        " '-14',\n",
        " '5',\n",
        " '-11',\n",
        " '-3',\n",
        " '8'}"
       ]
      }
     ],
     "prompt_number": 3
    },
    {
     "cell_type": "code",
     "collapsed": false,
     "input": [],
     "language": "python",
     "metadata": {},
     "outputs": []
    }
   ],
   "metadata": {}
  }
 ]
}