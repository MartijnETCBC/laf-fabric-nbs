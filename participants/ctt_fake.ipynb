{
 "metadata": {
  "name": "",
  "signature": "sha256:dccf8991306523b692a74e2d12ee73d1a7e4b4a2f4739044fca1cec5ba0eec80"
 },
 "nbformat": 3,
 "nbformat_minor": 0,
 "worksheets": [
  {
   "cells": [
    {
     "cell_type": "code",
     "collapsed": false,
     "input": [
      "from IPython.display import display, HTML, FileLinks\n",
      "%load_ext autoreload\n",
      "%autoreload 2\n",
      "import laf\n",
      "from laf.fabric import LafFabric\n",
      "from etcbc.preprocess import prepare\n",
      "from etcbc.px import PX\n",
      "fabric = LafFabric()"
     ],
     "language": "python",
     "metadata": {},
     "outputs": [
      {
       "output_type": "stream",
       "stream": "stderr",
       "text": [
        "  0.00s This is LAF-Fabric 4.3.0\n",
        "http://laf-fabric.readthedocs.org/en/latest/texts/API-reference.html\n"
       ]
      }
     ],
     "prompt_number": 1
    },
    {
     "cell_type": "code",
     "collapsed": false,
     "input": [
      "API=fabric.load('bhs4', 'px', 'can', {\n",
      "    \"xmlids\": {\"node\": False, \"edge\": False},\n",
      "    \"features\": ('''\n",
      "        otype nu gn ps label sp typ\n",
      "        instruction number_in_ch pargr\n",
      "        \n",
      "    ''',\n",
      "    '''\n",
      "    '''),\n",
      "    \"prepare\": prepare,\n",
      "}, verbose='DETAIL')\n",
      "exec(fabric.localnames.format(var='fabric'))"
     ],
     "language": "python",
     "metadata": {},
     "outputs": [
      {
       "output_type": "stream",
       "stream": "stderr",
       "text": [
        "  0.00s LOADING API: please wait ... \n"
       ]
      },
      {
       "output_type": "stream",
       "stream": "stderr",
       "text": [
        "  0.00s DETAIL: COMPILING m: UP TO DATE\n"
       ]
      },
      {
       "output_type": "stream",
       "stream": "stderr",
       "text": [
        "  0.00s INFO: USING DATA COMPILED AT: 2014-06-30T05-57-52\n"
       ]
      },
      {
       "output_type": "stream",
       "stream": "stderr",
       "text": [
        "  0.00s DETAIL: COMPILING a: UP TO DATE\n"
       ]
      },
      {
       "output_type": "stream",
       "stream": "stderr",
       "text": [
        "  0.00s INFO: USING DATA COMPILED AT: 2014-07-03T10-03-43\n"
       ]
      },
      {
       "output_type": "stream",
       "stream": "stderr",
       "text": [
        "  0.01s DETAIL: keep main: G.node_anchor_min\n"
       ]
      },
      {
       "output_type": "stream",
       "stream": "stderr",
       "text": [
        "  0.01s DETAIL: keep main: G.node_anchor_max\n"
       ]
      },
      {
       "output_type": "stream",
       "stream": "stderr",
       "text": [
        "  0.01s DETAIL: keep main: G.node_sort\n"
       ]
      },
      {
       "output_type": "stream",
       "stream": "stderr",
       "text": [
        "  0.01s DETAIL: keep main: G.node_sort_inv\n"
       ]
      },
      {
       "output_type": "stream",
       "stream": "stderr",
       "text": [
        "  0.01s DETAIL: keep main: G.edges_from\n"
       ]
      },
      {
       "output_type": "stream",
       "stream": "stderr",
       "text": [
        "  0.01s DETAIL: keep main: G.edges_to\n"
       ]
      },
      {
       "output_type": "stream",
       "stream": "stderr",
       "text": [
        "  0.01s DETAIL: keep main: F.shebanq_db_otype [node] \n"
       ]
      },
      {
       "output_type": "stream",
       "stream": "stderr",
       "text": [
        "  0.01s DETAIL: keep main: F.shebanq_ft_gn [node] \n"
       ]
      },
      {
       "output_type": "stream",
       "stream": "stderr",
       "text": [
        "  0.01s DETAIL: keep main: F.shebanq_ft_nu [node] \n"
       ]
      },
      {
       "output_type": "stream",
       "stream": "stderr",
       "text": [
        "  0.01s DETAIL: keep main: F.shebanq_ft_ps [node] \n"
       ]
      },
      {
       "output_type": "stream",
       "stream": "stderr",
       "text": [
        "  0.01s DETAIL: keep main: F.shebanq_ft_sp [node] \n"
       ]
      },
      {
       "output_type": "stream",
       "stream": "stderr",
       "text": [
        "  0.01s DETAIL: keep main: F.shebanq_px_instruction [node] \n"
       ]
      },
      {
       "output_type": "stream",
       "stream": "stderr",
       "text": [
        "  0.01s DETAIL: keep main: F.shebanq_px_number_in_ch [node] \n"
       ]
      },
      {
       "output_type": "stream",
       "stream": "stderr",
       "text": [
        "  0.01s DETAIL: keep main: F.shebanq_px_pargr [node] \n"
       ]
      },
      {
       "output_type": "stream",
       "stream": "stderr",
       "text": [
        "  0.02s DETAIL: keep main: F.shebanq_sft_label [node] \n"
       ]
      },
      {
       "output_type": "stream",
       "stream": "stderr",
       "text": [
        "  0.02s DETAIL: keep annox: F.shebanq_db_otype [node] \n"
       ]
      },
      {
       "output_type": "stream",
       "stream": "stderr",
       "text": [
        "  0.02s DETAIL: keep annox: F.shebanq_ft_gn [node] \n"
       ]
      },
      {
       "output_type": "stream",
       "stream": "stderr",
       "text": [
        "  0.02s DETAIL: keep annox: F.shebanq_ft_nu [node] \n"
       ]
      },
      {
       "output_type": "stream",
       "stream": "stderr",
       "text": [
        "  0.02s DETAIL: keep annox: F.shebanq_ft_ps [node] \n"
       ]
      },
      {
       "output_type": "stream",
       "stream": "stderr",
       "text": [
        "  0.02s DETAIL: keep annox: F.shebanq_ft_sp [node] \n"
       ]
      },
      {
       "output_type": "stream",
       "stream": "stderr",
       "text": [
        "  0.02s DETAIL: keep annox: F.shebanq_px_instruction [node] \n"
       ]
      },
      {
       "output_type": "stream",
       "stream": "stderr",
       "text": [
        "  0.02s DETAIL: keep annox: F.shebanq_px_number_in_ch [node] \n"
       ]
      },
      {
       "output_type": "stream",
       "stream": "stderr",
       "text": [
        "  0.02s DETAIL: keep annox: F.shebanq_px_pargr [node] \n"
       ]
      },
      {
       "output_type": "stream",
       "stream": "stderr",
       "text": [
        "  0.02s DETAIL: keep annox: F.shebanq_sft_label [node] \n"
       ]
      },
      {
       "output_type": "stream",
       "stream": "stderr",
       "text": [
        "  0.02s DETAIL: load main: F.shebanq_ft_typ [node] \n"
       ]
      },
      {
       "output_type": "stream",
       "stream": "stderr",
       "text": [
        "  0.47s DETAIL: load annox: F.shebanq_ft_typ [node] \n"
       ]
      },
      {
       "output_type": "stream",
       "stream": "stderr",
       "text": [
        "  0.47s DETAIL: prep prep: G.node_sort\n"
       ]
      },
      {
       "output_type": "stream",
       "stream": "stderr",
       "text": [
        "  0.53s DETAIL: prep prep: G.node_sort_inv\n"
       ]
      },
      {
       "output_type": "stream",
       "stream": "stderr",
       "text": [
        "  1.13s INFO: DATA LOADED FROM SOURCE bhs4 AND ANNOX px FOR TASK can AT 2014-07-03T10-25-20\n"
       ]
      }
     ],
     "prompt_number": 8
    },
    {
     "cell_type": "code",
     "collapsed": false,
     "input": [
      "outh = outfile('ctt.csv')\n",
      "cur = {}\n",
      "\n",
      "ps_map = { 'p1': '1', 'p2': '2', 'p3': '3'}\n",
      "gn_set = {'m', 'f'}\n",
      "nu_set = {'sg', 'pl', 'du'}\n",
      "\n",
      "def finish_cat():\n",
      "    if cur and 'cat' in cur:\n",
      "        print('{}'.format(cur))\n",
      "        outh.write('{label};{cat};{sign};{ins}\\n'.format(**cur))\n",
      "        cur['cat'] = None\n",
      "        cur['sign'] = None\n",
      "        cur['ins'] = None\n",
      "\n",
      "limit = 1000\n",
      "i = 0\n",
      "for n in NN():\n",
      "    i += 1\n",
      "    if i > limit: break\n",
      "    otype = F.otype.v(n)\n",
      "    if otype == 'verse': cur['label'] = F.label.v(n)\n",
      "    elif otype == 'clause_atom':\n",
      "        finish_cat()\n",
      "        cur['cat'] = F.typ.v(n)\n",
      "        cur['ins'] = F.instruction.v(n)\n",
      "    elif otype == 'word':\n",
      "        pos = F.sp.v(n)\n",
      "        if pos == 'verb':\n",
      "            ps = F.ps.v(n)\n",
      "            nu = F.nu.v(n)\n",
      "            gn = F.gn.v(n)\n",
      "            cur['sign'] = '{}{}{}'.format(\n",
      "                ps_map[ps] if ps in ps_map else '-',\n",
      "                nu if nu in nu_set else '-',\n",
      "                gn if gn in gn_set else '-',\n",
      "            )\n",
      "            \n",
      "finish_cat()\n",
      "\n",
      "outh.close()"
     ],
     "language": "python",
     "metadata": {},
     "outputs": [
      {
       "output_type": "stream",
       "stream": "stdout",
       "text": [
        "{'cat': 'xQtX', 'sign': '3sgm', 'ins': '.N', 'label': ' GEN 01,02'}\n",
        "{'cat': 'WXQt', 'sign': '3sgf', 'ins': '.#', 'label': ' GEN 01,02'}\n",
        "{'cat': 'NmCl', 'sign': None, 'ins': '..', 'label': ' GEN 01,02'}\n",
        "{'cat': 'Ptcp', 'sign': '-sgf', 'ins': '..', 'label': ' GEN 01,03'}\n",
        "{'cat': 'WayX', 'sign': '3sgm', 'ins': '.#', 'label': ' GEN 01,03'}\n",
        "{'cat': 'ZYqX', 'sign': '3sgm', 'ins': '.q', 'label': ' GEN 01,03'}\n",
        "{'cat': 'WayX', 'sign': '3sgm', 'ins': '.#', 'label': ' GEN 01,04'}\n",
        "{'cat': 'WayX', 'sign': '3sgm', 'ins': '.#', 'label': ' GEN 01,04'}\n",
        "{'cat': 'xQt0', 'sign': '3sgm', 'ins': '..', 'label': ' GEN 01,04'}\n",
        "{'cat': 'WayX', 'sign': '3sgm', 'ins': '.#', 'label': ' GEN 01,05'}\n",
        "{'cat': 'WayX', 'sign': '3sgm', 'ins': '.#', 'label': ' GEN 01,05'}\n",
        "{'cat': 'WxQ0', 'sign': '3sgm', 'ins': '..', 'label': ' GEN 01,05'}\n",
        "{'cat': 'WayX', 'sign': '3sgm', 'ins': '.#', 'label': ' GEN 01,05'}\n",
        "{'cat': 'WayX', 'sign': '3sgm', 'ins': '.#', 'label': ' GEN 01,05'}\n",
        "{'cat': 'NmCl', 'sign': None, 'ins': '..', 'label': ' GEN 01,06'}\n",
        "{'cat': 'WayX', 'sign': '3sgm', 'ins': '.#', 'label': ' GEN 01,06'}\n",
        "{'cat': 'ZYqX', 'sign': '3sgm', 'ins': '.q', 'label': ' GEN 01,06'}\n",
        "{'cat': 'WYq0', 'sign': '-sgm', 'ins': '..', 'label': ' GEN 01,07'}\n",
        "{'cat': 'WayX', 'sign': '3sgm', 'ins': '.#', 'label': ' GEN 01,07'}\n",
        "{'cat': 'Way0', 'sign': '3sgm', 'ins': '..', 'label': ' GEN 01,07'}\n",
        "{'cat': 'NmCl', 'sign': None, 'ins': '.e', 'label': ' GEN 01,07'}\n",
        "{'cat': 'Defc', 'sign': None, 'ins': 'd.', 'label': ' GEN 01,07'}\n",
        "{'cat': 'NmCl', 'sign': None, 'ins': '..', 'label': ' GEN 01,07'}\n",
        "{'cat': 'Way0', 'sign': '3sgm', 'ins': '..', 'label': ' GEN 01,08'}\n",
        "{'cat': 'WayX', 'sign': '3sgm', 'ins': '.#', 'label': ' GEN 01,08'}\n",
        "{'cat': 'WayX', 'sign': '3sgm', 'ins': '.#', 'label': ' GEN 01,08'}\n",
        "{'cat': 'WayX', 'sign': '3sgm', 'ins': '.#', 'label': ' GEN 01,08'}\n",
        "{'cat': 'NmCl', 'sign': None, 'ins': '..', 'label': ' GEN 01,09'}\n",
        "{'cat': 'WayX', 'sign': '3sgm', 'ins': '.#', 'label': ' GEN 01,09'}\n",
        "{'cat': 'ZYqX', 'sign': '3plm', 'ins': '.q', 'label': ' GEN 01,09'}\n",
        "{'cat': 'WYqX', 'sign': '3sgf', 'ins': '..', 'label': ' GEN 01,09'}\n",
        "{'cat': 'Way0', 'sign': '3sgm', 'ins': '..', 'label': ' GEN 01,10'}\n",
        "{'cat': 'WayX', 'sign': '3sgm', 'ins': '.#', 'label': ' GEN 01,10'}\n",
        "{'cat': 'WxQ0', 'sign': '3sgm', 'ins': '..', 'label': ' GEN 01,10'}\n",
        "{'cat': 'WayX', 'sign': '3sgm', 'ins': '.#', 'label': ' GEN 01,10'}\n",
        "{'cat': 'xQt0', 'sign': '3sgm', 'ins': '..', 'label': ' GEN 01,11'}\n",
        "{'cat': 'WayX', 'sign': '3sgm', 'ins': '.#', 'label': ' GEN 01,11'}\n",
        "{'cat': 'ZYqX', 'sign': '3sgf', 'ins': '.q', 'label': ' GEN 01,11'}\n",
        "{'cat': 'Ptcp', 'sign': '-sgm', 'ins': '.e', 'label': ' GEN 01,11'}\n",
        "{'cat': 'Defc', 'sign': None, 'ins': 'd.', 'label': ' GEN 01,11'}\n",
        "{'cat': 'Ptcp', 'sign': '-sgm', 'ins': '..', 'label': ' GEN 01,11'}\n",
        "{'cat': 'NmCl', 'sign': None, 'ins': '.e', 'label': ' GEN 01,11'}\n",
        "{'cat': 'Defc', 'sign': None, 'ins': 'd.', 'label': ' GEN 01,11'}\n",
        "{'cat': 'Way0', 'sign': '3sgm', 'ins': '..', 'label': ' GEN 01,12'}\n",
        "{'cat': 'WayX', 'sign': '3sgf', 'ins': '.#', 'label': ' GEN 01,12'}\n",
        "{'cat': 'Ptcp', 'sign': '-sgm', 'ins': '.e', 'label': ' GEN 01,12'}\n",
        "{'cat': 'Defc', 'sign': None, 'ins': 'd.', 'label': ' GEN 01,12'}\n",
        "{'cat': 'Ptcp', 'sign': '-sgm', 'ins': '..', 'label': ' GEN 01,12'}\n",
        "{'cat': 'NmCl', 'sign': None, 'ins': '.e', 'label': ' GEN 01,12'}\n",
        "{'cat': 'Defc', 'sign': None, 'ins': 'd.', 'label': ' GEN 01,12'}\n",
        "{'cat': 'WayX', 'sign': '3sgm', 'ins': '.#', 'label': ' GEN 01,12'}\n",
        "{'cat': 'xQt0', 'sign': '3sgm', 'ins': '..', 'label': ' GEN 01,13'}\n",
        "{'cat': 'WayX', 'sign': '3sgm', 'ins': '.#', 'label': ' GEN 01,13'}\n",
        "{'cat': 'WayX', 'sign': '3sgm', 'ins': '.#', 'label': ' GEN 01,13'}\n",
        "{'cat': 'NmCl', 'sign': None, 'ins': '..', 'label': ' GEN 01,14'}\n",
        "{'cat': 'WayX', 'sign': '3sgm', 'ins': '.#', 'label': ' GEN 01,14'}\n",
        "{'cat': 'ZYqX', 'sign': '3sgm', 'ins': '.q', 'label': ' GEN 01,14'}\n",
        "{'cat': 'InfC', 'sign': '---', 'ins': '..', 'label': ' GEN 01,14'}\n",
        "{'cat': 'WQt0', 'sign': '3pl-', 'ins': '..', 'label': ' GEN 01,15'}\n",
        "{'cat': 'WQt0', 'sign': '3pl-', 'ins': '..', 'label': ' GEN 01,15'}\n",
        "{'cat': 'InfC', 'sign': '---', 'ins': '..', 'label': ' GEN 01,15'}\n",
        "{'cat': 'Way0', 'sign': '3sgm', 'ins': '..', 'label': ' GEN 01,16'}\n",
        "{'cat': 'WayX', 'sign': '3sgm', 'ins': '.#', 'label': ' GEN 01,16'}\n",
        "{'cat': 'Ellp', 'sign': None, 'ins': 'l.', 'label': ' GEN 01,16'}\n",
        "{'cat': 'Ellp', 'sign': None, 'ins': 'l.', 'label': ' GEN 01,16'}\n"
       ]
      }
     ],
     "prompt_number": 12
    },
    {
     "cell_type": "code",
     "collapsed": false,
     "input": [],
     "language": "python",
     "metadata": {},
     "outputs": []
    }
   ],
   "metadata": {}
  }
 ]
}