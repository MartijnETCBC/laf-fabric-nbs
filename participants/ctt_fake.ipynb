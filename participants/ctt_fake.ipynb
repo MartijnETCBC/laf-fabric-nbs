{
 "metadata": {
  "name": "",
  "signature": "sha256:865895bd28ce1b367b19b2610664c9af68eb8a18cf00ba2f388a457c84973535"
 },
 "nbformat": 3,
 "nbformat_minor": 0,
 "worksheets": [
  {
   "cells": [
    {
     "cell_type": "code",
     "collapsed": false,
     "input": [
      "from IPython.display import display, HTML, FileLinks\n",
      "%load_ext autoreload\n",
      "%autoreload 2\n",
      "import laf\n",
      "from laf.fabric import LafFabric\n",
      "from etcbc.preprocess import prepare\n",
      "from etcbc.px import PX\n",
      "fabric = LafFabric()"
     ],
     "language": "python",
     "metadata": {},
     "outputs": [
      {
       "output_type": "stream",
       "stream": "stderr",
       "text": [
        "  0.00s This is LAF-Fabric 4.3.1\n",
        "http://laf-fabric.readthedocs.org/en/latest/texts/API-reference.html\n"
       ]
      }
     ],
     "prompt_number": 2
    },
    {
     "cell_type": "code",
     "collapsed": false,
     "input": [
      "API=fabric.load('bhs4', 'px', 'can', {\n",
      "    \"xmlids\": {\"node\": False, \"edge\": False},\n",
      "    \"features\": ('''\n",
      "        otype nu gn ps label sp typ\n",
      "        instruction number_in_ch pargr\n",
      "        g_word_utf8 tab txt\n",
      "        book chapter\n",
      "        \n",
      "    ''',\n",
      "    '''\n",
      "    '''),\n",
      "    \"prepare\": prepare,\n",
      "}, verbose='DETAIL')\n",
      "exec(fabric.localnames.format(var='fabric'))"
     ],
     "language": "python",
     "metadata": {},
     "outputs": [
      {
       "output_type": "stream",
       "stream": "stderr",
       "text": [
        "  0.00s LOADING API: please wait ... \n"
       ]
      },
      {
       "output_type": "stream",
       "stream": "stderr",
       "text": [
        "  0.00s DETAIL: COMPILING m: UP TO DATE\n"
       ]
      },
      {
       "output_type": "stream",
       "stream": "stderr",
       "text": [
        "  0.01s INFO: USING DATA COMPILED AT: 2014-06-30T05-57-52\n"
       ]
      },
      {
       "output_type": "stream",
       "stream": "stderr",
       "text": [
        "  0.01s DETAIL: COMPILING a: UP TO DATE\n"
       ]
      },
      {
       "output_type": "stream",
       "stream": "stderr",
       "text": [
        "  0.01s INFO: USING DATA COMPILED AT: 2014-07-04T14-31-13\n"
       ]
      },
      {
       "output_type": "stream",
       "stream": "stderr",
       "text": [
        "  0.02s DETAIL: keep main: G.node_anchor_min\n"
       ]
      },
      {
       "output_type": "stream",
       "stream": "stderr",
       "text": [
        "  0.02s DETAIL: keep main: G.node_anchor_max\n"
       ]
      },
      {
       "output_type": "stream",
       "stream": "stderr",
       "text": [
        "  0.02s DETAIL: keep main: G.node_sort\n"
       ]
      },
      {
       "output_type": "stream",
       "stream": "stderr",
       "text": [
        "  0.03s DETAIL: keep main: G.node_sort_inv\n"
       ]
      },
      {
       "output_type": "stream",
       "stream": "stderr",
       "text": [
        "  0.03s DETAIL: keep main: G.edges_from\n"
       ]
      },
      {
       "output_type": "stream",
       "stream": "stderr",
       "text": [
        "  0.03s DETAIL: keep main: G.edges_to\n"
       ]
      },
      {
       "output_type": "stream",
       "stream": "stderr",
       "text": [
        "  0.03s DETAIL: keep main: F.shebanq_db_otype [node] \n"
       ]
      },
      {
       "output_type": "stream",
       "stream": "stderr",
       "text": [
        "  0.03s DETAIL: keep main: F.shebanq_ft_g_word_utf8 [node] \n"
       ]
      },
      {
       "output_type": "stream",
       "stream": "stderr",
       "text": [
        "  0.03s DETAIL: keep main: F.shebanq_ft_gn [node] \n"
       ]
      },
      {
       "output_type": "stream",
       "stream": "stderr",
       "text": [
        "  0.03s DETAIL: keep main: F.shebanq_ft_nu [node] \n"
       ]
      },
      {
       "output_type": "stream",
       "stream": "stderr",
       "text": [
        "  0.03s DETAIL: keep main: F.shebanq_ft_ps [node] \n"
       ]
      },
      {
       "output_type": "stream",
       "stream": "stderr",
       "text": [
        "  0.03s DETAIL: keep main: F.shebanq_ft_sp [node] \n"
       ]
      },
      {
       "output_type": "stream",
       "stream": "stderr",
       "text": [
        "  0.03s DETAIL: keep main: F.shebanq_ft_tab [node] \n"
       ]
      },
      {
       "output_type": "stream",
       "stream": "stderr",
       "text": [
        "  0.03s DETAIL: keep main: F.shebanq_ft_typ [node] \n"
       ]
      },
      {
       "output_type": "stream",
       "stream": "stderr",
       "text": [
        "  0.03s DETAIL: keep main: F.shebanq_px_instruction [node] \n"
       ]
      },
      {
       "output_type": "stream",
       "stream": "stderr",
       "text": [
        "  0.03s DETAIL: keep main: F.shebanq_px_number_in_ch [node] \n"
       ]
      },
      {
       "output_type": "stream",
       "stream": "stderr",
       "text": [
        "  0.04s DETAIL: keep main: F.shebanq_px_pargr [node] \n"
       ]
      },
      {
       "output_type": "stream",
       "stream": "stderr",
       "text": [
        "  0.04s DETAIL: keep main: F.shebanq_sft_book [node] \n"
       ]
      },
      {
       "output_type": "stream",
       "stream": "stderr",
       "text": [
        "  0.04s DETAIL: keep main: F.shebanq_sft_chapter [node] \n"
       ]
      },
      {
       "output_type": "stream",
       "stream": "stderr",
       "text": [
        "  0.04s DETAIL: keep main: F.shebanq_sft_label [node] \n"
       ]
      },
      {
       "output_type": "stream",
       "stream": "stderr",
       "text": [
        "  0.04s DETAIL: keep annox: F.shebanq_db_otype [node] \n"
       ]
      },
      {
       "output_type": "stream",
       "stream": "stderr",
       "text": [
        "  0.04s DETAIL: keep annox: F.shebanq_ft_g_word_utf8 [node] \n"
       ]
      },
      {
       "output_type": "stream",
       "stream": "stderr",
       "text": [
        "  0.04s DETAIL: keep annox: F.shebanq_ft_gn [node] \n"
       ]
      },
      {
       "output_type": "stream",
       "stream": "stderr",
       "text": [
        "  0.04s DETAIL: keep annox: F.shebanq_ft_nu [node] \n"
       ]
      },
      {
       "output_type": "stream",
       "stream": "stderr",
       "text": [
        "  0.04s DETAIL: keep annox: F.shebanq_ft_ps [node] \n"
       ]
      },
      {
       "output_type": "stream",
       "stream": "stderr",
       "text": [
        "  0.04s DETAIL: keep annox: F.shebanq_ft_sp [node] \n"
       ]
      },
      {
       "output_type": "stream",
       "stream": "stderr",
       "text": [
        "  0.04s DETAIL: keep annox: F.shebanq_ft_tab [node] \n"
       ]
      },
      {
       "output_type": "stream",
       "stream": "stderr",
       "text": [
        "  0.05s DETAIL: keep annox: F.shebanq_ft_typ [node] \n"
       ]
      },
      {
       "output_type": "stream",
       "stream": "stderr",
       "text": [
        "  0.05s DETAIL: keep annox: F.shebanq_px_instruction [node] \n"
       ]
      },
      {
       "output_type": "stream",
       "stream": "stderr",
       "text": [
        "  0.05s DETAIL: keep annox: F.shebanq_px_number_in_ch [node] \n"
       ]
      },
      {
       "output_type": "stream",
       "stream": "stderr",
       "text": [
        "  0.05s DETAIL: keep annox: F.shebanq_px_pargr [node] \n"
       ]
      },
      {
       "output_type": "stream",
       "stream": "stderr",
       "text": [
        "  0.05s DETAIL: keep annox: F.shebanq_sft_book [node] \n"
       ]
      },
      {
       "output_type": "stream",
       "stream": "stderr",
       "text": [
        "  0.05s DETAIL: keep annox: F.shebanq_sft_chapter [node] \n"
       ]
      },
      {
       "output_type": "stream",
       "stream": "stderr",
       "text": [
        "  0.05s DETAIL: keep annox: F.shebanq_sft_label [node] \n"
       ]
      },
      {
       "output_type": "stream",
       "stream": "stderr",
       "text": [
        "  0.05s DETAIL: load main: F.shebanq_ft_txt [node] \n"
       ]
      },
      {
       "output_type": "stream",
       "stream": "stderr",
       "text": [
        "  0.27s DETAIL: load annox: F.shebanq_ft_txt [node] \n"
       ]
      },
      {
       "output_type": "stream",
       "stream": "stderr",
       "text": [
        "  0.28s DETAIL: prep prep: G.node_sort\n"
       ]
      },
      {
       "output_type": "stream",
       "stream": "stderr",
       "text": [
        "  0.38s DETAIL: prep prep: G.node_sort_inv\n"
       ]
      },
      {
       "output_type": "stream",
       "stream": "stderr",
       "text": [
        "  1.20s INFO: DATA LOADED FROM SOURCE bhs4 AND ANNOX px FOR TASK can AT 2014-07-04T15-14-15\n"
       ]
      }
     ],
     "prompt_number": 9
    },
    {
     "cell_type": "code",
     "collapsed": false,
     "input": [
      "outh = outfile('ctt.csv')\n",
      "cur = {}\n",
      "\n",
      "ps_map = { 'p1': '1', 'p2': '2', 'p3': '3'}\n",
      "gn_set = {'m', 'f'}\n",
      "nu_set = {'sg', 'pl', 'du'}\n",
      "tab = 0\n",
      "\n",
      "def finish_cat():\n",
      "    if cur and 'cat' in cur:\n",
      "        # print('{label};{cat};{sign};{ins};{text};\\n'.format(**cur))\n",
      "        outh.write('{label};{cat};{sign};{txttype};{par};{can};{ins};{text};\\n'.format(**cur))\n",
      "        cur['cat'] = None\n",
      "        cur['sign'] = None\n",
      "        cur['ins'] = None\n",
      "        cur['par'] = None\n",
      "        cur['can'] = None\n",
      "        cur['txttype'] = None\n",
      "\n",
      "for n in NN():\n",
      "    otype = F.otype.v(n)\n",
      "    if otype == 'book':\n",
      "        bookname = F.book.v(n)\n",
      "    elif otype == 'chapter' and bookname == 'Samuel_I':\n",
      "        outh.write('\\n')\n",
      "    elif otype == 'verse': cur['label'] = F.label.v(n)\n",
      "    elif otype == 'clause' and bookname == 'Samuel_I':\n",
      "        txttype = F.txt.v(n)\n",
      "    elif otype == 'clause_atom' and bookname == 'Samuel_I':\n",
      "        finish_cat()\n",
      "        cur['cat'] = F.typ.v(n)\n",
      "        cur['ins'] = F.instruction.v(n)\n",
      "        cur['par'] = F.pargr.v(n)\n",
      "        cur['can'] = F.number_in_ch.v(n)\n",
      "        cur['txttype'] = txttype\n",
      "        tab = F.tab.v(n)\n",
      "        cur['text'] = ' '*(3*int(tab))\n",
      "    elif otype == 'word' and bookname == 'Samuel_I':\n",
      "        pos = F.sp.v(n)\n",
      "        if pos == 'verb':\n",
      "            ps = F.ps.v(n)\n",
      "            nu = F.nu.v(n)\n",
      "            gn = F.gn.v(n)\n",
      "            cur['sign'] = '{}{}{}'.format(\n",
      "                ps_map[ps] if ps in ps_map else '-',\n",
      "                nu if nu in nu_set else '-',\n",
      "                gn if gn in gn_set else '-',\n",
      "            )\n",
      "        cur['text'] += F.g_word_utf8.v(n) + ' '\n",
      "            \n",
      "finish_cat()\n",
      "\n",
      "outh.close()"
     ],
     "language": "python",
     "metadata": {},
     "outputs": [],
     "prompt_number": 15
    },
    {
     "cell_type": "code",
     "collapsed": false,
     "input": [],
     "language": "python",
     "metadata": {},
     "outputs": []
    }
   ],
   "metadata": {}
  }
 ]
}