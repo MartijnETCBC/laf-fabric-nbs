{
 "metadata": {
  "name": "",
  "signature": "sha256:0badfe4e1096e95b4e4e78da7c1be532e21c97f68403d987a1be9815268665ba"
 },
 "nbformat": 3,
 "nbformat_minor": 0,
 "worksheets": [
  {
   "cells": [
    {
     "cell_type": "code",
     "collapsed": false,
     "input": [
      "import sys\n",
      "import collections\n",
      "%load_ext autoreload\n",
      "%autoreload 2\n",
      "import laf\n",
      "from laf.fabric import LafFabric\n",
      "from etcbc.preprocess import prepare\n",
      "from etcbc.lib import Transcription, monad_set\n",
      "from etcbc.trees import Tree\n",
      "fabric = LafFabric()"
     ],
     "language": "python",
     "metadata": {},
     "outputs": [
      {
       "output_type": "stream",
       "stream": "stderr",
       "text": [
        "  0.00s This is LAF-Fabric 4.2.10\n",
        "http://laf-fabric.readthedocs.org/en/latest/texts/API-reference.html\n"
       ]
      }
     ],
     "prompt_number": 1
    },
    {
     "cell_type": "code",
     "collapsed": false,
     "input": [
      "API = fabric.load('bhs4', 'px', 'participants_in_psalms', {\n",
      "    \"xmlids\": {\"node\": False, \"edge\": False},\n",
      "    \"features\": ('''\n",
      "        otype number label\n",
      "        ps nu gn prs lex_utf8\n",
      "        book chapter txt pargr\n",
      "\n",
      "    ''',\n",
      "    '''\n",
      "    '''),\n",
      "    \"prepare\": prepare,\n",
      "}, verbose='DETAIL')\n",
      "exec(fabric.localnames.format(var='fabric'))"
     ],
     "language": "python",
     "metadata": {},
     "outputs": [
      {
       "output_type": "stream",
       "stream": "stderr",
       "text": [
        "  0.00s LOADING API: please wait ... \n"
       ]
      },
      {
       "output_type": "stream",
       "stream": "stderr",
       "text": [
        "  0.07s DETAIL: COMPILING m: UP TO DATE\n"
       ]
      },
      {
       "output_type": "stream",
       "stream": "stderr",
       "text": [
        "  0.13s INFO: DATA COMPILED AT: 2014-06-30T05-57-52\n"
       ]
      },
      {
       "output_type": "stream",
       "stream": "stderr",
       "text": [
        "  0.13s DETAIL: COMPILING a: UP TO DATE\n"
       ]
      },
      {
       "output_type": "stream",
       "stream": "stderr",
       "text": [
        "  0.16s INFO: DATA COMPILED AT: 2014-06-30T09-36-29\n"
       ]
      },
      {
       "output_type": "stream",
       "stream": "stderr",
       "text": [
        "  0.32s DETAIL: load main: G.node_anchor_min\n"
       ]
      },
      {
       "output_type": "stream",
       "stream": "stderr",
       "text": [
        "  0.63s DETAIL: load main: G.node_anchor_max\n"
       ]
      },
      {
       "output_type": "stream",
       "stream": "stderr",
       "text": [
        "  0.97s DETAIL: load main: G.node_sort\n"
       ]
      },
      {
       "output_type": "stream",
       "stream": "stderr",
       "text": [
        "  1.22s DETAIL: load main: G.node_sort_inv\n"
       ]
      },
      {
       "output_type": "stream",
       "stream": "stderr",
       "text": [
        "  2.65s DETAIL: load main: G.edges_from\n"
       ]
      },
      {
       "output_type": "stream",
       "stream": "stderr",
       "text": [
        "  2.97s DETAIL: load main: G.edges_to\n"
       ]
      },
      {
       "output_type": "stream",
       "stream": "stderr",
       "text": [
        "  3.15s DETAIL: load main: F.shebanq_db_otype [node] \n"
       ]
      },
      {
       "output_type": "stream",
       "stream": "stderr",
       "text": [
        "  5.07s DETAIL: load main: F.shebanq_ft_gn [node] \n"
       ]
      },
      {
       "output_type": "stream",
       "stream": "stderr",
       "text": [
        "  5.75s DETAIL: load main: F.shebanq_ft_lex_utf8 [node] \n"
       ]
      },
      {
       "output_type": "stream",
       "stream": "stderr",
       "text": [
        "  6.81s DETAIL: load main: F.shebanq_ft_nu [node] \n"
       ]
      },
      {
       "output_type": "stream",
       "stream": "stderr",
       "text": [
        "  7.14s DETAIL: load main: F.shebanq_ft_number [node] \n"
       ]
      },
      {
       "output_type": "stream",
       "stream": "stderr",
       "text": [
        "  9.82s DETAIL: load main: F.shebanq_ft_prs [node] \n"
       ]
      },
      {
       "output_type": "stream",
       "stream": "stderr",
       "text": [
        "    10s DETAIL: load main: F.shebanq_ft_ps [node] \n"
       ]
      },
      {
       "output_type": "stream",
       "stream": "stderr",
       "text": [
        "    11s DETAIL: load main: F.shebanq_ft_txt [node] \n"
       ]
      },
      {
       "output_type": "stream",
       "stream": "stderr",
       "text": [
        "    11s DETAIL: load main: F.shebanq_px_pargr [node] \n"
       ]
      },
      {
       "output_type": "stream",
       "stream": "stderr",
       "text": [
        "    11s DETAIL: load main: F.shebanq_sft_book [node] \n"
       ]
      },
      {
       "output_type": "stream",
       "stream": "stderr",
       "text": [
        "    11s DETAIL: load main: F.shebanq_sft_chapter [node] \n"
       ]
      },
      {
       "output_type": "stream",
       "stream": "stderr",
       "text": [
        "    11s DETAIL: load main: F.shebanq_sft_label [node] \n"
       ]
      },
      {
       "output_type": "stream",
       "stream": "stderr",
       "text": [
        "    11s DETAIL: load annox: F.shebanq_db_otype [node] \n"
       ]
      },
      {
       "output_type": "stream",
       "stream": "stderr",
       "text": [
        "    11s DETAIL: load annox: F.shebanq_ft_gn [node] \n"
       ]
      },
      {
       "output_type": "stream",
       "stream": "stderr",
       "text": [
        "    11s DETAIL: load annox: F.shebanq_ft_lex_utf8 [node] \n"
       ]
      },
      {
       "output_type": "stream",
       "stream": "stderr",
       "text": [
        "    11s DETAIL: load annox: F.shebanq_ft_nu [node] \n"
       ]
      },
      {
       "output_type": "stream",
       "stream": "stderr",
       "text": [
        "    11s DETAIL: load annox: F.shebanq_ft_number [node] \n"
       ]
      },
      {
       "output_type": "stream",
       "stream": "stderr",
       "text": [
        "    11s DETAIL: load annox: F.shebanq_ft_prs [node] \n"
       ]
      },
      {
       "output_type": "stream",
       "stream": "stderr",
       "text": [
        "    11s DETAIL: load annox: F.shebanq_ft_ps [node] \n"
       ]
      },
      {
       "output_type": "stream",
       "stream": "stderr",
       "text": [
        "    11s DETAIL: load annox: F.shebanq_ft_txt [node] \n"
       ]
      },
      {
       "output_type": "stream",
       "stream": "stderr",
       "text": [
        "    11s DETAIL: load annox: F.shebanq_px_pargr [node] \n"
       ]
      },
      {
       "output_type": "stream",
       "stream": "stderr",
       "text": [
        "    11s DETAIL: load annox: F.shebanq_sft_book [node] \n"
       ]
      },
      {
       "output_type": "stream",
       "stream": "stderr",
       "text": [
        "    11s DETAIL: load annox: F.shebanq_sft_chapter [node] \n"
       ]
      },
      {
       "output_type": "stream",
       "stream": "stderr",
       "text": [
        "    11s DETAIL: load annox: F.shebanq_sft_label [node] \n"
       ]
      },
      {
       "output_type": "stream",
       "stream": "stderr",
       "text": [
        "    11s LOGFILE=C:\\Users\\Gino/laf-fabric-output/bhs4/participants_in_psalms/__log__participants_in_psalms.txt\n"
       ]
      },
      {
       "output_type": "stream",
       "stream": "stderr",
       "text": [
        "    11s DETAIL: prep prep: G.node_sort\n"
       ]
      },
      {
       "output_type": "stream",
       "stream": "stderr",
       "text": [
        "    11s DETAIL: prep prep: G.node_sort_inv\n"
       ]
      },
      {
       "output_type": "stream",
       "stream": "stderr",
       "text": [
        "    12s INFO: DATA LOADED FROM SOURCE bhs4 AND ANNOX px FOR TASK participants_in_psalms\n"
       ]
      }
     ],
     "prompt_number": 2
    },
    {
     "cell_type": "code",
     "collapsed": false,
     "input": [
      "def analyze_psalms():\n",
      "    f = outfile('firstPersonDomainsAndParagraphsInPsalms.csv')\n",
      "    inPsalms = False\n",
      "    parnr = txttype= verse = chapter = \"\"\n",
      "    chapters = []\n",
      "    firstSgReferences = collections.OrderedDict()\n",
      "    firstPlReferences = collections.OrderedDict()\n",
      "    firstPersonReferences = collections.OrderedDict()\n",
      "    count_1sg = count_1pl = 0\n",
      "    \n",
      "    for node in NN():\n",
      "        otype = F.otype.v(node)\n",
      "        if otype == 'book':\n",
      "            if F.book.v(node) == \"Psalmi\":\n",
      "                inPsalms = True\n",
      "            else:\n",
      "                inPsalms = False\n",
      "        elif inPsalms:\n",
      "            if otype == 'chapter':\n",
      "                ch = F.chapter.v(node)\n",
      "                chapters.append(ch)\n",
      "                firstSgReferences[ch] = collections.defaultdict(dict)\n",
      "                firstPlReferences[ch] = collections.defaultdict(dict)\n",
      "                firstPersonReferences[ch] = collections.defaultdict(list)\n",
      "            elif otype == 'verse':\n",
      "                verse = (F.label.v(node))[-3:]\n",
      "                firstSgReferences[ch][verse] = collections.OrderedDict()\n",
      "                firstPlReferences[ch][verse] = collections.OrderedDict()\n",
      "                firstPersonReferences[ch][verse] = []\n",
      "            elif otype == 'clause':\n",
      "                txttype = F.txt.v(node)\n",
      "            elif otype == 'clause_atom':\n",
      "                parnr = F.pargr.v(node)\n",
      "            elif otype == \"word\":\n",
      "                text = F.lex_utf8.v(node)\n",
      "                if F.ps.v(node) == \"p1\":\n",
      "                    firstPersonReferences[ch][verse].append(text)\n",
      "                    if F.nu.v(node) == \"sg\":\n",
      "                        firstSgReferences[ch][verse][text] = [txttype, parnr]\n",
      "                        count_1sg += 1\n",
      "                    else:\n",
      "                        firstPlReferences[ch][verse][text] = [txttype, parnr]\n",
      "                        count_1pl += 1\n",
      "                else:\n",
      "                    suffix = F.prs.v(node)\n",
      "                    if suffix == \"NJ\" or suffix == \"J\":\n",
      "                        firstPersonReferences[ch][verse].append(text)\n",
      "                        firstSgReferences[ch][verse][text] = [txttype, parnr]\n",
      "                        count_1sg += 1\n",
      "                    elif suffix == \"NW\":\n",
      "                        firstPersonReferences[ch][verse].append(text)\n",
      "                        firstPlReferences[ch][verse][text] = [txttype, parnr]\n",
      "                        count_1pl += 1\n",
      "                \n",
      "    f.write(\"{};{};{};{};{};{};{};{}\\n\".format(\"chapter\", \"verse\", \"1sg-references\", \"domain\", \"paragraph\", \"1pl-references\", \"domain\", \"paragraph\"))\n",
      "    \n",
      "    for c in chapters:\n",
      "        f.write(\"\\n{}\".format(c))\n",
      "        for v in sorted(firstSgReferences[c]):\n",
      "            f.write(\";{}\\n\".format(v))\n",
      "            for w in firstPersonReferences[c][v]:\n",
      "                sgTxt = sgType = sgPar = \"\"\n",
      "                plTxt = plType = plPar = \"\"\n",
      "                if w in firstSgReferences[c][v]:\n",
      "                    sgTxt = w\n",
      "                    sgType = firstSgReferences[c][v][w][0]\n",
      "                    sgPar = firstSgReferences[c][v][w][1]\n",
      "                else:\n",
      "                    plTxt = w\n",
      "                    plType = firstPlReferences[c][v][w][0]\n",
      "                    plPar = firstPlReferences[c][v][w][1]\n",
      "                    \n",
      "                f.write(\";;{};{};{};{};{};{}\\n\".format(sgTxt, sgType, sgPar, plTxt, plType, plPar))\n",
      " \n",
      "        f.write(\"\\n\")            \n",
      "    f.write(\";;{};;;{};;\\n\".format(count_1sg, count_1pl))\n",
      "    f.write(\";;{};;;{};;\\n\".format(round((count_1sg / (count_1sg + count_1pl) * 100), 2), round((count_1pl / (count_1sg + count_1pl) * 100), 2)))\n",
      "    \n",
      "    f.close()"
     ],
     "language": "python",
     "metadata": {},
     "outputs": [],
     "prompt_number": 6
    },
    {
     "cell_type": "code",
     "collapsed": false,
     "input": [
      "analyze_psalms()"
     ],
     "language": "python",
     "metadata": {},
     "outputs": [],
     "prompt_number": 7
    },
    {
     "cell_type": "code",
     "collapsed": false,
     "input": [],
     "language": "python",
     "metadata": {},
     "outputs": []
    }
   ],
   "metadata": {}
  }
 ]
}