{
 "metadata": {
  "name": "",
  "signature": "sha256:a0ad766f4783f50f1c47d887442df249d04c300be4fbaaff392f90e3b00b358c"
 },
 "nbformat": 3,
 "nbformat_minor": 0,
 "worksheets": [
  {
   "cells": [
    {
     "cell_type": "markdown",
     "metadata": {},
     "source": [
      "<a href=\"http://laf-fabric.readthedocs.org/en/latest/\" target=\"_blank\"><img align=\"left\" src=\"images/laf-fabric-xsmall.png\"/></a>\n",
      "<a href=\"http://www.godgeleerdheid.vu.nl/etcbc\" target=\"_blank\"><img align=\"left\" src=\"images/VU-ETCBC-xsmall.png\"/></a>\n",
      "<a href=\"http://www.persistent-identifier.nl/?identifier=urn%3Anbn%3Anl%3Aui%3A13-048i-71\" target=\"_blank\"><img align=\"left\"src=\"images/etcbc4easy-small.png\"/></a>\n",
      "<a href=\"http://tla.mpi.nl\" target=\"_blank\"><img align=\"right\" src=\"images/TLA-xsmall.png\"/></a>\n",
      "<a href=\"http://www.dans.knaw.nl\" target=\"_blank\"><img align=\"right\"src=\"images/DANS-xsmall.png\"/></a>"
     ]
    },
    {
     "cell_type": "heading",
     "level": 1,
     "metadata": {},
     "source": [
      "Participles in the Hebrew Bible"
     ]
    },
    {
     "cell_type": "heading",
     "level": 2,
     "metadata": {},
     "source": [
      "About"
     ]
    },
    {
     "cell_type": "markdown",
     "metadata": {},
     "source": [
      "This task gives an inventory of particples and their context.\n",
      "It is based on a request by Janet Dyk for data by which the verbal/nominal roles of particples can be studied.\n",
      "\n",
      "It is work in progress. When we started we had not yet identified the exact set of features in the database that should give us clues.\n",
      "So, in this notebook you'll find a number of attempts."
     ]
    },
    {
     "cell_type": "heading",
     "level": 2,
     "metadata": {},
     "source": [
      "Firing up LAF-Fabric"
     ]
    },
    {
     "cell_type": "markdown",
     "metadata": {},
     "source": [
      "We fire up the engine, collect data, format the data and write it to a tab delimited file.\n",
      "\n",
      "Then the LAF-Fabric task is completed.\n",
      "\n",
      "After that we play around a bit with the data, see how we can visualize it with the python module *pandas*."
     ]
    },
    {
     "cell_type": "heading",
     "level": 3,
     "metadata": {
      "slideshow": {
       "slide_type": "slide"
      }
     },
     "source": [
      "Get a LAF processor"
     ]
    },
    {
     "cell_type": "code",
     "collapsed": false,
     "input": [
      "import sys\n",
      "import collections\n",
      "from laf.fabric import LafFabric\n",
      "from etcbc.preprocess import prepare\n",
      "fabric = LafFabric()"
     ],
     "language": "python",
     "metadata": {},
     "outputs": [
      {
       "output_type": "stream",
       "stream": "stderr",
       "text": [
        "  0.00s This is LAF-Fabric 4.3.3\n",
        "http://laf-fabric.readthedocs.org/en/latest/texts/API-reference.html\n"
       ]
      }
     ],
     "prompt_number": 1
    },
    {
     "cell_type": "heading",
     "level": 3,
     "metadata": {},
     "source": [
      "Load data for this task"
     ]
    },
    {
     "cell_type": "code",
     "collapsed": false,
     "input": [
      "fabric.load('etcbc4', '--', 'participle', {\n",
      "    \"xmlids\": {\"node\": False, \"edge\": False},\n",
      "    \"features\": ('''\n",
      "        otype\n",
      "        book chapter verse label\n",
      "        g_word_utf8 g_cons_utf8\n",
      "        vt\n",
      "        sp pdp\n",
      "        rela typ\n",
      "        prs vbe\n",
      "        g_prs\n",
      "    ''','''\n",
      "        functional_parent\n",
      "    '''),\n",
      "    \"primary\": False,\n",
      "})\n",
      "exec(fabric.localnames.format(var='fabric'))"
     ],
     "language": "python",
     "metadata": {},
     "outputs": [
      {
       "output_type": "stream",
       "stream": "stderr",
       "text": [
        "  0.00s LOADING API: please wait ... \n"
       ]
      },
      {
       "output_type": "stream",
       "stream": "stderr",
       "text": [
        "  0.00s INFO: USING DATA COMPILED AT: 2014-07-14T16-45-08\n"
       ]
      },
      {
       "output_type": "stream",
       "stream": "stderr",
       "text": [
        "  5.69s LOGFILE=/Users/dirk/laf-fabric-output/etcbc4/participle/__log__participle.txt\n"
       ]
      },
      {
       "output_type": "stream",
       "stream": "stderr",
       "text": [
        "  5.69s INFO: DATA LOADED FROM SOURCE etcbc4 AND ANNOX -- FOR TASK participle AT 2014-07-15T16-40-04\n"
       ]
      }
     ],
     "prompt_number": 2
    },
    {
     "cell_type": "heading",
     "level": 1,
     "metadata": {},
     "source": [
      "Data exploration"
     ]
    },
    {
     "cell_type": "markdown",
     "metadata": {},
     "source": [
      "In this section we investigate the values that some features take in the database"
     ]
    },
    {
     "cell_type": "heading",
     "level": 2,
     "metadata": {},
     "source": [
      "Part of speech tags"
     ]
    },
    {
     "cell_type": "markdown",
     "metadata": {},
     "source": [
      "The following pos-tags were found in the features ``sp`` and ``pdp``.\n",
      "\n",
      "For most word occurrences, these values coincide.\n",
      "Where they differ, we output both, separated by a ``~``."
     ]
    },
    {
     "cell_type": "code",
     "collapsed": true,
     "input": [
      "poss = set()\n",
      "for i in NN(test=F.otype.v, values=['word']):\n",
      "    pos = F.sp.v(i)\n",
      "    pdpos = F.pdp.v(i)\n",
      "    poss.add(pos)\n",
      "    poss.add(pdpos)\n",
      "poss"
     ],
     "language": "python",
     "metadata": {},
     "outputs": [
      {
       "metadata": {},
       "output_type": "pyout",
       "prompt_number": 3,
       "text": [
        "{'adjv',\n",
        " 'advb',\n",
        " 'art',\n",
        " 'conj',\n",
        " 'inrg',\n",
        " 'intj',\n",
        " 'nega',\n",
        " 'nmpr',\n",
        " 'prde',\n",
        " 'prep',\n",
        " 'prin',\n",
        " 'prps',\n",
        " 'subs',\n",
        " 'verb'}"
       ]
      }
     ],
     "prompt_number": 3
    },
    {
     "cell_type": "heading",
     "level": 1,
     "metadata": {},
     "source": [
      "Trees"
     ]
    },
    {
     "cell_type": "markdown",
     "metadata": {},
     "source": [
      "Construct trees according to the parent relationship.\n",
      "Make indexes for\n",
      "\n",
      "* finding the sentence above each clause\n",
      "* finding the words in each clause"
     ]
    },
    {
     "cell_type": "code",
     "collapsed": false,
     "input": [
      "top_nodes = set(NN(test=F.otype.v, value='sentence'))\n",
      "msg(\"Top nodes found: {}\".format(len(top_nodes)))"
     ],
     "language": "python",
     "metadata": {},
     "outputs": [
      {
       "output_type": "stream",
       "stream": "stderr",
       "text": [
        "  6.93s Top nodes found: 66045\n"
       ]
      }
     ],
     "prompt_number": 4
    },
    {
     "cell_type": "heading",
     "level": 2,
     "metadata": {},
     "source": [
      "Clause constituent relations"
     ]
    },
    {
     "cell_type": "code",
     "collapsed": false,
     "input": [
      "nodes_seen = set()\n",
      "to_sentence = {}\n",
      "clause_words = collections.defaultdict(lambda: set())\n",
      "sentence_words = collections.defaultdict(lambda: set())\n",
      "sentence_verse = {}\n",
      "verse_label = None\n",
      "\n",
      "def walk_tree(node, sentence, clause):\n",
      "    if node in nodes_seen:\n",
      "        return\n",
      "    \n",
      "    nodes_seen.add(node)\n",
      "    to_sentence[node] = sentence\n",
      "    new_clause = clause\n",
      "\n",
      "    otype = F.otype.v(node)\n",
      "    if otype == 'clause': new_clause = node\n",
      "    if otype == 'word':\n",
      "        clause_words[clause].add(node)\n",
      "        sentence_words[sentence].add(node)\n",
      "    \n",
      "    children = Ci.functional_parent.v(node)\n",
      "    for child in children:\n",
      "        walk_tree(child, sentence, new_clause)\n",
      "\n",
      "s = 0\n",
      "sc = 0\n",
      "chunk = 10000\n",
      "\n",
      "for node in NN(top_nodes | set(NN(test=F.otype.v, value='verse'))):\n",
      "    if F.otype.v(node) == 'verse':\n",
      "        verse_label = F.label.v(node)\n",
      "        continue\n",
      "    sentence_verse[node] = verse_label\n",
      "    nodes_seen = set()\n",
      "    walk_tree(node, node, None)\n",
      "    s += 1\n",
      "    sc += 1\n",
      "    if sc == chunk:\n",
      "        msg(\"{} trees visited\".format(s))\n",
      "        sc = 0\n",
      "    \n",
      "msg(\"{} trees visited\".format(s))"
     ],
     "language": "python",
     "metadata": {},
     "outputs": [
      {
       "output_type": "stream",
       "stream": "stderr",
       "text": [
        "    11s 10000 trees visited\n"
       ]
      },
      {
       "output_type": "stream",
       "stream": "stderr",
       "text": [
        "    12s 20000 trees visited\n"
       ]
      },
      {
       "output_type": "stream",
       "stream": "stderr",
       "text": [
        "    13s 30000 trees visited\n"
       ]
      },
      {
       "output_type": "stream",
       "stream": "stderr",
       "text": [
        "    14s 40000 trees visited\n"
       ]
      },
      {
       "output_type": "stream",
       "stream": "stderr",
       "text": [
        "    14s 50000 trees visited\n"
       ]
      },
      {
       "output_type": "stream",
       "stream": "stderr",
       "text": [
        "    15s 60000 trees visited\n"
       ]
      },
      {
       "output_type": "stream",
       "stream": "stderr",
       "text": [
        "    16s 66045 trees visited\n"
       ]
      }
     ],
     "prompt_number": 5
    },
    {
     "cell_type": "code",
     "collapsed": true,
     "input": [
      "rels = collections.defaultdict(int)\n",
      "verse_label = None\n",
      "nr_of_examples = 3\n",
      "examples = collections.defaultdict(lambda: set())\n",
      "for i in NN(test=F.otype.v, values=['clause', 'verse']):\n",
      "    if F.otype.v(i) == 'verse':\n",
      "        verse_label = F.label.v(i)\n",
      "    else:\n",
      "        ccr = F.rela.v(i)\n",
      "        rels[ccr] += 1\n",
      "        if len(examples[ccr]) < nr_of_examples:\n",
      "            examples[ccr].add(i)\n",
      "for ccr in rels:\n",
      "    print(\"{}: {:>6} x\".format(ccr, rels[ccr]))\n",
      "\n",
      "print(\"\\n\")\n",
      "\n",
      "for ccr in sorted(examples):\n",
      "    for clause in examples[ccr]:\n",
      "        sentence = to_sentence[clause]\n",
      "        cwords = sorted(clause_words[clause])\n",
      "        swords = sorted(sentence_words[sentence])\n",
      "        vlabel = sentence_verse[sentence]\n",
      "#        print(\"{} in {}: {}\".format(ccr, vlabel, \" \".join([x[1] for x in P.data(i)])))\n",
      "        print(\"{:<4} {:<10} {}\\n{:<16}{}\".format(\n",
      "            ccr, \n",
      "            vlabel, \n",
      "            \" \".join([F.g_word_utf8.v(word) for word in cwords]),\n",
      "            '',\n",
      "            \" \".join([F.g_word_utf8.v(word) for word in swords]),\n",
      "        ))\n",
      "        "
     ],
     "language": "python",
     "metadata": {},
     "outputs": [
      {
       "output_type": "stream",
       "stream": "stdout",
       "text": [
        "PrAd:      1 x\n",
        "Subj:    436 x\n",
        "Objc:   1347 x\n",
        "Resu:   1193 x\n",
        "Adju:   5872 x\n",
        "RgRc:    198 x\n",
        "Cmpl:    241 x\n",
        "CoVo:    305 x\n",
        "Spec:     41 x\n",
        "Attr:   5930 x\n",
        "NA:  69400 x\n",
        "PreC:    156 x\n",
        "Coor:   2858 x\n",
        "\n",
        "\n",
        "Adju  GEN 01,16 \u05dc\u05b0 \u05d4\u05b8\u05d0\u05b4\u0596\u05d9\u05e8 \u05e2\u05b7\u05dc \u05d4\u05b8 \u05d0\u05b8\u05bd\u05e8\u05b6\u05e5\n",
        "                \u05d5\u05b7 \u05d9\u05b4\u05bc\u05ea\u05b5\u05bc\u05a5\u05df \u05d0\u05b9\u05ea\u05b8\u059b\u05dd \u05d0\u05b1\u05dc\u05b9\u05d4\u05b4\u0596\u05d9\u05dd \u05d1\u05b4\u05bc \u05e8\u05b0\u05e7\u05b4\u05a3\u05d9\u05e2\u05b7 \u05d4\u05b7 \u05e9\u05b8\u05bc\u05c1\u05de\u05b8\u0591\u05d9\u05b4\u05dd \u05dc\u05b0 \u05d4\u05b8\u05d0\u05b4\u0596\u05d9\u05e8 \u05e2\u05b7\u05dc \u05d4\u05b8 \u05d0\u05b8\u05bd\u05e8\u05b6\u05e5 \u05d5\u05b0 \u05dc\u05b4 \u05de\u05b0\u05e9\u05b9\u05c1\u05dc\u0599 \u05d1\u05b7\u05bc  \u05d9\u05b9\u05bc\u05a3\u05d5\u05dd \u05d5\u05bc \u05d1\u05b7  \u05dc\u05b7\u05bc\u0594\u05d9\u05b0\u05dc\u05b8\u05d4 \u05d5\u05bc\u05bd \u05dc\u05b2 \u05d4\u05b7\u05d1\u05b0\u05d3\u05b4\u05bc\u0594\u05d9\u05dc \u05d1\u05b5\u05bc\u05a5\u05d9\u05df \u05d4\u05b8 \u05d0\u05b9\u0596\u05d5\u05e8 \u05d5\u05bc \u05d1\u05b5\u05a3\u05d9\u05df \u05d4\u05b7 \u05d7\u05b9\u0591\u05e9\u05b6\u05c1\u05da\u05b0\n",
        "Adju  GEN 01,15 \u05dc\u05b0 \u05d4\u05b8\u05d0\u05b4\u0596\u05d9\u05e8 \u05e2\u05b7\u05dc \u05d4\u05b8 \u05d0\u05b8\u0591\u05e8\u05b6\u05e5\n",
        "                \u05d5\u05b0 \u05d4\u05b8\u05d9\u05a4\u05d5\u05bc \u05dc\u05b4 \u05de\u05b0\u05d0\u05b9\u05d5\u05e8\u05b9\u05ea\u0599 \u05d1\u05b4\u05bc \u05e8\u05b0\u05e7\u05b4\u05a3\u05d9\u05e2\u05b7 \u05d4\u05b7 \u05e9\u05b8\u05bc\u05c1\u05de\u05b7\u0594\u05d9\u05b4\u05dd \u05dc\u05b0 \u05d4\u05b8\u05d0\u05b4\u0596\u05d9\u05e8 \u05e2\u05b7\u05dc \u05d4\u05b8 \u05d0\u05b8\u0591\u05e8\u05b6\u05e5\n",
        "Adju  GEN 01,14 \u05dc\u05b0 \u05d4\u05b7\u05d1\u05b0\u05d3\u05b4\u05bc\u0595\u05d9\u05dc \u05d1\u05b5\u05bc\u05a5\u05d9\u05df \u05d4\u05b7 \u05d9\u05b9\u05bc\u0596\u05d5\u05dd \u05d5\u05bc \u05d1\u05b5\u05a3\u05d9\u05df \u05d4\u05b7 \u05dc\u05b8\u05bc\u0591\u05d9\u05b0\u05dc\u05b8\u05d4\n",
        "                \u05d9\u05b0\u05d4\u05b4\u05a4\u05d9 \u05de\u05b0\u05d0\u05b9\u05e8\u05b9\u05ea\u0599 \u05d1\u05b4\u05bc \u05e8\u05b0\u05e7\u05b4\u05a3\u05d9\u05e2\u05b7 \u05d4\u05b7 \u05e9\u05b8\u05bc\u05c1\u05de\u05b7\u0594\u05d9\u05b4\u05dd \u05dc\u05b0 \u05d4\u05b7\u05d1\u05b0\u05d3\u05b4\u05bc\u0595\u05d9\u05dc \u05d1\u05b5\u05bc\u05a5\u05d9\u05df \u05d4\u05b7 \u05d9\u05b9\u05bc\u0596\u05d5\u05dd \u05d5\u05bc \u05d1\u05b5\u05a3\u05d9\u05df \u05d4\u05b7 \u05dc\u05b8\u05bc\u0591\u05d9\u05b0\u05dc\u05b8\u05d4\n",
        "Attr  GEN 01,07 \u05d0\u05b2\u05e9\u05b6\u05c1\u0596\u05e8 \u05de\u05b5 \u05e2\u05b7\u05a3\u05dc \u05dc\u05b8  \u05e8\u05b8\u05e7\u05b4\u0591\u05d9\u05e2\u05b7\n",
        "                \u05d5\u05b7 \u05d9\u05b7\u05bc\u05d1\u05b0\u05d3\u05b5\u05bc\u0597\u05dc \u05d1\u05b5\u05bc\u05a4\u05d9\u05df \u05d4\u05b7 \u05de\u05b7\u05bc\u05a8\u05d9\u05b4\u05dd\u0599 \u05d0\u05b2\u05e9\u05b6\u05c1\u05e8\u0599 \u05de\u05b4 \u05ea\u05b7\u05bc\u05a3\u05d7\u05b7\u05ea \u05dc\u05b8  \u05e8\u05b8\u05e7\u05b4\u0594\u05d9\u05e2\u05b7 \u05d5\u05bc \u05d1\u05b5\u05a3\u05d9\u05df \u05d4\u05b7 \u05de\u05b7\u05bc\u0594\u05d9\u05b4\u05dd \u05d0\u05b2\u05e9\u05b6\u05c1\u0596\u05e8 \u05de\u05b5 \u05e2\u05b7\u05a3\u05dc \u05dc\u05b8  \u05e8\u05b8\u05e7\u05b4\u0591\u05d9\u05e2\u05b7\n",
        "Attr  GEN 01,11 \u05de\u05b7\u05d6\u05b0\u05e8\u05b4\u05a3\u05d9\u05e2\u05b7 \u05d6\u05b6\u0594\u05e8\u05b7\u05e2\n",
        "                \u05ea\u05b7\u05bc\u05bd\u05d3\u05b0\u05e9\u05b5\u05c1\u05a4\u05d0 \u05d4\u05b8 \u05d0\u05b8\u05a8\u05e8\u05b6\u05e5\u0599 \u05d3\u05b6\u05bc\u0594\u05e9\u05b6\u05c1\u05d0 \u05e2\u05b5\u059a\u05e9\u05b6\u05c2\u05d1 \u05de\u05b7\u05d6\u05b0\u05e8\u05b4\u05a3\u05d9\u05e2\u05b7 \u05d6\u05b6\u0594\u05e8\u05b7\u05e2 \u05e2\u05b5\u05a3\u05e5 \u05e4\u05b0\u05bc\u05e8\u05b4\u059e\u05d9 \u05e2\u05b9\u05a4\u05e9\u05b6\u05c2\u05d4 \u05e4\u05b0\u05bc\u05e8\u05b4\u05d9\u0599 \u05dc\u05b0 \u05de\u05b4\u05d9\u05e0\u05b9\u0594\u05d5 \u05d0\u05b2\u05e9\u05b6\u05c1\u05a5\u05e8 \u05d6\u05b7\u05e8\u05b0\u05e2\u05b9\u05d5 \u05d1\u05b9\u0596\u05d5 \u05e2\u05b7\u05dc \u05d4\u05b8 \u05d0\u05b8\u0591\u05e8\u05b6\u05e5\n",
        "Attr  GEN 01,07 \u05d0\u05b2\u05e9\u05b6\u05c1\u05e8\u0599 \u05de\u05b4 \u05ea\u05b7\u05bc\u05a3\u05d7\u05b7\u05ea \u05dc\u05b8  \u05e8\u05b8\u05e7\u05b4\u0594\u05d9\u05e2\u05b7\n",
        "                \u05d5\u05b7 \u05d9\u05b7\u05bc\u05d1\u05b0\u05d3\u05b5\u05bc\u0597\u05dc \u05d1\u05b5\u05bc\u05a4\u05d9\u05df \u05d4\u05b7 \u05de\u05b7\u05bc\u05a8\u05d9\u05b4\u05dd\u0599 \u05d0\u05b2\u05e9\u05b6\u05c1\u05e8\u0599 \u05de\u05b4 \u05ea\u05b7\u05bc\u05a3\u05d7\u05b7\u05ea \u05dc\u05b8  \u05e8\u05b8\u05e7\u05b4\u0594\u05d9\u05e2\u05b7 \u05d5\u05bc \u05d1\u05b5\u05a3\u05d9\u05df \u05d4\u05b7 \u05de\u05b7\u05bc\u0594\u05d9\u05b4\u05dd \u05d0\u05b2\u05e9\u05b6\u05c1\u0596\u05e8 \u05de\u05b5 \u05e2\u05b7\u05a3\u05dc \u05dc\u05b8  \u05e8\u05b8\u05e7\u05b4\u0591\u05d9\u05e2\u05b7\n",
        "Cmpl  GEN 13,16 \u05dc\u05b4 \u05de\u05b0\u05e0\u05b9\u05d5\u05ea\u0599 \u05d0\u05b6\u05ea \u05e2\u05b2\u05e4\u05b7\u05a3\u05e8 \u05d4\u05b8 \u05d0\u05b8\u0594\u05e8\u05b6\u05e5\n",
        "                \u05d5\u05b0 \u05e9\u05b7\u05c2\u05de\u05b0\u05ea\u05b4\u05bc\u05a5\u05d9 \u05d0\u05b6\u05bd\u05ea \u05d6\u05b7\u05e8\u05b0\u05e2\u05b2\u05da\u05b8\u0596 \u05db\u05b7\u05bc \u05e2\u05b2\u05e4\u05b7\u05a3\u05e8 \u05d4\u05b8 \u05d0\u05b8\u0591\u05e8\u05b6\u05e5 \u05d0\u05b2\u05e9\u05b6\u05c1\u05a3\u05e8 \u05d0\u05b4\u05dd \u05d9\u05d5\u05bc\u05db\u05b7\u05a3\u05dc \u05d0\u05b4\u0597\u05d9\u05e9\u05c1 \u05dc\u05b4 \u05de\u05b0\u05e0\u05b9\u05d5\u05ea\u0599 \u05d0\u05b6\u05ea \u05e2\u05b2\u05e4\u05b7\u05a3\u05e8 \u05d4\u05b8 \u05d0\u05b8\u0594\u05e8\u05b6\u05e5 \u05d2\u05b7\u05bc\u05bd\u05dd \u05d6\u05b7\u05e8\u05b0\u05e2\u05b2\u05da\u05b8\u0596 \u05d9\u05b4\u05de\u05b8\u05bc\u05e0\u05b6\u05bd\u05d4\n",
        "Cmpl  GEN 13,06 \u05dc\u05b8 \u05e9\u05b6\u05c1\u05a5\u05d1\u05b6\u05ea \u05d9\u05b7\u05d7\u05b0\u05d3\u05b8\u05bc\u05bd\u05d5\n",
        "                \u05d5\u05b0 \u05dc\u05b9\u05a5\u05d0 \u05d9\u05b8\u05bd\u05db\u05b0\u05dc\u0596\u05d5\u05bc \u05dc\u05b8 \u05e9\u05b6\u05c1\u05a5\u05d1\u05b6\u05ea \u05d9\u05b7\u05d7\u05b0\u05d3\u05b8\u05bc\u05bd\u05d5\n",
        "Cmpl  GEN 04,07 \u05d0\u05b4\u05dd \u05ea\u05b5\u05bc\u05d9\u05d8\u05b4\u05d9\u05d1\u0599\n",
        "                \u05d4\u05b2 \u05dc\u05b9\u05a4\u05d5\u05d0 \u05d0\u05b4\u05dd \u05ea\u05b5\u05bc\u05d9\u05d8\u05b4\u05d9\u05d1\u0599 \u05e9\u05b0\u05c2\u05d0\u05b5\u0594\u05ea\n",
        "CoVo  GEN 16,08 \u05d0\u05b5\u05bd\u05d9 \u05de\u05b4 \u05d6\u05b6\u05bc\u05a5\u05d4 \u05d1\u05b8\u0596\u05d0\u05ea\n",
        "                \u05d4\u05b8\u05d2\u05b8\u059e\u05e8 \u05e9\u05b4\u05c1\u05e4\u05b0\u05d7\u05b7\u05a5\u05ea \u05e9\u05b8\u05c2\u05e8\u05b7\u059b\u05d9 \u05d0\u05b5\u05bd\u05d9 \u05de\u05b4 \u05d6\u05b6\u05bc\u05a5\u05d4 \u05d1\u05b8\u0596\u05d0\u05ea \u05d5\u05b0 \u05d0\u05b8\u05a3\u05e0\u05b8\u05d4 \u05ea\u05b5\u05dc\u05b5\u0591\u05db\u05b4\u05d9\n",
        "CoVo  GEN 15,02 \u05de\u05b7\u05d4 \u05ea\u05b4\u05bc\u05ea\u05b6\u05bc\u05df \u05dc\u05b4\u0594\u05d9\n",
        "                \u05d0\u05b2\u05d3\u05b9\u05e0\u05b8\u05a4\u05d9 \u05d9\u05b1\u05d4\u05d5\u05b4\u05d4\u0599 \u05de\u05b7\u05d4 \u05ea\u05b4\u05bc\u05ea\u05b6\u05bc\u05df \u05dc\u05b4\u0594\u05d9 \u05d5\u05b0 \u05d0\u05b8\u05e0\u05b9\u05db\u05b4\u0596\u05d9 \u05d4\u05b9\u05d5\u05dc\u05b5\u05a3\u05da\u05b0 \u05e2\u05b2\u05e8\u05b4\u05d9\u05e8\u05b4\u0591\u05d9\n",
        "CoVo  GEN 23,11 \u05e9\u05b0\u05c1\u05de\u05b8\u05e2\u05b5\u0594\u05e0\u05b4\u05d9\n",
        "                \u05dc\u05b9\u05bd\u05d0 \u05d0\u05b2\u05d3\u05b9\u05e0\u05b4\u05a3\u05d9 \u05e9\u05b0\u05c1\u05de\u05b8\u05e2\u05b5\u0594\u05e0\u05b4\u05d9\n",
        "Coor  GEN 01,16 \u05d5\u05b0 \u05dc\u05b4 \u05de\u05b0\u05e9\u05b9\u05c1\u05dc\u0599 \u05d1\u05b7\u05bc  \u05d9\u05b9\u05bc\u05a3\u05d5\u05dd \u05d5\u05bc \u05d1\u05b7  \u05dc\u05b7\u05bc\u0594\u05d9\u05b0\u05dc\u05b8\u05d4\n",
        "                \u05d5\u05b7 \u05d9\u05b4\u05bc\u05ea\u05b5\u05bc\u05a5\u05df \u05d0\u05b9\u05ea\u05b8\u059b\u05dd \u05d0\u05b1\u05dc\u05b9\u05d4\u05b4\u0596\u05d9\u05dd \u05d1\u05b4\u05bc \u05e8\u05b0\u05e7\u05b4\u05a3\u05d9\u05e2\u05b7 \u05d4\u05b7 \u05e9\u05b8\u05bc\u05c1\u05de\u05b8\u0591\u05d9\u05b4\u05dd \u05dc\u05b0 \u05d4\u05b8\u05d0\u05b4\u0596\u05d9\u05e8 \u05e2\u05b7\u05dc \u05d4\u05b8 \u05d0\u05b8\u05bd\u05e8\u05b6\u05e5 \u05d5\u05b0 \u05dc\u05b4 \u05de\u05b0\u05e9\u05b9\u05c1\u05dc\u0599 \u05d1\u05b7\u05bc  \u05d9\u05b9\u05bc\u05a3\u05d5\u05dd \u05d5\u05bc \u05d1\u05b7  \u05dc\u05b7\u05bc\u0594\u05d9\u05b0\u05dc\u05b8\u05d4 \u05d5\u05bc\u05bd \u05dc\u05b2 \u05d4\u05b7\u05d1\u05b0\u05d3\u05b4\u05bc\u0594\u05d9\u05dc \u05d1\u05b5\u05bc\u05a5\u05d9\u05df \u05d4\u05b8 \u05d0\u05b9\u0596\u05d5\u05e8 \u05d5\u05bc \u05d1\u05b5\u05a3\u05d9\u05df \u05d4\u05b7 \u05d7\u05b9\u0591\u05e9\u05b6\u05c1\u05da\u05b0\n",
        "Coor  GEN 01,16 \u05d5\u05bc\u05bd \u05dc\u05b2 \u05d4\u05b7\u05d1\u05b0\u05d3\u05b4\u05bc\u0594\u05d9\u05dc \u05d1\u05b5\u05bc\u05a5\u05d9\u05df \u05d4\u05b8 \u05d0\u05b9\u0596\u05d5\u05e8 \u05d5\u05bc \u05d1\u05b5\u05a3\u05d9\u05df \u05d4\u05b7 \u05d7\u05b9\u0591\u05e9\u05b6\u05c1\u05da\u05b0\n",
        "                \u05d5\u05b7 \u05d9\u05b4\u05bc\u05ea\u05b5\u05bc\u05a5\u05df \u05d0\u05b9\u05ea\u05b8\u059b\u05dd \u05d0\u05b1\u05dc\u05b9\u05d4\u05b4\u0596\u05d9\u05dd \u05d1\u05b4\u05bc \u05e8\u05b0\u05e7\u05b4\u05a3\u05d9\u05e2\u05b7 \u05d4\u05b7 \u05e9\u05b8\u05bc\u05c1\u05de\u05b8\u0591\u05d9\u05b4\u05dd \u05dc\u05b0 \u05d4\u05b8\u05d0\u05b4\u0596\u05d9\u05e8 \u05e2\u05b7\u05dc \u05d4\u05b8 \u05d0\u05b8\u05bd\u05e8\u05b6\u05e5 \u05d5\u05b0 \u05dc\u05b4 \u05de\u05b0\u05e9\u05b9\u05c1\u05dc\u0599 \u05d1\u05b7\u05bc  \u05d9\u05b9\u05bc\u05a3\u05d5\u05dd \u05d5\u05bc \u05d1\u05b7  \u05dc\u05b7\u05bc\u0594\u05d9\u05b0\u05dc\u05b8\u05d4 \u05d5\u05bc\u05bd \u05dc\u05b2 \u05d4\u05b7\u05d1\u05b0\u05d3\u05b4\u05bc\u0594\u05d9\u05dc \u05d1\u05b5\u05bc\u05a5\u05d9\u05df \u05d4\u05b8 \u05d0\u05b9\u0596\u05d5\u05e8 \u05d5\u05bc \u05d1\u05b5\u05a3\u05d9\u05df \u05d4\u05b7 \u05d7\u05b9\u0591\u05e9\u05b6\u05c1\u05da\u05b0\n",
        "Coor  GEN 02,04 \u05d5\u05b0 \u05db\u05b8\u05dc \u05e2\u05b5\u05a5\u05e9\u05b6\u05c2\u05d1 \u05d4\u05b7 \u05e9\u05b8\u05bc\u05c2\u05d3\u05b6\u0596\u05d4 \u05d8\u05b6\u05a3\u05e8\u05b6\u05dd \u05d9\u05b4\u05e6\u05b0\u05de\u05b8\u0591\u05d7\n",
        "                \u05d1\u05b0\u05bc \u05d9\u05b9\u0597\u05d5\u05dd \u05e2\u05b2\u05e9\u05b9\u05c2\u059b\u05d5\u05ea \u05d9\u05b0\u05d4\u05d5\u05b8\u05a5\u05d4 \u05d0\u05b1\u05dc\u05b9\u05d4\u05b4\u0596\u05d9\u05dd \u05d0\u05b6\u05a5\u05e8\u05b6\u05e5 \u05d5\u05b0 \u05e9\u05b8\u05c1\u05de\u05b8\u05bd\u05d9\u05b4\u05dd \u05d5\u05b0 \u05db\u05b9\u05a3\u05dc \u05e9\u05b4\u05c2\u05a3\u05d9\u05d7\u05b7 \u05d4\u05b7 \u05e9\u05b8\u05bc\u05c2\u05d3\u05b6\u0597\u05d4 \u05d8\u05b6\u059a\u05e8\u05b6\u05dd \u05d9\u05b4\u05bd\u05d4\u05b0\u05d9\u05b6\u05a3\u05d4 \u05d1\u05b8  \u05d0\u05b8\u0594\u05e8\u05b6\u05e5 \u05d5\u05b0 \u05db\u05b8\u05dc \u05e2\u05b5\u05a5\u05e9\u05b6\u05c2\u05d1 \u05d4\u05b7 \u05e9\u05b8\u05bc\u05c2\u05d3\u05b6\u0596\u05d4 \u05d8\u05b6\u05a3\u05e8\u05b6\u05dd \u05d9\u05b4\u05e6\u05b0\u05de\u05b8\u0591\u05d7\n",
        "NA    GEN 01,01 \u05d1\u05b0\u05bc \u05e8\u05b5\u05d0\u05e9\u05b4\u05c1\u0596\u05d9\u05ea \u05d1\u05b8\u05bc\u05e8\u05b8\u05a3\u05d0 \u05d0\u05b1\u05dc\u05b9\u05d4\u05b4\u0591\u05d9\u05dd \u05d0\u05b5\u05a5\u05ea \u05d4\u05b7 \u05e9\u05b8\u05bc\u05c1\u05de\u05b7\u0596\u05d9\u05b4\u05dd \u05d5\u05b0 \u05d0\u05b5\u05a5\u05ea \u05d4\u05b8 \u05d0\u05b8\u05bd\u05e8\u05b6\u05e5\n",
        "                \u05d1\u05b0\u05bc \u05e8\u05b5\u05d0\u05e9\u05b4\u05c1\u0596\u05d9\u05ea \u05d1\u05b8\u05bc\u05e8\u05b8\u05a3\u05d0 \u05d0\u05b1\u05dc\u05b9\u05d4\u05b4\u0591\u05d9\u05dd \u05d0\u05b5\u05a5\u05ea \u05d4\u05b7 \u05e9\u05b8\u05bc\u05c1\u05de\u05b7\u0596\u05d9\u05b4\u05dd \u05d5\u05b0 \u05d0\u05b5\u05a5\u05ea \u05d4\u05b8 \u05d0\u05b8\u05bd\u05e8\u05b6\u05e5\n",
        "NA    GEN 01,02 \u05d5\u05b0 \u05d4\u05b8 \u05d0\u05b8\u0597\u05e8\u05b6\u05e5 \u05d4\u05b8\u05d9\u05b0\u05ea\u05b8\u05a5\u05d4 \u05ea\u05b9\u05a8\u05d4\u05d5\u05bc\u0599 \u05d5\u05b8 \u05d1\u05b9\u0594\u05d4\u05d5\u05bc\n",
        "                \u05d5\u05b0 \u05d4\u05b8 \u05d0\u05b8\u0597\u05e8\u05b6\u05e5 \u05d4\u05b8\u05d9\u05b0\u05ea\u05b8\u05a5\u05d4 \u05ea\u05b9\u05a8\u05d4\u05d5\u05bc\u0599 \u05d5\u05b8 \u05d1\u05b9\u0594\u05d4\u05d5\u05bc\n",
        "NA    GEN 01,02 \u05d5\u05b0 \u05d7\u05b9\u0596\u05e9\u05b6\u05c1\u05da\u05b0 \u05e2\u05b7\u05dc \u05e4\u05b0\u05bc\u05e0\u05b5\u05a3\u05d9 \u05ea\u05b0\u05d4\u05b9\u0591\u05d5\u05dd\n",
        "                \u05d5\u05b0 \u05d7\u05b9\u0596\u05e9\u05b6\u05c1\u05da\u05b0 \u05e2\u05b7\u05dc \u05e4\u05b0\u05bc\u05e0\u05b5\u05a3\u05d9 \u05ea\u05b0\u05d4\u05b9\u0591\u05d5\u05dd\n",
        "Objc  GEN 01,12 \u05db\u05b4\u05bc\u05d9 \u05d8\u05b9\u05bd\u05d5\u05d1\n",
        "                \u05d5\u05b7 \u05d9\u05b7\u05bc\u05a5\u05e8\u05b0\u05d0 \u05d0\u05b1\u05dc\u05b9\u05d4\u05b4\u0596\u05d9\u05dd \u05db\u05b4\u05bc\u05d9 \u05d8\u05b9\u05bd\u05d5\u05d1\n",
        "Objc  GEN 01,04 \u05db\u05b4\u05bc\u05d9 \u05d8\u05b9\u0591\u05d5\u05d1\n",
        "                \u05d5\u05b7 \u05d9\u05b7\u05bc\u05a7\u05e8\u05b0\u05d0 \u05d0\u05b1\u05dc\u05b9\u05d4\u05b4\u059b\u05d9\u05dd \u05d0\u05b6\u05ea \u05d4\u05b8 \u05d0\u05b9\u0596\u05d5\u05e8 \u05db\u05b4\u05bc\u05d9 \u05d8\u05b9\u0591\u05d5\u05d1\n",
        "Objc  GEN 01,10 \u05db\u05b4\u05bc\u05d9 \u05d8\u05b9\u05bd\u05d5\u05d1\n",
        "                \u05d5\u05b7 \u05d9\u05b7\u05bc\u05a5\u05e8\u05b0\u05d0 \u05d0\u05b1\u05dc\u05b9\u05d4\u05b4\u0596\u05d9\u05dd \u05db\u05b4\u05bc\u05d9 \u05d8\u05b9\u05bd\u05d5\u05d1\n",
        "PrAd  DAN 12,01 \u05db\u05b8\u05bc\u05ea\u05a5\u05d5\u05bc\u05d1 \u05d1\u05b7\u05bc  \u05e1\u05b5\u05bc\u05bd\u05e4\u05b6\u05e8\n",
        "                \u05d5\u05bc \u05d1\u05b8  \u05e2\u05b5\u05a4\u05ea \u05d4\u05b7 \u05d4\u05b4\u05d9\u05d0\u0599 \u05d9\u05b4\u05de\u05b8\u05bc\u05dc\u05b5\u05a3\u05d8 \u05e2\u05b7\u05de\u05b0\u05bc\u05da\u05b8\u0594 \u05db\u05b8\u05bc\u05dc \u05d4\u05b7 \u05e0\u05b4\u05bc\u05de\u05b0\u05e6\u05b8\u0596\u05d0 \u05db\u05b8\u05bc\u05ea\u05a5\u05d5\u05bc\u05d1 \u05d1\u05b7\u05bc  \u05e1\u05b5\u05bc\u05bd\u05e4\u05b6\u05e8\n",
        "PreC  GEN 02,13 \u05d4\u05b7 \u05e1\u05b9\u05bc\u05d5\u05d1\u05b5\u0594\u05d1 \u05d0\u05b5\u0596\u05ea \u05db\u05b8\u05bc\u05dc \u05d0\u05b6\u05a5\u05e8\u05b6\u05e5 \u05db\u05bc\u05bd\u05d5\u05bc\u05e9\u05c1\n",
        "                \u05d4\u05a3\u05d5\u05bc\u05d0 \u05d4\u05b7 \u05e1\u05b9\u05bc\u05d5\u05d1\u05b5\u0594\u05d1 \u05d0\u05b5\u0596\u05ea \u05db\u05b8\u05bc\u05dc \u05d0\u05b6\u05a5\u05e8\u05b6\u05e5 \u05db\u05bc\u05bd\u05d5\u05bc\u05e9\u05c1\n",
        "PreC  GEN 02,11 \u05d4\u05b7 \u05e1\u05b9\u05bc\u05d1\u05b5\u0597\u05d1 \u05d0\u05b5\u059a\u05ea \u05db\u05b8\u05bc\u05dc \u05d0\u05b6\u05a3\u05e8\u05b6\u05e5 \u05d4\u05b7\u05bd \u05d7\u05b2\u05d5\u05b4\u05d9\u05dc\u05b8\u0594\u05d4\n",
        "                \u05d4\u05a3\u05d5\u05bc\u05d0 \u05d4\u05b7 \u05e1\u05b9\u05bc\u05d1\u05b5\u0597\u05d1 \u05d0\u05b5\u059a\u05ea \u05db\u05b8\u05bc\u05dc \u05d0\u05b6\u05a3\u05e8\u05b6\u05e5 \u05d4\u05b7\u05bd \u05d7\u05b2\u05d5\u05b4\u05d9\u05dc\u05b8\u0594\u05d4 \u05d0\u05b2\u05e9\u05b6\u05c1\u05e8 \u05e9\u05b8\u05c1\u0596\u05dd \u05d4\u05b7 \u05d6\u05b8\u05bc\u05d4\u05b8\u05bd\u05d1\n",
        "PreC  GEN 02,14 \u05d4\u05b7\u05bd \u05d4\u05b9\u05dc\u05b5\u0596\u05da\u05b0 \u05e7\u05b4\u05d3\u05b0\u05de\u05b7\u05a3\u05ea \u05d0\u05b7\u05e9\u05bc\u05c1\u0591\u05d5\u05bc\u05e8\n",
        "                \u05d4\u05a5\u05d5\u05bc\u05d0 \u05d4\u05b7\u05bd \u05d4\u05b9\u05dc\u05b5\u0596\u05da\u05b0 \u05e7\u05b4\u05d3\u05b0\u05de\u05b7\u05a3\u05ea \u05d0\u05b7\u05e9\u05bc\u05c1\u0591\u05d5\u05bc\u05e8\n",
        "Resu  GEN 02,04 \u05d5\u05b0 \u05db\u05b9\u05a3\u05dc \u05e9\u05b4\u05c2\u05a3\u05d9\u05d7\u05b7 \u05d4\u05b7 \u05e9\u05b8\u05bc\u05c2\u05d3\u05b6\u0597\u05d4 \u05d8\u05b6\u059a\u05e8\u05b6\u05dd \u05d9\u05b4\u05bd\u05d4\u05b0\u05d9\u05b6\u05a3\u05d4 \u05d1\u05b8  \u05d0\u05b8\u0594\u05e8\u05b6\u05e5\n",
        "                \u05d1\u05b0\u05bc \u05d9\u05b9\u0597\u05d5\u05dd \u05e2\u05b2\u05e9\u05b9\u05c2\u059b\u05d5\u05ea \u05d9\u05b0\u05d4\u05d5\u05b8\u05a5\u05d4 \u05d0\u05b1\u05dc\u05b9\u05d4\u05b4\u0596\u05d9\u05dd \u05d0\u05b6\u05a5\u05e8\u05b6\u05e5 \u05d5\u05b0 \u05e9\u05b8\u05c1\u05de\u05b8\u05bd\u05d9\u05b4\u05dd \u05d5\u05b0 \u05db\u05b9\u05a3\u05dc \u05e9\u05b4\u05c2\u05a3\u05d9\u05d7\u05b7 \u05d4\u05b7 \u05e9\u05b8\u05bc\u05c2\u05d3\u05b6\u0597\u05d4 \u05d8\u05b6\u059a\u05e8\u05b6\u05dd \u05d9\u05b4\u05bd\u05d4\u05b0\u05d9\u05b6\u05a3\u05d4 \u05d1\u05b8  \u05d0\u05b8\u0594\u05e8\u05b6\u05e5 \u05d5\u05b0 \u05db\u05b8\u05dc \u05e2\u05b5\u05a5\u05e9\u05b6\u05c2\u05d1 \u05d4\u05b7 \u05e9\u05b8\u05bc\u05c2\u05d3\u05b6\u0596\u05d4 \u05d8\u05b6\u05a3\u05e8\u05b6\u05dd \u05d9\u05b4\u05e6\u05b0\u05de\u05b8\u0591\u05d7\n",
        "Resu  GEN 02,14 \u05d4\u05a5\u05d5\u05bc\u05d0 \u05e4\u05b0\u05e8\u05b8\u05bd\u05ea\n",
        "                \u05d5\u05b0 \u05d4\u05b7 \u05e0\u05b8\u05bc\u05d4\u05b8\u05a5\u05e8 \u05d4\u05b8\u05bd \u05e8\u05b0\u05d1\u05b4\u05d9\u05e2\u05b4\u0596\u05d9 \u05d4\u05a5\u05d5\u05bc\u05d0 \u05e4\u05b0\u05e8\u05b8\u05bd\u05ea\n",
        "Resu  GEN 02,17 \u05dc\u05b9\u05a5\u05d0 \u05ea\u05b9\u05d0\u05db\u05b7\u0596\u05dc \u05de\u05b4\u05de\u05b6\u05bc\u0591\u05e0\u05bc\u05d5\u05bc\n",
        "                \u05d5\u05bc \u05de\u05b5 \u05e2\u05b5\u0597\u05e5 \u05d4\u05b7 \u05d3\u05b7\u05bc\u05a8\u05e2\u05b7\u05ea\u0599 \u05d8\u05b9\u05a3\u05d5\u05d1 \u05d5\u05b8 \u05e8\u05b8\u0594\u05e2 \u05dc\u05b9\u05a5\u05d0 \u05ea\u05b9\u05d0\u05db\u05b7\u0596\u05dc \u05de\u05b4\u05de\u05b6\u05bc\u0591\u05e0\u05bc\u05d5\u05bc\n",
        "RgRc  GEN 02,17 \u05d0\u05b2\u05db\u05b8\u05dc\u05b0\u05da\u05b8\u05a5 \u05de\u05b4\u05de\u05b6\u05bc\u0596\u05e0\u05bc\u05d5\u05bc\n",
        "                \u05db\u05b4\u05bc\u0597\u05d9 \u05d1\u05b0\u05bc \u05d9\u05b9\u059b\u05d5\u05dd \u05d0\u05b2\u05db\u05b8\u05dc\u05b0\u05da\u05b8\u05a5 \u05de\u05b4\u05de\u05b6\u05bc\u0596\u05e0\u05bc\u05d5\u05bc \u05de\u05b9\u05a5\u05d5\u05ea \u05ea\u05b8\u05bc\u05de\u05bd\u05d5\u05bc\u05ea\n",
        "RgRc  GEN 02,04 \u05e2\u05b2\u05e9\u05b9\u05c2\u059b\u05d5\u05ea \u05d9\u05b0\u05d4\u05d5\u05b8\u05a5\u05d4 \u05d0\u05b1\u05dc\u05b9\u05d4\u05b4\u0596\u05d9\u05dd \u05d0\u05b6\u05a5\u05e8\u05b6\u05e5 \u05d5\u05b0 \u05e9\u05b8\u05c1\u05de\u05b8\u05bd\u05d9\u05b4\u05dd\n",
        "                \u05d1\u05b0\u05bc \u05d9\u05b9\u0597\u05d5\u05dd \u05e2\u05b2\u05e9\u05b9\u05c2\u059b\u05d5\u05ea \u05d9\u05b0\u05d4\u05d5\u05b8\u05a5\u05d4 \u05d0\u05b1\u05dc\u05b9\u05d4\u05b4\u0596\u05d9\u05dd \u05d0\u05b6\u05a5\u05e8\u05b6\u05e5 \u05d5\u05b0 \u05e9\u05b8\u05c1\u05de\u05b8\u05bd\u05d9\u05b4\u05dd \u05d5\u05b0 \u05db\u05b9\u05a3\u05dc \u05e9\u05b4\u05c2\u05a3\u05d9\u05d7\u05b7 \u05d4\u05b7 \u05e9\u05b8\u05bc\u05c2\u05d3\u05b6\u0597\u05d4 \u05d8\u05b6\u059a\u05e8\u05b6\u05dd \u05d9\u05b4\u05bd\u05d4\u05b0\u05d9\u05b6\u05a3\u05d4 \u05d1\u05b8  \u05d0\u05b8\u0594\u05e8\u05b6\u05e5 \u05d5\u05b0 \u05db\u05b8\u05dc \u05e2\u05b5\u05a5\u05e9\u05b6\u05c2\u05d1 \u05d4\u05b7 \u05e9\u05b8\u05bc\u05c2\u05d3\u05b6\u0596\u05d4 \u05d8\u05b6\u05a3\u05e8\u05b6\u05dd \u05d9\u05b4\u05e6\u05b0\u05de\u05b8\u0591\u05d7\n",
        "RgRc  GEN 03,05 \u05d0\u05b2\u05db\u05b8\u05dc\u05b0\u05db\u05b6\u05a3\u05dd \u05de\u05b4\u05de\u05b6\u05bc\u0594\u05e0\u05bc\u05d5\u05bc\n",
        "                \u05db\u05b4\u05bc\u059a\u05d9 \u05d9\u05b9\u05d3\u05b5\u05a3\u05e2\u05b7 \u05d0\u05b1\u05dc\u05b9\u05d4\u05b4\u0594\u05d9\u05dd \u05db\u05b4\u05bc\u0597\u05d9 \u05d1\u05b0\u05bc \u05d9\u05b9\u05d5\u05dd\u0599 \u05d0\u05b2\u05db\u05b8\u05dc\u05b0\u05db\u05b6\u05a3\u05dd \u05de\u05b4\u05de\u05b6\u05bc\u0594\u05e0\u05bc\u05d5\u05bc \u05d5\u05b0 \u05e0\u05b4\u05e4\u05b0\u05e7\u05b0\u05d7\u0596\u05d5\u05bc \u05e2\u05b5\u05bd\u05d9\u05e0\u05b5\u05d9\u05db\u05b6\u0591\u05dd \u05d5\u05b4 \u05d4\u05b0\u05d9\u05b4\u05d9\u05ea\u05b6\u05dd\u0599 \u05db\u05b5\u05bc\u05bd \u05d0\u05dc\u05b9\u05d4\u05b4\u0594\u05d9\u05dd \u05d9\u05b9\u05d3\u05b0\u05e2\u05b5\u0596\u05d9 \u05d8\u05b9\u05a5\u05d5\u05d1 \u05d5\u05b8 \u05e8\u05b8\u05bd\u05e2\n",
        "Spec  GEN 48,07 \u05dc\u05b8 \u05d1\u05b9\u05a3\u05d0 \u05d0\u05b6\u05e4\u05b0\u05e8\u05b8\u0591\u05ea\u05b8\u05d4\n",
        "                \u05d5\u05b7 \u05d0\u05b2\u05e0\u05b4\u05a3\u05d9 \u05d1\u05b0\u05bc \u05d1\u05b9\u05d0\u05b4\u05a3\u05d9 \u05de\u05b4 \u05e4\u05b7\u05bc\u05d3\u05b8\u05bc\u0597\u05df \u05de\u05b5\u05a9\u05ea\u05b8\u05d4\u05a9 \u05e2\u05b8\u05dc\u05b7\u05a8\u05d9 \u05e8\u05b8\u05d7\u05b5\u059c\u05dc \u05d1\u05b0\u05bc \u05d0\u05b6\u05a4\u05e8\u05b6\u05e5 \u05db\u05b0\u05bc\u05e0\u05b7\u05a8\u05e2\u05b7\u05df\u0599 \u05d1\u05b7\u05bc  \u05d3\u05b6\u05bc\u0594\u05e8\u05b6\u05da\u05b0 \u05d1\u05b0\u05bc \u05e2\u05b9\u05a5\u05d5\u05d3 \u05db\u05b4\u05bc\u05d1\u05b0\u05e8\u05b7\u05ea \u05d0\u05b6\u0596\u05e8\u05b6\u05e5 \u05dc\u05b8 \u05d1\u05b9\u05a3\u05d0 \u05d0\u05b6\u05e4\u05b0\u05e8\u05b8\u0591\u05ea\u05b8\u05d4\n",
        "Spec  GEN 42,06 \u05d4\u05a5\u05d5\u05bc\u05d0\n",
        "                \u05d5\u05b0 \u05d9\u05b9\u05d5\u05e1\u05b5\u0597\u05e3 \u05d4\u059a\u05d5\u05bc\u05d0 \u05d4\u05b7 \u05e9\u05b7\u05bc\u05c1\u05dc\u05b4\u05bc\u05a3\u05d9\u05d8 \u05e2\u05b7\u05dc \u05d4\u05b8 \u05d0\u05b8\u0594\u05e8\u05b6\u05e5 \u05d4\u05a5\u05d5\u05bc\u05d0 \u05d4\u05b7 \u05de\u05b7\u05bc\u05e9\u05b0\u05c1\u05d1\u05b4\u05bc\u0596\u05d9\u05e8 \u05dc\u05b0 \u05db\u05b8\u05dc \u05e2\u05b7\u05a3\u05dd \u05d4\u05b8 \u05d0\u05b8\u0591\u05e8\u05b6\u05e5\n",
        "Spec  EXO 35,09 \u05dc\u05b0 \u05e9\u05b8\u05c1\u05e8\u05b5\u05a3\u05ea \u05d1\u05b7\u05bc  \u05e7\u05b9\u05bc\u0591\u05d3\u05b6\u05e9\u05c1\n",
        "                \u05d5\u05b0 \u05db\u05b8\u05dc \u05d7\u05b2\u05db\u05b7\u05dd \u05dc\u05b5\u0596\u05d1 \u05d1\u05b8\u05bc\u05db\u05b6\u0591\u05dd \u05d9\u05b8\u05d1\u05b9\u05a3\u05d0\u05d5\u05bc \u05d5\u05b0 \u05d9\u05b7\u05e2\u05b2\u05e9\u05c2\u0594\u05d5\u05bc \u05d0\u05b5\u059b\u05ea \u05db\u05b8\u05bc\u05dc \u05d0\u05b2\u05e9\u05b6\u05c1\u05a5\u05e8 \u05e6\u05b4\u05d5\u05b8\u05bc\u0596\u05d4 \u05d9\u05b0\u05d4\u05d5\u05b8\u05bd\u05d4 \u05d0\u05b6\u05ea \u05d4\u05b7\u05a8 \u05de\u05b4\u05bc\u05e9\u05b0\u05c1\u05db\u05b8\u05bc\u0594\u05df \u05d0\u05b6\u05bd\u05ea \u05d0\u05b8\u05d4\u05b3\u05dc\u05b9\u0596\u05d5 \u05d5\u05b0 \u05d0\u05b6\u05ea \u05de\u05b4\u05db\u05b0\u05e1\u05b5\u0591\u05d4\u05d5\u05bc \u05d0\u05b6\u05ea \u05e7\u05b0\u05e8\u05b8\u05e1\u05b8\u05d9\u05d5\u0599 \u05d5\u05b0 \u05d0\u05b6\u05ea \u05e7\u05b0\u05e8\u05b8\u05e9\u05b8\u05c1\u0594\u05d9\u05d5 \u05d0\u05b6\u05ea \u05af\u05d1\u05e8\u05d9\u05d7\u05d5 \u05d0\u05b6\u05ea \u05e2\u05b7\u05de\u05bb\u05bc\u05d3\u05b8\u0596\u05d9\u05d5 \u05d5\u05b0 \u05d0\u05b6\u05ea \u05d0\u05b2\u05d3\u05b8\u05e0\u05b8\u05bd\u05d9\u05d5 \u05d0\u05b6\u05ea \u05d4\u05b8 \u05d0\u05b8\u05e8\u05b9\u05a5\u05df \u05d5\u05b0 \u05d0\u05b6\u05ea \u05d1\u05b7\u05bc\u05d3\u05b8\u05bc\u0596\u05d9\u05d5 \u05d0\u05b6\u05ea \u05d4\u05b7 \u05db\u05b7\u05bc\u05e4\u05b9\u05bc\u0591\u05e8\u05b6\u05ea \u05d5\u05b0 \u05d0\u05b5\u0596\u05ea \u05e4\u05b8\u05bc\u05e8\u05b9\u05a5\u05db\u05b6\u05ea \u05d4\u05b7 \u05de\u05b8\u05bc\u05e1\u05b8\u05bd\u05da\u05b0 \u05d0\u05b6\u05ea \u05d4\u05b7 \u05e9\u05bb\u05bc\u05c1\u05dc\u05b0\u05d7\u05b8\u05a5\u05df \u05d5\u05b0 \u05d0\u05b6\u05ea \u05d1\u05b7\u05bc\u05d3\u05b8\u05bc\u0596\u05d9\u05d5 \u05d5\u05b0 \u05d0\u05b6\u05ea \u05db\u05b8\u05bc\u05dc \u05db\u05b5\u05bc\u05dc\u05b8\u0591\u05d9\u05d5 \u05d5\u05b0 \u05d0\u05b5\u0596\u05ea \u05dc\u05b6\u05a5\u05d7\u05b6\u05dd \u05d4\u05b7 \u05e4\u05b8\u05bc\u05e0\u05b4\u05bd\u05d9\u05dd \u05d5\u05b0 \u05d0\u05b6\u05ea \u05de\u05b0\u05e0\u05b9\u05e8\u05b7\u05a7\u05ea \u05d4\u05b7 \u05de\u05b8\u05bc\u05d0\u05b9\u059b\u05d5\u05e8 \u05d5\u05b0 \u05d0\u05b6\u05ea \u05db\u05b5\u05bc\u05dc\u05b6\u0596\u05d9\u05d4\u05b8 \u05d5\u05b0 \u05d0\u05b6\u05ea \u05e0\u05b5\u05e8\u05b9\u05ea\u05b6\u0591\u05d9\u05d4\u05b8 \u05d5\u05b0 \u05d0\u05b5\u0596\u05ea \u05e9\u05b6\u05c1\u05a5\u05de\u05b6\u05df \u05d4\u05b7 \u05de\u05b8\u05bc\u05d0\u05b9\u05bd\u05d5\u05e8 \u05d5\u05b0 \u05d0\u05b6\u05ea \u05de\u05b4\u05d6\u05b0\u05d1\u05b7\u05bc\u05a4\u05d7 \u05d4\u05b7 \u05e7\u05b0\u05bc\u05d8\u05b9\u05a8\u05e8\u05b6\u05ea\u0599 \u05d5\u05b0 \u05d0\u05b6\u05ea \u05d1\u05b7\u05bc\u05d3\u05b8\u05bc\u0594\u05d9\u05d5 \u05d5\u05b0 \u05d0\u05b5\u05ea\u0599 \u05e9\u05b6\u05c1\u05a3\u05de\u05b6\u05df \u05d4\u05b7 \u05de\u05b4\u05bc\u05e9\u05b0\u05c1\u05d7\u05b8\u0594\u05d4 \u05d5\u05b0 \u05d0\u05b5\u0596\u05ea \u05e7\u05b0\u05d8\u05b9\u05a3\u05e8\u05b6\u05ea \u05d4\u05b7 \u05e1\u05b7\u05bc\u05de\u05b4\u05bc\u0591\u05d9\u05dd \u05d5\u05b0 \u05d0\u05b6\u05ea \u05de\u05b8\u05e1\u05b7\u05a5\u05da\u05b0 \u05d4\u05b7 \u05e4\u05b6\u05bc\u0596\u05ea\u05b7\u05d7 \u05dc\u05b0 \u05e4\u05b6\u05a5\u05ea\u05b7\u05d7 \u05d4\u05b7 \u05de\u05b4\u05bc\u05e9\u05b0\u05c1\u05db\u05b8\u05bc\u05bd\u05df \u05d0\u05b5\u05a3\u05ea \u05de\u05b4\u05d6\u05b0\u05d1\u05b7\u05bc\u05a3\u05d7 \u05d4\u05b8 \u05e2\u05b9\u05dc\u05b8\u0597\u05d4 \u05d5\u05b0 \u05d0\u05b6\u05ea \u05de\u05b4\u05db\u05b0\u05d1\u05b7\u05bc\u05a4\u05e8 \u05d4\u05b7 \u05e0\u05b0\u05bc\u05d7\u05b9\u05a8\u05e9\u05b6\u05c1\u05ea\u0599 \u05d0\u05b2\u05e9\u05b6\u05c1\u05e8 \u05dc\u05b9\u0594\u05d5 \u05d0\u05b6\u05ea \u05d1\u05b7\u05bc\u05d3\u05b8\u05bc\u0596\u05d9\u05d5 \u05d5\u05b0 \u05d0\u05b6\u05ea \u05db\u05b8\u05bc\u05dc \u05db\u05b5\u05bc\u05dc\u05b8\u0591\u05d9\u05d5 \u05d0\u05b6\u05ea \u05d4\u05b7 \u05db\u05b4\u05bc\u05d9\u05b9\u05bc\u0596\u05e8 \u05d5\u05b0 \u05d0\u05b6\u05ea \u05db\u05b7\u05bc\u05e0\u05b9\u05bc\u05bd\u05d5 \u05d0\u05b5\u059a\u05ea \u05e7\u05b7\u05dc\u05b0\u05e2\u05b5\u05a3\u05d9 \u05d4\u05b6 \u05d7\u05b8\u05e6\u05b5\u0594\u05e8 \u05d0\u05b6\u05ea \u05e2\u05b7\u05de\u05bb\u05bc\u05d3\u05b8\u0596\u05d9\u05d5 \u05d5\u05b0 \u05d0\u05b6\u05ea \u05d0\u05b2\u05d3\u05b8\u05e0\u05b6\u0591\u05d9\u05d4\u05b8 \u05d5\u05b0 \u05d0\u05b5\u0595\u05ea \u05de\u05b8\u05e1\u05b7\u0596\u05da\u05b0 \u05e9\u05b7\u05c1\u05a5\u05e2\u05b7\u05e8 \u05d4\u05b6 \u05d7\u05b8\u05e6\u05b5\u05bd\u05e8 \u05d0\u05b6\u05ea \u05d9\u05b4\u05ea\u05b0\u05d3\u05b9\u05a7\u05ea \u05d4\u05b7 \u05de\u05b4\u05bc\u05e9\u05b0\u05c1\u05db\u05b8\u05bc\u059b\u05df \u05d5\u05b0 \u05d0\u05b6\u05ea \u05d9\u05b4\u05ea\u05b0\u05d3\u05b9\u05a5\u05ea \u05d4\u05b6 \u05d7\u05b8\u05e6\u05b5\u0596\u05e8 \u05d5\u05b0 \u05d0\u05b6\u05ea \u05de\u05b5\u05d9\u05ea\u05b0\u05e8\u05b5\u05d9\u05d4\u05b6\u05bd\u05dd \u05d0\u05b6\u05ea \u05d1\u05b4\u05bc\u05d2\u05b0\u05d3\u05b5\u05a5\u05d9 \u05d4\u05b7 \u05e9\u05b0\u05bc\u05c2\u05e8\u05b8\u0596\u05d3 \u05dc\u05b0 \u05e9\u05b8\u05c1\u05e8\u05b5\u05a3\u05ea \u05d1\u05b7\u05bc  \u05e7\u05b9\u05bc\u0591\u05d3\u05b6\u05e9\u05c1 \u05d0\u05b6\u05ea \u05d1\u05b4\u05bc\u05d2\u05b0\u05d3\u05b5\u05a4\u05d9 \u05d4\u05b7 \u05e7\u05b9\u05bc\u05a8\u05d3\u05b6\u05e9\u05c1\u0599 \u05dc\u05b0 \u05d0\u05b7\u05d4\u05b2\u05e8\u05b9\u05a3\u05df \u05d4\u05b7 \u05db\u05b9\u05bc\u05d4\u05b5\u0594\u05df \u05d5\u05b0 \u05d0\u05b6\u05ea \u05d1\u05b4\u05bc\u05d2\u05b0\u05d3\u05b5\u05a5\u05d9 \u05d1\u05b8\u05e0\u05b8\u0596\u05d9\u05d5 \u05dc\u05b0 \u05db\u05b7\u05d4\u05b5\u05bd\u05df\n",
        "Subj  GEN 24,50 \u05d3\u05b7\u05bc\u05d1\u05b5\u05bc\u05a5\u05e8 \u05d0\u05b5\u05dc\u05b6\u0596\u05d9\u05da\u05b8 \u05e8\u05b7\u05a5\u05e2 \u05d0\u05b9\u05d5 \u05d8\u05b9\u05bd\u05d5\u05d1\n",
        "                \u05dc\u05b9\u05a5\u05d0 \u05e0\u05d5\u05bc\u05db\u05b7\u059b\u05dc \u05d3\u05b7\u05bc\u05d1\u05b5\u05bc\u05a5\u05e8 \u05d0\u05b5\u05dc\u05b6\u0596\u05d9\u05da\u05b8 \u05e8\u05b7\u05a5\u05e2 \u05d0\u05b9\u05d5 \u05d8\u05b9\u05bd\u05d5\u05d1\n",
        "Subj  GEN 02,18 \u05d4\u05b1\u05d9\u05b9\u05a5\u05d5\u05ea \u05d4\u05b8\u05bd \u05d0\u05b8\u05d3\u05b8\u0596\u05dd \u05dc\u05b0 \u05d1\u05b7\u05d3\u05b9\u05bc\u0591\u05d5\n",
        "                \u05dc\u05b9\u05d0 \u05d8\u05b9\u059b\u05d5\u05d1 \u05d4\u05b1\u05d9\u05b9\u05a5\u05d5\u05ea \u05d4\u05b8\u05bd \u05d0\u05b8\u05d3\u05b8\u0596\u05dd \u05dc\u05b0 \u05d1\u05b7\u05d3\u05b9\u05bc\u0591\u05d5\n",
        "Subj  GEN 04,17 \u05d1\u05b9\u05bc\u05a3\u05e0\u05b6\u05d4 \u05e2\u05b4\u0594\u05d9\u05e8\n",
        "                \u05d5\u05b7\u05bd \u05d9\u05b0\u05d4\u05b4\u05d9\u0599 \u05d1\u05b9\u05bc\u05a3\u05e0\u05b6\u05d4 \u05e2\u05b4\u0594\u05d9\u05e8\n"
       ]
      }
     ],
     "prompt_number": 6
    },
    {
     "cell_type": "code",
     "collapsed": false,
     "input": [
      "ccrs = {\n",
      " 'Adju': 'adjunct clause',\n",
      " 'Attr': 'attributive clause',\n",
      " 'Cmpl': 'complement clause, but not subject or object',\n",
      " 'CoVo': 'continuation of the vocative',\n",
      " 'Coor': 'coordination',\n",
      " 'Objc': 'object clause',\n",
      " 'PrAd': 'predicative adjunct clause',\n",
      " 'PreC': 'predicative complement clause',\n",
      " 'Resu': 'clause after resumptive extrapolated fronted element',\n",
      " 'RgRc': 'Regens rectum (governing governed)',\n",
      " 'Spec': 'Specification clause',\n",
      " 'Subj': 'subject clause',\n",
      " 'NA': 'not known/not marked',\n",
      "}"
     ],
     "language": "python",
     "metadata": {},
     "outputs": [],
     "prompt_number": 7
    },
    {
     "cell_type": "markdown",
     "metadata": {},
     "source": [
      "### Subject\n",
      "clause that has the function of subject\n",
      "\n",
      "### Object\n",
      "clause that has the function of object\n",
      "\n",
      "### Complement\n",
      "clause that has a function of a verb complement, but not subject or object \n",
      "\n",
      "### Attributive\n",
      "clause that has an attributive function (often with a relative pronoun)\n",
      "\n",
      "### Adjunct\n",
      "clauses with additional information, usually without a finite verb\n",
      "\n",
      "### Predicative clause\n",
      "clause that has a predicative function\n",
      "\n",
      "### Coordination\n",
      "multiple dependent clauses coordinated (with and, or etc) to each other under the same head (a main clause or a phrase (asher))\n",
      "\n",
      "### Continuation of the vocative\n",
      "clause that follows after a vocative: *Adam*, where are you.\n",
      "\n",
      "### Resumptive\n",
      "King David, Nathan the prohpet spoke severly to *him* [here King David is *casus pendens* or extrapolated element.\n",
      "\n",
      "### Regens Rectum\n",
      "You shall reign over the birds and the animals and **all** *creeps on the face of the earth* [Here **all** governs the *reptiles*]\n",
      "\n",
      "### none\n",
      "No clause constituent relation marked.\n"
     ]
    },
    {
     "cell_type": "heading",
     "level": 2,
     "metadata": {},
     "source": [
      "Phrase atom types"
     ]
    },
    {
     "cell_type": "code",
     "collapsed": false,
     "input": [
      "pats = set()\n",
      "for i in NN(test=F.otype.v, values=['phrase_atom']):\n",
      "    pat = F.typ.v(i)\n",
      "    pats.add(pat)\n",
      "pats"
     ],
     "language": "python",
     "metadata": {},
     "outputs": [
      {
       "metadata": {},
       "output_type": "pyout",
       "prompt_number": 8,
       "text": [
        "{'AdjP',\n",
        " 'AdvP',\n",
        " 'CP',\n",
        " 'DPrP',\n",
        " 'IPrP',\n",
        " 'InjP',\n",
        " 'InrP',\n",
        " 'NP',\n",
        " 'NegP',\n",
        " 'PP',\n",
        " 'PPrP',\n",
        " 'PrNP',\n",
        " 'VP'}"
       ]
      }
     ],
     "prompt_number": 8
    },
    {
     "cell_type": "heading",
     "level": 2,
     "metadata": {},
     "source": [
      "Tense"
     ]
    },
    {
     "cell_type": "code",
     "collapsed": false,
     "input": [
      "tenses = set()\n",
      "for i in NN(test=F.otype.v, values=['word']):\n",
      "    tense = F.vt.v(i)\n",
      "    tenses.add(tense)\n",
      "tenses"
     ],
     "language": "python",
     "metadata": {},
     "outputs": [
      {
       "metadata": {},
       "output_type": "pyout",
       "prompt_number": 9,
       "text": [
        "{'NA', 'impf', 'impv', 'infa', 'infc', 'perf', 'ptca', 'ptcp', 'wayq'}"
       ]
      }
     ],
     "prompt_number": 9
    },
    {
     "cell_type": "heading",
     "level": 2,
     "metadata": {},
     "source": [
      "Pronominal suffixes (paradigmatic, graphical, plain)"
     ]
    },
    {
     "cell_type": "code",
     "collapsed": true,
     "input": [
      "ppss = set()\n",
      "gpss = set()\n",
      "for i in NN(test=F.otype.v, values=['word']):\n",
      "    pps = F.prs.v(i)\n",
      "    gps = F.g_prs.v(i)\n",
      "    ppss.add(pps)\n",
      "    gpss.add(gps)\n",
      "    \n",
      "output = \"paradigmatic pronoun suffix: \"\n",
      "output += \", \".join(sorted(ppss))\n",
      "output += \"\\n\" + \"graphical pronoun suffix: \"\n",
      "output += \", \".join(sorted(gpss))\n",
      "print(output)"
     ],
     "language": "python",
     "metadata": {},
     "outputs": [
      {
       "output_type": "stream",
       "stream": "stdout",
       "text": [
        "paradigmatic pronoun suffix: H, H=, HJ, HM, HN, HW, HWN, J, K, K=, KM, KN, KWN, M, MW, N, N>, NJ, NW, W, absent, n/a\n",
        "graphical pronoun suffix: , +, +:@K@, +:AHOM, +:AHOWN, +:AK@, +:AK@H, +:AKEM, +:AKOM, +:AKOWN, +:H@, +:HEM, +:HEN, +:HOM, +:HOWM, +:HOWN, +:HW., +:K@, +:K@H, +:KEM, +:KEN, +:KOM, +:KOWN, +:NIJ, +:NW., +;>, +;H., +;HW., +;K, +;K:, +;K;H, +;KIJ, +;M, +;MOW, +;N.@H, +;NIJ, +;NW., +>, +@>, +@H, +@H,, +@H., +@H:N@H, +@H;M, +@H;N, +@HAM, +@HEM, +@HEN, +@HW., +@K:, +@K@H, +@KEM, +@KEN@H, +@M, +@MOW, +@N, +@N@H, +@NIJ, +@NW., +A, +AH., +AJ, +AM, +AN, +AN.IJ, +AN@>, +ANIJ, +D, +EH@, +EK:, +EK@, +EK@H, +EM, +EN@H, +H, +H., +H.EM, +H;M@H, +H;N, +H>, +H@, +HEM, +HEN, +HEN@H, +HIJ, +HM, +HOM, +HOWN, +HW, +HW., +HWN, +IJ, +IK, +IK:, +J, +JNJ, +K, +K.@, +K.@H, +K.EM, +K:, +K@, +K@H, +KEM, +KEN, +KEN@H, +KIJ, +KJ, +KM, +KOWN, +M, +MOW, +MW., +N, +N>, +N@>, +NH, +NIJ, +NJ, +NW, +NW., +OH, +OW, +W, +W., +WMW, +WNJ, +WW\n"
       ]
      }
     ],
     "prompt_number": 10
    },
    {
     "cell_type": "heading",
     "level": 2,
     "metadata": {},
     "source": [
      "Verbal ending (paradigmatic)"
     ]
    },
    {
     "cell_type": "code",
     "collapsed": true,
     "input": [
      "pves = set()\n",
      "for i in NN(test=F.otype.v, value='word'):\n",
      "    pve = F.vbe.v(i)\n",
      "    pves.add(pve)\n",
      "pves"
     ],
     "language": "python",
     "metadata": {},
     "outputs": [
      {
       "metadata": {},
       "output_type": "pyout",
       "prompt_number": 11,
       "text": [
        "{'',\n",
        " 'H',\n",
        " 'H=',\n",
        " 'J',\n",
        " 'JN',\n",
        " 'N',\n",
        " 'N>',\n",
        " 'NH',\n",
        " 'NW',\n",
        " 'T',\n",
        " 'T=',\n",
        " 'T==',\n",
        " 'TJ',\n",
        " 'TM',\n",
        " 'TN',\n",
        " 'TWN',\n",
        " 'W',\n",
        " 'WN',\n",
        " 'n/a'}"
       ]
      }
     ],
     "prompt_number": 11
    },
    {
     "cell_type": "heading",
     "level": 1,
     "metadata": {},
     "source": [
      "Conventions for all tasks"
     ]
    },
    {
     "cell_type": "code",
     "collapsed": false,
     "input": [
      "pos_table = {\n",
      " 'adjv': 'aj',\n",
      " 'advb': 'av',\n",
      " 'art': 'dt',\n",
      " 'conj': 'cj',\n",
      " 'intj': 'ij',\n",
      " 'inrg': 'ir',\n",
      " 'nega': 'ng',\n",
      " 'subs': 'n',\n",
      " 'nmpr': 'n-pr',\n",
      " 'prep': 'pp',\n",
      " 'prps': 'pr-ps',\n",
      " 'prde': 'pr-dem',\n",
      " 'prin': 'pr-int',\n",
      " 'verb': 'vb',\n",
      "}\n",
      "\n",
      "pron_suffix_table = {\n",
      " '',\n",
      " 'H',\n",
      " 'H=',\n",
      " 'J',\n",
      " 'JN',\n",
      " 'N',\n",
      " 'N>',\n",
      " 'NH',\n",
      " 'NW',\n",
      " 'T',\n",
      " 'T=',\n",
      " 'T==',\n",
      " 'TJ',\n",
      " 'TM',\n",
      " 'TN',\n",
      " 'TWN',\n",
      " 'W',\n",
      " 'WN',\n",
      " 'n/a',\n",
      "}"
     ],
     "language": "python",
     "metadata": {},
     "outputs": [],
     "prompt_number": 12
    },
    {
     "cell_type": "heading",
     "level": 1,
     "metadata": {},
     "source": [
      "Task: Participles in Clause Atoms"
     ]
    },
    {
     "cell_type": "heading",
     "level": 2,
     "metadata": {},
     "source": [
      "Specification"
     ]
    },
    {
     "cell_type": "markdown",
     "metadata": {},
     "source": [
      "We want to analyse participles in their clause-*atoms*, not in their full clauses.\n",
      "We are particularly interested in verbal complements that these participles have in their clause-atom.\n",
      "\n",
      "Let us start with pronominal suffixes attached to the participle.\n",
      "\n",
      "We need to find all words marked with ``tense=ptca`` or ``tense=ptcp``.\n",
      "From there, we need all surrounding words in the same clause-*atom*.\n",
      "Of all words, we need the ``sp`` and the ``pdp`` features,\n",
      "and of the participle we need the ``prs`` as well.\n",
      "\n",
      "We output a tab delimited file.\n",
      "\n",
      "One row per participle, containing the following fields:\n",
      "\n",
      "sequence number | passage label | \n",
      "\n",
      "pos-tags of words before | pos tag of ptc | pronoun suffix (paradigmatic) | pos-tags of words after | \n",
      "\n",
      "plain text of words after | pronoun suffix (plain) | plain text of ptc | plain text of words before\n",
      "\n",
      "Every participle is shown within its clause-atom.\n",
      "\n",
      "If there are several participles in the same clause-atom, we put every participle in a separate row."
     ]
    },
    {
     "cell_type": "heading",
     "level": 2,
     "metadata": {},
     "source": [
      "Execute the task: data collection"
     ]
    },
    {
     "cell_type": "code",
     "collapsed": true,
     "input": [
      "msg(\"Get the participles...\")\n",
      "\n",
      "book = None\n",
      "chapter = None\n",
      "verse = None\n",
      "label = None\n",
      "\n",
      "found_total = 0\n",
      "found_in_book = 0\n",
      "found_total = 0\n",
      "clause_atoms = []\n",
      "current_clause = []\n",
      "has_participle = None\n",
      "\n",
      "for i in NN(test=F.otype.v, values=['book', 'chapter', 'verse', 'clause_atom', 'word']):\n",
      "    otype = F.otype.v(i)\n",
      "    if otype == 'word':\n",
      "        tense = F.vt.v(i)\n",
      "        is_participle = tense == 'ptca' or tense == 'ptcp'\n",
      "        pron_suff_para = None\n",
      "        if is_participle:\n",
      "            has_participle = True\n",
      "            pron_suff_para = F.prs.v(i)\n",
      "            found_total += 1\n",
      "        pos = pos_table[F.sp.v(i)]\n",
      "        pdpos = pos_table[F.pdp.v(i)]\n",
      "        rpos = pos if pos == pdpos else \"{}~{}\".format(pos, pdpos)\n",
      "        current_clause.append((\n",
      "            is_participle,\n",
      "            F.g_cons_utf8.v(i),\n",
      "            rpos,\n",
      "            pron_suff_para,\n",
      "        ))\n",
      "    elif otype == 'clause_atom':\n",
      "        if has_participle:\n",
      "            clause_atoms.append((label, current_clause))\n",
      "            found_in_book += 1\n",
      "        current_clause = []\n",
      "        has_participle = False\n",
      "    elif otype == 'book':\n",
      "        if book != None:\n",
      "            msg(\"{} ({})\".format(book, found_in_book), withtime=False)\n",
      "            found_in_book = 0\n",
      "        book = F.book.v(i)\n",
      "    elif otype == 'chapter':\n",
      "        chapter = F.chapter.v(i)\n",
      "    elif otype == 'verse':\n",
      "        verse = F.verse.v(i)\n",
      "        label = \"{} {}:{}\".format(book, chapter, verse)\n",
      "if has_participle:\n",
      "    clause_atoms.append((label, current_clause))\n",
      "msg(\"{} ({})\".format(book, found_in_book), withtime=False)\n",
      "\n",
      "msg(\"Found {} participles in {} clause atoms\".format(found_total, len(clause_atoms)))"
     ],
     "language": "python",
     "metadata": {},
     "outputs": [
      {
       "output_type": "stream",
       "stream": "stderr",
       "text": [
        " 1m 10s Get the participles...\n"
       ]
      },
      {
       "output_type": "stream",
       "stream": "stderr",
       "text": [
        "Genesis (354)\n"
       ]
      },
      {
       "output_type": "stream",
       "stream": "stderr",
       "text": [
        "Exodus (340)\n"
       ]
      },
      {
       "output_type": "stream",
       "stream": "stderr",
       "text": [
        "Leviticus (232)\n"
       ]
      },
      {
       "output_type": "stream",
       "stream": "stderr",
       "text": [
        "Numeri (383)\n"
       ]
      },
      {
       "output_type": "stream",
       "stream": "stderr",
       "text": [
        "Deuteronomium (435)\n"
       ]
      },
      {
       "output_type": "stream",
       "stream": "stderr",
       "text": [
        "Josua (187)\n"
       ]
      },
      {
       "output_type": "stream",
       "stream": "stderr",
       "text": [
        "Judices (227)\n"
       ]
      },
      {
       "output_type": "stream",
       "stream": "stderr",
       "text": [
        "Samuel_I (325)\n"
       ]
      },
      {
       "output_type": "stream",
       "stream": "stderr",
       "text": [
        "Samuel_II (251)\n"
       ]
      },
      {
       "output_type": "stream",
       "stream": "stderr",
       "text": [
        "Reges_I (287)\n"
       ]
      },
      {
       "output_type": "stream",
       "stream": "stderr",
       "text": [
        "Reges_II (290)\n"
       ]
      },
      {
       "output_type": "stream",
       "stream": "stderr",
       "text": [
        "Jesaia (807)\n"
       ]
      },
      {
       "output_type": "stream",
       "stream": "stderr",
       "text": [
        "Jeremia (743)\n"
       ]
      },
      {
       "output_type": "stream",
       "stream": "stderr",
       "text": [
        "Ezechiel (505)\n"
       ]
      },
      {
       "output_type": "stream",
       "stream": "stderr",
       "text": [
        "Hosea (71)\n"
       ]
      },
      {
       "output_type": "stream",
       "stream": "stderr",
       "text": [
        "Joel (28)\n"
       ]
      },
      {
       "output_type": "stream",
       "stream": "stderr",
       "text": [
        "Amos (82)\n"
       ]
      },
      {
       "output_type": "stream",
       "stream": "stderr",
       "text": [
        "Obadia (7)\n"
       ]
      },
      {
       "output_type": "stream",
       "stream": "stderr",
       "text": [
        "Jona (15)\n"
       ]
      },
      {
       "output_type": "stream",
       "stream": "stderr",
       "text": [
        "Micha (72)\n"
       ]
      },
      {
       "output_type": "stream",
       "stream": "stderr",
       "text": [
        "Nahum (48)\n"
       ]
      },
      {
       "output_type": "stream",
       "stream": "stderr",
       "text": [
        "Habakuk (28)\n"
       ]
      },
      {
       "output_type": "stream",
       "stream": "stderr",
       "text": [
        "Zephania (44)\n"
       ]
      },
      {
       "output_type": "stream",
       "stream": "stderr",
       "text": [
        "Haggai (10)\n"
       ]
      },
      {
       "output_type": "stream",
       "stream": "stderr",
       "text": [
        "Sacharia (132)\n"
       ]
      },
      {
       "output_type": "stream",
       "stream": "stderr",
       "text": [
        "Maleachi (51)\n"
       ]
      },
      {
       "output_type": "stream",
       "stream": "stderr",
       "text": [
        "Psalmi (907)\n"
       ]
      },
      {
       "output_type": "stream",
       "stream": "stderr",
       "text": [
        "Iob (217)\n"
       ]
      },
      {
       "output_type": "stream",
       "stream": "stderr",
       "text": [
        "Proverbia (490)\n"
       ]
      },
      {
       "output_type": "stream",
       "stream": "stderr",
       "text": [
        "Ruth (34)\n"
       ]
      },
      {
       "output_type": "stream",
       "stream": "stderr",
       "text": [
        "Canticum (63)\n"
       ]
      },
      {
       "output_type": "stream",
       "stream": "stderr",
       "text": [
        "Ecclesiastes (126)\n"
       ]
      },
      {
       "output_type": "stream",
       "stream": "stderr",
       "text": [
        "Threni (58)\n"
       ]
      },
      {
       "output_type": "stream",
       "stream": "stderr",
       "text": [
        "Esther (108)\n"
       ]
      },
      {
       "output_type": "stream",
       "stream": "stderr",
       "text": [
        "Daniel (335)\n"
       ]
      },
      {
       "output_type": "stream",
       "stream": "stderr",
       "text": [
        "Esra (110)\n"
       ]
      },
      {
       "output_type": "stream",
       "stream": "stderr",
       "text": [
        "Nehemia (204)\n"
       ]
      },
      {
       "output_type": "stream",
       "stream": "stderr",
       "text": [
        "Chronica_I (193)\n"
       ]
      },
      {
       "output_type": "stream",
       "stream": "stderr",
       "text": [
        "Chronica_II (355)\n"
       ]
      },
      {
       "output_type": "stream",
       "stream": "stderr",
       "text": [
        " 1m 14s Found 9664 participles in 9154 clause atoms\n"
       ]
      }
     ],
     "prompt_number": 14
    },
    {
     "cell_type": "heading",
     "level": 2,
     "metadata": {},
     "source": [
      "Execute the task: formatting output"
     ]
    },
    {
     "cell_type": "code",
     "collapsed": false,
     "input": [
      "split_clause_atoms = []\n",
      "for (label, clause) in clause_atoms:\n",
      "    ptcs = [n for (n, w) in enumerate(clause) if w[0]]\n",
      "    for ptc in ptcs:\n",
      "        split_clause_atoms.append((\n",
      "            label,\n",
      "            clause[0:ptc],\n",
      "            clause[ptc],\n",
      "            clause[ptc+1:len(clause)] if ptc < len(clause) - 1 else [],\n",
      "        ))"
     ],
     "language": "python",
     "metadata": {},
     "outputs": [],
     "prompt_number": 15
    },
    {
     "cell_type": "code",
     "collapsed": true,
     "input": [
      "ptc_cl_atoms = outfile(\"ptc_cl_atoms.csv\")\n",
      "ptc_cl_atoms.write(\"n\\tpassage\\tp_pre\\tp_ptc\\tp_suff\\tp_post\\tt_post\\tt_ptc\\tt_pre\\n\")\n",
      "for (n, (label, pre, ptc, post)) in enumerate(split_clause_atoms):\n",
      "    fields = [str(n+1), label]\n",
      "    fields.append(\"|\".join([w[2] for w in pre]))\n",
      "    fields.append(ptc[2])\n",
      "    fields.append(ptc[3])\n",
      "    fields.append(\"|\".join([w[2] for w in post]))\n",
      "    fields.append(\" \".join([w[1] for w in post]))\n",
      "    fields.append(ptc[1])\n",
      "    fields.append(\" \".join([w[1] for w in pre]))\n",
      "    ptc_cl_atoms.write(\"{}\\n\".format(\"\\t\".join(fields)))\n",
      "close()"
     ],
     "language": "python",
     "metadata": {},
     "outputs": [
      {
       "output_type": "stream",
       "stream": "stderr",
       "text": [
        " 1m 20s Results directory:\n",
        "/Users/dirk/laf-fabric-output/etcbc4/participle\n"
       ]
      },
      {
       "output_type": "stream",
       "stream": "stderr",
       "text": [
        "\n",
        "__log__participle.txt                  1084 Tue Jul 15 18:41:24 2014\n",
        "ptc_cl_atoms.csv                     825100 Tue Jul 15 18:41:24 2014\n"
       ]
      }
     ],
     "prompt_number": 16
    },
    {
     "cell_type": "heading",
     "level": 2,
     "metadata": {},
     "source": [
      "Playing with the output"
     ]
    },
    {
     "cell_type": "markdown",
     "metadata": {},
     "source": [
      "First of all: I opened the ``ptc_tab.csv`` (a tab delimited file) in OpenOffice, and there I formatted some rows and columns, defined a region, and sorted the rows. The result I saved in ``ptc_tab.ods`` (also on GitHub, same directory as this notebook).\n",
      "\n",
      "Let's get an impression of what we've got in our tab delimited file."
     ]
    },
    {
     "cell_type": "code",
     "collapsed": false,
     "input": [
      "%matplotlib inline\n",
      "import pandas\n",
      "from IPython.display import display\n",
      "pandas.set_option('display.notebook_repr_html', True)"
     ],
     "language": "python",
     "metadata": {},
     "outputs": [],
     "prompt_number": 17
    },
    {
     "cell_type": "code",
     "collapsed": false,
     "input": [
      "table_file = my_file('ptc_cl_atoms.csv')\n",
      "df = pandas.read_csv(table_file, sep=\"\\t\", keep_default_na=False, na_values=[])\n",
      "df.head(10)"
     ],
     "language": "python",
     "metadata": {},
     "outputs": [
      {
       "html": [
        "<div style=\"max-height:1000px;max-width:1500px;overflow:auto;\">\n",
        "<table border=\"1\" class=\"dataframe\">\n",
        "  <thead>\n",
        "    <tr style=\"text-align: right;\">\n",
        "      <th></th>\n",
        "      <th>n</th>\n",
        "      <th>passage</th>\n",
        "      <th>p_pre</th>\n",
        "      <th>p_ptc</th>\n",
        "      <th>p_suff</th>\n",
        "      <th>p_post</th>\n",
        "      <th>t_post</th>\n",
        "      <th>t_ptc</th>\n",
        "      <th>t_pre</th>\n",
        "    </tr>\n",
        "  </thead>\n",
        "  <tbody>\n",
        "    <tr>\n",
        "      <th>0</th>\n",
        "      <td>  1</td>\n",
        "      <td>  Genesis 1:3</td>\n",
        "      <td> cj|n|n</td>\n",
        "      <td> vb</td>\n",
        "      <td> absent</td>\n",
        "      <td>   pp|n|dt|n</td>\n",
        "      <td>  \u05e2\u05dc \u05e4\u05e0\u05d9 \u05d4 \u05de\u05d9\u05dd</td>\n",
        "      <td> \u05de\u05e8\u05d7\u05e4\u05ea</td>\n",
        "      <td> \u05d5 \u05e8\u05d5\u05d7 \u05d0\u05dc\u05d4\u05d9\u05dd</td>\n",
        "    </tr>\n",
        "    <tr>\n",
        "      <th>1</th>\n",
        "      <td>  2</td>\n",
        "      <td>  Genesis 1:7</td>\n",
        "      <td>  cj|vb</td>\n",
        "      <td> vb</td>\n",
        "      <td> absent</td>\n",
        "      <td> n~pp|n|pp|n</td>\n",
        "      <td> \u05d1\u05d9\u05df \u05de\u05d9\u05dd \u05dc \u05de\u05d9\u05dd</td>\n",
        "      <td> \u05de\u05d1\u05d3\u05d9\u05dc</td>\n",
        "      <td>       \u05d5 \u05d9\u05d4\u05d9</td>\n",
        "    </tr>\n",
        "    <tr>\n",
        "      <th>2</th>\n",
        "      <td>  3</td>\n",
        "      <td> Genesis 1:11</td>\n",
        "      <td>       </td>\n",
        "      <td> vb</td>\n",
        "      <td> absent</td>\n",
        "      <td>           n</td>\n",
        "      <td>           \u05d6\u05e8\u05e2</td>\n",
        "      <td> \u05de\u05d6\u05e8\u05d9\u05e2</td>\n",
        "      <td>            </td>\n",
        "    </tr>\n",
        "    <tr>\n",
        "      <th>3</th>\n",
        "      <td>  4</td>\n",
        "      <td> Genesis 1:11</td>\n",
        "      <td>       </td>\n",
        "      <td> vb</td>\n",
        "      <td> absent</td>\n",
        "      <td>      n|pp|n</td>\n",
        "      <td>    \u05e4\u05e8\u05d9 \u05dc \u05de\u05d9\u05e0\u05d5</td>\n",
        "      <td>   \u05e2\u05e9\u05c2\u05d4</td>\n",
        "      <td>            </td>\n",
        "    </tr>\n",
        "    <tr>\n",
        "      <th>4</th>\n",
        "      <td>  5</td>\n",
        "      <td> Genesis 1:12</td>\n",
        "      <td>       </td>\n",
        "      <td> vb</td>\n",
        "      <td> absent</td>\n",
        "      <td>      n|pp|n</td>\n",
        "      <td>   \u05d6\u05e8\u05e2 \u05dc \u05de\u05d9\u05e0\u05d4\u05d5</td>\n",
        "      <td> \u05de\u05d6\u05e8\u05d9\u05e2</td>\n",
        "      <td>            </td>\n",
        "    </tr>\n",
        "    <tr>\n",
        "      <th>5</th>\n",
        "      <td>  6</td>\n",
        "      <td> Genesis 1:12</td>\n",
        "      <td>       </td>\n",
        "      <td> vb</td>\n",
        "      <td> absent</td>\n",
        "      <td>           n</td>\n",
        "      <td>           \u05e4\u05e8\u05d9</td>\n",
        "      <td>   \u05e2\u05e9\u05c2\u05d4</td>\n",
        "      <td>            </td>\n",
        "    </tr>\n",
        "    <tr>\n",
        "      <th>6</th>\n",
        "      <td>  7</td>\n",
        "      <td> Genesis 1:21</td>\n",
        "      <td>  dt~cj</td>\n",
        "      <td> vb</td>\n",
        "      <td> absent</td>\n",
        "      <td>            </td>\n",
        "      <td>              </td>\n",
        "      <td>  \u05e8\u05de\u05e9\u05c2\u05ea</td>\n",
        "      <td>           \u05d4</td>\n",
        "    </tr>\n",
        "    <tr>\n",
        "      <th>7</th>\n",
        "      <td>  8</td>\n",
        "      <td> Genesis 1:27</td>\n",
        "      <td>  dt~cj</td>\n",
        "      <td> vb</td>\n",
        "      <td> absent</td>\n",
        "      <td>     pp|dt|n</td>\n",
        "      <td>      \u05e2\u05dc \u05d4 \u05d0\u05e8\u05e5</td>\n",
        "      <td>   \u05e8\u05de\u05e9\u05c2</td>\n",
        "      <td>           \u05d4</td>\n",
        "    </tr>\n",
        "    <tr>\n",
        "      <th>8</th>\n",
        "      <td>  9</td>\n",
        "      <td> Genesis 1:29</td>\n",
        "      <td>  dt~cj</td>\n",
        "      <td> vb</td>\n",
        "      <td> absent</td>\n",
        "      <td>     pp|dt|n</td>\n",
        "      <td>      \u05e2\u05dc \u05d4 \u05d0\u05e8\u05e5</td>\n",
        "      <td>  \u05e8\u05de\u05e9\u05c2\u05ea</td>\n",
        "      <td>           \u05d4</td>\n",
        "    </tr>\n",
        "    <tr>\n",
        "      <th>9</th>\n",
        "      <td> 10</td>\n",
        "      <td> Genesis 1:29</td>\n",
        "      <td>       </td>\n",
        "      <td> vb</td>\n",
        "      <td> absent</td>\n",
        "      <td>           n</td>\n",
        "      <td>           \u05d6\u05e8\u05e2</td>\n",
        "      <td>   \u05d6\u05e8\u05e2</td>\n",
        "      <td>            </td>\n",
        "    </tr>\n",
        "  </tbody>\n",
        "</table>\n",
        "<p>10 rows \u00d7 9 columns</p>\n",
        "</div>"
       ],
       "metadata": {},
       "output_type": "pyout",
       "prompt_number": 18,
       "text": [
        "    n       passage   p_pre p_ptc  p_suff       p_post         t_post  t_ptc  \\\n",
        "0   1   Genesis 1:3  cj|n|n    vb  absent    pp|n|dt|n   \u05e2\u05dc \u05e4\u05e0\u05d9 \u05d4 \u05de\u05d9\u05dd  \u05de\u05e8\u05d7\u05e4\u05ea   \n",
        "1   2   Genesis 1:7   cj|vb    vb  absent  n~pp|n|pp|n  \u05d1\u05d9\u05df \u05de\u05d9\u05dd \u05dc \u05de\u05d9\u05dd  \u05de\u05d1\u05d3\u05d9\u05dc   \n",
        "2   3  Genesis 1:11            vb  absent            n            \u05d6\u05e8\u05e2  \u05de\u05d6\u05e8\u05d9\u05e2   \n",
        "3   4  Genesis 1:11            vb  absent       n|pp|n     \u05e4\u05e8\u05d9 \u05dc \u05de\u05d9\u05e0\u05d5    \u05e2\u05e9\u05c2\u05d4   \n",
        "4   5  Genesis 1:12            vb  absent       n|pp|n    \u05d6\u05e8\u05e2 \u05dc \u05de\u05d9\u05e0\u05d4\u05d5  \u05de\u05d6\u05e8\u05d9\u05e2   \n",
        "5   6  Genesis 1:12            vb  absent            n            \u05e4\u05e8\u05d9    \u05e2\u05e9\u05c2\u05d4   \n",
        "6   7  Genesis 1:21   dt~cj    vb  absent                               \u05e8\u05de\u05e9\u05c2\u05ea   \n",
        "7   8  Genesis 1:27   dt~cj    vb  absent      pp|dt|n       \u05e2\u05dc \u05d4 \u05d0\u05e8\u05e5    \u05e8\u05de\u05e9\u05c2   \n",
        "8   9  Genesis 1:29   dt~cj    vb  absent      pp|dt|n       \u05e2\u05dc \u05d4 \u05d0\u05e8\u05e5   \u05e8\u05de\u05e9\u05c2\u05ea   \n",
        "9  10  Genesis 1:29            vb  absent            n            \u05d6\u05e8\u05e2    \u05d6\u05e8\u05e2   \n",
        "\n",
        "         t_pre  \n",
        "0  \u05d5 \u05e8\u05d5\u05d7 \u05d0\u05dc\u05d4\u05d9\u05dd  \n",
        "1        \u05d5 \u05d9\u05d4\u05d9  \n",
        "2               \n",
        "3               \n",
        "4               \n",
        "5               \n",
        "6            \u05d4  \n",
        "7            \u05d4  \n",
        "8            \u05d4  \n",
        "9               \n",
        "\n",
        "[10 rows x 9 columns]"
       ]
      }
     ],
     "prompt_number": 18
    }
   ],
   "metadata": {}
  }
 ]
}