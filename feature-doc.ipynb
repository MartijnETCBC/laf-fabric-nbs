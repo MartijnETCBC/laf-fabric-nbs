{
 "metadata": {
  "name": "",
  "signature": "sha256:566e104a3d57049f1780f3e2b9599d4f9551d2c4f75ce9d5ee48cabf47ecea18"
 },
 "nbformat": 3,
 "nbformat_minor": 0,
 "worksheets": [
  {
   "cells": [
    {
     "cell_type": "markdown",
     "metadata": {},
     "source": [
      "<a href=\"http://laf-fabric.readthedocs.org/en/latest/\" target=\"_blank\"><img align=\"left\" src=\"images/laf-fabric-xsmall.png\"/></a>\n",
      "<a href=\"http://www.godgeleerdheid.vu.nl/etcbc\" target=\"_blank\"><img align=\"left\" src=\"images/VU-ETCBC-xsmall.png\"/></a>\n",
      "<a href=\"http://tla.mpi.nl\" target=\"_blank\"><img align=\"right\" src=\"images/TLA-xsmall.png\"/></a>\n",
      "<a href=\"http://www.dans.knaw.nl\" target=\"_blank\"><img align=\"right\"src=\"images/DANS-xsmall.png\"/></a>"
     ]
    },
    {
     "cell_type": "heading",
     "level": 1,
     "metadata": {},
     "source": [
      "Feature docs"
     ]
    },
    {
     "cell_type": "markdown",
     "metadata": {},
     "source": [
      "This is a general purpose tool to get acquainted with the features in the LAF version of the Hebrew Database"
     ]
    },
    {
     "cell_type": "code",
     "collapsed": false,
     "input": [
      "import sys\n",
      "import collections\n",
      "\n",
      "import pandas\n",
      "import matplotlib.pyplot as plt\n",
      "from IPython.display import display\n",
      "pandas.set_option('display.notebook_repr_html', True)\n",
      "%matplotlib inline\n",
      "\n",
      "from laf.fabric import LafFabric\n",
      "import etcbc\n",
      "from etcbc.featuredoc import FeatureDoc\n",
      "\n",
      "fabric = LafFabric()"
     ],
     "language": "python",
     "metadata": {},
     "outputs": [
      {
       "output_type": "stream",
       "stream": "stderr",
       "text": [
        "  0.00s This is LAF-Fabric 4.2.10\n",
        "http://laf-fabric.readthedocs.org/en/latest/texts/API-reference.html\n"
       ]
      }
     ],
     "prompt_number": 1
    },
    {
     "cell_type": "heading",
     "level": 1,
     "metadata": {},
     "source": [
      "Choose your source and features"
     ]
    },
    {
     "cell_type": "markdown",
     "metadata": {},
     "source": [
      "Specifiy the features you want to study.\n",
      "This notebook only offers to study the features in the *ft* namespace.\n",
      "\n",
      "Do this by providing a list of features to the *study specification* below.\n",
      "\n",
      "The requested features will be loaded, on top of the base supply of features that we need for showing examples."
     ]
    },
    {
     "cell_type": "code",
     "collapsed": false,
     "input": [
      "API = fabric.load('bhs3', '--', 'feature-doc', {\n",
      "    \"xmlids\": {\"node\": False, \"edge\": False},\n",
      "    \"features\": (\"\",\"\"),\n",
      "    \"primary\": False,\n",
      "})\n",
      "\n",
      "doc = FeatureDoc(fabric, {\n",
      "    'features': {\n",
      "        'node': '''\n",
      "            gender\n",
      "            number\n",
      "            person\n",
      "            suffix_gender\n",
      "            suffix_number\n",
      "            suffix_person\n",
      "            locative\n",
      "            tense\n",
      "            noun_type\n",
      "            pronoun_type\n",
      "            lexical_set\n",
      "            part_of_speech\n",
      "            phrase_dependent_part_of_speech\n",
      "            phrase_type\n",
      "            phrase_function\n",
      "            clause_constituent_relation\n",
      "            clause_atom_relation\n",
      "            clause_atom_type\n",
      "            domain\n",
      "            text_type\n",
      "            embedding_domain\n",
      "        ''',\n",
      "        'edge': ''\n",
      "    },\n",
      "    'absence_values': set((\n",
      "        'none',\n",
      "        'unknown',\n",
      "        'Unkn',\n",
      "    )),\n",
      "    'VALUE_THRESHOLD': 50,\n",
      "    'vlabel': 'verse_label',\n",
      "})\n",
      "\n",
      "exec(fabric.localnames.format(var='fabric'))"
     ],
     "language": "python",
     "metadata": {},
     "outputs": [
      {
       "output_type": "stream",
       "stream": "stderr",
       "text": [
        "  0.00s LOADING API: please wait ... \n"
       ]
      },
      {
       "output_type": "stream",
       "stream": "stderr",
       "text": [
        "  0.75s INFO: USING DATA COMPILED AT: 2014-04-18T18-24-37\n"
       ]
      },
      {
       "output_type": "stream",
       "stream": "stderr",
       "text": [
        "  1.67s LOGFILE=/Users/dirk/laf-fabric-output/bhs3/feature-doc/__log__feature-doc.txt\n"
       ]
      },
      {
       "output_type": "stream",
       "stream": "stderr",
       "text": [
        "  1.67s INFO: DATA LOADED FROM SOURCE bhs3 AND ANNOX -- FOR TASK feature-doc\n"
       ]
      },
      {
       "output_type": "stream",
       "stream": "stderr",
       "text": [
        "  0.00s LOADING API: please wait ... \n"
       ]
      },
      {
       "output_type": "stream",
       "stream": "stderr",
       "text": [
        "  0.00s INFO: USING DATA COMPILED AT: 2014-04-18T18-24-37\n"
       ]
      },
      {
       "output_type": "stream",
       "stream": "stderr",
       "text": [
        "  4.13s LOGFILE=/Users/dirk/laf-fabric-output/bhs3/feature-doc/__log__feature-doc.txt\n"
       ]
      },
      {
       "output_type": "stream",
       "stream": "stderr",
       "text": [
        "  4.14s INFO: DATA LOADED FROM SOURCE bhs3 AND ANNOX -- FOR TASK feature-doc\n"
       ]
      }
     ],
     "prompt_number": 2
    },
    {
     "cell_type": "code",
     "collapsed": false,
     "input": [
      "API = fabric.load('bhs4', '--', 'feature-doc', {\n",
      "    \"xmlids\": {\"node\": False, \"edge\": False},\n",
      "    \"features\": (\"\",\"\"),\n",
      "    \"primary\": False,\n",
      "})\n",
      "\n",
      "doc = FeatureDoc(fabric, {\n",
      "    'features': {\n",
      "        'node': ''' \n",
      "            book\n",
      "            chapter\n",
      "            label\n",
      "            verse\n",
      "            half_verse\n",
      "            clause_kind\n",
      "            code\n",
      "            det\n",
      "            dist\n",
      "            dist_unit\n",
      "            domain\n",
      "            function\n",
      "            gn\n",
      "            is_root\n",
      "            language\n",
      "            ls\n",
      "            mother_object_type\n",
      "            nme\n",
      "            nu\n",
      "            number\n",
      "            pdp\n",
      "            pfm\n",
      "            prs\n",
      "            ps\n",
      "            rela\n",
      "            sp\n",
      "            st\n",
      "            tab\n",
      "            txt\n",
      "            typ\n",
      "            uvf\n",
      "            vbe\n",
      "            vbs\n",
      "            vs\n",
      "            vt\n",
      "            g_cons\n",
      "            g_cons_utf8\n",
      "            g_lex\n",
      "            g_lex_utf8\n",
      "            g_nme\n",
      "            g_nme_utf8\n",
      "            g_pfm\n",
      "            g_pfm_utf8\n",
      "            g_prs\n",
      "            g_prs_utf8\n",
      "            g_uvf\n",
      "            g_uvf_utf8\n",
      "            g_vbe\n",
      "            g_vbe_utf8\n",
      "            g_vbs\n",
      "            g_vbs_utf8\n",
      "            g_word\n",
      "            g_word_utf8\n",
      "            lex\n",
      "            lex_utf8\n",
      "        ''',\n",
      "        'edge': '''\n",
      "            mother.\n",
      "            distributional_parent.\n",
      "            functional_parent.\n",
      "        ''',\n",
      "    },\n",
      "    'absence_values': set((\n",
      "        'none',\n",
      "        'unknown',\n",
      "        'Unkn',\n",
      "        'NA',\n",
      "        '?',\n",
      "        'n/a',\n",
      "        'absent',\n",
      "    )),\n",
      "    'VALUE_THRESHOLD': 50,\n",
      "    'vlabel': 'label',\n",
      "})\n",
      "\n",
      "exec(fabric.localnames.format(var='fabric'))"
     ],
     "language": "python",
     "metadata": {},
     "outputs": [
      {
       "output_type": "stream",
       "stream": "stderr",
       "text": [
        "  0.00s VERBOSE=None\n"
       ]
      },
      {
       "output_type": "stream",
       "stream": "stderr",
       "text": [
        "  0.00s LOADING API: please wait ... \n"
       ]
      },
      {
       "output_type": "stream",
       "stream": "stderr",
       "text": [
        "  0.00s INFO: USING DATA COMPILED AT: 2014-06-17T12-19-48\n"
       ]
      },
      {
       "output_type": "stream",
       "stream": "stderr",
       "text": [
        "  0.75s LOGFILE=/Users/dirk/laf-fabric-output/bhs4/feature-doc/__log__feature-doc.txt\n"
       ]
      },
      {
       "output_type": "stream",
       "stream": "stderr",
       "text": [
        "  0.76s INFO: DATA LOADED FROM SOURCE bhs4 AND ANNOX -- FOR TASK feature-doc\n"
       ]
      },
      {
       "output_type": "stream",
       "stream": "stderr",
       "text": [
        "  0.00s VERBOSE=DETAIL\n"
       ]
      },
      {
       "output_type": "stream",
       "stream": "stderr",
       "text": [
        "  0.00s LOADING API: please wait ... \n"
       ]
      },
      {
       "output_type": "stream",
       "stream": "stderr",
       "text": [
        "  0.00s DETAIL: COMPILING m: UP TO DATE\n"
       ]
      },
      {
       "output_type": "stream",
       "stream": "stderr",
       "text": [
        "  0.00s INFO: USING DATA COMPILED AT: 2014-06-17T12-19-48\n"
       ]
      },
      {
       "output_type": "stream",
       "stream": "stderr",
       "text": [
        "  0.00s DETAIL: COMPILING a: UP TO DATE\n"
       ]
      },
      {
       "output_type": "stream",
       "stream": "stderr",
       "text": [
        "  0.01s DETAIL: keep main: G.node_anchor_min\n"
       ]
      },
      {
       "output_type": "stream",
       "stream": "stderr",
       "text": [
        "  0.01s DETAIL: keep main: G.node_anchor_max\n"
       ]
      },
      {
       "output_type": "stream",
       "stream": "stderr",
       "text": [
        "  0.01s DETAIL: keep main: G.node_sort\n"
       ]
      },
      {
       "output_type": "stream",
       "stream": "stderr",
       "text": [
        "  0.01s DETAIL: keep main: G.node_sort_inv\n"
       ]
      },
      {
       "output_type": "stream",
       "stream": "stderr",
       "text": [
        "  0.01s DETAIL: keep main: G.edges_from\n"
       ]
      },
      {
       "output_type": "stream",
       "stream": "stderr",
       "text": [
        "  0.01s DETAIL: keep main: G.edges_to\n"
       ]
      },
      {
       "output_type": "stream",
       "stream": "stderr",
       "text": [
        "  0.01s DETAIL: load main: F.shebanq_db_otype [node] \n"
       ]
      },
      {
       "output_type": "stream",
       "stream": "stderr",
       "text": [
        "  0.77s DETAIL: load main: F.shebanq_ft_clause_kind [node] \n"
       ]
      },
      {
       "output_type": "stream",
       "stream": "stderr",
       "text": [
        "  0.83s DETAIL: load main: F.shebanq_ft_code [node] \n"
       ]
      },
      {
       "output_type": "stream",
       "stream": "stderr",
       "text": [
        "  0.89s DETAIL: load main: F.shebanq_ft_det [node] \n"
       ]
      },
      {
       "output_type": "stream",
       "stream": "stderr",
       "text": [
        "  1.11s DETAIL: load main: F.shebanq_ft_dist [node] \n"
       ]
      },
      {
       "output_type": "stream",
       "stream": "stderr",
       "text": [
        "  1.23s DETAIL: load main: F.shebanq_ft_dist_unit [node] \n"
       ]
      },
      {
       "output_type": "stream",
       "stream": "stderr",
       "text": [
        "  1.51s DETAIL: load main: F.shebanq_ft_domain [node] \n"
       ]
      },
      {
       "output_type": "stream",
       "stream": "stderr",
       "text": [
        "  1.54s DETAIL: load main: F.shebanq_ft_function [node] \n"
       ]
      },
      {
       "output_type": "stream",
       "stream": "stderr",
       "text": [
        "  1.66s DETAIL: load main: F.shebanq_ft_g_cons [node] \n"
       ]
      },
      {
       "output_type": "stream",
       "stream": "stderr",
       "text": [
        "  1.85s DETAIL: load main: F.shebanq_ft_g_cons_utf8 [node] \n"
       ]
      },
      {
       "output_type": "stream",
       "stream": "stderr",
       "text": [
        "  2.17s DETAIL: load main: F.shebanq_ft_g_lex [node] \n"
       ]
      },
      {
       "output_type": "stream",
       "stream": "stderr",
       "text": [
        "  2.39s DETAIL: load main: F.shebanq_ft_g_lex_utf8 [node] \n"
       ]
      },
      {
       "output_type": "stream",
       "stream": "stderr",
       "text": [
        "  2.69s DETAIL: load main: F.shebanq_ft_g_nme [node] \n"
       ]
      },
      {
       "output_type": "stream",
       "stream": "stderr",
       "text": [
        "  2.80s DETAIL: load main: F.shebanq_ft_g_nme_utf8 [node] \n"
       ]
      },
      {
       "output_type": "stream",
       "stream": "stderr",
       "text": [
        "  2.97s DETAIL: load main: F.shebanq_ft_g_pfm [node] \n"
       ]
      },
      {
       "output_type": "stream",
       "stream": "stderr",
       "text": [
        "  3.09s DETAIL: load main: F.shebanq_ft_g_pfm_utf8 [node] \n"
       ]
      },
      {
       "output_type": "stream",
       "stream": "stderr",
       "text": [
        "  3.20s DETAIL: load main: F.shebanq_ft_g_prs [node] \n"
       ]
      },
      {
       "output_type": "stream",
       "stream": "stderr",
       "text": [
        "  3.31s DETAIL: load main: F.shebanq_ft_g_prs_utf8 [node] \n"
       ]
      },
      {
       "output_type": "stream",
       "stream": "stderr",
       "text": [
        "  3.43s DETAIL: load main: F.shebanq_ft_g_uvf [node] \n"
       ]
      },
      {
       "output_type": "stream",
       "stream": "stderr",
       "text": [
        "  3.52s DETAIL: load main: F.shebanq_ft_g_uvf_utf8 [node] \n"
       ]
      },
      {
       "output_type": "stream",
       "stream": "stderr",
       "text": [
        "  3.62s DETAIL: load main: F.shebanq_ft_g_vbe [node] \n"
       ]
      },
      {
       "output_type": "stream",
       "stream": "stderr",
       "text": [
        "  3.72s DETAIL: load main: F.shebanq_ft_g_vbe_utf8 [node] \n"
       ]
      },
      {
       "output_type": "stream",
       "stream": "stderr",
       "text": [
        "  3.83s DETAIL: load main: F.shebanq_ft_g_vbs [node] \n"
       ]
      },
      {
       "output_type": "stream",
       "stream": "stderr",
       "text": [
        "  3.93s DETAIL: load main: F.shebanq_ft_g_vbs_utf8 [node] \n"
       ]
      },
      {
       "output_type": "stream",
       "stream": "stderr",
       "text": [
        "  4.03s DETAIL: load main: F.shebanq_ft_g_word [node] \n"
       ]
      },
      {
       "output_type": "stream",
       "stream": "stderr",
       "text": [
        "  4.28s DETAIL: load main: F.shebanq_ft_g_word_utf8 [node] \n"
       ]
      },
      {
       "output_type": "stream",
       "stream": "stderr",
       "text": [
        "  4.60s DETAIL: load main: F.shebanq_ft_gn [node] \n"
       ]
      },
      {
       "output_type": "stream",
       "stream": "stderr",
       "text": [
        "  4.75s DETAIL: load main: F.shebanq_ft_is_root [node] \n"
       ]
      },
      {
       "output_type": "stream",
       "stream": "stderr",
       "text": [
        "  4.80s DETAIL: load main: F.shebanq_ft_language [node] \n"
       ]
      },
      {
       "output_type": "stream",
       "stream": "stderr",
       "text": [
        "  5.00s DETAIL: load main: F.shebanq_ft_lex [node] \n"
       ]
      },
      {
       "output_type": "stream",
       "stream": "stderr",
       "text": [
        "  5.20s DETAIL: load main: F.shebanq_ft_lex_utf8 [node] \n"
       ]
      },
      {
       "output_type": "stream",
       "stream": "stderr",
       "text": [
        "  5.48s DETAIL: load main: F.shebanq_ft_ls [node] \n"
       ]
      },
      {
       "output_type": "stream",
       "stream": "stderr",
       "text": [
        "  5.67s DETAIL: load main: F.shebanq_ft_mother_object_type [node] \n"
       ]
      },
      {
       "output_type": "stream",
       "stream": "stderr",
       "text": [
        "  5.78s DETAIL: load main: F.shebanq_ft_nme [node] \n"
       ]
      },
      {
       "output_type": "stream",
       "stream": "stderr",
       "text": [
        "  5.95s DETAIL: load main: F.shebanq_ft_nu [node] \n"
       ]
      },
      {
       "output_type": "stream",
       "stream": "stderr",
       "text": [
        "  6.14s DETAIL: load main: F.shebanq_ft_number [node] \n"
       ]
      },
      {
       "output_type": "stream",
       "stream": "stderr",
       "text": [
        "  6.61s DETAIL: load main: F.shebanq_ft_pdp [node] \n"
       ]
      },
      {
       "output_type": "stream",
       "stream": "stderr",
       "text": [
        "  6.81s DETAIL: load main: F.shebanq_ft_pfm [node] \n"
       ]
      },
      {
       "output_type": "stream",
       "stream": "stderr",
       "text": [
        "  7.00s DETAIL: load main: F.shebanq_ft_prs [node] \n"
       ]
      },
      {
       "output_type": "stream",
       "stream": "stderr",
       "text": [
        "  7.20s DETAIL: load main: F.shebanq_ft_ps [node] \n"
       ]
      },
      {
       "output_type": "stream",
       "stream": "stderr",
       "text": [
        "  7.40s DETAIL: load main: F.shebanq_ft_rela [node] \n"
       ]
      },
      {
       "output_type": "stream",
       "stream": "stderr",
       "text": [
        "  7.74s DETAIL: load main: F.shebanq_ft_sp [node] \n"
       ]
      },
      {
       "output_type": "stream",
       "stream": "stderr",
       "text": [
        "  7.94s DETAIL: load main: F.shebanq_ft_st [node] \n"
       ]
      },
      {
       "output_type": "stream",
       "stream": "stderr",
       "text": [
        "  8.10s DETAIL: load main: F.shebanq_ft_tab [node] \n"
       ]
      },
      {
       "output_type": "stream",
       "stream": "stderr",
       "text": [
        "  8.14s DETAIL: load main: F.shebanq_ft_txt [node] \n"
       ]
      },
      {
       "output_type": "stream",
       "stream": "stderr",
       "text": [
        "  8.19s DETAIL: load main: F.shebanq_ft_typ [node] \n"
       ]
      },
      {
       "output_type": "stream",
       "stream": "stderr",
       "text": [
        "  8.56s DETAIL: load main: F.shebanq_ft_uvf [node] \n"
       ]
      },
      {
       "output_type": "stream",
       "stream": "stderr",
       "text": [
        "  8.77s DETAIL: load main: F.shebanq_ft_vbe [node] \n"
       ]
      },
      {
       "output_type": "stream",
       "stream": "stderr",
       "text": [
        "  8.96s DETAIL: load main: F.shebanq_ft_vbs [node] \n"
       ]
      },
      {
       "output_type": "stream",
       "stream": "stderr",
       "text": [
        "  9.17s DETAIL: load main: F.shebanq_ft_vs [node] \n"
       ]
      },
      {
       "output_type": "stream",
       "stream": "stderr",
       "text": [
        "  9.37s DETAIL: load main: F.shebanq_ft_vt [node] \n"
       ]
      },
      {
       "output_type": "stream",
       "stream": "stderr",
       "text": [
        "  9.58s DETAIL: load main: F.shebanq_sft_book [node] \n"
       ]
      },
      {
       "output_type": "stream",
       "stream": "stderr",
       "text": [
        "  9.61s DETAIL: load main: F.shebanq_sft_chapter [node] \n"
       ]
      },
      {
       "output_type": "stream",
       "stream": "stderr",
       "text": [
        "  9.62s DETAIL: load main: F.shebanq_sft_half_verse [node] \n"
       ]
      },
      {
       "output_type": "stream",
       "stream": "stderr",
       "text": [
        "  9.64s DETAIL: load main: F.shebanq_sft_label [node] \n"
       ]
      },
      {
       "output_type": "stream",
       "stream": "stderr",
       "text": [
        "  9.67s DETAIL: load main: F.shebanq_sft_verse [node] \n"
       ]
      },
      {
       "output_type": "stream",
       "stream": "stderr",
       "text": [
        "  9.68s DETAIL: load main: F.shebanq_distributional_parent_ [e] \n"
       ]
      },
      {
       "output_type": "stream",
       "stream": "stderr",
       "text": [
        "  9.90s DETAIL: load main: F.shebanq_functional_parent_ [e] \n"
       ]
      },
      {
       "output_type": "stream",
       "stream": "stderr",
       "text": [
        "    10s DETAIL: load main: F.shebanq_mother_ [e] \n"
       ]
      },
      {
       "output_type": "stream",
       "stream": "stderr",
       "text": [
        "    10s DETAIL: load main: C.shebanq_distributional_parent_ -> \n"
       ]
      },
      {
       "output_type": "stream",
       "stream": "stderr",
       "text": [
        "    11s DETAIL: load main: C.shebanq_functional_parent_ -> \n"
       ]
      },
      {
       "output_type": "stream",
       "stream": "stderr",
       "text": [
        "    12s DETAIL: load main: C.shebanq_mother_ -> \n"
       ]
      },
      {
       "output_type": "stream",
       "stream": "stderr",
       "text": [
        "    12s DETAIL: load main: C.shebanq_distributional_parent_ <- \n"
       ]
      },
      {
       "output_type": "stream",
       "stream": "stderr",
       "text": [
        "    13s DETAIL: load main: C.shebanq_functional_parent_ <- \n"
       ]
      },
      {
       "output_type": "stream",
       "stream": "stderr",
       "text": [
        "    13s DETAIL: load main: C.shebanq_mother_ <- \n"
       ]
      },
      {
       "output_type": "stream",
       "stream": "stderr",
       "text": [
        "    13s LOGFILE=/Users/dirk/laf-fabric-output/bhs4/feature-doc/__log__feature-doc.txt\n"
       ]
      },
      {
       "output_type": "stream",
       "stream": "stderr",
       "text": [
        "    13s INFO: DATA LOADED FROM SOURCE bhs4 AND ANNOX -- FOR TASK feature-doc\n"
       ]
      }
     ],
     "prompt_number": 2
    },
    {
     "cell_type": "code",
     "collapsed": false,
     "input": [
      "API = fabric.load('calap', '--', 'feature-doc', {\n",
      "    \"xmlids\": {\"node\": False, \"edge\": False},\n",
      "    \"features\": (\"\",\"\"),\n",
      "    \"primary\": False,\n",
      "})\n",
      "\n",
      "doc = FeatureDoc(fabric, {\n",
      "    'features': {\n",
      "        'node': '''\n",
      "            gender\n",
      "            tense\n",
      "            psp\n",
      "            phrase_function\n",
      "            phrase_type\n",
      "            surface_consonants\n",
      "        ''',\n",
      "        'edge': '',\n",
      "    },\n",
      "    'absence_values': set((\n",
      "        'none',\n",
      "        'unknown',\n",
      "        'Unkn',\n",
      "    )),\n",
      "    'VALUE_THRESHOLD': 50,\n",
      "    'vlabel': 'verse_label',\n",
      "})\n",
      "\n",
      "exec(fabric.localnames.format(var='fabric'))"
     ],
     "language": "python",
     "metadata": {},
     "outputs": [
      {
       "output_type": "stream",
       "stream": "stderr",
       "text": [
        "  0.00s LOADING API: please wait ... \n"
       ]
      },
      {
       "output_type": "stream",
       "stream": "stderr",
       "text": [
        "  0.01s INFO: DATA COMPILED AT: 2014-05-06T14-03-13\n"
       ]
      },
      {
       "output_type": "stream",
       "stream": "stderr",
       "text": [
        "  0.16s LOGFILE=/Users/dirk/laf-fabric-data/calap/tasks/feature-doc/__log__feature-doc.txt\n"
       ]
      },
      {
       "output_type": "stream",
       "stream": "stderr",
       "text": [
        "  0.16s INFO: DATA LOADED FROM SOURCE calap AND ANNOX -- FOR TASK feature-doc\n"
       ]
      },
      {
       "output_type": "stream",
       "stream": "stderr",
       "text": [
        "  0.00s LOADING API: please wait ... \n"
       ]
      },
      {
       "output_type": "stream",
       "stream": "stderr",
       "text": [
        "  0.00s INFO: DATA COMPILED AT: 2014-05-06T14-03-13\n"
       ]
      },
      {
       "output_type": "stream",
       "stream": "stderr",
       "text": [
        "  0.22s LOGFILE=/Users/dirk/laf-fabric-data/calap/tasks/feature-doc/__log__feature-doc.txt\n"
       ]
      },
      {
       "output_type": "stream",
       "stream": "stderr",
       "text": [
        "  0.22s INFO: DATA LOADED FROM SOURCE calap AND ANNOX -- FOR TASK feature-doc\n"
       ]
      }
     ],
     "prompt_number": 9
    },
    {
     "cell_type": "markdown",
     "metadata": {},
     "source": [
      "If you want to know the set of available features, you can inspect it by:"
     ]
    },
    {
     "cell_type": "code",
     "collapsed": false,
     "input": [
      "(API['F_all'], API['FE_all'])"
     ],
     "language": "python",
     "metadata": {},
     "outputs": [
      {
       "metadata": {},
       "output_type": "pyout",
       "prompt_number": 3,
       "text": [
        "([('shebanq',\n",
        "   ['db.maxmonad',\n",
        "    'db.minmonad',\n",
        "    'db.monads',\n",
        "    'db.oid',\n",
        "    'db.otype',\n",
        "    'ft.clause_kind',\n",
        "    'ft.code',\n",
        "    'ft.det',\n",
        "    'ft.dist',\n",
        "    'ft.dist_unit',\n",
        "    'ft.domain',\n",
        "    'ft.function',\n",
        "    'ft.g_cons',\n",
        "    'ft.g_cons_utf8',\n",
        "    'ft.g_lex',\n",
        "    'ft.g_lex_utf8',\n",
        "    'ft.g_nme',\n",
        "    'ft.g_nme_utf8',\n",
        "    'ft.g_pfm',\n",
        "    'ft.g_pfm_utf8',\n",
        "    'ft.g_prs',\n",
        "    'ft.g_prs_utf8',\n",
        "    'ft.g_uvf',\n",
        "    'ft.g_uvf_utf8',\n",
        "    'ft.g_vbe',\n",
        "    'ft.g_vbe_utf8',\n",
        "    'ft.g_vbs',\n",
        "    'ft.g_vbs_utf8',\n",
        "    'ft.g_word',\n",
        "    'ft.g_word_utf8',\n",
        "    'ft.gn',\n",
        "    'ft.is_root',\n",
        "    'ft.language',\n",
        "    'ft.lex',\n",
        "    'ft.lex_utf8',\n",
        "    'ft.ls',\n",
        "    'ft.mother_object_type',\n",
        "    'ft.nme',\n",
        "    'ft.nu',\n",
        "    'ft.number',\n",
        "    'ft.pdp',\n",
        "    'ft.pfm',\n",
        "    'ft.prs',\n",
        "    'ft.ps',\n",
        "    'ft.rela',\n",
        "    'ft.sp',\n",
        "    'ft.st',\n",
        "    'ft.tab',\n",
        "    'ft.txt',\n",
        "    'ft.typ',\n",
        "    'ft.uvf',\n",
        "    'ft.vbe',\n",
        "    'ft.vbs',\n",
        "    'ft.vs',\n",
        "    'ft.vt',\n",
        "    'sft.book',\n",
        "    'sft.chapter',\n",
        "    'sft.half_verse',\n",
        "    'sft.label',\n",
        "    'sft.verse'])],\n",
        " [('laf', [('', 'x'), ('', 'y')]),\n",
        "  ('shebanq', ['distributional_parent.', 'functional_parent.', 'mother.'])])"
       ]
      }
     ],
     "prompt_number": 3
    },
    {
     "cell_type": "markdown",
     "metadata": {},
     "source": [
      "Now generate files with feature data. \n",
      "For each selected feature, you get a list with values, with for each value its number of occurrences.\n",
      "The values are divided into two sets: *defined values* and *absence values*.\n",
      "The latter are values such as ``none``, ``unknown``. You have to provide these values yourself by adapting the ``absence_values`` list in the study specification above."
     ]
    },
    {
     "cell_type": "code",
     "collapsed": true,
     "input": [
      "doc.feature_doc()"
     ],
     "language": "python",
     "metadata": {},
     "outputs": [
      {
       "output_type": "stream",
       "stream": "stderr",
       "text": [
        "    27s Looking up feature values ... \n"
       ]
      },
      {
       "output_type": "stream",
       "stream": "stderr",
       "text": [
        "    35s  100000 nodes done\n"
       ]
      },
      {
       "output_type": "stream",
       "stream": "stderr",
       "text": [
        "    44s  200000 nodes done\n"
       ]
      },
      {
       "output_type": "stream",
       "stream": "stderr",
       "text": [
        "    53s  300000 nodes done\n"
       ]
      },
      {
       "output_type": "stream",
       "stream": "stderr",
       "text": [
        " 1m 01s  400000 nodes done\n"
       ]
      },
      {
       "output_type": "stream",
       "stream": "stderr",
       "text": [
        " 1m 09s  500000 nodes done\n"
       ]
      },
      {
       "output_type": "stream",
       "stream": "stderr",
       "text": [
        " 1m 18s  600000 nodes done\n"
       ]
      },
      {
       "output_type": "stream",
       "stream": "stderr",
       "text": [
        " 1m 26s  700000 nodes done\n"
       ]
      },
      {
       "output_type": "stream",
       "stream": "stderr",
       "text": [
        " 1m 34s  800000 nodes done\n"
       ]
      },
      {
       "output_type": "stream",
       "stream": "stderr",
       "text": [
        " 1m 42s  900000 nodes done\n"
       ]
      },
      {
       "output_type": "stream",
       "stream": "stderr",
       "text": [
        " 1m 50s 1000000 nodes done\n"
       ]
      },
      {
       "output_type": "stream",
       "stream": "stderr",
       "text": [
        " 1m 58s 1100000 nodes done\n"
       ]
      },
      {
       "output_type": "stream",
       "stream": "stderr",
       "text": [
        " 2m 06s 1200000 nodes done\n"
       ]
      },
      {
       "output_type": "stream",
       "stream": "stderr",
       "text": [
        " 2m 14s 1300000 nodes done\n"
       ]
      },
      {
       "output_type": "stream",
       "stream": "stderr",
       "text": [
        " 2m 23s 1400000 nodes done\n"
       ]
      },
      {
       "output_type": "stream",
       "stream": "stderr",
       "text": [
        " 2m 26s 1443104 nodes done\n"
       ]
      },
      {
       "output_type": "stream",
       "stream": "stderr",
       "text": [
        " 2m 27s  100000 edges done\n"
       ]
      },
      {
       "output_type": "stream",
       "stream": "stderr",
       "text": [
        " 2m 27s  200000 edges done\n"
       ]
      },
      {
       "output_type": "stream",
       "stream": "stderr",
       "text": [
        " 2m 28s  300000 edges done\n"
       ]
      },
      {
       "output_type": "stream",
       "stream": "stderr",
       "text": [
        " 2m 28s  400000 edges done\n"
       ]
      },
      {
       "output_type": "stream",
       "stream": "stderr",
       "text": [
        " 2m 29s  500000 edges done\n"
       ]
      },
      {
       "output_type": "stream",
       "stream": "stderr",
       "text": [
        " 2m 30s  600000 edges done\n"
       ]
      },
      {
       "output_type": "stream",
       "stream": "stderr",
       "text": [
        " 2m 30s  700000 edges done\n"
       ]
      },
      {
       "output_type": "stream",
       "stream": "stderr",
       "text": [
        " 2m 31s  800000 edges done\n"
       ]
      },
      {
       "output_type": "stream",
       "stream": "stderr",
       "text": [
        " 2m 32s  900000 edges done\n"
       ]
      },
      {
       "output_type": "stream",
       "stream": "stderr",
       "text": [
        " 2m 32s 1000000 edges done\n"
       ]
      },
      {
       "output_type": "stream",
       "stream": "stderr",
       "text": [
        " 2m 33s 1100000 edges done\n"
       ]
      },
      {
       "output_type": "stream",
       "stream": "stderr",
       "text": [
        " 2m 34s 1200000 edges done\n"
       ]
      },
      {
       "output_type": "stream",
       "stream": "stderr",
       "text": [
        " 2m 34s 1300000 edges done\n"
       ]
      },
      {
       "output_type": "stream",
       "stream": "stderr",
       "text": [
        " 2m 35s 1400000 edges done\n"
       ]
      },
      {
       "output_type": "stream",
       "stream": "stderr",
       "text": [
        " 2m 35s 1500000 edges done\n"
       ]
      },
      {
       "output_type": "stream",
       "stream": "stderr",
       "text": [
        " 2m 36s 1600000 edges done\n"
       ]
      },
      {
       "output_type": "stream",
       "stream": "stderr",
       "text": [
        " 2m 37s 1700000 edges done\n"
       ]
      },
      {
       "output_type": "stream",
       "stream": "stderr",
       "text": [
        " 2m 37s 1800000 edges done\n"
       ]
      },
      {
       "output_type": "stream",
       "stream": "stderr",
       "text": [
        " 2m 38s 1900000 edges done\n"
       ]
      },
      {
       "output_type": "stream",
       "stream": "stderr",
       "text": [
        " 2m 39s 2000000 edges done\n"
       ]
      },
      {
       "output_type": "stream",
       "stream": "stderr",
       "text": [
        " 2m 39s 2100000 edges done\n"
       ]
      },
      {
       "output_type": "stream",
       "stream": "stderr",
       "text": [
        " 2m 40s 2200000 edges done\n"
       ]
      },
      {
       "output_type": "stream",
       "stream": "stderr",
       "text": [
        " 2m 40s 2225554 edges done\n"
       ]
      },
      {
       "output_type": "stream",
       "stream": "stderr",
       "text": [
        " 2m 40s Computing results ...\n"
       ]
      },
      {
       "output_type": "stream",
       "stream": "stderr",
       "text": [
        " 2m 43s Done\n"
       ]
      }
     ],
     "prompt_number": 3
    },
    {
     "cell_type": "markdown",
     "metadata": {},
     "source": [
      "There is also a summary file.\n",
      "\n",
      "For each feature it has the following columns:\n",
      "\n",
      "**Feature** name of the feature\n",
      "**val (-)**, **val (+)** value of the feature; **val (-)** contains absence values, **val (+)** contains defined values.\n",
      "**#vals** number of distinct values of this feature, split between the absence values and the defined values\n",
      "**occs** number of occurrences of this value or this feature\n",
      "**clause**, **phrase**, etc: how often the feature occurs on which type of node."
     ]
    },
    {
     "cell_type": "code",
     "collapsed": true,
     "input": [
      "dfn = pandas.read_csv(my_file('0_summary_node.csv'),sep='\\t', na_filter=False)\n",
      "dfe = pandas.read_csv(my_file('0_summary_edge.csv'),sep='\\t', na_filter=False)"
     ],
     "language": "python",
     "metadata": {},
     "outputs": [
      {
       "ename": "CParserError",
       "evalue": "Error tokenizing data. C error: Expected 24 fields in line 3, saw 45\n",
       "output_type": "pyerr",
       "traceback": [
        "\u001b[0;31m---------------------------------------------------------------------------\u001b[0m\n\u001b[0;31mCParserError\u001b[0m                              Traceback (most recent call last)",
        "\u001b[0;32m<ipython-input-5-6d2f38ed4e76>\u001b[0m in \u001b[0;36m<module>\u001b[0;34m()\u001b[0m\n\u001b[1;32m      1\u001b[0m \u001b[0mdfn\u001b[0m \u001b[0;34m=\u001b[0m \u001b[0mpandas\u001b[0m\u001b[0;34m.\u001b[0m\u001b[0mread_csv\u001b[0m\u001b[0;34m(\u001b[0m\u001b[0mmy_file\u001b[0m\u001b[0;34m(\u001b[0m\u001b[0;34m'node summary.csv'\u001b[0m\u001b[0;34m)\u001b[0m\u001b[0;34m,\u001b[0m\u001b[0msep\u001b[0m\u001b[0;34m=\u001b[0m\u001b[0;34m'\\t'\u001b[0m\u001b[0;34m,\u001b[0m \u001b[0mna_filter\u001b[0m\u001b[0;34m=\u001b[0m\u001b[0;32mFalse\u001b[0m\u001b[0;34m)\u001b[0m\u001b[0;34m\u001b[0m\u001b[0m\n\u001b[0;32m----> 2\u001b[0;31m \u001b[0mdfe\u001b[0m \u001b[0;34m=\u001b[0m \u001b[0mpandas\u001b[0m\u001b[0;34m.\u001b[0m\u001b[0mread_csv\u001b[0m\u001b[0;34m(\u001b[0m\u001b[0mmy_file\u001b[0m\u001b[0;34m(\u001b[0m\u001b[0;34m'edge summary.csv'\u001b[0m\u001b[0;34m)\u001b[0m\u001b[0;34m,\u001b[0m\u001b[0msep\u001b[0m\u001b[0;34m=\u001b[0m\u001b[0;34m'\\t'\u001b[0m\u001b[0;34m,\u001b[0m \u001b[0mna_filter\u001b[0m\u001b[0;34m=\u001b[0m\u001b[0;32mFalse\u001b[0m\u001b[0;34m)\u001b[0m\u001b[0;34m\u001b[0m\u001b[0m\n\u001b[0m",
        "\u001b[0;32m/Library/Frameworks/Python.framework/Versions/3.4/lib/python3.4/site-packages/pandas/io/parsers.py\u001b[0m in \u001b[0;36mparser_f\u001b[0;34m(filepath_or_buffer, sep, dialect, compression, doublequote, escapechar, quotechar, quoting, skipinitialspace, lineterminator, header, index_col, names, prefix, skiprows, skipfooter, skip_footer, na_values, na_fvalues, true_values, false_values, delimiter, converters, dtype, usecols, engine, delim_whitespace, as_recarray, na_filter, compact_ints, use_unsigned, low_memory, buffer_lines, warn_bad_lines, error_bad_lines, keep_default_na, thousands, comment, decimal, parse_dates, keep_date_col, dayfirst, date_parser, memory_map, nrows, iterator, chunksize, verbose, encoding, squeeze, mangle_dupe_cols, tupleize_cols, infer_datetime_format)\u001b[0m\n\u001b[1;32m    418\u001b[0m                     infer_datetime_format=infer_datetime_format)\n\u001b[1;32m    419\u001b[0m \u001b[0;34m\u001b[0m\u001b[0m\n\u001b[0;32m--> 420\u001b[0;31m         \u001b[0;32mreturn\u001b[0m \u001b[0m_read\u001b[0m\u001b[0;34m(\u001b[0m\u001b[0mfilepath_or_buffer\u001b[0m\u001b[0;34m,\u001b[0m \u001b[0mkwds\u001b[0m\u001b[0;34m)\u001b[0m\u001b[0;34m\u001b[0m\u001b[0m\n\u001b[0m\u001b[1;32m    421\u001b[0m \u001b[0;34m\u001b[0m\u001b[0m\n\u001b[1;32m    422\u001b[0m     \u001b[0mparser_f\u001b[0m\u001b[0;34m.\u001b[0m\u001b[0m__name__\u001b[0m \u001b[0;34m=\u001b[0m \u001b[0mname\u001b[0m\u001b[0;34m\u001b[0m\u001b[0m\n",
        "\u001b[0;32m/Library/Frameworks/Python.framework/Versions/3.4/lib/python3.4/site-packages/pandas/io/parsers.py\u001b[0m in \u001b[0;36m_read\u001b[0;34m(filepath_or_buffer, kwds)\u001b[0m\n\u001b[1;32m    223\u001b[0m         \u001b[0;32mreturn\u001b[0m \u001b[0mparser\u001b[0m\u001b[0;34m\u001b[0m\u001b[0m\n\u001b[1;32m    224\u001b[0m \u001b[0;34m\u001b[0m\u001b[0m\n\u001b[0;32m--> 225\u001b[0;31m     \u001b[0;32mreturn\u001b[0m \u001b[0mparser\u001b[0m\u001b[0;34m.\u001b[0m\u001b[0mread\u001b[0m\u001b[0;34m(\u001b[0m\u001b[0;34m)\u001b[0m\u001b[0;34m\u001b[0m\u001b[0m\n\u001b[0m\u001b[1;32m    226\u001b[0m \u001b[0;34m\u001b[0m\u001b[0m\n\u001b[1;32m    227\u001b[0m _parser_defaults = {\n",
        "\u001b[0;32m/Library/Frameworks/Python.framework/Versions/3.4/lib/python3.4/site-packages/pandas/io/parsers.py\u001b[0m in \u001b[0;36mread\u001b[0;34m(self, nrows)\u001b[0m\n\u001b[1;32m    624\u001b[0m                 \u001b[0;32mraise\u001b[0m \u001b[0mValueError\u001b[0m\u001b[0;34m(\u001b[0m\u001b[0;34m'skip_footer not supported for iteration'\u001b[0m\u001b[0;34m)\u001b[0m\u001b[0;34m\u001b[0m\u001b[0m\n\u001b[1;32m    625\u001b[0m \u001b[0;34m\u001b[0m\u001b[0m\n\u001b[0;32m--> 626\u001b[0;31m         \u001b[0mret\u001b[0m \u001b[0;34m=\u001b[0m \u001b[0mself\u001b[0m\u001b[0;34m.\u001b[0m\u001b[0m_engine\u001b[0m\u001b[0;34m.\u001b[0m\u001b[0mread\u001b[0m\u001b[0;34m(\u001b[0m\u001b[0mnrows\u001b[0m\u001b[0;34m)\u001b[0m\u001b[0;34m\u001b[0m\u001b[0m\n\u001b[0m\u001b[1;32m    627\u001b[0m \u001b[0;34m\u001b[0m\u001b[0m\n\u001b[1;32m    628\u001b[0m         \u001b[0;32mif\u001b[0m \u001b[0mself\u001b[0m\u001b[0;34m.\u001b[0m\u001b[0moptions\u001b[0m\u001b[0;34m.\u001b[0m\u001b[0mget\u001b[0m\u001b[0;34m(\u001b[0m\u001b[0;34m'as_recarray'\u001b[0m\u001b[0;34m)\u001b[0m\u001b[0;34m:\u001b[0m\u001b[0;34m\u001b[0m\u001b[0m\n",
        "\u001b[0;32m/Library/Frameworks/Python.framework/Versions/3.4/lib/python3.4/site-packages/pandas/io/parsers.py\u001b[0m in \u001b[0;36mread\u001b[0;34m(self, nrows)\u001b[0m\n\u001b[1;32m   1068\u001b[0m \u001b[0;34m\u001b[0m\u001b[0m\n\u001b[1;32m   1069\u001b[0m         \u001b[0;32mtry\u001b[0m\u001b[0;34m:\u001b[0m\u001b[0;34m\u001b[0m\u001b[0m\n\u001b[0;32m-> 1070\u001b[0;31m             \u001b[0mdata\u001b[0m \u001b[0;34m=\u001b[0m \u001b[0mself\u001b[0m\u001b[0;34m.\u001b[0m\u001b[0m_reader\u001b[0m\u001b[0;34m.\u001b[0m\u001b[0mread\u001b[0m\u001b[0;34m(\u001b[0m\u001b[0mnrows\u001b[0m\u001b[0;34m)\u001b[0m\u001b[0;34m\u001b[0m\u001b[0m\n\u001b[0m\u001b[1;32m   1071\u001b[0m         \u001b[0;32mexcept\u001b[0m \u001b[0mStopIteration\u001b[0m\u001b[0;34m:\u001b[0m\u001b[0;34m\u001b[0m\u001b[0m\n\u001b[1;32m   1072\u001b[0m             \u001b[0;32mif\u001b[0m \u001b[0mnrows\u001b[0m \u001b[0;32mis\u001b[0m \u001b[0;32mNone\u001b[0m\u001b[0;34m:\u001b[0m\u001b[0;34m\u001b[0m\u001b[0m\n",
        "\u001b[0;32m/Library/Frameworks/Python.framework/Versions/3.4/lib/python3.4/site-packages/pandas/parser.so\u001b[0m in \u001b[0;36mpandas.parser.TextReader.read (pandas/parser.c:6866)\u001b[0;34m()\u001b[0m\n",
        "\u001b[0;32m/Library/Frameworks/Python.framework/Versions/3.4/lib/python3.4/site-packages/pandas/parser.so\u001b[0m in \u001b[0;36mpandas.parser.TextReader._read_low_memory (pandas/parser.c:7086)\u001b[0;34m()\u001b[0m\n",
        "\u001b[0;32m/Library/Frameworks/Python.framework/Versions/3.4/lib/python3.4/site-packages/pandas/parser.so\u001b[0m in \u001b[0;36mpandas.parser.TextReader._read_rows (pandas/parser.c:7691)\u001b[0;34m()\u001b[0m\n",
        "\u001b[0;32m/Library/Frameworks/Python.framework/Versions/3.4/lib/python3.4/site-packages/pandas/parser.so\u001b[0m in \u001b[0;36mpandas.parser.TextReader._tokenize_rows (pandas/parser.c:7575)\u001b[0;34m()\u001b[0m\n",
        "\u001b[0;32m/Library/Frameworks/Python.framework/Versions/3.4/lib/python3.4/site-packages/pandas/parser.so\u001b[0m in \u001b[0;36mpandas.parser.raise_parser_error (pandas/parser.c:19038)\u001b[0;34m()\u001b[0m\n",
        "\u001b[0;31mCParserError\u001b[0m: Error tokenizing data. C error: Expected 24 fields in line 3, saw 45\n"
       ]
      }
     ],
     "prompt_number": 5
    },
    {
     "cell_type": "code",
     "collapsed": false,
     "input": [
      "dfn"
     ],
     "language": "python",
     "metadata": {},
     "outputs": [
      {
       "html": [
        "<div style=\"max-height:1000px;max-width:1500px;overflow:auto;\">\n",
        "<table border=\"1\" class=\"dataframe\">\n",
        "  <thead>\n",
        "    <tr style=\"text-align: right;\">\n",
        "      <th></th>\n",
        "      <th>Feature</th>\n",
        "      <th>val (-)</th>\n",
        "      <th>val (+)</th>\n",
        "      <th>#vals (-)</th>\n",
        "      <th>#vals (+)</th>\n",
        "      <th>occs (-)</th>\n",
        "      <th>occs (+)</th>\n",
        "      <th>clause (-)</th>\n",
        "      <th>clause (+)</th>\n",
        "      <th>clause_atom (-)</th>\n",
        "      <th>clause_atom (+)</th>\n",
        "      <th>phrase (-)</th>\n",
        "      <th>phrase (+)</th>\n",
        "      <th>phrase_atom (-)</th>\n",
        "      <th>phrase_atom (+)</th>\n",
        "      <th>sentence (-)</th>\n",
        "      <th>sentence (+)</th>\n",
        "      <th>sentence_atom (-)</th>\n",
        "      <th>sentence_atom (+)</th>\n",
        "      <th>subphrase (-)</th>\n",
        "      <th></th>\n",
        "    </tr>\n",
        "  </thead>\n",
        "  <tbody>\n",
        "    <tr>\n",
        "      <th>0 </th>\n",
        "      <td> clause_kind</td>\n",
        "      <td> </td>\n",
        "      <td>         </td>\n",
        "      <td> 0</td>\n",
        "      <td>   3</td>\n",
        "      <td> 0</td>\n",
        "      <td>  88130</td>\n",
        "      <td> 0</td>\n",
        "      <td> 88130</td>\n",
        "      <td> 0</td>\n",
        "      <td>     0</td>\n",
        "      <td> 0</td>\n",
        "      <td>      0</td>\n",
        "      <td> 0</td>\n",
        "      <td>      0</td>\n",
        "      <td> 0</td>\n",
        "      <td> 0</td>\n",
        "      <td> 0</td>\n",
        "      <td> 0</td>\n",
        "      <td> 0</td>\n",
        "      <td>...</td>\n",
        "    </tr>\n",
        "    <tr>\n",
        "      <th>1 </th>\n",
        "      <td>            </td>\n",
        "      <td> </td>\n",
        "      <td>       VC</td>\n",
        "      <td>  </td>\n",
        "      <td>    </td>\n",
        "      <td>  </td>\n",
        "      <td>  68340</td>\n",
        "      <td>  </td>\n",
        "      <td>      </td>\n",
        "      <td>  </td>\n",
        "      <td>      </td>\n",
        "      <td>  </td>\n",
        "      <td>       </td>\n",
        "      <td>  </td>\n",
        "      <td>       </td>\n",
        "      <td>  </td>\n",
        "      <td>  </td>\n",
        "      <td>  </td>\n",
        "      <td>  </td>\n",
        "      <td>  </td>\n",
        "      <td>...</td>\n",
        "    </tr>\n",
        "    <tr>\n",
        "      <th>2 </th>\n",
        "      <td>            </td>\n",
        "      <td> </td>\n",
        "      <td>       NC</td>\n",
        "      <td>  </td>\n",
        "      <td>    </td>\n",
        "      <td>  </td>\n",
        "      <td>  13793</td>\n",
        "      <td>  </td>\n",
        "      <td>      </td>\n",
        "      <td>  </td>\n",
        "      <td>      </td>\n",
        "      <td>  </td>\n",
        "      <td>       </td>\n",
        "      <td>  </td>\n",
        "      <td>       </td>\n",
        "      <td>  </td>\n",
        "      <td>  </td>\n",
        "      <td>  </td>\n",
        "      <td>  </td>\n",
        "      <td>  </td>\n",
        "      <td>...</td>\n",
        "    </tr>\n",
        "    <tr>\n",
        "      <th>3 </th>\n",
        "      <td>            </td>\n",
        "      <td> </td>\n",
        "      <td>       WP</td>\n",
        "      <td>  </td>\n",
        "      <td>    </td>\n",
        "      <td>  </td>\n",
        "      <td>   5997</td>\n",
        "      <td>  </td>\n",
        "      <td>      </td>\n",
        "      <td>  </td>\n",
        "      <td>      </td>\n",
        "      <td>  </td>\n",
        "      <td>       </td>\n",
        "      <td>  </td>\n",
        "      <td>       </td>\n",
        "      <td>  </td>\n",
        "      <td>  </td>\n",
        "      <td>  </td>\n",
        "      <td>  </td>\n",
        "      <td>  </td>\n",
        "      <td>...</td>\n",
        "    </tr>\n",
        "    <tr>\n",
        "      <th>4 </th>\n",
        "      <td>        code</td>\n",
        "      <td> </td>\n",
        "      <td>         </td>\n",
        "      <td> 0</td>\n",
        "      <td> 303</td>\n",
        "      <td> 0</td>\n",
        "      <td>  90209</td>\n",
        "      <td> 0</td>\n",
        "      <td>     0</td>\n",
        "      <td> 0</td>\n",
        "      <td> 90209</td>\n",
        "      <td> 0</td>\n",
        "      <td>      0</td>\n",
        "      <td> 0</td>\n",
        "      <td>      0</td>\n",
        "      <td> 0</td>\n",
        "      <td> 0</td>\n",
        "      <td> 0</td>\n",
        "      <td> 0</td>\n",
        "      <td> 0</td>\n",
        "      <td>...</td>\n",
        "    </tr>\n",
        "    <tr>\n",
        "      <th>5 </th>\n",
        "      <td>            </td>\n",
        "      <td> </td>\n",
        "      <td>      200</td>\n",
        "      <td>  </td>\n",
        "      <td>    </td>\n",
        "      <td>  </td>\n",
        "      <td>  11453</td>\n",
        "      <td>  </td>\n",
        "      <td>      </td>\n",
        "      <td>  </td>\n",
        "      <td>      </td>\n",
        "      <td>  </td>\n",
        "      <td>       </td>\n",
        "      <td>  </td>\n",
        "      <td>       </td>\n",
        "      <td>  </td>\n",
        "      <td>  </td>\n",
        "      <td>  </td>\n",
        "      <td>  </td>\n",
        "      <td>  </td>\n",
        "      <td>...</td>\n",
        "    </tr>\n",
        "    <tr>\n",
        "      <th>6 </th>\n",
        "      <td>            </td>\n",
        "      <td> </td>\n",
        "      <td>      477</td>\n",
        "      <td>  </td>\n",
        "      <td>    </td>\n",
        "      <td>  </td>\n",
        "      <td>   5645</td>\n",
        "      <td>  </td>\n",
        "      <td>      </td>\n",
        "      <td>  </td>\n",
        "      <td>      </td>\n",
        "      <td>  </td>\n",
        "      <td>       </td>\n",
        "      <td>  </td>\n",
        "      <td>       </td>\n",
        "      <td>  </td>\n",
        "      <td>  </td>\n",
        "      <td>  </td>\n",
        "      <td>  </td>\n",
        "      <td>  </td>\n",
        "      <td>...</td>\n",
        "    </tr>\n",
        "    <tr>\n",
        "      <th>7 </th>\n",
        "      <td>            </td>\n",
        "      <td> </td>\n",
        "      <td>      999</td>\n",
        "      <td>  </td>\n",
        "      <td>    </td>\n",
        "      <td>  </td>\n",
        "      <td>   4733</td>\n",
        "      <td>  </td>\n",
        "      <td>      </td>\n",
        "      <td>  </td>\n",
        "      <td>      </td>\n",
        "      <td>  </td>\n",
        "      <td>       </td>\n",
        "      <td>  </td>\n",
        "      <td>       </td>\n",
        "      <td>  </td>\n",
        "      <td>  </td>\n",
        "      <td>  </td>\n",
        "      <td>  </td>\n",
        "      <td>  </td>\n",
        "      <td>...</td>\n",
        "    </tr>\n",
        "    <tr>\n",
        "      <th>8 </th>\n",
        "      <td>            </td>\n",
        "      <td> </td>\n",
        "      <td>       64</td>\n",
        "      <td>  </td>\n",
        "      <td>    </td>\n",
        "      <td>  </td>\n",
        "      <td>   4340</td>\n",
        "      <td>  </td>\n",
        "      <td>      </td>\n",
        "      <td>  </td>\n",
        "      <td>      </td>\n",
        "      <td>  </td>\n",
        "      <td>       </td>\n",
        "      <td>  </td>\n",
        "      <td>       </td>\n",
        "      <td>  </td>\n",
        "      <td>  </td>\n",
        "      <td>  </td>\n",
        "      <td>  </td>\n",
        "      <td>  </td>\n",
        "      <td>...</td>\n",
        "    </tr>\n",
        "    <tr>\n",
        "      <th>9 </th>\n",
        "      <td>            </td>\n",
        "      <td> </td>\n",
        "      <td>      100</td>\n",
        "      <td>  </td>\n",
        "      <td>    </td>\n",
        "      <td>  </td>\n",
        "      <td>   3542</td>\n",
        "      <td>  </td>\n",
        "      <td>      </td>\n",
        "      <td>  </td>\n",
        "      <td>      </td>\n",
        "      <td>  </td>\n",
        "      <td>       </td>\n",
        "      <td>  </td>\n",
        "      <td>       </td>\n",
        "      <td>  </td>\n",
        "      <td>  </td>\n",
        "      <td>  </td>\n",
        "      <td>  </td>\n",
        "      <td>  </td>\n",
        "      <td>...</td>\n",
        "    </tr>\n",
        "    <tr>\n",
        "      <th>10</th>\n",
        "      <td>            </td>\n",
        "      <td> </td>\n",
        "      <td>      422</td>\n",
        "      <td>  </td>\n",
        "      <td>    </td>\n",
        "      <td>  </td>\n",
        "      <td>   3052</td>\n",
        "      <td>  </td>\n",
        "      <td>      </td>\n",
        "      <td>  </td>\n",
        "      <td>      </td>\n",
        "      <td>  </td>\n",
        "      <td>       </td>\n",
        "      <td>  </td>\n",
        "      <td>       </td>\n",
        "      <td>  </td>\n",
        "      <td>  </td>\n",
        "      <td>  </td>\n",
        "      <td>  </td>\n",
        "      <td>  </td>\n",
        "      <td>...</td>\n",
        "    </tr>\n",
        "    <tr>\n",
        "      <th>11</th>\n",
        "      <td>            </td>\n",
        "      <td> </td>\n",
        "      <td>       12</td>\n",
        "      <td>  </td>\n",
        "      <td>    </td>\n",
        "      <td>  </td>\n",
        "      <td>   2488</td>\n",
        "      <td>  </td>\n",
        "      <td>      </td>\n",
        "      <td>  </td>\n",
        "      <td>      </td>\n",
        "      <td>  </td>\n",
        "      <td>       </td>\n",
        "      <td>  </td>\n",
        "      <td>       </td>\n",
        "      <td>  </td>\n",
        "      <td>  </td>\n",
        "      <td>  </td>\n",
        "      <td>  </td>\n",
        "      <td>  </td>\n",
        "      <td>...</td>\n",
        "    </tr>\n",
        "    <tr>\n",
        "      <th>12</th>\n",
        "      <td>            </td>\n",
        "      <td> </td>\n",
        "      <td>      111</td>\n",
        "      <td>  </td>\n",
        "      <td>    </td>\n",
        "      <td>  </td>\n",
        "      <td>   2349</td>\n",
        "      <td>  </td>\n",
        "      <td>      </td>\n",
        "      <td>  </td>\n",
        "      <td>      </td>\n",
        "      <td>  </td>\n",
        "      <td>       </td>\n",
        "      <td>  </td>\n",
        "      <td>       </td>\n",
        "      <td>  </td>\n",
        "      <td>  </td>\n",
        "      <td>  </td>\n",
        "      <td>  </td>\n",
        "      <td>  </td>\n",
        "      <td>...</td>\n",
        "    </tr>\n",
        "    <tr>\n",
        "      <th>13</th>\n",
        "      <td>            </td>\n",
        "      <td> </td>\n",
        "      <td>      411</td>\n",
        "      <td>  </td>\n",
        "      <td>    </td>\n",
        "      <td>  </td>\n",
        "      <td>   2295</td>\n",
        "      <td>  </td>\n",
        "      <td>      </td>\n",
        "      <td>  </td>\n",
        "      <td>      </td>\n",
        "      <td>  </td>\n",
        "      <td>       </td>\n",
        "      <td>  </td>\n",
        "      <td>       </td>\n",
        "      <td>  </td>\n",
        "      <td>  </td>\n",
        "      <td>  </td>\n",
        "      <td>  </td>\n",
        "      <td>  </td>\n",
        "      <td>...</td>\n",
        "    </tr>\n",
        "    <tr>\n",
        "      <th>14</th>\n",
        "      <td>            </td>\n",
        "      <td> </td>\n",
        "      <td>      201</td>\n",
        "      <td>  </td>\n",
        "      <td>    </td>\n",
        "      <td>  </td>\n",
        "      <td>   2012</td>\n",
        "      <td>  </td>\n",
        "      <td>      </td>\n",
        "      <td>  </td>\n",
        "      <td>      </td>\n",
        "      <td>  </td>\n",
        "      <td>       </td>\n",
        "      <td>  </td>\n",
        "      <td>       </td>\n",
        "      <td>  </td>\n",
        "      <td>  </td>\n",
        "      <td>  </td>\n",
        "      <td>  </td>\n",
        "      <td>  </td>\n",
        "      <td>...</td>\n",
        "    </tr>\n",
        "    <tr>\n",
        "      <th>15</th>\n",
        "      <td>            </td>\n",
        "      <td> </td>\n",
        "      <td>      472</td>\n",
        "      <td>  </td>\n",
        "      <td>    </td>\n",
        "      <td>  </td>\n",
        "      <td>   1955</td>\n",
        "      <td>  </td>\n",
        "      <td>      </td>\n",
        "      <td>  </td>\n",
        "      <td>      </td>\n",
        "      <td>  </td>\n",
        "      <td>       </td>\n",
        "      <td>  </td>\n",
        "      <td>       </td>\n",
        "      <td>  </td>\n",
        "      <td>  </td>\n",
        "      <td>  </td>\n",
        "      <td>  </td>\n",
        "      <td>  </td>\n",
        "      <td>...</td>\n",
        "    </tr>\n",
        "    <tr>\n",
        "      <th>16</th>\n",
        "      <td>            </td>\n",
        "      <td> </td>\n",
        "      <td>      400</td>\n",
        "      <td>  </td>\n",
        "      <td>    </td>\n",
        "      <td>  </td>\n",
        "      <td>   1827</td>\n",
        "      <td>  </td>\n",
        "      <td>      </td>\n",
        "      <td>  </td>\n",
        "      <td>      </td>\n",
        "      <td>  </td>\n",
        "      <td>       </td>\n",
        "      <td>  </td>\n",
        "      <td>       </td>\n",
        "      <td>  </td>\n",
        "      <td>  </td>\n",
        "      <td>  </td>\n",
        "      <td>  </td>\n",
        "      <td>  </td>\n",
        "      <td>...</td>\n",
        "    </tr>\n",
        "    <tr>\n",
        "      <th>17</th>\n",
        "      <td>            </td>\n",
        "      <td> </td>\n",
        "      <td>      421</td>\n",
        "      <td>  </td>\n",
        "      <td>    </td>\n",
        "      <td>  </td>\n",
        "      <td>   1790</td>\n",
        "      <td>  </td>\n",
        "      <td>      </td>\n",
        "      <td>  </td>\n",
        "      <td>      </td>\n",
        "      <td>  </td>\n",
        "      <td>       </td>\n",
        "      <td>  </td>\n",
        "      <td>       </td>\n",
        "      <td>  </td>\n",
        "      <td>  </td>\n",
        "      <td>  </td>\n",
        "      <td>  </td>\n",
        "      <td>  </td>\n",
        "      <td>...</td>\n",
        "    </tr>\n",
        "    <tr>\n",
        "      <th>18</th>\n",
        "      <td>            </td>\n",
        "      <td> </td>\n",
        "      <td>      122</td>\n",
        "      <td>  </td>\n",
        "      <td>    </td>\n",
        "      <td>  </td>\n",
        "      <td>   1777</td>\n",
        "      <td>  </td>\n",
        "      <td>      </td>\n",
        "      <td>  </td>\n",
        "      <td>      </td>\n",
        "      <td>  </td>\n",
        "      <td>       </td>\n",
        "      <td>  </td>\n",
        "      <td>       </td>\n",
        "      <td>  </td>\n",
        "      <td>  </td>\n",
        "      <td>  </td>\n",
        "      <td>  </td>\n",
        "      <td>  </td>\n",
        "      <td>...</td>\n",
        "    </tr>\n",
        "    <tr>\n",
        "      <th>19</th>\n",
        "      <td>            </td>\n",
        "      <td> </td>\n",
        "      <td>      110</td>\n",
        "      <td>  </td>\n",
        "      <td>    </td>\n",
        "      <td>  </td>\n",
        "      <td>   1550</td>\n",
        "      <td>  </td>\n",
        "      <td>      </td>\n",
        "      <td>  </td>\n",
        "      <td>      </td>\n",
        "      <td>  </td>\n",
        "      <td>       </td>\n",
        "      <td>  </td>\n",
        "      <td>       </td>\n",
        "      <td>  </td>\n",
        "      <td>  </td>\n",
        "      <td>  </td>\n",
        "      <td>  </td>\n",
        "      <td>  </td>\n",
        "      <td>...</td>\n",
        "    </tr>\n",
        "    <tr>\n",
        "      <th>20</th>\n",
        "      <td>            </td>\n",
        "      <td> </td>\n",
        "      <td>      102</td>\n",
        "      <td>  </td>\n",
        "      <td>    </td>\n",
        "      <td>  </td>\n",
        "      <td>   1454</td>\n",
        "      <td>  </td>\n",
        "      <td>      </td>\n",
        "      <td>  </td>\n",
        "      <td>      </td>\n",
        "      <td>  </td>\n",
        "      <td>       </td>\n",
        "      <td>  </td>\n",
        "      <td>       </td>\n",
        "      <td>  </td>\n",
        "      <td>  </td>\n",
        "      <td>  </td>\n",
        "      <td>  </td>\n",
        "      <td>  </td>\n",
        "      <td>...</td>\n",
        "    </tr>\n",
        "    <tr>\n",
        "      <th>21</th>\n",
        "      <td>            </td>\n",
        "      <td> </td>\n",
        "      <td>       10</td>\n",
        "      <td>  </td>\n",
        "      <td>    </td>\n",
        "      <td>  </td>\n",
        "      <td>   1399</td>\n",
        "      <td>  </td>\n",
        "      <td>      </td>\n",
        "      <td>  </td>\n",
        "      <td>      </td>\n",
        "      <td>  </td>\n",
        "      <td>       </td>\n",
        "      <td>  </td>\n",
        "      <td>       </td>\n",
        "      <td>  </td>\n",
        "      <td>  </td>\n",
        "      <td>  </td>\n",
        "      <td>  </td>\n",
        "      <td>  </td>\n",
        "      <td>...</td>\n",
        "    </tr>\n",
        "    <tr>\n",
        "      <th>22</th>\n",
        "      <td>            </td>\n",
        "      <td> </td>\n",
        "      <td>       16</td>\n",
        "      <td>  </td>\n",
        "      <td>    </td>\n",
        "      <td>  </td>\n",
        "      <td>   1389</td>\n",
        "      <td>  </td>\n",
        "      <td>      </td>\n",
        "      <td>  </td>\n",
        "      <td>      </td>\n",
        "      <td>  </td>\n",
        "      <td>       </td>\n",
        "      <td>  </td>\n",
        "      <td>       </td>\n",
        "      <td>  </td>\n",
        "      <td>  </td>\n",
        "      <td>  </td>\n",
        "      <td>  </td>\n",
        "      <td>  </td>\n",
        "      <td>...</td>\n",
        "    </tr>\n",
        "    <tr>\n",
        "      <th>23</th>\n",
        "      <td>            </td>\n",
        "      <td> </td>\n",
        "      <td>      101</td>\n",
        "      <td>  </td>\n",
        "      <td>    </td>\n",
        "      <td>  </td>\n",
        "      <td>   1326</td>\n",
        "      <td>  </td>\n",
        "      <td>      </td>\n",
        "      <td>  </td>\n",
        "      <td>      </td>\n",
        "      <td>  </td>\n",
        "      <td>       </td>\n",
        "      <td>  </td>\n",
        "      <td>       </td>\n",
        "      <td>  </td>\n",
        "      <td>  </td>\n",
        "      <td>  </td>\n",
        "      <td>  </td>\n",
        "      <td>  </td>\n",
        "      <td>...</td>\n",
        "    </tr>\n",
        "    <tr>\n",
        "      <th>24</th>\n",
        "      <td>            </td>\n",
        "      <td> </td>\n",
        "      <td>      120</td>\n",
        "      <td>  </td>\n",
        "      <td>    </td>\n",
        "      <td>  </td>\n",
        "      <td>   1204</td>\n",
        "      <td>  </td>\n",
        "      <td>      </td>\n",
        "      <td>  </td>\n",
        "      <td>      </td>\n",
        "      <td>  </td>\n",
        "      <td>       </td>\n",
        "      <td>  </td>\n",
        "      <td>       </td>\n",
        "      <td>  </td>\n",
        "      <td>  </td>\n",
        "      <td>  </td>\n",
        "      <td>  </td>\n",
        "      <td>  </td>\n",
        "      <td>...</td>\n",
        "    </tr>\n",
        "    <tr>\n",
        "      <th>25</th>\n",
        "      <td>            </td>\n",
        "      <td> </td>\n",
        "      <td>      112</td>\n",
        "      <td>  </td>\n",
        "      <td>    </td>\n",
        "      <td>  </td>\n",
        "      <td>   1177</td>\n",
        "      <td>  </td>\n",
        "      <td>      </td>\n",
        "      <td>  </td>\n",
        "      <td>      </td>\n",
        "      <td>  </td>\n",
        "      <td>       </td>\n",
        "      <td>  </td>\n",
        "      <td>       </td>\n",
        "      <td>  </td>\n",
        "      <td>  </td>\n",
        "      <td>  </td>\n",
        "      <td>  </td>\n",
        "      <td>  </td>\n",
        "      <td>...</td>\n",
        "    </tr>\n",
        "    <tr>\n",
        "      <th>26</th>\n",
        "      <td>            </td>\n",
        "      <td> </td>\n",
        "      <td>      427</td>\n",
        "      <td>  </td>\n",
        "      <td>    </td>\n",
        "      <td>  </td>\n",
        "      <td>   1100</td>\n",
        "      <td>  </td>\n",
        "      <td>      </td>\n",
        "      <td>  </td>\n",
        "      <td>      </td>\n",
        "      <td>  </td>\n",
        "      <td>       </td>\n",
        "      <td>  </td>\n",
        "      <td>       </td>\n",
        "      <td>  </td>\n",
        "      <td>  </td>\n",
        "      <td>  </td>\n",
        "      <td>  </td>\n",
        "      <td>  </td>\n",
        "      <td>...</td>\n",
        "    </tr>\n",
        "    <tr>\n",
        "      <th>27</th>\n",
        "      <td>            </td>\n",
        "      <td> </td>\n",
        "      <td>        0</td>\n",
        "      <td>  </td>\n",
        "      <td>    </td>\n",
        "      <td>  </td>\n",
        "      <td>   1065</td>\n",
        "      <td>  </td>\n",
        "      <td>      </td>\n",
        "      <td>  </td>\n",
        "      <td>      </td>\n",
        "      <td>  </td>\n",
        "      <td>       </td>\n",
        "      <td>  </td>\n",
        "      <td>       </td>\n",
        "      <td>  </td>\n",
        "      <td>  </td>\n",
        "      <td>  </td>\n",
        "      <td>  </td>\n",
        "      <td>  </td>\n",
        "      <td>...</td>\n",
        "    </tr>\n",
        "    <tr>\n",
        "      <th>28</th>\n",
        "      <td>            </td>\n",
        "      <td> </td>\n",
        "      <td>      402</td>\n",
        "      <td>  </td>\n",
        "      <td>    </td>\n",
        "      <td>  </td>\n",
        "      <td>   1058</td>\n",
        "      <td>  </td>\n",
        "      <td>      </td>\n",
        "      <td>  </td>\n",
        "      <td>      </td>\n",
        "      <td>  </td>\n",
        "      <td>       </td>\n",
        "      <td>  </td>\n",
        "      <td>       </td>\n",
        "      <td>  </td>\n",
        "      <td>  </td>\n",
        "      <td>  </td>\n",
        "      <td>  </td>\n",
        "      <td>  </td>\n",
        "      <td>...</td>\n",
        "    </tr>\n",
        "    <tr>\n",
        "      <th>29</th>\n",
        "      <td>            </td>\n",
        "      <td> </td>\n",
        "      <td>      412</td>\n",
        "      <td>  </td>\n",
        "      <td>    </td>\n",
        "      <td>  </td>\n",
        "      <td>    984</td>\n",
        "      <td>  </td>\n",
        "      <td>      </td>\n",
        "      <td>  </td>\n",
        "      <td>      </td>\n",
        "      <td>  </td>\n",
        "      <td>       </td>\n",
        "      <td>  </td>\n",
        "      <td>       </td>\n",
        "      <td>  </td>\n",
        "      <td>  </td>\n",
        "      <td>  </td>\n",
        "      <td>  </td>\n",
        "      <td>  </td>\n",
        "      <td>...</td>\n",
        "    </tr>\n",
        "    <tr>\n",
        "      <th>30</th>\n",
        "      <td>            </td>\n",
        "      <td> </td>\n",
        "      <td>      222</td>\n",
        "      <td>  </td>\n",
        "      <td>    </td>\n",
        "      <td>  </td>\n",
        "      <td>    941</td>\n",
        "      <td>  </td>\n",
        "      <td>      </td>\n",
        "      <td>  </td>\n",
        "      <td>      </td>\n",
        "      <td>  </td>\n",
        "      <td>       </td>\n",
        "      <td>  </td>\n",
        "      <td>       </td>\n",
        "      <td>  </td>\n",
        "      <td>  </td>\n",
        "      <td>  </td>\n",
        "      <td>  </td>\n",
        "      <td>  </td>\n",
        "      <td>...</td>\n",
        "    </tr>\n",
        "    <tr>\n",
        "      <th>31</th>\n",
        "      <td>            </td>\n",
        "      <td> </td>\n",
        "      <td>      223</td>\n",
        "      <td>  </td>\n",
        "      <td>    </td>\n",
        "      <td>  </td>\n",
        "      <td>    911</td>\n",
        "      <td>  </td>\n",
        "      <td>      </td>\n",
        "      <td>  </td>\n",
        "      <td>      </td>\n",
        "      <td>  </td>\n",
        "      <td>       </td>\n",
        "      <td>  </td>\n",
        "      <td>       </td>\n",
        "      <td>  </td>\n",
        "      <td>  </td>\n",
        "      <td>  </td>\n",
        "      <td>  </td>\n",
        "      <td>  </td>\n",
        "      <td>...</td>\n",
        "    </tr>\n",
        "    <tr>\n",
        "      <th>32</th>\n",
        "      <td>            </td>\n",
        "      <td> </td>\n",
        "      <td>       11</td>\n",
        "      <td>  </td>\n",
        "      <td>    </td>\n",
        "      <td>  </td>\n",
        "      <td>    871</td>\n",
        "      <td>  </td>\n",
        "      <td>      </td>\n",
        "      <td>  </td>\n",
        "      <td>      </td>\n",
        "      <td>  </td>\n",
        "      <td>       </td>\n",
        "      <td>  </td>\n",
        "      <td>       </td>\n",
        "      <td>  </td>\n",
        "      <td>  </td>\n",
        "      <td>  </td>\n",
        "      <td>  </td>\n",
        "      <td>  </td>\n",
        "      <td>...</td>\n",
        "    </tr>\n",
        "    <tr>\n",
        "      <th>33</th>\n",
        "      <td>            </td>\n",
        "      <td> </td>\n",
        "      <td>      420</td>\n",
        "      <td>  </td>\n",
        "      <td>    </td>\n",
        "      <td>  </td>\n",
        "      <td>    814</td>\n",
        "      <td>  </td>\n",
        "      <td>      </td>\n",
        "      <td>  </td>\n",
        "      <td>      </td>\n",
        "      <td>  </td>\n",
        "      <td>       </td>\n",
        "      <td>  </td>\n",
        "      <td>       </td>\n",
        "      <td>  </td>\n",
        "      <td>  </td>\n",
        "      <td>  </td>\n",
        "      <td>  </td>\n",
        "      <td>  </td>\n",
        "      <td>...</td>\n",
        "    </tr>\n",
        "    <tr>\n",
        "      <th>34</th>\n",
        "      <td>            </td>\n",
        "      <td> </td>\n",
        "      <td>      103</td>\n",
        "      <td>  </td>\n",
        "      <td>    </td>\n",
        "      <td>  </td>\n",
        "      <td>    786</td>\n",
        "      <td>  </td>\n",
        "      <td>      </td>\n",
        "      <td>  </td>\n",
        "      <td>      </td>\n",
        "      <td>  </td>\n",
        "      <td>       </td>\n",
        "      <td>  </td>\n",
        "      <td>       </td>\n",
        "      <td>  </td>\n",
        "      <td>  </td>\n",
        "      <td>  </td>\n",
        "      <td>  </td>\n",
        "      <td>  </td>\n",
        "      <td>...</td>\n",
        "    </tr>\n",
        "    <tr>\n",
        "      <th>35</th>\n",
        "      <td>            </td>\n",
        "      <td> </td>\n",
        "      <td>      160</td>\n",
        "      <td>  </td>\n",
        "      <td>    </td>\n",
        "      <td>  </td>\n",
        "      <td>    785</td>\n",
        "      <td>  </td>\n",
        "      <td>      </td>\n",
        "      <td>  </td>\n",
        "      <td>      </td>\n",
        "      <td>  </td>\n",
        "      <td>       </td>\n",
        "      <td>  </td>\n",
        "      <td>       </td>\n",
        "      <td>  </td>\n",
        "      <td>  </td>\n",
        "      <td>  </td>\n",
        "      <td>  </td>\n",
        "      <td>  </td>\n",
        "      <td>...</td>\n",
        "    </tr>\n",
        "    <tr>\n",
        "      <th>36</th>\n",
        "      <td>            </td>\n",
        "      <td> </td>\n",
        "      <td>      401</td>\n",
        "      <td>  </td>\n",
        "      <td>    </td>\n",
        "      <td>  </td>\n",
        "      <td>    688</td>\n",
        "      <td>  </td>\n",
        "      <td>      </td>\n",
        "      <td>  </td>\n",
        "      <td>      </td>\n",
        "      <td>  </td>\n",
        "      <td>       </td>\n",
        "      <td>  </td>\n",
        "      <td>       </td>\n",
        "      <td>  </td>\n",
        "      <td>  </td>\n",
        "      <td>  </td>\n",
        "      <td>  </td>\n",
        "      <td>  </td>\n",
        "      <td>...</td>\n",
        "    </tr>\n",
        "    <tr>\n",
        "      <th>37</th>\n",
        "      <td>            </td>\n",
        "      <td> </td>\n",
        "      <td>      407</td>\n",
        "      <td>  </td>\n",
        "      <td>    </td>\n",
        "      <td>  </td>\n",
        "      <td>    675</td>\n",
        "      <td>  </td>\n",
        "      <td>      </td>\n",
        "      <td>  </td>\n",
        "      <td>      </td>\n",
        "      <td>  </td>\n",
        "      <td>       </td>\n",
        "      <td>  </td>\n",
        "      <td>       </td>\n",
        "      <td>  </td>\n",
        "      <td>  </td>\n",
        "      <td>  </td>\n",
        "      <td>  </td>\n",
        "      <td>  </td>\n",
        "      <td>...</td>\n",
        "    </tr>\n",
        "    <tr>\n",
        "      <th>38</th>\n",
        "      <td>            </td>\n",
        "      <td> </td>\n",
        "      <td>      522</td>\n",
        "      <td>  </td>\n",
        "      <td>    </td>\n",
        "      <td>  </td>\n",
        "      <td>    674</td>\n",
        "      <td>  </td>\n",
        "      <td>      </td>\n",
        "      <td>  </td>\n",
        "      <td>      </td>\n",
        "      <td>  </td>\n",
        "      <td>       </td>\n",
        "      <td>  </td>\n",
        "      <td>       </td>\n",
        "      <td>  </td>\n",
        "      <td>  </td>\n",
        "      <td>  </td>\n",
        "      <td>  </td>\n",
        "      <td>  </td>\n",
        "      <td>...</td>\n",
        "    </tr>\n",
        "    <tr>\n",
        "      <th>39</th>\n",
        "      <td>            </td>\n",
        "      <td> </td>\n",
        "      <td>       55</td>\n",
        "      <td>  </td>\n",
        "      <td>    </td>\n",
        "      <td>  </td>\n",
        "      <td>    660</td>\n",
        "      <td>  </td>\n",
        "      <td>      </td>\n",
        "      <td>  </td>\n",
        "      <td>      </td>\n",
        "      <td>  </td>\n",
        "      <td>       </td>\n",
        "      <td>  </td>\n",
        "      <td>       </td>\n",
        "      <td>  </td>\n",
        "      <td>  </td>\n",
        "      <td>  </td>\n",
        "      <td>  </td>\n",
        "      <td>  </td>\n",
        "      <td>...</td>\n",
        "    </tr>\n",
        "    <tr>\n",
        "      <th>40</th>\n",
        "      <td>            </td>\n",
        "      <td> </td>\n",
        "      <td>      470</td>\n",
        "      <td>  </td>\n",
        "      <td>    </td>\n",
        "      <td>  </td>\n",
        "      <td>    620</td>\n",
        "      <td>  </td>\n",
        "      <td>      </td>\n",
        "      <td>  </td>\n",
        "      <td>      </td>\n",
        "      <td>  </td>\n",
        "      <td>       </td>\n",
        "      <td>  </td>\n",
        "      <td>       </td>\n",
        "      <td>  </td>\n",
        "      <td>  </td>\n",
        "      <td>  </td>\n",
        "      <td>  </td>\n",
        "      <td>  </td>\n",
        "      <td>...</td>\n",
        "    </tr>\n",
        "    <tr>\n",
        "      <th>41</th>\n",
        "      <td>            </td>\n",
        "      <td> </td>\n",
        "      <td>      130</td>\n",
        "      <td>  </td>\n",
        "      <td>    </td>\n",
        "      <td>  </td>\n",
        "      <td>    599</td>\n",
        "      <td>  </td>\n",
        "      <td>      </td>\n",
        "      <td>  </td>\n",
        "      <td>      </td>\n",
        "      <td>  </td>\n",
        "      <td>       </td>\n",
        "      <td>  </td>\n",
        "      <td>       </td>\n",
        "      <td>  </td>\n",
        "      <td>  </td>\n",
        "      <td>  </td>\n",
        "      <td>  </td>\n",
        "      <td>  </td>\n",
        "      <td>...</td>\n",
        "    </tr>\n",
        "    <tr>\n",
        "      <th>42</th>\n",
        "      <td>            </td>\n",
        "      <td> </td>\n",
        "      <td>      413</td>\n",
        "      <td>  </td>\n",
        "      <td>    </td>\n",
        "      <td>  </td>\n",
        "      <td>    591</td>\n",
        "      <td>  </td>\n",
        "      <td>      </td>\n",
        "      <td>  </td>\n",
        "      <td>      </td>\n",
        "      <td>  </td>\n",
        "      <td>       </td>\n",
        "      <td>  </td>\n",
        "      <td>       </td>\n",
        "      <td>  </td>\n",
        "      <td>  </td>\n",
        "      <td>  </td>\n",
        "      <td>  </td>\n",
        "      <td>  </td>\n",
        "      <td>...</td>\n",
        "    </tr>\n",
        "    <tr>\n",
        "      <th>43</th>\n",
        "      <td>            </td>\n",
        "      <td> </td>\n",
        "      <td>      121</td>\n",
        "      <td>  </td>\n",
        "      <td>    </td>\n",
        "      <td>  </td>\n",
        "      <td>    533</td>\n",
        "      <td>  </td>\n",
        "      <td>      </td>\n",
        "      <td>  </td>\n",
        "      <td>      </td>\n",
        "      <td>  </td>\n",
        "      <td>       </td>\n",
        "      <td>  </td>\n",
        "      <td>       </td>\n",
        "      <td>  </td>\n",
        "      <td>  </td>\n",
        "      <td>  </td>\n",
        "      <td>  </td>\n",
        "      <td>  </td>\n",
        "      <td>...</td>\n",
        "    </tr>\n",
        "    <tr>\n",
        "      <th>44</th>\n",
        "      <td>            </td>\n",
        "      <td> </td>\n",
        "      <td>      107</td>\n",
        "      <td>  </td>\n",
        "      <td>    </td>\n",
        "      <td>  </td>\n",
        "      <td>    521</td>\n",
        "      <td>  </td>\n",
        "      <td>      </td>\n",
        "      <td>  </td>\n",
        "      <td>      </td>\n",
        "      <td>  </td>\n",
        "      <td>       </td>\n",
        "      <td>  </td>\n",
        "      <td>       </td>\n",
        "      <td>  </td>\n",
        "      <td>  </td>\n",
        "      <td>  </td>\n",
        "      <td>  </td>\n",
        "      <td>  </td>\n",
        "      <td>...</td>\n",
        "    </tr>\n",
        "    <tr>\n",
        "      <th>45</th>\n",
        "      <td>            </td>\n",
        "      <td> </td>\n",
        "      <td>      113</td>\n",
        "      <td>  </td>\n",
        "      <td>    </td>\n",
        "      <td>  </td>\n",
        "      <td>    494</td>\n",
        "      <td>  </td>\n",
        "      <td>      </td>\n",
        "      <td>  </td>\n",
        "      <td>      </td>\n",
        "      <td>  </td>\n",
        "      <td>       </td>\n",
        "      <td>  </td>\n",
        "      <td>       </td>\n",
        "      <td>  </td>\n",
        "      <td>  </td>\n",
        "      <td>  </td>\n",
        "      <td>  </td>\n",
        "      <td>  </td>\n",
        "      <td>...</td>\n",
        "    </tr>\n",
        "    <tr>\n",
        "      <th>46</th>\n",
        "      <td>            </td>\n",
        "      <td> </td>\n",
        "      <td>      511</td>\n",
        "      <td>  </td>\n",
        "      <td>    </td>\n",
        "      <td>  </td>\n",
        "      <td>    492</td>\n",
        "      <td>  </td>\n",
        "      <td>      </td>\n",
        "      <td>  </td>\n",
        "      <td>      </td>\n",
        "      <td>  </td>\n",
        "      <td>       </td>\n",
        "      <td>  </td>\n",
        "      <td>       </td>\n",
        "      <td>  </td>\n",
        "      <td>  </td>\n",
        "      <td>  </td>\n",
        "      <td>  </td>\n",
        "      <td>  </td>\n",
        "      <td>...</td>\n",
        "    </tr>\n",
        "    <tr>\n",
        "      <th>47</th>\n",
        "      <td>            </td>\n",
        "      <td> </td>\n",
        "      <td>      521</td>\n",
        "      <td>  </td>\n",
        "      <td>    </td>\n",
        "      <td>  </td>\n",
        "      <td>    491</td>\n",
        "      <td>  </td>\n",
        "      <td>      </td>\n",
        "      <td>  </td>\n",
        "      <td>      </td>\n",
        "      <td>  </td>\n",
        "      <td>       </td>\n",
        "      <td>  </td>\n",
        "      <td>       </td>\n",
        "      <td>  </td>\n",
        "      <td>  </td>\n",
        "      <td>  </td>\n",
        "      <td>  </td>\n",
        "      <td>  </td>\n",
        "      <td>...</td>\n",
        "    </tr>\n",
        "    <tr>\n",
        "      <th>48</th>\n",
        "      <td>            </td>\n",
        "      <td> </td>\n",
        "      <td>      410</td>\n",
        "      <td>  </td>\n",
        "      <td>    </td>\n",
        "      <td>  </td>\n",
        "      <td>    461</td>\n",
        "      <td>  </td>\n",
        "      <td>      </td>\n",
        "      <td>  </td>\n",
        "      <td>      </td>\n",
        "      <td>  </td>\n",
        "      <td>       </td>\n",
        "      <td>  </td>\n",
        "      <td>       </td>\n",
        "      <td>  </td>\n",
        "      <td>  </td>\n",
        "      <td>  </td>\n",
        "      <td>  </td>\n",
        "      <td>  </td>\n",
        "      <td>...</td>\n",
        "    </tr>\n",
        "    <tr>\n",
        "      <th>49</th>\n",
        "      <td>            </td>\n",
        "      <td> </td>\n",
        "      <td>      127</td>\n",
        "      <td>  </td>\n",
        "      <td>    </td>\n",
        "      <td>  </td>\n",
        "      <td>    449</td>\n",
        "      <td>  </td>\n",
        "      <td>      </td>\n",
        "      <td>  </td>\n",
        "      <td>      </td>\n",
        "      <td>  </td>\n",
        "      <td>       </td>\n",
        "      <td>  </td>\n",
        "      <td>       </td>\n",
        "      <td>  </td>\n",
        "      <td>  </td>\n",
        "      <td>  </td>\n",
        "      <td>  </td>\n",
        "      <td>  </td>\n",
        "      <td>...</td>\n",
        "    </tr>\n",
        "    <tr>\n",
        "      <th>50</th>\n",
        "      <td>            </td>\n",
        "      <td> </td>\n",
        "      <td>      527</td>\n",
        "      <td>  </td>\n",
        "      <td>    </td>\n",
        "      <td>  </td>\n",
        "      <td>    431</td>\n",
        "      <td>  </td>\n",
        "      <td>      </td>\n",
        "      <td>  </td>\n",
        "      <td>      </td>\n",
        "      <td>  </td>\n",
        "      <td>       </td>\n",
        "      <td>  </td>\n",
        "      <td>       </td>\n",
        "      <td>  </td>\n",
        "      <td>  </td>\n",
        "      <td>  </td>\n",
        "      <td>  </td>\n",
        "      <td>  </td>\n",
        "      <td>...</td>\n",
        "    </tr>\n",
        "    <tr>\n",
        "      <th>51</th>\n",
        "      <td>            </td>\n",
        "      <td> </td>\n",
        "      <td>      106</td>\n",
        "      <td>  </td>\n",
        "      <td>    </td>\n",
        "      <td>  </td>\n",
        "      <td>    426</td>\n",
        "      <td>  </td>\n",
        "      <td>      </td>\n",
        "      <td>  </td>\n",
        "      <td>      </td>\n",
        "      <td>  </td>\n",
        "      <td>       </td>\n",
        "      <td>  </td>\n",
        "      <td>       </td>\n",
        "      <td>  </td>\n",
        "      <td>  </td>\n",
        "      <td>  </td>\n",
        "      <td>  </td>\n",
        "      <td>  </td>\n",
        "      <td>...</td>\n",
        "    </tr>\n",
        "    <tr>\n",
        "      <th>52</th>\n",
        "      <td>            </td>\n",
        "      <td> </td>\n",
        "      <td>      426</td>\n",
        "      <td>  </td>\n",
        "      <td>    </td>\n",
        "      <td>  </td>\n",
        "      <td>    410</td>\n",
        "      <td>  </td>\n",
        "      <td>      </td>\n",
        "      <td>  </td>\n",
        "      <td>      </td>\n",
        "      <td>  </td>\n",
        "      <td>       </td>\n",
        "      <td>  </td>\n",
        "      <td>       </td>\n",
        "      <td>  </td>\n",
        "      <td>  </td>\n",
        "      <td>  </td>\n",
        "      <td>  </td>\n",
        "      <td>  </td>\n",
        "      <td>...</td>\n",
        "    </tr>\n",
        "    <tr>\n",
        "      <th>53</th>\n",
        "      <td>            </td>\n",
        "      <td> </td>\n",
        "      <td>      501</td>\n",
        "      <td>  </td>\n",
        "      <td>    </td>\n",
        "      <td>  </td>\n",
        "      <td>    358</td>\n",
        "      <td>  </td>\n",
        "      <td>      </td>\n",
        "      <td>  </td>\n",
        "      <td>      </td>\n",
        "      <td>  </td>\n",
        "      <td>       </td>\n",
        "      <td>  </td>\n",
        "      <td>       </td>\n",
        "      <td>  </td>\n",
        "      <td>  </td>\n",
        "      <td>  </td>\n",
        "      <td>  </td>\n",
        "      <td>  </td>\n",
        "      <td>...</td>\n",
        "    </tr>\n",
        "    <tr>\n",
        "      <th>54</th>\n",
        "      <td>            </td>\n",
        "      <td> </td>\n",
        "      <td>      502</td>\n",
        "      <td>  </td>\n",
        "      <td>    </td>\n",
        "      <td>  </td>\n",
        "      <td>    348</td>\n",
        "      <td>  </td>\n",
        "      <td>      </td>\n",
        "      <td>  </td>\n",
        "      <td>      </td>\n",
        "      <td>  </td>\n",
        "      <td>       </td>\n",
        "      <td>  </td>\n",
        "      <td>       </td>\n",
        "      <td>  </td>\n",
        "      <td>  </td>\n",
        "      <td>  </td>\n",
        "      <td>  </td>\n",
        "      <td>  </td>\n",
        "      <td>...</td>\n",
        "    </tr>\n",
        "    <tr>\n",
        "      <th>55</th>\n",
        "      <td>            </td>\n",
        "      <td> </td>\n",
        "      <td> 253 MORE</td>\n",
        "      <td>  </td>\n",
        "      <td>    </td>\n",
        "      <td>  </td>\n",
        "      <td>       </td>\n",
        "      <td>  </td>\n",
        "      <td>      </td>\n",
        "      <td>  </td>\n",
        "      <td>      </td>\n",
        "      <td>  </td>\n",
        "      <td>       </td>\n",
        "      <td>  </td>\n",
        "      <td>       </td>\n",
        "      <td>  </td>\n",
        "      <td>  </td>\n",
        "      <td>  </td>\n",
        "      <td>  </td>\n",
        "      <td>  </td>\n",
        "      <td>...</td>\n",
        "    </tr>\n",
        "    <tr>\n",
        "      <th>56</th>\n",
        "      <td>         det</td>\n",
        "      <td> </td>\n",
        "      <td>         </td>\n",
        "      <td> 0</td>\n",
        "      <td>   3</td>\n",
        "      <td> 0</td>\n",
        "      <td> 523354</td>\n",
        "      <td> 0</td>\n",
        "      <td>     0</td>\n",
        "      <td> 0</td>\n",
        "      <td>     0</td>\n",
        "      <td> 0</td>\n",
        "      <td> 254950</td>\n",
        "      <td> 0</td>\n",
        "      <td> 268404</td>\n",
        "      <td> 0</td>\n",
        "      <td> 0</td>\n",
        "      <td> 0</td>\n",
        "      <td> 0</td>\n",
        "      <td> 0</td>\n",
        "      <td>...</td>\n",
        "    </tr>\n",
        "    <tr>\n",
        "      <th>57</th>\n",
        "      <td>            </td>\n",
        "      <td> </td>\n",
        "      <td>       NA</td>\n",
        "      <td>  </td>\n",
        "      <td>    </td>\n",
        "      <td>  </td>\n",
        "      <td> 278599</td>\n",
        "      <td>  </td>\n",
        "      <td>      </td>\n",
        "      <td>  </td>\n",
        "      <td>      </td>\n",
        "      <td>  </td>\n",
        "      <td>       </td>\n",
        "      <td>  </td>\n",
        "      <td>       </td>\n",
        "      <td>  </td>\n",
        "      <td>  </td>\n",
        "      <td>  </td>\n",
        "      <td>  </td>\n",
        "      <td>  </td>\n",
        "      <td>...</td>\n",
        "    </tr>\n",
        "    <tr>\n",
        "      <th>58</th>\n",
        "      <td>            </td>\n",
        "      <td> </td>\n",
        "      <td>      det</td>\n",
        "      <td>  </td>\n",
        "      <td>    </td>\n",
        "      <td>  </td>\n",
        "      <td> 179697</td>\n",
        "      <td>  </td>\n",
        "      <td>      </td>\n",
        "      <td>  </td>\n",
        "      <td>      </td>\n",
        "      <td>  </td>\n",
        "      <td>       </td>\n",
        "      <td>  </td>\n",
        "      <td>       </td>\n",
        "      <td>  </td>\n",
        "      <td>  </td>\n",
        "      <td>  </td>\n",
        "      <td>  </td>\n",
        "      <td>  </td>\n",
        "      <td>...</td>\n",
        "    </tr>\n",
        "    <tr>\n",
        "      <th>59</th>\n",
        "      <td>            </td>\n",
        "      <td> </td>\n",
        "      <td>      und</td>\n",
        "      <td>  </td>\n",
        "      <td>    </td>\n",
        "      <td>  </td>\n",
        "      <td>  65058</td>\n",
        "      <td>  </td>\n",
        "      <td>      </td>\n",
        "      <td>  </td>\n",
        "      <td>      </td>\n",
        "      <td>  </td>\n",
        "      <td>       </td>\n",
        "      <td>  </td>\n",
        "      <td>       </td>\n",
        "      <td>  </td>\n",
        "      <td>  </td>\n",
        "      <td>  </td>\n",
        "      <td>  </td>\n",
        "      <td>  </td>\n",
        "      <td>...</td>\n",
        "    </tr>\n",
        "    <tr>\n",
        "      <th></th>\n",
        "      <td>...</td>\n",
        "      <td>...</td>\n",
        "      <td>...</td>\n",
        "      <td>...</td>\n",
        "      <td>...</td>\n",
        "      <td>...</td>\n",
        "      <td>...</td>\n",
        "      <td>...</td>\n",
        "      <td>...</td>\n",
        "      <td>...</td>\n",
        "      <td>...</td>\n",
        "      <td>...</td>\n",
        "      <td>...</td>\n",
        "      <td>...</td>\n",
        "      <td>...</td>\n",
        "      <td>...</td>\n",
        "      <td>...</td>\n",
        "      <td>...</td>\n",
        "      <td>...</td>\n",
        "      <td>...</td>\n",
        "    </tr>\n",
        "  </tbody>\n",
        "</table>\n",
        "<p>716 rows \u00d7 23 columns</p>\n",
        "</div>"
       ],
       "metadata": {},
       "output_type": "pyout",
       "prompt_number": 6,
       "text": [
        "        Feature val (-)   val (+) #vals (-) #vals (+) occs (-) occs (+)  \\\n",
        "0   clause_kind                           0         3        0    88130   \n",
        "1                              VC                                 68340   \n",
        "2                              NC                                 13793   \n",
        "3                              WP                                  5997   \n",
        "4          code                           0       303        0    90209   \n",
        "5                             200                                 11453   \n",
        "6                             477                                  5645   \n",
        "7                             999                                  4733   \n",
        "8                              64                                  4340   \n",
        "9                             100                                  3542   \n",
        "10                            422                                  3052   \n",
        "11                             12                                  2488   \n",
        "12                            111                                  2349   \n",
        "13                            411                                  2295   \n",
        "14                            201                                  2012   \n",
        "15                            472                                  1955   \n",
        "16                            400                                  1827   \n",
        "17                            421                                  1790   \n",
        "18                            122                                  1777   \n",
        "19                            110                                  1550   \n",
        "20                            102                                  1454   \n",
        "21                             10                                  1399   \n",
        "22                             16                                  1389   \n",
        "23                            101                                  1326   \n",
        "24                            120                                  1204   \n",
        "25                            112                                  1177   \n",
        "26                            427                                  1100   \n",
        "27                              0                                  1065   \n",
        "28                            402                                  1058   \n",
        "29                            412                                   984   \n",
        "30                            222                                   941   \n",
        "31                            223                                   911   \n",
        "32                             11                                   871   \n",
        "33                            420                                   814   \n",
        "34                            103                                   786   \n",
        "35                            160                                   785   \n",
        "36                            401                                   688   \n",
        "37                            407                                   675   \n",
        "38                            522                                   674   \n",
        "39                             55                                   660   \n",
        "40                            470                                   620   \n",
        "41                            130                                   599   \n",
        "42                            413                                   591   \n",
        "43                            121                                   533   \n",
        "44                            107                                   521   \n",
        "45                            113                                   494   \n",
        "46                            511                                   492   \n",
        "47                            521                                   491   \n",
        "48                            410                                   461   \n",
        "49                            127                                   449   \n",
        "50                            527                                   431   \n",
        "51                            106                                   426   \n",
        "52                            426                                   410   \n",
        "53                            501                                   358   \n",
        "54                            502                                   348   \n",
        "55                       253 MORE                                         \n",
        "56          det                           0         3        0   523354   \n",
        "57                             NA                                278599   \n",
        "58                            det                                179697   \n",
        "59                            und                                 65058   \n",
        "            ...     ...       ...       ...       ...      ...      ...   \n",
        "\n",
        "   clause (-) clause (+) clause_atom (-) clause_atom (+) phrase (-)  \\\n",
        "0           0      88130               0               0          0   \n",
        "1                                                                     \n",
        "2                                                                     \n",
        "3                                                                     \n",
        "4           0          0               0           90209          0   \n",
        "5                                                                     \n",
        "6                                                                     \n",
        "7                                                                     \n",
        "8                                                                     \n",
        "9                                                                     \n",
        "10                                                                    \n",
        "11                                                                    \n",
        "12                                                                    \n",
        "13                                                                    \n",
        "14                                                                    \n",
        "15                                                                    \n",
        "16                                                                    \n",
        "17                                                                    \n",
        "18                                                                    \n",
        "19                                                                    \n",
        "20                                                                    \n",
        "21                                                                    \n",
        "22                                                                    \n",
        "23                                                                    \n",
        "24                                                                    \n",
        "25                                                                    \n",
        "26                                                                    \n",
        "27                                                                    \n",
        "28                                                                    \n",
        "29                                                                    \n",
        "30                                                                    \n",
        "31                                                                    \n",
        "32                                                                    \n",
        "33                                                                    \n",
        "34                                                                    \n",
        "35                                                                    \n",
        "36                                                                    \n",
        "37                                                                    \n",
        "38                                                                    \n",
        "39                                                                    \n",
        "40                                                                    \n",
        "41                                                                    \n",
        "42                                                                    \n",
        "43                                                                    \n",
        "44                                                                    \n",
        "45                                                                    \n",
        "46                                                                    \n",
        "47                                                                    \n",
        "48                                                                    \n",
        "49                                                                    \n",
        "50                                                                    \n",
        "51                                                                    \n",
        "52                                                                    \n",
        "53                                                                    \n",
        "54                                                                    \n",
        "55                                                                    \n",
        "56          0          0               0               0          0   \n",
        "57                                                                    \n",
        "58                                                                    \n",
        "59                                                                    \n",
        "          ...        ...             ...             ...        ...   \n",
        "\n",
        "   phrase (+) phrase_atom (-) phrase_atom (+) sentence (-) sentence (+)  \\\n",
        "0           0               0               0            0            0   \n",
        "1                                                                         \n",
        "2                                                                         \n",
        "3                                                                         \n",
        "4           0               0               0            0            0   \n",
        "5                                                                         \n",
        "6                                                                         \n",
        "7                                                                         \n",
        "8                                                                         \n",
        "9                                                                         \n",
        "10                                                                        \n",
        "11                                                                        \n",
        "12                                                                        \n",
        "13                                                                        \n",
        "14                                                                        \n",
        "15                                                                        \n",
        "16                                                                        \n",
        "17                                                                        \n",
        "18                                                                        \n",
        "19                                                                        \n",
        "20                                                                        \n",
        "21                                                                        \n",
        "22                                                                        \n",
        "23                                                                        \n",
        "24                                                                        \n",
        "25                                                                        \n",
        "26                                                                        \n",
        "27                                                                        \n",
        "28                                                                        \n",
        "29                                                                        \n",
        "30                                                                        \n",
        "31                                                                        \n",
        "32                                                                        \n",
        "33                                                                        \n",
        "34                                                                        \n",
        "35                                                                        \n",
        "36                                                                        \n",
        "37                                                                        \n",
        "38                                                                        \n",
        "39                                                                        \n",
        "40                                                                        \n",
        "41                                                                        \n",
        "42                                                                        \n",
        "43                                                                        \n",
        "44                                                                        \n",
        "45                                                                        \n",
        "46                                                                        \n",
        "47                                                                        \n",
        "48                                                                        \n",
        "49                                                                        \n",
        "50                                                                        \n",
        "51                                                                        \n",
        "52                                                                        \n",
        "53                                                                        \n",
        "54                                                                        \n",
        "55                                                                        \n",
        "56     254950               0          268404            0            0   \n",
        "57                                                                        \n",
        "58                                                                        \n",
        "59                                                                        \n",
        "          ...             ...             ...          ...          ...   \n",
        "\n",
        "   sentence_atom (-) sentence_atom (+) subphrase (-)      \n",
        "0                  0                 0             0 ...  \n",
        "1                                                    ...  \n",
        "2                                                    ...  \n",
        "3                                                    ...  \n",
        "4                  0                 0             0 ...  \n",
        "5                                                    ...  \n",
        "6                                                    ...  \n",
        "7                                                    ...  \n",
        "8                                                    ...  \n",
        "9                                                    ...  \n",
        "10                                                   ...  \n",
        "11                                                   ...  \n",
        "12                                                   ...  \n",
        "13                                                   ...  \n",
        "14                                                   ...  \n",
        "15                                                   ...  \n",
        "16                                                   ...  \n",
        "17                                                   ...  \n",
        "18                                                   ...  \n",
        "19                                                   ...  \n",
        "20                                                   ...  \n",
        "21                                                   ...  \n",
        "22                                                   ...  \n",
        "23                                                   ...  \n",
        "24                                                   ...  \n",
        "25                                                   ...  \n",
        "26                                                   ...  \n",
        "27                                                   ...  \n",
        "28                                                   ...  \n",
        "29                                                   ...  \n",
        "30                                                   ...  \n",
        "31                                                   ...  \n",
        "32                                                   ...  \n",
        "33                                                   ...  \n",
        "34                                                   ...  \n",
        "35                                                   ...  \n",
        "36                                                   ...  \n",
        "37                                                   ...  \n",
        "38                                                   ...  \n",
        "39                                                   ...  \n",
        "40                                                   ...  \n",
        "41                                                   ...  \n",
        "42                                                   ...  \n",
        "43                                                   ...  \n",
        "44                                                   ...  \n",
        "45                                                   ...  \n",
        "46                                                   ...  \n",
        "47                                                   ...  \n",
        "48                                                   ...  \n",
        "49                                                   ...  \n",
        "50                                                   ...  \n",
        "51                                                   ...  \n",
        "52                                                   ...  \n",
        "53                                                   ...  \n",
        "54                                                   ...  \n",
        "55                                                   ...  \n",
        "56                 0                 0             0 ...  \n",
        "57                                                   ...  \n",
        "58                                                   ...  \n",
        "59                                                   ...  \n",
        "                 ...               ...           ...      \n",
        "\n",
        "[716 rows x 23 columns]"
       ]
      }
     ],
     "prompt_number": 6
    },
    {
     "cell_type": "code",
     "collapsed": false,
     "input": [
      "dfe"
     ],
     "language": "python",
     "metadata": {},
     "outputs": []
    },
    {
     "cell_type": "code",
     "collapsed": false,
     "input": [
      "!head -n 100 {my_file('surface_consonants\\ values.txt')}"
     ],
     "language": "python",
     "metadata": {},
     "outputs": [
      {
       "output_type": "stream",
       "stream": "stdout",
       "text": [
        "head: /Users/dirk/laf-fabric-data/bhs3/tasks/feature-doc/surface_consonants values.txt: No such file or directory\r\n"
       ]
      }
     ],
     "prompt_number": 13
    },
    {
     "cell_type": "code",
     "collapsed": false,
     "input": [
      "!head -n 100 {my_file('clause_constituent_relation\\ values.txt')}"
     ],
     "language": "python",
     "metadata": {},
     "outputs": [
      {
       "output_type": "stream",
       "stream": "stdout",
       "text": [
        "UNDEFINED VALUES\r\n",
        "none x 75059\r\n",
        "\r\n",
        "DEFINED VALUES\r\n",
        "Adju x 4910\r\n",
        "Attr x 4804\r\n",
        "Objc x 1066\r\n",
        "Resu x 976\r\n",
        "Coor x 908\r\n",
        "Subj x 241\r\n",
        "CoVo x 143\r\n",
        "RgRc x 114\r\n",
        "Pred x 91\r\n",
        "Cmpl x 75\r\n"
       ]
      }
     ],
     "prompt_number": 14
    },
    {
     "cell_type": "code",
     "collapsed": false,
     "input": [
      "API['close']()"
     ],
     "language": "python",
     "metadata": {},
     "outputs": [
      {
       "output_type": "stream",
       "stream": "stderr",
       "text": [
        " 2m 28s Results directory:\n",
        "/Users/dirk/laf-fabric-output/bhs4/feature-doc\n"
       ]
      },
      {
       "output_type": "stream",
       "stream": "stderr",
       "text": [
        "\n",
        "__log__feature-doc.txt                  283 Tue Jun 17 18:19:31 2014\n",
        "clause_kind values.txt                   65 Tue Jun 17 18:18:45 2014\n",
        "code values.txt                        2721 Tue Jun 17 18:18:45 2014\n",
        "det values.txt                           70 Tue Jun 17 18:18:45 2014\n",
        "dist values.txt                         352 Tue Jun 17 18:18:45 2014\n",
        "dist_unit values.txt                     89 Tue Jun 17 18:18:45 2014\n",
        "domain values.txt                        71 Tue Jun 17 18:18:45 2014\n",
        "function values.txt                     381 Tue Jun 17 18:18:45 2014\n",
        "g_word_utf8 values.txt              2172466 Tue Jun 17 18:18:46 2014\n",
        "gn values.txt                            82 Tue Jun 17 18:18:46 2014\n",
        "is_root values.txt                       59 Tue Jun 17 18:18:46 2014\n",
        "language values.txt                      64 Tue Jun 17 18:18:46 2014\n",
        "lex values.txt                        91535 Tue Jun 17 18:18:46 2014\n",
        "lex_utf8 values.txt                  110295 Tue Jun 17 18:18:46 2014\n",
        "ls values.txt                           209 Tue Jun 17 18:18:46 2014\n",
        "mother_object_type values.txt           104 Tue Jun 17 18:18:46 2014\n",
        "nme values.txt                          224 Tue Jun 17 18:18:46 2014\n",
        "nu values.txt                            93 Tue Jun 17 18:18:46 2014\n",
        "number values.txt                    306559 Tue Jun 17 18:18:46 2014\n",
        "pdp values.txt                          207 Tue Jun 17 18:18:46 2014\n",
        "pfm values.txt                          140 Tue Jun 17 18:18:46 2014\n",
        "prs values.txt                          244 Tue Jun 17 18:18:46 2014\n",
        "ps values.txt                            93 Tue Jun 17 18:18:46 2014\n",
        "rela values.txt                         295 Tue Jun 17 18:18:46 2014\n",
        "sp values.txt                           207 Tue Jun 17 18:18:46 2014\n",
        "st values.txt                            74 Tue Jun 17 18:18:46 2014\n",
        "summary.csv                           22931 Tue Jun 17 18:18:47 2014\n",
        "tab values.txt                          297 Tue Jun 17 18:18:46 2014\n",
        "txt values.txt                         1723 Tue Jun 17 18:18:46 2014\n",
        "typ values.txt                          700 Tue Jun 17 18:18:46 2014\n",
        "types.txt                              1160 Tue Jun 17 18:18:46 2014\n",
        "uvf values.txt                           89 Tue Jun 17 18:18:46 2014\n",
        "vbe values.txt                          201 Tue Jun 17 18:18:46 2014\n",
        "vbs values.txt                          133 Tue Jun 17 18:18:46 2014\n",
        "vs values.txt                           265 Tue Jun 17 18:18:46 2014\n",
        "vt values.txt                           143 Tue Jun 17 18:18:46 2014\n"
       ]
      }
     ],
     "prompt_number": 7
    },
    {
     "cell_type": "code",
     "collapsed": false,
     "input": [],
     "language": "python",
     "metadata": {},
     "outputs": []
    }
   ],
   "metadata": {}
  }
 ]
}