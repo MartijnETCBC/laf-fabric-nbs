{
 "metadata": {
  "name": "",
  "signature": "sha256:1007674d1d35560cb5878337029d3c431dd1f28a9764bc2c8cc346900d7928f1"
 },
 "nbformat": 3,
 "nbformat_minor": 0,
 "worksheets": [
  {
   "cells": [
    {
     "cell_type": "heading",
     "level": 1,
     "metadata": {},
     "source": [
      "Preparation"
     ]
    },
    {
     "cell_type": "raw",
     "metadata": {},
     "source": [
      "pip install rdflib\n",
      "pip install simplejson\n",
      "pip install SPARQLWrapper"
     ]
    },
    {
     "cell_type": "code",
     "collapsed": false,
     "input": [
      "import collections\n",
      "import SPARQLWrapper\n",
      "from SPARQLWrapper import SPARQLWrapper, JSON"
     ],
     "language": "python",
     "metadata": {},
     "outputs": [
      {
       "output_type": "stream",
       "stream": "stderr",
       "text": [
        "/Library/Frameworks/Python.framework/Versions/3.4/lib/python3.4/site-packages/SPARQLWrapper/Wrapper.py:88: RuntimeWarning: JSON-LD disabled because no suitable support has been found\n",
        "  warnings.warn(\"JSON-LD disabled because no suitable support has been found\", RuntimeWarning)\n"
       ]
      }
     ],
     "prompt_number": 1
    },
    {
     "cell_type": "code",
     "collapsed": true,
     "input": [
      "sparql = SPARQLWrapper('http://dbpedia.org/sparql')\n",
      "sparql.setQuery('''\n",
      "    PREFIX rdfs: <http://www.w3.org/2000/01/rdf-schema#>\n",
      "    SELECT ?label\n",
      "    WHERE { <http://dbpedia.org/resource/Asturias> rdfs:label ?label }\n",
      "''')\n",
      "sparql.setReturnFormat(JSON)\n",
      "results = sparql.queryAndConvert()\n",
      "\n",
      "for result in results[\"results\"][\"bindings\"]:\n",
      "    print(result[\"label\"][\"value\"])"
     ],
     "language": "python",
     "metadata": {},
     "outputs": [
      {
       "output_type": "stream",
       "stream": "stdout",
       "text": [
        "\u963f\u65af\u56fe\u91cc\u4e9a\u65af\n",
        "Asturien\n",
        "Asturias\n",
        "Principado de Asturias\n",
        "Asturies\n",
        "Asturie\n",
        "\u30a2\u30b9\u30c8\u30a5\u30ea\u30a2\u30b9\u5dde\n",
        "Asturi\u00eb (regio)\n",
        "Asturia\n",
        "Ast\u00farias\n",
        "\u0410\u0441\u0442\u0443\u0440\u0438\u044f\n",
        "Asturien\n"
       ]
      }
     ],
     "prompt_number": 2
    },
    {
     "cell_type": "code",
     "collapsed": false,
     "input": [
      "sparql = SPARQLWrapper('http://shebanq.linked-ancient-data.org/sparql/')\n",
      "def exquery(squery, keyvar, valuevar):\n",
      "    sparql.setQuery(squery)\n",
      "    sparql.setReturnFormat(JSON)\n",
      "    results = sparql.queryAndConvert()\n",
      "    shebanq_queries = collections.defaultdict(lambda: [])\n",
      "    for result in results[\"results\"][\"bindings\"]:\n",
      "        shebanq_queries[result[keyvar]['value']].append(result[valuevar]['value'])\n",
      "    for body in shebanq_queries:\n",
      "        print(\"=== {} ===\\n{}\\n=== {} ===\\n{}\\n\".format(keyvar, valuevar, body, '\\n'.join(shebanq_queries[body])))"
     ],
     "language": "python",
     "metadata": {},
     "outputs": [],
     "prompt_number": 13
    },
    {
     "cell_type": "code",
     "collapsed": false,
     "input": [
      "q1 = '''\n",
      "PREFIX sq: <http://purl.org/collections/shebanq/>\n",
      "PREFIX oa: <http://www.w3.org/ns/oa#>\n",
      "\n",
      "SELECT ?body ?target WHERE {\n",
      "_:a sq:has_intension ?body;\n",
      "    sq:has_extension ?target .\n",
      "FILTER regex(str(?target), '/etcbc4/psalmi')\n",
      "}\n",
      "'''\n",
      "exquery(q1, 'body', 'target')"
     ],
     "language": "python",
     "metadata": {},
     "outputs": [
      {
       "output_type": "stream",
       "stream": "stdout",
       "text": [
        "=== body ===\n",
        "target\n",
        "=== SELECT ALL OBJECTS\n",
        "\t\t\tWHERE\n",
        "\t\t\t[Clause\n",
        "\t\t\t  [Phrase phrase_function = PreO OR phrase_function = PtcO\n",
        "\t\t\t\t [Word FOCUS part_of_speech = verb AND lexeme = \"FJM[\"]\n",
        "\t\t\t  ]\n",
        "\t\t\t  ..\n",
        "\t\t\t  [Phrase FOCUS phrase_function = Objc OR phrase_function = IrpO]\n",
        "\t\t\t]\n",
        "\t\t\tGO ===\n",
        "http://text.linked-ancient-data.org/etcbc4/psalmi/100/3?w=2,4\n",
        "\n"
       ]
      }
     ],
     "prompt_number": 14
    },
    {
     "cell_type": "code",
     "collapsed": false,
     "input": [
      "q2 = '''\n",
      "PREFIX sq: <http://purl.org/collections/shebanq/>\n",
      "PREFIX oa: <http://www.w3.org/ns/oa#>\n",
      "\n",
      "SELECT ?body ?target WHERE {\n",
      "_:a oa:hasBody ?body;\n",
      "    oa:hasTarget ?target .\n",
      "FILTER regex(str(?target), '/etcbc4/psalmi')\n",
      "}\n",
      "'''\n",
      "exquery(q2, 'body', 'target')"
     ],
     "language": "python",
     "metadata": {},
     "outputs": [
      {
       "output_type": "stream",
       "stream": "stdout",
       "text": [
        "=== body ===\n",
        "target\n",
        "=== SELECT ALL OBJECTS\n",
        "\t\t\tWHERE\n",
        "\t\t\t[Clause\n",
        "\t\t\t  [Phrase phrase_function = PreO OR phrase_function = PtcO\n",
        "\t\t\t\t [Word FOCUS part_of_speech = verb AND lexeme = \"FJM[\"]\n",
        "\t\t\t  ]\n",
        "\t\t\t  ..\n",
        "\t\t\t  [Phrase FOCUS phrase_function = Objc OR phrase_function = IrpO]\n",
        "\t\t\t]\n",
        "\t\t\tGO ===\n",
        "http://text.linked-ancient-data.org/etcbc4/psalmi/100/3?w=2,4\n",
        "\n"
       ]
      }
     ],
     "prompt_number": 20
    },
    {
     "cell_type": "code",
     "collapsed": false,
     "input": [
      "q3 = '''\n",
      "PREFIX sq: <http://purl.org/collections/shebanq/>\n",
      "PREFIX oa: <http://www.w3.org/ns/oa#>\n",
      "SELECT\n",
      "    ?q\n",
      "    ?researcher \n",
      "    ?body\n",
      "    ?target\n",
      "WHERE\n",
      "{\n",
      "    ?q oa:hasBody ?body;\n",
      "        oa:hasTarget ?target;\n",
      "        sq:has_researcher ?researcher\n",
      "}\n",
      "'''\n",
      "def doquery(squery):\n",
      "    sparql.setQuery(squery)\n",
      "    sparql.setReturnFormat(JSON)\n",
      "    results = sparql.queryAndConvert()\n",
      "    shebanq_queries = collections.defaultdict(lambda: [])\n",
      "    for result in results[\"results\"][\"bindings\"]:\n",
      "        shebanq_queries[result['q']['value']].append((\n",
      "            result['body']['value'],\n",
      "            result['target']['value'],\n",
      "            result['researcher']['value'],\n",
      "        ))\n",
      "    for q in shebanq_queries:\n",
      "        print(\"{}\\n{}\\n\".format(q, '\\n'.join('{}; {}; {}.'.format(v[0], v[1], v[2]) for v in shebanq_queries[q])))\n",
      "\n",
      "doquery(q3)"
     ],
     "language": "python",
     "metadata": {},
     "outputs": [
      {
       "output_type": "stream",
       "stream": "stdout",
       "text": [
        "http://purl.org/collections/shebanq/query2\n",
        "SELECT ALL OBJECTS\n",
        "\t\t\tWHERE\n",
        "\t\t\t[Clause\n",
        "\t\t\t  [Phrase phrase_function = PreO OR phrase_function = PtcO\n",
        "\t\t\t\t [Word FOCUS part_of_speech = verb AND lexeme = \"FJM[\"]\n",
        "\t\t\t  ]\n",
        "\t\t\t  ..\n",
        "\t\t\t  [Phrase FOCUS phrase_function = Objc OR phrase_function = IrpO]\n",
        "\t\t\t]\n",
        "\t\t\tGO; http://text.linked-ancient-data.org/etcbc4/psalmi/100/3?w=2,4; http://purl.org/collections/shebanq/researcher2.\n",
        "SELECT ALL OBJECTS\n",
        "\t\t\tWHERE\n",
        "\t\t\t[Clause\n",
        "\t\t\t  [Phrase phrase_function = PreO OR phrase_function = PtcO\n",
        "\t\t\t\t [Word FOCUS part_of_speech = verb AND lexeme = \"FJM[\"]\n",
        "\t\t\t  ]\n",
        "\t\t\t  ..\n",
        "\t\t\t  [Phrase FOCUS phrase_function = Objc OR phrase_function = IrpO]\n",
        "\t\t\t]\n",
        "\t\t\tGO; http://text.linked-ancient-data.org/etcbc4/genesis/3/17?w=5,4; http://purl.org/collections/shebanq/researcher2.\n",
        "SELECT ALL OBJECTS\n",
        "\t\t\tWHERE\n",
        "\t\t\t[Clause\n",
        "\t\t\t  [Phrase phrase_function = PreO OR phrase_function = PtcO\n",
        "\t\t\t\t [Word FOCUS part_of_speech = verb AND lexeme = \"FJM[\"]\n",
        "\t\t\t  ]\n",
        "\t\t\t  ..\n",
        "\t\t\t  [Phrase FOCUS phrase_function = Objc OR phrase_function = IrpO]\n",
        "\t\t\t]\n",
        "\t\t\tGO; http://text.linked-ancient-data.org/etcbc4/numeri/20/5?w=3; http://purl.org/collections/shebanq/researcher2.\n",
        "SELECT ALL OBJECTS\n",
        "\t\t\tWHERE\n",
        "\t\t\t[Clause\n",
        "\t\t\t  [Phrase phrase_function = PreO OR phrase_function = PtcO\n",
        "\t\t\t\t [Word FOCUS part_of_speech = verb AND lexeme = \"FJM[\"]\n",
        "\t\t\t  ]\n",
        "\t\t\t  ..\n",
        "\t\t\t  [Phrase FOCUS phrase_function = Objc OR phrase_function = IrpO]\n",
        "\t\t\t]\n",
        "\t\t\tGO; http://text.linked-ancient-data.org/etcbc4/canticum/7/4?w=14,8,4; http://purl.org/collections/shebanq/researcher2.\n",
        "\n",
        "http://purl.org/collections/shebanq/query1\n",
        "select all * where @prefix is [myword]; http://text.linked-ancient-data.org/etcbc4/samuel_ii/20/10?w=2,3; http://purl.org/collections/shebanq/researcher1.\n",
        "select all * where @prefix is [myword]; http://text.linked-ancient-data.org/etcbc4/reges_i/10/12?w=14,8,4; http://purl.org/collections/shebanq/researcher1.\n",
        "\n"
       ]
      }
     ],
     "prompt_number": 25
    },
    {
     "cell_type": "code",
     "collapsed": false,
     "input": [
      "q4 = '''\n",
      "PREFIX oa: <http://www.w3.org/ns/oa#>\n",
      "SELECT\n",
      "    ?q\n",
      "    ?researcher \n",
      "    ?researcherm \n",
      "    ?project\n",
      "    ?projecth\n",
      "    ?institute\n",
      "    ?instituteh\n",
      "    ?researchq\n",
      "    ?versione\n",
      "    ?versions\n",
      "    ?datelr\n",
      "    ?datepub\n",
      "    ?body\n",
      "    ?target\n",
      "WHERE\n",
      "{\n",
      "    ?q oa:hasBody ?body;\n",
      "        oa:hasTarget ?target;\n",
      "        sq:has_researcher ?researcher\n",
      "}\n",
      "'''"
     ],
     "language": "python",
     "metadata": {},
     "outputs": []
    }
   ],
   "metadata": {}
  }
 ]
}