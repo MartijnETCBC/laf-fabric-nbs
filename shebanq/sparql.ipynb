{
 "metadata": {
  "name": "",
  "signature": "sha256:ab12217e1269f991b6bf2de6a46920551b7390500b9a8110e8f5c94234d31374"
 },
 "nbformat": 3,
 "nbformat_minor": 0,
 "worksheets": [
  {
   "cells": [
    {
     "cell_type": "markdown",
     "metadata": {},
     "source": [
      "<a href=\"http://laf-fabric.readthedocs.org/en/latest/\" target=\"_blank\"><img align=\"left\" src=\"images/laf-fabric-xsmall.png\"/></a>\n",
      "<a href=\"http://emdros.org\" target=\"_blank\"><img align=\"left\" src=\"files/images/Emdros-xsmall.png\"/></a>\n",
      "<a href=\"http://www.persistent-identifier.nl/?identifier=urn%3Anbn%3Anl%3Aui%3A13-048i-71\" target=\"_blank\"><img align=\"left\"src=\"images/etcbc4easy-small.png\"/></a>\n",
      "<a href=\"http://www.godgeleerdheid.vu.nl/etcbc\" target=\"_blank\"><img align=\"right\" src=\"images/VU-ETCBC-xsmall.png\"/></a>\n",
      "<a href=\"http://tla.mpi.nl\" target=\"_blank\"><img align=\"right\" src=\"images/TLA-xsmall.png\"/></a>\n",
      "<a href=\"http://www.dans.knaw.nl\" target=\"_blank\"><img align=\"right\"src=\"images/DANS-xsmall.png\"/></a>"
     ]
    },
    {
     "cell_type": "heading",
     "level": 1,
     "metadata": {},
     "source": [
      "Preparation"
     ]
    },
    {
     "cell_type": "markdown",
     "metadata": {},
     "source": [
      "SPARQL query: http://www.w3.org/TR/sparql11-overview/ (also INSERT QUERIES)\n",
      "\n",
      "SPARQL protocol: http://www.w3.org/TR/rdf-sparql-protocol/\n",
      "\n",
      "SPARQL interface in Python: SPARQLWrapper http://rdflib.github.io/sparqlwrapper/ and http://rdflib.github.io/sparqlwrapper/resources/doc/"
     ]
    },
    {
     "cell_type": "raw",
     "metadata": {},
     "source": [
      "pip install rdflib\n",
      "pip install simplejson\n",
      "pip install SPARQLWrapper"
     ]
    },
    {
     "cell_type": "code",
     "collapsed": false,
     "input": [
      "import collections\n",
      "import SPARQLWrapper\n",
      "from SPARQLWrapper import SPARQLWrapper, JSON"
     ],
     "language": "python",
     "metadata": {},
     "outputs": [
      {
       "output_type": "stream",
       "stream": "stderr",
       "text": [
        "/Library/Frameworks/Python.framework/Versions/3.4/lib/python3.4/site-packages/SPARQLWrapper/Wrapper.py:88: RuntimeWarning: JSON-LD disabled because no suitable support has been found\n",
        "  warnings.warn(\"JSON-LD disabled because no suitable support has been found\", RuntimeWarning)\n"
       ]
      }
     ],
     "prompt_number": 1
    },
    {
     "cell_type": "code",
     "collapsed": true,
     "input": [
      "sparql = SPARQLWrapper('http://dbpedia.org/sparql')\n",
      "sparql.setQuery('''\n",
      "    PREFIX rdfs: <http://www.w3.org/2000/01/rdf-schema#>\n",
      "    SELECT ?label\n",
      "    WHERE { <http://dbpedia.org/resource/Asturias> rdfs:label ?label }\n",
      "''')\n",
      "sparql.setReturnFormat(JSON)\n",
      "results = sparql.queryAndConvert()\n",
      "\n",
      "for result in results[\"results\"][\"bindings\"]:\n",
      "    print(result[\"label\"][\"value\"])"
     ],
     "language": "python",
     "metadata": {},
     "outputs": [
      {
       "output_type": "stream",
       "stream": "stdout",
       "text": [
        "\u963f\u65af\u56fe\u91cc\u4e9a\u65af\n",
        "Asturien\n",
        "Asturias\n",
        "Principado de Asturias\n",
        "Asturies\n",
        "Asturie\n",
        "\u30a2\u30b9\u30c8\u30a5\u30ea\u30a2\u30b9\u5dde\n",
        "Asturi\u00eb (regio)\n",
        "Asturia\n",
        "Ast\u00farias\n",
        "\u0410\u0441\u0442\u0443\u0440\u0438\u044f\n",
        "Asturien\n"
       ]
      }
     ],
     "prompt_number": 4
    },
    {
     "cell_type": "code",
     "collapsed": false,
     "input": [
      "sparql = SPARQLWrapper('http://shebanq.linked-ancient-data.org/sparql/')\n",
      "def exquery(squery, keyvar, valuevar):\n",
      "    sparql.setQuery(squery)\n",
      "    sparql.setReturnFormat(JSON)\n",
      "    results = sparql.queryAndConvert()\n",
      "    shebanq_queries = collections.defaultdict(lambda: [])\n",
      "    for result in results[\"results\"][\"bindings\"]:\n",
      "        shebanq_queries[result[keyvar]['value']].append(result[valuevar]['value'])\n",
      "    for body in shebanq_queries:\n",
      "        print(\"=== {} ===\\n{}\\n=== {} ===\\n{}\\n\".format(keyvar, valuevar, body, '\\n'.join(shebanq_queries[body])))\n",
      "        \n",
      "def exinsert(iquery):\n",
      "    sparql.setQuery(iquery)\n",
      "    sparql.setReturnFormat(JSON)\n",
      "    # sparql.setMethod('GET')\n",
      "    results = sparql.query()\n",
      "    return results"
     ],
     "language": "python",
     "metadata": {},
     "outputs": [],
     "prompt_number": 12
    },
    {
     "cell_type": "code",
     "collapsed": false,
     "input": [
      "q1 = '''\n",
      "PREFIX sq: <http://purl.org/collections/shebanq/>\n",
      "PREFIX oa: <http://www.w3.org/ns/oa#>\n",
      "\n",
      "SELECT ?body ?target WHERE {\n",
      "_:a sq:has_intension ?body;\n",
      "    sq:has_extension ?target .\n",
      "FILTER regex(str(?target), '/etcbc4/psalmi')\n",
      "}\n",
      "'''\n",
      "exquery(q1, 'body', 'target')"
     ],
     "language": "python",
     "metadata": {},
     "outputs": [
      {
       "output_type": "stream",
       "stream": "stdout",
       "text": [
        "=== body ===\n",
        "target\n",
        "=== SELECT ALL OBJECTS\n",
        "\t\t\tWHERE\n",
        "\t\t\t[Clause\n",
        "\t\t\t  [Phrase phrase_function = PreO OR phrase_function = PtcO\n",
        "\t\t\t\t [Word FOCUS part_of_speech = verb AND lexeme = \"FJM[\"]\n",
        "\t\t\t  ]\n",
        "\t\t\t  ..\n",
        "\t\t\t  [Phrase FOCUS phrase_function = Objc OR phrase_function = IrpO]\n",
        "\t\t\t]\n",
        "\t\t\tGO ===\n",
        "http://text.linked-ancient-data.org/etcbc4/psalmi/100/3?w=2,4\n",
        "\n"
       ]
      }
     ],
     "prompt_number": 14
    },
    {
     "cell_type": "code",
     "collapsed": false,
     "input": [
      "q2 = '''\n",
      "PREFIX sq: <http://purl.org/collections/shebanq/>\n",
      "PREFIX oa: <http://www.w3.org/ns/oa#>\n",
      "\n",
      "SELECT ?body ?target WHERE {\n",
      "_:a oa:hasBody ?body;\n",
      "    oa:hasTarget ?target .\n",
      "FILTER regex(str(?target), '/etcbc4/psalmi')\n",
      "}\n",
      "'''\n",
      "exquery(q2, 'body', 'target')"
     ],
     "language": "python",
     "metadata": {},
     "outputs": [
      {
       "output_type": "stream",
       "stream": "stdout",
       "text": [
        "=== body ===\n",
        "target\n",
        "=== SELECT ALL OBJECTS\n",
        "\t\t\tWHERE\n",
        "\t\t\t[Clause\n",
        "\t\t\t  [Phrase phrase_function = PreO OR phrase_function = PtcO\n",
        "\t\t\t\t [Word FOCUS part_of_speech = verb AND lexeme = \"FJM[\"]\n",
        "\t\t\t  ]\n",
        "\t\t\t  ..\n",
        "\t\t\t  [Phrase FOCUS phrase_function = Objc OR phrase_function = IrpO]\n",
        "\t\t\t]\n",
        "\t\t\tGO ===\n",
        "http://text.linked-ancient-data.org/etcbc4/psalmi/100/3?w=2,4\n",
        "\n"
       ]
      }
     ],
     "prompt_number": 20
    },
    {
     "cell_type": "code",
     "collapsed": false,
     "input": [
      "q3 = '''\n",
      "PREFIX sq: <http://purl.org/collections/shebanq/>\n",
      "PREFIX oa: <http://www.w3.org/ns/oa#>\n",
      "SELECT\n",
      "    ?q\n",
      "    ?researcher \n",
      "    ?body\n",
      "    ?target\n",
      "WHERE\n",
      "{\n",
      "    ?q oa:hasBody ?body;\n",
      "        oa:hasTarget ?target;\n",
      "        sq:has_researcher ?researcher\n",
      "}\n",
      "'''\n",
      "def doquery(squery):\n",
      "    sparql.setQuery(squery)\n",
      "    sparql.setReturnFormat(JSON)\n",
      "    results = sparql.queryAndConvert()\n",
      "    shebanq_queries = collections.defaultdict(lambda: [])\n",
      "    for result in results[\"results\"][\"bindings\"]:\n",
      "        shebanq_queries[result['q']['value']].append((\n",
      "            result['body']['value'],\n",
      "            result['target']['value'],\n",
      "            result['researcher']['value'],\n",
      "        ))\n",
      "    for q in shebanq_queries:\n",
      "        print(\"{}\\n{}\\n\".format(q, '\\n'.join('{}; {}; {}.'.format(v[0], v[1], v[2]) for v in shebanq_queries[q])))\n",
      "\n",
      "doquery(q3)"
     ],
     "language": "python",
     "metadata": {},
     "outputs": [
      {
       "output_type": "stream",
       "stream": "stdout",
       "text": [
        "http://purl.org/collections/shebanq/query2\n",
        "SELECT ALL OBJECTS\n",
        "\t\t\tWHERE\n",
        "\t\t\t[Clause\n",
        "\t\t\t  [Phrase phrase_function = PreO OR phrase_function = PtcO\n",
        "\t\t\t\t [Word FOCUS part_of_speech = verb AND lexeme = \"FJM[\"]\n",
        "\t\t\t  ]\n",
        "\t\t\t  ..\n",
        "\t\t\t  [Phrase FOCUS phrase_function = Objc OR phrase_function = IrpO]\n",
        "\t\t\t]\n",
        "\t\t\tGO; http://text.linked-ancient-data.org/etcbc4/psalmi/100/3?w=2,4; http://purl.org/collections/shebanq/researcher2.\n",
        "SELECT ALL OBJECTS\n",
        "\t\t\tWHERE\n",
        "\t\t\t[Clause\n",
        "\t\t\t  [Phrase phrase_function = PreO OR phrase_function = PtcO\n",
        "\t\t\t\t [Word FOCUS part_of_speech = verb AND lexeme = \"FJM[\"]\n",
        "\t\t\t  ]\n",
        "\t\t\t  ..\n",
        "\t\t\t  [Phrase FOCUS phrase_function = Objc OR phrase_function = IrpO]\n",
        "\t\t\t]\n",
        "\t\t\tGO; http://text.linked-ancient-data.org/etcbc4/genesis/3/17?w=5,4; http://purl.org/collections/shebanq/researcher2.\n",
        "SELECT ALL OBJECTS\n",
        "\t\t\tWHERE\n",
        "\t\t\t[Clause\n",
        "\t\t\t  [Phrase phrase_function = PreO OR phrase_function = PtcO\n",
        "\t\t\t\t [Word FOCUS part_of_speech = verb AND lexeme = \"FJM[\"]\n",
        "\t\t\t  ]\n",
        "\t\t\t  ..\n",
        "\t\t\t  [Phrase FOCUS phrase_function = Objc OR phrase_function = IrpO]\n",
        "\t\t\t]\n",
        "\t\t\tGO; http://text.linked-ancient-data.org/etcbc4/numeri/20/5?w=3; http://purl.org/collections/shebanq/researcher2.\n",
        "SELECT ALL OBJECTS\n",
        "\t\t\tWHERE\n",
        "\t\t\t[Clause\n",
        "\t\t\t  [Phrase phrase_function = PreO OR phrase_function = PtcO\n",
        "\t\t\t\t [Word FOCUS part_of_speech = verb AND lexeme = \"FJM[\"]\n",
        "\t\t\t  ]\n",
        "\t\t\t  ..\n",
        "\t\t\t  [Phrase FOCUS phrase_function = Objc OR phrase_function = IrpO]\n",
        "\t\t\t]\n",
        "\t\t\tGO; http://text.linked-ancient-data.org/etcbc4/canticum/7/4?w=14,8,4; http://purl.org/collections/shebanq/researcher2.\n",
        "\n",
        "http://purl.org/collections/shebanq/query1\n",
        "select all * where @prefix is [myword]; http://text.linked-ancient-data.org/etcbc4/samuel_ii/20/10?w=2,3; http://purl.org/collections/shebanq/researcher1.\n",
        "select all * where @prefix is [myword]; http://text.linked-ancient-data.org/etcbc4/reges_i/10/12?w=14,8,4; http://purl.org/collections/shebanq/researcher1.\n",
        "\n"
       ]
      }
     ],
     "prompt_number": 25
    },
    {
     "cell_type": "code",
     "collapsed": false,
     "input": [
      "q4 = '''\n",
      "PREFIX oa: <http://www.w3.org/ns/oa#>\n",
      "SELECT\n",
      "    ?q\n",
      "    ?researcher \n",
      "    ?researcherm \n",
      "    ?project\n",
      "    ?projecth\n",
      "    ?institute\n",
      "    ?instituteh\n",
      "    ?researchq\n",
      "    ?versione\n",
      "    ?versions\n",
      "    ?datelr\n",
      "    ?datepub\n",
      "    ?body\n",
      "    ?target\n",
      "WHERE\n",
      "{\n",
      "    ?q oa:hasBody ?body;\n",
      "        oa:hasTarget ?target;\n",
      "        sq:has_researcher ?researcher\n",
      "}\n",
      "'''"
     ],
     "language": "python",
     "metadata": {},
     "outputs": []
    },
    {
     "cell_type": "code",
     "collapsed": false,
     "input": [
      "qi_1 = '''\n",
      "PREFIX sq: <http://purl.org/collections/shebanq/>\n",
      "PREFIX oa: <http://www.w3.org/ns/oa#>\n",
      "\n",
      "INSERT DATA\n",
      "{ GRAPH <http://purl.org/collections/nl/shebanq/shebanq_data.ttl> { <sq:mql1>  oa:hasBody  \"u v w\" } }\n",
      "'''"
     ],
     "language": "python",
     "metadata": {},
     "outputs": [],
     "prompt_number": 13
    },
    {
     "cell_type": "raw",
     "metadata": {},
     "source": [
      "PREFIX sq: <http://purl.org/collections/shebanq/> PREFIX oa: <http://www.w3.org/ns/oa#> INSERT DATA { GRAPH <http://purl.org/collections/nl/shebanq/shebanq_data.ttl> { <sq:mql1>  oa:hasBody  \"p q r\" } }"
     ]
    },
    {
     "cell_type": "raw",
     "metadata": {},
     "source": [
      "PREFIX sq: <http://purl.org/collections/shebanq/>\n",
      "PREFIX oa: <http://www.w3.org/ns/oa#>\n",
      "\n",
      "INSERT DATA\n",
      "{ GRAPH <http://purl.org/collections/nl/shebanq/shebanq_data.ttl> { <sq:mql1>  oa:hasBody  \"u v w\" } }"
     ]
    },
    {
     "cell_type": "raw",
     "metadata": {},
     "source": [
      "PREFIX dc: <http://purl.org/dc/elements/1.1/>\n",
      "PREFIX ns: <http://example.org/ns#>\n",
      "INSERT DATA\n",
      "{ GRAPH <http://example/org/> { <http://example/book1>  ns:price  42 } }"
     ]
    },
    {
     "cell_type": "code",
     "collapsed": false,
     "input": [
      "http://shebanq.linked-ancient-data.org/browse/list_graph?graph=http://example/org/\n",
      "http://shebanq.linked-ancient-data.org/browse/list_graph?graph=http://example.org/"
     ],
     "language": "python",
     "metadata": {},
     "outputs": []
    },
    {
     "cell_type": "code",
     "collapsed": true,
     "input": [
      "result = exinsert(qi_1)\n",
      "print(result)"
     ],
     "language": "python",
     "metadata": {},
     "outputs": [
      {
       "ename": "EndPointInternalError",
       "evalue": "EndPointInternalError: endpoint returned code 500 and response. \n\nResponse:\nb'<!DOCTYPE html>\\n<html>\\n<head>\\n<title>500 Internal server error</title>\\n\\n<meta http-equiv=\"content-type\" content=\"text/html; charset=UTF-8\">\\n\\n</head>\\n<body>\\n\\n<h1>Internal server error</h1>\\n\\n<p>\\nform_data `query\\' does not exist<br>\\nIn:<br>\\n  [19] throw(error(...,_G210))<br>\\n  [16] http_parameters:fill_parameters([...|...],[...|...],api_sparql:sparql_decl) at /usr/lib/swi-prolog/library/http/http_parameters.pl:154<br>\\n  [14] http_parameters:http_parameters([...|...],[...|...],api_sparql: ...) at /usr/lib/swi-prolog/library/http/http_parameters.pl:117<br>\\n  [13] api_sparql:sparql_query([...|...]) at /home/rdf/ClioPatria/api/sparql.pl:58<br>\\n  [12] http_dispatch:call_action(api_sparql:sparql_query,[...|...]) at /usr/lib/swi-prolog/library/http/http_dispatch.pl:610<br>\\n  [10] time:run_alarm_goal(\\'$alarm\\'(34968327884732),http_dispatch: ...) at /usr/lib/swi-prolog/library/time.pl:131<br>\\n   [9] setup_call_catcher_cleanup(time: ...,time: ...,_G337,time: ...) at /usr/lib/swi-prolog/boot/init.pl:310<br>\\n   [5] httpd_wrapper:call_handler(http_dispatch: ...,364,-) at /usr/lib/swi-prolog/library/http/http_wrapper.pl:290<br>\\n   [4] catch(httpd_wrapper: ...,error(...,...),httpd_wrapper:true) at /usr/lib/swi-prolog/boot/init.pl:274<br>\\n   [3] httpd_wrapper:handler_with_output_to(http_dispatch: ...,364,-,current_output,error(...,...)) at /usr/lib/swi-prolog/library/http/http_wrapper.pl:276<br>\\n   [2] httpd_wrapper:http_wrap_spawned(http_dispatch: ...,_G431,_G432) at /usr/lib/swi-prolog/library/http/http_wrapper.pl:132<br>\\n   [1] thread_httpd:wrap_spawned(&lt;stream&gt;(0x7f36f417afb0),http_dispatch: ...) at /usr/lib/swi-prolog/library/http/thread_httpd.pl:673<br>\\n   [0] &lt;meta call&gt;</p><address><a href=\"http://www.swi-prolog.org\">SWI-Prolog</a> httpd at PPJV003.cs1local</address>\\n</body>\\n</html>\\n'",
       "output_type": "pyerr",
       "traceback": [
        "\u001b[0;31m---------------------------------------------------------------------------\u001b[0m\n\u001b[0;31mEndPointInternalError\u001b[0m                     Traceback (most recent call last)",
        "\u001b[0;32m<ipython-input-14-4c98841a6c7f>\u001b[0m in \u001b[0;36m<module>\u001b[0;34m()\u001b[0m\n\u001b[0;32m----> 1\u001b[0;31m \u001b[0mresult\u001b[0m \u001b[0;34m=\u001b[0m \u001b[0mexinsert\u001b[0m\u001b[0;34m(\u001b[0m\u001b[0mqi_1\u001b[0m\u001b[0;34m)\u001b[0m\u001b[0;34m\u001b[0m\u001b[0m\n\u001b[0m\u001b[1;32m      2\u001b[0m \u001b[0mprint\u001b[0m\u001b[0;34m(\u001b[0m\u001b[0mresult\u001b[0m\u001b[0;34m)\u001b[0m\u001b[0;34m\u001b[0m\u001b[0m\n",
        "\u001b[0;32m<ipython-input-12-c19cef7497d2>\u001b[0m in \u001b[0;36mexinsert\u001b[0;34m(iquery)\u001b[0m\n\u001b[1;32m     14\u001b[0m     \u001b[0msparql\u001b[0m\u001b[0;34m.\u001b[0m\u001b[0msetReturnFormat\u001b[0m\u001b[0;34m(\u001b[0m\u001b[0mJSON\u001b[0m\u001b[0;34m)\u001b[0m\u001b[0;34m\u001b[0m\u001b[0m\n\u001b[1;32m     15\u001b[0m     \u001b[0msparql\u001b[0m\u001b[0;34m.\u001b[0m\u001b[0msetMethod\u001b[0m\u001b[0;34m(\u001b[0m\u001b[0;34m'GET'\u001b[0m\u001b[0;34m)\u001b[0m\u001b[0;34m\u001b[0m\u001b[0m\n\u001b[0;32m---> 16\u001b[0;31m     \u001b[0mresults\u001b[0m \u001b[0;34m=\u001b[0m \u001b[0msparql\u001b[0m\u001b[0;34m.\u001b[0m\u001b[0mquery\u001b[0m\u001b[0;34m(\u001b[0m\u001b[0;34m)\u001b[0m\u001b[0;34m\u001b[0m\u001b[0m\n\u001b[0m\u001b[1;32m     17\u001b[0m     \u001b[0;32mreturn\u001b[0m \u001b[0mresults\u001b[0m\u001b[0;34m\u001b[0m\u001b[0m\n",
        "\u001b[0;32m/Library/Frameworks/Python.framework/Versions/3.4/lib/python3.4/site-packages/SPARQLWrapper/Wrapper.py\u001b[0m in \u001b[0;36mquery\u001b[0;34m(self)\u001b[0m\n\u001b[1;32m    458\u001b[0m             \u001b[0;34m@\u001b[0m\u001b[0mrtype\u001b[0m\u001b[0;34m:\u001b[0m \u001b[0mL\u001b[0m\u001b[0;34m{\u001b[0m\u001b[0mQueryResult\u001b[0m\u001b[0;34m}\u001b[0m \u001b[0minstance\u001b[0m\u001b[0;34m\u001b[0m\u001b[0m\n\u001b[1;32m    459\u001b[0m         \"\"\"\n\u001b[0;32m--> 460\u001b[0;31m         \u001b[0;32mreturn\u001b[0m \u001b[0mQueryResult\u001b[0m\u001b[0;34m(\u001b[0m\u001b[0mself\u001b[0m\u001b[0;34m.\u001b[0m\u001b[0m_query\u001b[0m\u001b[0;34m(\u001b[0m\u001b[0;34m)\u001b[0m\u001b[0;34m)\u001b[0m\u001b[0;34m\u001b[0m\u001b[0m\n\u001b[0m\u001b[1;32m    461\u001b[0m \u001b[0;34m\u001b[0m\u001b[0m\n\u001b[1;32m    462\u001b[0m     \u001b[0;32mdef\u001b[0m \u001b[0mqueryAndConvert\u001b[0m\u001b[0;34m(\u001b[0m\u001b[0mself\u001b[0m\u001b[0;34m)\u001b[0m\u001b[0;34m:\u001b[0m\u001b[0;34m\u001b[0m\u001b[0m\n",
        "\u001b[0;32m/Library/Frameworks/Python.framework/Versions/3.4/lib/python3.4/site-packages/SPARQLWrapper/Wrapper.py\u001b[0m in \u001b[0;36m_query\u001b[0;34m(self)\u001b[0m\n\u001b[1;32m    436\u001b[0m                 \u001b[0;32mraise\u001b[0m \u001b[0mEndPointNotFound\u001b[0m\u001b[0;34m(\u001b[0m\u001b[0me\u001b[0m\u001b[0;34m.\u001b[0m\u001b[0mread\u001b[0m\u001b[0;34m(\u001b[0m\u001b[0;34m)\u001b[0m\u001b[0;34m)\u001b[0m\u001b[0;34m\u001b[0m\u001b[0m\n\u001b[1;32m    437\u001b[0m             \u001b[0;32melif\u001b[0m \u001b[0me\u001b[0m\u001b[0;34m.\u001b[0m\u001b[0mcode\u001b[0m \u001b[0;34m==\u001b[0m \u001b[0;36m500\u001b[0m\u001b[0;34m:\u001b[0m\u001b[0;34m\u001b[0m\u001b[0m\n\u001b[0;32m--> 438\u001b[0;31m                 \u001b[0;32mraise\u001b[0m \u001b[0mEndPointInternalError\u001b[0m\u001b[0;34m(\u001b[0m\u001b[0me\u001b[0m\u001b[0;34m.\u001b[0m\u001b[0mread\u001b[0m\u001b[0;34m(\u001b[0m\u001b[0;34m)\u001b[0m\u001b[0;34m)\u001b[0m\u001b[0;34m\u001b[0m\u001b[0m\n\u001b[0m\u001b[1;32m    439\u001b[0m             \u001b[0;32melse\u001b[0m\u001b[0;34m:\u001b[0m\u001b[0;34m\u001b[0m\u001b[0m\n\u001b[1;32m    440\u001b[0m                 \u001b[0;32mraise\u001b[0m \u001b[0me\u001b[0m\u001b[0;34m\u001b[0m\u001b[0m\n",
        "\u001b[0;31mEndPointInternalError\u001b[0m: EndPointInternalError: endpoint returned code 500 and response. \n\nResponse:\nb'<!DOCTYPE html>\\n<html>\\n<head>\\n<title>500 Internal server error</title>\\n\\n<meta http-equiv=\"content-type\" content=\"text/html; charset=UTF-8\">\\n\\n</head>\\n<body>\\n\\n<h1>Internal server error</h1>\\n\\n<p>\\nform_data `query\\' does not exist<br>\\nIn:<br>\\n  [19] throw(error(...,_G210))<br>\\n  [16] http_parameters:fill_parameters([...|...],[...|...],api_sparql:sparql_decl) at /usr/lib/swi-prolog/library/http/http_parameters.pl:154<br>\\n  [14] http_parameters:http_parameters([...|...],[...|...],api_sparql: ...) at /usr/lib/swi-prolog/library/http/http_parameters.pl:117<br>\\n  [13] api_sparql:sparql_query([...|...]) at /home/rdf/ClioPatria/api/sparql.pl:58<br>\\n  [12] http_dispatch:call_action(api_sparql:sparql_query,[...|...]) at /usr/lib/swi-prolog/library/http/http_dispatch.pl:610<br>\\n  [10] time:run_alarm_goal(\\'$alarm\\'(34968327884732),http_dispatch: ...) at /usr/lib/swi-prolog/library/time.pl:131<br>\\n   [9] setup_call_catcher_cleanup(time: ...,time: ...,_G337,time: ...) at /usr/lib/swi-prolog/boot/init.pl:310<br>\\n   [5] httpd_wrapper:call_handler(http_dispatch: ...,364,-) at /usr/lib/swi-prolog/library/http/http_wrapper.pl:290<br>\\n   [4] catch(httpd_wrapper: ...,error(...,...),httpd_wrapper:true) at /usr/lib/swi-prolog/boot/init.pl:274<br>\\n   [3] httpd_wrapper:handler_with_output_to(http_dispatch: ...,364,-,current_output,error(...,...)) at /usr/lib/swi-prolog/library/http/http_wrapper.pl:276<br>\\n   [2] httpd_wrapper:http_wrap_spawned(http_dispatch: ...,_G431,_G432) at /usr/lib/swi-prolog/library/http/http_wrapper.pl:132<br>\\n   [1] thread_httpd:wrap_spawned(&lt;stream&gt;(0x7f36f417afb0),http_dispatch: ...) at /usr/lib/swi-prolog/library/http/thread_httpd.pl:673<br>\\n   [0] &lt;meta call&gt;</p><address><a href=\"http://www.swi-prolog.org\">SWI-Prolog</a> httpd at PPJV003.cs1local</address>\\n</body>\\n</html>\\n'"
       ]
      }
     ],
     "prompt_number": 14
    },
    {
     "cell_type": "code",
     "collapsed": false,
     "input": [
      "curl -i -F query='PREFIX sq: <http://purl.org/collections/shebanq/> PREFIX oa: <http://www.w3.org/ns/oa#> INSERT DATA { GRAPH <http://purl.org/collections/nl/shebanq/shebanq_data.ttl> { <sq:mql1>  oa:hasBody  \"p q r\" } }' -H 'Content-Type: application/sparql-query' http://shebanq.linked-ancient-data.org/sparql/"
     ],
     "language": "python",
     "metadata": {},
     "outputs": [
      {
       "ename": "SyntaxError",
       "evalue": "invalid syntax (<ipython-input-5-3a275696a2d6>, line 2)",
       "output_type": "pyerr",
       "traceback": [
        "\u001b[0;36m  File \u001b[0;32m\"<ipython-input-5-3a275696a2d6>\"\u001b[0;36m, line \u001b[0;32m2\u001b[0m\n\u001b[0;31m    -H \"Content-Type: application/sparql-query\" http://shebanq.linked-ancient-data.org/sparql/query\u001b[0m\n\u001b[0m                                              ^\u001b[0m\n\u001b[0;31mSyntaxError\u001b[0m\u001b[0;31m:\u001b[0m invalid syntax\n"
       ]
      }
     ],
     "prompt_number": 5
    },
    {
     "cell_type": "code",
     "collapsed": false,
     "input": [],
     "language": "python",
     "metadata": {},
     "outputs": []
    }
   ],
   "metadata": {}
  }
 ]
}