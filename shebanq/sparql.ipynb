{
 "metadata": {
  "name": "",
  "signature": "sha256:e7e1ea4211f726db95d82a0cd7e66c7749578f76c1fd505f78128ed71dc33047"
 },
 "nbformat": 3,
 "nbformat_minor": 0,
 "worksheets": [
  {
   "cells": [
    {
     "cell_type": "heading",
     "level": 1,
     "metadata": {},
     "source": [
      "Preparation"
     ]
    },
    {
     "cell_type": "raw",
     "metadata": {},
     "source": [
      "pip install rdflib\n",
      "pip install simplejson\n",
      "pip install SPARQLWrapper"
     ]
    },
    {
     "cell_type": "code",
     "collapsed": false,
     "input": [
      "import collections\n",
      "import SPARQLWrapper\n",
      "from SPARQLWrapper import SPARQLWrapper, JSON"
     ],
     "language": "python",
     "metadata": {},
     "outputs": [
      {
       "output_type": "stream",
       "stream": "stderr",
       "text": [
        "/Library/Frameworks/Python.framework/Versions/3.4/lib/python3.4/site-packages/SPARQLWrapper/Wrapper.py:88: RuntimeWarning: JSON-LD disabled because no suitable support has been found\n",
        "  warnings.warn(\"JSON-LD disabled because no suitable support has been found\", RuntimeWarning)\n"
       ]
      }
     ],
     "prompt_number": 1
    },
    {
     "cell_type": "code",
     "collapsed": true,
     "input": [
      "sparql = SPARQLWrapper('http://dbpedia.org/sparql')\n",
      "sparql.setQuery('''\n",
      "    PREFIX rdfs: <http://www.w3.org/2000/01/rdf-schema#>\n",
      "    SELECT ?label\n",
      "    WHERE { <http://dbpedia.org/resource/Asturias> rdfs:label ?label }\n",
      "''')\n",
      "sparql.setReturnFormat(JSON)\n",
      "results = sparql.queryAndConvert()\n",
      "\n",
      "for result in results[\"results\"][\"bindings\"]:\n",
      "    print(result[\"label\"][\"value\"])"
     ],
     "language": "python",
     "metadata": {},
     "outputs": [
      {
       "output_type": "stream",
       "stream": "stdout",
       "text": [
        "\u963f\u65af\u56fe\u91cc\u4e9a\u65af\n",
        "Asturien\n",
        "Asturias\n",
        "Principado de Asturias\n",
        "Asturies\n",
        "Asturie\n",
        "\u30a2\u30b9\u30c8\u30a5\u30ea\u30a2\u30b9\u5dde\n",
        "Asturi\u00eb (regio)\n",
        "Asturia\n",
        "Ast\u00farias\n",
        "\u0410\u0441\u0442\u0443\u0440\u0438\u044f\n",
        "Asturien\n"
       ]
      }
     ],
     "prompt_number": 2
    },
    {
     "cell_type": "code",
     "collapsed": false,
     "input": [
      "sparql = SPARQLWrapper('http://shebanq.linked-ancient-data.org/sparql/')\n",
      "sparql.setQuery('''\n",
      "PREFIX sq: <http://purl.org/collections/shebanq/>\n",
      "PREFIX oa: <http://www.w3.org/ns/oa#>\n",
      "\n",
      "SELECT ?body ?target WHERE {\n",
      "_:a sq:has_intension ?body;\n",
      "    sq:has_extension ?target .\n",
      "}\n",
      "''')\n",
      "sparql.setReturnFormat(JSON)\n",
      "results = sparql.queryAndConvert()\n",
      "\n",
      "shebanq_queries = collections.defaultdict(lambda: [])\n",
      "for result in results[\"results\"][\"bindings\"]:\n",
      "    shebanq_queries[result['body']['value']].append(result['target']['value'])\n",
      "\n",
      "for body in shebanq_queries:\n",
      "    print(\"=== body ===\\n{}\\n=== results ===\\n{}\\n\".format(body, '\\n'.join(shebanq_queries[body])))"
     ],
     "language": "python",
     "metadata": {},
     "outputs": [
      {
       "output_type": "stream",
       "stream": "stdout",
       "text": [
        "=== body ===\n",
        "SELECT ALL OBJECTS\n",
        "\t\t\tWHERE\n",
        "\t\t\t[Clause\n",
        "\t\t\t  [Phrase phrase_function = PreO OR phrase_function = PtcO\n",
        "\t\t\t\t [Word FOCUS part_of_speech = verb AND lexeme = \"FJM[\"]\n",
        "\t\t\t  ]\n",
        "\t\t\t  ..\n",
        "\t\t\t  [Phrase FOCUS phrase_function = Objc OR phrase_function = IrpO]\n",
        "\t\t\t]\n",
        "\t\t\tGO\n",
        "=== results ===\n",
        "http://shebanq.linked-ancient-data.org/shebanq/word?w=100,102\n",
        "http://shebanq.linked-ancient-data.org/shebanq/word?w=13,4\n",
        "http://shebanq.linked-ancient-data.org/shebanq/word?w=0,1\n",
        "http://shebanq.linked-ancient-data.org/shebanq/word?w=14,8,4\n",
        "\n",
        "=== body ===\n",
        "select all * where @prefix is [myword]\n",
        "=== results ===\n",
        "http://shebanq.linked-ancient-data.org/shebanq/word?w=12,3\n",
        "http://shebanq.linked-ancient-data.org/shebanq/word?w=14,8,4\n",
        "\n"
       ]
      }
     ],
     "prompt_number": 8
    },
    {
     "cell_type": "code",
     "collapsed": false,
     "input": [],
     "language": "python",
     "metadata": {},
     "outputs": []
    }
   ],
   "metadata": {}
  }
 ]
}