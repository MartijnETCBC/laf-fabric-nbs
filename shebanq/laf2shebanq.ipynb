{
 "metadata": {
  "name": "",
  "signature": "sha256:f3a31c753fca3b39f4ef0d208243e5ae8a466c715239b656731ba02e3f2ce213"
 },
 "nbformat": 3,
 "nbformat_minor": 0,
 "worksheets": [
  {
   "cells": [
    {
     "cell_type": "markdown",
     "metadata": {},
     "source": [
      "<a href=\"http://laf-fabric.readthedocs.org/en/latest/\" target=\"_blank\"><img align=\"left\" src=\"images/laf-fabric-xsmall.png\"/></a>\n",
      "<a href=\"http://emdros.org\" target=\"_blank\"><img align=\"left\" src=\"files/images/Emdros-xsmall.png\"/></a>\n",
      "<a href=\"http://www.persistent-identifier.nl/?identifier=urn%3Anbn%3Anl%3Aui%3A13-048i-71\" target=\"_blank\"><img align=\"left\"src=\"images/etcbc4easy-small.png\"/></a>\n",
      "<a href=\"http://www.godgeleerdheid.vu.nl/etcbc\" target=\"_blank\"><img align=\"right\" src=\"images/VU-ETCBC-xsmall.png\"/></a>\n",
      "<a href=\"http://tla.mpi.nl\" target=\"_blank\"><img align=\"right\" src=\"images/TLA-xsmall.png\"/></a>\n",
      "<a href=\"http://www.dans.knaw.nl\" target=\"_blank\"><img align=\"right\"src=\"images/DANS-xsmall.png\"/></a>"
     ]
    },
    {
     "cell_type": "heading",
     "level": 1,
     "metadata": {},
     "source": [
      "LAF2SHEBANQ"
     ]
    },
    {
     "cell_type": "markdown",
     "metadata": {},
     "source": [
      "This notebook constructs a relational database, *etcbc*, meant to support browsing of texts and pre-highlighting of words.\n",
      "It contains the texts themselves, verse by verse, and it contains book and chapter information. See the MySQL create statements below."
     ]
    },
    {
     "cell_type": "code",
     "collapsed": false,
     "input": [
      "import sys\n",
      "import collections\n",
      "\n",
      "from laf.fabric import LafFabric\n",
      "fabric = LafFabric()"
     ],
     "language": "python",
     "metadata": {},
     "outputs": [
      {
       "output_type": "stream",
       "stream": "stderr",
       "text": [
        "  0.00s This is LAF-Fabric 4.4.1\n",
        "http://laf-fabric.readthedocs.org/en/latest/texts/API-reference.html\n"
       ]
      }
     ],
     "prompt_number": 1
    },
    {
     "cell_type": "code",
     "collapsed": false,
     "input": [
      "fabric.load('etcbc4', '--', 'shebanq', {\n",
      "    \"xmlids\": {\"node\": False, \"edge\": False},\n",
      "    \"features\": ('''\n",
      "        otype monads minmonad maxmonad\n",
      "        g_word_utf8 trailer_utf8\n",
      "        book chapter verse label\n",
      "    ''',''),\n",
      "    \"primary\": False,\n",
      "})\n",
      "exec(fabric.localnames.format(var='fabric'))"
     ],
     "language": "python",
     "metadata": {},
     "outputs": [
      {
       "output_type": "stream",
       "stream": "stderr",
       "text": [
        "  0.00s LOADING API: please wait ... \n"
       ]
      },
      {
       "output_type": "stream",
       "stream": "stderr",
       "text": [
        "  0.00s INFO: USING DATA COMPILED AT: 2014-07-23T09-31-37\n"
       ]
      },
      {
       "output_type": "stream",
       "stream": "stderr",
       "text": [
        "  4.00s LOGFILE=/Users/dirk/laf-fabric-output/etcbc4/shebanq/__log__shebanq.txt\n"
       ]
      },
      {
       "output_type": "stream",
       "stream": "stderr",
       "text": [
        "  4.01s INFO: DATA LOADED FROM SOURCE etcbc4 AND ANNOX -- FOR TASK shebanq AT 2014-07-24T09-07-28\n"
       ]
      }
     ],
     "prompt_number": 2
    },
    {
     "cell_type": "heading",
     "level": 1,
     "metadata": {},
     "source": [
      "Data model"
     ]
    },
    {
     "cell_type": "markdown",
     "metadata": {},
     "source": [
      "The data model of the browsing database as as follows:\n",
      "\n",
      "There are tables ``book``, ``chapter``, ``verse``, ``word_verse``.\n",
      "\n",
      "All tables, except ``word_verse``, contain fields ``first_m``, ``last_m``, denoting the first and last monad number of\n",
      "that book, chapter or verse.\n",
      "\n",
      "A ``book``-record contains an identifier and the name of the book.\n",
      "\n",
      "A ``chapter``-record contains an identifier, the number of the chapter, and a foreign key to the record in the ``book`` table to which the chapter belongs.\n",
      "\n",
      "A ``verse``-record contains an identifier, the number of the verse, and a foreign key to the record in the ``chapter`` table to which the verse belongs. More over, it contains the text of the whole verse in two formats:\n",
      "\n",
      "In field ``text``: the plain unicode text string of the complete verse.\n",
      "\n",
      "In field ``xml``: a sequence of ``<w>`` elements, one for each word in the verse, containing the plain unicode text string of that word as element content and the monad number of that word as attribute value. The monad number is a globally unique sequence number of a word occurrence in the Hebrew Bible, going from 1 to precisely 426,555.\n",
      "\n",
      "    <w m=\"2\">\u05e8\u05b5\u05d0\u05e9\u05b4\u05c1\u0596\u05d9\u05ea </w>\n",
      "As you see, the material between a word and the next word is appended to the first word. So, when you concatenate words, whitespace or other separators are needed.\n",
      "\n",
      "A ``word_verse``-record links a word to a verse. The monad number is in field ``anchor``, which is a *string*, and the verse is specified in the field ``verse_id`` as foreign key."
     ]
    },
    {
     "cell_type": "heading",
     "level": 1,
     "metadata": {},
     "source": [
      "Sanity"
     ]
    },
    {
     "cell_type": "markdown",
     "metadata": {},
     "source": [
      "The texts and xml representations of verses are stored in ``varchar`` fields.\n",
      "We have to make sure that the values fit within the declared sizes of these fields.\n",
      "The code measures the maximum lengths of these fields, and it turns out that the text is maximally 434 chars and the xml 2186 chars."
     ]
    },
    {
     "cell_type": "code",
     "collapsed": false,
     "input": [
      "config = {\n",
      "    'db': 'passage',\n",
      "}\n",
      "text_create_sql = '''\n",
      "drop database if exists {db};\n",
      "\n",
      "create database {db} character set utf8;\n",
      "\n",
      "use {db};\n",
      "\n",
      "create table book(\n",
      "\tid      int(5) primary key,\n",
      "\tfirst_m int(4),\n",
      "\tlast_m int(4),\n",
      "\tname varchar(50)\n",
      ");\n",
      "\n",
      "create table chapter(\n",
      "\tid int(4) primary key,\n",
      "\tfirst_m int(4),\n",
      "\tlast_m int(4),\n",
      "\tbook_id int(5),\n",
      "\tchapter_num int(5),\n",
      "\tforeign key (book_id) references book(id)\n",
      ");\n",
      "\n",
      "create table verse(\n",
      "\tid int(4) primary key,\n",
      "\tfirst_m int(4),\n",
      "\tlast_m int(4),\n",
      "\tchapter_id int(5),\n",
      "\tverse_num int(4),\n",
      "\ttext varchar(1000) character set utf8,\n",
      "    xml varchar(4000) character set utf8,\n",
      "\tforeign key (chapter_id) references chapter(id)\n",
      ");\n",
      "\n",
      "create table word_verse(\n",
      "\tanchor int(4) unique,\n",
      "\tverse_id int(4),\n",
      "\tforeign key (verse_id) references verse(id)\n",
      ");\n",
      "\n",
      "'''.format(**config)"
     ],
     "language": "python",
     "metadata": {},
     "outputs": [],
     "prompt_number": 3
    },
    {
     "cell_type": "code",
     "collapsed": false,
     "input": [
      "sqf = outfile('etcbc4-passage.sql')\n",
      "\n",
      "limit_row = 1000\n",
      "\n",
      "cur_id = {\n",
      "    'book': -1,\n",
      "    'chapter': - 1,\n",
      "    'verse': -1,\n",
      "}\n",
      "cur_verse_node = None\n",
      "cur_verse_info = []\n",
      "cur_verse_first_m = None\n",
      "cur_verse_last_m = None\n",
      "max_len_text = -1\n",
      "max_len_xml = -1\n",
      "\n",
      "tables = collections.defaultdict(lambda: [])\n",
      "tables_head = collections.OrderedDict((\n",
      "    ('book', 'insert into book (id, first_m, last_m, name) values \\n'),\n",
      "    ('chapter', 'insert into chapter (id, first_m, last_m, book_id, chapter_num) values \\n'),\n",
      "    ('verse', 'insert into verse (id, first_m, last_m, chapter_id, verse_num, text, xml) values \\n'),\n",
      "    ('word_verse', 'insert into word_verse (anchor, verse_id) values \\n'),\n",
      "))\n",
      "\n",
      "Fotypev = F.otype.v\n",
      "Fmonadsv = F.monads.v\n",
      "Fmin = F.minmonad.v\n",
      "Fmax = F.maxmonad.v\n",
      "Ftextv = F.g_word_utf8.v\n",
      "Ftrailerv = F.trailer_utf8.v\n",
      "\n",
      "def do_verse(node):\n",
      "    global cur_verse_node, cur_verse_info, max_len_text, max_len_xml\n",
      "    if cur_verse_node != None:\n",
      "        this_text = ''.join('{}{}'.format(x[0], x[1]) for x in cur_verse_info)\n",
      "        this_xml = ''.join('''<w m=\"{}\" t=\"{}\">{}</w>'''.format(x[2], x[1].replace('\\n', '&#xa;'), x[0]) for x in cur_verse_info)\n",
      "        len_this_text = len(this_text)\n",
      "        len_this_xml = len(this_xml)\n",
      "        if len_this_text > max_len_text: max_len_text = len_this_text\n",
      "        if len_this_xml > max_len_xml: max_len_xml = len_this_xml\n",
      "        tables['verse'].append(\"({},{},{},{},{},'{}','{}')\".format(\n",
      "            cur_id['verse'], \n",
      "            cur_verse_first_m, \n",
      "            cur_verse_last_m, \n",
      "            cur_id['chapter'], F.verse.v(cur_verse_node), this_text, this_xml,\n",
      "        ))\n",
      "        for x in cur_verse_info:\n",
      "            tables['word_verse'].append(\"({}, {})\".format(\n",
      "                x[2], x[3],\n",
      "            ))\n",
      "        cur_verse_info = []\n",
      "    cur_verse_node = node\n",
      "    \n",
      "sqf.write(text_create_sql)\n",
      "\n",
      "for node in NN():\n",
      "    otype = Fotypev(node)\n",
      "    if otype == 'word':\n",
      "        text = Ftextv(node)\n",
      "        trailer = Ftrailerv(node)\n",
      "        cur_verse_info.append((\n",
      "            text,\n",
      "            trailer,\n",
      "            Fmonadsv(node), \n",
      "            cur_id['verse'],\n",
      "        ))\n",
      "    elif otype == 'verse':\n",
      "        do_verse(node)\n",
      "        cur_id['verse'] += 1\n",
      "        cur_verse_first_m = Fmin(node)\n",
      "        cur_verse_last_m = Fmax(node)\n",
      "    elif otype == 'chapter':\n",
      "        do_verse(None)\n",
      "        cur_id['chapter'] += 1\n",
      "        tables['chapter'].append(\"({},{},{},{},'{}')\".format(\n",
      "            cur_id['chapter'], Fmin(node), Fmax(node), cur_id['book'], F.chapter.v(node),\n",
      "        ))\n",
      "    elif otype == 'book':\n",
      "        do_verse(None)\n",
      "        cur_id['book'] += 1\n",
      "        tables['book'].append(\"({},{},{},'{}')\".format(\n",
      "            cur_id['book'], Fmin(node), Fmax(node), F.book.v(node)\n",
      "        ))\n",
      "do_verse(None)\n",
      "\n",
      "for table in tables_head:\n",
      "    start = tables_head[table]\n",
      "    rows = tables[table]\n",
      "    r = 0\n",
      "    while r < len(rows):\n",
      "        sqf.write(start)\n",
      "        s = min(r + limit_row, len(rows))\n",
      "        sqf.write(' {}'.format(rows[r]))\n",
      "        if r + 1 < len(rows):\n",
      "            for t in rows[r + 1:s]: sqf.write('\\n,{}'.format(t))\n",
      "        sqf.write(';\\n')\n",
      "        r = s\n",
      "        \n",
      "sqf.close()\n",
      "print(\"max len text = {}\\nmax len xml  = {}\".format(max_len_text, max_len_xml))"
     ],
     "language": "python",
     "metadata": {},
     "outputs": [
      {
       "output_type": "stream",
       "stream": "stdout",
       "text": [
        "max len text = 434\n",
        "max len xml  = 2186\n"
       ]
      }
     ],
     "prompt_number": 4
    },
    {
     "cell_type": "code",
     "collapsed": false,
     "input": [],
     "language": "python",
     "metadata": {},
     "outputs": []
    }
   ],
   "metadata": {}
  }
 ]
}