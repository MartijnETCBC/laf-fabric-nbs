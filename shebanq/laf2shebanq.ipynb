{
 "metadata": {
  "name": "",
  "signature": "sha256:b51db9390d3a744b4d48547ea1fc9a9585af4ffed0b54079821ce2f7598f0698"
 },
 "nbformat": 3,
 "nbformat_minor": 0,
 "worksheets": [
  {
   "cells": [
    {
     "cell_type": "heading",
     "level": 1,
     "metadata": {},
     "source": [
      "LAF2SHEBANQ"
     ]
    },
    {
     "cell_type": "markdown",
     "metadata": {},
     "source": [
      "This notebook constructs a relational database, *etcbc*, meant to support browsing of texts and pre-highlighting of words.\n",
      "It contains the texts themselves, verse by verse, and it contains book and chapter information. See the MySQL create statements below."
     ]
    },
    {
     "cell_type": "code",
     "collapsed": false,
     "input": [
      "import sys\n",
      "import collections\n",
      "\n",
      "from laf.fabric import LafFabric\n",
      "fabric = LafFabric()"
     ],
     "language": "python",
     "metadata": {},
     "outputs": [
      {
       "output_type": "stream",
       "stream": "stderr",
       "text": [
        "  0.00s This is LAF-Fabric 4.2.15\n",
        "http://laf-fabric.readthedocs.org/en/latest/texts/API-reference.html\n"
       ]
      }
     ],
     "prompt_number": 1
    },
    {
     "cell_type": "code",
     "collapsed": false,
     "input": [
      "fabric.load('bhs3', '--', 'shebanq', {\n",
      "    \"xmlids\": {\"node\": False, \"edge\": False},\n",
      "    \"features\": ('''\n",
      "        otype monads\n",
      "        text suffix\n",
      "        book chapter verse verse_label\n",
      "    ''',''),\n",
      "    \"primary\": False,\n",
      "})\n",
      "exec(fabric.localnames.format(var='fabric'))"
     ],
     "language": "python",
     "metadata": {},
     "outputs": [
      {
       "output_type": "stream",
       "stream": "stderr",
       "text": [
        "  0.00s LOADING API: please wait ... \n"
       ]
      },
      {
       "output_type": "stream",
       "stream": "stderr",
       "text": [
        "  0.00s INFO: USING DATA COMPILED AT: 2014-06-27T12-21-04\n"
       ]
      },
      {
       "output_type": "stream",
       "stream": "stderr",
       "text": [
        "  2.85s LOGFILE=/Users/dirk/laf-fabric-output/bhs3/shebanq/__log__shebanq.txt\n"
       ]
      },
      {
       "output_type": "stream",
       "stream": "stderr",
       "text": [
        "  2.85s INFO: DATA LOADED FROM SOURCE bhs3 AND ANNOX -- FOR TASK shebanq AT 2014-06-27T12-46-43\n"
       ]
      }
     ],
     "prompt_number": 2
    },
    {
     "cell_type": "heading",
     "level": 1,
     "metadata": {},
     "source": [
      "Data model"
     ]
    },
    {
     "cell_type": "markdown",
     "metadata": {},
     "source": [
      "The data model of the browsing database as as follows:\n",
      "\n",
      "There are tables ``book``, ``chapter``, ``verse``, ``word_verse``.\n",
      "\n",
      "A ``book``-record contains an identifier and the name of the book. Nothing else.\n",
      "\n",
      "A ``chapter``-record contains an identifier, the number of the chapter, and a foreign key to the record in the ``book`` table to which the chapter belongs.\n",
      "\n",
      "A ``verse``-record contains an identifier, the number of the verse, and a foreign key to the record in the ``chapter`` table to which the verse belongs. More over, it contains the text of the whole verse in two formats:\n",
      "\n",
      "In field ``text``: the plain unicode text string of the complete verse.\n",
      "\n",
      "In field ``xml``: a sequence of ``<w>`` elements, one for each word in the verse, containing the plain unicode text string of that word as element content and the monad number of that word as attribute value. The monad number is a globally unique sequence number of a word occurrence in the Hebrew Bible, going from 1 to roughly 400,000.\n",
      "\n",
      "    <w m=\"2\">\u05e8\u05b5\u05d0\u05e9\u05b4\u05c1\u0596\u05d9\u05ea </w>\n",
      "As you see, the material between a word and the next word is appended to the first word. So, when you concatenate words, whitespace or other separators are needed.\n",
      "\n",
      "A ``word_verse``-record links a word to a verse. The monad number is in field ``anchor``, which is a *string*, and the verse is specified in the field ``verse_id`` as foreign key."
     ]
    },
    {
     "cell_type": "heading",
     "level": 1,
     "metadata": {},
     "source": [
      "Sanity"
     ]
    },
    {
     "cell_type": "markdown",
     "metadata": {},
     "source": [
      "The texts and xml representations of verses are stored in ``varchar`` fields.\n",
      "We have to make sure that the values fit within the declared sizes of these fields.\n",
      "The code measures the maximum lengths of these fields, and it turns out that the text is maximally 450 chars and the xml 1818 chars."
     ]
    },
    {
     "cell_type": "code",
     "collapsed": false,
     "input": [
      "config = {\n",
      "    'db': 'etcbc',\n",
      "}\n",
      "text_create_sql = '''\n",
      "drop database if exists {db};\n",
      "\n",
      "create database {db} character set utf8;\n",
      "\n",
      "use {db};\n",
      "\n",
      "create table book(\n",
      "\tid      int(5) primary key,\n",
      "\tname varchar(50)\n",
      ");\n",
      "\n",
      "create table chapter(\n",
      "\tid int(4) primary key,\n",
      "\tbook_id int(5),\n",
      "\tchapter_num int(5),\n",
      "\tforeign key (book_id) references book(id)\n",
      ");\n",
      "\n",
      "create table verse(\n",
      "\tid int(4) primary key,\n",
      "\tchapter_id int(5),\n",
      "\tverse_num int(4),\n",
      "\ttext varchar(500) character set utf8,\n",
      "    xml varchar(2000) character set utf8,\n",
      "\tforeign key (chapter_id) references chapter(id)\n",
      ");\n",
      "\n",
      "create table word_verse(\n",
      "\tanchor varchar(32) unique,\n",
      "\tverse_id int(4),\n",
      "\tforeign key (verse_id) references verse(id)\n",
      ");\n",
      "'''.format(**config)"
     ],
     "language": "python",
     "metadata": {},
     "outputs": [],
     "prompt_number": 3
    },
    {
     "cell_type": "code",
     "collapsed": false,
     "input": [
      "sqf = outfile('text.sql')\n",
      "\n",
      "cur_id = {\n",
      "    'book': -1,\n",
      "    'chapter': - 1,\n",
      "    'verse': -1,\n",
      "}\n",
      "cur_verse_node = None\n",
      "cur_verse_info = []\n",
      "max_len_text = -1\n",
      "max_len_xml = -1\n",
      "\n",
      "def do_verse(node):\n",
      "    global cur_verse_node, cur_verse_info, max_len_text, max_len_xml\n",
      "    if cur_verse_node != None:\n",
      "        this_text = ''.join(x[0] for x in cur_verse_info)\n",
      "        this_xml = ''.join('''<w m=\"{}\">{}</w>'''.format(x[1], x[0]) for x in cur_verse_info)\n",
      "        len_this_text = len(this_text)\n",
      "        len_this_xml = len(this_xml)\n",
      "        if len_this_text > max_len_text: max_len_text = len_this_text\n",
      "        if len_this_xml > max_len_xml: max_len_xml = len_this_xml\n",
      "        sqf.write(\"insert into verse (id, chapter_id, verse_num, text, xml) values ({},{},{},'{}','{}');\\n\".format(\n",
      "            cur_id['verse'], cur_id['chapter'], F.verse.v(cur_verse_node), this_text, this_xml,\n",
      "        ))\n",
      "        for x in cur_verse_info:\n",
      "            sqf.write(\"insert into word_verse (anchor, verse_id) values ('{}', {});\\n\".format(\n",
      "                x[1], x[2],\n",
      "            ))\n",
      "        cur_verse_info = []\n",
      "    cur_verse_node = node\n",
      "    \n",
      "sqf.write(text_create_sql)\n",
      "\n",
      "Fotypev = F.otype.v\n",
      "Fmonadsv = F.monads.v\n",
      "Ftextv = F.text.v\n",
      "Fsuffixv = F.suffix.v\n",
      "\n",
      "for node in NN():\n",
      "    otype = Fotypev(node)\n",
      "    if otype == 'word':\n",
      "        text = Ftextv(node)\n",
      "        suffix = Fsuffixv(node)\n",
      "        newline = '\\n' if '\u05c3' in suffix else ''\n",
      "        cur_verse_info.append((\n",
      "            \"{}{}{}\".format(text, suffix, newline), \n",
      "            Fmonadsv(node), \n",
      "            cur_id['verse'],\n",
      "        ))\n",
      "    elif otype == 'verse':\n",
      "        do_verse(node)\n",
      "        cur_id['verse'] += 1\n",
      "    elif otype == 'chapter':\n",
      "        do_verse(None)\n",
      "        cur_id['chapter'] += 1\n",
      "        sqf.write(\"insert into chapter (id, book_id, chapter_num) values ({},{},'{}');\\n\".format(\n",
      "            cur_id['chapter'], cur_id['book'], F.chapter.v(node),\n",
      "        ))\n",
      "    elif otype == 'book':\n",
      "        do_verse(None)\n",
      "        cur_id['book'] += 1\n",
      "        sqf.write(\"insert into book (id, name) values ({},'{}');\\n\".format(\n",
      "            cur_id['book'], F.book.v(node)\n",
      "        ))\n",
      "do_verse(None)\n",
      "\n",
      "sqf.close()\n",
      "print(\"max len text = {}\\nmax len xml  = {}\".format(max_len_text, max_len_xml))"
     ],
     "language": "python",
     "metadata": {},
     "outputs": [
      {
       "output_type": "stream",
       "stream": "stdout",
       "text": [
        "max len text = 450\n",
        "max len xml  = 1818\n"
       ]
      }
     ],
     "prompt_number": 4
    },
    {
     "cell_type": "code",
     "collapsed": false,
     "input": [],
     "language": "python",
     "metadata": {},
     "outputs": []
    }
   ],
   "metadata": {}
  }
 ]
}