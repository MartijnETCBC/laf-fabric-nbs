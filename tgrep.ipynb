{
 "metadata": {
  "name": "",
  "signature": "sha256:1bdfe521fc2edc58214789e2291df1337d397a0e2c2beadcdf3ee9055a4f6fe0"
 },
 "nbformat": 3,
 "nbformat_minor": 0,
 "worksheets": [
  {
   "cells": [
    {
     "cell_type": "markdown",
     "metadata": {},
     "source": [
      "<a href=\"http://laf-fabric.readthedocs.org/en/latest/\" target=\"_blank\"><img align=\"left\" src=\"images/laf-fabric-xsmall.png\"/></a>\n",
      "<a href=\"http://www.godgeleerdheid.vu.nl/etcbc\" target=\"_blank\"><img align=\"left\" src=\"images/VU-ETCBC-xsmall.png\"/></a>\n",
      "<a href=\"http://tla.mpi.nl\" target=\"_blank\"><img align=\"right\" src=\"images/TLA-xsmall.png\"/></a>\n",
      "<a href=\"http://www.dans.knaw.nl\" target=\"_blank\"><img align=\"right\"src=\"images/DANS-xsmall.png\"/></a>"
     ]
    },
    {
     "cell_type": "code",
     "collapsed": false,
     "input": [
      "import sys\n",
      "import collections\n",
      "import random\n",
      "%load_ext autoreload\n",
      "%autoreload 2\n",
      "import laf\n",
      "from laf.fabric import LafFabric\n",
      "from etcbc.preprocess import prepare\n",
      "from etcbc.lib import Transcription, monad_set\n",
      "from etcbc.trees import Tree\n",
      "fabric = LafFabric()\n",
      "tr = Transcription()"
     ],
     "language": "python",
     "metadata": {},
     "outputs": [
      {
       "output_type": "stream",
       "stream": "stderr",
       "text": [
        "  0.00s This is LAF-Fabric 4.2.6\n",
        "http://laf-fabric.readthedocs.org/texts/API-reference.html\n"
       ]
      }
     ],
     "prompt_number": 1
    },
    {
     "cell_type": "code",
     "collapsed": false,
     "input": [
      "API = fabric.load('bhs3', '--', 'trees', {\n",
      "    \"xmlids\": {\"node\": False, \"edge\": False},\n",
      "    \"features\": ('''\n",
      "        oid otype monads\n",
      "        surface_consonants\n",
      "        part_of_speech\n",
      "        clause_constituent_relation phrase_type\n",
      "        verse_label\n",
      "    ''','''\n",
      "        mother.\n",
      "    '''),\n",
      "    \"prepare\": prepare,\n",
      "}, verbose='DETAIL')\n",
      "exec(fabric.localnames.format(var='fabric'))"
     ],
     "language": "python",
     "metadata": {},
     "outputs": [
      {
       "output_type": "stream",
       "stream": "stderr",
       "text": [
        "  0.00s LOADING API: please wait ... \n"
       ]
      },
      {
       "output_type": "stream",
       "stream": "stderr",
       "text": [
        "  0.00s DETAIL: COMPILING m: UP TO DATE\n"
       ]
      },
      {
       "output_type": "stream",
       "stream": "stderr",
       "text": [
        "  0.00s INFO: DATA COMPILED AT: 2014-04-18T18-24-37\n"
       ]
      },
      {
       "output_type": "stream",
       "stream": "stderr",
       "text": [
        "  0.00s DETAIL: COMPILING a: UP TO DATE\n"
       ]
      },
      {
       "output_type": "stream",
       "stream": "stderr",
       "text": [
        "  0.01s DETAIL: load main: G.node_anchor_min\n"
       ]
      },
      {
       "output_type": "stream",
       "stream": "stderr",
       "text": [
        "  0.08s DETAIL: load main: G.node_anchor_max\n"
       ]
      },
      {
       "output_type": "stream",
       "stream": "stderr",
       "text": [
        "  0.14s DETAIL: load main: G.node_sort\n"
       ]
      },
      {
       "output_type": "stream",
       "stream": "stderr",
       "text": [
        "  0.19s DETAIL: load main: G.node_sort_inv\n"
       ]
      },
      {
       "output_type": "stream",
       "stream": "stderr",
       "text": [
        "  0.61s DETAIL: load main: G.edges_from\n"
       ]
      },
      {
       "output_type": "stream",
       "stream": "stderr",
       "text": [
        "  0.66s DETAIL: load main: G.edges_to\n"
       ]
      },
      {
       "output_type": "stream",
       "stream": "stderr",
       "text": [
        "  0.71s DETAIL: load main: F.shebanq_db_monads [node] \n"
       ]
      },
      {
       "output_type": "stream",
       "stream": "stderr",
       "text": [
        "  1.47s DETAIL: load main: F.shebanq_sft_verse_label [node] \n"
       ]
      },
      {
       "output_type": "stream",
       "stream": "stderr",
       "text": [
        "  1.49s DETAIL: load main: F.shebanq_db_oid [node] \n"
       ]
      },
      {
       "output_type": "stream",
       "stream": "stderr",
       "text": [
        "  2.29s DETAIL: load main: F.shebanq_db_otype [node] \n"
       ]
      },
      {
       "output_type": "stream",
       "stream": "stderr",
       "text": [
        "  2.97s DETAIL: load main: F.shebanq_ft_surface_consonants [node] \n"
       ]
      },
      {
       "output_type": "stream",
       "stream": "stderr",
       "text": [
        "  3.15s DETAIL: load main: F.shebanq_ft_part_of_speech [node] \n"
       ]
      },
      {
       "output_type": "stream",
       "stream": "stderr",
       "text": [
        "  3.35s DETAIL: load main: F.shebanq_ft_clause_constituent_relation [node] \n"
       ]
      },
      {
       "output_type": "stream",
       "stream": "stderr",
       "text": [
        "  3.39s DETAIL: load main: F.shebanq_ft_phrase_type [node] \n"
       ]
      },
      {
       "output_type": "stream",
       "stream": "stderr",
       "text": [
        "  3.51s DETAIL: load main: F.shebanq_mother_ [e] \n"
       ]
      },
      {
       "output_type": "stream",
       "stream": "stderr",
       "text": [
        "  3.55s DETAIL: load main: C.shebanq_mother_ -> \n"
       ]
      },
      {
       "output_type": "stream",
       "stream": "stderr",
       "text": [
        "  3.67s DETAIL: load main: C.shebanq_mother_ <- \n"
       ]
      },
      {
       "output_type": "stream",
       "stream": "stderr",
       "text": [
        "  3.78s LOGFILE=/Users/dirk/laf-fabric-data/bhs3/tasks/trees/__log__trees.txt\n"
       ]
      },
      {
       "output_type": "stream",
       "stream": "stderr",
       "text": [
        "  3.78s DETAIL: prep prep: G.node_sort\n"
       ]
      },
      {
       "output_type": "stream",
       "stream": "stderr",
       "text": [
        "  3.84s DETAIL: prep prep: G.node_sort_inv\n"
       ]
      },
      {
       "output_type": "stream",
       "stream": "stderr",
       "text": [
        "  4.33s INFO: DATA LOADED FROM SOURCE bhs3 AND ANNOX -- FOR TASK trees\n"
       ]
      }
     ],
     "prompt_number": 2
    },
    {
     "cell_type": "code",
     "collapsed": false,
     "input": [
      "!tgrep2 -C -p {my_file('trees.txt')} {my_file('trees.t2c')}"
     ],
     "language": "python",
     "metadata": {},
     "outputs": [],
     "prompt_number": 30
    },
    {
     "cell_type": "code",
     "collapsed": false,
     "input": [
      "def tg(corp=None, opts=None, pat=None, res=None):\n",
      "    def_corp = my_file('trees.t2c')\n",
      "    def_opts = ''\n",
      "    def_pat = 'Cresu < (CP < cj) < (PPrP < av)' # only one result\n",
      "    def_res = my_file('tgrep_result.txt')\n",
      "    if corp == None: corp = def_corp\n",
      "    if opts == None: opts = def_opts\n",
      "    if pat == None: pat = def_pat\n",
      "    if res == None: res = ''\n",
      "    elif res == '>': res = ' > ' + def_res\n",
      "    else: res = ' > ' + my_file(res)\n",
      "    return \"tgrep2 -c {} {} '{}' {}\".format(corp, opts, pat, res)"
     ],
     "language": "python",
     "metadata": {},
     "outputs": [],
     "prompt_number": 31
    },
    {
     "cell_type": "code",
     "collapsed": false,
     "input": [
      "!{tg()}"
     ],
     "language": "python",
     "metadata": {},
     "outputs": [
      {
       "output_type": "stream",
       "stream": "stdout",
       "text": [
        "(Cresu (CP (cj \"W\")) (VP (vb \"TLD\")) (PPrP (av \"GM\") (pr \"HW>\")) (PP (U (U (U (pp \">T\") (n \"VBX\")) (cj \"W\") (U (pp \">T\") (n \"GXM\"))) (cj \"W\") (U (pp \">T\") (n \"TXC\"))) (cj \"W\") (U (pp \">T\") (n \"M<KH\"))))\r\n"
       ]
      }
     ],
     "prompt_number": 32
    },
    {
     "cell_type": "code",
     "collapsed": false,
     "input": [
      "!{tg(opts='-l')}"
     ],
     "language": "python",
     "metadata": {},
     "outputs": [
      {
       "output_type": "stream",
       "stream": "stdout",
       "text": [
        "(Cresu (CP (cj \"W\"))\r\n",
        "       (VP (vb \"TLD\"))\r\n",
        "       (PPrP (av \"GM\")\r\n",
        "             (pr \"HW>\"))\r\n",
        "       (PP (U (U (U (pp \">T\")\r\n",
        "                    (n \"VBX\"))\r\n",
        "                 (cj \"W\")\r\n",
        "                 (U (pp \">T\")\r\n",
        "                    (n \"GXM\")))\r\n",
        "              (cj \"W\")\r\n",
        "              (U (pp \">T\")\r\n",
        "                 (n \"TXC\")))\r\n",
        "           (cj \"W\")\r\n",
        "           (U (pp \">T\")\r\n",
        "              (n \"M<KH\"))))\r\n"
       ]
      }
     ],
     "prompt_number": 33
    },
    {
     "cell_type": "code",
     "collapsed": false,
     "input": [
      "!{tg(opts='-t')}"
     ],
     "language": "python",
     "metadata": {},
     "outputs": [
      {
       "output_type": "stream",
       "stream": "stdout",
       "text": [
        "\"W\" \"TLD\" \"GM\" \"HW>\" \">T\" \"VBX\" \"W\" \">T\" \"GXM\" \"W\" \">T\" \"TXC\" \"W\" \">T\" \"M<KH\"\r\n"
       ]
      }
     ],
     "prompt_number": 34
    },
    {
     "cell_type": "code",
     "collapsed": false,
     "input": [
      "!{tg(opts='-u')}"
     ],
     "language": "python",
     "metadata": {},
     "outputs": [
      {
       "output_type": "stream",
       "stream": "stdout",
       "text": [
        "Cresu\r\n"
       ]
      }
     ],
     "prompt_number": 35
    },
    {
     "cell_type": "code",
     "collapsed": false,
     "input": [
      "!{tg(opts='-x')}"
     ],
     "language": "python",
     "metadata": {},
     "outputs": [
      {
       "output_type": "stream",
       "stream": "stdout",
       "text": [
        "1547:19\r\n"
       ]
      }
     ],
     "prompt_number": 36
    },
    {
     "cell_type": "code",
     "collapsed": false,
     "input": [
      "!{tg(opts='-w')}"
     ],
     "language": "python",
     "metadata": {},
     "outputs": [
      {
       "output_type": "stream",
       "stream": "stdout",
       "text": [
        "(S (C (CP (cj \"W\")) (NP (n \"PJLGCW\"))) (Cresu (CP (cj \"W\")) (NP (n \"CMH\")) (PrNP (n \"R>WMH\"))) (Cresu (CP (cj \"W\")) (VP (vb \"TLD\")) (PPrP (av \"GM\") (pr \"HW>\")) (PP (U (U (U (pp \">T\") (n \"VBX\")) (cj \"W\") (U (pp \">T\") (n \"GXM\"))) (cj \"W\") (U (pp \">T\") (n \"TXC\"))) (cj \"W\") (U (pp \">T\") (n \"M<KH\")))))\r\n"
       ]
      }
     ],
     "prompt_number": 37
    },
    {
     "cell_type": "code",
     "collapsed": false,
     "input": [
      "!{tg(opts=\"-b '%5s %c\\n'\", res='>')}"
     ],
     "language": "python",
     "metadata": {},
     "outputs": [],
     "prompt_number": 38
    },
    {
     "cell_type": "code",
     "collapsed": false,
     "input": [
      "!{tg(opts=\"-s '%5s %c\\ndepth=%dw\\n'\")}"
     ],
     "language": "python",
     "metadata": {},
     "outputs": [
      {
       "output_type": "stream",
       "stream": "stdout",
       "text": [
        " 1547 # GEN 22,24\tnode=1133240\toid=85929\tbmonad=10709\t0 1 2 3 4 5 6 7 8 9 10 11 12 13 14 15 16 17 18 19\r\n",
        "depth=8\r\n",
        "(Cresu (CP (cj \"W\")) (VP (vb \"TLD\")) (PPrP (av \"GM\") (pr \"HW>\")) (PP (U (U (U (pp \">T\") (n \"VBX\")) (cj \"W\") (U (pp \">T\") (n \"GXM\"))) (cj \"W\") (U (pp \">T\") (n \"TXC\"))) (cj \"W\") (U (pp \">T\") (n \"M<KH\"))))\r\n"
       ]
      }
     ],
     "prompt_number": 39
    },
    {
     "cell_type": "code",
     "collapsed": false,
     "input": [
      "!{tg(opts=\"-b '%5s D=%dw\\n'\", res='depths.txt')}"
     ],
     "language": "python",
     "metadata": {},
     "outputs": [],
     "prompt_number": 40
    },
    {
     "cell_type": "code",
     "collapsed": false,
     "input": [
      "!{tg(opts=\"-C\", pat='Cadju < Ccoor', res='coor.txt')}"
     ],
     "language": "python",
     "metadata": {},
     "outputs": [],
     "prompt_number": 41
    },
    {
     "cell_type": "code",
     "collapsed": false,
     "input": [],
     "language": "python",
     "metadata": {},
     "outputs": []
    }
   ],
   "metadata": {}
  }
 ]
}