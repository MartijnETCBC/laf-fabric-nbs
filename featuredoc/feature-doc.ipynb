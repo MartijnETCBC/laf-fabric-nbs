{
 "metadata": {
  "name": "",
  "signature": "sha256:a9b346582ad6cdda49c72eb8982041d7ee5fb826acc5c7b4ef6c5c0bad840e4f"
 },
 "nbformat": 3,
 "nbformat_minor": 0,
 "worksheets": [
  {
   "cells": [
    {
     "cell_type": "markdown",
     "metadata": {},
     "source": [
      "<a href=\"http://laf-fabric.readthedocs.org/en/latest/\" target=\"_blank\"><img align=\"left\" src=\"images/laf-fabric-xsmall.png\"/></a>\n",
      "<a href=\"http://www.godgeleerdheid.vu.nl/etcbc\" target=\"_blank\"><img align=\"left\" src=\"images/VU-ETCBC-xsmall.png\"/></a>\n",
      "<a href=\"http://tla.mpi.nl\" target=\"_blank\"><img align=\"right\" src=\"images/TLA-xsmall.png\"/></a>\n",
      "<a href=\"http://www.dans.knaw.nl\" target=\"_blank\"><img align=\"right\"src=\"images/DANS-xsmall.png\"/></a>"
     ]
    },
    {
     "cell_type": "heading",
     "level": 1,
     "metadata": {},
     "source": [
      "Feature docs"
     ]
    },
    {
     "cell_type": "markdown",
     "metadata": {},
     "source": [
      "This is a general purpose tool to get acquainted with the features in the LAF version of the Hebrew Database"
     ]
    },
    {
     "cell_type": "code",
     "collapsed": false,
     "input": [
      "import sys\n",
      "import collections\n",
      "\n",
      "import pandas\n",
      "import matplotlib.pyplot as plt\n",
      "from IPython.display import display\n",
      "pandas.set_option('display.notebook_repr_html', True)\n",
      "%matplotlib inline\n",
      "\n",
      "from laf.fabric import LafFabric\n",
      "import etcbc\n",
      "from etcbc.featuredoc import FeatureDoc\n",
      "\n",
      "fabric = LafFabric()"
     ],
     "language": "python",
     "metadata": {},
     "outputs": [
      {
       "output_type": "stream",
       "stream": "stderr",
       "text": [
        "  0.00s This is LAF-Fabric 4.3.2\n",
        "http://laf-fabric.readthedocs.org/en/latest/texts/API-reference.html\n"
       ]
      }
     ],
     "prompt_number": 1
    },
    {
     "cell_type": "heading",
     "level": 1,
     "metadata": {},
     "source": [
      "Choose your source and features"
     ]
    },
    {
     "cell_type": "markdown",
     "metadata": {},
     "source": [
      "Specifiy the features you want to study.\n",
      "This notebook only offers to study the features in the *ft* namespace.\n",
      "\n",
      "Do this by providing a list of features to the *study specification* below.\n",
      "\n",
      "The requested features will be loaded, on top of the base supply of features that we need for showing examples."
     ]
    },
    {
     "cell_type": "code",
     "collapsed": false,
     "input": [
      "API = fabric.load('bhs3', '--', 'feature-doc', {\n",
      "    \"xmlids\": {\"node\": False, \"edge\": False},\n",
      "    \"features\": (\"\",\"\"),\n",
      "    \"primary\": False,\n",
      "})\n",
      "\n",
      "doc = FeatureDoc(fabric, {\n",
      "    'features': {\n",
      "        'node': '''\n",
      "            gender\n",
      "            number\n",
      "            person\n",
      "            suffix_gender\n",
      "            suffix_number\n",
      "            suffix_person\n",
      "            locative\n",
      "            tense\n",
      "            noun_type\n",
      "            pronoun_type\n",
      "            lexical_set\n",
      "            part_of_speech\n",
      "            phrase_dependent_part_of_speech\n",
      "            phrase_type\n",
      "            phrase_function\n",
      "            clause_constituent_relation\n",
      "            clause_atom_relation\n",
      "            clause_atom_type\n",
      "            domain\n",
      "            text_type\n",
      "            embedding_domain\n",
      "        ''',\n",
      "        'edge': '''\n",
      "            mother\n",
      "            parents\n",
      "        ''',\n",
      "    },\n",
      "    'absence_values': set((\n",
      "        'none',\n",
      "        'unknown',\n",
      "        'Unkn',\n",
      "    )),\n",
      "    'VALUE_THRESHOLD': 50,\n",
      "    'vlabel': 'verse_label',\n",
      "})\n",
      "\n",
      "exec(fabric.localnames.format(var='fabric'))"
     ],
     "language": "python",
     "metadata": {},
     "outputs": [
      {
       "output_type": "stream",
       "stream": "stderr",
       "text": [
        "  0.00s LOADING API: please wait ... \n"
       ]
      },
      {
       "output_type": "stream",
       "stream": "stderr",
       "text": [
        "  0.00s DETAIL: COMPILING m: UP TO DATE\n"
       ]
      },
      {
       "output_type": "stream",
       "stream": "stderr",
       "text": [
        "  0.10s INFO: USING DATA COMPILED AT: 2014-06-27T12-21-04\n"
       ]
      },
      {
       "output_type": "stream",
       "stream": "stderr",
       "text": [
        "  0.10s DETAIL: COMPILING a: UP TO DATE\n"
       ]
      },
      {
       "output_type": "stream",
       "stream": "stderr",
       "text": [
        "  0.10s DETAIL: keep main: G.node_anchor_min\n"
       ]
      },
      {
       "output_type": "stream",
       "stream": "stderr",
       "text": [
        "  0.10s DETAIL: keep main: G.node_anchor_max\n"
       ]
      },
      {
       "output_type": "stream",
       "stream": "stderr",
       "text": [
        "  0.11s DETAIL: keep main: G.node_sort\n"
       ]
      },
      {
       "output_type": "stream",
       "stream": "stderr",
       "text": [
        "  0.11s DETAIL: keep main: G.node_sort_inv\n"
       ]
      },
      {
       "output_type": "stream",
       "stream": "stderr",
       "text": [
        "  0.11s DETAIL: keep main: G.edges_from\n"
       ]
      },
      {
       "output_type": "stream",
       "stream": "stderr",
       "text": [
        "  0.11s DETAIL: keep main: G.edges_to\n"
       ]
      },
      {
       "output_type": "stream",
       "stream": "stderr",
       "text": [
        "  0.11s DETAIL: clear main: F.shebanq_db_otype [node] \n"
       ]
      },
      {
       "output_type": "stream",
       "stream": "stderr",
       "text": [
        "  0.11s DETAIL: clear main: F.shebanq_ft_clause_atom_relation [node] \n"
       ]
      },
      {
       "output_type": "stream",
       "stream": "stderr",
       "text": [
        "  0.11s DETAIL: clear main: F.shebanq_ft_clause_atom_type [node] \n"
       ]
      },
      {
       "output_type": "stream",
       "stream": "stderr",
       "text": [
        "  0.11s DETAIL: clear main: F.shebanq_ft_clause_constituent_relation [node] \n"
       ]
      },
      {
       "output_type": "stream",
       "stream": "stderr",
       "text": [
        "  0.11s DETAIL: clear main: F.shebanq_ft_domain [node] \n"
       ]
      },
      {
       "output_type": "stream",
       "stream": "stderr",
       "text": [
        "  0.11s DETAIL: clear main: F.shebanq_ft_embedding_domain [node] \n"
       ]
      },
      {
       "output_type": "stream",
       "stream": "stderr",
       "text": [
        "  0.11s DETAIL: clear main: F.shebanq_ft_gender [node] \n"
       ]
      },
      {
       "output_type": "stream",
       "stream": "stderr",
       "text": [
        "  0.11s DETAIL: clear main: F.shebanq_ft_lexical_set [node] \n"
       ]
      },
      {
       "output_type": "stream",
       "stream": "stderr",
       "text": [
        "  0.11s DETAIL: clear main: F.shebanq_ft_locative [node] \n"
       ]
      },
      {
       "output_type": "stream",
       "stream": "stderr",
       "text": [
        "  0.11s DETAIL: clear main: F.shebanq_ft_noun_type [node] \n"
       ]
      },
      {
       "output_type": "stream",
       "stream": "stderr",
       "text": [
        "  0.11s DETAIL: clear main: F.shebanq_ft_number [node] \n"
       ]
      },
      {
       "output_type": "stream",
       "stream": "stderr",
       "text": [
        "  0.11s DETAIL: clear main: F.shebanq_ft_part_of_speech [node] \n"
       ]
      },
      {
       "output_type": "stream",
       "stream": "stderr",
       "text": [
        "  0.11s DETAIL: clear main: F.shebanq_ft_person [node] \n"
       ]
      },
      {
       "output_type": "stream",
       "stream": "stderr",
       "text": [
        "  0.11s DETAIL: clear main: F.shebanq_ft_phrase_dependent_part_of_speech [node] \n"
       ]
      },
      {
       "output_type": "stream",
       "stream": "stderr",
       "text": [
        "  0.12s DETAIL: clear main: F.shebanq_ft_phrase_function [node] \n"
       ]
      },
      {
       "output_type": "stream",
       "stream": "stderr",
       "text": [
        "  0.12s DETAIL: clear main: F.shebanq_ft_phrase_type [node] \n"
       ]
      },
      {
       "output_type": "stream",
       "stream": "stderr",
       "text": [
        "  0.12s DETAIL: clear main: F.shebanq_ft_pronoun_type [node] \n"
       ]
      },
      {
       "output_type": "stream",
       "stream": "stderr",
       "text": [
        "  0.12s DETAIL: clear main: F.shebanq_ft_suffix_gender [node] \n"
       ]
      },
      {
       "output_type": "stream",
       "stream": "stderr",
       "text": [
        "  0.12s DETAIL: clear main: F.shebanq_ft_suffix_number [node] \n"
       ]
      },
      {
       "output_type": "stream",
       "stream": "stderr",
       "text": [
        "  0.12s DETAIL: clear main: F.shebanq_ft_suffix_person [node] \n"
       ]
      },
      {
       "output_type": "stream",
       "stream": "stderr",
       "text": [
        "  0.12s DETAIL: clear main: F.shebanq_ft_tense [node] \n"
       ]
      },
      {
       "output_type": "stream",
       "stream": "stderr",
       "text": [
        "  0.12s DETAIL: clear main: F.shebanq_ft_text_type [node] \n"
       ]
      },
      {
       "output_type": "stream",
       "stream": "stderr",
       "text": [
        "  0.12s DETAIL: clear main: F.shebanq_sft_verse_label [node] \n"
       ]
      },
      {
       "output_type": "stream",
       "stream": "stderr",
       "text": [
        "  0.12s DETAIL: clear main: F.shebanq_ft_mother [e] \n"
       ]
      },
      {
       "output_type": "stream",
       "stream": "stderr",
       "text": [
        "  0.12s DETAIL: clear main: F.shebanq_ft_parents [e] \n"
       ]
      },
      {
       "output_type": "stream",
       "stream": "stderr",
       "text": [
        "  0.12s DETAIL: clear main: C.shebanq_ft_mother -> \n"
       ]
      },
      {
       "output_type": "stream",
       "stream": "stderr",
       "text": [
        "  0.12s DETAIL: clear main: C.shebanq_ft_parents -> \n"
       ]
      },
      {
       "output_type": "stream",
       "stream": "stderr",
       "text": [
        "  0.12s DETAIL: clear main: C.shebanq_ft_mother <- \n"
       ]
      },
      {
       "output_type": "stream",
       "stream": "stderr",
       "text": [
        "  0.12s DETAIL: clear main: C.shebanq_ft_parents <- \n"
       ]
      },
      {
       "output_type": "stream",
       "stream": "stderr",
       "text": [
        "  0.75s LOGFILE=/Users/dirk/laf-fabric-output/bhs3/feature-doc/__log__feature-doc.txt\n"
       ]
      },
      {
       "output_type": "stream",
       "stream": "stderr",
       "text": [
        "  0.75s INFO: DATA LOADED FROM SOURCE bhs3 AND ANNOX -- FOR TASK feature-doc AT 2014-06-27T12-25-00\n"
       ]
      },
      {
       "output_type": "stream",
       "stream": "stderr",
       "text": [
        "  0.00s LOADING API: please wait ... \n"
       ]
      },
      {
       "output_type": "stream",
       "stream": "stderr",
       "text": [
        "  0.00s DETAIL: COMPILING m: UP TO DATE\n"
       ]
      },
      {
       "output_type": "stream",
       "stream": "stderr",
       "text": [
        "  0.00s INFO: USING DATA COMPILED AT: 2014-06-27T12-21-04\n"
       ]
      },
      {
       "output_type": "stream",
       "stream": "stderr",
       "text": [
        "  0.00s DETAIL: COMPILING a: UP TO DATE\n"
       ]
      },
      {
       "output_type": "stream",
       "stream": "stderr",
       "text": [
        "  0.01s DETAIL: keep main: G.node_anchor_min\n"
       ]
      },
      {
       "output_type": "stream",
       "stream": "stderr",
       "text": [
        "  0.01s DETAIL: keep main: G.node_anchor_max\n"
       ]
      },
      {
       "output_type": "stream",
       "stream": "stderr",
       "text": [
        "  0.01s DETAIL: keep main: G.node_sort\n"
       ]
      },
      {
       "output_type": "stream",
       "stream": "stderr",
       "text": [
        "  0.01s DETAIL: keep main: G.node_sort_inv\n"
       ]
      },
      {
       "output_type": "stream",
       "stream": "stderr",
       "text": [
        "  0.01s DETAIL: keep main: G.edges_from\n"
       ]
      },
      {
       "output_type": "stream",
       "stream": "stderr",
       "text": [
        "  0.01s DETAIL: keep main: G.edges_to\n"
       ]
      },
      {
       "output_type": "stream",
       "stream": "stderr",
       "text": [
        "  0.01s DETAIL: load main: F.shebanq_db_otype [node] \n"
       ]
      },
      {
       "output_type": "stream",
       "stream": "stderr",
       "text": [
        "  1.34s DETAIL: load main: F.shebanq_ft_clause_atom_relation [node] \n"
       ]
      },
      {
       "output_type": "stream",
       "stream": "stderr",
       "text": [
        "  1.43s DETAIL: load main: F.shebanq_ft_clause_atom_type [node] \n"
       ]
      },
      {
       "output_type": "stream",
       "stream": "stderr",
       "text": [
        "  1.54s DETAIL: load main: F.shebanq_ft_clause_constituent_relation [node] \n"
       ]
      },
      {
       "output_type": "stream",
       "stream": "stderr",
       "text": [
        "  1.66s DETAIL: load main: F.shebanq_ft_domain [node] \n"
       ]
      },
      {
       "output_type": "stream",
       "stream": "stderr",
       "text": [
        "  1.77s DETAIL: load main: F.shebanq_ft_embedding_domain [node] \n"
       ]
      },
      {
       "output_type": "stream",
       "stream": "stderr",
       "text": [
        "  1.86s DETAIL: load main: F.shebanq_ft_gender [node] \n"
       ]
      },
      {
       "output_type": "stream",
       "stream": "stderr",
       "text": [
        "  2.20s DETAIL: load main: F.shebanq_ft_lexical_set [node] \n"
       ]
      },
      {
       "output_type": "stream",
       "stream": "stderr",
       "text": [
        "  2.61s DETAIL: load main: F.shebanq_ft_locative [node] \n"
       ]
      },
      {
       "output_type": "stream",
       "stream": "stderr",
       "text": [
        "  2.98s DETAIL: load main: F.shebanq_ft_noun_type [node] \n"
       ]
      },
      {
       "output_type": "stream",
       "stream": "stderr",
       "text": [
        "  3.35s DETAIL: load main: F.shebanq_ft_number [node] \n"
       ]
      },
      {
       "output_type": "stream",
       "stream": "stderr",
       "text": [
        "  3.73s DETAIL: load main: F.shebanq_ft_part_of_speech [node] \n"
       ]
      },
      {
       "output_type": "stream",
       "stream": "stderr",
       "text": [
        "  4.11s DETAIL: load main: F.shebanq_ft_person [node] \n"
       ]
      },
      {
       "output_type": "stream",
       "stream": "stderr",
       "text": [
        "  4.48s DETAIL: load main: F.shebanq_ft_phrase_dependent_part_of_speech [node] \n"
       ]
      },
      {
       "output_type": "stream",
       "stream": "stderr",
       "text": [
        "  4.85s DETAIL: load main: F.shebanq_ft_phrase_function [node] \n"
       ]
      },
      {
       "output_type": "stream",
       "stream": "stderr",
       "text": [
        "  5.07s DETAIL: load main: F.shebanq_ft_phrase_type [node] \n"
       ]
      },
      {
       "output_type": "stream",
       "stream": "stderr",
       "text": [
        "  5.30s DETAIL: load main: F.shebanq_ft_pronoun_type [node] \n"
       ]
      },
      {
       "output_type": "stream",
       "stream": "stderr",
       "text": [
        "  5.67s DETAIL: load main: F.shebanq_ft_suffix_gender [node] \n"
       ]
      },
      {
       "output_type": "stream",
       "stream": "stderr",
       "text": [
        "  6.05s DETAIL: load main: F.shebanq_ft_suffix_number [node] \n"
       ]
      },
      {
       "output_type": "stream",
       "stream": "stderr",
       "text": [
        "  6.43s DETAIL: load main: F.shebanq_ft_suffix_person [node] \n"
       ]
      },
      {
       "output_type": "stream",
       "stream": "stderr",
       "text": [
        "  6.80s DETAIL: load main: F.shebanq_ft_tense [node] \n"
       ]
      },
      {
       "output_type": "stream",
       "stream": "stderr",
       "text": [
        "  7.18s DETAIL: load main: F.shebanq_ft_text_type [node] \n"
       ]
      },
      {
       "output_type": "stream",
       "stream": "stderr",
       "text": [
        "  7.24s DETAIL: load main: F.shebanq_sft_verse_label [node] \n"
       ]
      },
      {
       "output_type": "stream",
       "stream": "stderr",
       "text": [
        "  7.27s DETAIL: load main: F.shebanq_ft_mother [e] \n"
       ]
      },
      {
       "output_type": "stream",
       "stream": "stderr",
       "text": [
        "  7.34s DETAIL: load main: F.shebanq_ft_parents [e] \n"
       ]
      },
      {
       "output_type": "stream",
       "stream": "stderr",
       "text": [
        "  7.85s DETAIL: load main: C.shebanq_ft_mother -> \n"
       ]
      },
      {
       "output_type": "stream",
       "stream": "stderr",
       "text": [
        "  8.11s DETAIL: load main: C.shebanq_ft_parents -> \n"
       ]
      },
      {
       "output_type": "stream",
       "stream": "stderr",
       "text": [
        "    10s DETAIL: load main: C.shebanq_ft_mother <- \n"
       ]
      },
      {
       "output_type": "stream",
       "stream": "stderr",
       "text": [
        "    11s DETAIL: load main: C.shebanq_ft_parents <- \n"
       ]
      },
      {
       "output_type": "stream",
       "stream": "stderr",
       "text": [
        "    13s LOGFILE=/Users/dirk/laf-fabric-output/bhs3/feature-doc/__log__feature-doc.txt\n"
       ]
      },
      {
       "output_type": "stream",
       "stream": "stderr",
       "text": [
        "    13s INFO: DATA LOADED FROM SOURCE bhs3 AND ANNOX -- FOR TASK feature-doc AT 2014-06-27T12-25-13\n"
       ]
      }
     ],
     "prompt_number": 5
    },
    {
     "cell_type": "code",
     "collapsed": false,
     "input": [
      "API = fabric.load('bhs4', '--', 'feature-doc', {\n",
      "    \"xmlids\": {\"node\": False, \"edge\": False},\n",
      "    \"features\": (\"\",\"\"),\n",
      "    \"primary\": False,\n",
      "})\n",
      "\n",
      "doc = FeatureDoc(fabric, {\n",
      "    'features': {\n",
      "        'node': '''\n",
      "            book\n",
      "            chapter\n",
      "            label\n",
      "            verse\n",
      "            half_verse\n",
      "            clause_kind\n",
      "            code\n",
      "            det\n",
      "            dist\n",
      "            dist_unit\n",
      "            domain\n",
      "            function\n",
      "            gn\n",
      "            is_root\n",
      "            language\n",
      "            ls\n",
      "            mother_object_type\n",
      "            nme\n",
      "            nu\n",
      "            number\n",
      "            pdp\n",
      "            pfm\n",
      "            prs\n",
      "            ps\n",
      "            rela\n",
      "            sp\n",
      "            st\n",
      "            tab\n",
      "            txt\n",
      "            typ\n",
      "            uvf\n",
      "            vbe\n",
      "            vbs\n",
      "            vs\n",
      "            vt\n",
      "            g_cons\n",
      "            g_cons_utf8\n",
      "            g_lex\n",
      "            g_lex_utf8\n",
      "            g_nme\n",
      "            g_nme_utf8\n",
      "            g_pfm\n",
      "            g_pfm_utf8\n",
      "            g_prs\n",
      "            g_prs_utf8\n",
      "            g_uvf\n",
      "            g_uvf_utf8\n",
      "            g_vbe\n",
      "            g_vbe_utf8\n",
      "            g_vbs\n",
      "            g_vbs_utf8\n",
      "            g_word\n",
      "            g_word_utf8\n",
      "            trailer_utf8\n",
      "            lex\n",
      "            lex_utf8\n",
      "        ''',\n",
      "        'edge': '''\n",
      "            mother\n",
      "            distributional_parent\n",
      "            functional_parent\n",
      "        ''',\n",
      "    },\n",
      "    'absence_values': set((\n",
      "        'none',\n",
      "        'unknown',\n",
      "        'Unkn',\n",
      "        'NA',\n",
      "        '?',\n",
      "        'n/a',\n",
      "        'absent',\n",
      "    )),\n",
      "    'VALUE_THRESHOLD': 50,\n",
      "    'vlabel': 'label',\n",
      "})\n",
      "\n",
      "exec(fabric.localnames.format(var='fabric'))"
     ],
     "language": "python",
     "metadata": {},
     "outputs": [
      {
       "output_type": "stream",
       "stream": "stderr",
       "text": [
        "  0.00s LOADING API: please wait ... \n"
       ]
      },
      {
       "output_type": "stream",
       "stream": "stderr",
       "text": [
        "  0.00s DETAIL: COMPILING m: UP TO DATE\n"
       ]
      },
      {
       "output_type": "stream",
       "stream": "stderr",
       "text": [
        "  0.00s INFO: USING DATA COMPILED AT: 2014-07-04T20-55-28\n"
       ]
      },
      {
       "output_type": "stream",
       "stream": "stderr",
       "text": [
        "  0.00s DETAIL: COMPILING a: UP TO DATE\n"
       ]
      },
      {
       "output_type": "stream",
       "stream": "stderr",
       "text": [
        "  0.01s DETAIL: keep main: G.node_anchor_min\n"
       ]
      },
      {
       "output_type": "stream",
       "stream": "stderr",
       "text": [
        "  0.01s DETAIL: keep main: G.node_anchor_max\n"
       ]
      },
      {
       "output_type": "stream",
       "stream": "stderr",
       "text": [
        "  0.01s DETAIL: keep main: G.node_sort\n"
       ]
      },
      {
       "output_type": "stream",
       "stream": "stderr",
       "text": [
        "  0.01s DETAIL: keep main: G.node_sort_inv\n"
       ]
      },
      {
       "output_type": "stream",
       "stream": "stderr",
       "text": [
        "  0.01s DETAIL: keep main: G.edges_from\n"
       ]
      },
      {
       "output_type": "stream",
       "stream": "stderr",
       "text": [
        "  0.01s DETAIL: keep main: G.edges_to\n"
       ]
      },
      {
       "output_type": "stream",
       "stream": "stderr",
       "text": [
        "  0.02s DETAIL: clear main: F.shebanq_db_otype [node] \n"
       ]
      },
      {
       "output_type": "stream",
       "stream": "stderr",
       "text": [
        "  0.02s DETAIL: clear main: F.shebanq_ft_clause_kind [node] \n"
       ]
      },
      {
       "output_type": "stream",
       "stream": "stderr",
       "text": [
        "  0.02s DETAIL: clear main: F.shebanq_ft_code [node] \n"
       ]
      },
      {
       "output_type": "stream",
       "stream": "stderr",
       "text": [
        "  0.02s DETAIL: clear main: F.shebanq_ft_det [node] \n"
       ]
      },
      {
       "output_type": "stream",
       "stream": "stderr",
       "text": [
        "  0.02s DETAIL: clear main: F.shebanq_ft_dist [node] \n"
       ]
      },
      {
       "output_type": "stream",
       "stream": "stderr",
       "text": [
        "  0.02s DETAIL: clear main: F.shebanq_ft_dist_unit [node] \n"
       ]
      },
      {
       "output_type": "stream",
       "stream": "stderr",
       "text": [
        "  0.02s DETAIL: clear main: F.shebanq_ft_domain [node] \n"
       ]
      },
      {
       "output_type": "stream",
       "stream": "stderr",
       "text": [
        "  0.02s DETAIL: clear main: F.shebanq_ft_function [node] \n"
       ]
      },
      {
       "output_type": "stream",
       "stream": "stderr",
       "text": [
        "  0.02s DETAIL: clear main: F.shebanq_ft_g_cons [node] \n"
       ]
      },
      {
       "output_type": "stream",
       "stream": "stderr",
       "text": [
        "  0.02s DETAIL: clear main: F.shebanq_ft_g_cons_utf8 [node] \n"
       ]
      },
      {
       "output_type": "stream",
       "stream": "stderr",
       "text": [
        "  0.02s DETAIL: clear main: F.shebanq_ft_g_lex [node] \n"
       ]
      },
      {
       "output_type": "stream",
       "stream": "stderr",
       "text": [
        "  0.02s DETAIL: clear main: F.shebanq_ft_g_lex_utf8 [node] \n"
       ]
      },
      {
       "output_type": "stream",
       "stream": "stderr",
       "text": [
        "  0.02s DETAIL: clear main: F.shebanq_ft_g_nme [node] \n"
       ]
      },
      {
       "output_type": "stream",
       "stream": "stderr",
       "text": [
        "  0.02s DETAIL: clear main: F.shebanq_ft_g_nme_utf8 [node] \n"
       ]
      },
      {
       "output_type": "stream",
       "stream": "stderr",
       "text": [
        "  0.02s DETAIL: clear main: F.shebanq_ft_g_pfm [node] \n"
       ]
      },
      {
       "output_type": "stream",
       "stream": "stderr",
       "text": [
        "  0.02s DETAIL: clear main: F.shebanq_ft_g_pfm_utf8 [node] \n"
       ]
      },
      {
       "output_type": "stream",
       "stream": "stderr",
       "text": [
        "  0.03s DETAIL: clear main: F.shebanq_ft_g_prs [node] \n"
       ]
      },
      {
       "output_type": "stream",
       "stream": "stderr",
       "text": [
        "  0.03s DETAIL: clear main: F.shebanq_ft_g_prs_utf8 [node] \n"
       ]
      },
      {
       "output_type": "stream",
       "stream": "stderr",
       "text": [
        "  0.03s DETAIL: clear main: F.shebanq_ft_g_uvf [node] \n"
       ]
      },
      {
       "output_type": "stream",
       "stream": "stderr",
       "text": [
        "  0.03s DETAIL: clear main: F.shebanq_ft_g_uvf_utf8 [node] \n"
       ]
      },
      {
       "output_type": "stream",
       "stream": "stderr",
       "text": [
        "  0.03s DETAIL: clear main: F.shebanq_ft_g_vbe [node] \n"
       ]
      },
      {
       "output_type": "stream",
       "stream": "stderr",
       "text": [
        "  0.03s DETAIL: clear main: F.shebanq_ft_g_vbe_utf8 [node] \n"
       ]
      },
      {
       "output_type": "stream",
       "stream": "stderr",
       "text": [
        "  0.03s DETAIL: clear main: F.shebanq_ft_g_vbs [node] \n"
       ]
      },
      {
       "output_type": "stream",
       "stream": "stderr",
       "text": [
        "  0.03s DETAIL: clear main: F.shebanq_ft_g_vbs_utf8 [node] \n"
       ]
      },
      {
       "output_type": "stream",
       "stream": "stderr",
       "text": [
        "  0.03s DETAIL: clear main: F.shebanq_ft_g_word [node] \n"
       ]
      },
      {
       "output_type": "stream",
       "stream": "stderr",
       "text": [
        "  0.03s DETAIL: clear main: F.shebanq_ft_g_word_utf8 [node] \n"
       ]
      },
      {
       "output_type": "stream",
       "stream": "stderr",
       "text": [
        "  0.03s DETAIL: clear main: F.shebanq_ft_gn [node] \n"
       ]
      },
      {
       "output_type": "stream",
       "stream": "stderr",
       "text": [
        "  0.03s DETAIL: clear main: F.shebanq_ft_is_root [node] \n"
       ]
      },
      {
       "output_type": "stream",
       "stream": "stderr",
       "text": [
        "  0.03s DETAIL: clear main: F.shebanq_ft_language [node] \n"
       ]
      },
      {
       "output_type": "stream",
       "stream": "stderr",
       "text": [
        "  0.03s DETAIL: clear main: F.shebanq_ft_lex [node] \n"
       ]
      },
      {
       "output_type": "stream",
       "stream": "stderr",
       "text": [
        "  0.03s DETAIL: clear main: F.shebanq_ft_lex_utf8 [node] \n"
       ]
      },
      {
       "output_type": "stream",
       "stream": "stderr",
       "text": [
        "  0.03s DETAIL: clear main: F.shebanq_ft_ls [node] \n"
       ]
      },
      {
       "output_type": "stream",
       "stream": "stderr",
       "text": [
        "  0.03s DETAIL: clear main: F.shebanq_ft_mother_object_type [node] \n"
       ]
      },
      {
       "output_type": "stream",
       "stream": "stderr",
       "text": [
        "  0.04s DETAIL: clear main: F.shebanq_ft_nme [node] \n"
       ]
      },
      {
       "output_type": "stream",
       "stream": "stderr",
       "text": [
        "  0.04s DETAIL: clear main: F.shebanq_ft_nu [node] \n"
       ]
      },
      {
       "output_type": "stream",
       "stream": "stderr",
       "text": [
        "  0.04s DETAIL: clear main: F.shebanq_ft_number [node] \n"
       ]
      },
      {
       "output_type": "stream",
       "stream": "stderr",
       "text": [
        "  0.04s DETAIL: clear main: F.shebanq_ft_pdp [node] \n"
       ]
      },
      {
       "output_type": "stream",
       "stream": "stderr",
       "text": [
        "  0.04s DETAIL: clear main: F.shebanq_ft_pfm [node] \n"
       ]
      },
      {
       "output_type": "stream",
       "stream": "stderr",
       "text": [
        "  0.04s DETAIL: clear main: F.shebanq_ft_prs [node] \n"
       ]
      },
      {
       "output_type": "stream",
       "stream": "stderr",
       "text": [
        "  0.04s DETAIL: clear main: F.shebanq_ft_ps [node] \n"
       ]
      },
      {
       "output_type": "stream",
       "stream": "stderr",
       "text": [
        "  0.04s DETAIL: clear main: F.shebanq_ft_rela [node] \n"
       ]
      },
      {
       "output_type": "stream",
       "stream": "stderr",
       "text": [
        "  0.04s DETAIL: clear main: F.shebanq_ft_sp [node] \n"
       ]
      },
      {
       "output_type": "stream",
       "stream": "stderr",
       "text": [
        "  0.04s DETAIL: clear main: F.shebanq_ft_st [node] \n"
       ]
      },
      {
       "output_type": "stream",
       "stream": "stderr",
       "text": [
        "  0.04s DETAIL: clear main: F.shebanq_ft_tab [node] \n"
       ]
      },
      {
       "output_type": "stream",
       "stream": "stderr",
       "text": [
        "  0.04s DETAIL: clear main: F.shebanq_ft_txt [node] \n"
       ]
      },
      {
       "output_type": "stream",
       "stream": "stderr",
       "text": [
        "  0.04s DETAIL: clear main: F.shebanq_ft_typ [node] \n"
       ]
      },
      {
       "output_type": "stream",
       "stream": "stderr",
       "text": [
        "  0.04s DETAIL: clear main: F.shebanq_ft_uvf [node] \n"
       ]
      },
      {
       "output_type": "stream",
       "stream": "stderr",
       "text": [
        "  0.04s DETAIL: clear main: F.shebanq_ft_vbe [node] \n"
       ]
      },
      {
       "output_type": "stream",
       "stream": "stderr",
       "text": [
        "  0.04s DETAIL: clear main: F.shebanq_ft_vbs [node] \n"
       ]
      },
      {
       "output_type": "stream",
       "stream": "stderr",
       "text": [
        "  0.04s DETAIL: clear main: F.shebanq_ft_vs [node] \n"
       ]
      },
      {
       "output_type": "stream",
       "stream": "stderr",
       "text": [
        "  0.04s DETAIL: clear main: F.shebanq_ft_vt [node] \n"
       ]
      },
      {
       "output_type": "stream",
       "stream": "stderr",
       "text": [
        "  0.05s DETAIL: clear main: F.shebanq_sft_book [node] \n"
       ]
      },
      {
       "output_type": "stream",
       "stream": "stderr",
       "text": [
        "  0.05s DETAIL: clear main: F.shebanq_sft_chapter [node] \n"
       ]
      },
      {
       "output_type": "stream",
       "stream": "stderr",
       "text": [
        "  0.05s DETAIL: clear main: F.shebanq_sft_half_verse [node] \n"
       ]
      },
      {
       "output_type": "stream",
       "stream": "stderr",
       "text": [
        "  0.05s DETAIL: clear main: F.shebanq_sft_label [node] \n"
       ]
      },
      {
       "output_type": "stream",
       "stream": "stderr",
       "text": [
        "  0.05s DETAIL: clear main: F.shebanq_sft_verse [node] \n"
       ]
      },
      {
       "output_type": "stream",
       "stream": "stderr",
       "text": [
        "  0.05s DETAIL: clear main: F.shebanq_ft_distributional_parent [e] \n"
       ]
      },
      {
       "output_type": "stream",
       "stream": "stderr",
       "text": [
        "  0.05s DETAIL: clear main: F.shebanq_ft_functional_parent [e] \n"
       ]
      },
      {
       "output_type": "stream",
       "stream": "stderr",
       "text": [
        "  0.05s DETAIL: clear main: F.shebanq_ft_mother [e] \n"
       ]
      },
      {
       "output_type": "stream",
       "stream": "stderr",
       "text": [
        "  0.05s DETAIL: clear main: C.shebanq_ft_distributional_parent -> \n"
       ]
      },
      {
       "output_type": "stream",
       "stream": "stderr",
       "text": [
        "  0.05s DETAIL: clear main: C.shebanq_ft_functional_parent -> \n"
       ]
      },
      {
       "output_type": "stream",
       "stream": "stderr",
       "text": [
        "  0.05s DETAIL: clear main: C.shebanq_ft_mother -> \n"
       ]
      },
      {
       "output_type": "stream",
       "stream": "stderr",
       "text": [
        "  0.05s DETAIL: clear main: C.shebanq_ft_distributional_parent <- \n"
       ]
      },
      {
       "output_type": "stream",
       "stream": "stderr",
       "text": [
        "  0.05s DETAIL: clear main: C.shebanq_ft_functional_parent <- \n"
       ]
      },
      {
       "output_type": "stream",
       "stream": "stderr",
       "text": [
        "  0.05s DETAIL: clear main: C.shebanq_ft_mother <- \n"
       ]
      },
      {
       "output_type": "stream",
       "stream": "stderr",
       "text": [
        "  0.05s INFO: DATA LOADED FROM SOURCE bhs4 AND ANNOX -- FOR TASK feature-doc AT 2014-07-04T21-07-22\n"
       ]
      },
      {
       "output_type": "stream",
       "stream": "stderr",
       "text": [
        "  0.00s LOADING API: please wait ... \n"
       ]
      },
      {
       "output_type": "stream",
       "stream": "stderr",
       "text": [
        "  0.00s DETAIL: COMPILING m: UP TO DATE\n"
       ]
      },
      {
       "output_type": "stream",
       "stream": "stderr",
       "text": [
        "  0.00s INFO: USING DATA COMPILED AT: 2014-07-04T20-55-28\n"
       ]
      },
      {
       "output_type": "stream",
       "stream": "stderr",
       "text": [
        "  0.00s DETAIL: COMPILING a: UP TO DATE\n"
       ]
      },
      {
       "output_type": "stream",
       "stream": "stderr",
       "text": [
        "  0.01s DETAIL: keep main: G.node_anchor_min\n"
       ]
      },
      {
       "output_type": "stream",
       "stream": "stderr",
       "text": [
        "  0.01s DETAIL: keep main: G.node_anchor_max\n"
       ]
      },
      {
       "output_type": "stream",
       "stream": "stderr",
       "text": [
        "  0.01s DETAIL: keep main: G.node_sort\n"
       ]
      },
      {
       "output_type": "stream",
       "stream": "stderr",
       "text": [
        "  0.01s DETAIL: keep main: G.node_sort_inv\n"
       ]
      },
      {
       "output_type": "stream",
       "stream": "stderr",
       "text": [
        "  0.01s DETAIL: keep main: G.edges_from\n"
       ]
      },
      {
       "output_type": "stream",
       "stream": "stderr",
       "text": [
        "  0.01s DETAIL: keep main: G.edges_to\n"
       ]
      },
      {
       "output_type": "stream",
       "stream": "stderr",
       "text": [
        "  0.01s DETAIL: load main: F.shebanq_db_otype [node] \n"
       ]
      },
      {
       "output_type": "stream",
       "stream": "stderr",
       "text": [
        "  1.67s DETAIL: load main: F.shebanq_ft_clause_kind [node] \n"
       ]
      },
      {
       "output_type": "stream",
       "stream": "stderr",
       "text": [
        "  1.75s DETAIL: load main: F.shebanq_ft_code [node] \n"
       ]
      },
      {
       "output_type": "stream",
       "stream": "stderr",
       "text": [
        "  1.84s DETAIL: load main: F.shebanq_ft_det [node] \n"
       ]
      },
      {
       "output_type": "stream",
       "stream": "stderr",
       "text": [
        "  2.29s DETAIL: load main: F.shebanq_ft_dist [node] \n"
       ]
      },
      {
       "output_type": "stream",
       "stream": "stderr",
       "text": [
        "  2.65s DETAIL: load main: F.shebanq_ft_dist_unit [node] \n"
       ]
      },
      {
       "output_type": "stream",
       "stream": "stderr",
       "text": [
        "  3.21s DETAIL: load main: F.shebanq_ft_domain [node] \n"
       ]
      },
      {
       "output_type": "stream",
       "stream": "stderr",
       "text": [
        "  3.25s DETAIL: load main: F.shebanq_ft_function [node] \n"
       ]
      },
      {
       "output_type": "stream",
       "stream": "stderr",
       "text": [
        "  3.48s DETAIL: load main: F.shebanq_ft_g_cons [node] \n"
       ]
      },
      {
       "output_type": "stream",
       "stream": "stderr",
       "text": [
        "  4.00s DETAIL: load main: F.shebanq_ft_g_cons_utf8 [node] \n"
       ]
      },
      {
       "output_type": "stream",
       "stream": "stderr",
       "text": [
        "  4.75s DETAIL: load main: F.shebanq_ft_g_lex [node] \n"
       ]
      },
      {
       "output_type": "stream",
       "stream": "stderr",
       "text": [
        "  5.25s DETAIL: load main: F.shebanq_ft_g_lex_utf8 [node] \n"
       ]
      },
      {
       "output_type": "stream",
       "stream": "stderr",
       "text": [
        "  5.82s DETAIL: load main: F.shebanq_ft_g_nme [node] \n"
       ]
      },
      {
       "output_type": "stream",
       "stream": "stderr",
       "text": [
        "  6.05s DETAIL: load main: F.shebanq_ft_g_nme_utf8 [node] \n"
       ]
      },
      {
       "output_type": "stream",
       "stream": "stderr",
       "text": [
        "  6.31s DETAIL: load main: F.shebanq_ft_g_pfm [node] \n"
       ]
      },
      {
       "output_type": "stream",
       "stream": "stderr",
       "text": [
        "  6.52s DETAIL: load main: F.shebanq_ft_g_pfm_utf8 [node] \n"
       ]
      },
      {
       "output_type": "stream",
       "stream": "stderr",
       "text": [
        "  6.75s DETAIL: load main: F.shebanq_ft_g_prs [node] \n"
       ]
      },
      {
       "output_type": "stream",
       "stream": "stderr",
       "text": [
        "  6.98s DETAIL: load main: F.shebanq_ft_g_prs_utf8 [node] \n"
       ]
      },
      {
       "output_type": "stream",
       "stream": "stderr",
       "text": [
        "  7.23s DETAIL: load main: F.shebanq_ft_g_uvf [node] \n"
       ]
      },
      {
       "output_type": "stream",
       "stream": "stderr",
       "text": [
        "  7.43s DETAIL: load main: F.shebanq_ft_g_uvf_utf8 [node] \n"
       ]
      },
      {
       "output_type": "stream",
       "stream": "stderr",
       "text": [
        "  7.64s DETAIL: load main: F.shebanq_ft_g_vbe [node] \n"
       ]
      },
      {
       "output_type": "stream",
       "stream": "stderr",
       "text": [
        "  7.85s DETAIL: load main: F.shebanq_ft_g_vbe_utf8 [node] \n"
       ]
      },
      {
       "output_type": "stream",
       "stream": "stderr",
       "text": [
        "  8.05s DETAIL: load main: F.shebanq_ft_g_vbs [node] \n"
       ]
      },
      {
       "output_type": "stream",
       "stream": "stderr",
       "text": [
        "  8.25s DETAIL: load main: F.shebanq_ft_g_vbs_utf8 [node] \n"
       ]
      },
      {
       "output_type": "stream",
       "stream": "stderr",
       "text": [
        "  8.46s DETAIL: load main: F.shebanq_ft_g_word [node] \n"
       ]
      },
      {
       "output_type": "stream",
       "stream": "stderr",
       "text": [
        "  9.07s DETAIL: load main: F.shebanq_ft_g_word_utf8 [node] \n"
       ]
      },
      {
       "output_type": "stream",
       "stream": "stderr",
       "text": [
        "  9.93s DETAIL: load main: F.shebanq_ft_gn [node] \n"
       ]
      },
      {
       "output_type": "stream",
       "stream": "stderr",
       "text": [
        "    10s DETAIL: load main: F.shebanq_ft_is_root [node] \n"
       ]
      },
      {
       "output_type": "stream",
       "stream": "stderr",
       "text": [
        "    10s DETAIL: load main: F.shebanq_ft_language [node] \n"
       ]
      },
      {
       "output_type": "stream",
       "stream": "stderr",
       "text": [
        "    11s DETAIL: load main: F.shebanq_ft_lex [node] \n"
       ]
      },
      {
       "output_type": "stream",
       "stream": "stderr",
       "text": [
        "    11s DETAIL: load main: F.shebanq_ft_lex_utf8 [node] \n"
       ]
      },
      {
       "output_type": "stream",
       "stream": "stderr",
       "text": [
        "    12s DETAIL: load main: F.shebanq_ft_ls [node] \n"
       ]
      },
      {
       "output_type": "stream",
       "stream": "stderr",
       "text": [
        "    12s DETAIL: load main: F.shebanq_ft_mother_object_type [node] \n"
       ]
      },
      {
       "output_type": "stream",
       "stream": "stderr",
       "text": [
        "    13s DETAIL: load main: F.shebanq_ft_nme [node] \n"
       ]
      },
      {
       "output_type": "stream",
       "stream": "stderr",
       "text": [
        "    13s DETAIL: load main: F.shebanq_ft_nu [node] \n"
       ]
      },
      {
       "output_type": "stream",
       "stream": "stderr",
       "text": [
        "    13s DETAIL: load main: F.shebanq_ft_number [node] \n"
       ]
      },
      {
       "output_type": "stream",
       "stream": "stderr",
       "text": [
        "    14s DETAIL: load main: F.shebanq_ft_pdp [node] \n"
       ]
      },
      {
       "output_type": "stream",
       "stream": "stderr",
       "text": [
        "    15s DETAIL: load main: F.shebanq_ft_pfm [node] \n"
       ]
      },
      {
       "output_type": "stream",
       "stream": "stderr",
       "text": [
        "    15s DETAIL: load main: F.shebanq_ft_prs [node] \n"
       ]
      },
      {
       "output_type": "stream",
       "stream": "stderr",
       "text": [
        "    16s DETAIL: load main: F.shebanq_ft_ps [node] \n"
       ]
      },
      {
       "output_type": "stream",
       "stream": "stderr",
       "text": [
        "    16s DETAIL: load main: F.shebanq_ft_rela [node] \n"
       ]
      },
      {
       "output_type": "stream",
       "stream": "stderr",
       "text": [
        "    17s DETAIL: load main: F.shebanq_ft_sp [node] \n"
       ]
      },
      {
       "output_type": "stream",
       "stream": "stderr",
       "text": [
        "    17s DETAIL: load main: F.shebanq_ft_st [node] \n"
       ]
      },
      {
       "output_type": "stream",
       "stream": "stderr",
       "text": [
        "    18s DETAIL: load main: F.shebanq_ft_tab [node] \n"
       ]
      },
      {
       "output_type": "stream",
       "stream": "stderr",
       "text": [
        "    18s DETAIL: load main: F.shebanq_ft_trailer_utf8 [node] \n"
       ]
      },
      {
       "output_type": "stream",
       "stream": "stderr",
       "text": [
        "    18s DETAIL: load main: F.shebanq_ft_txt [node] \n"
       ]
      },
      {
       "output_type": "stream",
       "stream": "stderr",
       "text": [
        "    18s DETAIL: load main: F.shebanq_ft_typ [node] \n"
       ]
      },
      {
       "output_type": "stream",
       "stream": "stderr",
       "text": [
        "    19s DETAIL: load main: F.shebanq_ft_uvf [node] \n"
       ]
      },
      {
       "output_type": "stream",
       "stream": "stderr",
       "text": [
        "    20s DETAIL: load main: F.shebanq_ft_vbe [node] \n"
       ]
      },
      {
       "output_type": "stream",
       "stream": "stderr",
       "text": [
        "    20s DETAIL: load main: F.shebanq_ft_vbs [node] \n"
       ]
      },
      {
       "output_type": "stream",
       "stream": "stderr",
       "text": [
        "    21s DETAIL: load main: F.shebanq_ft_vs [node] \n"
       ]
      },
      {
       "output_type": "stream",
       "stream": "stderr",
       "text": [
        "    21s DETAIL: load main: F.shebanq_ft_vt [node] \n"
       ]
      },
      {
       "output_type": "stream",
       "stream": "stderr",
       "text": [
        "    21s DETAIL: load main: F.shebanq_sft_book [node] \n"
       ]
      },
      {
       "output_type": "stream",
       "stream": "stderr",
       "text": [
        "    22s DETAIL: load main: F.shebanq_sft_chapter [node] \n"
       ]
      },
      {
       "output_type": "stream",
       "stream": "stderr",
       "text": [
        "    22s DETAIL: load main: F.shebanq_sft_half_verse [node] \n"
       ]
      },
      {
       "output_type": "stream",
       "stream": "stderr",
       "text": [
        "    22s DETAIL: load main: F.shebanq_sft_label [node] \n"
       ]
      },
      {
       "output_type": "stream",
       "stream": "stderr",
       "text": [
        "    22s DETAIL: load main: F.shebanq_sft_verse [node] \n"
       ]
      },
      {
       "output_type": "stream",
       "stream": "stderr",
       "text": [
        "    22s DETAIL: load main: F.shebanq_ft_distributional_parent [e] \n"
       ]
      },
      {
       "output_type": "stream",
       "stream": "stderr",
       "text": [
        "    22s DETAIL: load main: F.shebanq_ft_functional_parent [e] \n"
       ]
      },
      {
       "output_type": "stream",
       "stream": "stderr",
       "text": [
        "    23s DETAIL: load main: F.shebanq_ft_mother [e] \n"
       ]
      },
      {
       "output_type": "stream",
       "stream": "stderr",
       "text": [
        "    23s DETAIL: load main: C.shebanq_ft_distributional_parent -> \n"
       ]
      },
      {
       "output_type": "stream",
       "stream": "stderr",
       "text": [
        "    24s DETAIL: load main: C.shebanq_ft_functional_parent -> \n"
       ]
      },
      {
       "output_type": "stream",
       "stream": "stderr",
       "text": [
        "    27s DETAIL: load main: C.shebanq_ft_mother -> \n"
       ]
      },
      {
       "output_type": "stream",
       "stream": "stderr",
       "text": [
        "    27s DETAIL: load main: C.shebanq_ft_distributional_parent <- \n"
       ]
      },
      {
       "output_type": "stream",
       "stream": "stderr",
       "text": [
        "    28s DETAIL: load main: C.shebanq_ft_functional_parent <- \n"
       ]
      },
      {
       "output_type": "stream",
       "stream": "stderr",
       "text": [
        "    30s DETAIL: load main: C.shebanq_ft_mother <- \n"
       ]
      },
      {
       "output_type": "stream",
       "stream": "stderr",
       "text": [
        "    30s INFO: DATA LOADED FROM SOURCE bhs4 AND ANNOX -- FOR TASK feature-doc AT 2014-07-04T21-07-52\n"
       ]
      }
     ],
     "prompt_number": 5
    },
    {
     "cell_type": "code",
     "collapsed": false,
     "input": [
      "API = fabric.load('calap', '--', 'feature-doc', {\n",
      "    \"xmlids\": {\"node\": False, \"edge\": False},\n",
      "    \"features\": (\"\",\"\"),\n",
      "    \"primary\": False,\n",
      "})\n",
      "\n",
      "doc = FeatureDoc(fabric, {\n",
      "    'features': {\n",
      "        'node': '''\n",
      "            gender\n",
      "            tense\n",
      "            psp\n",
      "            phrase_function\n",
      "            phrase_type\n",
      "            surface_consonants\n",
      "        ''',\n",
      "        'edge': '',\n",
      "    },\n",
      "    'absence_values': set((\n",
      "        'none',\n",
      "        'unknown',\n",
      "        'Unkn',\n",
      "    )),\n",
      "    'VALUE_THRESHOLD': 50,\n",
      "    'vlabel': 'verse_label',\n",
      "})\n",
      "\n",
      "exec(fabric.localnames.format(var='fabric'))"
     ],
     "language": "python",
     "metadata": {},
     "outputs": [
      {
       "output_type": "stream",
       "stream": "stderr",
       "text": [
        "  0.00s LOADING API: please wait ... \n"
       ]
      },
      {
       "output_type": "stream",
       "stream": "stderr",
       "text": [
        "  0.00s BEGIN COMPILE m: calap\n"
       ]
      },
      {
       "output_type": "stream",
       "stream": "stderr",
       "text": [
        "  0.00s LOGFILE=/Users/dirk/laf-fabric-data/calap/bin/__log__compile__.txt\n"
       ]
      },
      {
       "output_type": "stream",
       "stream": "stderr",
       "text": [
        "  0.00s PARSING ANNOTATION FILES\n"
       ]
      },
      {
       "output_type": "stream",
       "stream": "stderr",
       "text": [
        "  0.01s INFO: parsing calap_regions.xml\n"
       ]
      },
      {
       "output_type": "stream",
       "stream": "stderr",
       "text": [
        "  1.43s INFO: parsing calap_monads.xml\n"
       ]
      },
      {
       "output_type": "stream",
       "stream": "stderr",
       "text": [
        "  6.68s INFO: parsing calap_lingo.xml\n"
       ]
      },
      {
       "output_type": "stream",
       "stream": "stderr",
       "text": [
        "    15s INFO: parsing calap_sections.xml\n"
       ]
      },
      {
       "output_type": "stream",
       "stream": "stderr",
       "text": [
        "    15s INFO: parsing calap_monads.lex.xml\n"
       ]
      },
      {
       "output_type": "stream",
       "stream": "stderr",
       "text": [
        "    29s INFO: parsing calap_lingo.ca.xml\n"
       ]
      },
      {
       "output_type": "stream",
       "stream": "stderr",
       "text": [
        "    29s INFO: parsing calap_lingo.p.xml\n"
       ]
      },
      {
       "output_type": "stream",
       "stream": "stderr",
       "text": [
        "    31s INFO: parsing calap_lingo.pa.xml\n"
       ]
      },
      {
       "output_type": "stream",
       "stream": "stderr",
       "text": [
        "    33s INFO: END PARSING\n",
        "    110714 good   regions  and     0 faulty ones\n",
        "    144485 linked nodes    and     0 unlinked ones\n",
        "      2871 good   edges    and     0 faulty ones\n",
        "    277559 good   annots   and     0 faulty ones\n",
        "   2244103 good   features and     0 faulty ones\n",
        "    535629 distinct xml identifiers\n",
        "\n"
       ]
      },
      {
       "output_type": "stream",
       "stream": "stderr",
       "text": [
        "    33s MODELING RESULT FILES\n"
       ]
      },
      {
       "output_type": "stream",
       "stream": "stderr",
       "text": [
        "    33s INFO: XML-IDS (inverse mapping)\n"
       ]
      },
      {
       "output_type": "stream",
       "stream": "stderr",
       "text": [
        "    33s INFO: NODES AND REGIONS\n"
       ]
      },
      {
       "output_type": "stream",
       "stream": "stderr",
       "text": [
        "    33s INFO: NODES ANCHOR BOUNDARIES\n"
       ]
      },
      {
       "output_type": "stream",
       "stream": "stderr",
       "text": [
        "    35s INFO: NODES SORTING BY REGIONS\n"
       ]
      },
      {
       "output_type": "stream",
       "stream": "stderr",
       "text": [
        "    35s INFO: NODES EVENTS\n"
       ]
      },
      {
       "output_type": "stream",
       "stream": "stderr",
       "text": [
        "    38s INFO: CONNECTIVITY\n"
       ]
      },
      {
       "output_type": "stream",
       "stream": "stderr",
       "text": [
        "    38s WRITING RESULT FILES for m\n"
       ]
      },
      {
       "output_type": "stream",
       "stream": "stderr",
       "text": [
        "    40s END   COMPILE m: calap\n"
       ]
      },
      {
       "output_type": "stream",
       "stream": "stderr",
       "text": [
        "    40s INFO: USING DATA COMPILED AT: 2014-06-27T12-29-20\n"
       ]
      },
      {
       "output_type": "stream",
       "stream": "stderr",
       "text": [
        "    40s LOGFILE=/Users/dirk/laf-fabric-output/calap/feature-doc/__log__feature-doc.txt\n"
       ]
      },
      {
       "output_type": "stream",
       "stream": "stderr",
       "text": [
        "    40s INFO: DATA LOADED FROM SOURCE calap AND ANNOX -- FOR TASK feature-doc AT 2014-06-27T12-29-20\n"
       ]
      },
      {
       "output_type": "stream",
       "stream": "stderr",
       "text": [
        "  0.00s LOADING API: please wait ... \n"
       ]
      },
      {
       "output_type": "stream",
       "stream": "stderr",
       "text": [
        "  0.00s DETAIL: COMPILING m: UP TO DATE\n"
       ]
      },
      {
       "output_type": "stream",
       "stream": "stderr",
       "text": [
        "  0.00s INFO: USING DATA COMPILED AT: 2014-06-27T12-29-20\n"
       ]
      },
      {
       "output_type": "stream",
       "stream": "stderr",
       "text": [
        "  0.00s DETAIL: COMPILING a: UP TO DATE\n"
       ]
      },
      {
       "output_type": "stream",
       "stream": "stderr",
       "text": [
        "  0.01s DETAIL: keep main: G.node_anchor_min\n"
       ]
      },
      {
       "output_type": "stream",
       "stream": "stderr",
       "text": [
        "  0.01s DETAIL: keep main: G.node_anchor_max\n"
       ]
      },
      {
       "output_type": "stream",
       "stream": "stderr",
       "text": [
        "  0.01s DETAIL: keep main: G.node_sort\n"
       ]
      },
      {
       "output_type": "stream",
       "stream": "stderr",
       "text": [
        "  0.01s DETAIL: keep main: G.node_sort_inv\n"
       ]
      },
      {
       "output_type": "stream",
       "stream": "stderr",
       "text": [
        "  0.01s DETAIL: keep main: G.edges_from\n"
       ]
      },
      {
       "output_type": "stream",
       "stream": "stderr",
       "text": [
        "  0.01s DETAIL: keep main: G.edges_to\n"
       ]
      },
      {
       "output_type": "stream",
       "stream": "stderr",
       "text": [
        "  0.01s DETAIL: load main: F.shebanq_db_otype [node] \n"
       ]
      },
      {
       "output_type": "stream",
       "stream": "stderr",
       "text": [
        "  0.11s DETAIL: load main: F.shebanq_ft_gender [node] \n"
       ]
      },
      {
       "output_type": "stream",
       "stream": "stderr",
       "text": [
        "  0.15s DETAIL: load main: F.shebanq_ft_phrase_function [node] \n"
       ]
      },
      {
       "output_type": "stream",
       "stream": "stderr",
       "text": [
        "  0.18s DETAIL: load main: F.shebanq_ft_phrase_type [node] \n"
       ]
      },
      {
       "output_type": "stream",
       "stream": "stderr",
       "text": [
        "  0.21s DETAIL: load main: F.shebanq_ft_psp [node] \n"
       ]
      },
      {
       "output_type": "stream",
       "stream": "stderr",
       "text": [
        "  0.24s DETAIL: load main: F.shebanq_ft_surface_consonants [node] \n"
       ]
      },
      {
       "output_type": "stream",
       "stream": "stderr",
       "text": [
        "  0.27s DETAIL: load main: F.shebanq_ft_tense [node] \n"
       ]
      },
      {
       "output_type": "stream",
       "stream": "stderr",
       "text": [
        "  0.29s DETAIL: load main: F.shebanq_sft_verse_label [node] \n"
       ]
      },
      {
       "output_type": "stream",
       "stream": "stderr",
       "text": [
        "  0.30s LOGFILE=/Users/dirk/laf-fabric-output/calap/feature-doc/__log__feature-doc.txt\n"
       ]
      },
      {
       "output_type": "stream",
       "stream": "stderr",
       "text": [
        "  0.30s INFO: DATA LOADED FROM SOURCE calap AND ANNOX -- FOR TASK feature-doc AT 2014-06-27T12-29-21\n"
       ]
      }
     ],
     "prompt_number": 2
    },
    {
     "cell_type": "markdown",
     "metadata": {},
     "source": [
      "If you want to know the set of available features, you can inspect it by:"
     ]
    },
    {
     "cell_type": "code",
     "collapsed": false,
     "input": [
      "(API['F_all'], API['FE_all'])"
     ],
     "language": "python",
     "metadata": {},
     "outputs": [
      {
       "metadata": {},
       "output_type": "pyout",
       "prompt_number": 3,
       "text": [
        "([('shebanq',\n",
        "   ['db.maxmonad',\n",
        "    'db.minmonad',\n",
        "    'db.monads',\n",
        "    'db.oid',\n",
        "    'db.otype',\n",
        "    'ft.clause_kind',\n",
        "    'ft.code',\n",
        "    'ft.det',\n",
        "    'ft.dist',\n",
        "    'ft.dist_unit',\n",
        "    'ft.domain',\n",
        "    'ft.function',\n",
        "    'ft.g_cons',\n",
        "    'ft.g_cons_utf8',\n",
        "    'ft.g_lex',\n",
        "    'ft.g_lex_utf8',\n",
        "    'ft.g_nme',\n",
        "    'ft.g_nme_utf8',\n",
        "    'ft.g_pfm',\n",
        "    'ft.g_pfm_utf8',\n",
        "    'ft.g_prs',\n",
        "    'ft.g_prs_utf8',\n",
        "    'ft.g_uvf',\n",
        "    'ft.g_uvf_utf8',\n",
        "    'ft.g_vbe',\n",
        "    'ft.g_vbe_utf8',\n",
        "    'ft.g_vbs',\n",
        "    'ft.g_vbs_utf8',\n",
        "    'ft.g_word',\n",
        "    'ft.g_word_utf8',\n",
        "    'ft.gn',\n",
        "    'ft.is_root',\n",
        "    'ft.language',\n",
        "    'ft.lex',\n",
        "    'ft.lex_utf8',\n",
        "    'ft.ls',\n",
        "    'ft.mother_object_type',\n",
        "    'ft.nme',\n",
        "    'ft.nu',\n",
        "    'ft.number',\n",
        "    'ft.pdp',\n",
        "    'ft.pfm',\n",
        "    'ft.prs',\n",
        "    'ft.ps',\n",
        "    'ft.rela',\n",
        "    'ft.sp',\n",
        "    'ft.st',\n",
        "    'ft.tab',\n",
        "    'ft.trailer_utf8',\n",
        "    'ft.txt',\n",
        "    'ft.typ',\n",
        "    'ft.uvf',\n",
        "    'ft.vbe',\n",
        "    'ft.vbs',\n",
        "    'ft.vs',\n",
        "    'ft.vt',\n",
        "    'sft.book',\n",
        "    'sft.chapter',\n",
        "    'sft.half_verse',\n",
        "    'sft.label',\n",
        "    'sft.verse'])],\n",
        " [('laf', [('', 'x'), ('', 'y')]),\n",
        "  ('shebanq',\n",
        "   ['ft.distributional_parent', 'ft.functional_parent', 'ft.mother'])])"
       ]
      }
     ],
     "prompt_number": 3
    },
    {
     "cell_type": "markdown",
     "metadata": {},
     "source": [
      "Now generate files with feature data. \n",
      "For each selected feature, you get a list with values, with for each value its number of occurrences.\n",
      "The values are divided into two sets: *defined values* and *absence values*.\n",
      "The latter are values such as ``none``, ``unknown``. You have to provide these values yourself by adapting the ``absence_values`` list in the study specification above."
     ]
    },
    {
     "cell_type": "code",
     "collapsed": true,
     "input": [
      "doc.feature_doc()"
     ],
     "language": "python",
     "metadata": {},
     "outputs": [
      {
       "output_type": "stream",
       "stream": "stderr",
       "text": [
        "  6.97s Looking up feature values ... \n"
       ]
      },
      {
       "output_type": "stream",
       "stream": "stderr",
       "text": [
        "    17s  100000 nodes done\n"
       ]
      },
      {
       "output_type": "stream",
       "stream": "stderr",
       "text": [
        "    26s  200000 nodes done\n"
       ]
      },
      {
       "output_type": "stream",
       "stream": "stderr",
       "text": [
        "    35s  300000 nodes done\n"
       ]
      },
      {
       "output_type": "stream",
       "stream": "stderr",
       "text": [
        "    44s  400000 nodes done\n"
       ]
      },
      {
       "output_type": "stream",
       "stream": "stderr",
       "text": [
        "    52s  500000 nodes done\n"
       ]
      },
      {
       "output_type": "stream",
       "stream": "stderr",
       "text": [
        " 1m 01s  600000 nodes done\n"
       ]
      },
      {
       "output_type": "stream",
       "stream": "stderr",
       "text": [
        " 1m 10s  700000 nodes done\n"
       ]
      },
      {
       "output_type": "stream",
       "stream": "stderr",
       "text": [
        " 1m 19s  800000 nodes done\n"
       ]
      },
      {
       "output_type": "stream",
       "stream": "stderr",
       "text": [
        " 1m 28s  900000 nodes done\n"
       ]
      },
      {
       "output_type": "stream",
       "stream": "stderr",
       "text": [
        " 1m 37s 1000000 nodes done\n"
       ]
      },
      {
       "output_type": "stream",
       "stream": "stderr",
       "text": [
        " 1m 45s 1100000 nodes done\n"
       ]
      },
      {
       "output_type": "stream",
       "stream": "stderr",
       "text": [
        " 1m 54s 1200000 nodes done\n"
       ]
      },
      {
       "output_type": "stream",
       "stream": "stderr",
       "text": [
        " 2m 03s 1300000 nodes done\n"
       ]
      },
      {
       "output_type": "stream",
       "stream": "stderr",
       "text": [
        " 2m 12s 1400000 nodes done\n"
       ]
      },
      {
       "output_type": "stream",
       "stream": "stderr",
       "text": [
        " 2m 15s 1442030 nodes done\n"
       ]
      },
      {
       "output_type": "stream",
       "stream": "stderr",
       "text": [
        " 2m 16s  100000 edges done\n"
       ]
      },
      {
       "output_type": "stream",
       "stream": "stderr",
       "text": [
        " 2m 16s  200000 edges done\n"
       ]
      },
      {
       "output_type": "stream",
       "stream": "stderr",
       "text": [
        " 2m 17s  300000 edges done\n"
       ]
      },
      {
       "output_type": "stream",
       "stream": "stderr",
       "text": [
        " 2m 18s  400000 edges done\n"
       ]
      },
      {
       "output_type": "stream",
       "stream": "stderr",
       "text": [
        " 2m 18s  500000 edges done\n"
       ]
      },
      {
       "output_type": "stream",
       "stream": "stderr",
       "text": [
        " 2m 19s  600000 edges done\n"
       ]
      },
      {
       "output_type": "stream",
       "stream": "stderr",
       "text": [
        " 2m 20s  700000 edges done\n"
       ]
      },
      {
       "output_type": "stream",
       "stream": "stderr",
       "text": [
        " 2m 20s  800000 edges done\n"
       ]
      },
      {
       "output_type": "stream",
       "stream": "stderr",
       "text": [
        " 2m 21s  900000 edges done\n"
       ]
      },
      {
       "output_type": "stream",
       "stream": "stderr",
       "text": [
        " 2m 22s 1000000 edges done\n"
       ]
      },
      {
       "output_type": "stream",
       "stream": "stderr",
       "text": [
        " 2m 22s 1100000 edges done\n"
       ]
      },
      {
       "output_type": "stream",
       "stream": "stderr",
       "text": [
        " 2m 23s 1200000 edges done\n"
       ]
      },
      {
       "output_type": "stream",
       "stream": "stderr",
       "text": [
        " 2m 24s 1300000 edges done\n"
       ]
      },
      {
       "output_type": "stream",
       "stream": "stderr",
       "text": [
        " 2m 24s 1400000 edges done\n"
       ]
      },
      {
       "output_type": "stream",
       "stream": "stderr",
       "text": [
        " 2m 25s 1500000 edges done\n"
       ]
      },
      {
       "output_type": "stream",
       "stream": "stderr",
       "text": [
        " 2m 25s 1600000 edges done\n"
       ]
      },
      {
       "output_type": "stream",
       "stream": "stderr",
       "text": [
        " 2m 26s 1700000 edges done\n"
       ]
      },
      {
       "output_type": "stream",
       "stream": "stderr",
       "text": [
        " 2m 27s 1800000 edges done\n"
       ]
      },
      {
       "output_type": "stream",
       "stream": "stderr",
       "text": [
        " 2m 27s 1900000 edges done\n"
       ]
      },
      {
       "output_type": "stream",
       "stream": "stderr",
       "text": [
        " 2m 28s 2000000 edges done\n"
       ]
      },
      {
       "output_type": "stream",
       "stream": "stderr",
       "text": [
        " 2m 29s 2100000 edges done\n"
       ]
      },
      {
       "output_type": "stream",
       "stream": "stderr",
       "text": [
        " 2m 29s 2200000 edges done\n"
       ]
      },
      {
       "output_type": "stream",
       "stream": "stderr",
       "text": [
        " 2m 29s 2224866 edges done\n"
       ]
      },
      {
       "output_type": "stream",
       "stream": "stderr",
       "text": [
        " 2m 29s Computing results ...\n"
       ]
      },
      {
       "output_type": "stream",
       "stream": "stderr",
       "text": [
        " 2m 33s Done\n"
       ]
      }
     ],
     "prompt_number": 6
    },
    {
     "cell_type": "markdown",
     "metadata": {},
     "source": [
      "There is also a summary file.\n",
      "\n",
      "For each feature it has the following columns:\n",
      "\n",
      "**Feature** name of the feature\n",
      "**val (-)**, **val (+)** value of the feature; **val (-)** contains absence values, **val (+)** contains defined values.\n",
      "**#vals** number of distinct values of this feature, split between the absence values and the defined values\n",
      "**occs** number of occurrences of this value or this feature\n",
      "**clause**, **phrase**, etc: how often the feature occurs on which type of node."
     ]
    },
    {
     "cell_type": "code",
     "collapsed": true,
     "input": [
      "dfn = pandas.read_csv(my_file('0_summary_node.csv'),sep='\\t', na_filter=False)\n",
      "dfe = pandas.read_csv(my_file('0_summary_edge.csv'),sep='\\t', na_filter=False)"
     ],
     "language": "python",
     "metadata": {},
     "outputs": [],
     "prompt_number": 5
    },
    {
     "cell_type": "code",
     "collapsed": false,
     "input": [
      "dfn"
     ],
     "language": "python",
     "metadata": {},
     "outputs": [
      {
       "html": [
        "<div style=\"max-height:1000px;max-width:1500px;overflow:auto;\">\n",
        "<table border=\"1\" class=\"dataframe\">\n",
        "  <thead>\n",
        "    <tr style=\"text-align: right;\">\n",
        "      <th></th>\n",
        "      <th>Feature</th>\n",
        "      <th>val (-)</th>\n",
        "      <th>val (+)</th>\n",
        "      <th>#vals (-)</th>\n",
        "      <th>#vals (+)</th>\n",
        "      <th>occs (-)</th>\n",
        "      <th>occs (+)</th>\n",
        "      <th>book (-)</th>\n",
        "      <th>book (+)</th>\n",
        "      <th>chapter (-)</th>\n",
        "      <th>chapter (+)</th>\n",
        "      <th>clause (-)</th>\n",
        "      <th>clause (+)</th>\n",
        "      <th>clause_atom (-)</th>\n",
        "      <th>clause_atom (+)</th>\n",
        "      <th>half_verse (-)</th>\n",
        "      <th>half_verse (+)</th>\n",
        "      <th>phrase (-)</th>\n",
        "      <th>phrase (+)</th>\n",
        "      <th>phrase_atom (-)</th>\n",
        "      <th></th>\n",
        "    </tr>\n",
        "  </thead>\n",
        "  <tbody>\n",
        "    <tr>\n",
        "      <th>0 </th>\n",
        "      <td>    book</td>\n",
        "      <td> </td>\n",
        "      <td>              </td>\n",
        "      <td> 0</td>\n",
        "      <td>  39</td>\n",
        "      <td> 0</td>\n",
        "      <td> 24181</td>\n",
        "      <td> 0</td>\n",
        "      <td> 39</td>\n",
        "      <td> 0</td>\n",
        "      <td> 929</td>\n",
        "      <td> 0</td>\n",
        "      <td> 0</td>\n",
        "      <td> 0</td>\n",
        "      <td> 0</td>\n",
        "      <td> 0</td>\n",
        "      <td> 0</td>\n",
        "      <td> 0</td>\n",
        "      <td> 0</td>\n",
        "      <td> 0</td>\n",
        "      <td>...</td>\n",
        "    </tr>\n",
        "    <tr>\n",
        "      <th>1 </th>\n",
        "      <td>        </td>\n",
        "      <td> </td>\n",
        "      <td>        Psalmi</td>\n",
        "      <td>  </td>\n",
        "      <td>    </td>\n",
        "      <td>  </td>\n",
        "      <td>  2678</td>\n",
        "      <td>  </td>\n",
        "      <td>   </td>\n",
        "      <td>  </td>\n",
        "      <td>    </td>\n",
        "      <td>  </td>\n",
        "      <td>  </td>\n",
        "      <td>  </td>\n",
        "      <td>  </td>\n",
        "      <td>  </td>\n",
        "      <td>  </td>\n",
        "      <td>  </td>\n",
        "      <td>  </td>\n",
        "      <td>  </td>\n",
        "      <td>...</td>\n",
        "    </tr>\n",
        "    <tr>\n",
        "      <th>2 </th>\n",
        "      <td>        </td>\n",
        "      <td> </td>\n",
        "      <td>       Genesis</td>\n",
        "      <td>  </td>\n",
        "      <td>    </td>\n",
        "      <td>  </td>\n",
        "      <td>  1584</td>\n",
        "      <td>  </td>\n",
        "      <td>   </td>\n",
        "      <td>  </td>\n",
        "      <td>    </td>\n",
        "      <td>  </td>\n",
        "      <td>  </td>\n",
        "      <td>  </td>\n",
        "      <td>  </td>\n",
        "      <td>  </td>\n",
        "      <td>  </td>\n",
        "      <td>  </td>\n",
        "      <td>  </td>\n",
        "      <td>  </td>\n",
        "      <td>...</td>\n",
        "    </tr>\n",
        "    <tr>\n",
        "      <th>3 </th>\n",
        "      <td>        </td>\n",
        "      <td> </td>\n",
        "      <td>       Jeremia</td>\n",
        "      <td>  </td>\n",
        "      <td>    </td>\n",
        "      <td>  </td>\n",
        "      <td>  1417</td>\n",
        "      <td>  </td>\n",
        "      <td>   </td>\n",
        "      <td>  </td>\n",
        "      <td>    </td>\n",
        "      <td>  </td>\n",
        "      <td>  </td>\n",
        "      <td>  </td>\n",
        "      <td>  </td>\n",
        "      <td>  </td>\n",
        "      <td>  </td>\n",
        "      <td>  </td>\n",
        "      <td>  </td>\n",
        "      <td>  </td>\n",
        "      <td>...</td>\n",
        "    </tr>\n",
        "    <tr>\n",
        "      <th>4 </th>\n",
        "      <td>        </td>\n",
        "      <td> </td>\n",
        "      <td>        Jesaia</td>\n",
        "      <td>  </td>\n",
        "      <td>    </td>\n",
        "      <td>  </td>\n",
        "      <td>  1358</td>\n",
        "      <td>  </td>\n",
        "      <td>   </td>\n",
        "      <td>  </td>\n",
        "      <td>    </td>\n",
        "      <td>  </td>\n",
        "      <td>  </td>\n",
        "      <td>  </td>\n",
        "      <td>  </td>\n",
        "      <td>  </td>\n",
        "      <td>  </td>\n",
        "      <td>  </td>\n",
        "      <td>  </td>\n",
        "      <td>  </td>\n",
        "      <td>...</td>\n",
        "    </tr>\n",
        "    <tr>\n",
        "      <th>5 </th>\n",
        "      <td>        </td>\n",
        "      <td> </td>\n",
        "      <td>        Numeri</td>\n",
        "      <td>  </td>\n",
        "      <td>    </td>\n",
        "      <td>  </td>\n",
        "      <td>  1326</td>\n",
        "      <td>  </td>\n",
        "      <td>   </td>\n",
        "      <td>  </td>\n",
        "      <td>    </td>\n",
        "      <td>  </td>\n",
        "      <td>  </td>\n",
        "      <td>  </td>\n",
        "      <td>  </td>\n",
        "      <td>  </td>\n",
        "      <td>  </td>\n",
        "      <td>  </td>\n",
        "      <td>  </td>\n",
        "      <td>  </td>\n",
        "      <td>...</td>\n",
        "    </tr>\n",
        "    <tr>\n",
        "      <th>6 </th>\n",
        "      <td>        </td>\n",
        "      <td> </td>\n",
        "      <td>      Ezechiel</td>\n",
        "      <td>  </td>\n",
        "      <td>    </td>\n",
        "      <td>  </td>\n",
        "      <td>  1322</td>\n",
        "      <td>  </td>\n",
        "      <td>   </td>\n",
        "      <td>  </td>\n",
        "      <td>    </td>\n",
        "      <td>  </td>\n",
        "      <td>  </td>\n",
        "      <td>  </td>\n",
        "      <td>  </td>\n",
        "      <td>  </td>\n",
        "      <td>  </td>\n",
        "      <td>  </td>\n",
        "      <td>  </td>\n",
        "      <td>  </td>\n",
        "      <td>...</td>\n",
        "    </tr>\n",
        "    <tr>\n",
        "      <th>7 </th>\n",
        "      <td>        </td>\n",
        "      <td> </td>\n",
        "      <td>        Exodus</td>\n",
        "      <td>  </td>\n",
        "      <td>    </td>\n",
        "      <td>  </td>\n",
        "      <td>  1254</td>\n",
        "      <td>  </td>\n",
        "      <td>   </td>\n",
        "      <td>  </td>\n",
        "      <td>    </td>\n",
        "      <td>  </td>\n",
        "      <td>  </td>\n",
        "      <td>  </td>\n",
        "      <td>  </td>\n",
        "      <td>  </td>\n",
        "      <td>  </td>\n",
        "      <td>  </td>\n",
        "      <td>  </td>\n",
        "      <td>  </td>\n",
        "      <td>...</td>\n",
        "    </tr>\n",
        "    <tr>\n",
        "      <th>8 </th>\n",
        "      <td>        </td>\n",
        "      <td> </td>\n",
        "      <td>           Iob</td>\n",
        "      <td>  </td>\n",
        "      <td>    </td>\n",
        "      <td>  </td>\n",
        "      <td>  1113</td>\n",
        "      <td>  </td>\n",
        "      <td>   </td>\n",
        "      <td>  </td>\n",
        "      <td>    </td>\n",
        "      <td>  </td>\n",
        "      <td>  </td>\n",
        "      <td>  </td>\n",
        "      <td>  </td>\n",
        "      <td>  </td>\n",
        "      <td>  </td>\n",
        "      <td>  </td>\n",
        "      <td>  </td>\n",
        "      <td>  </td>\n",
        "      <td>...</td>\n",
        "    </tr>\n",
        "    <tr>\n",
        "      <th>9 </th>\n",
        "      <td>        </td>\n",
        "      <td> </td>\n",
        "      <td> Deuteronomium</td>\n",
        "      <td>  </td>\n",
        "      <td>    </td>\n",
        "      <td>  </td>\n",
        "      <td>   994</td>\n",
        "      <td>  </td>\n",
        "      <td>   </td>\n",
        "      <td>  </td>\n",
        "      <td>    </td>\n",
        "      <td>  </td>\n",
        "      <td>  </td>\n",
        "      <td>  </td>\n",
        "      <td>  </td>\n",
        "      <td>  </td>\n",
        "      <td>  </td>\n",
        "      <td>  </td>\n",
        "      <td>  </td>\n",
        "      <td>  </td>\n",
        "      <td>...</td>\n",
        "    </tr>\n",
        "    <tr>\n",
        "      <th>10</th>\n",
        "      <td>        </td>\n",
        "      <td> </td>\n",
        "      <td>    Chronica_I</td>\n",
        "      <td>  </td>\n",
        "      <td>    </td>\n",
        "      <td>  </td>\n",
        "      <td>   973</td>\n",
        "      <td>  </td>\n",
        "      <td>   </td>\n",
        "      <td>  </td>\n",
        "      <td>    </td>\n",
        "      <td>  </td>\n",
        "      <td>  </td>\n",
        "      <td>  </td>\n",
        "      <td>  </td>\n",
        "      <td>  </td>\n",
        "      <td>  </td>\n",
        "      <td>  </td>\n",
        "      <td>  </td>\n",
        "      <td>  </td>\n",
        "      <td>...</td>\n",
        "    </tr>\n",
        "    <tr>\n",
        "      <th>11</th>\n",
        "      <td>        </td>\n",
        "      <td> </td>\n",
        "      <td>     Proverbia</td>\n",
        "      <td>  </td>\n",
        "      <td>    </td>\n",
        "      <td>  </td>\n",
        "      <td>   947</td>\n",
        "      <td>  </td>\n",
        "      <td>   </td>\n",
        "      <td>  </td>\n",
        "      <td>    </td>\n",
        "      <td>  </td>\n",
        "      <td>  </td>\n",
        "      <td>  </td>\n",
        "      <td>  </td>\n",
        "      <td>  </td>\n",
        "      <td>  </td>\n",
        "      <td>  </td>\n",
        "      <td>  </td>\n",
        "      <td>  </td>\n",
        "      <td>...</td>\n",
        "    </tr>\n",
        "    <tr>\n",
        "      <th>12</th>\n",
        "      <td>        </td>\n",
        "      <td> </td>\n",
        "      <td>     Leviticus</td>\n",
        "      <td>  </td>\n",
        "      <td>    </td>\n",
        "      <td>  </td>\n",
        "      <td>   887</td>\n",
        "      <td>  </td>\n",
        "      <td>   </td>\n",
        "      <td>  </td>\n",
        "      <td>    </td>\n",
        "      <td>  </td>\n",
        "      <td>  </td>\n",
        "      <td>  </td>\n",
        "      <td>  </td>\n",
        "      <td>  </td>\n",
        "      <td>  </td>\n",
        "      <td>  </td>\n",
        "      <td>  </td>\n",
        "      <td>  </td>\n",
        "      <td>...</td>\n",
        "    </tr>\n",
        "    <tr>\n",
        "      <th>13</th>\n",
        "      <td>        </td>\n",
        "      <td> </td>\n",
        "      <td>   Chronica_II</td>\n",
        "      <td>  </td>\n",
        "      <td>    </td>\n",
        "      <td>  </td>\n",
        "      <td>   859</td>\n",
        "      <td>  </td>\n",
        "      <td>   </td>\n",
        "      <td>  </td>\n",
        "      <td>    </td>\n",
        "      <td>  </td>\n",
        "      <td>  </td>\n",
        "      <td>  </td>\n",
        "      <td>  </td>\n",
        "      <td>  </td>\n",
        "      <td>  </td>\n",
        "      <td>  </td>\n",
        "      <td>  </td>\n",
        "      <td>  </td>\n",
        "      <td>...</td>\n",
        "    </tr>\n",
        "    <tr>\n",
        "      <th>14</th>\n",
        "      <td>        </td>\n",
        "      <td> </td>\n",
        "      <td>      Samuel_I</td>\n",
        "      <td>  </td>\n",
        "      <td>    </td>\n",
        "      <td>  </td>\n",
        "      <td>   843</td>\n",
        "      <td>  </td>\n",
        "      <td>   </td>\n",
        "      <td>  </td>\n",
        "      <td>    </td>\n",
        "      <td>  </td>\n",
        "      <td>  </td>\n",
        "      <td>  </td>\n",
        "      <td>  </td>\n",
        "      <td>  </td>\n",
        "      <td>  </td>\n",
        "      <td>  </td>\n",
        "      <td>  </td>\n",
        "      <td>  </td>\n",
        "      <td>...</td>\n",
        "    </tr>\n",
        "    <tr>\n",
        "      <th>15</th>\n",
        "      <td>        </td>\n",
        "      <td> </td>\n",
        "      <td>       Reges_I</td>\n",
        "      <td>  </td>\n",
        "      <td>    </td>\n",
        "      <td>  </td>\n",
        "      <td>   840</td>\n",
        "      <td>  </td>\n",
        "      <td>   </td>\n",
        "      <td>  </td>\n",
        "      <td>    </td>\n",
        "      <td>  </td>\n",
        "      <td>  </td>\n",
        "      <td>  </td>\n",
        "      <td>  </td>\n",
        "      <td>  </td>\n",
        "      <td>  </td>\n",
        "      <td>  </td>\n",
        "      <td>  </td>\n",
        "      <td>  </td>\n",
        "      <td>...</td>\n",
        "    </tr>\n",
        "    <tr>\n",
        "      <th>16</th>\n",
        "      <td>        </td>\n",
        "      <td> </td>\n",
        "      <td>      Reges_II</td>\n",
        "      <td>  </td>\n",
        "      <td>    </td>\n",
        "      <td>  </td>\n",
        "      <td>   745</td>\n",
        "      <td>  </td>\n",
        "      <td>   </td>\n",
        "      <td>  </td>\n",
        "      <td>    </td>\n",
        "      <td>  </td>\n",
        "      <td>  </td>\n",
        "      <td>  </td>\n",
        "      <td>  </td>\n",
        "      <td>  </td>\n",
        "      <td>  </td>\n",
        "      <td>  </td>\n",
        "      <td>  </td>\n",
        "      <td>  </td>\n",
        "      <td>...</td>\n",
        "    </tr>\n",
        "    <tr>\n",
        "      <th>17</th>\n",
        "      <td>        </td>\n",
        "      <td> </td>\n",
        "      <td>     Samuel_II</td>\n",
        "      <td>  </td>\n",
        "      <td>    </td>\n",
        "      <td>  </td>\n",
        "      <td>   720</td>\n",
        "      <td>  </td>\n",
        "      <td>   </td>\n",
        "      <td>  </td>\n",
        "      <td>    </td>\n",
        "      <td>  </td>\n",
        "      <td>  </td>\n",
        "      <td>  </td>\n",
        "      <td>  </td>\n",
        "      <td>  </td>\n",
        "      <td>  </td>\n",
        "      <td>  </td>\n",
        "      <td>  </td>\n",
        "      <td>  </td>\n",
        "      <td>...</td>\n",
        "    </tr>\n",
        "    <tr>\n",
        "      <th>18</th>\n",
        "      <td>        </td>\n",
        "      <td> </td>\n",
        "      <td>         Josua</td>\n",
        "      <td>  </td>\n",
        "      <td>    </td>\n",
        "      <td>  </td>\n",
        "      <td>   683</td>\n",
        "      <td>  </td>\n",
        "      <td>   </td>\n",
        "      <td>  </td>\n",
        "      <td>    </td>\n",
        "      <td>  </td>\n",
        "      <td>  </td>\n",
        "      <td>  </td>\n",
        "      <td>  </td>\n",
        "      <td>  </td>\n",
        "      <td>  </td>\n",
        "      <td>  </td>\n",
        "      <td>  </td>\n",
        "      <td>  </td>\n",
        "      <td>...</td>\n",
        "    </tr>\n",
        "    <tr>\n",
        "      <th>19</th>\n",
        "      <td>        </td>\n",
        "      <td> </td>\n",
        "      <td>       Judices</td>\n",
        "      <td>  </td>\n",
        "      <td>    </td>\n",
        "      <td>  </td>\n",
        "      <td>   640</td>\n",
        "      <td>  </td>\n",
        "      <td>   </td>\n",
        "      <td>  </td>\n",
        "      <td>    </td>\n",
        "      <td>  </td>\n",
        "      <td>  </td>\n",
        "      <td>  </td>\n",
        "      <td>  </td>\n",
        "      <td>  </td>\n",
        "      <td>  </td>\n",
        "      <td>  </td>\n",
        "      <td>  </td>\n",
        "      <td>  </td>\n",
        "      <td>...</td>\n",
        "    </tr>\n",
        "    <tr>\n",
        "      <th>20</th>\n",
        "      <td>        </td>\n",
        "      <td> </td>\n",
        "      <td>       Nehemia</td>\n",
        "      <td>  </td>\n",
        "      <td>    </td>\n",
        "      <td>  </td>\n",
        "      <td>   419</td>\n",
        "      <td>  </td>\n",
        "      <td>   </td>\n",
        "      <td>  </td>\n",
        "      <td>    </td>\n",
        "      <td>  </td>\n",
        "      <td>  </td>\n",
        "      <td>  </td>\n",
        "      <td>  </td>\n",
        "      <td>  </td>\n",
        "      <td>  </td>\n",
        "      <td>  </td>\n",
        "      <td>  </td>\n",
        "      <td>  </td>\n",
        "      <td>...</td>\n",
        "    </tr>\n",
        "    <tr>\n",
        "      <th>21</th>\n",
        "      <td>        </td>\n",
        "      <td> </td>\n",
        "      <td>        Daniel</td>\n",
        "      <td>  </td>\n",
        "      <td>    </td>\n",
        "      <td>  </td>\n",
        "      <td>   370</td>\n",
        "      <td>  </td>\n",
        "      <td>   </td>\n",
        "      <td>  </td>\n",
        "      <td>    </td>\n",
        "      <td>  </td>\n",
        "      <td>  </td>\n",
        "      <td>  </td>\n",
        "      <td>  </td>\n",
        "      <td>  </td>\n",
        "      <td>  </td>\n",
        "      <td>  </td>\n",
        "      <td>  </td>\n",
        "      <td>  </td>\n",
        "      <td>...</td>\n",
        "    </tr>\n",
        "    <tr>\n",
        "      <th>22</th>\n",
        "      <td>        </td>\n",
        "      <td> </td>\n",
        "      <td>          Esra</td>\n",
        "      <td>  </td>\n",
        "      <td>    </td>\n",
        "      <td>  </td>\n",
        "      <td>   291</td>\n",
        "      <td>  </td>\n",
        "      <td>   </td>\n",
        "      <td>  </td>\n",
        "      <td>    </td>\n",
        "      <td>  </td>\n",
        "      <td>  </td>\n",
        "      <td>  </td>\n",
        "      <td>  </td>\n",
        "      <td>  </td>\n",
        "      <td>  </td>\n",
        "      <td>  </td>\n",
        "      <td>  </td>\n",
        "      <td>  </td>\n",
        "      <td>...</td>\n",
        "    </tr>\n",
        "    <tr>\n",
        "      <th>23</th>\n",
        "      <td>        </td>\n",
        "      <td> </td>\n",
        "      <td>  Ecclesiastes</td>\n",
        "      <td>  </td>\n",
        "      <td>    </td>\n",
        "      <td>  </td>\n",
        "      <td>   235</td>\n",
        "      <td>  </td>\n",
        "      <td>   </td>\n",
        "      <td>  </td>\n",
        "      <td>    </td>\n",
        "      <td>  </td>\n",
        "      <td>  </td>\n",
        "      <td>  </td>\n",
        "      <td>  </td>\n",
        "      <td>  </td>\n",
        "      <td>  </td>\n",
        "      <td>  </td>\n",
        "      <td>  </td>\n",
        "      <td>  </td>\n",
        "      <td>...</td>\n",
        "    </tr>\n",
        "    <tr>\n",
        "      <th>24</th>\n",
        "      <td>        </td>\n",
        "      <td> </td>\n",
        "      <td>      Sacharia</td>\n",
        "      <td>  </td>\n",
        "      <td>    </td>\n",
        "      <td>  </td>\n",
        "      <td>   226</td>\n",
        "      <td>  </td>\n",
        "      <td>   </td>\n",
        "      <td>  </td>\n",
        "      <td>    </td>\n",
        "      <td>  </td>\n",
        "      <td>  </td>\n",
        "      <td>  </td>\n",
        "      <td>  </td>\n",
        "      <td>  </td>\n",
        "      <td>  </td>\n",
        "      <td>  </td>\n",
        "      <td>  </td>\n",
        "      <td>  </td>\n",
        "      <td>...</td>\n",
        "    </tr>\n",
        "    <tr>\n",
        "      <th>25</th>\n",
        "      <td>        </td>\n",
        "      <td> </td>\n",
        "      <td>         Hosea</td>\n",
        "      <td>  </td>\n",
        "      <td>    </td>\n",
        "      <td>  </td>\n",
        "      <td>   212</td>\n",
        "      <td>  </td>\n",
        "      <td>   </td>\n",
        "      <td>  </td>\n",
        "      <td>    </td>\n",
        "      <td>  </td>\n",
        "      <td>  </td>\n",
        "      <td>  </td>\n",
        "      <td>  </td>\n",
        "      <td>  </td>\n",
        "      <td>  </td>\n",
        "      <td>  </td>\n",
        "      <td>  </td>\n",
        "      <td>  </td>\n",
        "      <td>...</td>\n",
        "    </tr>\n",
        "    <tr>\n",
        "      <th>26</th>\n",
        "      <td>        </td>\n",
        "      <td> </td>\n",
        "      <td>        Esther</td>\n",
        "      <td>  </td>\n",
        "      <td>    </td>\n",
        "      <td>  </td>\n",
        "      <td>   178</td>\n",
        "      <td>  </td>\n",
        "      <td>   </td>\n",
        "      <td>  </td>\n",
        "      <td>    </td>\n",
        "      <td>  </td>\n",
        "      <td>  </td>\n",
        "      <td>  </td>\n",
        "      <td>  </td>\n",
        "      <td>  </td>\n",
        "      <td>  </td>\n",
        "      <td>  </td>\n",
        "      <td>  </td>\n",
        "      <td>  </td>\n",
        "      <td>...</td>\n",
        "    </tr>\n",
        "    <tr>\n",
        "      <th>27</th>\n",
        "      <td>        </td>\n",
        "      <td> </td>\n",
        "      <td>        Threni</td>\n",
        "      <td>  </td>\n",
        "      <td>    </td>\n",
        "      <td>  </td>\n",
        "      <td>   160</td>\n",
        "      <td>  </td>\n",
        "      <td>   </td>\n",
        "      <td>  </td>\n",
        "      <td>    </td>\n",
        "      <td>  </td>\n",
        "      <td>  </td>\n",
        "      <td>  </td>\n",
        "      <td>  </td>\n",
        "      <td>  </td>\n",
        "      <td>  </td>\n",
        "      <td>  </td>\n",
        "      <td>  </td>\n",
        "      <td>  </td>\n",
        "      <td>...</td>\n",
        "    </tr>\n",
        "    <tr>\n",
        "      <th>28</th>\n",
        "      <td>        </td>\n",
        "      <td> </td>\n",
        "      <td>          Amos</td>\n",
        "      <td>  </td>\n",
        "      <td>    </td>\n",
        "      <td>  </td>\n",
        "      <td>   156</td>\n",
        "      <td>  </td>\n",
        "      <td>   </td>\n",
        "      <td>  </td>\n",
        "      <td>    </td>\n",
        "      <td>  </td>\n",
        "      <td>  </td>\n",
        "      <td>  </td>\n",
        "      <td>  </td>\n",
        "      <td>  </td>\n",
        "      <td>  </td>\n",
        "      <td>  </td>\n",
        "      <td>  </td>\n",
        "      <td>  </td>\n",
        "      <td>...</td>\n",
        "    </tr>\n",
        "    <tr>\n",
        "      <th>29</th>\n",
        "      <td>        </td>\n",
        "      <td> </td>\n",
        "      <td>      Canticum</td>\n",
        "      <td>  </td>\n",
        "      <td>    </td>\n",
        "      <td>  </td>\n",
        "      <td>   126</td>\n",
        "      <td>  </td>\n",
        "      <td>   </td>\n",
        "      <td>  </td>\n",
        "      <td>    </td>\n",
        "      <td>  </td>\n",
        "      <td>  </td>\n",
        "      <td>  </td>\n",
        "      <td>  </td>\n",
        "      <td>  </td>\n",
        "      <td>  </td>\n",
        "      <td>  </td>\n",
        "      <td>  </td>\n",
        "      <td>  </td>\n",
        "      <td>...</td>\n",
        "    </tr>\n",
        "    <tr>\n",
        "      <th>30</th>\n",
        "      <td>        </td>\n",
        "      <td> </td>\n",
        "      <td>         Micha</td>\n",
        "      <td>  </td>\n",
        "      <td>    </td>\n",
        "      <td>  </td>\n",
        "      <td>   113</td>\n",
        "      <td>  </td>\n",
        "      <td>   </td>\n",
        "      <td>  </td>\n",
        "      <td>    </td>\n",
        "      <td>  </td>\n",
        "      <td>  </td>\n",
        "      <td>  </td>\n",
        "      <td>  </td>\n",
        "      <td>  </td>\n",
        "      <td>  </td>\n",
        "      <td>  </td>\n",
        "      <td>  </td>\n",
        "      <td>  </td>\n",
        "      <td>...</td>\n",
        "    </tr>\n",
        "    <tr>\n",
        "      <th>31</th>\n",
        "      <td>        </td>\n",
        "      <td> </td>\n",
        "      <td>          Ruth</td>\n",
        "      <td>  </td>\n",
        "      <td>    </td>\n",
        "      <td>  </td>\n",
        "      <td>    90</td>\n",
        "      <td>  </td>\n",
        "      <td>   </td>\n",
        "      <td>  </td>\n",
        "      <td>    </td>\n",
        "      <td>  </td>\n",
        "      <td>  </td>\n",
        "      <td>  </td>\n",
        "      <td>  </td>\n",
        "      <td>  </td>\n",
        "      <td>  </td>\n",
        "      <td>  </td>\n",
        "      <td>  </td>\n",
        "      <td>  </td>\n",
        "      <td>...</td>\n",
        "    </tr>\n",
        "    <tr>\n",
        "      <th>32</th>\n",
        "      <td>        </td>\n",
        "      <td> </td>\n",
        "      <td>          Joel</td>\n",
        "      <td>  </td>\n",
        "      <td>    </td>\n",
        "      <td>  </td>\n",
        "      <td>    78</td>\n",
        "      <td>  </td>\n",
        "      <td>   </td>\n",
        "      <td>  </td>\n",
        "      <td>    </td>\n",
        "      <td>  </td>\n",
        "      <td>  </td>\n",
        "      <td>  </td>\n",
        "      <td>  </td>\n",
        "      <td>  </td>\n",
        "      <td>  </td>\n",
        "      <td>  </td>\n",
        "      <td>  </td>\n",
        "      <td>  </td>\n",
        "      <td>...</td>\n",
        "    </tr>\n",
        "    <tr>\n",
        "      <th>33</th>\n",
        "      <td>        </td>\n",
        "      <td> </td>\n",
        "      <td>       Habakuk</td>\n",
        "      <td>  </td>\n",
        "      <td>    </td>\n",
        "      <td>  </td>\n",
        "      <td>    60</td>\n",
        "      <td>  </td>\n",
        "      <td>   </td>\n",
        "      <td>  </td>\n",
        "      <td>    </td>\n",
        "      <td>  </td>\n",
        "      <td>  </td>\n",
        "      <td>  </td>\n",
        "      <td>  </td>\n",
        "      <td>  </td>\n",
        "      <td>  </td>\n",
        "      <td>  </td>\n",
        "      <td>  </td>\n",
        "      <td>  </td>\n",
        "      <td>...</td>\n",
        "    </tr>\n",
        "    <tr>\n",
        "      <th>34</th>\n",
        "      <td>        </td>\n",
        "      <td> </td>\n",
        "      <td>      Maleachi</td>\n",
        "      <td>  </td>\n",
        "      <td>    </td>\n",
        "      <td>  </td>\n",
        "      <td>    59</td>\n",
        "      <td>  </td>\n",
        "      <td>   </td>\n",
        "      <td>  </td>\n",
        "      <td>    </td>\n",
        "      <td>  </td>\n",
        "      <td>  </td>\n",
        "      <td>  </td>\n",
        "      <td>  </td>\n",
        "      <td>  </td>\n",
        "      <td>  </td>\n",
        "      <td>  </td>\n",
        "      <td>  </td>\n",
        "      <td>  </td>\n",
        "      <td>...</td>\n",
        "    </tr>\n",
        "    <tr>\n",
        "      <th>35</th>\n",
        "      <td>        </td>\n",
        "      <td> </td>\n",
        "      <td>      Zephania</td>\n",
        "      <td>  </td>\n",
        "      <td>    </td>\n",
        "      <td>  </td>\n",
        "      <td>    57</td>\n",
        "      <td>  </td>\n",
        "      <td>   </td>\n",
        "      <td>  </td>\n",
        "      <td>    </td>\n",
        "      <td>  </td>\n",
        "      <td>  </td>\n",
        "      <td>  </td>\n",
        "      <td>  </td>\n",
        "      <td>  </td>\n",
        "      <td>  </td>\n",
        "      <td>  </td>\n",
        "      <td>  </td>\n",
        "      <td>  </td>\n",
        "      <td>...</td>\n",
        "    </tr>\n",
        "    <tr>\n",
        "      <th>36</th>\n",
        "      <td>        </td>\n",
        "      <td> </td>\n",
        "      <td>          Jona</td>\n",
        "      <td>  </td>\n",
        "      <td>    </td>\n",
        "      <td>  </td>\n",
        "      <td>    53</td>\n",
        "      <td>  </td>\n",
        "      <td>   </td>\n",
        "      <td>  </td>\n",
        "      <td>    </td>\n",
        "      <td>  </td>\n",
        "      <td>  </td>\n",
        "      <td>  </td>\n",
        "      <td>  </td>\n",
        "      <td>  </td>\n",
        "      <td>  </td>\n",
        "      <td>  </td>\n",
        "      <td>  </td>\n",
        "      <td>  </td>\n",
        "      <td>...</td>\n",
        "    </tr>\n",
        "    <tr>\n",
        "      <th>37</th>\n",
        "      <td>        </td>\n",
        "      <td> </td>\n",
        "      <td>         Nahum</td>\n",
        "      <td>  </td>\n",
        "      <td>    </td>\n",
        "      <td>  </td>\n",
        "      <td>    51</td>\n",
        "      <td>  </td>\n",
        "      <td>   </td>\n",
        "      <td>  </td>\n",
        "      <td>    </td>\n",
        "      <td>  </td>\n",
        "      <td>  </td>\n",
        "      <td>  </td>\n",
        "      <td>  </td>\n",
        "      <td>  </td>\n",
        "      <td>  </td>\n",
        "      <td>  </td>\n",
        "      <td>  </td>\n",
        "      <td>  </td>\n",
        "      <td>...</td>\n",
        "    </tr>\n",
        "    <tr>\n",
        "      <th>38</th>\n",
        "      <td>        </td>\n",
        "      <td> </td>\n",
        "      <td>        Haggai</td>\n",
        "      <td>  </td>\n",
        "      <td>    </td>\n",
        "      <td>  </td>\n",
        "      <td>    41</td>\n",
        "      <td>  </td>\n",
        "      <td>   </td>\n",
        "      <td>  </td>\n",
        "      <td>    </td>\n",
        "      <td>  </td>\n",
        "      <td>  </td>\n",
        "      <td>  </td>\n",
        "      <td>  </td>\n",
        "      <td>  </td>\n",
        "      <td>  </td>\n",
        "      <td>  </td>\n",
        "      <td>  </td>\n",
        "      <td>  </td>\n",
        "      <td>...</td>\n",
        "    </tr>\n",
        "    <tr>\n",
        "      <th>39</th>\n",
        "      <td>        </td>\n",
        "      <td> </td>\n",
        "      <td>        Obadia</td>\n",
        "      <td>  </td>\n",
        "      <td>    </td>\n",
        "      <td>  </td>\n",
        "      <td>    23</td>\n",
        "      <td>  </td>\n",
        "      <td>   </td>\n",
        "      <td>  </td>\n",
        "      <td>    </td>\n",
        "      <td>  </td>\n",
        "      <td>  </td>\n",
        "      <td>  </td>\n",
        "      <td>  </td>\n",
        "      <td>  </td>\n",
        "      <td>  </td>\n",
        "      <td>  </td>\n",
        "      <td>  </td>\n",
        "      <td>  </td>\n",
        "      <td>...</td>\n",
        "    </tr>\n",
        "    <tr>\n",
        "      <th>40</th>\n",
        "      <td> chapter</td>\n",
        "      <td> </td>\n",
        "      <td>              </td>\n",
        "      <td> 0</td>\n",
        "      <td> 150</td>\n",
        "      <td> 0</td>\n",
        "      <td> 24142</td>\n",
        "      <td> 0</td>\n",
        "      <td>  0</td>\n",
        "      <td> 0</td>\n",
        "      <td> 929</td>\n",
        "      <td> 0</td>\n",
        "      <td> 0</td>\n",
        "      <td> 0</td>\n",
        "      <td> 0</td>\n",
        "      <td> 0</td>\n",
        "      <td> 0</td>\n",
        "      <td> 0</td>\n",
        "      <td> 0</td>\n",
        "      <td> 0</td>\n",
        "      <td>...</td>\n",
        "    </tr>\n",
        "    <tr>\n",
        "      <th>41</th>\n",
        "      <td>        </td>\n",
        "      <td> </td>\n",
        "      <td>             2</td>\n",
        "      <td>  </td>\n",
        "      <td>    </td>\n",
        "      <td>  </td>\n",
        "      <td>   997</td>\n",
        "      <td>  </td>\n",
        "      <td>   </td>\n",
        "      <td>  </td>\n",
        "      <td>    </td>\n",
        "      <td>  </td>\n",
        "      <td>  </td>\n",
        "      <td>  </td>\n",
        "      <td>  </td>\n",
        "      <td>  </td>\n",
        "      <td>  </td>\n",
        "      <td>  </td>\n",
        "      <td>  </td>\n",
        "      <td>  </td>\n",
        "      <td>...</td>\n",
        "    </tr>\n",
        "    <tr>\n",
        "      <th>42</th>\n",
        "      <td>        </td>\n",
        "      <td> </td>\n",
        "      <td>             1</td>\n",
        "      <td>  </td>\n",
        "      <td>    </td>\n",
        "      <td>  </td>\n",
        "      <td>   936</td>\n",
        "      <td>  </td>\n",
        "      <td>   </td>\n",
        "      <td>  </td>\n",
        "      <td>    </td>\n",
        "      <td>  </td>\n",
        "      <td>  </td>\n",
        "      <td>  </td>\n",
        "      <td>  </td>\n",
        "      <td>  </td>\n",
        "      <td>  </td>\n",
        "      <td>  </td>\n",
        "      <td>  </td>\n",
        "      <td>  </td>\n",
        "      <td>...</td>\n",
        "    </tr>\n",
        "    <tr>\n",
        "      <th>43</th>\n",
        "      <td>        </td>\n",
        "      <td> </td>\n",
        "      <td>             3</td>\n",
        "      <td>  </td>\n",
        "      <td>    </td>\n",
        "      <td>  </td>\n",
        "      <td>   887</td>\n",
        "      <td>  </td>\n",
        "      <td>   </td>\n",
        "      <td>  </td>\n",
        "      <td>    </td>\n",
        "      <td>  </td>\n",
        "      <td>  </td>\n",
        "      <td>  </td>\n",
        "      <td>  </td>\n",
        "      <td>  </td>\n",
        "      <td>  </td>\n",
        "      <td>  </td>\n",
        "      <td>  </td>\n",
        "      <td>  </td>\n",
        "      <td>...</td>\n",
        "    </tr>\n",
        "    <tr>\n",
        "      <th>44</th>\n",
        "      <td>        </td>\n",
        "      <td> </td>\n",
        "      <td>             7</td>\n",
        "      <td>  </td>\n",
        "      <td>    </td>\n",
        "      <td>  </td>\n",
        "      <td>   865</td>\n",
        "      <td>  </td>\n",
        "      <td>   </td>\n",
        "      <td>  </td>\n",
        "      <td>    </td>\n",
        "      <td>  </td>\n",
        "      <td>  </td>\n",
        "      <td>  </td>\n",
        "      <td>  </td>\n",
        "      <td>  </td>\n",
        "      <td>  </td>\n",
        "      <td>  </td>\n",
        "      <td>  </td>\n",
        "      <td>  </td>\n",
        "      <td>...</td>\n",
        "    </tr>\n",
        "    <tr>\n",
        "      <th>45</th>\n",
        "      <td>        </td>\n",
        "      <td> </td>\n",
        "      <td>             4</td>\n",
        "      <td>  </td>\n",
        "      <td>    </td>\n",
        "      <td>  </td>\n",
        "      <td>   806</td>\n",
        "      <td>  </td>\n",
        "      <td>   </td>\n",
        "      <td>  </td>\n",
        "      <td>    </td>\n",
        "      <td>  </td>\n",
        "      <td>  </td>\n",
        "      <td>  </td>\n",
        "      <td>  </td>\n",
        "      <td>  </td>\n",
        "      <td>  </td>\n",
        "      <td>  </td>\n",
        "      <td>  </td>\n",
        "      <td>  </td>\n",
        "      <td>...</td>\n",
        "    </tr>\n",
        "    <tr>\n",
        "      <th>46</th>\n",
        "      <td>        </td>\n",
        "      <td> </td>\n",
        "      <td>             6</td>\n",
        "      <td>  </td>\n",
        "      <td>    </td>\n",
        "      <td>  </td>\n",
        "      <td>   743</td>\n",
        "      <td>  </td>\n",
        "      <td>   </td>\n",
        "      <td>  </td>\n",
        "      <td>    </td>\n",
        "      <td>  </td>\n",
        "      <td>  </td>\n",
        "      <td>  </td>\n",
        "      <td>  </td>\n",
        "      <td>  </td>\n",
        "      <td>  </td>\n",
        "      <td>  </td>\n",
        "      <td>  </td>\n",
        "      <td>  </td>\n",
        "      <td>...</td>\n",
        "    </tr>\n",
        "    <tr>\n",
        "      <th>47</th>\n",
        "      <td>        </td>\n",
        "      <td> </td>\n",
        "      <td>             9</td>\n",
        "      <td>  </td>\n",
        "      <td>    </td>\n",
        "      <td>  </td>\n",
        "      <td>   739</td>\n",
        "      <td>  </td>\n",
        "      <td>   </td>\n",
        "      <td>  </td>\n",
        "      <td>    </td>\n",
        "      <td>  </td>\n",
        "      <td>  </td>\n",
        "      <td>  </td>\n",
        "      <td>  </td>\n",
        "      <td>  </td>\n",
        "      <td>  </td>\n",
        "      <td>  </td>\n",
        "      <td>  </td>\n",
        "      <td>  </td>\n",
        "      <td>...</td>\n",
        "    </tr>\n",
        "    <tr>\n",
        "      <th>48</th>\n",
        "      <td>        </td>\n",
        "      <td> </td>\n",
        "      <td>             8</td>\n",
        "      <td>  </td>\n",
        "      <td>    </td>\n",
        "      <td>  </td>\n",
        "      <td>   735</td>\n",
        "      <td>  </td>\n",
        "      <td>   </td>\n",
        "      <td>  </td>\n",
        "      <td>    </td>\n",
        "      <td>  </td>\n",
        "      <td>  </td>\n",
        "      <td>  </td>\n",
        "      <td>  </td>\n",
        "      <td>  </td>\n",
        "      <td>  </td>\n",
        "      <td>  </td>\n",
        "      <td>  </td>\n",
        "      <td>  </td>\n",
        "      <td>...</td>\n",
        "    </tr>\n",
        "    <tr>\n",
        "      <th>49</th>\n",
        "      <td>        </td>\n",
        "      <td> </td>\n",
        "      <td>             5</td>\n",
        "      <td>  </td>\n",
        "      <td>    </td>\n",
        "      <td>  </td>\n",
        "      <td>   717</td>\n",
        "      <td>  </td>\n",
        "      <td>   </td>\n",
        "      <td>  </td>\n",
        "      <td>    </td>\n",
        "      <td>  </td>\n",
        "      <td>  </td>\n",
        "      <td>  </td>\n",
        "      <td>  </td>\n",
        "      <td>  </td>\n",
        "      <td>  </td>\n",
        "      <td>  </td>\n",
        "      <td>  </td>\n",
        "      <td>  </td>\n",
        "      <td>...</td>\n",
        "    </tr>\n",
        "    <tr>\n",
        "      <th>50</th>\n",
        "      <td>        </td>\n",
        "      <td> </td>\n",
        "      <td>            10</td>\n",
        "      <td>  </td>\n",
        "      <td>    </td>\n",
        "      <td>  </td>\n",
        "      <td>   678</td>\n",
        "      <td>  </td>\n",
        "      <td>   </td>\n",
        "      <td>  </td>\n",
        "      <td>    </td>\n",
        "      <td>  </td>\n",
        "      <td>  </td>\n",
        "      <td>  </td>\n",
        "      <td>  </td>\n",
        "      <td>  </td>\n",
        "      <td>  </td>\n",
        "      <td>  </td>\n",
        "      <td>  </td>\n",
        "      <td>  </td>\n",
        "      <td>...</td>\n",
        "    </tr>\n",
        "    <tr>\n",
        "      <th>51</th>\n",
        "      <td>        </td>\n",
        "      <td> </td>\n",
        "      <td>            11</td>\n",
        "      <td>  </td>\n",
        "      <td>    </td>\n",
        "      <td>  </td>\n",
        "      <td>   659</td>\n",
        "      <td>  </td>\n",
        "      <td>   </td>\n",
        "      <td>  </td>\n",
        "      <td>    </td>\n",
        "      <td>  </td>\n",
        "      <td>  </td>\n",
        "      <td>  </td>\n",
        "      <td>  </td>\n",
        "      <td>  </td>\n",
        "      <td>  </td>\n",
        "      <td>  </td>\n",
        "      <td>  </td>\n",
        "      <td>  </td>\n",
        "      <td>...</td>\n",
        "    </tr>\n",
        "    <tr>\n",
        "      <th>52</th>\n",
        "      <td>        </td>\n",
        "      <td> </td>\n",
        "      <td>            14</td>\n",
        "      <td>  </td>\n",
        "      <td>    </td>\n",
        "      <td>  </td>\n",
        "      <td>   590</td>\n",
        "      <td>  </td>\n",
        "      <td>   </td>\n",
        "      <td>  </td>\n",
        "      <td>    </td>\n",
        "      <td>  </td>\n",
        "      <td>  </td>\n",
        "      <td>  </td>\n",
        "      <td>  </td>\n",
        "      <td>  </td>\n",
        "      <td>  </td>\n",
        "      <td>  </td>\n",
        "      <td>  </td>\n",
        "      <td>  </td>\n",
        "      <td>...</td>\n",
        "    </tr>\n",
        "    <tr>\n",
        "      <th>53</th>\n",
        "      <td>        </td>\n",
        "      <td> </td>\n",
        "      <td>            18</td>\n",
        "      <td>  </td>\n",
        "      <td>    </td>\n",
        "      <td>  </td>\n",
        "      <td>   576</td>\n",
        "      <td>  </td>\n",
        "      <td>   </td>\n",
        "      <td>  </td>\n",
        "      <td>    </td>\n",
        "      <td>  </td>\n",
        "      <td>  </td>\n",
        "      <td>  </td>\n",
        "      <td>  </td>\n",
        "      <td>  </td>\n",
        "      <td>  </td>\n",
        "      <td>  </td>\n",
        "      <td>  </td>\n",
        "      <td>  </td>\n",
        "      <td>...</td>\n",
        "    </tr>\n",
        "    <tr>\n",
        "      <th>54</th>\n",
        "      <td>        </td>\n",
        "      <td> </td>\n",
        "      <td>            13</td>\n",
        "      <td>  </td>\n",
        "      <td>    </td>\n",
        "      <td>  </td>\n",
        "      <td>   575</td>\n",
        "      <td>  </td>\n",
        "      <td>   </td>\n",
        "      <td>  </td>\n",
        "      <td>    </td>\n",
        "      <td>  </td>\n",
        "      <td>  </td>\n",
        "      <td>  </td>\n",
        "      <td>  </td>\n",
        "      <td>  </td>\n",
        "      <td>  </td>\n",
        "      <td>  </td>\n",
        "      <td>  </td>\n",
        "      <td>  </td>\n",
        "      <td>...</td>\n",
        "    </tr>\n",
        "    <tr>\n",
        "      <th>55</th>\n",
        "      <td>        </td>\n",
        "      <td> </td>\n",
        "      <td>            12</td>\n",
        "      <td>  </td>\n",
        "      <td>    </td>\n",
        "      <td>  </td>\n",
        "      <td>   573</td>\n",
        "      <td>  </td>\n",
        "      <td>   </td>\n",
        "      <td>  </td>\n",
        "      <td>    </td>\n",
        "      <td>  </td>\n",
        "      <td>  </td>\n",
        "      <td>  </td>\n",
        "      <td>  </td>\n",
        "      <td>  </td>\n",
        "      <td>  </td>\n",
        "      <td>  </td>\n",
        "      <td>  </td>\n",
        "      <td>  </td>\n",
        "      <td>...</td>\n",
        "    </tr>\n",
        "    <tr>\n",
        "      <th>56</th>\n",
        "      <td>        </td>\n",
        "      <td> </td>\n",
        "      <td>            22</td>\n",
        "      <td>  </td>\n",
        "      <td>    </td>\n",
        "      <td>  </td>\n",
        "      <td>   565</td>\n",
        "      <td>  </td>\n",
        "      <td>   </td>\n",
        "      <td>  </td>\n",
        "      <td>    </td>\n",
        "      <td>  </td>\n",
        "      <td>  </td>\n",
        "      <td>  </td>\n",
        "      <td>  </td>\n",
        "      <td>  </td>\n",
        "      <td>  </td>\n",
        "      <td>  </td>\n",
        "      <td>  </td>\n",
        "      <td>  </td>\n",
        "      <td>...</td>\n",
        "    </tr>\n",
        "    <tr>\n",
        "      <th>57</th>\n",
        "      <td>        </td>\n",
        "      <td> </td>\n",
        "      <td>            15</td>\n",
        "      <td>  </td>\n",
        "      <td>    </td>\n",
        "      <td>  </td>\n",
        "      <td>   550</td>\n",
        "      <td>  </td>\n",
        "      <td>   </td>\n",
        "      <td>  </td>\n",
        "      <td>    </td>\n",
        "      <td>  </td>\n",
        "      <td>  </td>\n",
        "      <td>  </td>\n",
        "      <td>  </td>\n",
        "      <td>  </td>\n",
        "      <td>  </td>\n",
        "      <td>  </td>\n",
        "      <td>  </td>\n",
        "      <td>  </td>\n",
        "      <td>...</td>\n",
        "    </tr>\n",
        "    <tr>\n",
        "      <th>58</th>\n",
        "      <td>        </td>\n",
        "      <td> </td>\n",
        "      <td>            21</td>\n",
        "      <td>  </td>\n",
        "      <td>    </td>\n",
        "      <td>  </td>\n",
        "      <td>   532</td>\n",
        "      <td>  </td>\n",
        "      <td>   </td>\n",
        "      <td>  </td>\n",
        "      <td>    </td>\n",
        "      <td>  </td>\n",
        "      <td>  </td>\n",
        "      <td>  </td>\n",
        "      <td>  </td>\n",
        "      <td>  </td>\n",
        "      <td>  </td>\n",
        "      <td>  </td>\n",
        "      <td>  </td>\n",
        "      <td>  </td>\n",
        "      <td>...</td>\n",
        "    </tr>\n",
        "    <tr>\n",
        "      <th>59</th>\n",
        "      <td>        </td>\n",
        "      <td> </td>\n",
        "      <td>            19</td>\n",
        "      <td>  </td>\n",
        "      <td>    </td>\n",
        "      <td>  </td>\n",
        "      <td>   526</td>\n",
        "      <td>  </td>\n",
        "      <td>   </td>\n",
        "      <td>  </td>\n",
        "      <td>    </td>\n",
        "      <td>  </td>\n",
        "      <td>  </td>\n",
        "      <td>  </td>\n",
        "      <td>  </td>\n",
        "      <td>  </td>\n",
        "      <td>  </td>\n",
        "      <td>  </td>\n",
        "      <td>  </td>\n",
        "      <td>  </td>\n",
        "      <td>...</td>\n",
        "    </tr>\n",
        "    <tr>\n",
        "      <th></th>\n",
        "      <td>...</td>\n",
        "      <td>...</td>\n",
        "      <td>...</td>\n",
        "      <td>...</td>\n",
        "      <td>...</td>\n",
        "      <td>...</td>\n",
        "      <td>...</td>\n",
        "      <td>...</td>\n",
        "      <td>...</td>\n",
        "      <td>...</td>\n",
        "      <td>...</td>\n",
        "      <td>...</td>\n",
        "      <td>...</td>\n",
        "      <td>...</td>\n",
        "      <td>...</td>\n",
        "      <td>...</td>\n",
        "      <td>...</td>\n",
        "      <td>...</td>\n",
        "      <td>...</td>\n",
        "      <td>...</td>\n",
        "    </tr>\n",
        "  </tbody>\n",
        "</table>\n",
        "<p>1735 rows \u00d7 31 columns</p>\n",
        "</div>"
       ],
       "metadata": {},
       "output_type": "pyout",
       "prompt_number": 6,
       "text": [
        "    Feature val (-)        val (+) #vals (-) #vals (+) occs (-) occs (+)  \\\n",
        "0      book                                0        39        0    24181   \n",
        "1                           Psalmi                                  2678   \n",
        "2                          Genesis                                  1584   \n",
        "3                          Jeremia                                  1417   \n",
        "4                           Jesaia                                  1358   \n",
        "5                           Numeri                                  1326   \n",
        "6                         Ezechiel                                  1322   \n",
        "7                           Exodus                                  1254   \n",
        "8                              Iob                                  1113   \n",
        "9                    Deuteronomium                                   994   \n",
        "10                      Chronica_I                                   973   \n",
        "11                       Proverbia                                   947   \n",
        "12                       Leviticus                                   887   \n",
        "13                     Chronica_II                                   859   \n",
        "14                        Samuel_I                                   843   \n",
        "15                         Reges_I                                   840   \n",
        "16                        Reges_II                                   745   \n",
        "17                       Samuel_II                                   720   \n",
        "18                           Josua                                   683   \n",
        "19                         Judices                                   640   \n",
        "20                         Nehemia                                   419   \n",
        "21                          Daniel                                   370   \n",
        "22                            Esra                                   291   \n",
        "23                    Ecclesiastes                                   235   \n",
        "24                        Sacharia                                   226   \n",
        "25                           Hosea                                   212   \n",
        "26                          Esther                                   178   \n",
        "27                          Threni                                   160   \n",
        "28                            Amos                                   156   \n",
        "29                        Canticum                                   126   \n",
        "30                           Micha                                   113   \n",
        "31                            Ruth                                    90   \n",
        "32                            Joel                                    78   \n",
        "33                         Habakuk                                    60   \n",
        "34                        Maleachi                                    59   \n",
        "35                        Zephania                                    57   \n",
        "36                            Jona                                    53   \n",
        "37                           Nahum                                    51   \n",
        "38                          Haggai                                    41   \n",
        "39                          Obadia                                    23   \n",
        "40  chapter                                0       150        0    24142   \n",
        "41                               2                                   997   \n",
        "42                               1                                   936   \n",
        "43                               3                                   887   \n",
        "44                               7                                   865   \n",
        "45                               4                                   806   \n",
        "46                               6                                   743   \n",
        "47                               9                                   739   \n",
        "48                               8                                   735   \n",
        "49                               5                                   717   \n",
        "50                              10                                   678   \n",
        "51                              11                                   659   \n",
        "52                              14                                   590   \n",
        "53                              18                                   576   \n",
        "54                              13                                   575   \n",
        "55                              12                                   573   \n",
        "56                              22                                   565   \n",
        "57                              15                                   550   \n",
        "58                              21                                   532   \n",
        "59                              19                                   526   \n",
        "        ...     ...            ...       ...       ...      ...      ...   \n",
        "\n",
        "   book (-) book (+) chapter (-) chapter (+) clause (-) clause (+)  \\\n",
        "0         0       39           0         929          0          0   \n",
        "1                                                                    \n",
        "2                                                                    \n",
        "3                                                                    \n",
        "4                                                                    \n",
        "5                                                                    \n",
        "6                                                                    \n",
        "7                                                                    \n",
        "8                                                                    \n",
        "9                                                                    \n",
        "10                                                                   \n",
        "11                                                                   \n",
        "12                                                                   \n",
        "13                                                                   \n",
        "14                                                                   \n",
        "15                                                                   \n",
        "16                                                                   \n",
        "17                                                                   \n",
        "18                                                                   \n",
        "19                                                                   \n",
        "20                                                                   \n",
        "21                                                                   \n",
        "22                                                                   \n",
        "23                                                                   \n",
        "24                                                                   \n",
        "25                                                                   \n",
        "26                                                                   \n",
        "27                                                                   \n",
        "28                                                                   \n",
        "29                                                                   \n",
        "30                                                                   \n",
        "31                                                                   \n",
        "32                                                                   \n",
        "33                                                                   \n",
        "34                                                                   \n",
        "35                                                                   \n",
        "36                                                                   \n",
        "37                                                                   \n",
        "38                                                                   \n",
        "39                                                                   \n",
        "40        0        0           0         929          0          0   \n",
        "41                                                                   \n",
        "42                                                                   \n",
        "43                                                                   \n",
        "44                                                                   \n",
        "45                                                                   \n",
        "46                                                                   \n",
        "47                                                                   \n",
        "48                                                                   \n",
        "49                                                                   \n",
        "50                                                                   \n",
        "51                                                                   \n",
        "52                                                                   \n",
        "53                                                                   \n",
        "54                                                                   \n",
        "55                                                                   \n",
        "56                                                                   \n",
        "57                                                                   \n",
        "58                                                                   \n",
        "59                                                                   \n",
        "        ...      ...         ...         ...        ...        ...   \n",
        "\n",
        "   clause_atom (-) clause_atom (+) half_verse (-) half_verse (+) phrase (-)  \\\n",
        "0                0               0              0              0          0   \n",
        "1                                                                             \n",
        "2                                                                             \n",
        "3                                                                             \n",
        "4                                                                             \n",
        "5                                                                             \n",
        "6                                                                             \n",
        "7                                                                             \n",
        "8                                                                             \n",
        "9                                                                             \n",
        "10                                                                            \n",
        "11                                                                            \n",
        "12                                                                            \n",
        "13                                                                            \n",
        "14                                                                            \n",
        "15                                                                            \n",
        "16                                                                            \n",
        "17                                                                            \n",
        "18                                                                            \n",
        "19                                                                            \n",
        "20                                                                            \n",
        "21                                                                            \n",
        "22                                                                            \n",
        "23                                                                            \n",
        "24                                                                            \n",
        "25                                                                            \n",
        "26                                                                            \n",
        "27                                                                            \n",
        "28                                                                            \n",
        "29                                                                            \n",
        "30                                                                            \n",
        "31                                                                            \n",
        "32                                                                            \n",
        "33                                                                            \n",
        "34                                                                            \n",
        "35                                                                            \n",
        "36                                                                            \n",
        "37                                                                            \n",
        "38                                                                            \n",
        "39                                                                            \n",
        "40               0               0              0              0          0   \n",
        "41                                                                            \n",
        "42                                                                            \n",
        "43                                                                            \n",
        "44                                                                            \n",
        "45                                                                            \n",
        "46                                                                            \n",
        "47                                                                            \n",
        "48                                                                            \n",
        "49                                                                            \n",
        "50                                                                            \n",
        "51                                                                            \n",
        "52                                                                            \n",
        "53                                                                            \n",
        "54                                                                            \n",
        "55                                                                            \n",
        "56                                                                            \n",
        "57                                                                            \n",
        "58                                                                            \n",
        "59                                                                            \n",
        "               ...             ...            ...            ...        ...   \n",
        "\n",
        "   phrase (+) phrase_atom (-)      \n",
        "0           0               0 ...  \n",
        "1                             ...  \n",
        "2                             ...  \n",
        "3                             ...  \n",
        "4                             ...  \n",
        "5                             ...  \n",
        "6                             ...  \n",
        "7                             ...  \n",
        "8                             ...  \n",
        "9                             ...  \n",
        "10                            ...  \n",
        "11                            ...  \n",
        "12                            ...  \n",
        "13                            ...  \n",
        "14                            ...  \n",
        "15                            ...  \n",
        "16                            ...  \n",
        "17                            ...  \n",
        "18                            ...  \n",
        "19                            ...  \n",
        "20                            ...  \n",
        "21                            ...  \n",
        "22                            ...  \n",
        "23                            ...  \n",
        "24                            ...  \n",
        "25                            ...  \n",
        "26                            ...  \n",
        "27                            ...  \n",
        "28                            ...  \n",
        "29                            ...  \n",
        "30                            ...  \n",
        "31                            ...  \n",
        "32                            ...  \n",
        "33                            ...  \n",
        "34                            ...  \n",
        "35                            ...  \n",
        "36                            ...  \n",
        "37                            ...  \n",
        "38                            ...  \n",
        "39                            ...  \n",
        "40          0               0 ...  \n",
        "41                            ...  \n",
        "42                            ...  \n",
        "43                            ...  \n",
        "44                            ...  \n",
        "45                            ...  \n",
        "46                            ...  \n",
        "47                            ...  \n",
        "48                            ...  \n",
        "49                            ...  \n",
        "50                            ...  \n",
        "51                            ...  \n",
        "52                            ...  \n",
        "53                            ...  \n",
        "54                            ...  \n",
        "55                            ...  \n",
        "56                            ...  \n",
        "57                            ...  \n",
        "58                            ...  \n",
        "59                            ...  \n",
        "          ...             ...      \n",
        "\n",
        "[1735 rows x 31 columns]"
       ]
      }
     ],
     "prompt_number": 6
    },
    {
     "cell_type": "code",
     "collapsed": false,
     "input": [
      "dfe"
     ],
     "language": "python",
     "metadata": {},
     "outputs": [
      {
       "html": [
        "<div style=\"max-height:1000px;max-width:1500px;overflow:auto;\">\n",
        "<table border=\"1\" class=\"dataframe\">\n",
        "  <thead>\n",
        "    <tr style=\"text-align: right;\">\n",
        "      <th></th>\n",
        "      <th>Feature</th>\n",
        "      <th>val</th>\n",
        "      <th>#vals</th>\n",
        "      <th>occs</th>\n",
        "      <th>clause-&gt;clause</th>\n",
        "      <th>clause-&gt;phrase</th>\n",
        "      <th>clause-&gt;sentence</th>\n",
        "      <th>clause-&gt;word</th>\n",
        "      <th>clause_atom-&gt;clause</th>\n",
        "      <th>clause_atom-&gt;clause_atom</th>\n",
        "      <th>clause_atom-&gt;sentence_atom</th>\n",
        "      <th>phrase-&gt;clause</th>\n",
        "      <th>phrase-&gt;phrase</th>\n",
        "      <th>phrase-&gt;word</th>\n",
        "      <th>phrase_atom-&gt;clause_atom</th>\n",
        "      <th>phrase_atom-&gt;phrase</th>\n",
        "      <th>phrase_atom-&gt;phrase_atom</th>\n",
        "      <th>phrase_atom-&gt;word</th>\n",
        "      <th>sentence_atom-&gt;sentence</th>\n",
        "      <th>subphrase-&gt;subphrase</th>\n",
        "      <th></th>\n",
        "    </tr>\n",
        "  </thead>\n",
        "  <tbody>\n",
        "    <tr>\n",
        "      <th>0</th>\n",
        "      <td>                mother</td>\n",
        "      <td> </td>\n",
        "      <td>       1</td>\n",
        "      <td>  175902</td>\n",
        "      <td> 12014</td>\n",
        "      <td> 5136</td>\n",
        "      <td>     0</td>\n",
        "      <td> 944</td>\n",
        "      <td>     0</td>\n",
        "      <td> 89144</td>\n",
        "      <td>     0</td>\n",
        "      <td>      5</td>\n",
        "      <td> 149</td>\n",
        "      <td> 7</td>\n",
        "      <td>      0</td>\n",
        "      <td>      0</td>\n",
        "      <td> 11970</td>\n",
        "      <td> 1484</td>\n",
        "      <td>     0</td>\n",
        "      <td> 20342</td>\n",
        "      <td>...</td>\n",
        "    </tr>\n",
        "    <tr>\n",
        "      <th>1</th>\n",
        "      <td>                      </td>\n",
        "      <td> </td>\n",
        "      <td>  175902</td>\n",
        "      <td>        </td>\n",
        "      <td>      </td>\n",
        "      <td>     </td>\n",
        "      <td>      </td>\n",
        "      <td>    </td>\n",
        "      <td>      </td>\n",
        "      <td>      </td>\n",
        "      <td>      </td>\n",
        "      <td>       </td>\n",
        "      <td>    </td>\n",
        "      <td>  </td>\n",
        "      <td>       </td>\n",
        "      <td>       </td>\n",
        "      <td>      </td>\n",
        "      <td>     </td>\n",
        "      <td>      </td>\n",
        "      <td>      </td>\n",
        "      <td>...</td>\n",
        "    </tr>\n",
        "    <tr>\n",
        "      <th>2</th>\n",
        "      <td> distributional_parent</td>\n",
        "      <td> </td>\n",
        "      <td>       1</td>\n",
        "      <td>  785168</td>\n",
        "      <td>     0</td>\n",
        "      <td>    0</td>\n",
        "      <td>     0</td>\n",
        "      <td>   0</td>\n",
        "      <td>     0</td>\n",
        "      <td>     0</td>\n",
        "      <td> 90209</td>\n",
        "      <td>      0</td>\n",
        "      <td>   0</td>\n",
        "      <td> 0</td>\n",
        "      <td> 268404</td>\n",
        "      <td>      0</td>\n",
        "      <td>     0</td>\n",
        "      <td>    0</td>\n",
        "      <td>     0</td>\n",
        "      <td>     0</td>\n",
        "      <td>...</td>\n",
        "    </tr>\n",
        "    <tr>\n",
        "      <th>3</th>\n",
        "      <td>                      </td>\n",
        "      <td> </td>\n",
        "      <td>  785168</td>\n",
        "      <td>        </td>\n",
        "      <td>      </td>\n",
        "      <td>     </td>\n",
        "      <td>      </td>\n",
        "      <td>    </td>\n",
        "      <td>      </td>\n",
        "      <td>      </td>\n",
        "      <td>      </td>\n",
        "      <td>       </td>\n",
        "      <td>    </td>\n",
        "      <td>  </td>\n",
        "      <td>       </td>\n",
        "      <td>       </td>\n",
        "      <td>      </td>\n",
        "      <td>     </td>\n",
        "      <td>      </td>\n",
        "      <td>      </td>\n",
        "      <td>...</td>\n",
        "    </tr>\n",
        "    <tr>\n",
        "      <th>4</th>\n",
        "      <td>     functional_parent</td>\n",
        "      <td> </td>\n",
        "      <td>       1</td>\n",
        "      <td> 1195660</td>\n",
        "      <td>     0</td>\n",
        "      <td>    0</td>\n",
        "      <td> 88130</td>\n",
        "      <td>   0</td>\n",
        "      <td> 90209</td>\n",
        "      <td>     0</td>\n",
        "      <td>     0</td>\n",
        "      <td> 254950</td>\n",
        "      <td>   0</td>\n",
        "      <td> 0</td>\n",
        "      <td>      0</td>\n",
        "      <td> 268404</td>\n",
        "      <td>     0</td>\n",
        "      <td>    0</td>\n",
        "      <td> 67412</td>\n",
        "      <td>     0</td>\n",
        "      <td>...</td>\n",
        "    </tr>\n",
        "    <tr>\n",
        "      <th>5</th>\n",
        "      <td>                      </td>\n",
        "      <td> </td>\n",
        "      <td> 1195660</td>\n",
        "      <td>        </td>\n",
        "      <td>      </td>\n",
        "      <td>     </td>\n",
        "      <td>      </td>\n",
        "      <td>    </td>\n",
        "      <td>      </td>\n",
        "      <td>      </td>\n",
        "      <td>      </td>\n",
        "      <td>       </td>\n",
        "      <td>    </td>\n",
        "      <td>  </td>\n",
        "      <td>       </td>\n",
        "      <td>       </td>\n",
        "      <td>      </td>\n",
        "      <td>     </td>\n",
        "      <td>      </td>\n",
        "      <td>      </td>\n",
        "      <td>...</td>\n",
        "    </tr>\n",
        "  </tbody>\n",
        "</table>\n",
        "<p>6 rows \u00d7 23 columns</p>\n",
        "</div>"
       ],
       "metadata": {},
       "output_type": "pyout",
       "prompt_number": 7,
       "text": [
        "                 Feature val    #vals     occs clause->clause clause->phrase  \\\n",
        "0                 mother            1   175902          12014           5136   \n",
        "1                              175902                                          \n",
        "2  distributional_parent            1   785168              0              0   \n",
        "3                              785168                                          \n",
        "4      functional_parent            1  1195660              0              0   \n",
        "5                             1195660                                          \n",
        "\n",
        "  clause->sentence clause->word clause_atom->clause clause_atom->clause_atom  \\\n",
        "0                0          944                   0                    89144   \n",
        "1                                                                              \n",
        "2                0            0                   0                        0   \n",
        "3                                                                              \n",
        "4            88130            0               90209                        0   \n",
        "5                                                                              \n",
        "\n",
        "  clause_atom->sentence_atom phrase->clause phrase->phrase phrase->word  \\\n",
        "0                          0              5            149            7   \n",
        "1                                                                         \n",
        "2                      90209              0              0            0   \n",
        "3                                                                         \n",
        "4                          0         254950              0            0   \n",
        "5                                                                         \n",
        "\n",
        "  phrase_atom->clause_atom phrase_atom->phrase phrase_atom->phrase_atom  \\\n",
        "0                        0                   0                    11970   \n",
        "1                                                                         \n",
        "2                   268404                   0                        0   \n",
        "3                                                                         \n",
        "4                        0              268404                        0   \n",
        "5                                                                         \n",
        "\n",
        "  phrase_atom->word sentence_atom->sentence subphrase->subphrase      \n",
        "0              1484                       0                20342 ...  \n",
        "1                                                                ...  \n",
        "2                 0                       0                    0 ...  \n",
        "3                                                                ...  \n",
        "4                 0                   67412                    0 ...  \n",
        "5                                                                ...  \n",
        "\n",
        "[6 rows x 23 columns]"
       ]
      }
     ],
     "prompt_number": 7
    },
    {
     "cell_type": "code",
     "collapsed": false,
     "input": [],
     "language": "python",
     "metadata": {},
     "outputs": []
    }
   ],
   "metadata": {}
  }
 ]
}