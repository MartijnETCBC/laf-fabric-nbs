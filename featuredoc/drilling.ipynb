{
 "metadata": {
  "name": "",
  "signature": "sha256:573f03198f8c2f1b91259995f46c87a5d4deb2e29561d46804d5319c418e7192"
 },
 "nbformat": 3,
 "nbformat_minor": 0,
 "worksheets": [
  {
   "cells": [
    {
     "cell_type": "markdown",
     "metadata": {},
     "source": [
      "<a href=\"http://laf-fabric.readthedocs.org/en/latest/\" target=\"_blank\"><img align=\"left\" src=\"images/laf-fabric-xsmall.png\"/></a>\n",
      "<a href=\"http://www.godgeleerdheid.vu.nl/etcbc\" target=\"_blank\"><img align=\"left\" src=\"images/VU-ETCBC-xsmall.png\"/></a>\n",
      "<a href=\"http://www.persistent-identifier.nl/?identifier=urn%3Anbn%3Anl%3Aui%3A13-048i-71\" target=\"_blank\"><img align=\"left\"src=\"images/etcbc4easy-small.png\"/></a>\n",
      "<a href=\"http://tla.mpi.nl\" target=\"_blank\"><img align=\"right\" src=\"images/TLA-xsmall.png\"/></a>\n",
      "<a href=\"http://www.dans.knaw.nl\" target=\"_blank\"><img align=\"right\"src=\"images/DANS-xsmall.png\"/></a>"
     ]
    },
    {
     "cell_type": "heading",
     "level": 1,
     "metadata": {},
     "source": [
      "Drilling down to particular passages"
     ]
    },
    {
     "cell_type": "markdown",
     "metadata": {},
     "source": [
      "We want to drill down to the details of a particular passage."
     ]
    },
    {
     "cell_type": "heading",
     "level": 1,
     "metadata": {},
     "source": [
      "Firing up the engines"
     ]
    },
    {
     "cell_type": "code",
     "collapsed": false,
     "input": [
      "import sys\n",
      "import collections\n",
      "\n",
      "import laf\n",
      "from laf.fabric import LafFabric\n",
      "from etcbc.preprocess import prepare\n",
      "\n",
      "fabric = LafFabric()"
     ],
     "language": "python",
     "metadata": {},
     "outputs": [
      {
       "output_type": "stream",
       "stream": "stderr",
       "text": [
        "  0.00s This is LAF-Fabric 4.4.6\n",
        "API reference: http://laf-fabric.readthedocs.org/en/latest/texts/API-reference.html\n",
        "Feature doc: http://shebanq-doc.readthedocs.org/en/latest/texts/welcome.html\n",
        "\n"
       ]
      }
     ],
     "prompt_number": 1
    },
    {
     "cell_type": "code",
     "collapsed": false,
     "input": [
      "API = fabric.load('etcbc4', '--', 'drilling', {\n",
      "    \"xmlids\": {\"node\": False, \"edge\": False},\n",
      "    \"features\": ('''\n",
      "        oid otype monads\n",
      "        book chapter verse\n",
      "        g_word g_word_utf8 trailer_utf8\n",
      "        sp\n",
      "    ''','''\n",
      "    '''),\n",
      "    \"prepare\": prepare,\n",
      "}, verbose='NORMAL')\n",
      "exec(fabric.localnames.format(var='fabric'))"
     ],
     "language": "python",
     "metadata": {},
     "outputs": [
      {
       "output_type": "stream",
       "stream": "stderr",
       "text": [
        "  0.00s LOADING API: please wait ... \n"
       ]
      },
      {
       "output_type": "stream",
       "stream": "stderr",
       "text": [
        "  0.00s INFO: USING DATA COMPILED AT: 2014-07-23T09-31-37\n"
       ]
      },
      {
       "output_type": "stream",
       "stream": "stderr",
       "text": [
        "  4.68s LOGFILE=/Users/dirk/Dropbox/laf-fabric-output/etcbc4/drilling/__log__drilling.txt\n"
       ]
      },
      {
       "output_type": "stream",
       "stream": "stderr",
       "text": [
        "  5.34s INFO: DATA LOADED FROM SOURCE etcbc4 AND ANNOX -- FOR TASK drilling AT 2014-10-24T17-17-00\n"
       ]
      }
     ],
     "prompt_number": 2
    },
    {
     "cell_type": "heading",
     "level": 1,
     "metadata": {},
     "source": [
      "Passage index"
     ]
    },
    {
     "cell_type": "markdown",
     "metadata": {},
     "source": [
      "When we have found our objects, we want to indicate where they occur in the bible. In order to specify the passage of a node, we have to now in what verse a node occurs. In the next code cell we create a mapping from nodes of type sentence, clause, etc to nodes of type verse. From a verse node we can read off the passage information.\n",
      "\n",
      "Conversely, we also construct an index from verses to nodes: given a verse, we make a list of all nodes belonging to that verse, in the canonical order."
     ]
    },
    {
     "cell_type": "code",
     "collapsed": false,
     "input": [
      "msg(\"Making passage index ...\")\n",
      "target_types = {\n",
      "    'sentence', 'sentence_atom', \n",
      "    'clause', 'clause_atom', \n",
      "    'phrase', 'phrase_atom', \n",
      "    'subphrase', 'word', 'half_verse',\n",
      "}\n",
      "cur_verse = None\n",
      "node_verse = {}\n",
      "verse_node = collections.defaultdict(lambda: [])\n",
      "passage_verse = {}\n",
      "for n in NN():\n",
      "    otype = F.otype.v(n)\n",
      "    if otype == 'verse':\n",
      "        cur_verse = n\n",
      "        passage_verse[(F.book.v(n), int(F.chapter.v(n)), int(F.verse.v(n)))] = n\n",
      "    elif otype in target_types: \n",
      "        node_verse[n] = cur_verse\n",
      "        verse_node[cur_verse].append(n)\n",
      "msg(\"Passage index created for {} nodes\".format(len(node_verse)))"
     ],
     "language": "python",
     "metadata": {},
     "outputs": [
      {
       "output_type": "stream",
       "stream": "stderr",
       "text": [
        "    14s Making passage index ...\n"
       ]
      },
      {
       "output_type": "stream",
       "stream": "stderr",
       "text": [
        "    18s Passage index created for 1416963 nodes\n"
       ]
      }
     ],
     "prompt_number": 3
    },
    {
     "cell_type": "heading",
     "level": 1,
     "metadata": {},
     "source": [
      "Look up the objects"
     ]
    },
    {
     "cell_type": "markdown",
     "metadata": {},
     "source": [
      "We want to find the objects corresponding to a given passage, and we also want to display the words and their par-of-speech."
     ]
    },
    {
     "cell_type": "code",
     "collapsed": false,
     "input": [
      "passage = ('Genesis', 1, 29)\n",
      "verse = passage_verse[passage]\n",
      "objects = verse_node[verse]\n",
      "print (\"{} {}: {}\".format(*passage))\n",
      "for ob in objects:\n",
      "    otype = F.otype.v(ob)\n",
      "    sp = F.sp.v(ob) if otype == 'word' else ''\n",
      "    rep = F.g_word.v(ob) if otype == 'word' else ''\n",
      "    print(\"{:<20} {:<5} {}\".format(otype, sp, rep))"
     ],
     "language": "python",
     "metadata": {},
     "outputs": [
      {
       "output_type": "stream",
       "stream": "stdout",
       "text": [
        "Genesis 1: 29\n",
        "half_verse                 \n",
        "sentence                   \n",
        "sentence_atom              \n",
        "clause                     \n",
        "clause_atom                \n",
        "phrase                     \n",
        "phrase_atom                \n",
        "word                 conj  WA-\n",
        "phrase                     \n",
        "phrase_atom                \n",
        "word                 verb  J.O74>MER\n",
        "phrase                     \n",
        "phrase_atom                \n",
        "word                 subs  >:ELOHI81JM\n",
        "sentence                   \n",
        "sentence_atom              \n",
        "clause                     \n",
        "clause_atom                \n",
        "phrase                     \n",
        "phrase_atom                \n",
        "word                 intj  HIN.;H04\n",
        "phrase                     \n",
        "phrase_atom                \n",
        "word                 verb  N@TA63T.IJ\n",
        "phrase                     \n",
        "phrase_atom                \n",
        "word                 prep  L@KE61M\n",
        "phrase                     \n",
        "phrase_atom                \n",
        "word                 prep  >ET&\n",
        "subphrase                  \n",
        "word                 subs  K.@L&\n",
        "subphrase                  \n",
        "word                 subs  <;74FEB05\n",
        "clause                     \n",
        "clause_atom                \n",
        "phrase                     \n",
        "phrase_atom                \n",
        "word                 verb  ZOR;74<A\n",
        "phrase                     \n",
        "phrase_atom                \n",
        "word                 subs  ZE81RA<\n",
        "clause                     \n",
        "clause_atom                \n",
        "phrase                     \n",
        "phrase_atom                \n",
        "word                 conj  >:ACER03\n",
        "phrase                     \n",
        "phrase_atom                \n",
        "word                 prep  <AL&\n",
        "subphrase                  \n",
        "word                 subs  P.:N;74J\n",
        "subphrase                  \n",
        "subphrase                  \n",
        "word                 subs  K@L&\n",
        "subphrase                  \n",
        "word                 art   H@-\n",
        "word                 subs  >@80REY\n",
        "clause_atom                \n",
        "phrase_atom                \n",
        "word                 conj  W:-\n",
        "phrase_atom                \n",
        "word                 prep  >ET&\n",
        "subphrase                  \n",
        "word                 subs  K.@L&\n",
        "subphrase                  \n",
        "word                 art   H@-\n",
        "word                 subs  <;91Y\n",
        "clause                     \n",
        "clause_atom                \n",
        "phrase                     \n",
        "phrase_atom                \n",
        "word                 conj  >:ACER&\n",
        "phrase                     \n",
        "phrase_atom                \n",
        "word                 prep  B.O71W\n",
        "phrase                     \n",
        "phrase_atom                \n",
        "subphrase                  \n",
        "word                 subs  P:RIJ&\n",
        "subphrase                  \n",
        "word                 subs  <;73Y\n",
        "clause                     \n",
        "clause_atom                \n",
        "phrase                     \n",
        "phrase_atom                \n",
        "word                 verb  ZOR;74<A\n",
        "phrase                     \n",
        "phrase_atom                \n",
        "word                 subs  Z@92RA<\n",
        "half_verse                 \n",
        "sentence                   \n",
        "sentence_atom              \n",
        "clause                     \n",
        "clause_atom                \n",
        "phrase                     \n",
        "phrase_atom                \n",
        "word                 prep  L@KE71M\n",
        "phrase                     \n",
        "phrase_atom                \n",
        "word                 verb  JI75H:JE73H\n",
        "phrase                     \n",
        "phrase_atom                \n",
        "word                 prep  L:-\n",
        "word                 subs  >@K:L@75H00\n"
       ]
      }
     ],
     "prompt_number": 4
    },
    {
     "cell_type": "heading",
     "level": 1,
     "metadata": {},
     "source": [
      "Print the results"
     ]
    },
    {
     "cell_type": "code",
     "collapsed": false,
     "input": [
      "text = ''.join('{}{}'.format(F.g_word_utf8.v(n), F.trailer_utf8.v(n)) for n in (words[mon] for mon in monad_list))\n",
      "print(text)\n",
      "for n in lookedup:\n",
      "    otype = F.otype.v(n)\n",
      "    rela = 'is' if otype == 'verse' else 'in' if otype in target_types else ''\n",
      "    ref_verse = n if otype == 'verse' else node_verse[n] if otype in target_types else None\n",
      "    if ref_verse != None:\n",
      "        passage = '{} {}:{}'.format(F.book.v(ref_verse), F.chapter.v(ref_verse), F.verse.v(ref_verse))\n",
      "    elif otype == 'book':\n",
      "        passage = '{}'.format(F.book.v(n))\n",
      "    elif otype == 'chapter':\n",
      "        passage = '{}'.format(F.chapter.v(n))    \n",
      "    print(\"{:<15} {:<2} {:<16} (node {})\".format(otype, rela, passage, n))"
     ],
     "language": "python",
     "metadata": {},
     "outputs": [
      {
       "output_type": "stream",
       "stream": "stdout",
       "text": [
        "\u05d6\u05b4\u05a5\u05d9\u05e3 \u05d5\u05b8\u05d8\u05b6\u0596\u05dc\u05b6\u05dd \u05d5\u05bc\u05d1\u05b0\u05e2\u05b8\u05dc\u05b9\u05bd\u05d5\u05ea\u05c3\n",
        "\n",
        "verse           is Josua 15:24      (node 1424158)\n",
        "half_verse      in Josua 15:24      (node 1385296)\n",
        "sentence        in Josua 15:24      (node 1143442)\n",
        "sentence_atom   in Josua 15:24      (node 1209643)\n",
        "clause          in Josua 15:24      (node 449142)\n",
        "clause_atom     in Josua 15:24      (node 537878)\n",
        "phrase          in Josua 15:24      (node 673702)\n",
        "phrase_atom     in Josua 15:24      (node 932213)\n"
       ]
      }
     ],
     "prompt_number": 28
    },
    {
     "cell_type": "code",
     "collapsed": false,
     "input": [],
     "language": "python",
     "metadata": {},
     "outputs": []
    }
   ],
   "metadata": {}
  }
 ]
}