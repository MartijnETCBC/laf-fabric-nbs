{
 "metadata": {
  "name": "",
  "signature": "sha256:2a23e30a61578ae12fe1ae3ecce3cf78cdbbdaf366d25cdb215f442c6ca0409d"
 },
 "nbformat": 3,
 "nbformat_minor": 0,
 "worksheets": [
  {
   "cells": [
    {
     "cell_type": "markdown",
     "metadata": {},
     "source": [
      "<a href=\"http://laf-fabric.readthedocs.org/en/latest/\" target=\"_blank\"><img align=\"left\" src=\"images/laf-fabric-xsmall.png\"/></a>\n",
      "<a href=\"http://www.godgeleerdheid.vu.nl/etcbc\" target=\"_blank\"><img align=\"left\" src=\"images/VU-ETCBC-xsmall.png\"/></a>\n",
      "<a href=\"http://www.persistent-identifier.nl/?identifier=urn%3Anbn%3Anl%3Aui%3A13-048i-71\" target=\"_blank\"><img align=\"left\"src=\"images/etcbc4easy-small.png\"/></a>\n",
      "<a href=\"http://tla.mpi.nl\" target=\"_blank\"><img align=\"right\" src=\"images/TLA-xsmall.png\"/></a>\n",
      "<a href=\"http://www.dans.knaw.nl\" target=\"_blank\"><img align=\"right\"src=\"images/DANS-xsmall.png\"/></a>"
     ]
    },
    {
     "cell_type": "heading",
     "level": 1,
     "metadata": {},
     "source": [
      "A monad set that corresponds to 8 different objects"
     ]
    },
    {
     "cell_type": "markdown",
     "metadata": {},
     "source": [
      "The [file with values for the feature monads](http://shebanq-doc.readthedocs.org/en/latest/features/node%20monads.html) reveals that there are monad sets that correspond to 8 different objects.\n",
      "\n",
      "In this notebook we just explore one such a monad set and the objects associated with it.\n",
      "\n",
      "Consider this as an exercise in deep drilling into the data."
     ]
    },
    {
     "cell_type": "heading",
     "level": 1,
     "metadata": {},
     "source": [
      "Firing up the engines"
     ]
    },
    {
     "cell_type": "code",
     "collapsed": false,
     "input": [
      "import sys\n",
      "import collections\n",
      "\n",
      "import laf\n",
      "from laf.fabric import LafFabric\n",
      "from etcbc.preprocess import prepare\n",
      "\n",
      "fabric = LafFabric()"
     ],
     "language": "python",
     "metadata": {},
     "outputs": [
      {
       "output_type": "stream",
       "stream": "stderr",
       "text": [
        "  0.00s This is LAF-Fabric 4.4.2\n",
        "http://laf-fabric.readthedocs.org/en/latest/texts/API-reference.html\n"
       ]
      }
     ],
     "prompt_number": 1
    },
    {
     "cell_type": "code",
     "collapsed": false,
     "input": [
      "API = fabric.load('etcbc4', '--', 'clausecomplements', {\n",
      "    \"xmlids\": {\"node\": False, \"edge\": False},\n",
      "    \"features\": ('''\n",
      "        oid otype monads\n",
      "        book chapter verse\n",
      "        g_word_utf8 trailer_utf8\n",
      "    ''','''\n",
      "    '''),\n",
      "    \"prepare\": prepare,\n",
      "}, verbose='NORMAL')\n",
      "exec(fabric.localnames.format(var='fabric'))"
     ],
     "language": "python",
     "metadata": {},
     "outputs": [
      {
       "output_type": "stream",
       "stream": "stderr",
       "text": [
        "  0.00s LOADING API: please wait ... \n"
       ]
      },
      {
       "output_type": "stream",
       "stream": "stderr",
       "text": [
        "  0.00s INFO: USING DATA COMPILED AT: 2014-07-23T09-31-37\n"
       ]
      },
      {
       "output_type": "stream",
       "stream": "stderr",
       "text": [
        "  1.54s INFO: DATA LOADED FROM SOURCE etcbc4 AND ANNOX -- FOR TASK clausecomplements AT 2014-09-23T07-05-28\n"
       ]
      }
     ],
     "prompt_number": 22
    },
    {
     "cell_type": "heading",
     "level": 1,
     "metadata": {},
     "source": [
      "Passage index"
     ]
    },
    {
     "cell_type": "markdown",
     "metadata": {},
     "source": [
      "When we have found our objects, we want to indicate where they occur in the bible. In order to specify the passage of a node, we have to now in what verse a node occurs. In the next code cell we create a mapping from nodes of type sentence, clause, etc to nodes of type verse. From a verse node we can read off the passage information."
     ]
    },
    {
     "cell_type": "code",
     "collapsed": false,
     "input": [
      "msg(\"Making passage index ...\")\n",
      "target_types = {\n",
      "    'sentence', 'sentence_atom', \n",
      "    'clause', 'clause_atom', \n",
      "    'phrase', 'phrase_atom', \n",
      "    'subphrase', 'word', 'half_verse',\n",
      "}\n",
      "cur_verse = None\n",
      "node_verse = {}\n",
      "for n in NN():\n",
      "    otype = F.otype.v(n)\n",
      "    if otype == 'verse': cur_verse = n\n",
      "    elif otype in target_types: node_verse[n] = cur_verse\n",
      "msg(\"Passage index created for {} nodes\".format(len(node_verse)))"
     ],
     "language": "python",
     "metadata": {},
     "outputs": [
      {
       "output_type": "stream",
       "stream": "stderr",
       "text": [
        "  3.55s Making passage index ...\n"
       ]
      },
      {
       "output_type": "stream",
       "stream": "stderr",
       "text": [
        "  5.72s Passage index created for 1416963 nodes\n"
       ]
      }
     ],
     "prompt_number": 23
    },
    {
     "cell_type": "heading",
     "level": 1,
     "metadata": {},
     "source": [
      "Look up the objects"
     ]
    },
    {
     "cell_type": "markdown",
     "metadata": {},
     "source": [
      "We want to find the objects corresponding to a given monad set, and we also want to find all words in that monad set."
     ]
    },
    {
     "cell_type": "code",
     "collapsed": false,
     "input": [
      "lookup = '121842-121846'\n",
      "monads = tuple(int(x) for x in lookup.split('-'))\n",
      "monad_list = [str(x) for x in range(monads[0], monads[1] + 1)]\n",
      "monad_set = set(monad_list)\n",
      "lookedup = []\n",
      "words = {}\n",
      "for n in NN():\n",
      "    mon = F.monads.v(n)\n",
      "    if mon == lookup:\n",
      "        lookedup.append(n)\n",
      "    if mon in monad_set:\n",
      "        words[mon] = n\n"
     ],
     "language": "python",
     "metadata": {},
     "outputs": [],
     "prompt_number": 26
    },
    {
     "cell_type": "heading",
     "level": 1,
     "metadata": {},
     "source": [
      "Print the results"
     ]
    },
    {
     "cell_type": "code",
     "collapsed": false,
     "input": [
      "text = ''.join('{}{}'.format(F.g_word_utf8.v(n), F.trailer_utf8.v(n)) for n in (words[mon] for mon in monad_list))\n",
      "print(text)\n",
      "for n in lookedup:\n",
      "    otype = F.otype.v(n)\n",
      "    rela = 'is' if otype == 'verse' else 'in' if otype in target_types else ''\n",
      "    ref_verse = n if otype == 'verse' else node_verse[n] if otype in target_types else None\n",
      "    if ref_verse != None:\n",
      "        passage = '{} {}:{}'.format(F.book.v(ref_verse), F.chapter.v(ref_verse), F.verse.v(ref_verse))\n",
      "    elif otype == 'book':\n",
      "        passage = '{}'.format(F.book.v(n))\n",
      "    elif otype == 'chapter':\n",
      "        passage = '{}'.format(F.chapter.v(n))    \n",
      "    print(\"{:<15} {:<2} {:<16} (node {})\".format(otype, rela, passage, n))"
     ],
     "language": "python",
     "metadata": {},
     "outputs": [
      {
       "output_type": "stream",
       "stream": "stdout",
       "text": [
        "\u05d6\u05b4\u05a5\u05d9\u05e3 \u05d5\u05b8\u05d8\u05b6\u0596\u05dc\u05b6\u05dd \u05d5\u05bc\u05d1\u05b0\u05e2\u05b8\u05dc\u05b9\u05bd\u05d5\u05ea\u05c3\n",
        "\n",
        "verse           is Josua 15:24      (node 1424158)\n",
        "half_verse      in Josua 15:24      (node 1385296)\n",
        "sentence        in Josua 15:24      (node 1143442)\n",
        "sentence_atom   in Josua 15:24      (node 1209643)\n",
        "clause          in Josua 15:24      (node 449142)\n",
        "clause_atom     in Josua 15:24      (node 537878)\n",
        "phrase          in Josua 15:24      (node 673702)\n",
        "phrase_atom     in Josua 15:24      (node 932213)\n"
       ]
      }
     ],
     "prompt_number": 28
    },
    {
     "cell_type": "code",
     "collapsed": false,
     "input": [],
     "language": "python",
     "metadata": {},
     "outputs": []
    }
   ],
   "metadata": {}
  }
 ]
}