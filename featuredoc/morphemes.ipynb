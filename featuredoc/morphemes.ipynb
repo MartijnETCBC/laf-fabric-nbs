{
 "metadata": {
  "name": "",
  "signature": "sha256:893e86bf5bb4e0d25afb2cebf6251f921f532638e613890e5f80e48d41fe0e07"
 },
 "nbformat": 3,
 "nbformat_minor": 0,
 "worksheets": [
  {
   "cells": [
    {
     "cell_type": "markdown",
     "metadata": {},
     "source": [
      "<a href=\"http://laf-fabric.readthedocs.org/en/latest/\" target=\"_blank\"><img align=\"left\" src=\"images/laf-fabric-xsmall.png\"/></a>\n",
      "<a href=\"http://www.godgeleerdheid.vu.nl/etcbc\" target=\"_blank\"><img align=\"left\" src=\"images/VU-ETCBC-xsmall.png\"/></a>\n",
      "<a href=\"http://www.persistent-identifier.nl/?identifier=urn%3Anbn%3Anl%3Aui%3A13-048i-71\" target=\"_blank\"><img align=\"left\"src=\"images/etcbc4easy-small.png\"/></a>\n",
      "<a href=\"http://tla.mpi.nl\" target=\"_blank\"><img align=\"right\" src=\"images/TLA-xsmall.png\"/></a>\n",
      "<a href=\"http://www.dans.knaw.nl\" target=\"_blank\"><img align=\"right\"src=\"images/DANS-xsmall.png\"/></a>"
     ]
    },
    {
     "cell_type": "heading",
     "level": 1,
     "metadata": {},
     "source": [
      "Morpheme features: paradigmatic and graphical"
     ]
    },
    {
     "cell_type": "markdown",
     "metadata": {},
     "source": [
      "In the ETCBC database is a bunch of features that store sub-word morphemes in various forms: *paradigmatic*, *graphical*, and the latter one both in transcription and in UNICODE Hebrew characters.\n",
      "\n",
      "These features are listed, and the difference between paradigmatic and graphical are explained in the [SHEBANQ feature documentation](http://shebanq-doc.readthedocs.org/en/latest/features/comments/0_graphical.html).\n",
      "\n",
      "Here we want to generate an overview of the possible paradigmatic and associated graphical values that these features can have."
     ]
    },
    {
     "cell_type": "heading",
     "level": 1,
     "metadata": {},
     "source": [
      "Firing up the engines"
     ]
    },
    {
     "cell_type": "code",
     "collapsed": false,
     "input": [
      "import sys\n",
      "import collections\n",
      "\n",
      "import laf\n",
      "from laf.fabric import LafFabric\n",
      "from etcbc.preprocess import prepare\n",
      "\n",
      "fabric = LafFabric()"
     ],
     "language": "python",
     "metadata": {},
     "outputs": [
      {
       "output_type": "stream",
       "stream": "stderr",
       "text": [
        "  0.00s This is LAF-Fabric 4.4.6\n",
        "API reference: http://laf-fabric.readthedocs.org/en/latest/texts/API-reference.html\n",
        "Feature doc: http://shebanq-doc.readthedocs.org/en/latest/texts/welcome.html\n",
        "\n"
       ]
      }
     ],
     "prompt_number": 2
    },
    {
     "cell_type": "code",
     "collapsed": false,
     "input": [
      "API = fabric.load('etcbc4', '--', 'morphemes', {\n",
      "    \"xmlids\": {\"node\": False, \"edge\": False},\n",
      "    \"features\": ('''\n",
      "        otype\n",
      "        nme g_nme pfm g_pfm prs g_prs uvf g_uvf vbe g_vbe vbs g_vbs\n",
      "    ''','''\n",
      "    '''),\n",
      "    \"prepare\": prepare,\n",
      "}, verbose='NORMAL')\n",
      "exec(fabric.localnames.format(var='fabric'))"
     ],
     "language": "python",
     "metadata": {},
     "outputs": [
      {
       "output_type": "stream",
       "stream": "stderr",
       "text": [
        "  0.00s LOADING API: please wait ... \n"
       ]
      },
      {
       "output_type": "stream",
       "stream": "stderr",
       "text": [
        "  0.00s INFO: USING DATA COMPILED AT: 2014-07-23T09-31-37\n"
       ]
      },
      {
       "output_type": "stream",
       "stream": "stderr",
       "text": [
        "  3.74s INFO: DATA LOADED FROM SOURCE etcbc4 AND ANNOX -- FOR TASK morphemes AT 2015-01-14T08-13-25\n"
       ]
      }
     ],
     "prompt_number": 10
    },
    {
     "cell_type": "markdown",
     "metadata": {},
     "source": [
      "# Collecting the values\n",
      "\n",
      "We walk through all the words, collect the values for the paradigmatic and graphical features,\n",
      "and store them in dictionaries that link the graphical values to their paradigmatic counterparts.\n",
      "We also maintain counts of both kinds of values.\n",
      "\n",
      "**NB:** We will represent empty values as ``[empty]``."
     ]
    },
    {
     "cell_type": "code",
     "collapsed": false,
     "input": [
      "values = collections.defaultdict(lambda: collections.defaultdict(lambda: dict(n=0, realized=collections.defaultdict(lambda:0))))\n",
      "\n",
      "for n in NN():\n",
      "    if F.otype.v(n) != 'word': continue\n",
      "    for name in ('nme', 'pfm', 'prs', 'uvf', 'vbe', 'vbs'):\n",
      "        paraf = name\n",
      "        grapf = 'g_'+name\n",
      "        pval = F.item[paraf].v(n)\n",
      "        gval = F.item[grapf].v(n)\n",
      "        values[name][pval]['n'] += 1\n",
      "        values[name][pval]['realized'][gval] += 1"
     ],
     "language": "python",
     "metadata": {},
     "outputs": [],
     "prompt_number": 11
    },
    {
     "cell_type": "markdown",
     "metadata": {},
     "source": [
      "# Print the values\n",
      "\n",
      "We print the resulting statistics."
     ]
    },
    {
     "cell_type": "code",
     "collapsed": false,
     "input": [
      "for name in sorted(values):\n",
      "    valf = outfile('{} values.txt'.format(name))\n",
      "    pvals = values[name]\n",
      "    for pval in sorted(pvals, key=lambda x: (-pvals[x]['n'], x)):\n",
      "        pvalrep = '[empty]' if pval == '' else pval\n",
      "        valf.write('{} ({}x)\\n'.format(pvalrep, pvals[pval]['n']))\n",
      "        rvals = pvals[pval]['realized']\n",
      "        for rval in sorted(rvals, key=lambda x: (-rvals[x], x)):\n",
      "            rvalrep = '[empty]' if rval == '' else rval\n",
      "            valf.write('\\t{} ({}x)\\n'.format(rvalrep, rvals[rval]))\n",
      "    valf.close()"
     ],
     "language": "python",
     "metadata": {},
     "outputs": [],
     "prompt_number": 15
    },
    {
     "cell_type": "code",
     "collapsed": false,
     "input": [],
     "language": "python",
     "metadata": {},
     "outputs": []
    }
   ],
   "metadata": {}
  }
 ]
}