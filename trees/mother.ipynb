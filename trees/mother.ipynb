{
 "metadata": {
  "name": "",
  "signature": "sha256:7312f70633c185e5d753614f61c71f61ca9bae5e834d81554da78a262a57de20"
 },
 "nbformat": 3,
 "nbformat_minor": 0,
 "worksheets": [
  {
   "cells": [
    {
     "cell_type": "markdown",
     "metadata": {},
     "source": [
      "<a href=\"http://www.godgeleerdheid.vu.nl/etcbc\" target=\"_blank\"><img align=\"left\" src=\"images/VU-ETCBC-xsmall.png\"/></a>\n",
      "<a href=\"http://laf-fabric.readthedocs.org/en/latest/\" target=\"_blank\"><img align=\"left\" src=\"images/laf-fabric-xsmall.png\"/></a>\n",
      "<a href=\"http://www.persistent-identifier.nl/?identifier=urn%3Anbn%3Anl%3Aui%3A13-048i-71\" target=\"_blank\"><img align=\"right\" src=\"images/etcbc4easy-small.png\"/></a>"
     ]
    },
    {
     "cell_type": "heading",
     "level": 1,
     "metadata": {},
     "source": [
      "Mother"
     ]
    },
    {
     "cell_type": "markdown",
     "metadata": {},
     "source": [
      "This notebook explores some characteristics of the *mother* relationship in the ETCBC4 database.\n",
      "\n",
      "The *mother* relationships holds between linguistic elements, where one (the *daughter*) is somehow dependent on the other (the *mother*).\n",
      "\n",
      "We have a few questions, and we use some simple scripts to answer them."
     ]
    },
    {
     "cell_type": "code",
     "collapsed": false,
     "input": [
      "import sys\n",
      "import collections\n",
      "\n",
      "import laf\n",
      "from laf.fabric import LafFabric\n",
      "from etcbc.preprocess import prepare\n",
      "\n",
      "fabric = LafFabric()"
     ],
     "language": "python",
     "metadata": {},
     "outputs": [
      {
       "output_type": "stream",
       "stream": "stderr",
       "text": [
        "  0.00s This is LAF-Fabric 4.4.3\n",
        "API reference: http://laf-fabric.readthedocs.org/en/latest/texts/API-reference.html\n",
        "Feature doc: http://shebanq-doc.readthedocs.org/en/latest/texts/welcome.html\n",
        "\n"
       ]
      }
     ],
     "prompt_number": 1
    },
    {
     "cell_type": "code",
     "collapsed": false,
     "input": [
      "API = fabric.load('etcbc4', '--', 'mother', {\n",
      "    \"xmlids\": {\"node\": False, \"edge\": False},\n",
      "    \"features\": ('''\n",
      "        oid otype\n",
      "        sp\n",
      "    ''','''\n",
      "        mother\n",
      "    '''),\n",
      "    \"prepare\": prepare,\n",
      "}, verbose='NORMAL')\n",
      "exec(fabric.localnames.format(var='fabric'))"
     ],
     "language": "python",
     "metadata": {},
     "outputs": [
      {
       "output_type": "stream",
       "stream": "stderr",
       "text": [
        "  0.00s LOADING API: please wait ... \n"
       ]
      },
      {
       "output_type": "stream",
       "stream": "stderr",
       "text": [
        "  0.00s INFO: USING DATA COMPILED AT: 2014-07-23T09-31-37\n"
       ]
      },
      {
       "output_type": "stream",
       "stream": "stderr",
       "text": [
        "  2.81s LOGFILE=/Users/dirk/laf-fabric-output/etcbc4/mother/__log__mother.txt\n"
       ]
      },
      {
       "output_type": "stream",
       "stream": "stderr",
       "text": [
        "  3.50s INFO: DATA LOADED FROM SOURCE etcbc4 AND ANNOX -- FOR TASK mother AT 2014-09-29T08-41-59\n"
       ]
      }
     ],
     "prompt_number": 2
    },
    {
     "cell_type": "markdown",
     "metadata": {},
     "source": [
      "# 1. Domain and codomain of mother\n",
      "\n",
      "We want to know what types of objects are mother, and what type of objects are daughter."
     ]
    },
    {
     "cell_type": "code",
     "collapsed": false,
     "input": [
      "mothers = set()\n",
      "daughters = daughters = set()\n",
      "for daughter in NN():\n",
      "    for mother in C.mother.v(daughter):\n",
      "        mothers.add(mother)\n",
      "        daughters.add(daughter)\n",
      "\n",
      "sys.stderr.write(\"Mothers: {}\\nDaughters{}\\n\\n\".format(len(mothers), len(daughters)))\n",
      "\n",
      "nmothers = collections.Counter([F.otype.v(x) for x in mothers])\n",
      "ndaughters = collections.Counter([F.otype.v(x) for x in daughters])\n",
      "\n",
      "for x in sorted(nmothers):\n",
      "    print(\"Mothers   of type {:<20}: {:>5}x\".format(x, nmothers[x]))\n",
      "for x in sorted(ndaughters):\n",
      "    print(\"Daughters of type {:<20}: {:>5}x\".format(x, ndaughters[x]))"
     ],
     "language": "python",
     "metadata": {},
     "outputs": [
      {
       "output_type": "stream",
       "stream": "stdout",
       "text": [
        "Mothers   of type clause              : 11684x\n",
        "Mothers   of type clause_atom         : 58002x\n",
        "Mothers   of type phrase              :  5164x\n",
        "Mothers   of type phrase_atom         :  9594x\n",
        "Mothers   of type subphrase           : 20556x\n",
        "Mothers   of type word                : 37008x\n",
        "Daughters of type clause              : 18580x\n",
        "Daughters of type clause_atom         : 89079x\n",
        "Daughters of type phrase              :   207x\n",
        "Daughters of type phrase_atom         : 13301x\n",
        "Daughters of type subphrase           : 55244x\n"
       ]
      },
      {
       "output_type": "stream",
       "stream": "stderr",
       "text": [
        "Mothers: 142008\n",
        "Daughters176411\n",
        "\n"
       ]
      }
     ],
     "prompt_number": 14
    },
    {
     "cell_type": "markdown",
     "metadata": {},
     "source": [
      "# 2. Frequency of mother relation per domain-codomain\n",
      "\n",
      "We want to know how many edges there are for each domain-codomain pair."
     ]
    },
    {
     "cell_type": "code",
     "collapsed": false,
     "input": [
      "pair_types = []\n",
      "for daughter in NN():\n",
      "    for mother in C.mother.v(daughter):\n",
      "        pair_types.append((F.otype.v(daughter), F.otype.v(mother)))\n",
      "npair_types = collections.Counter(pair_types)\n",
      "\n",
      "for x in sorted(npair_types):\n",
      "    print(\"daughter = {:<20} and mother = {:<20}: {:>5}x\".format(x[0], x[1], npair_types[x]))"
     ],
     "language": "python",
     "metadata": {},
     "outputs": [
      {
       "output_type": "stream",
       "stream": "stdout",
       "text": [
        "daughter = clause               and mother = clause              : 12462x\n",
        "daughter = clause               and mother = phrase              :  5167x\n",
        "daughter = clause               and mother = word                :   951x\n",
        "daughter = clause_atom          and mother = clause_atom         : 89079x\n",
        "daughter = phrase               and mother = clause              :     5x\n",
        "daughter = phrase               and mother = phrase              :   195x\n",
        "daughter = phrase               and mother = word                :     7x\n",
        "daughter = phrase_atom          and mother = phrase_atom         : 11717x\n",
        "daughter = phrase_atom          and mother = word                :  1584x\n",
        "daughter = subphrase            and mother = subphrase           : 20556x\n",
        "daughter = subphrase            and mother = word                : 34688x\n"
       ]
      }
     ],
     "prompt_number": 17
    },
    {
     "cell_type": "code",
     "collapsed": false,
     "input": [],
     "language": "python",
     "metadata": {},
     "outputs": []
    }
   ],
   "metadata": {}
  }
 ]
}