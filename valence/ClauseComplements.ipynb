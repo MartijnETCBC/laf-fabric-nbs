{
 "metadata": {
  "name": "",
  "signature": "sha256:7e67edf74a89abeb21899c5e86ed04ea9b7f11b0bb26d569fec2bf6eacf9b0e4"
 },
 "nbformat": 3,
 "nbformat_minor": 0,
 "worksheets": [
  {
   "cells": [
    {
     "cell_type": "markdown",
     "metadata": {},
     "source": [
      "<a href=\"http://www.godgeleerdheid.vu.nl/etcbc\" target=\"_blank\"><img align=\"left\" src=\"images/VU-ETCBC-xsmall.png\"/></a>\n",
      "<a href=\"http://laf-fabric.readthedocs.org/en/latest/\" target=\"_blank\"><img align=\"right\" src=\"images/laf-fabric-xsmall.png\"/></a>\n",
      "<a href=\"http://www.persistent-identifier.nl/?identifier=urn%3Anbn%3Anl%3Aui%3A13-048i-71\" target=\"_blank\"><img align=\"right\"src=\"images/etcbc4easy-small.png\"/></a>"
     ]
    },
    {
     "cell_type": "heading",
     "level": 1,
     "metadata": {},
     "source": [
      "Complement Collection"
     ]
    },
    {
     "cell_type": "markdown",
     "metadata": {},
     "source": [
      "This notebook collects the complements to the verb in each clause.\n",
      "\n",
      "The purpose is to create a spreadsheet in which each row corresponds to a clause.\n",
      "The first column is filled with the lexeme of the verb phrase of the clause, the next columns correspond to the various complements of the verb phrase in that clause."
     ]
    },
    {
     "cell_type": "code",
     "collapsed": false,
     "input": [
      "import sys\n",
      "import collections\n",
      "\n",
      "import laf\n",
      "from laf.fabric import LafFabric\n",
      "from etcbc.preprocess import prepare\n",
      "from etcbc.lib import Transcription, monad_set\n",
      "from etcbc.trees import Tree\n",
      "\n",
      "fabric = LafFabric()\n",
      "tr = Transcription()"
     ],
     "language": "python",
     "metadata": {},
     "outputs": [
      {
       "output_type": "stream",
       "stream": "stderr",
       "text": [
        "  0.00s This is LAF-Fabric 4.4.1\n",
        "http://laf-fabric.readthedocs.org/en/latest/texts/API-reference.html\n"
       ]
      },
      {
       "output_type": "stream",
       "stream": "stderr",
       "text": [
        " 2m 26s END\n"
       ]
      }
     ],
     "prompt_number": 2
    },
    {
     "cell_type": "code",
     "collapsed": false,
     "input": [
      "API = fabric.load('etcbc4', '--', 'clausecomplements', {\n",
      "    \"xmlids\": {\"node\": False, \"edge\": False},\n",
      "    \"features\": ('''\n",
      "        oid otype monads\n",
      "        book chapter verse\n",
      "        sp lex function g_word\n",
      "    ''','''\n",
      "    '''),\n",
      "    \"prepare\": prepare,\n",
      "    \"primary\": True,\n",
      "}, verbose='NORMAL')\n",
      "exec(fabric.localnames.format(var='fabric'))"
     ],
     "language": "python",
     "metadata": {},
     "outputs": [
      {
       "output_type": "stream",
       "stream": "stderr",
       "text": [
        "  0.00s LOADING API: please wait ... \n"
       ]
      },
      {
       "output_type": "stream",
       "stream": "stderr",
       "text": [
        "  0.75s INFO: USING DATA COMPILED AT: 2014-07-23T09-31-37\n"
       ]
      },
      {
       "output_type": "stream",
       "stream": "stderr",
       "text": [
        "  2.17s INFO: DATA LOADED FROM SOURCE etcbc4 AND ANNOX -- FOR TASK clausecomplements AT 2014-09-16T06-54-41\n"
       ]
      }
     ],
     "prompt_number": 19
    },
    {
     "cell_type": "markdown",
     "metadata": {},
     "source": [
      "We construct the trees for each clause, and we only put clause, phrase and word nodes in the trees.\n",
      "After the construction, each clause has phrase children, which are all phrases that are contained (as monad set) in the clause, and likewise every phrase has word children, which are all words contained in that phrase.\n",
      "\n",
      "We do not have phrases inside phrases. All phrases occur at the same level, but they are ordered by the canonical ordering: the phrase that contains the first monad that is not contained in the other phrase comes first."
     ]
    },
    {
     "cell_type": "code",
     "collapsed": false,
     "input": [
      "tree_types = ('clause', 'phrase', 'word')\n",
      "(root_type, leaf_type, clause_type) = (tree_types[0], tree_types[-1], 'clause')\n",
      "\n",
      "tree = Tree(API, otypes=tree_types, \n",
      "    clause_type=clause_type,\n",
      "    ccr_feature=None,\n",
      "    pt_feature=None,\n",
      "    pos_feature='sp',\n",
      "    mother_feature =None,\n",
      ")\n",
      "results = tree.relations()\n",
      "parent = results['eparent']\n",
      "children = results['echildren']\n",
      "msg(\"Ready for processing\")"
     ],
     "language": "python",
     "metadata": {},
     "outputs": [
      {
       "output_type": "stream",
       "stream": "stderr",
       "text": [
        "  0.00s LOADING API with EXTRAs: please wait ... \n"
       ]
      },
      {
       "output_type": "stream",
       "stream": "stderr",
       "text": [
        "  0.00s INFO: USING DATA COMPILED AT: 2014-07-23T09-31-37\n"
       ]
      },
      {
       "output_type": "stream",
       "stream": "stderr",
       "text": [
        "  1.51s INFO: DATA LOADED FROM SOURCE etcbc4 AND ANNOX -- FOR TASK dicendi AT 2014-09-16T06-12-45\n"
       ]
      },
      {
       "output_type": "stream",
       "stream": "stderr",
       "text": [
        "  0.00s Start computing parent and children relations for objects of type clause, phrase, word\n"
       ]
      },
      {
       "output_type": "stream",
       "stream": "stderr",
       "text": [
        "  1.52s 100000 nodes\n"
       ]
      },
      {
       "output_type": "stream",
       "stream": "stderr",
       "text": [
        "  3.00s 200000 nodes\n"
       ]
      },
      {
       "output_type": "stream",
       "stream": "stderr",
       "text": [
        "  4.50s 300000 nodes\n"
       ]
      },
      {
       "output_type": "stream",
       "stream": "stderr",
       "text": [
        "  6.28s 400000 nodes\n"
       ]
      },
      {
       "output_type": "stream",
       "stream": "stderr",
       "text": [
        "  7.78s 500000 nodes\n"
       ]
      },
      {
       "output_type": "stream",
       "stream": "stderr",
       "text": [
        "  9.21s 600000 nodes\n"
       ]
      },
      {
       "output_type": "stream",
       "stream": "stderr",
       "text": [
        "    11s 700000 nodes\n"
       ]
      },
      {
       "output_type": "stream",
       "stream": "stderr",
       "text": [
        "    12s 769197 nodes: 681219 have parents and 342642 have children\n"
       ]
      },
      {
       "output_type": "stream",
       "stream": "stderr",
       "text": [
        "    12s Ready for processing\n"
       ]
      }
     ],
     "prompt_number": 4
    },
    {
     "cell_type": "markdown",
     "metadata": {},
     "source": [
      "Make a passage index for the clauses"
     ]
    },
    {
     "cell_type": "code",
     "collapsed": false,
     "input": [
      "cur_book = None\n",
      "cur_chapter = None\n",
      "cur_verse = None\n",
      "clause_passage = {}\n",
      "for n in NN():\n",
      "    otype = F.otype.v(n)\n",
      "    if otype == 'book': cur_book = F.book.v(n)\n",
      "    elif otype == 'chapter': cur_chapter = F.chapter.v(n)\n",
      "    elif otype == 'verse': cur_verse = F.verse.v(n)\n",
      "    elif otype == 'clause': clause_passage[n] = (cur_book, cur_chapter, cur_verse)"
     ],
     "language": "python",
     "metadata": {},
     "outputs": [],
     "prompt_number": 17
    },
    {
     "cell_type": "markdown",
     "metadata": {},
     "source": [
      "Explore the phrase functions"
     ]
    },
    {
     "cell_type": "code",
     "collapsed": false,
     "input": [
      "phrase_functions = collections.defaultdict(lambda: 0)\n",
      "for n in NN():\n",
      "    otype = F.otype.v(n)\n",
      "    if otype == 'phrase':\n",
      "        phrase_functions[F.function.v(n)] += 1\n",
      "for value in sorted(phrase_functions):\n",
      "    print(\"{:<20} {:>6d} x\".format(value, phrase_functions[value]))"
     ],
     "language": "python",
     "metadata": {},
     "outputs": [
      {
       "output_type": "stream",
       "stream": "stdout",
       "text": [
        "Adju                   8857 x\n",
        "Cmpl                  27949 x\n",
        "Conj                  46291 x\n",
        "EPPr                      4 x\n",
        "ExsS                     14 x\n",
        "Exst                    144 x\n",
        "Frnt                   1026 x\n",
        "IntS                    250 x\n",
        "Intj                   1627 x\n",
        "Loca                   2510 x\n",
        "ModS                     36 x\n",
        "Modi                   3703 x\n",
        "NCoS                    101 x\n",
        "NCop                    609 x\n",
        "Nega                   6058 x\n",
        "Objc                  20816 x\n",
        "PrAd                     84 x\n",
        "PrcS                      8 x\n",
        "PreC                  17765 x\n",
        "PreO                   5514 x\n",
        "PreS                    778 x\n",
        "Pred                  57046 x\n",
        "PtcO                    166 x\n",
        "Ques                   1275 x\n",
        "Rela                   6338 x\n",
        "Subj                  28957 x\n",
        "Supp                    296 x\n",
        "Time                   3551 x\n",
        "Unkn                  11367 x\n",
        "Voct                   1524 x\n"
       ]
      }
     ],
     "prompt_number": 9
    },
    {
     "cell_type": "markdown",
     "metadata": {},
     "source": [
      "Pick up the verb phrases."
     ]
    },
    {
     "cell_type": "code",
     "collapsed": false,
     "input": [
      "empty_clauses = 0\n",
      "verbless_clauses = 0\n",
      "multverb_clauses = 0\n",
      "clause_verb = collections.defaultdict(lambda: [])\n",
      "predicates = dict(\n",
      "    Pred = 0,\n",
      "    PreO = 1,\n",
      "    PreC = 2,\n",
      ")\n",
      "for clause in sorted(children):\n",
      "    phrases = children[clause]\n",
      "    if len(phrases) == 0:\n",
      "        empty_clauses += 1\n",
      "        next\n",
      "    verb_phrases = [p for p in phrases if F.function.v(p) in predicates]\n",
      "    if len(verb_phrases) == 0:\n",
      "        verbless_clauses += 1\n",
      "        next\n",
      "    if len(verb_phrases) > 1:\n",
      "        multverb_clauses += 1\n",
      "    clause_verb[clause] = verb_phrases\n",
      "\n",
      "verb_distribution = collections.defaultdict(lambda: 0)\n",
      "for clause in sorted(clause_verb):\n",
      "    verb_distribution[len(clause_verb[clause])] += 1\n",
      "    \n",
      "msg(\"{} clauses of which {} empty, {} verbless, {} with multiple verbs, {} with a unique verb\".format(\n",
      "    len(children), empty_clauses, verbless_clauses, multverb_clauses,\n",
      "    len(children) - empty_clauses - verbless_clauses - multverb_clauses,\n",
      "))\n",
      "\n",
      "for n in sorted(verb_distribution):\n",
      "    print(\"{:>5} clauses with {:>2} verb{}\".format(verb_distribution[n], n, 's' if n != 1 else ''))\n"
     ],
     "language": "python",
     "metadata": {},
     "outputs": [
      {
       "output_type": "stream",
       "stream": "stderr",
       "text": [
        "23m 09s 342642 clauses of which 0 empty, 264333 verbless, 2016 with multiple verbs, 76293 with a unique verb\n"
       ]
      },
      {
       "output_type": "stream",
       "stream": "stdout",
       "text": [
        "264333 clauses with  0 verbs\n",
        "76293 clauses with  1 verb\n",
        " 2016 clauses with  2 verbs\n"
       ]
      }
     ],
     "prompt_number": 14
    },
    {
     "cell_type": "markdown",
     "metadata": {},
     "source": [
      "Show the double verb clauses"
     ]
    },
    {
     "cell_type": "code",
     "collapsed": false,
     "input": [
      "of = outfile('double_verb_clauses.csv)\n",
      "for clause in sorted(c in clause_verb if len(clause_verb[c]) > 1):\n",
      "    of.write('{} {}:{}\\t{})"
     ],
     "language": "python",
     "metadata": {},
     "outputs": []
    }
   ],
   "metadata": {}
  }
 ]
}