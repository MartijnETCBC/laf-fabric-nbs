{
 "metadata": {
  "name": "",
  "signature": "sha256:338fd2919c4a1bbd1bfdb29987df23b277b3e768d60d1e32e5cd4c6cd9bfd2e1"
 },
 "nbformat": 3,
 "nbformat_minor": 0,
 "worksheets": [
  {
   "cells": [
    {
     "cell_type": "markdown",
     "metadata": {},
     "source": [
      "<a href=\"http://laf-fabric.readthedocs.org/en/latest/\" target=\"_blank\"><img align=\"left\" src=\"images/laf-fabric-xsmall.png\"/></a>\n",
      "<a href=\"http://www.godgeleerdheid.vu.nl/etcbc\" target=\"_blank\"><img align=\"left\" src=\"images/VU-ETCBC-xsmall.png\"/></a>\n",
      "<a href=\"http://amcat.vu.nl/navigator/\" target=\"_blank\"><img align=\"left\" src=\"images/AmCAT.png\"/></a>\n",
      "<a href=\"http://tla.mpi.nl\" target=\"_blank\"><img align=\"right\" src=\"images/TLA-xsmall.png\"/></a>\n",
      "<a href=\"http://www.dans.knaw.nl\" target=\"_blank\"><img align=\"right\"src=\"images/DANS-xsmall.png\"/></a>"
     ]
    },
    {
     "cell_type": "heading",
     "level": 1,
     "metadata": {},
     "source": [
      "Psalms to AmCAT"
     ]
    },
    {
     "cell_type": "markdown",
     "metadata": {},
     "source": [
      "Christiaan Erwich @ ETCBC wants to study *participants* in the texts of the psalms. He wants to use Wouter van Atteveldt's [AmCAT](http://amcat.vu.nl/navigator/projects/) system for that.\n",
      "\n",
      "*Participants* are the agents that the texts refer to, especially the speakers and listeners. In many cases it is not at all clear how to resolve implicit references in the texts to a set of distinct participants.\n",
      "\n",
      "So, attempts are undertaken to shed more light on participants, with the ETCBC database of linguistic information on the bible text as a starting point."
     ]
    },
    {
     "cell_type": "code",
     "collapsed": false,
     "input": [
      "import sys\n",
      "import collections\n",
      "import json\n",
      "%load_ext autoreload\n",
      "%autoreload 2\n",
      "import laf\n",
      "from laf.fabric import LafFabric\n",
      "from etcbc.preprocess import prepare\n",
      "from etcbc.lib import Transcription, monad_set\n",
      "from etcbc.trees import Tree\n",
      "fabric = LafFabric()\n",
      "tr = Transcription()"
     ],
     "language": "python",
     "metadata": {},
     "outputs": [
      {
       "output_type": "stream",
       "stream": "stderr",
       "text": [
        "  0.00s This is LAF-Fabric 4.2.8\n",
        "http://laf-fabric.readthedocs.org/en/latest/texts/API-reference.html\n"
       ]
      },
      {
       "output_type": "stream",
       "stream": "stdout",
       "text": [
        "The autoreload extension is already loaded. To reload it, use:\n",
        "  %reload_ext autoreload\n"
       ]
      }
     ],
     "prompt_number": 5
    },
    {
     "cell_type": "code",
     "collapsed": false,
     "input": [
      "API=fabric.load('bhs3', '--', 'psalms', {\n",
      "    \"xmlids\": {\"node\": False, \"edge\": False},\n",
      "    \"features\": ('''\n",
      "        oid otype monads minmonad maxmonad\n",
      "        surface_consonants text text_plain\n",
      "        gender number person suffix_gender suffix_number suffix_person\n",
      "        locative tense\n",
      "        noun_type pronoun_type\n",
      "        part_of_speech phrase_dependent_part_of_speech\n",
      "        phrase_type phrase_function\n",
      "        clause_constituent_relation clause_atom_type\n",
      "        domain text_type embedding_domain\n",
      "        book chapter verse\n",
      "    ''',\n",
      "    '''mother.\n",
      "    '''),\n",
      "    \"prepare\": prepare,\n",
      "}, verbose='DETAIL')\n",
      "exec(fabric.localnames.format(var='fabric'))"
     ],
     "language": "python",
     "metadata": {},
     "outputs": [
      {
       "output_type": "stream",
       "stream": "stderr",
       "text": [
        "  0.00s LOADING API: please wait ... \n"
       ]
      },
      {
       "output_type": "stream",
       "stream": "stderr",
       "text": [
        "  0.00s DETAIL: COMPILING m: UP TO DATE\n"
       ]
      },
      {
       "output_type": "stream",
       "stream": "stderr",
       "text": [
        "  0.00s INFO: DATA COMPILED AT: 2014-04-18T18-24-37\n"
       ]
      },
      {
       "output_type": "stream",
       "stream": "stderr",
       "text": [
        "  0.00s DETAIL: COMPILING a: UP TO DATE\n"
       ]
      },
      {
       "output_type": "stream",
       "stream": "stderr",
       "text": [
        "  0.01s DETAIL: load main: G.node_anchor_min\n"
       ]
      },
      {
       "output_type": "stream",
       "stream": "stderr",
       "text": [
        "  0.08s DETAIL: load main: G.node_anchor_max\n"
       ]
      },
      {
       "output_type": "stream",
       "stream": "stderr",
       "text": [
        "  0.15s DETAIL: load main: G.node_sort\n"
       ]
      },
      {
       "output_type": "stream",
       "stream": "stderr",
       "text": [
        "  0.20s DETAIL: load main: G.node_sort_inv\n"
       ]
      },
      {
       "output_type": "stream",
       "stream": "stderr",
       "text": [
        "  0.60s DETAIL: load main: G.edges_from\n"
       ]
      },
      {
       "output_type": "stream",
       "stream": "stderr",
       "text": [
        "  0.65s DETAIL: load main: G.edges_to\n"
       ]
      },
      {
       "output_type": "stream",
       "stream": "stderr",
       "text": [
        "  0.70s DETAIL: load main: F.shebanq_db_maxmonad [node] \n"
       ]
      },
      {
       "output_type": "stream",
       "stream": "stderr",
       "text": [
        "  1.36s DETAIL: load main: F.shebanq_db_minmonad [node] \n"
       ]
      },
      {
       "output_type": "stream",
       "stream": "stderr",
       "text": [
        "  2.01s DETAIL: load main: F.shebanq_db_monads [node] \n"
       ]
      },
      {
       "output_type": "stream",
       "stream": "stderr",
       "text": [
        "  2.73s DETAIL: load main: F.shebanq_db_oid [node] \n"
       ]
      },
      {
       "output_type": "stream",
       "stream": "stderr",
       "text": [
        "  3.39s DETAIL: load main: F.shebanq_db_otype [node] \n"
       ]
      },
      {
       "output_type": "stream",
       "stream": "stderr",
       "text": [
        "  4.05s DETAIL: load main: F.shebanq_ft_clause_atom_type [node] \n"
       ]
      },
      {
       "output_type": "stream",
       "stream": "stderr",
       "text": [
        "  4.10s DETAIL: load main: F.shebanq_ft_clause_constituent_relation [node] \n"
       ]
      },
      {
       "output_type": "stream",
       "stream": "stderr",
       "text": [
        "  4.15s DETAIL: load main: F.shebanq_ft_domain [node] \n"
       ]
      },
      {
       "output_type": "stream",
       "stream": "stderr",
       "text": [
        "  4.20s DETAIL: load main: F.shebanq_ft_embedding_domain [node] \n"
       ]
      },
      {
       "output_type": "stream",
       "stream": "stderr",
       "text": [
        "  4.25s DETAIL: load main: F.shebanq_ft_gender [node] \n"
       ]
      },
      {
       "output_type": "stream",
       "stream": "stderr",
       "text": [
        "  4.45s DETAIL: load main: F.shebanq_ft_locative [node] \n"
       ]
      },
      {
       "output_type": "stream",
       "stream": "stderr",
       "text": [
        "  4.65s DETAIL: load main: F.shebanq_ft_noun_type [node] \n"
       ]
      },
      {
       "output_type": "stream",
       "stream": "stderr",
       "text": [
        "  4.86s DETAIL: load main: F.shebanq_ft_number [node] \n"
       ]
      },
      {
       "output_type": "stream",
       "stream": "stderr",
       "text": [
        "  5.06s DETAIL: load main: F.shebanq_ft_part_of_speech [node] \n"
       ]
      },
      {
       "output_type": "stream",
       "stream": "stderr",
       "text": [
        "  5.28s DETAIL: load main: F.shebanq_ft_person [node] \n"
       ]
      },
      {
       "output_type": "stream",
       "stream": "stderr",
       "text": [
        "  5.49s DETAIL: load main: F.shebanq_ft_phrase_dependent_part_of_speech [node] \n"
       ]
      },
      {
       "output_type": "stream",
       "stream": "stderr",
       "text": [
        "  5.70s DETAIL: load main: F.shebanq_ft_phrase_function [node] \n"
       ]
      },
      {
       "output_type": "stream",
       "stream": "stderr",
       "text": [
        "  5.83s DETAIL: load main: F.shebanq_ft_phrase_type [node] \n"
       ]
      },
      {
       "output_type": "stream",
       "stream": "stderr",
       "text": [
        "  5.95s DETAIL: load main: F.shebanq_ft_pronoun_type [node] \n"
       ]
      },
      {
       "output_type": "stream",
       "stream": "stderr",
       "text": [
        "  6.16s DETAIL: load main: F.shebanq_ft_suffix_gender [node] \n"
       ]
      },
      {
       "output_type": "stream",
       "stream": "stderr",
       "text": [
        "  6.36s DETAIL: load main: F.shebanq_ft_suffix_number [node] \n"
       ]
      },
      {
       "output_type": "stream",
       "stream": "stderr",
       "text": [
        "  6.57s DETAIL: load main: F.shebanq_ft_suffix_person [node] \n"
       ]
      },
      {
       "output_type": "stream",
       "stream": "stderr",
       "text": [
        "  6.78s DETAIL: load main: F.shebanq_ft_surface_consonants [node] \n"
       ]
      },
      {
       "output_type": "stream",
       "stream": "stderr",
       "text": [
        "  6.98s DETAIL: load main: F.shebanq_ft_tense [node] \n"
       ]
      },
      {
       "output_type": "stream",
       "stream": "stderr",
       "text": [
        "  7.19s DETAIL: load main: F.shebanq_ft_text [node] \n"
       ]
      },
      {
       "output_type": "stream",
       "stream": "stderr",
       "text": [
        "  7.54s DETAIL: load main: F.shebanq_ft_text_plain [node] \n"
       ]
      },
      {
       "output_type": "stream",
       "stream": "stderr",
       "text": [
        "  7.86s DETAIL: load main: F.shebanq_ft_text_type [node] \n"
       ]
      },
      {
       "output_type": "stream",
       "stream": "stderr",
       "text": [
        "  7.89s DETAIL: load main: F.shebanq_sft_book [node] \n"
       ]
      },
      {
       "output_type": "stream",
       "stream": "stderr",
       "text": [
        "  7.92s DETAIL: load main: F.shebanq_sft_chapter [node] \n"
       ]
      },
      {
       "output_type": "stream",
       "stream": "stderr",
       "text": [
        "  7.94s DETAIL: load main: F.shebanq_sft_verse [node] \n"
       ]
      },
      {
       "output_type": "stream",
       "stream": "stderr",
       "text": [
        "  7.96s DETAIL: load main: F.shebanq_mother_ [e] \n"
       ]
      },
      {
       "output_type": "stream",
       "stream": "stderr",
       "text": [
        "  8.00s DETAIL: load main: C.shebanq_mother_ -> \n"
       ]
      },
      {
       "output_type": "stream",
       "stream": "stderr",
       "text": [
        "  8.16s DETAIL: load main: C.shebanq_mother_ <- \n"
       ]
      },
      {
       "output_type": "stream",
       "stream": "stderr",
       "text": [
        "  8.29s LOGFILE=/Users/dirk/laf-fabric-data/bhs3/tasks/psalms/__log__psalms.txt\n"
       ]
      },
      {
       "output_type": "stream",
       "stream": "stderr",
       "text": [
        "  8.30s DETAIL: prep prep: G.node_sort\n"
       ]
      },
      {
       "output_type": "stream",
       "stream": "stderr",
       "text": [
        "  8.36s DETAIL: prep prep: G.node_sort_inv\n"
       ]
      },
      {
       "output_type": "stream",
       "stream": "stderr",
       "text": [
        "  8.97s INFO: DATA LOADED FROM SOURCE bhs3 AND ANNOX -- FOR TASK psalms\n"
       ]
      }
     ],
     "prompt_number": 2
    },
    {
     "cell_type": "code",
     "collapsed": false,
     "input": [
      "psalm_nodes = collections.defaultdict(lambda: [])\n",
      "type_table = {'sentence', 'clause', 'clause_atom', 'phrase', 'word'}\n",
      "info_spec = {\n",
      "    'clause'     : '''clause_constituent_relation(ccr)\n",
      "                      domain text_type(ttype) embedding_domain(edomain)\n",
      "                   ''',\n",
      "    'clause_atom': '''clause_atom_type(catype)''',\n",
      "    'phrase'     : '''phrase_type(ptype) phrase_function(pfunc)''',\n",
      "    'word'       : '''gender(g) number(n) person(p) suffix_gender(sg) suffix_number(sn) suffix_person(sp)\n",
      "                      locative(loc) tense\n",
      "                      noun_type(ntype) pronoun_type(pntype)\n",
      "                      part_of_speech(pos) phrase_dependent_part_of_speech(pdpos)\n",
      "                   ''',\n",
      "}\n",
      "info_spec_compiled = {}\n",
      "for otype in info_spec:\n",
      "    fieldspecs = info_spec[otype].strip().split()\n",
      "    fields = []\n",
      "    for fieldspec in fieldspecs:\n",
      "        prefield = fieldspec.split('(')\n",
      "        if len(prefield) == 1:\n",
      "            fields.append((fieldspec, fieldspec))\n",
      "        else:\n",
      "            fields.append((prefield[0], prefield[1].rstrip(')')))\n",
      "    info_spec_compiled[otype] = fields\n",
      "\n",
      "def do_psalm(nr):\n",
      "    psfh = outfile('psalm {:>3}.json'.format(nr))\n",
      "    Foidv = F.oid.v\n",
      "    Fotypev = F.otype.v\n",
      "    Fminmonadv = F.minmonad.v\n",
      "    Fmaxmonadv = F.maxmonad.v\n",
      "    data = {\n",
      "        'tokens': [],\n",
      "        'dependencies': [],\n",
      "    }\n",
      "    sentence_id = None\n",
      "    chapter = None\n",
      "    tokens = data['tokens']\n",
      "    deps = data['dependencies']\n",
      "    cur_object_id = {}\n",
      "    bsentence = None\n",
      "    for node in psalm_nodes[nr]:\n",
      "        otype = Fotypev(node)\n",
      "        if otype == 'sentence':\n",
      "            bsentence = int(Fminmonadv(node))\n",
      "        oid = int(Foidv(node))\n",
      "        minm = int(Fminmonadv(node)) - bsentence\n",
      "        maxm = int(Fmaxmonadv(node)) - bsentence\n",
      "        cur_token = {\n",
      "                'id': oid,\n",
      "                'otype': otype,\n",
      "                'start': minm,\n",
      "                'length': maxm - minm + 1,\n",
      "        }\n",
      "        if otype != 'word': cur_object_id[otype] = oid\n",
      "        else:\n",
      "            wtext = F.text_plain.v(node)\n",
      "            cur_token.update({'text': wtext, 'trans': tr.from_hebrew(wtext)})\n",
      "        if otype != 'sentence':\n",
      "            for ptype in cur_object_id:\n",
      "                if ptype == otype: continue\n",
      "                deps.append({\n",
      "                    'parent': cur_object_id[ptype],\n",
      "                    'child': oid,\n",
      "                    'relation': 'in_{}'.format(ptype),\n",
      "                })\n",
      "        if otype in info_spec_compiled:\n",
      "            for (field, abb) in info_spec_compiled[otype]:\n",
      "                cur_token.update(dict((f[1], F.item[f[0]].v(node)) for f in info_spec_compiled[otype]))\n",
      "        tokens.append(cur_token)            \n",
      "    psfh.write(json.dumps(data, sort_keys=True, indent=4, ensure_ascii=False))\n",
      "    psfh.close()\n",
      "\n",
      "def get_psalms():\n",
      "    doit = False\n",
      "    doing = False\n",
      "    psfh = None\n",
      "    Fotypev = F.otype.v\n",
      "    chapter = None\n",
      "    for node in NN():\n",
      "        otype = Fotypev(node)\n",
      "        if otype == 'book':\n",
      "            doit = F.book.v(node) == \"Psalms\"\n",
      "            if doit:\n",
      "                doing = True\n",
      "            else:\n",
      "                if doing: break\n",
      "        else:\n",
      "            if not doit: continue\n",
      "            if otype == 'chapter':\n",
      "                chapter = int(F.chapter.v(node))\n",
      "            elif otype in type_table: \n",
      "                psalm_nodes[chapter].append(node)"
     ],
     "language": "python",
     "metadata": {},
     "outputs": [],
     "prompt_number": 3
    },
    {
     "cell_type": "code",
     "collapsed": false,
     "input": [
      "msg(\"Collecting nodes of the psalms\")\n",
      "get_psalms()\n",
      "msg(\"Psalms collected\")\n",
      "\n",
      "msg(\"Processing psalms ...\")\n",
      "for p in sorted(psalm_nodes):\n",
      "    msg(\" {} \".format(p), withtime=False, newline=False)\n",
      "    do_psalm(p)\n",
      "msg('', withtime=False)\n",
      "msg(\"Psalms processed\")"
     ],
     "language": "python",
     "metadata": {},
     "outputs": [
      {
       "output_type": "stream",
       "stream": "stderr",
       "text": [
        "    20s Collecting nodes of the psalms\n"
       ]
      },
      {
       "output_type": "stream",
       "stream": "stderr",
       "text": [
        "    21s Psalms collected\n"
       ]
      },
      {
       "output_type": "stream",
       "stream": "stderr",
       "text": [
        "    21s Processing psalms ...\n"
       ]
      },
      {
       "output_type": "stream",
       "stream": "stderr",
       "text": [
        " 1 "
       ]
      },
      {
       "output_type": "stream",
       "stream": "stderr",
       "text": [
        " 2 "
       ]
      },
      {
       "output_type": "stream",
       "stream": "stderr",
       "text": [
        " 3 "
       ]
      },
      {
       "output_type": "stream",
       "stream": "stderr",
       "text": [
        " 4 "
       ]
      },
      {
       "output_type": "stream",
       "stream": "stderr",
       "text": [
        " 5 "
       ]
      },
      {
       "output_type": "stream",
       "stream": "stderr",
       "text": [
        " 6 "
       ]
      },
      {
       "output_type": "stream",
       "stream": "stderr",
       "text": [
        " 7 "
       ]
      },
      {
       "output_type": "stream",
       "stream": "stderr",
       "text": [
        " 8 "
       ]
      },
      {
       "output_type": "stream",
       "stream": "stderr",
       "text": [
        " 9 "
       ]
      },
      {
       "output_type": "stream",
       "stream": "stderr",
       "text": [
        " 10 "
       ]
      },
      {
       "output_type": "stream",
       "stream": "stderr",
       "text": [
        " 11 "
       ]
      },
      {
       "output_type": "stream",
       "stream": "stderr",
       "text": [
        " 12 "
       ]
      },
      {
       "output_type": "stream",
       "stream": "stderr",
       "text": [
        " 13 "
       ]
      },
      {
       "output_type": "stream",
       "stream": "stderr",
       "text": [
        " 14 "
       ]
      },
      {
       "output_type": "stream",
       "stream": "stderr",
       "text": [
        " 15 "
       ]
      },
      {
       "output_type": "stream",
       "stream": "stderr",
       "text": [
        " 16 "
       ]
      },
      {
       "output_type": "stream",
       "stream": "stderr",
       "text": [
        " 17 "
       ]
      },
      {
       "output_type": "stream",
       "stream": "stderr",
       "text": [
        " 18 "
       ]
      },
      {
       "output_type": "stream",
       "stream": "stderr",
       "text": [
        " 19 "
       ]
      },
      {
       "output_type": "stream",
       "stream": "stderr",
       "text": [
        " 20 "
       ]
      },
      {
       "output_type": "stream",
       "stream": "stderr",
       "text": [
        " 21 "
       ]
      },
      {
       "output_type": "stream",
       "stream": "stderr",
       "text": [
        " 22 "
       ]
      },
      {
       "output_type": "stream",
       "stream": "stderr",
       "text": [
        " 23 "
       ]
      },
      {
       "output_type": "stream",
       "stream": "stderr",
       "text": [
        " 24 "
       ]
      },
      {
       "output_type": "stream",
       "stream": "stderr",
       "text": [
        " 25 "
       ]
      },
      {
       "output_type": "stream",
       "stream": "stderr",
       "text": [
        " 26 "
       ]
      },
      {
       "output_type": "stream",
       "stream": "stderr",
       "text": [
        " 27 "
       ]
      },
      {
       "output_type": "stream",
       "stream": "stderr",
       "text": [
        " 28 "
       ]
      },
      {
       "output_type": "stream",
       "stream": "stderr",
       "text": [
        " 29 "
       ]
      },
      {
       "output_type": "stream",
       "stream": "stderr",
       "text": [
        " 30 "
       ]
      },
      {
       "output_type": "stream",
       "stream": "stderr",
       "text": [
        " 31 "
       ]
      },
      {
       "output_type": "stream",
       "stream": "stderr",
       "text": [
        " 32 "
       ]
      },
      {
       "output_type": "stream",
       "stream": "stderr",
       "text": [
        " 33 "
       ]
      },
      {
       "output_type": "stream",
       "stream": "stderr",
       "text": [
        " 34 "
       ]
      },
      {
       "output_type": "stream",
       "stream": "stderr",
       "text": [
        " 35 "
       ]
      },
      {
       "output_type": "stream",
       "stream": "stderr",
       "text": [
        " 36 "
       ]
      },
      {
       "output_type": "stream",
       "stream": "stderr",
       "text": [
        " 37 "
       ]
      },
      {
       "output_type": "stream",
       "stream": "stderr",
       "text": [
        " 38 "
       ]
      },
      {
       "output_type": "stream",
       "stream": "stderr",
       "text": [
        " 39 "
       ]
      },
      {
       "output_type": "stream",
       "stream": "stderr",
       "text": [
        " 40 "
       ]
      },
      {
       "output_type": "stream",
       "stream": "stderr",
       "text": [
        " 41 "
       ]
      },
      {
       "output_type": "stream",
       "stream": "stderr",
       "text": [
        " 42 "
       ]
      },
      {
       "output_type": "stream",
       "stream": "stderr",
       "text": [
        " 43 "
       ]
      },
      {
       "output_type": "stream",
       "stream": "stderr",
       "text": [
        " 44 "
       ]
      },
      {
       "output_type": "stream",
       "stream": "stderr",
       "text": [
        " 45 "
       ]
      },
      {
       "output_type": "stream",
       "stream": "stderr",
       "text": [
        " 46 "
       ]
      },
      {
       "output_type": "stream",
       "stream": "stderr",
       "text": [
        " 47 "
       ]
      },
      {
       "output_type": "stream",
       "stream": "stderr",
       "text": [
        " 48 "
       ]
      },
      {
       "output_type": "stream",
       "stream": "stderr",
       "text": [
        " 49 "
       ]
      },
      {
       "output_type": "stream",
       "stream": "stderr",
       "text": [
        " 50 "
       ]
      },
      {
       "output_type": "stream",
       "stream": "stderr",
       "text": [
        " 51 "
       ]
      },
      {
       "output_type": "stream",
       "stream": "stderr",
       "text": [
        " 52 "
       ]
      },
      {
       "output_type": "stream",
       "stream": "stderr",
       "text": [
        " 53 "
       ]
      },
      {
       "output_type": "stream",
       "stream": "stderr",
       "text": [
        " 54 "
       ]
      },
      {
       "output_type": "stream",
       "stream": "stderr",
       "text": [
        " 55 "
       ]
      },
      {
       "output_type": "stream",
       "stream": "stderr",
       "text": [
        " 56 "
       ]
      },
      {
       "output_type": "stream",
       "stream": "stderr",
       "text": [
        " 57 "
       ]
      },
      {
       "output_type": "stream",
       "stream": "stderr",
       "text": [
        " 58 "
       ]
      },
      {
       "output_type": "stream",
       "stream": "stderr",
       "text": [
        " 59 "
       ]
      },
      {
       "output_type": "stream",
       "stream": "stderr",
       "text": [
        " 60 "
       ]
      },
      {
       "output_type": "stream",
       "stream": "stderr",
       "text": [
        " 61 "
       ]
      },
      {
       "output_type": "stream",
       "stream": "stderr",
       "text": [
        " 62 "
       ]
      },
      {
       "output_type": "stream",
       "stream": "stderr",
       "text": [
        " 63 "
       ]
      },
      {
       "output_type": "stream",
       "stream": "stderr",
       "text": [
        " 64 "
       ]
      },
      {
       "output_type": "stream",
       "stream": "stderr",
       "text": [
        " 65 "
       ]
      },
      {
       "output_type": "stream",
       "stream": "stderr",
       "text": [
        " 66 "
       ]
      },
      {
       "output_type": "stream",
       "stream": "stderr",
       "text": [
        " 67 "
       ]
      },
      {
       "output_type": "stream",
       "stream": "stderr",
       "text": [
        " 68 "
       ]
      },
      {
       "output_type": "stream",
       "stream": "stderr",
       "text": [
        " 69 "
       ]
      },
      {
       "output_type": "stream",
       "stream": "stderr",
       "text": [
        " 70 "
       ]
      },
      {
       "output_type": "stream",
       "stream": "stderr",
       "text": [
        " 71 "
       ]
      },
      {
       "output_type": "stream",
       "stream": "stderr",
       "text": [
        " 72 "
       ]
      },
      {
       "output_type": "stream",
       "stream": "stderr",
       "text": [
        " 73 "
       ]
      },
      {
       "output_type": "stream",
       "stream": "stderr",
       "text": [
        " 74 "
       ]
      },
      {
       "output_type": "stream",
       "stream": "stderr",
       "text": [
        " 75 "
       ]
      },
      {
       "output_type": "stream",
       "stream": "stderr",
       "text": [
        " 76 "
       ]
      },
      {
       "output_type": "stream",
       "stream": "stderr",
       "text": [
        " 77 "
       ]
      },
      {
       "output_type": "stream",
       "stream": "stderr",
       "text": [
        " 78 "
       ]
      },
      {
       "output_type": "stream",
       "stream": "stderr",
       "text": [
        " 79 "
       ]
      },
      {
       "output_type": "stream",
       "stream": "stderr",
       "text": [
        " 80 "
       ]
      },
      {
       "output_type": "stream",
       "stream": "stderr",
       "text": [
        " 81 "
       ]
      },
      {
       "output_type": "stream",
       "stream": "stderr",
       "text": [
        " 82 "
       ]
      },
      {
       "output_type": "stream",
       "stream": "stderr",
       "text": [
        " 83 "
       ]
      },
      {
       "output_type": "stream",
       "stream": "stderr",
       "text": [
        " 84 "
       ]
      },
      {
       "output_type": "stream",
       "stream": "stderr",
       "text": [
        " 85 "
       ]
      },
      {
       "output_type": "stream",
       "stream": "stderr",
       "text": [
        " 86 "
       ]
      },
      {
       "output_type": "stream",
       "stream": "stderr",
       "text": [
        " 87 "
       ]
      },
      {
       "output_type": "stream",
       "stream": "stderr",
       "text": [
        " 88 "
       ]
      },
      {
       "output_type": "stream",
       "stream": "stderr",
       "text": [
        " 89 "
       ]
      },
      {
       "output_type": "stream",
       "stream": "stderr",
       "text": [
        " 90 "
       ]
      },
      {
       "output_type": "stream",
       "stream": "stderr",
       "text": [
        " 91 "
       ]
      },
      {
       "output_type": "stream",
       "stream": "stderr",
       "text": [
        " 92 "
       ]
      },
      {
       "output_type": "stream",
       "stream": "stderr",
       "text": [
        " 93 "
       ]
      },
      {
       "output_type": "stream",
       "stream": "stderr",
       "text": [
        " 94 "
       ]
      },
      {
       "output_type": "stream",
       "stream": "stderr",
       "text": [
        " 95 "
       ]
      },
      {
       "output_type": "stream",
       "stream": "stderr",
       "text": [
        " 96 "
       ]
      },
      {
       "output_type": "stream",
       "stream": "stderr",
       "text": [
        " 97 "
       ]
      },
      {
       "output_type": "stream",
       "stream": "stderr",
       "text": [
        " 98 "
       ]
      },
      {
       "output_type": "stream",
       "stream": "stderr",
       "text": [
        " 99 "
       ]
      },
      {
       "output_type": "stream",
       "stream": "stderr",
       "text": [
        " 100 "
       ]
      },
      {
       "output_type": "stream",
       "stream": "stderr",
       "text": [
        " 101 "
       ]
      },
      {
       "output_type": "stream",
       "stream": "stderr",
       "text": [
        " 102 "
       ]
      },
      {
       "output_type": "stream",
       "stream": "stderr",
       "text": [
        " 103 "
       ]
      },
      {
       "output_type": "stream",
       "stream": "stderr",
       "text": [
        " 104 "
       ]
      },
      {
       "output_type": "stream",
       "stream": "stderr",
       "text": [
        " 105 "
       ]
      },
      {
       "output_type": "stream",
       "stream": "stderr",
       "text": [
        " 106 "
       ]
      },
      {
       "output_type": "stream",
       "stream": "stderr",
       "text": [
        " 107 "
       ]
      },
      {
       "output_type": "stream",
       "stream": "stderr",
       "text": [
        " 108 "
       ]
      },
      {
       "output_type": "stream",
       "stream": "stderr",
       "text": [
        " 109 "
       ]
      },
      {
       "output_type": "stream",
       "stream": "stderr",
       "text": [
        " 110 "
       ]
      },
      {
       "output_type": "stream",
       "stream": "stderr",
       "text": [
        " 111 "
       ]
      },
      {
       "output_type": "stream",
       "stream": "stderr",
       "text": [
        " 112 "
       ]
      },
      {
       "output_type": "stream",
       "stream": "stderr",
       "text": [
        " 113 "
       ]
      },
      {
       "output_type": "stream",
       "stream": "stderr",
       "text": [
        " 114 "
       ]
      },
      {
       "output_type": "stream",
       "stream": "stderr",
       "text": [
        " 115 "
       ]
      },
      {
       "output_type": "stream",
       "stream": "stderr",
       "text": [
        " 116 "
       ]
      },
      {
       "output_type": "stream",
       "stream": "stderr",
       "text": [
        " 117 "
       ]
      },
      {
       "output_type": "stream",
       "stream": "stderr",
       "text": [
        " 118 "
       ]
      },
      {
       "output_type": "stream",
       "stream": "stderr",
       "text": [
        " 119 "
       ]
      },
      {
       "output_type": "stream",
       "stream": "stderr",
       "text": [
        " 120 "
       ]
      },
      {
       "output_type": "stream",
       "stream": "stderr",
       "text": [
        " 121 "
       ]
      },
      {
       "output_type": "stream",
       "stream": "stderr",
       "text": [
        " 122 "
       ]
      },
      {
       "output_type": "stream",
       "stream": "stderr",
       "text": [
        " 123 "
       ]
      },
      {
       "output_type": "stream",
       "stream": "stderr",
       "text": [
        " 124 "
       ]
      },
      {
       "output_type": "stream",
       "stream": "stderr",
       "text": [
        " 125 "
       ]
      },
      {
       "output_type": "stream",
       "stream": "stderr",
       "text": [
        " 126 "
       ]
      },
      {
       "output_type": "stream",
       "stream": "stderr",
       "text": [
        " 127 "
       ]
      },
      {
       "output_type": "stream",
       "stream": "stderr",
       "text": [
        " 128 "
       ]
      },
      {
       "output_type": "stream",
       "stream": "stderr",
       "text": [
        " 129 "
       ]
      },
      {
       "output_type": "stream",
       "stream": "stderr",
       "text": [
        " 130 "
       ]
      },
      {
       "output_type": "stream",
       "stream": "stderr",
       "text": [
        " 131 "
       ]
      },
      {
       "output_type": "stream",
       "stream": "stderr",
       "text": [
        " 132 "
       ]
      },
      {
       "output_type": "stream",
       "stream": "stderr",
       "text": [
        " 133 "
       ]
      },
      {
       "output_type": "stream",
       "stream": "stderr",
       "text": [
        " 134 "
       ]
      },
      {
       "output_type": "stream",
       "stream": "stderr",
       "text": [
        " 135 "
       ]
      },
      {
       "output_type": "stream",
       "stream": "stderr",
       "text": [
        " 136 "
       ]
      },
      {
       "output_type": "stream",
       "stream": "stderr",
       "text": [
        " 137 "
       ]
      },
      {
       "output_type": "stream",
       "stream": "stderr",
       "text": [
        " 138 "
       ]
      },
      {
       "output_type": "stream",
       "stream": "stderr",
       "text": [
        " 139 "
       ]
      },
      {
       "output_type": "stream",
       "stream": "stderr",
       "text": [
        " 140 "
       ]
      },
      {
       "output_type": "stream",
       "stream": "stderr",
       "text": [
        " 141 "
       ]
      },
      {
       "output_type": "stream",
       "stream": "stderr",
       "text": [
        " 142 "
       ]
      },
      {
       "output_type": "stream",
       "stream": "stderr",
       "text": [
        " 143 "
       ]
      },
      {
       "output_type": "stream",
       "stream": "stderr",
       "text": [
        " 144 "
       ]
      },
      {
       "output_type": "stream",
       "stream": "stderr",
       "text": [
        " 145 "
       ]
      },
      {
       "output_type": "stream",
       "stream": "stderr",
       "text": [
        " 146 "
       ]
      },
      {
       "output_type": "stream",
       "stream": "stderr",
       "text": [
        " 147 "
       ]
      },
      {
       "output_type": "stream",
       "stream": "stderr",
       "text": [
        " 148 "
       ]
      },
      {
       "output_type": "stream",
       "stream": "stderr",
       "text": [
        " 149 "
       ]
      },
      {
       "output_type": "stream",
       "stream": "stderr",
       "text": [
        " 150 "
       ]
      },
      {
       "output_type": "stream",
       "stream": "stderr",
       "text": [
        "\n"
       ]
      },
      {
       "output_type": "stream",
       "stream": "stderr",
       "text": [
        "    38s Psalms processed\n"
       ]
      }
     ],
     "prompt_number": 4
    },
    {
     "cell_type": "code",
     "collapsed": false,
     "input": [],
     "language": "python",
     "metadata": {},
     "outputs": []
    }
   ],
   "metadata": {}
  }
 ]
}