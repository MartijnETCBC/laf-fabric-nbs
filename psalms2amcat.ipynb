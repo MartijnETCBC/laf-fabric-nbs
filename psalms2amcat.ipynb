{
 "metadata": {
  "name": "",
  "signature": "sha256:0d6131ee8fd6ad422ba0a049369ee19deac14257a14d4d6016e7e9c5d1cf3dda"
 },
 "nbformat": 3,
 "nbformat_minor": 0,
 "worksheets": [
  {
   "cells": [
    {
     "cell_type": "markdown",
     "metadata": {},
     "source": [
      "<a href=\"http://laf-fabric.readthedocs.org/en/latest/\" target=\"_blank\"><img align=\"left\" src=\"images/laf-fabric-xsmall.png\"/></a>\n",
      "<a href=\"http://www.godgeleerdheid.vu.nl/etcbc\" target=\"_blank\"><img align=\"left\" src=\"images/VU-ETCBC-xsmall.png\"/></a>\n",
      "<a href=\"http://amcat.vu.nl/navigator/\" target=\"_blank\"><img align=\"left\" src=\"images/AmCAT.png\"/></a>\n",
      "<a href=\"http://tla.mpi.nl\" target=\"_blank\"><img align=\"right\" src=\"images/TLA-xsmall.png\"/></a>\n",
      "<a href=\"http://www.dans.knaw.nl\" target=\"_blank\"><img align=\"right\"src=\"images/DANS-xsmall.png\"/></a>"
     ]
    },
    {
     "cell_type": "heading",
     "level": 1,
     "metadata": {},
     "source": [
      "Psalms to AmCAT"
     ]
    },
    {
     "cell_type": "markdown",
     "metadata": {},
     "source": [
      "Christiaan Erwich @ ETCBC wants to study *participants* in the texts of the psalms. He wants to use Wouter van Atteveldt's [AmCAT](http://amcat.vu.nl/navigator/projects/) system for that.\n",
      "\n",
      "*Participants* are the agents that the texts refer to, especially the speakers and listeners. In many cases it is not at all clear how to resolve implicit references in the texts to a set of distinct participants.\n",
      "\n",
      "So, attempts are undertaken to shed more light on participants, with the ETCBC database of linguistic information on the bible text as a starting point."
     ]
    },
    {
     "cell_type": "code",
     "collapsed": false,
     "input": [
      "import sys\n",
      "import collections\n",
      "import json\n",
      "%load_ext autoreload\n",
      "%autoreload 2\n",
      "import laf\n",
      "from laf.fabric import LafFabric\n",
      "from etcbc.preprocess import prepare\n",
      "from etcbc.lib import Transcription, monad_set\n",
      "from etcbc.trees import Tree\n",
      "fabric = LafFabric()\n",
      "tr = Transcription()"
     ],
     "language": "python",
     "metadata": {},
     "outputs": [
      {
       "output_type": "stream",
       "stream": "stderr",
       "text": [
        "  0.00s This is LAF-Fabric 4.2.6\n",
        "http://laf-fabric.readthedocs.org/texts/API-reference.html\n"
       ]
      }
     ],
     "prompt_number": 1
    },
    {
     "cell_type": "code",
     "collapsed": false,
     "input": [
      "API=fabric.load('bhs3', '--', 'psalms', {\n",
      "    \"xmlids\": {\"node\": False, \"edge\": False},\n",
      "    \"features\": ('''\n",
      "        oid otype monads minmonad maxmonad\n",
      "        surface_consonants text text_plain\n",
      "        part_of_speech\n",
      "        phrase_type\n",
      "        clause_constituent_relation\n",
      "        book chapter verse\n",
      "    ''',\n",
      "    '''mother.\n",
      "    '''),\n",
      "    \"prepare\": prepare,\n",
      "}, verbose='NORMAL')\n",
      "exec(fabric.localnames.format(var='fabric'))"
     ],
     "language": "python",
     "metadata": {},
     "outputs": [
      {
       "output_type": "stream",
       "stream": "stderr",
       "text": [
        "  0.00s LOADING API: please wait ... \n"
       ]
      },
      {
       "output_type": "stream",
       "stream": "stderr",
       "text": [
        "  0.00s INFO: DATA COMPILED AT: 2014-04-18T18-24-37\n"
       ]
      },
      {
       "output_type": "stream",
       "stream": "stderr",
       "text": [
        "  6.02s LOGFILE=/Users/dirk/laf-fabric-data/bhs3/tasks/psalms/__log__psalms.txt\n"
       ]
      },
      {
       "output_type": "stream",
       "stream": "stderr",
       "text": [
        "  6.86s INFO: DATA LOADED FROM SOURCE bhs3 AND ANNOX -- FOR TASK psalms\n"
       ]
      }
     ],
     "prompt_number": 2
    },
    {
     "cell_type": "code",
     "collapsed": false,
     "input": [
      "psalm_nodes = collections.defaultdict(lambda: [])\n",
      "type_table = {'sentence', 'clause', 'phrase', 'word'}\n",
      "\n",
      "def do_psalm(nr):\n",
      "    psfh = outfile('psalm {:>3}.json'.format(nr))\n",
      "    Foidv = F.oid.v\n",
      "    Fotypev = F.otype.v\n",
      "    Fminmonadv = F.minmonad.v\n",
      "    Fmaxmonadv = F.maxmonad.v\n",
      "    data = {\n",
      "        'tokens': [],\n",
      "        'dependencies': [],\n",
      "    }\n",
      "    sentence_id = None\n",
      "    chapter = None\n",
      "    tokens = data['tokens']\n",
      "    deps = data['dependencies']\n",
      "    cur_object_id = {}\n",
      "    bsentence = None\n",
      "    for node in psalm_nodes[nr]:\n",
      "        otype = Fotypev(node)\n",
      "        if otype == 'sentence':\n",
      "            bsentence = int(Fminmonadv(node))\n",
      "        oid = int(Foidv(node))\n",
      "        minm = int(Fminmonadv(node)) - bsentence\n",
      "        maxm = int(Fmaxmonadv(node)) - bsentence\n",
      "        cur_token = {\n",
      "                'id': oid,\n",
      "                'otype': otype,\n",
      "                'start': minm,\n",
      "                'length': maxm - minm + 1,\n",
      "        }\n",
      "        if otype != 'word': cur_object_id[otype] = oid\n",
      "        if otype != 'sentence':\n",
      "            for ptype in cur_object_id:\n",
      "                deps.append({\n",
      "                    'parent': cur_object_id[ptype],\n",
      "                    'child': oid,\n",
      "                    'relation': 'in_{}'.format(ptype),\n",
      "                })\n",
      "        if otype == 'word':\n",
      "            wtext = F.text_plain.v(node)\n",
      "            cur_token['text'] = wtext\n",
      "            cur_token['trans'] = tr.from_hebrew(wtext)\n",
      "            cur_token['pos'] = F.part_of_speech.v(node)\n",
      "        elif otype == 'clause':\n",
      "            cur_token['ccr'] = F.clause_constituent_relation.v(node)\n",
      "        elif otype == 'phrase':\n",
      "            cur_token['phrt'] = F.phrase_type.v(node)\n",
      "        tokens.append(cur_token)            \n",
      "    psfh.write(json.dumps(data, sort_keys=True, indent=4, ensure_ascii=False))\n",
      "    psfh.close()\n",
      "\n",
      "def get_psalms():\n",
      "    msg(\"Collecting nodes of the psalms\")\n",
      "    doit = False\n",
      "    doing = False\n",
      "    psfh = None\n",
      "    Fotypev = F.otype.v\n",
      "    chapter = None\n",
      "    for node in NN():\n",
      "        otype = Fotypev(node)\n",
      "        if otype == 'book':\n",
      "            doit = F.book.v(node) == \"Psalms\"\n",
      "            if doit:\n",
      "                doing = True\n",
      "            else:\n",
      "                if doing: break\n",
      "        else:\n",
      "            if not doit: continue\n",
      "            if otype == 'chapter':\n",
      "                chapter = int(F.chapter.v(node))\n",
      "            elif otype in type_table: \n",
      "                psalm_nodes[chapter].append(node)\n",
      "    msg(\"Psalms collected\")\n",
      "\n",
      "get_psalms()\n",
      "\n",
      "msg(\"Processing psalms ...\")\n",
      "for p in sorted(psalm_nodes):\n",
      "    msg(\" {} \".format(p), withtime=False, newline=False)\n",
      "    do_psalm(p)\n",
      "msg('', withtime=False)\n",
      "msg(\"Psalms processed\")\n",
      "            \n",
      "\n"
     ],
     "language": "python",
     "metadata": {},
     "outputs": [
      {
       "output_type": "stream",
       "stream": "stderr",
       "text": [
        "  0.12s Collecting nodes of the psalms\n"
       ]
      },
      {
       "output_type": "stream",
       "stream": "stderr",
       "text": [
        "  1.47s Psalms collected\n"
       ]
      },
      {
       "output_type": "stream",
       "stream": "stderr",
       "text": [
        "  1.47s Processing psalms ...\n"
       ]
      },
      {
       "output_type": "stream",
       "stream": "stderr",
       "text": [
        " 1 "
       ]
      },
      {
       "output_type": "stream",
       "stream": "stderr",
       "text": [
        " 2 "
       ]
      },
      {
       "output_type": "stream",
       "stream": "stderr",
       "text": [
        " 3 "
       ]
      },
      {
       "output_type": "stream",
       "stream": "stderr",
       "text": [
        " 4 "
       ]
      },
      {
       "output_type": "stream",
       "stream": "stderr",
       "text": [
        " 5 "
       ]
      },
      {
       "output_type": "stream",
       "stream": "stderr",
       "text": [
        " 6 "
       ]
      },
      {
       "output_type": "stream",
       "stream": "stderr",
       "text": [
        " 7 "
       ]
      },
      {
       "output_type": "stream",
       "stream": "stderr",
       "text": [
        " 8 "
       ]
      },
      {
       "output_type": "stream",
       "stream": "stderr",
       "text": [
        " 9 "
       ]
      },
      {
       "output_type": "stream",
       "stream": "stderr",
       "text": [
        " 10 "
       ]
      },
      {
       "output_type": "stream",
       "stream": "stderr",
       "text": [
        " 11 "
       ]
      },
      {
       "output_type": "stream",
       "stream": "stderr",
       "text": [
        " 12 "
       ]
      },
      {
       "output_type": "stream",
       "stream": "stderr",
       "text": [
        " 13 "
       ]
      },
      {
       "output_type": "stream",
       "stream": "stderr",
       "text": [
        " 14 "
       ]
      },
      {
       "output_type": "stream",
       "stream": "stderr",
       "text": [
        " 15 "
       ]
      },
      {
       "output_type": "stream",
       "stream": "stderr",
       "text": [
        " 16 "
       ]
      },
      {
       "output_type": "stream",
       "stream": "stderr",
       "text": [
        " 17 "
       ]
      },
      {
       "output_type": "stream",
       "stream": "stderr",
       "text": [
        " 18 "
       ]
      },
      {
       "output_type": "stream",
       "stream": "stderr",
       "text": [
        " 19 "
       ]
      },
      {
       "output_type": "stream",
       "stream": "stderr",
       "text": [
        " 20 "
       ]
      },
      {
       "output_type": "stream",
       "stream": "stderr",
       "text": [
        " 21 "
       ]
      },
      {
       "output_type": "stream",
       "stream": "stderr",
       "text": [
        " 22 "
       ]
      },
      {
       "output_type": "stream",
       "stream": "stderr",
       "text": [
        " 23 "
       ]
      },
      {
       "output_type": "stream",
       "stream": "stderr",
       "text": [
        " 24 "
       ]
      },
      {
       "output_type": "stream",
       "stream": "stderr",
       "text": [
        " 25 "
       ]
      },
      {
       "output_type": "stream",
       "stream": "stderr",
       "text": [
        " 26 "
       ]
      },
      {
       "output_type": "stream",
       "stream": "stderr",
       "text": [
        " 27 "
       ]
      },
      {
       "output_type": "stream",
       "stream": "stderr",
       "text": [
        " 28 "
       ]
      },
      {
       "output_type": "stream",
       "stream": "stderr",
       "text": [
        " 29 "
       ]
      },
      {
       "output_type": "stream",
       "stream": "stderr",
       "text": [
        " 30 "
       ]
      },
      {
       "output_type": "stream",
       "stream": "stderr",
       "text": [
        " 31 "
       ]
      },
      {
       "output_type": "stream",
       "stream": "stderr",
       "text": [
        " 32 "
       ]
      },
      {
       "output_type": "stream",
       "stream": "stderr",
       "text": [
        " 33 "
       ]
      },
      {
       "output_type": "stream",
       "stream": "stderr",
       "text": [
        " 34 "
       ]
      },
      {
       "output_type": "stream",
       "stream": "stderr",
       "text": [
        " 35 "
       ]
      },
      {
       "output_type": "stream",
       "stream": "stderr",
       "text": [
        " 36 "
       ]
      },
      {
       "output_type": "stream",
       "stream": "stderr",
       "text": [
        " 37 "
       ]
      },
      {
       "output_type": "stream",
       "stream": "stderr",
       "text": [
        " 38 "
       ]
      },
      {
       "output_type": "stream",
       "stream": "stderr",
       "text": [
        " 39 "
       ]
      },
      {
       "output_type": "stream",
       "stream": "stderr",
       "text": [
        " 40 "
       ]
      },
      {
       "output_type": "stream",
       "stream": "stderr",
       "text": [
        " 41 "
       ]
      },
      {
       "output_type": "stream",
       "stream": "stderr",
       "text": [
        " 42 "
       ]
      },
      {
       "output_type": "stream",
       "stream": "stderr",
       "text": [
        " 43 "
       ]
      },
      {
       "output_type": "stream",
       "stream": "stderr",
       "text": [
        " 44 "
       ]
      },
      {
       "output_type": "stream",
       "stream": "stderr",
       "text": [
        " 45 "
       ]
      },
      {
       "output_type": "stream",
       "stream": "stderr",
       "text": [
        " 46 "
       ]
      },
      {
       "output_type": "stream",
       "stream": "stderr",
       "text": [
        " 47 "
       ]
      },
      {
       "output_type": "stream",
       "stream": "stderr",
       "text": [
        " 48 "
       ]
      },
      {
       "output_type": "stream",
       "stream": "stderr",
       "text": [
        " 49 "
       ]
      },
      {
       "output_type": "stream",
       "stream": "stderr",
       "text": [
        " 50 "
       ]
      },
      {
       "output_type": "stream",
       "stream": "stderr",
       "text": [
        " 51 "
       ]
      },
      {
       "output_type": "stream",
       "stream": "stderr",
       "text": [
        " 52 "
       ]
      },
      {
       "output_type": "stream",
       "stream": "stderr",
       "text": [
        " 53 "
       ]
      },
      {
       "output_type": "stream",
       "stream": "stderr",
       "text": [
        " 54 "
       ]
      },
      {
       "output_type": "stream",
       "stream": "stderr",
       "text": [
        " 55 "
       ]
      },
      {
       "output_type": "stream",
       "stream": "stderr",
       "text": [
        " 56 "
       ]
      },
      {
       "output_type": "stream",
       "stream": "stderr",
       "text": [
        " 57 "
       ]
      },
      {
       "output_type": "stream",
       "stream": "stderr",
       "text": [
        " 58 "
       ]
      },
      {
       "output_type": "stream",
       "stream": "stderr",
       "text": [
        " 59 "
       ]
      },
      {
       "output_type": "stream",
       "stream": "stderr",
       "text": [
        " 60 "
       ]
      },
      {
       "output_type": "stream",
       "stream": "stderr",
       "text": [
        " 61 "
       ]
      },
      {
       "output_type": "stream",
       "stream": "stderr",
       "text": [
        " 62 "
       ]
      },
      {
       "output_type": "stream",
       "stream": "stderr",
       "text": [
        " 63 "
       ]
      },
      {
       "output_type": "stream",
       "stream": "stderr",
       "text": [
        " 64 "
       ]
      },
      {
       "output_type": "stream",
       "stream": "stderr",
       "text": [
        " 65 "
       ]
      },
      {
       "output_type": "stream",
       "stream": "stderr",
       "text": [
        " 66 "
       ]
      },
      {
       "output_type": "stream",
       "stream": "stderr",
       "text": [
        " 67 "
       ]
      },
      {
       "output_type": "stream",
       "stream": "stderr",
       "text": [
        " 68 "
       ]
      },
      {
       "output_type": "stream",
       "stream": "stderr",
       "text": [
        " 69 "
       ]
      },
      {
       "output_type": "stream",
       "stream": "stderr",
       "text": [
        " 70 "
       ]
      },
      {
       "output_type": "stream",
       "stream": "stderr",
       "text": [
        " 71 "
       ]
      },
      {
       "output_type": "stream",
       "stream": "stderr",
       "text": [
        " 72 "
       ]
      },
      {
       "output_type": "stream",
       "stream": "stderr",
       "text": [
        " 73 "
       ]
      },
      {
       "output_type": "stream",
       "stream": "stderr",
       "text": [
        " 74 "
       ]
      },
      {
       "output_type": "stream",
       "stream": "stderr",
       "text": [
        " 75 "
       ]
      },
      {
       "output_type": "stream",
       "stream": "stderr",
       "text": [
        " 76 "
       ]
      },
      {
       "output_type": "stream",
       "stream": "stderr",
       "text": [
        " 77 "
       ]
      },
      {
       "output_type": "stream",
       "stream": "stderr",
       "text": [
        " 78 "
       ]
      },
      {
       "output_type": "stream",
       "stream": "stderr",
       "text": [
        " 79 "
       ]
      },
      {
       "output_type": "stream",
       "stream": "stderr",
       "text": [
        " 80 "
       ]
      },
      {
       "output_type": "stream",
       "stream": "stderr",
       "text": [
        " 81 "
       ]
      },
      {
       "output_type": "stream",
       "stream": "stderr",
       "text": [
        " 82 "
       ]
      },
      {
       "output_type": "stream",
       "stream": "stderr",
       "text": [
        " 83 "
       ]
      },
      {
       "output_type": "stream",
       "stream": "stderr",
       "text": [
        " 84 "
       ]
      },
      {
       "output_type": "stream",
       "stream": "stderr",
       "text": [
        " 85 "
       ]
      },
      {
       "output_type": "stream",
       "stream": "stderr",
       "text": [
        " 86 "
       ]
      },
      {
       "output_type": "stream",
       "stream": "stderr",
       "text": [
        " 87 "
       ]
      },
      {
       "output_type": "stream",
       "stream": "stderr",
       "text": [
        " 88 "
       ]
      },
      {
       "output_type": "stream",
       "stream": "stderr",
       "text": [
        " 89 "
       ]
      },
      {
       "output_type": "stream",
       "stream": "stderr",
       "text": [
        " 90 "
       ]
      },
      {
       "output_type": "stream",
       "stream": "stderr",
       "text": [
        " 91 "
       ]
      },
      {
       "output_type": "stream",
       "stream": "stderr",
       "text": [
        " 92 "
       ]
      },
      {
       "output_type": "stream",
       "stream": "stderr",
       "text": [
        " 93 "
       ]
      },
      {
       "output_type": "stream",
       "stream": "stderr",
       "text": [
        " 94 "
       ]
      },
      {
       "output_type": "stream",
       "stream": "stderr",
       "text": [
        " 95 "
       ]
      },
      {
       "output_type": "stream",
       "stream": "stderr",
       "text": [
        " 96 "
       ]
      },
      {
       "output_type": "stream",
       "stream": "stderr",
       "text": [
        " 97 "
       ]
      },
      {
       "output_type": "stream",
       "stream": "stderr",
       "text": [
        " 98 "
       ]
      },
      {
       "output_type": "stream",
       "stream": "stderr",
       "text": [
        " 99 "
       ]
      },
      {
       "output_type": "stream",
       "stream": "stderr",
       "text": [
        " 100 "
       ]
      },
      {
       "output_type": "stream",
       "stream": "stderr",
       "text": [
        " 101 "
       ]
      },
      {
       "output_type": "stream",
       "stream": "stderr",
       "text": [
        " 102 "
       ]
      },
      {
       "output_type": "stream",
       "stream": "stderr",
       "text": [
        " 103 "
       ]
      },
      {
       "output_type": "stream",
       "stream": "stderr",
       "text": [
        " 104 "
       ]
      },
      {
       "output_type": "stream",
       "stream": "stderr",
       "text": [
        " 105 "
       ]
      },
      {
       "output_type": "stream",
       "stream": "stderr",
       "text": [
        " 106 "
       ]
      },
      {
       "output_type": "stream",
       "stream": "stderr",
       "text": [
        " 107 "
       ]
      },
      {
       "output_type": "stream",
       "stream": "stderr",
       "text": [
        " 108 "
       ]
      },
      {
       "output_type": "stream",
       "stream": "stderr",
       "text": [
        " 109 "
       ]
      },
      {
       "output_type": "stream",
       "stream": "stderr",
       "text": [
        " 110 "
       ]
      },
      {
       "output_type": "stream",
       "stream": "stderr",
       "text": [
        " 111 "
       ]
      },
      {
       "output_type": "stream",
       "stream": "stderr",
       "text": [
        " 112 "
       ]
      },
      {
       "output_type": "stream",
       "stream": "stderr",
       "text": [
        " 113 "
       ]
      },
      {
       "output_type": "stream",
       "stream": "stderr",
       "text": [
        " 114 "
       ]
      },
      {
       "output_type": "stream",
       "stream": "stderr",
       "text": [
        " 115 "
       ]
      },
      {
       "output_type": "stream",
       "stream": "stderr",
       "text": [
        " 116 "
       ]
      },
      {
       "output_type": "stream",
       "stream": "stderr",
       "text": [
        " 117 "
       ]
      },
      {
       "output_type": "stream",
       "stream": "stderr",
       "text": [
        " 118 "
       ]
      },
      {
       "output_type": "stream",
       "stream": "stderr",
       "text": [
        " 119 "
       ]
      },
      {
       "output_type": "stream",
       "stream": "stderr",
       "text": [
        " 120 "
       ]
      },
      {
       "output_type": "stream",
       "stream": "stderr",
       "text": [
        " 121 "
       ]
      },
      {
       "output_type": "stream",
       "stream": "stderr",
       "text": [
        " 122 "
       ]
      },
      {
       "output_type": "stream",
       "stream": "stderr",
       "text": [
        " 123 "
       ]
      },
      {
       "output_type": "stream",
       "stream": "stderr",
       "text": [
        " 124 "
       ]
      },
      {
       "output_type": "stream",
       "stream": "stderr",
       "text": [
        " 125 "
       ]
      },
      {
       "output_type": "stream",
       "stream": "stderr",
       "text": [
        " 126 "
       ]
      },
      {
       "output_type": "stream",
       "stream": "stderr",
       "text": [
        " 127 "
       ]
      },
      {
       "output_type": "stream",
       "stream": "stderr",
       "text": [
        " 128 "
       ]
      },
      {
       "output_type": "stream",
       "stream": "stderr",
       "text": [
        " 129 "
       ]
      },
      {
       "output_type": "stream",
       "stream": "stderr",
       "text": [
        " 130 "
       ]
      },
      {
       "output_type": "stream",
       "stream": "stderr",
       "text": [
        " 131 "
       ]
      },
      {
       "output_type": "stream",
       "stream": "stderr",
       "text": [
        " 132 "
       ]
      },
      {
       "output_type": "stream",
       "stream": "stderr",
       "text": [
        " 133 "
       ]
      },
      {
       "output_type": "stream",
       "stream": "stderr",
       "text": [
        " 134 "
       ]
      },
      {
       "output_type": "stream",
       "stream": "stderr",
       "text": [
        " 135 "
       ]
      },
      {
       "output_type": "stream",
       "stream": "stderr",
       "text": [
        " 136 "
       ]
      },
      {
       "output_type": "stream",
       "stream": "stderr",
       "text": [
        " 137 "
       ]
      },
      {
       "output_type": "stream",
       "stream": "stderr",
       "text": [
        " 138 "
       ]
      },
      {
       "output_type": "stream",
       "stream": "stderr",
       "text": [
        " 139 "
       ]
      },
      {
       "output_type": "stream",
       "stream": "stderr",
       "text": [
        " 140 "
       ]
      },
      {
       "output_type": "stream",
       "stream": "stderr",
       "text": [
        " 141 "
       ]
      },
      {
       "output_type": "stream",
       "stream": "stderr",
       "text": [
        " 142 "
       ]
      },
      {
       "output_type": "stream",
       "stream": "stderr",
       "text": [
        " 143 "
       ]
      },
      {
       "output_type": "stream",
       "stream": "stderr",
       "text": [
        " 144 "
       ]
      },
      {
       "output_type": "stream",
       "stream": "stderr",
       "text": [
        " 145 "
       ]
      },
      {
       "output_type": "stream",
       "stream": "stderr",
       "text": [
        " 146 "
       ]
      },
      {
       "output_type": "stream",
       "stream": "stderr",
       "text": [
        " 147 "
       ]
      },
      {
       "output_type": "stream",
       "stream": "stderr",
       "text": [
        " 148 "
       ]
      },
      {
       "output_type": "stream",
       "stream": "stderr",
       "text": [
        " 149 "
       ]
      },
      {
       "output_type": "stream",
       "stream": "stderr",
       "text": [
        " 150 "
       ]
      },
      {
       "output_type": "stream",
       "stream": "stderr",
       "text": [
        "\n"
       ]
      },
      {
       "output_type": "stream",
       "stream": "stderr",
       "text": [
        "  9.30s Psalms processed\n"
       ]
      }
     ],
     "prompt_number": 3
    },
    {
     "cell_type": "code",
     "collapsed": false,
     "input": [],
     "language": "python",
     "metadata": {},
     "outputs": []
    }
   ],
   "metadata": {}
  }
 ]
}