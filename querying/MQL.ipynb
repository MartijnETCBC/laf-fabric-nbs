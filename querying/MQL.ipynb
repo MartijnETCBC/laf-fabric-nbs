{
 "metadata": {
  "name": "",
  "signature": "sha256:ba72a231c2c892527f87140033ebf97a682e926ea614867633f66bce93ce26df"
 },
 "nbformat": 3,
 "nbformat_minor": 0,
 "worksheets": [
  {
   "cells": [
    {
     "cell_type": "markdown",
     "metadata": {},
     "source": [
      "<a href=\"http://laf-fabric.readthedocs.org/en/latest/\" target=\"_blank\"><img align=\"left\" src=\"images/laf-fabric-xsmall.png\"/></a>\n",
      "<a href=\"http://emdros.org\" target=\"_blank\"><img align=\"left\" src=\"files/images/Emdros-xsmall.png\"/></a>\n",
      "<a href=\"http://www.persistent-identifier.nl/?identifier=urn%3Anbn%3Anl%3Aui%3A13-048i-71\" target=\"_blank\"><img align=\"left\"src=\"images/etcbc4easy-small.png\"/></a>\n",
      "<a href=\"http://www.godgeleerdheid.vu.nl/etcbc\" target=\"_blank\"><img align=\"right\" src=\"images/VU-ETCBC-xsmall.png\"/></a>\n",
      "<a href=\"http://tla.mpi.nl\" target=\"_blank\"><img align=\"right\" src=\"images/TLA-xsmall.png\"/></a>\n",
      "<a href=\"http://www.dans.knaw.nl\" target=\"_blank\"><img align=\"right\"src=\"images/DANS-xsmall.png\"/></a>"
     ]
    },
    {
     "cell_type": "heading",
     "level": 1,
     "metadata": {},
     "source": [
      "Monad Query Language"
     ]
    },
    {
     "cell_type": "markdown",
     "metadata": {},
     "source": [
      "The LAF resource which is ETCBC Hebrew Text Database is the result of converting an EMDROS database into LAF.\n",
      "[EMDROS](http://emdros.org) is a text database system written by Ulrik Sandborg-Petersen based on the PhD. thesis of Crist-Jan Doedens: [Text Databases. One Database Model and Several Retrieval Languages](http://books.google.nl/books?id=9ggOBRz1dO4C&dq=editions%3AISBN9051837291&source=gbs_book_other_versions).\n",
      "\n",
      "The query language of this system, MQL, is a so-called *topographic* query language, meaning that the query instruction is at the same time a template for the query results. More formally, there is a correspondence between the structure of the query instruction and the structure of the query results, and this correspondence holds for the sequential order and the embedding order.\n",
      "\n",
      "Put otherwise, MQL is a very convenient language to query the data for tree fragments.\n",
      "\n",
      "A specification of MQL can be found at the [Emdros docs page](http://emdros.org/docs.html).\n",
      "\n",
      "In order to run this notebook, you need to have the [EMDROS software](http://sourceforge.net/projects/emdros/files/) installed. It is open source and there are binaries for Windows and Mac. The ETCBC database file is included in the laf-fabric-data working directory, that you can download from my [dropbox](https://www.dropbox.com/s/1oqvb92sqn7vuml/laf-fabric-data.zip) (you have to ask [me](mailto:dirk.roorda@dans.knaw.nl) for a password)."
     ]
    },
    {
     "cell_type": "heading",
     "level": 1,
     "metadata": {},
     "source": [
      "LAF Fabric and MQL"
     ]
    },
    {
     "cell_type": "markdown",
     "metadata": {},
     "source": [
      "This notebook shows how you can integrate MQL with LAF-Fabric. This is what you can do:\n",
      "\n",
      "* write an MQL query in a code cell as a python string\n",
      "* fire that query to the EMDROS database containing the ETCBC data\n",
      "* getting the results back in the form of sets of nodes of LAF-Fabric.\n",
      "\n",
      "Because the LAF data has been migrated from the EMDROS data, we have a mapping from EMDROS object identifiers to LAF nodes.\n",
      "We apply this mapping to the query results in order to translate them to nodesets."
     ]
    },
    {
     "cell_type": "heading",
     "level": 1,
     "metadata": {},
     "source": [
      "Sheafs, straws, and grains"
     ]
    },
    {
     "cell_type": "markdown",
     "metadata": {},
     "source": [
      "An MQL query has a form like this:\n",
      "\n",
      "    select all objects\n",
      "    in {1-40}\n",
      "    where\n",
      "        [phrase\n",
      "            [word g_cons = 'H']\n",
      "            [word]\n",
      "        ]\n",
      "        ..\n",
      "        [phrase\n",
      "            [word]\n",
      "            [word]\n",
      "        ]\n",
      "\n",
      "After the ``where`` there is a sequence of objects, which in turn may contain objects.\n",
      "The query result after firing this query is a so-called *sheaf*. It is a list of results or *straws*, where each straw looks like the sequence of objects after the ``where``. These objects are the *matched objects* or *grains*.\n",
      "And here is the catch: a grain may contain a sheaf itself, because the objects inside objects also may have multiple subresults in the data.\n",
      "\n",
      "In other words: a sheaf is a recursive structure: it is a list of straws, which are lists of grains, which are monads (words) or objects containing a sheaf.\n",
      "\n",
      "The sheaf is a very economic representation of the set of tree fragments that are the result of an MQL query.\n",
      "\n",
      "Yet for some purposes it is necessary to have a list of ordinary results. We provide a method to generate results from a sheaf.\n",
      "What this method does can be thought of as making copies of the sheaf, and wherever there is a sheaf (a list of straws), it replaces the sheaf by choosing a single straw. The results correspond to all possible ways of making those choices.\n",
      "\n",
      "In other words: a ``result`` is a recursive structure: it is list of grains, which are monads (words) or objects containing a result.\n",
      "\n",
      "Put otherwise: a ``result`` is a simplified sheaf, without the aggregating level of sheaf, leaving only straws and grains."
     ]
    },
    {
     "cell_type": "heading",
     "level": 1,
     "metadata": {},
     "source": [
      "MQL API"
     ]
    },
    {
     "cell_type": "markdown",
     "metadata": {},
     "source": [
      "Inside the *etcbc* package there is a module *mql*.\n",
      "This module exposes two classes: ``MQL`` and ``Sheaf``.\n",
      "\n",
      "    from etcbc.mql import MQL\n",
      "\n",
      "You initialize the MQL object after loading LAF-Fabric by passing the API as a parameter:\n",
      "\n",
      "    Q = MQL(API)\n",
      "   \n",
      "If you have a query, e.g. the example above as a string in a variable ``query``, you can say:\n",
      "\n",
      "    sheaf = Q.mql(query)\n",
      "\n",
      "Then you have the results of the query in ``sheaf``. It is a list of lists of tuples (corresponding to *sheaf*, *straw*, *grain*),\n",
      "where a grain is either an integer, which is the node corresponding to a monad (word object), or it is a tuple ``(node, subsheaf)``, where ``node`` corresponds to an object of an other type, containing a sheaf of subobjects.\n",
      "\n",
      "``sheaf`` is an object of class ``Sheaf``, and there are the following methods in this class:\n",
      "\n",
      "* ``render(callable)``: prints out the sheaf in a pretty format, each word is rendered by applying ``callable`` to its node.\n",
      "* ``compact(callable)``: returns as string a compact representation of the sheaf, ``callable`` has the same meaning as above.\n",
      "* ``results()``: generates (as a generator) the list of results that is represented by the sheaf.\n",
      "* ``compact_results(callable)``: returns the compact representations of the results of the sheaf."
     ]
    },
    {
     "cell_type": "code",
     "collapsed": false,
     "input": [
      "import sys\n",
      "import collections\n",
      "import subprocess\n",
      "\n",
      "from lxml import etree\n",
      "\n",
      "import laf\n",
      "from laf.fabric import LafFabric\n",
      "from etcbc.preprocess import prepare\n",
      "from etcbc.mql import MQL\n",
      "fabric = LafFabric()"
     ],
     "language": "python",
     "metadata": {},
     "outputs": [
      {
       "output_type": "stream",
       "stream": "stderr",
       "text": [
        "  0.00s This is LAF-Fabric 4.4.0\n",
        "http://laf-fabric.readthedocs.org/en/latest/texts/API-reference.html\n"
       ]
      }
     ],
     "prompt_number": 1
    },
    {
     "cell_type": "code",
     "collapsed": false,
     "input": [
      "API = fabric.load('etcbc4', '--', 'mql', {\n",
      "    \"xmlids\": {\"node\": False, \"edge\": False},\n",
      "    \"features\": ('''\n",
      "        oid otype monads\n",
      "        g_word_utf8 g_cons\n",
      "        label\n",
      "    ''','''\n",
      "        functional_parent\n",
      "    '''),\n",
      "    \"prepare\": prepare,\n",
      "}, verbose='DETAIL')\n",
      "exec(fabric.localnames.format(var='fabric'))\n",
      "Q = MQL(API)"
     ],
     "language": "python",
     "metadata": {},
     "outputs": [
      {
       "output_type": "stream",
       "stream": "stderr",
       "text": [
        "  0.00s LOADING API: please wait ... \n"
       ]
      },
      {
       "output_type": "stream",
       "stream": "stderr",
       "text": [
        "  0.00s DETAIL: COMPILING m: UP TO DATE\n"
       ]
      },
      {
       "output_type": "stream",
       "stream": "stderr",
       "text": [
        "  0.00s INFO: USING DATA COMPILED AT: 2014-07-18T09-39-46\n"
       ]
      },
      {
       "output_type": "stream",
       "stream": "stderr",
       "text": [
        "  0.00s DETAIL: COMPILING a: UP TO DATE\n"
       ]
      },
      {
       "output_type": "stream",
       "stream": "stderr",
       "text": [
        "  0.01s DETAIL: load main: G.node_anchor_min\n"
       ]
      },
      {
       "output_type": "stream",
       "stream": "stderr",
       "text": [
        "  0.08s DETAIL: load main: G.node_anchor_max\n"
       ]
      },
      {
       "output_type": "stream",
       "stream": "stderr",
       "text": [
        "  0.15s DETAIL: load main: G.node_sort\n"
       ]
      },
      {
       "output_type": "stream",
       "stream": "stderr",
       "text": [
        "  0.21s DETAIL: load main: G.node_sort_inv\n"
       ]
      },
      {
       "output_type": "stream",
       "stream": "stderr",
       "text": [
        "  0.62s DETAIL: load main: G.edges_from\n"
       ]
      },
      {
       "output_type": "stream",
       "stream": "stderr",
       "text": [
        "  0.68s DETAIL: load main: G.edges_to\n"
       ]
      },
      {
       "output_type": "stream",
       "stream": "stderr",
       "text": [
        "  0.76s DETAIL: load main: F.etcbc4_db_monads [node] \n"
       ]
      },
      {
       "output_type": "stream",
       "stream": "stderr",
       "text": [
        "  1.49s DETAIL: load main: F.etcbc4_db_oid [node] \n"
       ]
      },
      {
       "output_type": "stream",
       "stream": "stderr",
       "text": [
        "  2.18s DETAIL: load main: F.etcbc4_db_otype [node] \n"
       ]
      },
      {
       "output_type": "stream",
       "stream": "stderr",
       "text": [
        "  2.86s DETAIL: load main: F.etcbc4_ft_g_cons [node] \n"
       ]
      },
      {
       "output_type": "stream",
       "stream": "stderr",
       "text": [
        "  3.06s DETAIL: load main: F.etcbc4_ft_g_word_utf8 [node] \n"
       ]
      },
      {
       "output_type": "stream",
       "stream": "stderr",
       "text": [
        "  3.39s DETAIL: load main: F.etcbc4_sft_label [node] \n"
       ]
      },
      {
       "output_type": "stream",
       "stream": "stderr",
       "text": [
        "  3.41s DETAIL: load main: F.etcbc4_ft_functional_parent [e] \n"
       ]
      },
      {
       "output_type": "stream",
       "stream": "stderr",
       "text": [
        "  3.68s DETAIL: load main: C.etcbc4_ft_functional_parent -> \n"
       ]
      },
      {
       "output_type": "stream",
       "stream": "stderr",
       "text": [
        "  4.53s DETAIL: load main: C.etcbc4_ft_functional_parent <- \n"
       ]
      },
      {
       "output_type": "stream",
       "stream": "stderr",
       "text": [
        "  5.00s LOGFILE=/Users/dirk/laf-fabric-output/etcbc4/mql/__log__mql.txt\n"
       ]
      },
      {
       "output_type": "stream",
       "stream": "stderr",
       "text": [
        "  5.00s DETAIL: prep prep: G.node_sort\n"
       ]
      },
      {
       "output_type": "stream",
       "stream": "stderr",
       "text": [
        "  5.07s DETAIL: prep prep: G.node_sort_inv\n"
       ]
      },
      {
       "output_type": "stream",
       "stream": "stderr",
       "text": [
        "  5.56s INFO: DATA LOADED FROM SOURCE etcbc4 AND ANNOX -- FOR TASK mql AT 2014-07-18T09-56-43\n"
       ]
      }
     ],
     "prompt_number": 2
    },
    {
     "cell_type": "code",
     "collapsed": false,
     "input": [
      "qu1 = '''\n",
      "select all objects where\n",
      "[subphrase\n",
      "    [word lex=\"M<FH/\"]\n",
      "]\n",
      "'''\n",
      "\n",
      "qu2 = '''\n",
      "select all objects\n",
      "in {1-40}\n",
      "where\n",
      "    [phrase\n",
      "        [word g_cons = 'H']\n",
      "        [word]\n",
      "    ]\n",
      "    ..\n",
      "    [phrase\n",
      "        [word]\n",
      "        [word]\n",
      "    ]\n",
      "'''\n",
      "qu3 = '''\n",
      "get objects having monads in {84134-8444}\n",
      "[clause get mother]\n",
      "'''\n",
      "qudo = qu2"
     ],
     "language": "python",
     "metadata": {},
     "outputs": [],
     "prompt_number": 3
    },
    {
     "cell_type": "code",
     "collapsed": false,
     "input": [
      "sheaf = Q.mql(qudo, format='xml')\n",
      "o = outfile('qudo.xml')\n",
      "o.write(sheaf.decode(encoding='utf8'))\n",
      "o.close()"
     ],
     "language": "python",
     "metadata": {},
     "outputs": [],
     "prompt_number": 12
    },
    {
     "cell_type": "code",
     "collapsed": false,
     "input": [
      "sheaf = Q.mql(qudo)\n",
      "sheaf.data"
     ],
     "language": "python",
     "metadata": {},
     "outputs": [
      {
       "metadata": {},
       "output_type": "pyout",
       "prompt_number": 4,
       "text": [
        "[[(604680, [[(5,), (6,)], [(9,), (10,)]]), (604682, [[(12,), (13,)]])],\n",
        " [(604680, [[(5,), (6,)], [(9,), (10,)]]),\n",
        "  (604684, [[(15,), (16,)], [(16,), (17,)]])],\n",
        " [(604680, [[(5,), (6,)], [(9,), (10,)]]),\n",
        "  (604687, [[(20,), (21,)], [(21,), (22,)]])],\n",
        " [(604680, [[(5,), (6,)], [(9,), (10,)]]), (604689, [[(24,), (25,)]])],\n",
        " [(604680, [[(5,), (6,)], [(9,), (10,)]]),\n",
        "  (604691, [[(27,), (28,)], [(28,), (29,)], [(29,), (30,)]])],\n",
        " [(604682, [[(12,), (13,)]]), (604684, [[(15,), (16,)], [(16,), (17,)]])],\n",
        " [(604682, [[(12,), (13,)]]), (604687, [[(20,), (21,)], [(21,), (22,)]])],\n",
        " [(604682, [[(12,), (13,)]]), (604689, [[(24,), (25,)]])],\n",
        " [(604682, [[(12,), (13,)]]),\n",
        "  (604691, [[(27,), (28,)], [(28,), (29,)], [(29,), (30,)]])]]"
       ]
      }
     ],
     "prompt_number": 4
    },
    {
     "cell_type": "code",
     "collapsed": false,
     "input": [
      "print(sheaf.compact(F.g_cons.v))"
     ],
     "language": "python",
     "metadata": {},
     "outputs": [
      {
       "output_type": "stream",
       "stream": "stdout",
       "text": [
        "[phrase 'H' 'CMJM' -- 'H' '>RY'] [phrase 'H' '>RY']\n",
        "[phrase 'H' 'CMJM' -- 'H' '>RY'] [phrase 'THW' 'W' -- 'W' 'BHW']\n",
        "[phrase 'H' 'CMJM' -- 'H' '>RY'] [phrase '<L' 'PNJ' -- 'PNJ' 'THWM']\n",
        "[phrase 'H' 'CMJM' -- 'H' '>RY'] [phrase 'RWX' '>LHJM']\n",
        "[phrase 'H' 'CMJM' -- 'H' '>RY'] [phrase '<L' 'PNJ' -- 'PNJ' 'H' -- 'H' 'MJM']\n",
        "[phrase 'H' '>RY'] [phrase 'THW' 'W' -- 'W' 'BHW']\n",
        "[phrase 'H' '>RY'] [phrase '<L' 'PNJ' -- 'PNJ' 'THWM']\n",
        "[phrase 'H' '>RY'] [phrase 'RWX' '>LHJM']\n",
        "[phrase 'H' '>RY'] [phrase '<L' 'PNJ' -- 'PNJ' 'H' -- 'H' 'MJM']\n"
       ]
      }
     ],
     "prompt_number": 15
    },
    {
     "cell_type": "code",
     "collapsed": false,
     "input": [
      "print(sheaf.compact_results(F.g_cons.v))"
     ],
     "language": "python",
     "metadata": {},
     "outputs": [
      {
       "output_type": "stream",
       "stream": "stdout",
       "text": [
        " [phrase  'H'  'CMJM']  [phrase  'H'  '>RY']\n",
        " [phrase  'H'  '>RY']  [phrase  'H'  '>RY']\n",
        " [phrase  'H'  'CMJM']  [phrase  'THW'  'W']\n",
        " [phrase  'H'  'CMJM']  [phrase  'W'  'BHW']\n",
        " [phrase  'H'  '>RY']  [phrase  'THW'  'W']\n",
        " [phrase  'H'  '>RY']  [phrase  'W'  'BHW']\n",
        " [phrase  'H'  'CMJM']  [phrase  '<L'  'PNJ']\n",
        " [phrase  'H'  'CMJM']  [phrase  'PNJ'  'THWM']\n",
        " [phrase  'H'  '>RY']  [phrase  '<L'  'PNJ']\n",
        " [phrase  'H'  '>RY']  [phrase  'PNJ'  'THWM']\n",
        " [phrase  'H'  'CMJM']  [phrase  'RWX'  '>LHJM']\n",
        " [phrase  'H'  '>RY']  [phrase  'RWX'  '>LHJM']\n",
        " [phrase  'H'  'CMJM']  [phrase  '<L'  'PNJ']\n",
        " [phrase  'H'  'CMJM']  [phrase  'PNJ'  'H']\n",
        " [phrase  'H'  'CMJM']  [phrase  'H'  'MJM']\n",
        " [phrase  'H'  '>RY']  [phrase  '<L'  'PNJ']\n",
        " [phrase  'H'  '>RY']  [phrase  'PNJ'  'H']\n",
        " [phrase  'H'  '>RY']  [phrase  'H'  'MJM']\n",
        " [phrase  'H'  '>RY']  [phrase  'THW'  'W']\n",
        " [phrase  'H'  '>RY']  [phrase  'W'  'BHW']\n",
        " [phrase  'H'  '>RY']  [phrase  '<L'  'PNJ']\n",
        " [phrase  'H'  '>RY']  [phrase  'PNJ'  'THWM']\n",
        " [phrase  'H'  '>RY']  [phrase  'RWX'  '>LHJM']\n",
        " [phrase  'H'  '>RY']  [phrase  '<L'  'PNJ']\n",
        " [phrase  'H'  '>RY']  [phrase  'PNJ'  'H']\n",
        " [phrase  'H'  '>RY']  [phrase  'H'  'MJM']\n"
       ]
      }
     ],
     "prompt_number": 16
    },
    {
     "cell_type": "code",
     "collapsed": false,
     "input": [],
     "language": "python",
     "metadata": {},
     "outputs": []
    }
   ],
   "metadata": {}
  }
 ]
}