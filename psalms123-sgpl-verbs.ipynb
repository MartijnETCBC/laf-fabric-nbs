{
 "metadata": {
  "name": "",
  "signature": "sha256:ed5fdd88f4d6416754b11e975dbab31389e9e250b6f3ebcf5d936485a35082cd"
 },
 "nbformat": 3,
 "nbformat_minor": 0,
 "worksheets": [
  {
   "cells": [
    {
     "cell_type": "code",
     "collapsed": false,
     "input": [
      "import sys\n",
      "import collections\n",
      "%load_ext autoreload\n",
      "%autoreload 2\n",
      "import laf\n",
      "from laf.fabric import LafFabric\n",
      "from etcbc.preprocess import prepare\n",
      "from etcbc.lib import Transcription, monad_set\n",
      "from etcbc.trees import Tree\n",
      "fabric = LafFabric()\n",
      "tr = Transcription()"
     ],
     "language": "python",
     "metadata": {},
     "outputs": [
      {
       "output_type": "stream",
       "stream": "stderr",
       "text": [
        "  0.00s This is LAF-Fabric 4.2.8\n",
        "http://laf-fabric.readthedocs.org/en/latest/texts/API-reference.html\n"
       ]
      }
     ],
     "prompt_number": 1
    },
    {
     "cell_type": "code",
     "collapsed": false,
     "input": [
      "API=fabric.load('bhs3', '--', 'psalms', {\n",
      "    \"xmlids\": {\"node\": False, \"edge\": False},\n",
      "    \"features\": ('''\n",
      "        oid otype monads minmonad maxmonad\n",
      "        surface_consonants text text_plain suffix\n",
      "        gender number person suffix_gender suffix_number suffix_person\n",
      "        part_of_speech phrase_dependent_part_of_speech lexeme_utf8 verse_label\n",
      "        book chapter verse\n",
      "    ''',\n",
      "    '''mother.\n",
      "    '''),\n",
      "    \"prepare\": prepare,\n",
      "}, verbose='DETAIL')\n",
      "exec(fabric.localnames.format(var='fabric'))"
     ],
     "language": "python",
     "metadata": {},
     "outputs": [
      {
       "output_type": "stream",
       "stream": "stderr",
       "text": [
        "  0.00s LOADING API: please wait ... \n"
       ]
      },
      {
       "output_type": "stream",
       "stream": "stderr",
       "text": [
        "  0.00s DETAIL: COMPILING m: UP TO DATE\n"
       ]
      },
      {
       "output_type": "stream",
       "stream": "stderr",
       "text": [
        "  0.00s INFO: DATA COMPILED AT: 2014-04-18T18-24-37\n"
       ]
      },
      {
       "output_type": "stream",
       "stream": "stderr",
       "text": [
        "  0.01s DETAIL: COMPILING a: UP TO DATE\n"
       ]
      },
      {
       "output_type": "stream",
       "stream": "stderr",
       "text": [
        "  0.03s DETAIL: keep main: G.node_anchor_min\n"
       ]
      },
      {
       "output_type": "stream",
       "stream": "stderr",
       "text": [
        "  0.03s DETAIL: keep main: G.node_anchor_max\n"
       ]
      },
      {
       "output_type": "stream",
       "stream": "stderr",
       "text": [
        "  0.03s DETAIL: keep main: G.node_sort\n"
       ]
      },
      {
       "output_type": "stream",
       "stream": "stderr",
       "text": [
        "  0.03s DETAIL: keep main: G.node_sort_inv\n"
       ]
      },
      {
       "output_type": "stream",
       "stream": "stderr",
       "text": [
        "  0.03s DETAIL: keep main: G.edges_from\n"
       ]
      },
      {
       "output_type": "stream",
       "stream": "stderr",
       "text": [
        "  0.03s DETAIL: keep main: G.edges_to\n"
       ]
      },
      {
       "output_type": "stream",
       "stream": "stderr",
       "text": [
        "  0.04s DETAIL: keep main: F.shebanq_db_maxmonad [node] \n"
       ]
      },
      {
       "output_type": "stream",
       "stream": "stderr",
       "text": [
        "  0.04s DETAIL: keep main: F.shebanq_db_minmonad [node] \n"
       ]
      },
      {
       "output_type": "stream",
       "stream": "stderr",
       "text": [
        "  0.04s DETAIL: keep main: F.shebanq_db_monads [node] \n"
       ]
      },
      {
       "output_type": "stream",
       "stream": "stderr",
       "text": [
        "  0.04s DETAIL: keep main: F.shebanq_db_oid [node] \n"
       ]
      },
      {
       "output_type": "stream",
       "stream": "stderr",
       "text": [
        "  0.04s DETAIL: keep main: F.shebanq_db_otype [node] \n"
       ]
      },
      {
       "output_type": "stream",
       "stream": "stderr",
       "text": [
        "  0.04s DETAIL: keep main: F.shebanq_ft_gender [node] \n"
       ]
      },
      {
       "output_type": "stream",
       "stream": "stderr",
       "text": [
        "  0.04s DETAIL: keep main: F.shebanq_ft_lexeme_utf8 [node] \n"
       ]
      },
      {
       "output_type": "stream",
       "stream": "stderr",
       "text": [
        "  0.04s DETAIL: keep main: F.shebanq_ft_number [node] \n"
       ]
      },
      {
       "output_type": "stream",
       "stream": "stderr",
       "text": [
        "  0.04s DETAIL: keep main: F.shebanq_ft_part_of_speech [node] \n"
       ]
      },
      {
       "output_type": "stream",
       "stream": "stderr",
       "text": [
        "  0.04s DETAIL: keep main: F.shebanq_ft_person [node] \n"
       ]
      },
      {
       "output_type": "stream",
       "stream": "stderr",
       "text": [
        "  0.04s DETAIL: keep main: F.shebanq_ft_phrase_dependent_part_of_speech [node] \n"
       ]
      },
      {
       "output_type": "stream",
       "stream": "stderr",
       "text": [
        "  0.04s DETAIL: keep main: F.shebanq_ft_suffix [node] \n"
       ]
      },
      {
       "output_type": "stream",
       "stream": "stderr",
       "text": [
        "  0.05s DETAIL: keep main: F.shebanq_ft_suffix_gender [node] \n"
       ]
      },
      {
       "output_type": "stream",
       "stream": "stderr",
       "text": [
        "  0.05s DETAIL: keep main: F.shebanq_ft_suffix_number [node] \n"
       ]
      },
      {
       "output_type": "stream",
       "stream": "stderr",
       "text": [
        "  0.05s DETAIL: keep main: F.shebanq_ft_suffix_person [node] \n"
       ]
      },
      {
       "output_type": "stream",
       "stream": "stderr",
       "text": [
        "  0.05s DETAIL: keep main: F.shebanq_ft_surface_consonants [node] \n"
       ]
      },
      {
       "output_type": "stream",
       "stream": "stderr",
       "text": [
        "  0.05s DETAIL: keep main: F.shebanq_ft_text [node] \n"
       ]
      },
      {
       "output_type": "stream",
       "stream": "stderr",
       "text": [
        "  0.05s DETAIL: keep main: F.shebanq_ft_text_plain [node] \n"
       ]
      },
      {
       "output_type": "stream",
       "stream": "stderr",
       "text": [
        "  0.05s DETAIL: keep main: F.shebanq_sft_book [node] \n"
       ]
      },
      {
       "output_type": "stream",
       "stream": "stderr",
       "text": [
        "  0.05s DETAIL: keep main: F.shebanq_sft_chapter [node] \n"
       ]
      },
      {
       "output_type": "stream",
       "stream": "stderr",
       "text": [
        "  0.05s DETAIL: keep main: F.shebanq_sft_verse [node] \n"
       ]
      },
      {
       "output_type": "stream",
       "stream": "stderr",
       "text": [
        "  0.05s DETAIL: keep main: F.shebanq_mother_ [e] \n"
       ]
      },
      {
       "output_type": "stream",
       "stream": "stderr",
       "text": [
        "  0.05s DETAIL: keep main: C.shebanq_mother_ -> \n"
       ]
      },
      {
       "output_type": "stream",
       "stream": "stderr",
       "text": [
        "  0.06s DETAIL: keep main: C.shebanq_mother_ <- \n"
       ]
      },
      {
       "output_type": "stream",
       "stream": "stderr",
       "text": [
        "  0.06s DETAIL: load main: F.shebanq_sft_verse_label [node] \n"
       ]
      },
      {
       "output_type": "stream",
       "stream": "stderr",
       "text": [
        "  0.16s LOGFILE=C:\\Users\\Gino/laf-fabric-data/bhs3/tasks/psalms/__log__psalms.txt\n"
       ]
      },
      {
       "output_type": "stream",
       "stream": "stderr",
       "text": [
        "  0.16s DETAIL: prep prep: G.node_sort\n"
       ]
      },
      {
       "output_type": "stream",
       "stream": "stderr",
       "text": [
        "  0.29s DETAIL: prep prep: G.node_sort_inv\n"
       ]
      },
      {
       "output_type": "stream",
       "stream": "stderr",
       "text": [
        "  1.12s INFO: DATA LOADED FROM SOURCE bhs3 AND ANNOX -- FOR TASK psalms\n"
       ]
      }
     ],
     "prompt_number": 52
    },
    {
     "cell_type": "code",
     "collapsed": false,
     "input": [
      "def two_dec_perc(n, total):\n",
      "    return round(n / total * 100, 2)\n",
      "\n",
      "def write_to_file(f, label, verses, total):\n",
      "    f.write(\";{};{};{}%;{}\\n\".format(label, len(verses), two_dec_perc(len(verses), total), ', '.join(verses)))\n",
      "    \n",
      "def write_totals(f, label, number, totals):\n",
      "    f.write(\"{};{};{}%\\n\".format(label, number, two_dec_perc(number, totals)))\n",
      "    \n",
      "def analyze_psalms():\n",
      "    verb_lemmas = []\n",
      "    verse = \"\"\n",
      "    pngFile = outfile('PNGOfVerbsInPsalmsNew.csv')\n",
      "    inPsalms = False\n",
      "    firstSgVerbs = collections.defaultdict(list)\n",
      "    firstPlVerbs = collections.defaultdict(list)\n",
      "    secondSgMscVerbs = collections.defaultdict(list)\n",
      "    secondSgFemVerbs = collections.defaultdict(list)\n",
      "    secondPlMscVerbs = collections.defaultdict(list)\n",
      "    secondPlFemVerbs = collections.defaultdict(list)\n",
      "    thirdSgMscVerbs = collections.defaultdict(list)\n",
      "    thirdSgFemVerbs = collections.defaultdict(list)\n",
      "    thirdPlMscVerbs = collections.defaultdict(list)\n",
      "    thirdPlFemVerbs = collections.defaultdict(list)\n",
      "    otherFormType = collections.defaultdict(list)\n",
      "    \n",
      "    totalFirstSg = totalFirstPl = totalSecondSgMsc = totalSecondSgFem = totalSecondPlMsc = totalSecondPlFem = totalThirdSgMsc = totalThirdSgFem = totalThirdPlMsc = totalThirdPlFem = totalOtherFormType = totals = 0\n",
      "    \n",
      "    for node in NN():\n",
      "        otype = F.otype.v(node)\n",
      "        if otype == 'book':\n",
      "            if F.book.v(node) == \"Psalms\":\n",
      "                inPsalms = True\n",
      "            else:\n",
      "                inPsalms = False\n",
      "        elif otype == 'verse':\n",
      "            verse = F.verse_label.v(node)\n",
      "        elif inPsalms and otype == \"word\":\n",
      "            if F.phrase_dependent_part_of_speech.v(node) == \"verb\":\n",
      "                lemma = F.lexeme_utf8.v(node)\n",
      "                if lemma not in verb_lemmas:\n",
      "                    verb_lemmas.append(lemma)\n",
      "                    \n",
      "                person = F.person.v(node)\n",
      "                number = F.number.v(node)\n",
      "                gender = F.gender.v(node)\n",
      "                if person == \"first_person\":\n",
      "                    if number == \"singular\":\n",
      "                        firstSgVerbs[lemma].append(verse)\n",
      "                        totalFirstSg += 1\n",
      "                    else:\n",
      "                        firstPlVerbs[lemma].append(verse)\n",
      "                        totalFirstPl += 1\n",
      "                elif person == \"second_person\":\n",
      "                    if number == \"singular\":\n",
      "                        if gender == \"feminine\":\n",
      "                            secondSgFemVerbs[lemma].append(verse)\n",
      "                            totalSecondSgFem += 1\n",
      "                        else:\n",
      "                            secondSgMscVerbs[lemma].append(verse)\n",
      "                            totalSecondSgMsc += 1\n",
      "                    else:\n",
      "                        if gender == \"feminine\":\n",
      "                            secondPlFemVerbs[lemma].append(verse)\n",
      "                            totalSecondPlFem += 1\n",
      "                        else:\n",
      "                            secondPlMscVerbs[lemma].append(verse)\n",
      "                            totalSecondPlMsc += 1\n",
      "                elif person == \"third_person\":\n",
      "                    if number == \"singular\":\n",
      "                        if gender == \"feminine\":\n",
      "                            thirdSgFemVerbs[lemma].append(verse)\n",
      "                            totalThirdSgFem += 1\n",
      "                        else:\n",
      "                            thirdSgMscVerbs[lemma].append(verse)\n",
      "                            totalThirdSgMsc += 1\n",
      "                    else:\n",
      "                        if gender == \"feminine\":\n",
      "                            thirdPlFemVerbs[lemma].append(verse)\n",
      "                            totalThirdPlFem += 1\n",
      "                        else:\n",
      "                            thirdPlMscVerbs[lemma].append(verse)\n",
      "                            totalThirdPlMsc += 1\n",
      "                else:\n",
      "                    otherFormType[lemma].append(verse)\n",
      "                    totalOtherFormType += 1\n",
      "                totals += 1\n",
      "            \n",
      "    for v in verb_lemmas:\n",
      "        totalOccurrences = len(firstSgVerbs[v]) + len(firstPlVerbs[v]) + len(secondSgMscVerbs[v]) + len(secondSgFemVerbs[v]) + len(secondPlMscVerbs[v]) + len(secondPlFemVerbs[v]) + len(thirdSgMscVerbs[v]) + len(thirdSgFemVerbs[v]) + len(thirdPlMscVerbs[v]) + len(thirdPlFemVerbs[v]) + len(otherFormType[v])\n",
      "        pngFile.write(\"{}\".format(v))\n",
      "        write_to_file(pngFile, \"1sg\", firstSgVerbs[v], totalOccurrences)\n",
      "        write_to_file(pngFile, \"1pl\", firstPlVerbs[v], totalOccurrences)\n",
      "        write_to_file(pngFile, \"2Msg\", secondSgMscVerbs[v], totalOccurrences)\n",
      "        write_to_file(pngFile, \"2Fsg\", secondSgFemVerbs[v], totalOccurrences)\n",
      "        write_to_file(pngFile, \"2Mpl\", secondPlMscVerbs[v], totalOccurrences)\n",
      "        write_to_file(pngFile, \"2Fpl\", secondPlFemVerbs[v], totalOccurrences)\n",
      "        write_to_file(pngFile, \"3Msg\", thirdSgMscVerbs[v], totalOccurrences)\n",
      "        write_to_file(pngFile, \"3Fsg\", thirdSgFemVerbs[v], totalOccurrences)\n",
      "        write_to_file(pngFile, \"3Mpl\", thirdPlMscVerbs[v], totalOccurrences)\n",
      "        write_to_file(pngFile, \"3Fpl\", thirdPlFemVerbs[v], totalOccurrences)\n",
      "        write_to_file(pngFile, \"Other\", otherFormType[v], totalOccurrences)\n",
      "        pngFile.write(\";{};{};{}\\n\\n\".format(\"Total\", totalOccurrences, totalOccurrences/totals * 100))\n",
      "        \n",
      "    write_totals(pngFile, \"Total 1sg\", totalFirstSg, totals)\n",
      "    write_totals(pngFile, \"Total 1pl\", totalFirstPl, totals)\n",
      "    write_totals(pngFile, \"Total 2Msg\", totalSecondSgMsc, totals)\n",
      "    write_totals(pngFile, \"Total 2Fsg\", totalSecondSgFem, totals)\n",
      "    write_totals(pngFile, \"Total 2Mpl\", totalSecondPlMsc, totals)\n",
      "    write_totals(pngFile, \"Total 2Fpl\", totalSecondPlFem, totals)\n",
      "    write_totals(pngFile, \"Total 3Msg\", totalThirdSgMsc, totals)\n",
      "    write_totals(pngFile, \"Total 3Fsg\", totalThirdSgFem, totals)\n",
      "    write_totals(pngFile, \"Total 3Mpl\", totalThirdPlMsc, totals)\n",
      "    write_totals(pngFile, \"Total 3Fpl\", totalThirdPlFem, totals)\n",
      "    write_totals(pngFile, \"Total non-finite forms\", totalOtherFormType, totals)\n",
      "    write_totals(pngFile, \"Totals\", totals, totals)\n",
      "                                                                  \n",
      "    pngFile.close()"
     ],
     "language": "python",
     "metadata": {},
     "outputs": [],
     "prompt_number": 65
    },
    {
     "cell_type": "code",
     "collapsed": false,
     "input": [
      "analyze_psalms()"
     ],
     "language": "python",
     "metadata": {},
     "outputs": [],
     "prompt_number": 66
    },
    {
     "cell_type": "code",
     "collapsed": false,
     "input": [],
     "language": "python",
     "metadata": {},
     "outputs": []
    }
   ],
   "metadata": {}
  }
 ]
}