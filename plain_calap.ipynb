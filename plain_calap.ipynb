{
 "metadata": {
  "name": "",
  "signature": "sha256:570e527982efab5515d3383360bb35ca478e3992e096e83763154f884c49df98"
 },
 "nbformat": 3,
 "nbformat_minor": 0,
 "worksheets": [
  {
   "cells": [
    {
     "cell_type": "markdown",
     "metadata": {},
     "source": [
      "<a href=\"http://laf-fabric.readthedocs.org/en/latest/\" target=\"_blank\"><img align=\"left\" src=\"images/laf-fabric-xsmall.png\"/></a>\n",
      "<a href=\"http://www.godgeleerdheid.vu.nl/etcbc\" target=\"_blank\"><img align=\"left\" src=\"images/VU-ETCBC-xsmall.png\"/></a>\n",
      "<a href=\"http://tla.mpi.nl\" target=\"_blank\"><img align=\"right\" src=\"images/TLA-xsmall.png\"/></a>\n",
      "<a href=\"http://www.dans.knaw.nl\" target=\"_blank\"><img align=\"right\"src=\"images/DANS-xsmall.png\"/></a>"
     ]
    },
    {
     "cell_type": "heading",
     "level": 1,
     "metadata": {},
     "source": [
      "Plain Text"
     ]
    },
    {
     "cell_type": "heading",
     "level": 1,
     "metadata": {},
     "source": [
      "Text from features"
     ]
    },
    {
     "cell_type": "markdown",
     "metadata": {},
     "source": [
      "Here comes the plain text of the CALAP data.\n",
      "\n",
      "The CALAP database only contains the surface consonants as textual representation."
     ]
    },
    {
     "cell_type": "code",
     "collapsed": false,
     "input": [
      "import sys\n",
      "import collections\n",
      "\n",
      "from etcbc.lib import Transcription\n",
      "from laf.fabric import LafFabric\n",
      "fabric = LafFabric()"
     ],
     "language": "python",
     "metadata": {},
     "outputs": [
      {
       "output_type": "stream",
       "stream": "stderr",
       "text": [
        "  0.00s This is LAF-Fabric 4.2.3\n",
        "http://laf-fabric.readthedocs.org/texts/API-reference.html\n"
       ]
      }
     ],
     "prompt_number": 3
    },
    {
     "cell_type": "code",
     "collapsed": false,
     "input": [
      "fabric.load('calap', '--', 'plain', {\n",
      "    \"xmlids\": {\"node\": False, \"edge\": False},\n",
      "    \"features\": ('''\n",
      "        otype\n",
      "        surface_consonants\n",
      "        psp\n",
      "        book chapter verse verse_label\n",
      "    ''',''),\n",
      "    \"primary\": True,\n",
      "})\n",
      "exec(fabric.localnames.format(var='fabric'))"
     ],
     "language": "python",
     "metadata": {},
     "outputs": [
      {
       "output_type": "stream",
       "stream": "stderr",
       "text": [
        "  0.00s LOADING API: please wait ... \n"
       ]
      },
      {
       "output_type": "stream",
       "stream": "stderr",
       "text": [
        "  0.00s INFO: DATA COMPILED AT: 2014-04-18T18-10-30\n"
       ]
      },
      {
       "output_type": "stream",
       "stream": "stderr",
       "text": [
        "  0.29s LOGFILE=/Users/dirk/laf-fabric-data/calap/tasks/plain/__log__plain.txt\n"
       ]
      },
      {
       "output_type": "stream",
       "stream": "stderr",
       "text": [
        "  0.29s INFO: DATA LOADED FROM SOURCE calap AND ANNOX -- FOR TASK plain\n"
       ]
      }
     ],
     "prompt_number": 4
    },
    {
     "cell_type": "code",
     "collapsed": false,
     "input": [
      "plain_file = outfile(\"calap_plain.txt\")\n",
      "\n",
      "tr = Transcription()\n",
      "catalog = set()\n",
      "for i in F.otype.s('word'):\n",
      "    sf = F.surface_consonants.v(i)\n",
      "    for x in sf: catalog.add(x)\n",
      "    the_text = tr.to_syriac(sf)\n",
      "    plain_file.write(the_text + ' ')\n",
      "\n",
      "plain_file.close()\n",
      "print(','.join(sorted(catalog)))"
     ],
     "language": "python",
     "metadata": {},
     "outputs": [
      {
       "output_type": "stream",
       "stream": "stdout",
       "text": [
        "<,>,B,C,D,G,H,J,K,L,M,N,P,Q,R,S,T,V,W,X,Y,Z\n"
       ]
      }
     ],
     "prompt_number": 5
    },
    {
     "cell_type": "markdown",
     "metadata": {},
     "source": [
      "This file does not have newlines, it is a blob of consonant transcriptions for each word separated by spaces."
     ]
    },
    {
     "cell_type": "heading",
     "level": 2,
     "metadata": {},
     "source": [
      "Passage indicators"
     ]
    },
    {
     "cell_type": "markdown",
     "metadata": {},
     "source": [
      "If you want books, chapters and verses marked, you can achieve it in the following way:"
     ]
    },
    {
     "cell_type": "code",
     "collapsed": false,
     "input": [
      "plainx_file = outfile(\"calap_plainx.txt\")\n",
      "\n",
      "the_book = None\n",
      "the_chapter = None\n",
      "the_verse = None\n",
      "\n",
      "for i in NN():\n",
      "    this_type = F.otype.v(i)\n",
      "    if this_type == \"word\":\n",
      "        the_text = tr.to_syriac(F.surface_consonants.v(i))\n",
      "        the_suffix = ' '\n",
      "        plainx_file.write(the_text + the_suffix)\n",
      "    elif this_type == \"book\":\n",
      "        the_book = F.book.v(i)\n",
      "        sys.stderr.write(\"\\r{:>6} {:<30}\".format(i, the_book)) \n",
      "        plainx_file.write(\"\\n{}\".format(the_book))\n",
      "    elif this_type == \"chapter\":\n",
      "        the_chapter = F.chapter.v(i)\n",
      "        plainx_file.write(\"\\n{} {}\".format(the_book, the_chapter))\n",
      "    elif this_type == \"verse\":\n",
      "        the_verse = F.verse.v(i)\n",
      "        plainx_file.write(\"\\n{}:{} \".format(the_chapter, the_verse))\n",
      "sys.stderr.write(\"\\n\")\n",
      "\n",
      "plainx_file.close()"
     ],
     "language": "python",
     "metadata": {},
     "outputs": [
      {
       "output_type": "stream",
       "stream": "stderr",
       "text": [
        "\r",
        "141611 I_Kings                       \r",
        "141612 II_Kings                      "
       ]
      },
      {
       "output_type": "stream",
       "stream": "stderr",
       "text": [
        "\r",
        "141613 Sirach                        \n"
       ]
      }
     ],
     "prompt_number": 6
    },
    {
     "cell_type": "markdown",
     "metadata": {},
     "source": [
      "In order to show the syriac text, you need to install a font that has glyphs for the syriac unicode characters (0700 - 074F).\n",
      "For example: Estrangelo Edessa from [Meltho](http://www.bethmardutho.org/index.php/resources/fonts.html)."
     ]
    },
    {
     "cell_type": "code",
     "collapsed": false,
     "input": [
      "!head -n 10 {my_file('calap_plainx.txt')}"
     ],
     "language": "python",
     "metadata": {},
     "outputs": [
      {
       "output_type": "stream",
       "stream": "stdout",
       "text": [
        "\r\n",
        "I_Kings\r\n",
        "I_Kings 1\r\n",
        "1:1 \u0718 \u0721\u0720\u071f\u0710 \u0715\u0718\u071d\u0715 \u0723\u0710\u0712 \u0718 \u0725\u0720 \u0712 \u072b\u0722\u071d\u0710 \u0718 \u0721\u071f\u0723\u071d\u0722 \u0717\u0718\u0718 \u0720\u0717 \u0712 \u0720\u0712\u0718\u072b\u0710 \u0718 \u0720\u0710 \u072b\u071a\u0722 \r\n",
        "1:2 \u0718 \u0710\u0721\u072a\u0718 \u0720\u0717 \u0725\u0712\u0715\u0718\u0717\u071d \u0717\u0710 \u0725\u0712\u0715\u071d\u071f \u0729\u0715\u0721\u071d\u071f \u0722\u0712\u0725\u0718\u0722 \u0720 \u0721\u072a\u0722 \u0721\u0720\u071f\u0710 \u0725\u0720\u071d\u0721\u072c\u0710 \u0712\u072c\u0718\u0720\u072c\u0710 \u0718 \u072c\u0729\u0718\u0721 \u0729\u0715\u0721 \u0721\u0720\u071f\u0710 \u0718 \u072c\u0717\u0718\u0710 \u0720\u0717 \u0721\u072b\u0721\u072b\u0722\u071d\u072c\u0710 \u0718 \u072c\u072b\u071f\u0712 \u0712 \u0725\u0718\u0712\u071f \u0718 \u0722\u072b\u071a\u0722 \u0720 \u0721\u072a\u0722 \u0721\u0720\u071f\u0710 \r\n",
        "1:3 \u0718 \u0712\u0725\u0718 \u0725\u0720\u071d\u0721\u072c\u0710 \u0715 \u072b\u0726\u071d\u072a\u0710 \u0712 \u071f\u0720\u0717 \u072c\u071a\u0718\u0721\u0710 \u0715 \u0710\u071d\u0723\u072a\u071d\u0720 \u0718 \u0710\u072b\u071f\u071a\u0718 \u0720 \u0710\u0712\u071d\u072b\u0713 \u072b\u071d\u0720\u0718\u0721\u071d\u072c\u0710 \u0718 \u0710\u071d\u072c\u071d\u0718\u0717 \u0720 \u0721\u0720\u071f\u0710 \r\n",
        "1:4 \u0718 \u0725\u0720\u071d\u0721\u072c\u0710 \u072b\u0726\u071d\u072a\u0710 \u0717\u0718\u072c \u0712 \u071a\u0719\u0718\u0717 \u071b\u0712 \u0718 \u0717\u0718\u072c \u0720 \u0721\u0720\u071f\u0710 \u0721\u072b\u0721\u072b\u0722\u071d\u072c\u0710 \u0718 \u0721\u072b\u0721\u072b\u0710 \u0720\u0717 \u0718 \u0721\u0720\u071f\u0710 \u0720\u0710 \u071d\u0715\u0725\u0717 \r\n",
        "1:5 \u0718 \u0710\u0715\u0718\u0722\u071d\u0710 \u0712\u072a \u071a\u0713\u071d\u072c \u0721\u072c\u072a\u0718\u072a\u0712 \u0718 \u0710\u0721\u072a \u0710\u0722\u0710 \u0710\u0721\u0720\u071f \u0718 \u0725\u0712\u0715 \u0720\u0717 \u0721\u072a\u071f\u0712\u072c\u0710 \u0718 \u0726\u072a\u072b\u0710 \u0718 \u071a\u0721\u072b\u071d\u0722 \u0713\u0712\u072a\u071d\u0722 \u0715 \u072a\u0717\u071b\u071d\u0722 \u0717\u0718\u0718 \u0729\u0715\u0721\u0718\u0717\u071d \r\n",
        "1:6 \u0718 \u0720\u0710 \u071f\u0710\u0710 \u0712\u0717 \u0710\u0712\u0718\u0717\u071d \u0721\u0722 \u071d\u0718\u0721\u0718\u0717\u071d \u0718 \u0710\u0721\u072a \u0720\u0717 \u0721\u071b\u0720 \u0721\u0722\u0710 \u0717\u071f\u0722\u0710 \u0725\u0712\u0715 \u0710\u0722\u072c \u0718 \u0710\u0726 \u0717\u0718 \u072b\u0726\u071d\u072a \u0717\u0718\u0710 \u0712 \u071a\u0719\u0718\u0717 \u071b\u0712 \u0718 \u0720\u0717 \u071d\u0720\u0715\u072c \u0712\u072c\u072a \u0710\u0712\u072b\u0720\u0718\u0721 \r",
        "\r\n",
        "1:7 \u0718 \u0717\u0718\u0718 \u0726\u072c\u0713\u0721\u0718\u0717\u071d \u0725\u0721 \u071d\u0718\u0710\u0712 \u0712\u072a \u0728\u0718\u072a\u071d\u0710 \u0718 \u0725\u0721 \u0710\u0712\u071d\u072c\u072a \u071f\u0717\u0722\u0710 \u0718 \u0721\u0725\u0715\u072a\u071d\u0722 \u0712\u072c\u072a \u0710\u0715\u0718\u0722\u071d\u0710 \r\n"
       ]
      }
     ],
     "prompt_number": 7
    },
    {
     "cell_type": "markdown",
     "metadata": {},
     "source": [
      "If you are in an environment where you do not have this font installed, here is a screenshot:\n",
      "<img align=\"left\" src=\"images/1kings-syriac-shot.png\"/></a>"
     ]
    },
    {
     "cell_type": "heading",
     "level": 2,
     "metadata": {},
     "source": [
      "Verse list"
     ]
    },
    {
     "cell_type": "markdown",
     "metadata": {},
     "source": [
      "We can get the text in a quite different way: just read it from the *primary data*.\n",
      "\n",
      "Let us do that per verse."
     ]
    },
    {
     "cell_type": "code",
     "collapsed": false,
     "input": [
      "verse_file = outfile(\"calap_verses.txt\")\n",
      "\n",
      "for i in F.otype.s('verse'):\n",
      "    the_text = tr.to_syriac(''.join([txt for (j, txt) in P.data(i)]))\n",
      "    the_verse = F.verse_label.v(i)\n",
      "    verse_file.write(\"{}\\n{}\\n\".format(the_verse, the_text))\n",
      "\n",
      "verse_file.close()"
     ],
     "language": "python",
     "metadata": {},
     "outputs": [],
     "prompt_number": 10
    },
    {
     "cell_type": "code",
     "collapsed": false,
     "input": [
      "!head -n 10 {my_file('calap_verses.txt')}"
     ],
     "language": "python",
     "metadata": {},
     "outputs": [
      {
       "output_type": "stream",
       "stream": "stdout",
       "text": [
        "1R 1,1\r\n",
        "\u0718 \u0721\u0720\u071f\u0710 \u0715\u0718\u071d\u0715 \u0723\u0710\u0712 \u0718 \u0725\u0720 \u0712 \u072b\u0722\u071d\u0710 \u0718 \u0721\u071f\u0723\u071d\u0722 \u0717\u0718\u0718 \u0720\u0717 \u0712 \u0720\u0712\u0718\u072b\u0710 \u0718 \u0720\u0710 \u072b\u071a\u0722 \r\n",
        "1R 1,2\r\n",
        "\u0718 \u0710\u0721\u072a\u0718 \u0720\u0717 \u0725\u0712\u0715\u0718\u0717\u071d \u0717\u0710 \u0725\u0712\u0715\u071d\u071f \u0729\u0715\u0721\u071d\u071f \u0722\u0712\u0725\u0718\u0722 \u0720 \u0721\u072a\u0722 \u0721\u0720\u071f\u0710 \u0725\u0720\u071d\u0721\u072c\u0710 \u0712\u072c\u0718\u0720\u072c\u0710 \u0718 \u072c\u0729\u0718\u0721 \u0729\u0715\u0721 \u0721\u0720\u071f\u0710 \u0718 \u072c\u0717\u0718\u0710 \u0720\u0717 \u0721\u072b\u0721\u072b\u0722\u071d\u072c\u0710 \u0718 \u072c\u072b\u071f\u0712 \u0712 \u0725\u0718\u0712\u071f \u0718 \u0722\u072b\u071a\u0722 \u0720 \u0721\u072a\u0722 \u0721\u0720\u071f\u0710 \r\n",
        "1R 1,3\r\n",
        "\u0718 \u0712\u0725\u0718 \u0725\u0720\u071d\u0721\u072c\u0710 \u0715 \u072b\u0726\u071d\u072a\u0710 \u0712 \u071f\u0720\u0717 \u072c\u071a\u0718\u0721\u0710 \u0715 \u0710\u071d\u0723\u072a\u071d\u0720 \u0718 \u0710\u072b\u071f\u071a\u0718 \u0720 \u0710\u0712\u071d\u072b\u0713 \u072b\u071d\u0720\u0718\u0721\u071d\u072c\u0710 \u0718 \u0710\u071d\u072c\u071d\u0718\u0717 \u0720 \u0721\u0720\u071f\u0710 \r\n",
        "1R 1,4\r\n",
        "\u0718 \u0725\u0720\u071d\u0721\u072c\u0710 \u072b\u0726\u071d\u072a\u0710 \u0717\u0718\u072c \u0712 \u071a\u0719\u0718\u0717 \u071b\u0712 \u0718 \u0717\u0718\u072c \u0720 \u0721\u0720\u071f\u0710 \u0721\u072b\u0721\u072b\u0722\u071d\u072c\u0710 \u0718 \u0721\u072b\u0721\u072b\u0710 \u0720\u0717 \u0718 \u0721\u0720\u071f\u0710 \u0720\u0710 \u071d\u0715\u0725\u0717 \r\n",
        "1R 1,5\r\n",
        "\u0718 \u0710\u0715\u0718\u0722\u071d\u0710 \u0712\u072a \u071a\u0713\u071d\u072c \u0721\u072c\u072a\u0718\u072a\u0712 \u0718 \u0710\u0721\u072a \u0710\u0722\u0710 \u0710\u0721\u0720\u071f \u0718 \u0725\u0712\u0715 \u0720\u0717 \u0721\u072a\u071f\u0712\u072c\u0710 \u0718 \u0726\u072a\u072b\u0710 \u0718 \u071a\u0721\u072b\u071d\u0722 \u0713\u0712\u072a\u071d\u0722 \u0715 \u072a\u0717\u071b\u071d\u0722 \u0717\u0718\u0718 \u0729\u0715\u0721\u0718\u0717\u071d \r\n"
       ]
      }
     ],
     "prompt_number": 11
    },
    {
     "cell_type": "heading",
     "level": 2,
     "metadata": {},
     "source": [
      "Empty words"
     ]
    },
    {
     "cell_type": "markdown",
     "metadata": {},
     "source": [
      "In the BHS there are words that have an empty representation.\n",
      "\n",
      "Let us have a closer look to the CALAP.\n",
      "Are there empty words?"
     ]
    },
    {
     "cell_type": "code",
     "collapsed": false,
     "input": [
      "ewords = collections.defaultdict(lambda: [])\n",
      "verse = None\n",
      "\n",
      "for i in NN(test=F.otype.v, values=['verse', 'word']):\n",
      "    if F.otype.v(i) == 'verse':\n",
      "        verse = i\n",
      "        continue\n",
      "    text = F.surface_consonants.v(i)\n",
      "    if text == '':\n",
      "        lex = lexeme.v(i)\n",
      "        pos = F.psp.v(i)\n",
      "        ewords[(lex, pos)].append(verse)\n",
      "\n",
      "for (item, occs) in sorted(ewords.items(), key=lambda x: (-len(x[1]), x[0][1], x[0][0])):\n",
      "    print(\"{:>6} x {:<15} = {:>10} in {}{}\".format(\n",
      "        len(occs), \n",
      "        item[1], \n",
      "        item[0], \n",
      "        \"; \".join([F.verse_label.v(j) for j in occs][0:5]),\n",
      "        ' ...' if len(occs) > 20 else '',\n",
      "    ))\n",
      "if not len(ewords):\n",
      "    print(\"No empty words found\")"
     ],
     "language": "python",
     "metadata": {},
     "outputs": [
      {
       "output_type": "stream",
       "stream": "stdout",
       "text": [
        "No empty words found\n"
       ]
      }
     ],
     "prompt_number": 12
    },
    {
     "cell_type": "code",
     "collapsed": false,
     "input": [
      "close()"
     ],
     "language": "python",
     "metadata": {},
     "outputs": [
      {
       "output_type": "stream",
       "stream": "stderr",
       "text": [
        " 1h 08m 47s Results directory:\n",
        "/Users/dirk/laf-fabric-data/calap/tasks/plain\n"
       ]
      },
      {
       "output_type": "stream",
       "stream": "stderr",
       "text": [
        "\n",
        ".DS_Store                              6148 Thu Apr 17 18:26:31 2014\n",
        "__log__plain.txt                        181 Tue Apr 22 09:48:30 2014\n",
        "calap_plain.txt                      380716 Tue Apr 22 08:39:49 2014\n",
        "calap_plainx.txt                     399490 Tue Apr 22 08:40:20 2014\n",
        "calap_verses.txt                     408012 Tue Apr 22 09:48:13 2014\n"
       ]
      }
     ],
     "prompt_number": 13
    },
    {
     "cell_type": "code",
     "collapsed": false,
     "input": [],
     "language": "python",
     "metadata": {},
     "outputs": []
    }
   ],
   "metadata": {}
  }
 ]
}