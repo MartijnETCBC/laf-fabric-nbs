{
 "metadata": {
  "name": "",
  "signature": "sha256:2992ecc80920eb3fe50abbfd4c31d9a00bfe50ec056de846c48996a712c60ba0"
 },
 "nbformat": 3,
 "nbformat_minor": 0,
 "worksheets": [
  {
   "cells": [
    {
     "cell_type": "markdown",
     "metadata": {},
     "source": [
      "<a href=\"http://laf-fabric.readthedocs.org/en/latest/\" target=\"_blank\"><img align=\"left\" src=\"images/laf-fabric-xsmall.png\"/></a>\n",
      "<a href=\"http://www.godgeleerdheid.vu.nl/etcbc\" target=\"_blank\"><img align=\"left\" src=\"images/VU-ETCBC-xsmall.png\"/></a>\n",
      "<a href=\"http://tla.mpi.nl\" target=\"_blank\"><img align=\"right\" src=\"images/TLA-xsmall.png\"/></a>\n",
      "<a href=\"http://www.dans.knaw.nl\" target=\"_blank\"><img align=\"right\"src=\"images/DANS-xsmall.png\"/></a>"
     ]
    },
    {
     "cell_type": "heading",
     "level": 1,
     "metadata": {},
     "source": [
      "Plain Text"
     ]
    },
    {
     "cell_type": "heading",
     "level": 1,
     "metadata": {},
     "source": [
      "Text from features"
     ]
    },
    {
     "cell_type": "markdown",
     "metadata": {},
     "source": [
      "Here comes the plain text of the CALAP data.\n",
      "\n",
      "The CALAP database only contains the surface consonants as textual representation."
     ]
    },
    {
     "cell_type": "code",
     "collapsed": false,
     "input": [
      "import sys\n",
      "import collections\n",
      "\n",
      "from etcbc.lib import Transcription\n",
      "from laf.fabric import LafFabric\n",
      "fabric = LafFabric()"
     ],
     "language": "python",
     "metadata": {},
     "outputs": [
      {
       "output_type": "stream",
       "stream": "stderr",
       "text": [
        "  0.00s This is LAF-Fabric 4.2.2\n",
        "http://laf-fabric.readthedocs.org/texts/API-reference.html\n"
       ]
      }
     ],
     "prompt_number": 2
    },
    {
     "cell_type": "code",
     "collapsed": false,
     "input": [
      "fabric.load('calap', '--', 'plain', {\n",
      "    \"xmlids\": {\"node\": False, \"edge\": False},\n",
      "    \"features\": ('''\n",
      "        otype\n",
      "        surface_consonants\n",
      "        psp\n",
      "        book chapter verse verse_label\n",
      "    ''',''),\n",
      "    \"primary\": True,\n",
      "})\n",
      "exec(fabric.localnames.format(var='fabric'))"
     ],
     "language": "python",
     "metadata": {},
     "outputs": [
      {
       "output_type": "stream",
       "stream": "stderr",
       "text": [
        "  0.00s LOADING API: please wait ... \n"
       ]
      },
      {
       "output_type": "stream",
       "stream": "stderr",
       "text": [
        "  0.00s INFO: DATA COMPILED AT: 2014-04-18T18-10-30\n"
       ]
      },
      {
       "output_type": "stream",
       "stream": "stderr",
       "text": [
        "  0.30s LOGFILE=/Users/dirk/laf-fabric-data/calap/tasks/plain/__log__plain.txt\n"
       ]
      },
      {
       "output_type": "stream",
       "stream": "stderr",
       "text": [
        "  0.30s INFO: DATA LOADED FROM SOURCE calap AND ANNOX -- FOR TASK plain\n"
       ]
      }
     ],
     "prompt_number": 4
    },
    {
     "cell_type": "code",
     "collapsed": false,
     "input": [
      "plain_file = outfile(\"calap_plain.txt\")\n",
      "\n",
      "tr = Transcription()\n",
      "for i in F.otype.s('word'):\n",
      "    the_text = tr.hebrew(F.surface_consonants.v(i))\n",
      "    plain_file.write(the_text + ' ')\n",
      "\n",
      "plain_file.close()"
     ],
     "language": "python",
     "metadata": {},
     "outputs": [],
     "prompt_number": 5
    },
    {
     "cell_type": "markdown",
     "metadata": {},
     "source": [
      "This file does not have newlines, it is a blob of consonant transcriptions for each word separated by spaces."
     ]
    },
    {
     "cell_type": "heading",
     "level": 2,
     "metadata": {},
     "source": [
      "Passage indicators"
     ]
    },
    {
     "cell_type": "markdown",
     "metadata": {},
     "source": [
      "If you want books, chapters and verses marked, you can achieve it in the following way:"
     ]
    },
    {
     "cell_type": "code",
     "collapsed": false,
     "input": [
      "plainx_file = outfile(\"calap_plainx.txt\")\n",
      "\n",
      "the_book = None\n",
      "the_chapter = None\n",
      "the_verse = None\n",
      "\n",
      "for i in NN():\n",
      "    this_type = F.otype.v(i)\n",
      "    if this_type == \"word\":\n",
      "        the_text = tr.hebrew(F.surface_consonants.v(i))\n",
      "        the_suffix = ' '\n",
      "        plainx_file.write(the_text + the_suffix)\n",
      "    elif this_type == \"book\":\n",
      "        the_book = F.book.v(i)\n",
      "        sys.stderr.write(\"\\r{:>6} {:<30}\".format(i, the_book)) \n",
      "        plainx_file.write(\"\\n{}\".format(the_book))\n",
      "    elif this_type == \"chapter\":\n",
      "        the_chapter = F.chapter.v(i)\n",
      "        plainx_file.write(\"\\n{} {}\".format(the_book, the_chapter))\n",
      "    elif this_type == \"verse\":\n",
      "        the_verse = F.verse.v(i)\n",
      "        plainx_file.write(\"\\n{}:{} \".format(the_chapter, the_verse))\n",
      "sys.stderr.write(\"\\n\")\n",
      "\n",
      "plainx_file.close()"
     ],
     "language": "python",
     "metadata": {},
     "outputs": [
      {
       "output_type": "stream",
       "stream": "stderr",
       "text": [
        "\r",
        "141611 I_Kings                       \r",
        "141612 II_Kings                      "
       ]
      },
      {
       "output_type": "stream",
       "stream": "stderr",
       "text": [
        "\r",
        "141613 Sirach                        \n"
       ]
      }
     ],
     "prompt_number": 6
    },
    {
     "cell_type": "code",
     "collapsed": false,
     "input": [
      "!head -n 10 {my_file('calap_plainx.txt')}"
     ],
     "language": "python",
     "metadata": {},
     "outputs": [
      {
       "output_type": "stream",
       "stream": "stdout",
       "text": [
        "\r\n",
        "I_Kings\r\n",
        "I_Kings 1\r\n",
        "1:1 \u05d5 \u05de\u05dc\u05db\u05d0 \u05d3\u05d5\u05d9\u05d3 \u05e1\u05d0\u05d1 \u05d5 \u05e2\u05dc \u05d1 \u05e9\u05c1\u05e0\u05d9\u05d0 \u05d5 \u05de\u05db\u05e1\u05d9\u05e0 \u05d4\u05d5\u05d5 \u05dc\u05d4 \u05d1 \u05dc\u05d1\u05d5\u05e9\u05c1\u05d0 \u05d5 \u05dc\u05d0 \u05e9\u05c1\u05d7\u05e0 \r\n",
        "1:2 \u05d5 \u05d0\u05de\u05e8\u05d5 \u05dc\u05d4 \u05e2\u05d1\u05d3\u05d5\u05d4\u05d9 \u05d4\u05d0 \u05e2\u05d1\u05d3\u05d9\u05db \u05e7\u05d3\u05de\u05d9\u05db \u05e0\u05d1\u05e2\u05d5\u05e0 \u05dc \u05de\u05e8\u05e0 \u05de\u05dc\u05db\u05d0 \u05e2\u05dc\u05d9\u05de\u05ea\u05d0 \u05d1\u05ea\u05d5\u05dc\u05ea\u05d0 \u05d5 \u05ea\u05e7\u05d5\u05de \u05e7\u05d3\u05de \u05de\u05dc\u05db\u05d0 \u05d5 \u05ea\u05d4\u05d5\u05d0 \u05dc\u05d4 \u05de\u05e9\u05c1\u05de\u05e9\u05c1\u05e0\u05d9\u05ea\u05d0 \u05d5 \u05ea\u05e9\u05c1\u05db\u05d1 \u05d1 \u05e2\u05d5\u05d1\u05db \u05d5 \u05e0\u05e9\u05c1\u05d7\u05e0 \u05dc \u05de\u05e8\u05e0 \u05de\u05dc\u05db\u05d0 \r\n",
        "1:3 \u05d5 \u05d1\u05e2\u05d5 \u05e2\u05dc\u05d9\u05de\u05ea\u05d0 \u05d3 \u05e9\u05c1\u05e4\u05d9\u05e8\u05d0 \u05d1 \u05db\u05dc\u05d4 \u05ea\u05d7\u05d5\u05de\u05d0 \u05d3 \u05d0\u05d9\u05e1\u05e8\u05d9\u05dc \u05d5 \u05d0\u05e9\u05c1\u05db\u05d7\u05d5 \u05dc \u05d0\u05d1\u05d9\u05e9\u05c1\u05d2 \u05e9\u05c1\u05d9\u05dc\u05d5\u05de\u05d9\u05ea\u05d0 \u05d5 \u05d0\u05d9\u05ea\u05d9\u05d5\u05d4 \u05dc \u05de\u05dc\u05db\u05d0 \r\n",
        "1:4 \u05d5 \u05e2\u05dc\u05d9\u05de\u05ea\u05d0 \u05e9\u05c1\u05e4\u05d9\u05e8\u05d0 \u05d4\u05d5\u05ea \u05d1 \u05d7\u05d6\u05d5\u05d4 \u05d8\u05d1 \u05d5 \u05d4\u05d5\u05ea \u05dc \u05de\u05dc\u05db\u05d0 \u05de\u05e9\u05c1\u05de\u05e9\u05c1\u05e0\u05d9\u05ea\u05d0 \u05d5 \u05de\u05e9\u05c1\u05de\u05e9\u05c1\u05d0 \u05dc\u05d4 \u05d5 \u05de\u05dc\u05db\u05d0 \u05dc\u05d0 \u05d9\u05d3\u05e2\u05d4 \r\n",
        "1:5 \u05d5 \u05d0\u05d3\u05d5\u05e0\u05d9\u05d0 \u05d1\u05e8 \u05d7\u05d2\u05d9\u05ea \u05de\u05ea\u05e8\u05d5\u05e8\u05d1 \u05d5 \u05d0\u05de\u05e8 \u05d0\u05e0\u05d0 \u05d0\u05de\u05dc\u05db \u05d5 \u05e2\u05d1\u05d3 \u05dc\u05d4 \u05de\u05e8\u05db\u05d1\u05ea\u05d0 \u05d5 \u05e4\u05e8\u05e9\u05c1\u05d0 \u05d5 \u05d7\u05de\u05e9\u05c1\u05d9\u05e0 \u05d2\u05d1\u05e8\u05d9\u05e0 \u05d3 \u05e8\u05d4\u05d8\u05d9\u05e0 \u05d4\u05d5\u05d5 \u05e7\u05d3\u05de\u05d5\u05d4\u05d9 \r\n",
        "1:6 \u05d5 \u05dc\u05d0 \u05db\u05d0\u05d0 \u05d1\u05d4 \u05d0\u05d1\u05d5\u05d4\u05d9 \u05de\u05e0 \u05d9\u05d5\u05de\u05d5\u05d4\u05d9 \u05d5 \u05d0\u05de\u05e8 \u05dc\u05d4 \u05de\u05d8\u05dc \u05de\u05e0\u05d0 \u05d4\u05db\u05e0\u05d0 \u05e2\u05d1\u05d3 \u05d0\u05e0\u05ea \u05d5 \u05d0\u05e4 \u05d4\u05d5 \u05e9\u05c1\u05e4\u05d9\u05e8 \u05d4\u05d5\u05d0 \u05d1 \u05d7\u05d6\u05d5\u05d4 \u05d8\u05d1 \u05d5 \u05dc\u05d4 \u05d9\u05dc\u05d3\u05ea \u05d1\u05ea\u05e8 \u05d0\u05d1\u05e9\u05c1\u05dc\u05d5\u05de \r\n",
        "1:7 \u05d5 \u05d4\u05d5\u05d5 \u05e4\u05ea\u05d2\u05de\u05d5\u05d4\u05d9 \u05e2\u05de \u05d9\u05d5\u05d0\u05d1 \u05d1\u05e8 \u05e6\u05d5\u05e8\u05d9\u05d0 \u05d5 \u05e2\u05de \u05d0\u05d1\u05d9\u05ea\u05e8 \u05db\u05d4\u05e0\u05d0 \u05d5 \u05de\u05e2\u05d3\u05e8\u05d9\u05e0 \u05d1\u05ea\u05e8 \u05d0\u05d3\u05d5\u05e0\u05d9\u05d0 \r\n"
       ]
      }
     ],
     "prompt_number": 7
    },
    {
     "cell_type": "heading",
     "level": 2,
     "metadata": {},
     "source": [
      "Verse list"
     ]
    },
    {
     "cell_type": "markdown",
     "metadata": {},
     "source": [
      "We can get the text in a quite different way: just read it from the *primary data*.\n",
      "\n",
      "Let us do that per verse."
     ]
    },
    {
     "cell_type": "code",
     "collapsed": false,
     "input": [
      "verse_file = outfile(\"calap_verses.txt\")\n",
      "\n",
      "for i in F.otype.s('verse'):\n",
      "    the_text = tr.hebrew(''.join([txt for (j, txt) in P.data(i)]))\n",
      "    the_verse = F.verse_label.v(i)\n",
      "    verse_file.write(\"{}\\n{}\\n\".format(the_verse, the_text))\n",
      "\n",
      "verse_file.close()"
     ],
     "language": "python",
     "metadata": {},
     "outputs": [],
     "prompt_number": 8
    },
    {
     "cell_type": "code",
     "collapsed": false,
     "input": [
      "!head -n 10 {my_file('calap_verses.txt')}"
     ],
     "language": "python",
     "metadata": {},
     "outputs": [
      {
       "output_type": "stream",
       "stream": "stdout",
       "text": [
        "1R 1,1\r\n",
        "\u05d5 \u05de\u05dc\u05db\u05d0 \u05d3\u05d5\u05d9\u05d3 \u05e1\u05d0\u05d1 \u05d5 \u05e2\u05dc \u05d1 \u05e9\u05c1\u05e0\u05d9\u05d0 \u05d5 \u05de\u05db\u05e1\u05d9\u05e0 \u05d4\u05d5\u05d5 \u05dc\u05d4 \u05d1 \u05dc\u05d1\u05d5\u05e9\u05c1\u05d0 \u05d5 \u05dc\u05d0 \u05e9\u05c1\u05d7\u05e0 \r\n",
        "1R 1,2\r\n",
        "\u05d5 \u05d0\u05de\u05e8\u05d5 \u05dc\u05d4 \u05e2\u05d1\u05d3\u05d5\u05d4\u05d9 \u05d4\u05d0 \u05e2\u05d1\u05d3\u05d9\u05db \u05e7\u05d3\u05de\u05d9\u05db \u05e0\u05d1\u05e2\u05d5\u05e0 \u05dc \u05de\u05e8\u05e0 \u05de\u05dc\u05db\u05d0 \u05e2\u05dc\u05d9\u05de\u05ea\u05d0 \u05d1\u05ea\u05d5\u05dc\u05ea\u05d0 \u05d5 \u05ea\u05e7\u05d5\u05de \u05e7\u05d3\u05de \u05de\u05dc\u05db\u05d0 \u05d5 \u05ea\u05d4\u05d5\u05d0 \u05dc\u05d4 \u05de\u05e9\u05c1\u05de\u05e9\u05c1\u05e0\u05d9\u05ea\u05d0 \u05d5 \u05ea\u05e9\u05c1\u05db\u05d1 \u05d1 \u05e2\u05d5\u05d1\u05db \u05d5 \u05e0\u05e9\u05c1\u05d7\u05e0 \u05dc \u05de\u05e8\u05e0 \u05de\u05dc\u05db\u05d0 \r\n",
        "1R 1,3\r\n",
        "\u05d5 \u05d1\u05e2\u05d5 \u05e2\u05dc\u05d9\u05de\u05ea\u05d0 \u05d3 \u05e9\u05c1\u05e4\u05d9\u05e8\u05d0 \u05d1 \u05db\u05dc\u05d4 \u05ea\u05d7\u05d5\u05de\u05d0 \u05d3 \u05d0\u05d9\u05e1\u05e8\u05d9\u05dc \u05d5 \u05d0\u05e9\u05c1\u05db\u05d7\u05d5 \u05dc \u05d0\u05d1\u05d9\u05e9\u05c1\u05d2 \u05e9\u05c1\u05d9\u05dc\u05d5\u05de\u05d9\u05ea\u05d0 \u05d5 \u05d0\u05d9\u05ea\u05d9\u05d5\u05d4 \u05dc \u05de\u05dc\u05db\u05d0 \r\n",
        "1R 1,4\r\n",
        "\u05d5 \u05e2\u05dc\u05d9\u05de\u05ea\u05d0 \u05e9\u05c1\u05e4\u05d9\u05e8\u05d0 \u05d4\u05d5\u05ea \u05d1 \u05d7\u05d6\u05d5\u05d4 \u05d8\u05d1 \u05d5 \u05d4\u05d5\u05ea \u05dc \u05de\u05dc\u05db\u05d0 \u05de\u05e9\u05c1\u05de\u05e9\u05c1\u05e0\u05d9\u05ea\u05d0 \u05d5 \u05de\u05e9\u05c1\u05de\u05e9\u05c1\u05d0 \u05dc\u05d4 \u05d5 \u05de\u05dc\u05db\u05d0 \u05dc\u05d0 \u05d9\u05d3\u05e2\u05d4 \r\n",
        "1R 1,5\r\n",
        "\u05d5 \u05d0\u05d3\u05d5\u05e0\u05d9\u05d0 \u05d1\u05e8 \u05d7\u05d2\u05d9\u05ea \u05de\u05ea\u05e8\u05d5\u05e8\u05d1 \u05d5 \u05d0\u05de\u05e8 \u05d0\u05e0\u05d0 \u05d0\u05de\u05dc\u05db \u05d5 \u05e2\u05d1\u05d3 \u05dc\u05d4 \u05de\u05e8\u05db\u05d1\u05ea\u05d0 \u05d5 \u05e4\u05e8\u05e9\u05c1\u05d0 \u05d5 \u05d7\u05de\u05e9\u05c1\u05d9\u05e0 \u05d2\u05d1\u05e8\u05d9\u05e0 \u05d3 \u05e8\u05d4\u05d8\u05d9\u05e0 \u05d4\u05d5\u05d5 \u05e7\u05d3\u05de\u05d5\u05d4\u05d9 \r\n"
       ]
      }
     ],
     "prompt_number": 9
    },
    {
     "cell_type": "heading",
     "level": 2,
     "metadata": {},
     "source": [
      "Empty words"
     ]
    },
    {
     "cell_type": "markdown",
     "metadata": {},
     "source": [
      "In the BHS there are words that have an empty representation.\n",
      "\n",
      "Let us have a closer look to the CALAP.\n",
      "Are there empty words?"
     ]
    },
    {
     "cell_type": "code",
     "collapsed": false,
     "input": [
      "ewords = collections.defaultdict(lambda: [])\n",
      "verse = None\n",
      "\n",
      "for i in NN(test=F.otype.v, values=['verse', 'word']):\n",
      "    if F.otype.v(i) == 'verse':\n",
      "        verse = i\n",
      "        continue\n",
      "    text = F.surface_consonants.v(i)\n",
      "    if text == '':\n",
      "        lex = lexeme.v(i)\n",
      "        pos = F.psp.v(i)\n",
      "        ewords[(lex, pos)].append(verse)\n",
      "\n",
      "for (item, occs) in sorted(ewords.items(), key=lambda x: (-len(x[1]), x[0][1], x[0][0])):\n",
      "    print(\"{:>6} x {:<15} = {:>10} in {}{}\".format(\n",
      "        len(occs), \n",
      "        item[1], \n",
      "        item[0], \n",
      "        \"; \".join([F.verse_label.v(j) for j in occs][0:5]),\n",
      "        ' ...' if len(occs) > 20 else '',\n",
      "    ))\n",
      "if not len(ewords):\n",
      "    print(\"No empty words found\")"
     ],
     "language": "python",
     "metadata": {},
     "outputs": [
      {
       "output_type": "stream",
       "stream": "stdout",
       "text": [
        "No empty words found\n"
       ]
      }
     ],
     "prompt_number": 10
    },
    {
     "cell_type": "code",
     "collapsed": false,
     "input": [
      "close()"
     ],
     "language": "python",
     "metadata": {},
     "outputs": [
      {
       "output_type": "stream",
       "stream": "stderr",
       "text": [
        "    58s Results directory:\n",
        "/Users/dirk/laf-fabric-data/calap/tasks/plain\n"
       ]
      },
      {
       "output_type": "stream",
       "stream": "stderr",
       "text": [
        "\n",
        ".DS_Store                              6148 Thu Apr 17 18:26:31 2014\n",
        "__log__plain.txt                        181 Thu Apr 17 22:39:33 2014\n",
        "calap_plain.txt                      217318 Thu Apr 17 22:38:39 2014\n",
        "calap_plainx.txt                     236092 Thu Apr 17 22:38:42 2014\n",
        "calap_verses.txt                     244614 Thu Apr 17 22:38:50 2014\n"
       ]
      }
     ],
     "prompt_number": 12
    },
    {
     "cell_type": "code",
     "collapsed": false,
     "input": [],
     "language": "python",
     "metadata": {},
     "outputs": []
    }
   ],
   "metadata": {}
  }
 ]
}