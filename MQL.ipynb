{
 "metadata": {
  "name": "",
  "signature": "sha256:b0a9fb255cfbd4dedfafcfb5aaf7799c4481bd3ce999142b53b6e0f64032447c"
 },
 "nbformat": 3,
 "nbformat_minor": 0,
 "worksheets": [
  {
   "cells": [
    {
     "cell_type": "markdown",
     "metadata": {},
     "source": [
      "<a href=\"http://laf-fabric.readthedocs.org/en/latest/\" target=\"_blank\"><img align=\"left\" src=\"images/laf-fabric-xsmall.png\"/></a>\n",
      "<a href=\"http://emdros.org\" target=\"_blank\"><img align=\"left\" src=\"files/images/Emdros-xsmall.png\"/></a>\n",
      "<a href=\"http://www.godgeleerdheid.vu.nl/etcbc\" target=\"_blank\"><img align=\"right\" src=\"images/VU-ETCBC-xsmall.png\"/></a>\n",
      "<a href=\"http://tla.mpi.nl\" target=\"_blank\"><img align=\"right\" src=\"images/TLA-xsmall.png\"/></a>\n",
      "<a href=\"http://www.dans.knaw.nl\" target=\"_blank\"><img align=\"right\"src=\"images/DANS-xsmall.png\"/></a>"
     ]
    },
    {
     "cell_type": "heading",
     "level": 1,
     "metadata": {},
     "source": [
      "Monad Query Language"
     ]
    },
    {
     "cell_type": "markdown",
     "metadata": {},
     "source": [
      "The LAF resource which is ETCBC Hebrew Text Database is the result of converting an EMDROS database into LAF.\n",
      "[EMDROS](http://emdros.org) is a text database system written by Ulrik Sandborg-Petersen based on the PhD. thesis of Crist-Jan Doedens: [Text Databases. One Database Model and Several Retrieval Languages](http://books.google.nl/books?id=9ggOBRz1dO4C&dq=editions%3AISBN9051837291&source=gbs_book_other_versions).\n",
      "\n",
      "The query language of this system, MQL, is a so-called *topographic* query language, meaning that the query instruction is at the same time a template for the query results. More formally, there is a correspondence between the structure of the query instruction and the structure of the query results, and this correspondence holds for the sequential order and the embedding order.\n",
      "\n",
      "Put otherwise, MQL is a very convenient language to query the data for tree fragments.\n",
      "\n",
      "A specification of MQL can be found at the [Emdros docs page](http://emdros.org/docs.html).\n",
      "\n",
      "In order to run this notebook, you need to have the [EMDROS software](http://sourceforge.net/projects/emdros/files/) installed. It is open source and there are binaries for Windows and Mac. The ETCBC database file is included in the laf-fabric-data working directory, that you can download from my [dropbox](https://www.dropbox.com/s/1oqvb92sqn7vuml/laf-fabric-data.zip) (you have to ask [me](mailto:dirk.roorda@dans.knaw.nl) for a password)."
     ]
    },
    {
     "cell_type": "heading",
     "level": 1,
     "metadata": {},
     "source": [
      "LAF Fabric and MQL"
     ]
    },
    {
     "cell_type": "markdown",
     "metadata": {},
     "source": [
      "This notebook shows how you can integrate MQL with LAF-Fabric. This is what you can do:\n",
      "\n",
      "* write an MQL query in a code cell as a python string\n",
      "* fire that query to the EMDROS database containing the ETCBC data\n",
      "* getting the results back in the form of sets of nodes of LAF-Fabric.\n",
      "\n",
      "Because the LAF data has been migrated from the EMDROS data, we have a mapping from EMDROS object identifiers to LAF nodes.\n",
      "We apply this mapping to the query results in order to translate them to nodesets."
     ]
    },
    {
     "cell_type": "heading",
     "level": 1,
     "metadata": {},
     "source": [
      "Sheafs, straws, and grains"
     ]
    },
    {
     "cell_type": "markdown",
     "metadata": {},
     "source": [
      "An MQL query has a form like this:\n",
      "\n",
      "    select all objects\n",
      "    in {1-40}\n",
      "    where\n",
      "        [phrase\n",
      "            [word surface_consonants = 'H']\n",
      "            [word]\n",
      "        ]\n",
      "        ..\n",
      "        [phrase\n",
      "            [word]\n",
      "            [word]\n",
      "        ]\n",
      "\n",
      "After the ``where`` there is a sequence of objects, which in turn may contain objects.\n",
      "The query result after firing this query is a so-called *sheaf*. It is a list of results or *straws*, where each straw looks like the sequence of objects after the ``where``. These objects are the *matched objects* or *grains*.\n",
      "And here is the catch: a grain may contain a sheaf itself, because the objects inside objects also may have multiple subresults in the data.\n",
      "\n",
      "In other words: a sheaf is a recursive structure: it is a list of straws, which are lists of grains, which are monads (words) or objects containing a sheaf.\n",
      "\n",
      "The sheaf is a very economic representation of the set of tree fragments that are the result of an MQL query.\n",
      "\n",
      "Yet for some purposes it is necessary to have a list of ordinary results. We provide a method to generate results from a sheaf.\n",
      "What this method does can be thought of as making copies of the sheaf, and wherever there is a sheaf (a list of straws), it replaces the sheaf by choosing a single straw. The results correspond to all possible ways of making those choices.\n",
      "\n",
      "In other words: a ``result`` is a recursive structure: it is list of grains, which are monads (words) or objects containing a result.\n",
      "\n",
      "Put otherwise: a ``result`` is a simplified sheaf, without the aggregating level of sheaf, leaving only straws and grains."
     ]
    },
    {
     "cell_type": "heading",
     "level": 1,
     "metadata": {},
     "source": [
      "MQL API"
     ]
    },
    {
     "cell_type": "markdown",
     "metadata": {},
     "source": [
      "Inside the *etcbc* package there is a module *mql*.\n",
      "This module exposes two classes: ``MQL`` and ``Sheaf``.\n",
      "\n",
      "    from etcbc.mql import MQL\n",
      "\n",
      "You initialize the MQL object after loading LAF-Fabric by passing the API as a parameter:\n",
      "\n",
      "    Q = MQL(API)\n",
      "   \n",
      "If you have a query, e.g. the example above as a string in a variable ``query``, you can say:\n",
      "\n",
      "    sheaf = Q.mql(query)\n",
      "\n",
      "Then you have the results of the query in ``sheaf``. It is a list of lists of tuples (corresponding to *sheaf*, *straw*, *grain*),\n",
      "where a grain is either an integer, which is the node corresponding to a monad (word object), or it is a tuple ``(node, subsheaf)``, where ``node`` corresponds to an object of an other type, containing a sheaf of subobjects.\n",
      "\n",
      "``sheaf`` is an object of class ``Sheaf``, and there are the following methods in this class:\n",
      "\n",
      "* ``render(callable)``: prints out the sheaf in a pretty format, each word is rendered by applying ``callable`` to its node.\n",
      "* ``compact(callable)``: returns as string a compact representation of the sheaf, ``callable`` has the same meaning as above.\n",
      "* ``results()``: generates (as a generator) the list of results that is represented by the sheaf.\n",
      "* ``compact_results(callable)``: returns the compact representations of the results of the sheaf."
     ]
    },
    {
     "cell_type": "code",
     "collapsed": false,
     "input": [
      "import sys\n",
      "import collections\n",
      "import subprocess\n",
      "\n",
      "from lxml import etree\n",
      "\n",
      "import laf\n",
      "from laf.fabric import LafFabric\n",
      "from etcbc.preprocess import prepare\n",
      "from etcbc.mql import MQL\n",
      "fabric = LafFabric()"
     ],
     "language": "python",
     "metadata": {},
     "outputs": [
      {
       "output_type": "stream",
       "stream": "stderr",
       "text": [
        "  0.00s This is LAF-Fabric 4.2.5\n",
        "http://laf-fabric.readthedocs.org/texts/API-reference.html\n"
       ]
      }
     ],
     "prompt_number": 1
    },
    {
     "cell_type": "code",
     "collapsed": false,
     "input": [
      "API = fabric.load('bhs3', '--', 'mql', {\n",
      "    \"xmlids\": {\"node\": False, \"edge\": False},\n",
      "    \"features\": ('''\n",
      "        oid otype monads\n",
      "        text surface_consonants\n",
      "        verse_label\n",
      "    ''','''\n",
      "        parents.\n",
      "    '''),\n",
      "    \"prepare\": prepare,\n",
      "}, verbose='DETAIL')\n",
      "exec(fabric.localnames.format(var='fabric'))\n",
      "Q = MQL(API)"
     ],
     "language": "python",
     "metadata": {},
     "outputs": [
      {
       "output_type": "stream",
       "stream": "stderr",
       "text": [
        "  0.00s LOADING API: please wait ... \n"
       ]
      },
      {
       "output_type": "stream",
       "stream": "stderr",
       "text": [
        "  0.00s DETAIL: COMPILING m: UP TO DATE\n"
       ]
      },
      {
       "output_type": "stream",
       "stream": "stderr",
       "text": [
        "  0.00s INFO: DATA COMPILED AT: 2014-04-18T18-24-37\n"
       ]
      },
      {
       "output_type": "stream",
       "stream": "stderr",
       "text": [
        "  0.00s DETAIL: COMPILING a: UP TO DATE\n"
       ]
      },
      {
       "output_type": "stream",
       "stream": "stderr",
       "text": [
        "  0.01s DETAIL: load main: G.node_anchor_min\n"
       ]
      },
      {
       "output_type": "stream",
       "stream": "stderr",
       "text": [
        "  0.08s DETAIL: load main: G.node_anchor_max\n"
       ]
      },
      {
       "output_type": "stream",
       "stream": "stderr",
       "text": [
        "  0.14s DETAIL: load main: G.node_sort\n"
       ]
      },
      {
       "output_type": "stream",
       "stream": "stderr",
       "text": [
        "  0.19s DETAIL: load main: G.node_sort_inv\n"
       ]
      },
      {
       "output_type": "stream",
       "stream": "stderr",
       "text": [
        "  0.63s DETAIL: load main: G.edges_from\n"
       ]
      },
      {
       "output_type": "stream",
       "stream": "stderr",
       "text": [
        "  0.67s DETAIL: load main: G.edges_to\n"
       ]
      },
      {
       "output_type": "stream",
       "stream": "stderr",
       "text": [
        "  0.72s DETAIL: load main: F.shebanq_db_monads [node] \n"
       ]
      },
      {
       "output_type": "stream",
       "stream": "stderr",
       "text": [
        "  1.49s DETAIL: load main: F.shebanq_ft_surface_consonants [node] \n"
       ]
      },
      {
       "output_type": "stream",
       "stream": "stderr",
       "text": [
        "  1.67s DETAIL: load main: F.shebanq_ft_text [node] \n"
       ]
      },
      {
       "output_type": "stream",
       "stream": "stderr",
       "text": [
        "  1.97s DETAIL: load main: F.shebanq_db_oid [node] \n"
       ]
      },
      {
       "output_type": "stream",
       "stream": "stderr",
       "text": [
        "  2.77s DETAIL: load main: F.shebanq_sft_verse_label [node] \n"
       ]
      },
      {
       "output_type": "stream",
       "stream": "stderr",
       "text": [
        "  2.79s DETAIL: load main: F.shebanq_db_otype [node] \n"
       ]
      },
      {
       "output_type": "stream",
       "stream": "stderr",
       "text": [
        "  3.72s DETAIL: load main: F.shebanq_parents_ [e] \n"
       ]
      },
      {
       "output_type": "stream",
       "stream": "stderr",
       "text": [
        "  4.04s DETAIL: load main: C.shebanq_parents_ -> \n"
       ]
      },
      {
       "output_type": "stream",
       "stream": "stderr",
       "text": [
        "  5.33s DETAIL: load main: C.shebanq_parents_ <- \n"
       ]
      },
      {
       "output_type": "stream",
       "stream": "stderr",
       "text": [
        "  6.46s LOGFILE=/Users/dirk/laf-fabric-data/bhs3/tasks/mql/__log__mql.txt\n"
       ]
      },
      {
       "output_type": "stream",
       "stream": "stderr",
       "text": [
        "  6.46s DETAIL: prep prep: G.node_sort\n"
       ]
      },
      {
       "output_type": "stream",
       "stream": "stderr",
       "text": [
        "  6.53s DETAIL: prep prep: G.node_sort_inv\n"
       ]
      },
      {
       "output_type": "stream",
       "stream": "stderr",
       "text": [
        "  7.37s INFO: DATA LOADED FROM SOURCE bhs3 AND ANNOX -- FOR TASK mql\n"
       ]
      }
     ],
     "prompt_number": 2
    },
    {
     "cell_type": "code",
     "collapsed": false,
     "input": [
      "qu1 = '''\n",
      "select all objects where\n",
      "[subphrase\n",
      "    [word lexeme=\"M<FH/\"]\n",
      "]\n",
      "'''\n",
      "\n",
      "qu2 = '''\n",
      "select all objects\n",
      "in {1-40}\n",
      "where\n",
      "    [phrase\n",
      "        [word surface_consonants = 'H']\n",
      "        [word]\n",
      "    ]\n",
      "    ..\n",
      "    [phrase\n",
      "        [word]\n",
      "        [word]\n",
      "    ]\n",
      "'''\n",
      "qu3 = '''\n",
      "get objects having monads in {84134-84144}\n",
      "[clause get mother]\n",
      "'''\n",
      "qudo = qu3"
     ],
     "language": "python",
     "metadata": {},
     "outputs": [],
     "prompt_number": 3
    },
    {
     "cell_type": "code",
     "collapsed": false,
     "input": [
      "sheaf = Q.mql(qudo, format='xml')"
     ],
     "language": "python",
     "metadata": {},
     "outputs": [],
     "prompt_number": 12
    },
    {
     "cell_type": "code",
     "collapsed": false,
     "input": [
      "sheaf"
     ],
     "language": "python",
     "metadata": {},
     "outputs": [
      {
       "metadata": {},
       "output_type": "pyout",
       "prompt_number": 14,
       "text": [
        "b'<?xml version=\\'1.0\\' encoding=\\'UTF-8\\' standalone=\\'yes\\' ?><!DOCTYPE mql_results [\\n  <!ELEMENT mql_results (mql_result)* >\\n  <!ELEMENT mql_result ((mql_progress)?, status, (error)?, (warning)?, (table|sheaf|flatsheaf)?) >\\n  <!ELEMENT mql_progress (#PCDATA)* >\\n  <!ELEMENT status EMPTY >\\n  <!ELEMENT error (error_source, error_stage, \\n                   error_message_db, error_message_compiler) >\\n  <!ELEMENT error_source EMPTY >\\n  <!ELEMENT error_stage EMPTY >\\n  <!ELEMENT error_message_db (#PCDATA)* >\\n  <!ELEMENT error_message_compiler (#PCDATA)* >\\n  <!ELEMENT warning (#PCDATA)* >\\n  <!ATTLIST mql_results >\\n  <!ATTLIST mql_result  >\\n  <!ATTLIST status \\n                success (true|false) #REQUIRED >\\n  <!ATTLIST error >\\n  <!ATTLIST error_source \\n                source  (compiler|db) #REQUIRED >\\n  <!ATTLIST error_stage  \\n                stage   (none|parse|weed|symbol|type|monads|exec) #REQUIRED >\\n  <!ATTLIST error_message_db >\\n  <!ATTLIST error_message_compiler >\\n  <!ATTLIST warning >\\n  <!ELEMENT table (theader, trow*) >\\n  <!ELEMENT theader (theadercolumn)* >\\n  <!ELEMENT theadercolumn (tcaption, ttype) >\\n  <!ELEMENT tcaption (#PCDATA)* >\\n  <!ELEMENT ttype EMPTY >\\n  <!ELEMENT trow (tcolumn)* >\\n  <!ELEMENT tcolumn (#PCDATA)* >\\n  <!ATTLIST table >\\n  <!ATTLIST theader >\\n  <!ATTLIST theadercolumn >\\n  <!ATTLIST tcaption >\\n  <!ATTLIST ttype \\n     type (bool|string|integer|id_d|enum|list_of_integer|list_of_id_d|list_of_enum) #REQUIRED\\n     enum_type CDATA #IMPLIED >\\n  <!ATTLIST trow >\\n  <!ATTLIST tcolumn >\\n  <!ELEMENT sheaf (straw)* >\\n  <!ELEMENT straw (matched_object)* >\\n  <!ELEMENT matched_object (monad_set, (features)?, (sheaf)?) >\\n  <!ELEMENT monad_set (mse)+ >\\n  <!ELEMENT mse EMPTY>\\n  <!ELEMENT features (feature)+ >\\n  <!ELEMENT feature (#PCDATA) >\\n  <!ATTLIST sheaf >\\n  <!ATTLIST straw >\\n  <!ATTLIST matched_object \\n            object_type_name CDATA #REQUIRED \\n            focus (false | true) #REQUIRED\\n            marks (CDATA) #IMPLIED\\n            id_d CDATA \"nil\"\\n  >\\n  <!ATTLIST monad_set >\\n  <!ATTLIST mse\\n            first CDATA #REQUIRED\\n            last  CDATA #REQUIRED\\n  >\\n  <!ATTLIST feature\\n            feature_name CDATA #REQUIRED\\n            feature_type (string|integer|id_d|enum|list_of_integer|list_of_id_d|list_of_enum) #REQUIRED\\n            enum_type CDATA #IMPLIED \\n  >\\n  <!ELEMENT flatsheaf (flatstraw)* >\\n  <!ELEMENT flatstraw (matched_object)* >\\n  <!ATTLIST flatstraw\\n      object_type_name CDATA #REQUIRED >\\n]>\\n<mql_results>\\n<mql_result><mql_progress>\\n</mql_progress><status success=\"true\"/><flatsheaf><flatstraw object_type_name=\"clause\"><matched_object object_type_name=\"clause\" focus=\"false\" id_d=\"253891\"><monad_set><mse first=\"84134\" last=\"84135\"/></monad_set><features>\\n<feature feature_name=\"mother\" type=\"id_d\">0</feature></features><sheaf></sheaf></matched_object><matched_object object_type_name=\"clause\" focus=\"false\" id_d=\"253892\"><monad_set><mse first=\"84136\" last=\"84138\"/></monad_set><features>\\n<feature feature_name=\"mother\" type=\"id_d\">253893</feature></features><sheaf></sheaf></matched_object><matched_object object_type_name=\"clause\" focus=\"false\" id_d=\"253893\"><monad_set><mse first=\"84139\" last=\"84139\"/></monad_set><features>\\n<feature feature_name=\"mother\" type=\"id_d\">253892</feature></features><sheaf></sheaf></matched_object><matched_object object_type_name=\"clause\" focus=\"false\" id_d=\"253894\"><monad_set><mse first=\"84140\" last=\"84142\"/></monad_set><features>\\n<feature feature_name=\"mother\" type=\"id_d\">253895</feature></features><sheaf></sheaf></matched_object><matched_object object_type_name=\"clause\" focus=\"false\" id_d=\"253895\"><monad_set><mse first=\"84143\" last=\"84143\"/></monad_set><features>\\n<feature feature_name=\"mother\" type=\"id_d\">253894</feature></features><sheaf></sheaf></matched_object><matched_object object_type_name=\"clause\" focus=\"false\" id_d=\"253896\"><monad_set><mse first=\"84144\" last=\"84150\"/></monad_set><features>\\n<feature feature_name=\"mother\" type=\"id_d\">0</feature></features><sheaf></sheaf></matched_object></flatstraw></flatsheaf></mql_result>\\n</mql_results>\\n'"
       ]
      }
     ],
     "prompt_number": 14
    },
    {
     "cell_type": "code",
     "collapsed": false,
     "input": [
      "print(sheaf.compact(F.surface_consonants.v))"
     ],
     "language": "python",
     "metadata": {},
     "outputs": [
      {
       "output_type": "stream",
       "stream": "stdout",
       "text": [
        "\n"
       ]
      }
     ],
     "prompt_number": 7
    },
    {
     "cell_type": "code",
     "collapsed": false,
     "input": [
      "print(sheaf.compact_results(F.surface_consonants.v))"
     ],
     "language": "python",
     "metadata": {},
     "outputs": [
      {
       "output_type": "stream",
       "stream": "stdout",
       "text": [
        "\n"
       ]
      }
     ],
     "prompt_number": 8
    },
    {
     "cell_type": "code",
     "collapsed": false,
     "input": [],
     "language": "python",
     "metadata": {},
     "outputs": []
    }
   ],
   "metadata": {}
  }
 ]
}