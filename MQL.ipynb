{
 "metadata": {
  "name": ""
 },
 "nbformat": 3,
 "nbformat_minor": 0,
 "worksheets": [
  {
   "cells": [
    {
     "cell_type": "markdown",
     "metadata": {},
     "source": [
      "<a href=\"http://laf-fabric.readthedocs.org/en/latest/\" target=\"_blank\"><img src=\"files/images/laf-fabric-xsmall.png\"/></a>\n",
      "<a href=\"http://www.dans.knaw.nl\" target=\"_blank\"><img src=\"files/images/DANS-xsmall.png\"/></a>\n",
      "<a href=\"http://tla.mpi.nl\" target=\"_blank\"><img src=\"files/images/TLA-xsmall.png\"/></a>\n",
      "<a href=\"http://emdros.org\" target=\"_blank\"><img src=\"files/images/Emdros-logo.png\"/></a>\n",
      "<a href=\"http://www.godgeleerdheid.vu.nl/etcbc\" target=\"_blank\"><img src=\"files/images/VU-ETCBC-xsmall.png\"/></a>"
     ]
    },
    {
     "cell_type": "heading",
     "level": 1,
     "metadata": {},
     "source": [
      "Monad Query Language"
     ]
    },
    {
     "cell_type": "markdown",
     "metadata": {},
     "source": [
      "The LAF resource which is ETCBC Hebrew Text Database is the result of converting an EMDROS database into LAF.\n",
      "[EMDROS](http://emdros.org) is a text database system written by Ulril Sandborg-Petersen based on the PhD. thesis of Crist-Jan Doedens: [Text Databases. One Database Model and Several Retrieval Languages](http://books.google.nl/books?id=9ggOBRz1dO4C&dq=editions%3AISBN9051837291&source=gbs_book_other_versions).\n",
      "\n",
      "The query language of this system, MQL, is a so-called *topographic* query language, meaning that the query instruction is at the same time a template for the query results. More formally, there is a correspondence between the structure of the query instruction and the structure of the query results, and this correspondence holds for the sequential order and the embedding order.\n",
      "\n",
      "Put otherwise, MQL is a very convenient language to query the data for tree fragments.\n",
      "\n",
      "A specification of MQL can be found at the [Emdros docs page](http://emdros.org/docs.html).\n",
      "\n",
      "In order to run this notebook, you need to have the [EMDROS software](http://sourceforge.net/projects/emdros/files/) installed. It is open source and there are binaries for Windows and Mac. The ETCBC database file is included in the laf-fabric-data working directory, that you can download from my [dropbox](https://www.dropbox.com/s/1oqvb92sqn7vuml/laf-fabric-data.zip) (you have to ask [me](mailto:dirk.roorda@dans.knaw.nl) for a password)."
     ]
    },
    {
     "cell_type": "heading",
     "level": 1,
     "metadata": {},
     "source": [
      "LAF Fabric and MQL"
     ]
    },
    {
     "cell_type": "markdown",
     "metadata": {},
     "source": [
      "This notebook shows how you can integrate MQL with LAF-Fabric. This is what you can do:\n",
      "\n",
      "* write an MQL query in a code cell as a python string\n",
      "* fire that query to the EMDROS database containing the ETCBC data\n",
      "* getting the results back in the form of sets of nodes of LAF-Fabric.\n",
      "\n",
      "Because the LAF data has been migrated from the EMDROS data, we have a mapping from EMDROS object identifiers to LAF nodes.\n",
      "We apply this mapping to the query results in order to translate them to nodesets."
     ]
    },
    {
     "cell_type": "heading",
     "level": 1,
     "metadata": {},
     "source": [
      "Sheafs, straws, and grains"
     ]
    },
    {
     "cell_type": "markdown",
     "metadata": {},
     "source": [
      "An MQL query has a form like this:\n",
      "\n",
      "    select all objects\n",
      "    in {1-40}\n",
      "    where\n",
      "        [phrase\n",
      "            [word surface_consonants = 'H']\n",
      "            [word]\n",
      "        ]\n",
      "        ..\n",
      "        [phrase\n",
      "            [word]\n",
      "            [word]\n",
      "        ]\n",
      "\n",
      "After the ``where`` there is a sequence of objects, which in turn may contain objects.\n",
      "The query result after firing this query is a so-called *sheaf*. It is a list of results or *straws*, where each straw looks like the sequence of objects after the ``where``. These objects are the *matched objects* or *grains*.\n",
      "And here is the catch: a grain may contain a sheaf itself, because the objects inside objects also may have multiple subresults in the data.\n",
      "\n",
      "In other words: a sheaf is a recursive structure: it is a list of straws, which are lists of grains, which are monads (words) or objects containing a sheaf.\n",
      "\n",
      "The sheaf is a very economic representation of the set of tree fragments that are the result of an MQL query.\n",
      "\n",
      "Yet for some purposes it is necessary to have a list of ordinary results. We provide a method to generate results from a sheaf.\n",
      "What this method does can be thought of as making copies of the sheaf, and wherever there is a sheaf (a list of straws), it replaces the sheaf by choosing a single straw. The results correspond to all possible ways of making those choices.\n",
      "\n",
      "In other words: a ``result`` is a recursive structure: it is list of grains, which are monads (words) or objects containing a result.\n",
      "\n",
      "Put otherwise: a ``result`` is a simplified sheaf, without the aggregating level of sheaf, leaving only straws and grains."
     ]
    },
    {
     "cell_type": "heading",
     "level": 1,
     "metadata": {},
     "source": [
      "MQL API"
     ]
    },
    {
     "cell_type": "markdown",
     "metadata": {},
     "source": [
      "Inside the *etcbc* package there is a module *mql*.\n",
      "This module exposes two classes: ``MQL`` and ``Sheaf``.\n",
      "\n",
      "    from etcbc.mql import MQL\n",
      "\n",
      "You initialize the MQL object after loading LAF-Fabric by passing the API as a parameter:\n",
      "\n",
      "    Q = MQL(API)\n",
      "   \n",
      "If you have a query, e.g. the example above as a string in a variable ``query``, you can say:\n",
      "\n",
      "    sheaf = Q.mql(query)\n",
      "\n",
      "Then you have the results of the query in ``sheaf``. It is a list of lists of tuples (corresponding to *sheaf*, *straw*, *grain*),\n",
      "where a grain is either an integer, which is the node corresponding to a monad (word object), or it is a tuple ``(node, subsheaf)``, where ``node`` corresponds to an object of an other type, containing a sheaf of subobjects.\n",
      "\n",
      "``sheaf`` is an object of class ``Sheaf``, and there are the following methods in this class:\n",
      "\n",
      "* ``render(callable)``: prints out the sheaf in a pretty format, each word is rendered by applying ``callable`` to its node.\n",
      "* ``compact(callable)``: returns as string a compact representation of the sheaf, ``callable`` has the same meaning as above.\n",
      "* ``results()``: generates (as a generator) the list of results that is represented by the sheaf.\n",
      "* ``compact_results(callable)``: returns the compact representations of the results of the sheaf."
     ]
    },
    {
     "cell_type": "code",
     "collapsed": false,
     "input": [
      "import sys\n",
      "import collections\n",
      "import subprocess\n",
      "\n",
      "from lxml import etree\n",
      "\n",
      "import laf\n",
      "from laf.fabric import LafFabric\n",
      "from etcbc.preprocess import prepare\n",
      "from etcbc.mql import MQL\n",
      "fabric = LafFabric()"
     ],
     "language": "python",
     "metadata": {},
     "outputs": [
      {
       "output_type": "stream",
       "stream": "stderr",
       "text": [
        "  0.00s This is LAF-Fabric 4.0.6\n",
        "http://laf-fabric.readthedocs.org/texts/API-reference.html\n"
       ]
      }
     ],
     "prompt_number": 1
    },
    {
     "cell_type": "code",
     "collapsed": false,
     "input": [
      "API = fabric.load('bhs3.txt.hdr', '--', 'mql', {\n",
      "    \"xmlids\": {\"node\": False, \"edge\": False},\n",
      "    \"features\": ('''\n",
      "        oid otype monads\n",
      "        text surface_consonants\n",
      "        verse_label\n",
      "    ''','''\n",
      "        parents.\n",
      "    '''),\n",
      "    \"prepare\": prepare,\n",
      "}, verbose='DETAIL')\n",
      "exec(fabric.localnames.format(var='fabric'))\n",
      "Q = MQL(API)"
     ],
     "language": "python",
     "metadata": {},
     "outputs": [
      {
       "output_type": "stream",
       "stream": "stderr",
       "text": [
        "  0.00s LOADING API: please wait ... \n"
       ]
      },
      {
       "output_type": "stream",
       "stream": "stderr",
       "text": [
        "  0.01s DETAIL: COMPILING m: UP TO DATE\n"
       ]
      },
      {
       "output_type": "stream",
       "stream": "stderr",
       "text": [
        "  0.01s DETAIL: COMPILING a: UP TO DATE\n"
       ]
      },
      {
       "output_type": "stream",
       "stream": "stderr",
       "text": [
        "  0.01s DETAIL: load main: G.node_anchor_min\n"
       ]
      },
      {
       "output_type": "stream",
       "stream": "stderr",
       "text": [
        "  0.16s DETAIL: load main: G.node_anchor_max\n"
       ]
      },
      {
       "output_type": "stream",
       "stream": "stderr",
       "text": [
        "  0.30s DETAIL: load main: G.node_sort\n"
       ]
      },
      {
       "output_type": "stream",
       "stream": "stderr",
       "text": [
        "  0.42s DETAIL: load main: G.node_sort_inv\n"
       ]
      },
      {
       "output_type": "stream",
       "stream": "stderr",
       "text": [
        "  1.06s DETAIL: load main: G.edges_from\n"
       ]
      },
      {
       "output_type": "stream",
       "stream": "stderr",
       "text": [
        "  1.16s DETAIL: load main: G.edges_to\n"
       ]
      },
      {
       "output_type": "stream",
       "stream": "stderr",
       "text": [
        "  1.28s DETAIL: load main: F.shebanq_db_monads [node] \n"
       ]
      },
      {
       "output_type": "stream",
       "stream": "stderr",
       "text": [
        "  2.48s DETAIL: load main: F.shebanq_ft_surface_consonants [node] \n"
       ]
      },
      {
       "output_type": "stream",
       "stream": "stderr",
       "text": [
        "  2.77s DETAIL: load main: F.shebanq_sft_verse_label [node] \n"
       ]
      },
      {
       "output_type": "stream",
       "stream": "stderr",
       "text": [
        "  2.79s DETAIL: load main: F.shebanq_db_otype [node] \n"
       ]
      },
      {
       "output_type": "stream",
       "stream": "stderr",
       "text": [
        "  3.74s DETAIL: load main: F.shebanq_db_oid [node] \n"
       ]
      },
      {
       "output_type": "stream",
       "stream": "stderr",
       "text": [
        "  4.75s DETAIL: load main: F.shebanq_ft_text [node] \n"
       ]
      },
      {
       "output_type": "stream",
       "stream": "stderr",
       "text": [
        "  5.26s DETAIL: load main: F.shebanq_parents_ [e] \n"
       ]
      },
      {
       "output_type": "stream",
       "stream": "stderr",
       "text": [
        "  5.61s DETAIL: load main: C.shebanq_parents_ -> \n"
       ]
      },
      {
       "output_type": "stream",
       "stream": "stderr",
       "text": [
        "  6.94s DETAIL: load main: C.shebanq_parents_ <- \n"
       ]
      },
      {
       "output_type": "stream",
       "stream": "stderr",
       "text": [
        "  8.06s LOGFILE=/Users/dirk/laf-fabric-data/etcbc-bhs3/tasks/bhs3.txt.hdr/mql/__log__mql.txt\n"
       ]
      },
      {
       "output_type": "stream",
       "stream": "stderr",
       "text": [
        "  8.07s DETAIL: prep prep: G.node_sort\n"
       ]
      },
      {
       "output_type": "stream",
       "stream": "stderr",
       "text": [
        "  8.20s DETAIL: prep prep: G.node_sort_inv\n"
       ]
      },
      {
       "output_type": "stream",
       "stream": "stderr",
       "text": [
        "  8.96s INFO: DATA LOADED FROM SOURCE bhs3.txt.hdr AND ANNOX -- FOR TASK mql\n"
       ]
      }
     ],
     "prompt_number": 2
    },
    {
     "cell_type": "code",
     "collapsed": false,
     "input": [
      "qu1 = '''\n",
      "select all objects where\n",
      "[subphrase\n",
      "    [word lexeme=\"M<FH/\"]\n",
      "]\n",
      "'''\n",
      "\n",
      "qu2 = '''\n",
      "select all objects\n",
      "in {1-40}\n",
      "where\n",
      "    [phrase\n",
      "        [word surface_consonants = 'H']\n",
      "        [word]\n",
      "    ]\n",
      "    ..\n",
      "    [phrase\n",
      "        [word]\n",
      "        [word]\n",
      "    ]\n",
      "'''\n",
      "qudo = qu2"
     ],
     "language": "python",
     "metadata": {},
     "outputs": [],
     "prompt_number": 3
    },
    {
     "cell_type": "code",
     "collapsed": false,
     "input": [
      "sheaf = Q.mql(qudo)"
     ],
     "language": "python",
     "metadata": {},
     "outputs": [],
     "prompt_number": 4
    },
    {
     "cell_type": "code",
     "collapsed": false,
     "input": [
      "print(sheaf.compact(F.surface_consonants.v))"
     ],
     "language": "python",
     "metadata": {},
     "outputs": [
      {
       "output_type": "stream",
       "stream": "stdout",
       "text": [
        "[phrase 'H' 'CMJM' -- 'H' '>RY'] [phrase 'H' '>RY']\n",
        "[phrase 'H' 'CMJM' -- 'H' '>RY'] [phrase 'THW' 'W' -- 'W' 'BHW']\n",
        "[phrase 'H' 'CMJM' -- 'H' '>RY'] [phrase '<L' 'PNJ' -- 'PNJ' 'THWM']\n",
        "[phrase 'H' 'CMJM' -- 'H' '>RY'] [phrase 'RWX' '>LHJM']\n",
        "[phrase 'H' 'CMJM' -- 'H' '>RY'] [phrase '<L' 'PNJ' -- 'PNJ' 'H' -- 'H' 'MJM']\n",
        "[phrase 'H' '>RY'] [phrase 'THW' 'W' -- 'W' 'BHW']\n",
        "[phrase 'H' '>RY'] [phrase '<L' 'PNJ' -- 'PNJ' 'THWM']\n",
        "[phrase 'H' '>RY'] [phrase 'RWX' '>LHJM']\n",
        "[phrase 'H' '>RY'] [phrase '<L' 'PNJ' -- 'PNJ' 'H' -- 'H' 'MJM']\n"
       ]
      }
     ],
     "prompt_number": 5
    },
    {
     "cell_type": "code",
     "collapsed": false,
     "input": [
      "print(sheaf.compact_results(F.surface_consonants.v))"
     ],
     "language": "python",
     "metadata": {},
     "outputs": [
      {
       "output_type": "stream",
       "stream": "stdout",
       "text": [
        "[phrase 'H' 'CMJM'] [phrase 'H' '>RY']\n",
        "[phrase 'H' '>RY'] [phrase 'H' '>RY']\n",
        "[phrase 'H' 'CMJM'] [phrase 'THW' 'W']\n",
        "[phrase 'H' 'CMJM'] [phrase 'W' 'BHW']\n",
        "[phrase 'H' '>RY'] [phrase 'THW' 'W']\n",
        "[phrase 'H' '>RY'] [phrase 'W' 'BHW']\n",
        "[phrase 'H' 'CMJM'] [phrase '<L' 'PNJ']\n",
        "[phrase 'H' 'CMJM'] [phrase 'PNJ' 'THWM']\n",
        "[phrase 'H' '>RY'] [phrase '<L' 'PNJ']\n",
        "[phrase 'H' '>RY'] [phrase 'PNJ' 'THWM']\n",
        "[phrase 'H' 'CMJM'] [phrase 'RWX' '>LHJM']\n",
        "[phrase 'H' '>RY'] [phrase 'RWX' '>LHJM']\n",
        "[phrase 'H' 'CMJM'] [phrase '<L' 'PNJ']\n",
        "[phrase 'H' 'CMJM'] [phrase 'PNJ' 'H']\n",
        "[phrase 'H' 'CMJM'] [phrase 'H' 'MJM']\n",
        "[phrase 'H' '>RY'] [phrase '<L' 'PNJ']\n",
        "[phrase 'H' '>RY'] [phrase 'PNJ' 'H']\n",
        "[phrase 'H' '>RY'] [phrase 'H' 'MJM']\n",
        "[phrase 'H' '>RY'] [phrase 'THW' 'W']\n",
        "[phrase 'H' '>RY'] [phrase 'W' 'BHW']\n",
        "[phrase 'H' '>RY'] [phrase '<L' 'PNJ']\n",
        "[phrase 'H' '>RY'] [phrase 'PNJ' 'THWM']\n",
        "[phrase 'H' '>RY'] [phrase 'RWX' '>LHJM']\n",
        "[phrase 'H' '>RY'] [phrase '<L' 'PNJ']\n",
        "[phrase 'H' '>RY'] [phrase 'PNJ' 'H']\n",
        "[phrase 'H' '>RY'] [phrase 'H' 'MJM']\n"
       ]
      }
     ],
     "prompt_number": 6
    },
    {
     "cell_type": "code",
     "collapsed": false,
     "input": [],
     "language": "python",
     "metadata": {},
     "outputs": []
    }
   ],
   "metadata": {}
  }
 ]
}