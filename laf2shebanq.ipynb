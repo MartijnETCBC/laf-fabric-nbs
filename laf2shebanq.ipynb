{
 "metadata": {
  "name": "",
  "signature": "sha256:408f90e698538b8e1fcaa0398d5d51e2e302b2b31bfc605220b65afc20be8172"
 },
 "nbformat": 3,
 "nbformat_minor": 0,
 "worksheets": [
  {
   "cells": [
    {
     "cell_type": "code",
     "collapsed": false,
     "input": [
      "import sys\n",
      "import collections\n",
      "\n",
      "from laf.fabric import LafFabric\n",
      "fabric = LafFabric()"
     ],
     "language": "python",
     "metadata": {},
     "outputs": [
      {
       "output_type": "stream",
       "stream": "stderr",
       "text": [
        "  0.00s This is LAF-Fabric 4.2.8\n",
        "http://laf-fabric.readthedocs.org/texts/API-reference.html\n"
       ]
      }
     ],
     "prompt_number": 1
    },
    {
     "cell_type": "code",
     "collapsed": false,
     "input": [
      "fabric.load('bhs3', '--', 'shebanq', {\n",
      "    \"xmlids\": {\"node\": False, \"edge\": False},\n",
      "    \"features\": ('''\n",
      "        otype monads\n",
      "        text suffix\n",
      "        book chapter verse verse_label\n",
      "    ''',''),\n",
      "    \"primary\": False,\n",
      "})\n",
      "exec(fabric.localnames.format(var='fabric'))"
     ],
     "language": "python",
     "metadata": {},
     "outputs": [
      {
       "output_type": "stream",
       "stream": "stderr",
       "text": [
        "  0.00s LOADING API: please wait ... \n"
       ]
      },
      {
       "output_type": "stream",
       "stream": "stderr",
       "text": [
        "  0.00s INFO: DATA COMPILED AT: 2014-04-18T18-24-37\n"
       ]
      },
      {
       "output_type": "stream",
       "stream": "stderr",
       "text": [
        "  2.50s LOGFILE=/Users/dirk/laf-fabric-data/bhs3/tasks/shebanq/__log__shebanq.txt\n"
       ]
      },
      {
       "output_type": "stream",
       "stream": "stderr",
       "text": [
        "  2.50s INFO: DATA LOADED FROM SOURCE bhs3 AND ANNOX -- FOR TASK shebanq\n"
       ]
      }
     ],
     "prompt_number": 2
    },
    {
     "cell_type": "code",
     "collapsed": false,
     "input": [
      "config = {\n",
      "    'db': 'etcbc',\n",
      "}\n",
      "text_create_sql = '''\n",
      "drop database if exists {db};\n",
      "\n",
      "create database {db} character set utf8;\n",
      "\n",
      "use {db};\n",
      "\n",
      "create table book(\n",
      "\tid      int(5) primary key,\n",
      "\tname varchar(50)\n",
      ");\n",
      "\n",
      "create table chapter(\n",
      "\tid int(4) primary key,\n",
      "\tbook_id int(5),\n",
      "\tchapter_num int(5),\n",
      "\tforeign key (book_id) references book(id)\n",
      ");\n",
      "\n",
      "create table verse(\n",
      "\tid int(4) primary key,\n",
      "\tchapter_id int(5),\n",
      "\tverse_num int(4),\n",
      "\ttext varchar(4000) character set utf8,\n",
      "\tforeign key (chapter_id) references chapter(id)\n",
      ");\n",
      "\n",
      "create table word_verse(\n",
      "\tanchor varchar(32) unique,\n",
      "\tverse_id int(4),\n",
      "\tforeign key (verse_id) references verse(id)\n",
      ");\n",
      "'''.format(**config)"
     ],
     "language": "python",
     "metadata": {},
     "outputs": [],
     "prompt_number": 3
    },
    {
     "cell_type": "code",
     "collapsed": false,
     "input": [
      "sqf = outfile('text.sql')\n",
      "\n",
      "cur_id = {\n",
      "    'book': -1,\n",
      "    'chapter': - 1,\n",
      "    'verse': -1,\n",
      "}\n",
      "cur_verse_node = None\n",
      "cur_verse_text = []\n",
      "cur_word_verse = []\n",
      "\n",
      "def do_verse(node):\n",
      "    global cur_verse_node, cur_verse_text, cur_word_verse\n",
      "    if cur_verse_node != None:\n",
      "        sqf.write(\"insert into verse (id, chapter_id, verse_num, text) values ({},{},{},'{}');\\n\".format(\n",
      "            cur_id['verse'], cur_id['chapter'], F.verse.v(cur_verse_node), ''.join(cur_verse_text),\n",
      "        ))\n",
      "        for (mon, cid) in cur_word_verse:\n",
      "            sqf.write(\"insert into word_verse (anchor, verse_id) values ('{}', {});\\n\".format(\n",
      "                mon, cid,\n",
      "            ))\n",
      "        cur_verse_text = []\n",
      "        cur_word_verse = []\n",
      "    cur_verse_node = node\n",
      "    \n",
      "sqf.write(text_create_sql)\n",
      "\n",
      "Fotypev = F.otype.v\n",
      "Fmonadsv = F.monads.v\n",
      "Ftextv = F.text.v\n",
      "Fsuffixv = F.suffix.v\n",
      "\n",
      "for node in NN():\n",
      "    otype = Fotypev(node)\n",
      "    if otype == 'word':\n",
      "        text = Ftextv(node)\n",
      "        suffix = Fsuffixv(node)\n",
      "        newline = '\\n' if '\u05c3' in suffix else ''\n",
      "        cur_verse_text.append(\"{}{}{}\".format(text, suffix, newline))\n",
      "        cur_word_verse.append((Fmonadsv(node), cur_id['verse']))        \n",
      "    elif otype == 'verse':\n",
      "        do_verse(node)\n",
      "        cur_id['verse'] += 1\n",
      "    elif otype == 'chapter':\n",
      "        do_verse(None)\n",
      "        cur_id['chapter'] += 1\n",
      "        sqf.write(\"insert into chapter (id, book_id, chapter_num) values ({},{},'{}');\\n\".format(\n",
      "            cur_id['chapter'], cur_id['book'], F.chapter.v(node),\n",
      "        ))\n",
      "    elif otype == 'book':\n",
      "        do_verse(None)\n",
      "        cur_id['book'] += 1\n",
      "        sqf.write(\"insert into book (id, name) values ({},'{}');\\n\".format(\n",
      "            cur_id['book'], F.book.v(node)\n",
      "        ))\n",
      "do_verse(None)\n",
      "\n",
      "sqf.close()"
     ],
     "language": "python",
     "metadata": {},
     "outputs": [],
     "prompt_number": 4
    }
   ],
   "metadata": {}
  }
 ]
}