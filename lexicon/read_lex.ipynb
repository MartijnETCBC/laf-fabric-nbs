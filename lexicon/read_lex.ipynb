{
 "metadata": {
  "name": "",
  "signature": "sha256:d5d28cad371e9f1ed57fb85d08ff5f46f7e0b746d8a2857a11caa22c61efd91d"
 },
 "nbformat": 3,
 "nbformat_minor": 0,
 "worksheets": [
  {
   "cells": [
    {
     "cell_type": "markdown",
     "metadata": {},
     "source": [
      "<a href=\"http://laf-fabric.readthedocs.org/en/latest/\" target=\"_blank\"><img align=\"left\" src=\"images/laf-fabric-xsmall.png\"/></a>\n",
      "<a href=\"http://www.godgeleerdheid.vu.nl/etcbc\" target=\"_blank\"><img align=\"left\" src=\"images/VU-ETCBC-xsmall.png\"/></a>\n",
      "<a href=\"http://www.persistent-identifier.nl/?identifier=urn%3Anbn%3Anl%3Aui%3A13-048i-71\" target=\"_blank\"><img align=\"left\"src=\"images/etcbc4easy-small.png\"/></a>\n",
      "<a href=\"http://tla.mpi.nl\" target=\"_blank\"><img align=\"right\" src=\"images/TLA-xsmall.png\"/></a>\n",
      "<a href=\"http://www.dans.knaw.nl\" target=\"_blank\"><img align=\"right\"src=\"images/DANS-xsmall.png\"/></a>"
     ]
    },
    {
     "cell_type": "markdown",
     "metadata": {},
     "source": [
      "# Reading the ETCBC lexicon files\n",
      "\n",
      "We examine the ETCBC lexicon files, we check their internal consistency and their correspondence\n",
      "with the ETCBC4 database, \n",
      "and finally we will generate LMF (Lexical Markup Framework) files for usage next to the LAF version of the Hebrew Text Database.\n",
      "\n",
      "# Feature explanation\n",
      "\n",
      "Here is a list of features encountered in the lexicon.\n",
      "Some of them correspond to features encountered in the text.\n",
      "\n",
      "## entry \n",
      "corresponds to the ``lex`` feature of word occurrences. There are a few dozen discrepancies.\n",
      "\n",
      "## vocalized lexeme\n",
      "``vc``  corresponds to ``g_lex`` but the latter is not consistent for lexemes.\n",
      "\n",
      "## root\n",
      "``rt`` does not correspond to a feature of word occurrences. It seems to contain the abstract root of\n",
      "a lexeme, without morphological additions.\n",
      "\n",
      "## part of speech\n",
      "``sp`` corresponds exactly to ``sp`` on word occurrences.\n",
      "\n",
      "## subpart of speech (lexical set)\n",
      "``ls`` corresponds to exactly to ``ls`` on word occurrences.\n",
      "\n",
      "## gender\n",
      "``gn`` corresponds to ``gn`` on word occurrences, but for words whose gender is not lexically determined such as verbs and adjectives. There are also multigender nouns and proper nouns though!\n",
      "\n",
      "## number\n",
      "``nu`` corresponds to ``nu`` on word occurrences, but in general number is not lexically determined.\n",
      "\n",
      "## person\n",
      "``ps`` corresponds to ``ps`` on word occurrences, but in general person is not lexically detemined.\n",
      "It occurs on a small number of ``pspr`` s in the lexicon.\n",
      "\n",
      "## state\n",
      "``st`` corresponds to ``st`` on word occurrences. It is only marked for a few ``nmpr`` s in the lexicon.\n",
      "\n",
      "## reference type\n",
      "``sm``  does not correspond to a textual feature. It is the reference type of proper nouns and personal pronouns (rarely), and consists of a comma separated list of the following values:\n",
      "\n",
      "``gens`` people or tribe name\n",
      "``mens`` month name\n",
      "``pers`` person name\n",
      "``ppde`` ?? occurs only for personal pronouns\n",
      "``topo`` place name\n",
      "\n",
      "## comment or corrections\n",
      "``co`` does not correspond to any feature on word occurrences. Comments are used to express alternatives for the information entered. Comments are very rare in the lexicon.\n",
      "\n",
      "## kb\n",
      "``kb`` unclear. In *arc* there is one occurrence containing a transliterated words, in *hbo* there are a few occurrences containing a different value for ``sp``.\n",
      "\n",
      "## fc\n",
      "``fc`` unclear."
     ]
    },
    {
     "cell_type": "markdown",
     "metadata": {},
     "source": [
      "Among the ETCBC data are lexicon files for the biblical languages.\n",
      "We want to put that data in LMF files, and put them to use in LAF-Fabric and SHEBANQ.\n",
      "\n",
      "We have lexicon files for the following languages (given in [ISO 639-3 codes and names](http://www-01.sil.org/iso639-3/default.asp))\n",
      "\n",
      "* ``hbo`` *Ancient Hebrew*\n",
      "* ``arc`` *Official Aramaic; Imperial Aramaic*\n",
      "* ``syc`` *Classical Syriac*"
     ]
    },
    {
     "cell_type": "heading",
     "level": 1,
     "metadata": {},
     "source": [
      "Firing up the engines"
     ]
    },
    {
     "cell_type": "code",
     "collapsed": false,
     "input": [
      "import sys\n",
      "import collections\n",
      "\n",
      "import laf\n",
      "from laf.fabric import LafFabric\n",
      "from etcbc.preprocess import prepare\n",
      "\n",
      "fabric = LafFabric()"
     ],
     "language": "python",
     "metadata": {},
     "outputs": [
      {
       "output_type": "stream",
       "stream": "stderr",
       "text": [
        "  0.00s This is LAF-Fabric 4.4.3\n",
        "API reference: http://laf-fabric.readthedocs.org/en/latest/texts/API-reference.html\n",
        "Feature doc: http://shebanq-doc.readthedocs.org/en/latest/texts/welcome.html\n",
        "\n"
       ]
      }
     ],
     "prompt_number": 1
    },
    {
     "cell_type": "code",
     "collapsed": false,
     "input": [
      "API = fabric.load('etcbc4', '--', 'lexicon', {\n",
      "    \"xmlids\": {\"node\": False, \"edge\": False},\n",
      "    \"features\": ('''\n",
      "        oid otype monads\n",
      "        book chapter verse\n",
      "        g_word g_word_utf8 trailer_utf8 language lex lex_utf8 g_lex g_lex_utf8\n",
      "        sp ls gn nu ps st vs vt\n",
      "    ''','''\n",
      "    '''),\n",
      "    \"prepare\": prepare,\n",
      "}, verbose='DETAIL')\n",
      "exec(fabric.localnames.format(var='fabric'))"
     ],
     "language": "python",
     "metadata": {},
     "outputs": [
      {
       "output_type": "stream",
       "stream": "stderr",
       "text": [
        "  0.00s LOADING API: please wait ... \n"
       ]
      },
      {
       "output_type": "stream",
       "stream": "stderr",
       "text": [
        "  0.00s DETAIL: COMPILING m: UP TO DATE\n"
       ]
      },
      {
       "output_type": "stream",
       "stream": "stderr",
       "text": [
        "  0.00s INFO: USING DATA COMPILED AT: 2014-07-23T09-31-37\n"
       ]
      },
      {
       "output_type": "stream",
       "stream": "stderr",
       "text": [
        "  0.00s DETAIL: COMPILING a: UP TO DATE\n"
       ]
      },
      {
       "output_type": "stream",
       "stream": "stderr",
       "text": [
        "  0.01s DETAIL: keep main: G.node_anchor_min\n"
       ]
      },
      {
       "output_type": "stream",
       "stream": "stderr",
       "text": [
        "  0.01s DETAIL: keep main: G.node_anchor_max\n"
       ]
      },
      {
       "output_type": "stream",
       "stream": "stderr",
       "text": [
        "  0.01s DETAIL: keep main: G.node_sort\n"
       ]
      },
      {
       "output_type": "stream",
       "stream": "stderr",
       "text": [
        "  0.01s DETAIL: keep main: G.node_sort_inv\n"
       ]
      },
      {
       "output_type": "stream",
       "stream": "stderr",
       "text": [
        "  0.01s DETAIL: keep main: G.edges_from\n"
       ]
      },
      {
       "output_type": "stream",
       "stream": "stderr",
       "text": [
        "  0.01s DETAIL: keep main: G.edges_to\n"
       ]
      },
      {
       "output_type": "stream",
       "stream": "stderr",
       "text": [
        "  0.01s DETAIL: keep main: F.etcbc4_db_monads [node] \n"
       ]
      },
      {
       "output_type": "stream",
       "stream": "stderr",
       "text": [
        "  0.02s DETAIL: keep main: F.etcbc4_db_oid [node] \n"
       ]
      },
      {
       "output_type": "stream",
       "stream": "stderr",
       "text": [
        "  0.02s DETAIL: keep main: F.etcbc4_db_otype [node] \n"
       ]
      },
      {
       "output_type": "stream",
       "stream": "stderr",
       "text": [
        "  0.02s DETAIL: keep main: F.etcbc4_ft_g_lex [node] \n"
       ]
      },
      {
       "output_type": "stream",
       "stream": "stderr",
       "text": [
        "  0.02s DETAIL: keep main: F.etcbc4_ft_g_lex_utf8 [node] \n"
       ]
      },
      {
       "output_type": "stream",
       "stream": "stderr",
       "text": [
        "  0.02s DETAIL: keep main: F.etcbc4_ft_g_word [node] \n"
       ]
      },
      {
       "output_type": "stream",
       "stream": "stderr",
       "text": [
        "  0.02s DETAIL: keep main: F.etcbc4_ft_g_word_utf8 [node] \n"
       ]
      },
      {
       "output_type": "stream",
       "stream": "stderr",
       "text": [
        "  0.02s DETAIL: keep main: F.etcbc4_ft_gn [node] \n"
       ]
      },
      {
       "output_type": "stream",
       "stream": "stderr",
       "text": [
        "  0.02s DETAIL: keep main: F.etcbc4_ft_language [node] \n"
       ]
      },
      {
       "output_type": "stream",
       "stream": "stderr",
       "text": [
        "  0.02s DETAIL: keep main: F.etcbc4_ft_lex [node] \n"
       ]
      },
      {
       "output_type": "stream",
       "stream": "stderr",
       "text": [
        "  0.03s DETAIL: keep main: F.etcbc4_ft_lex_utf8 [node] \n"
       ]
      },
      {
       "output_type": "stream",
       "stream": "stderr",
       "text": [
        "  0.03s DETAIL: keep main: F.etcbc4_ft_ls [node] \n"
       ]
      },
      {
       "output_type": "stream",
       "stream": "stderr",
       "text": [
        "  0.03s DETAIL: keep main: F.etcbc4_ft_nu [node] \n"
       ]
      },
      {
       "output_type": "stream",
       "stream": "stderr",
       "text": [
        "  0.03s DETAIL: keep main: F.etcbc4_ft_sp [node] \n"
       ]
      },
      {
       "output_type": "stream",
       "stream": "stderr",
       "text": [
        "  0.03s DETAIL: keep main: F.etcbc4_ft_trailer_utf8 [node] \n"
       ]
      },
      {
       "output_type": "stream",
       "stream": "stderr",
       "text": [
        "  0.03s DETAIL: keep main: F.etcbc4_ft_vs [node] \n"
       ]
      },
      {
       "output_type": "stream",
       "stream": "stderr",
       "text": [
        "  0.03s DETAIL: keep main: F.etcbc4_ft_vt [node] \n"
       ]
      },
      {
       "output_type": "stream",
       "stream": "stderr",
       "text": [
        "  0.03s DETAIL: keep main: F.etcbc4_sft_book [node] \n"
       ]
      },
      {
       "output_type": "stream",
       "stream": "stderr",
       "text": [
        "  0.03s DETAIL: keep main: F.etcbc4_sft_chapter [node] \n"
       ]
      },
      {
       "output_type": "stream",
       "stream": "stderr",
       "text": [
        "  0.03s DETAIL: keep main: F.etcbc4_sft_verse [node] \n"
       ]
      },
      {
       "output_type": "stream",
       "stream": "stderr",
       "text": [
        "  0.04s DETAIL: load main: F.etcbc4_ft_ps [node] \n"
       ]
      },
      {
       "output_type": "stream",
       "stream": "stderr",
       "text": [
        "  0.32s DETAIL: load main: F.etcbc4_ft_st [node] \n"
       ]
      },
      {
       "output_type": "stream",
       "stream": "stderr",
       "text": [
        "  0.50s DETAIL: prep prep: G.node_sort\n"
       ]
      },
      {
       "output_type": "stream",
       "stream": "stderr",
       "text": [
        "  0.56s DETAIL: prep prep: G.node_sort_inv\n"
       ]
      },
      {
       "output_type": "stream",
       "stream": "stderr",
       "text": [
        "  1.18s INFO: DATA LOADED FROM SOURCE etcbc4 AND ANNOX -- FOR TASK lexicon AT 2014-10-08T14-03-36\n"
       ]
      }
     ],
     "prompt_number": 21
    },
    {
     "cell_type": "markdown",
     "metadata": {},
     "source": [
      "# Read the lexica\n",
      "\n",
      "We read the lexica for Hebrew and Aramaic.\n",
      "In the sequel we will consistently and exclusively refer to these languages by their ISO 639-3 abbreviations."
     ]
    },
    {
     "cell_type": "code",
     "collapsed": false,
     "input": [
      "langs = {'hbo', 'arc', 'syc'}\n",
      "lex_base = dict((lan, '{}/{}/{}.{}'.format(API['data_dir'], 'lexicon', lan, 'etcbc')) for lan in langs)\n",
      "lex_base\n",
      "lang_map = {\n",
      "    'Hebrew': 'hbo',\n",
      "    'Aramaic': 'arc',\n",
      "    'Syriac': 'syc',\n",
      "}\n",
      "\n",
      "def read_lex(lan):\n",
      "    lex_infile = open(lex_base[lan], encoding='utf-8')\n",
      "    lex_outfile = outfile('{}.txt'.format(lan))\n",
      "    lex_errfile = outfile('{}.err.txt'.format(lan))\n",
      "\n",
      "    lex_items = {}\n",
      "    ln = 0\n",
      "    e = 0\n",
      "    for line in lex_infile:\n",
      "        ln += 1\n",
      "        line = line.rstrip()\n",
      "        line = line.split('#')[0]\n",
      "        if line == '': continue\n",
      "        (entry, featurestr) = line.split(sep=None, maxsplit=1)\n",
      "        entry = entry.strip('\"')\n",
      "        if entry in lex_items:\n",
      "            lex_errfile.write('duplicate lexical entry {} in line {}.\\n'.format(entry, ln))\n",
      "            e += 1\n",
      "            continue\n",
      "        featurestr = featurestr.strip(':')\n",
      "        featurestr = featurestr.replace('\\\\:', chr(255))\n",
      "        featurelst = featurestr.split(':')\n",
      "        features = {}\n",
      "        for feature in featurelst:\n",
      "            comps = feature.split('=', maxsplit=1)\n",
      "            if len(comps) == 1:\n",
      "                if feature.strip().isnumeric():\n",
      "                    comps = ('_n', feature.strip())\n",
      "                else:\n",
      "                    lex_errfile.write('feature without value for lexical entry {} in line {}: {}\\n'.format(entry, ln, feature))\n",
      "                    e += 1\n",
      "                    continue\n",
      "            (key, value) = comps\n",
      "            value = value.replace(chr(255), ':')\n",
      "            if key in features:\n",
      "                lex_errfile.write('duplicate feature for lexical entry {} in line {}: {}={}\\n'.format(entry, ln, key, value))\n",
      "                e += 1\n",
      "                continue\n",
      "            features[key] = value\n",
      "        if 'sp' in features and features['sp'] == 'verb':\n",
      "            if 'gl' in features:\n",
      "                gloss = features['gl']\n",
      "                if gloss.startswith('to '):\n",
      "                    features['gl'] = gloss[3:]\n",
      "        lex_items[entry] = features\n",
      "        lex_outfile.write('{}\\t{}\\n'.format(entry, features))\n",
      "        \n",
      "    lex_infile.close()\n",
      "    lex_outfile.close()\n",
      "    lex_errfile.close()\n",
      "    msgstr = \"Lexicon {}: there w\".format(lan) + ('ere {} errors'.format(e) if e != 1 else 'as 1 error')\n",
      "    print(msgstr)\n",
      "    return lex_items\n",
      "\n",
      "lex_entries = dict((lan, read_lex(lan)) for lan in sorted(langs))\n",
      "for lan in sorted(lex_entries):\n",
      "    print('Lexicon {} has {:>5} entries'.format(lan, len(lex_entries[lan])))"
     ],
     "language": "python",
     "metadata": {},
     "outputs": [
      {
       "output_type": "stream",
       "stream": "stdout",
       "text": [
        "Lexicon arc: there were 0 errors\n",
        "Lexicon hbo: there were 0 errors"
       ]
      },
      {
       "output_type": "stream",
       "stream": "stdout",
       "text": [
        "\n",
        "Lexicon syc: there were 0 errors"
       ]
      },
      {
       "output_type": "stream",
       "stream": "stdout",
       "text": [
        "\n",
        "Lexicon arc has   707 entries\n",
        "Lexicon hbo has  8520 entries\n",
        "Lexicon syc has  2383 entries\n"
       ]
      }
     ],
     "prompt_number": 14
    },
    {
     "cell_type": "markdown",
     "metadata": {},
     "source": [
      "# Gather the lexemes from the etcbc4 database\n",
      "\n",
      "We inspect all word occurrences of the etcbc4 database, inspect their language and lexeme values, and construct sets of lexemes that belong to each of the two languages, ``hbo`` and ``aramaic``."
     ]
    },
    {
     "cell_type": "code",
     "collapsed": false,
     "input": [
      "lex_text = collections.defaultdict(lambda: collections.defaultdict(lambda: collections.defaultdict(lambda: set())))\n",
      "text_langs = set()\n",
      "for n in NN():\n",
      "    otype = F.otype.v(n)\n",
      "    if otype != 'word': continue\n",
      "    lan = lang_map[F.language.v(n)]\n",
      "    text_langs.add(lan)\n",
      "    lex = F.lex.v(n)\n",
      "    lex_text[lan][lex]['sp'].add(F.sp.v(n))\n",
      "    lex_text[lan][lex]['ls'].add(F.ls.v(n))\n",
      "    lex_text[lan][lex]['gn'].add(F.gn.v(n))\n",
      "    lex_text[lan][lex]['nu'].add(F.nu.v(n))\n",
      "    lex_text[lan][lex]['ps'].add(F.ps.v(n))\n",
      "    lex_text[lan][lex]['vc'].add(F.g_lex.v(n))\n",
      "\n",
      "for lan in sorted(lex_text):\n",
      "    print('Language {} has {:>5} lexemes in the etcbc4 text'.format(lan, len(lex_text[lan])))"
     ],
     "language": "python",
     "metadata": {},
     "outputs": [
      {
       "output_type": "stream",
       "stream": "stdout",
       "text": [
        "Language arc has   707 lexemes in the etcbc4 text\n",
        "Language hbo has  8518 lexemes in the etcbc4 text\n"
       ]
      }
     ],
     "prompt_number": 22
    },
    {
     "cell_type": "markdown",
     "metadata": {},
     "source": [
      "# Checks\n",
      "\n",
      "## Intersection between Hebrew and Aramaic\n",
      "\n",
      "Are there entries that are Hebrew and Aramaic?\n",
      "\n",
      "We check \n",
      "* whether the etcbc4 database has marked some lexemes sometimes as Hebrew and sometimes as Aramaic;\n",
      "* whether the lexica for ``hbo`` and ``arc`` share lexeme entries.\n"
     ]
    },
    {
     "cell_type": "code",
     "collapsed": false,
     "input": [
      "arc_entries = set(lex_entries['arc'])\n",
      "hbo_entries = set(lex_entries['hbo'])\n",
      "\n",
      "arc_text = set(lex_text['arc'])\n",
      "hbo_text = set(lex_text['hbo'])\n",
      "\n",
      "hbo_and_arc_lexemes = arc_text & hbo_text\n",
      "hbo_and_arc_entries = arc_entries & hbo_entries\n",
      "lexemes_entries = hbo_and_arc_lexemes & hbo_and_arc_entries\n",
      "print('The intersection of hbo and arc in the etcbc4 text contains {} lexemes'.format(len(hbo_and_arc_lexemes)))\n",
      "print('The intersection of hbo and arc in the lexicon     contains {} lexemes'.format(len(hbo_and_arc_entries)))\n",
      "print('The hbo-arc intersection of the lexemes and of the entries share {} lexemes'.format(len(lexemes_entries)))"
     ],
     "language": "python",
     "metadata": {},
     "outputs": [
      {
       "output_type": "stream",
       "stream": "stdout",
       "text": [
        "The intersection of hbo and arc in the etcbc4 text contains 459 lexemes\n",
        "The intersection of hbo and arc in the lexicon     contains 459 lexemes\n",
        "The hbo-arc intersection of the lexemes and of the entries share 459 lexemes\n"
       ]
      }
     ],
     "prompt_number": 5
    },
    {
     "cell_type": "markdown",
     "metadata": {},
     "source": [
      "So, there are lexemes in the etcbc4 text that are both marked as ``hbo`` and as ``arc``. \n",
      "The same holds for entries in the lexica, and both agree.\n",
      "\n",
      "Let us now check whether all lexemes in the text occur in the lexicon and vice versa."
     ]
    },
    {
     "cell_type": "code",
     "collapsed": false,
     "input": [
      "arc_text_diff = arc_text - arc_entries\n",
      "arc_entries_diff = arc_entries - arc_text\n",
      "\n",
      "hbo_text_diff = hbo_text - hbo_entries\n",
      "hbo_entries_diff = hbo_entries - hbo_text\n",
      "\n",
      "for (myset, mymsg) in (\n",
      "    (arc_text_diff, 'arc: lexemes in text but not in lexicon'),\n",
      "    (arc_entries_diff, 'arc: lexemes in lexicon but not in text'),\n",
      "    (hbo_text_diff, 'hbo: lexemes in text but not in lexicon'),\n",
      "    (hbo_entries_diff, 'hbo: lexemes in lexicon but not in text'),\n",
      "):\n",
      "    print('{}: {}x\\n\"{}\"'.format(mymsg, len(myset), '\", \"'.join(sorted(myset))))"
     ],
     "language": "python",
     "metadata": {},
     "outputs": [
      {
       "output_type": "stream",
       "stream": "stdout",
       "text": [
        "arc: lexemes in text but not in lexicon: 0x\n",
        "\"\"\n",
        "arc: lexemes in lexicon but not in text: 0x\n",
        "\"\"\n",
        "hbo: lexemes in text but not in lexicon: 15x\n",
        "\"<ZR==/\", \">BJ\", \">BVXJM/\", \">CR/\", \">HBJM=/\", \">LMNWT=/\", \"H>ZL/\", \"HLZ\", \"HLZH\", \"HLZW\", \"JPHPJ/\", \"KRTWT/\", \"M<DNJM/\", \"MWSR==/\", \"XRBH==/\"\n",
        "hbo: lexemes in lexicon but not in text: 17x\n",
        "\"<ZWR/\", \">BVJX/\", \">CWR=/\", \">CWR==/\", \">HB/\", \">J==\", \">ZL/\", \"JSD/\", \"JWNQT/\", \"KRWTH/\", \"LZ\", \"LZH\", \"LZW\", \"M<DN/\", \"MWSRH=/\", \"PJH/\", \"RXB======/\"\n"
       ]
      }
     ],
     "prompt_number": 6
    },
    {
     "cell_type": "markdown",
     "metadata": {},
     "source": [
      "# Feature richness\n",
      "\n",
      "Which features do the entries have, and what percentage of the entries has those features?"
     ]
    },
    {
     "cell_type": "code",
     "collapsed": false,
     "input": [
      "feature_count = collections.defaultdict(lambda: collections.Counter())\n",
      "inspect_prop = collections.defaultdict(\n",
      "    lambda: collections.defaultdict(lambda: collections.defaultdict(lambda: collections.Counter()))\n",
      ")\n",
      "close_inspect = {'sm', 'fc', 'st', 'ps', 'nu', 'co', 'kb'}\n",
      "\n",
      "for lan in lex_entries:\n",
      "    entries = lex_entries[lan]\n",
      "    for entry in entries:\n",
      "        features = entries[entry]\n",
      "        for feature in features:\n",
      "            feature_count[lan][feature] += 1\n",
      "        for p in close_inspect:\n",
      "            if p in features:\n",
      "                inspect_prop[lan][p][features[p]][features['sp']] += 1\n",
      "\n",
      "for lan in feature_count:\n",
      "    nentries = len(lex_entries[lan])\n",
      "    for feature in feature_count[lan]:\n",
      "        fv = feature_count[lan][feature]\n",
      "        feature_count[lan][feature] = fv * 100 / nentries\n",
      "\n",
      "print(\"Feature occurrences in the lexicon\")\n",
      "for lan in sorted(feature_count):\n",
      "    feature_spec = '\\n'.join('\\t{:<8}: {:>6.2f}%'.format(f, v) for (f,v) in sorted(feature_count[lan].items(), key=lambda x: (-x[1], x[0])))\n",
      "    print(\"{}\\n{}\\t\".format(lan, feature_spec))"
     ],
     "language": "python",
     "metadata": {},
     "outputs": [
      {
       "output_type": "stream",
       "stream": "stdout",
       "text": [
        "Feature occurrences in the lexicon\n",
        "arc\n",
        "\tgl      : 100.00%\n",
        "\tsp      : 100.00%\n",
        "\tvc      : 100.00%\n",
        "\tgn      :  36.35%\n",
        "\tls      :   6.79%\n",
        "\tsm      :   5.80%\n",
        "\tnu      :   2.69%\n",
        "\tps      :   1.41%\n",
        "\trt      :   0.71%\n",
        "\tco      :   0.14%\n",
        "\tkb      :   0.14%\t\n",
        "hbo\n",
        "\tgl      : 100.00%\n",
        "\tsp      : 100.00%\n",
        "\tvc      :  91.31%\n",
        "\tgn      :  44.54%\n",
        "\tsm      :  30.27%\n",
        "\tfc      :  23.54%\n",
        "\trt      :   4.30%\n",
        "\tls      :   3.77%\n",
        "\tnu      :   0.27%\n",
        "\tst      :   0.23%\n",
        "\tps      :   0.16%\n",
        "\tkb      :   0.04%\n",
        "\tco      :   0.01%\t\n",
        "syc\n",
        "\t_n      : 100.00%\n",
        "\tsp      :  99.92%\n",
        "\tgl      :  99.66%\n",
        "\tgn      :  52.54%\n",
        "\tde      :  32.56%\n",
        "\tls      :  21.65%\n",
        "\tst      :  17.16%\n",
        "\tnu      :   0.88%\n",
        "\tps      :   0.50%\n",
        "\tf       :   0.08%\n",
        "\tfl      :   0.04%\t\n"
       ]
      }
     ],
     "prompt_number": 27
    },
    {
     "cell_type": "code",
     "collapsed": false,
     "input": [
      "print(\"Detail feature values and occurrences\")\n",
      "for lan in sorted(inspect_prop):\n",
      "    print(\"{}\\n\".format(lan))\n",
      "    for p in sorted(inspect_prop[lan]):\n",
      "        print(\"\\t{}\\n\".format(p))\n",
      "        for value in sorted(inspect_prop[lan][p]):\n",
      "            inspect_spec = '\\n'.join('\\t\\t\\t{:<6}: {:>3}x'.format(f, v) for (f,v) in sorted(\n",
      "                inspect_prop[lan][p][value].items(), key=lambda x: (-x[1], x[0])\n",
      "            ))\n",
      "            print(\"\\t\\t{}\\n{}\\t\".format(value, inspect_spec))"
     ],
     "language": "python",
     "metadata": {},
     "outputs": [
      {
       "output_type": "stream",
       "stream": "stdout",
       "text": [
        "Detail feature values and occurrences\n",
        "arc\n",
        "\n",
        "\tco\n",
        "\n",
        "\t\tuncertain variant of XVV[\n",
        "\t\t\tverb  :   1x\t\n",
        "\tkb\n",
        "\n",
        "\t\tD.IJN@J;>\n",
        "\t\t\tadjv  :   1x\t\n",
        "\tnu\n",
        "\n",
        "\t\tp\n",
        "\t\t\tprps  :   6x\n",
        "\t\t\tprde  :   5x\t\n",
        "\t\ts\n",
        "\t\t\tprde  :   4x\n",
        "\t\t\tprps  :   4x\t\n",
        "\tps\n",
        "\n",
        "\t\t1\n",
        "\t\t\tprps  :   2x\t\n",
        "\t\t2\n",
        "\t\t\tprps  :   2x\t\n",
        "\t\t3\n",
        "\t\t\tprps  :   6x\t\n",
        "\tsm\n",
        "\n",
        "\t\tgens\n",
        "\t\t\tnmpr  :   1x\t\n",
        "\t\tmens\n",
        "\t\t\tnmpr  :   1x\t\n",
        "\t\tpers\n",
        "\t\t\tnmpr  :  29x\t\n",
        "\t\tppde\n",
        "\t\t\tprps  :   2x\t\n",
        "\t\ttopo\n",
        "\t\t\tnmpr  :   8x\t\n",
        "hbo\n",
        "\n",
        "\tco\n",
        "\n",
        "\t\tptcp qal would be better\n",
        "\t\t\tsubs  :   1x\t\n",
        "\tfc\n",
        "\n",
        "\t\t1>\n",
        "\t\t\tverb  :  28x\t\n",
        "\t\t1>,22\n",
        "\t\t\tverb  :   4x\t\n",
        "\t\t1>,2wj\n",
        "\t\t\tverb  :   1x\t\n",
        "\t\t1>,3g\n",
        "\t\t\tverb  :   1x\t\n",
        "\t\t1>,3h\n",
        "\t\t\tverb  :   6x\t\n",
        "\t\t1g\n",
        "\t\t\tverb  :  89x\t\n",
        "\t\t1g,22\n",
        "\t\t\tverb  :  13x\t\n",
        "\t\t1g,2wj\n",
        "\t\t\tverb  :   2x\t\n",
        "\t\t1g,3>\n",
        "\t\t\tverb  :   2x\t\n",
        "\t\t1g,3g\n",
        "\t\t\tverb  :   1x\t\n",
        "\t\t1g,3h\n",
        "\t\t\tverb  :  10x\t\n",
        "\t\t1hwj\n",
        "\t\t\tverb  :  10x\t\n",
        "\t\t1hwj,22\n",
        "\t\t\tverb  :   2x\t\n",
        "\t\t1hwj,2>\n",
        "\t\t\tverb  :   3x\t\n",
        "\t\t1hwj,2>,3h\n",
        "\t\t\tverb  :   1x\t\n",
        "\t\t1hwj,2g\n",
        "\t\t\tverb  :   3x\t\n",
        "\t\t1hwj,3g\n",
        "\t\t\tverb  :   5x\t\n",
        "\t\t1hwj,3h\n",
        "\t\t\tverb  :   5x\t\n",
        "\t\t1n\n",
        "\t\t\tverb  :  22x\t\n",
        "\t\t1n,22\n",
        "\t\t\tverb  :   3x\t\n",
        "\t\t1n,2g\n",
        "\t\t\tverb  :   6x\t\n",
        "\t\t1n,2g,22\n",
        "\t\t\tverb  :   1x\t\n",
        "\t\t1n,3>\n",
        "\t\t\tverb  :   1x\t\n",
        "\t\t1n,3g\n",
        "\t\t\tverb  :   5x\t\n",
        "\t\t1n,3h\n",
        "\t\t\tverb  :   5x\t\n",
        "\t\t22\n",
        "\t\t\tverb  :  82x\t\n",
        "\t\t22,3g\n",
        "\t\t\tverb  :   1x\t\n",
        "\t\t22,3h\n",
        "\t\t\tverb  :   2x\t\n",
        "\t\t2>\n",
        "\t\t\tverb  :  25x\t\n",
        "\t\t2>,3h\n",
        "\t\t\tverb  :  10x\t\n",
        "\t\t2g\n",
        "\t\t\tverb  :  69x\n",
        "\t\t\tsubs  :   2x\t\n",
        "\t\t2g,22\n",
        "\t\t\tverb  :   9x\t\n",
        "\t\t2g,3>\n",
        "\t\t\tverb  :   1x\t\n",
        "\t\t2g,3h\n",
        "\t\t\tverb  :  19x\t\n",
        "\t\t2wj\n",
        "\t\t\tverb  :  89x\t\n",
        "\t\t2wj,3>\n",
        "\t\t\tverb  :   2x\t\n",
        "\t\t2wj,3g\n",
        "\t\t\tverb  :   5x\t\n",
        "\t\t2wj,3g,3g\n",
        "\t\t\tverb  :   1x\t\n",
        "\t\t3>\n",
        "\t\t\tverb  :  23x\t\n",
        "\t\t3g\n",
        "\t\t\tverb  :  86x\t\n",
        "\t\t3h\n",
        "\t\t\tverb  :  57x\t\n",
        "\t\tae\n",
        "\t\t\tadjv  :  63x\n",
        "\t\t\tsubs  :  41x\n",
        "\t\t\tnmpr  :  10x\t\n",
        "\t\tai\n",
        "\t\t\tsubs  : 123x\n",
        "\t\t\tadjv  :  44x\n",
        "\t\t\tnmpr  :   8x\t\n",
        "\t\tao\n",
        "\t\t\tsubs  :  66x\n",
        "\t\t\tadjv  :  33x\n",
        "\t\t\tnmpr  :   8x\t\n",
        "\t\tao,au\n",
        "\t\t\tsubs  :   1x\t\n",
        "\t\te\n",
        "\t\t\tadjv  :   3x\n",
        "\t\t\tsubs  :   1x\t\n",
        "\t\tie\n",
        "\t\t\tadjv  :  12x\n",
        "\t\t\tsubs  :   3x\n",
        "\t\t\tnmpr  :   1x\t\n",
        "\t\tinf\n",
        "\t\t\tsubs  :   9x\t\n",
        "\t\tinf, seg\n",
        "\t\t\tsubs  :   1x\t\n",
        "\t\tio\n",
        "\t\t\tsubs  :  10x\n",
        "\t\t\tadjv  :   3x\t\n",
        "\t\tiu\n",
        "\t\t\tsubs  :  11x\n",
        "\t\t\tadjv  :   1x\t\n",
        "\t\tptca\n",
        "\t\t\tsubs  :  30x\n",
        "\t\t\tadjv  :   1x\n",
        "\t\t\tnmpr  :   1x\t\n",
        "\t\tptcp\n",
        "\t\t\tadjv  :  27x\n",
        "\t\t\tsubs  :  24x\n",
        "\t\t\tnmpr  :   3x\t\n",
        "\t\tseg\n",
        "\t\t\tsubs  : 681x\n",
        "\t\t\tnmpr  :  72x\n",
        "\t\t\tadjv  :   2x\t\n",
        "\t\tseg,ptca\n",
        "\t\t\tsubs  :   1x\t\n",
        "\tkb\n",
        "\n",
        "\t\tadjv\n",
        "\t\t\tsubs  :   1x\t\n",
        "\t\tnmpr\n",
        "\t\t\tadjv  :   1x\n",
        "\t\t\tsubs  :   1x\t\n",
        "\tnu\n",
        "\n",
        "\t\tp\n",
        "\t\t\tprps  :   8x\n",
        "\t\t\tprde  :   2x\t\n",
        "\t\ts\n",
        "\t\t\tprde  :   7x\n",
        "\t\t\tprps  :   6x\t\n",
        "\tps\n",
        "\n",
        "\t\t1\n",
        "\t\t\tprps  :   4x\t\n",
        "\t\t2\n",
        "\t\t\tprps  :   5x\t\n",
        "\t\t3\n",
        "\t\t\tprps  :   5x\t\n",
        "\tsm\n",
        "\n",
        "\t\tgens\n",
        "\t\t\tnmpr  :  52x\t\n",
        "\t\tgens,topo\n",
        "\t\t\tnmpr  :   2x\t\n",
        "\t\tmens\n",
        "\t\t\tnmpr  :   9x\t\n",
        "\t\tpers\n",
        "\t\t\tnmpr  : 1641x\t\n",
        "\t\tpers,gens\n",
        "\t\t\tnmpr  :  13x\t\n",
        "\t\tpers,gens,topo\n",
        "\t\t\tnmpr  :  19x\t\n",
        "\t\tppde\n",
        "\t\t\tprps  :   5x\t\n",
        "\t\ttopo\n",
        "\t\t\tnmpr  : 838x\t\n",
        "\tst\n",
        "\n",
        "\t\ta\n",
        "\t\t\tnmpr  :  20x\t\n",
        "syc\n",
        "\n",
        "\tnu\n",
        "\n",
        "\t\tpl\n",
        "\t\t\tpron  :   9x\n",
        "\t\t\tsubs  :   2x\n",
        "\t\t\tinrg  :   1x\t\n",
        "\t\tsg\n",
        "\t\t\tpron  :   9x\t\n",
        "\tps\n",
        "\n",
        "\t\tfirst\n",
        "\t\t\tpron  :   2x\t\n",
        "\t\tsecond\n",
        "\t\t\tpron  :   3x\t\n",
        "\t\tthird\n",
        "\t\t\tpron  :   7x\t\n",
        "\tst\n",
        "\n",
        "\t\tabs\n",
        "\t\t\tsubs  : 409x\t\n"
       ]
      }
     ],
     "prompt_number": 28
    },
    {
     "cell_type": "markdown",
     "metadata": {},
     "source": [
      "## Consistency of text features\n",
      "\n",
      "Multiple occurrences in the text point to the same lexeme. \n",
      "Some properties of those occurrences are in fact properties of the lexeme, e.g. the part of speech.\n",
      "\n",
      "The question arises: is the part of speech property assigned to the word occurrences in such a way, that all occurrences of the same lexeme have the same part of speech?"
     ]
    },
    {
     "cell_type": "code",
     "collapsed": false,
     "input": [
      "consistent_props = {'sp', 'ls', 'gn', 'vc'}\n",
      "variable_gender = {'verb', 'adjv'}\n",
      "\n",
      "exceptions = collections.defaultdict(lambda: collections.defaultdict(lambda: set()))\n",
      "exceptions_gn = collections.defaultdict(lambda: collections.Counter())\n",
      "incons = outfile('inconsistent.csv')\n",
      "for lan in sorted(lex_text):\n",
      "    lexemes = lex_text[lan]\n",
      "    for lexeme in sorted(lexemes):\n",
      "        properties = lexemes[lexeme]\n",
      "        for prop in consistent_props:\n",
      "            if prop in properties:\n",
      "                values = properties[prop]\n",
      "                psp = list(properties['sp'])[0]\n",
      "                if len(values) > 1:\n",
      "                    if prop == 'gn':\n",
      "                        if (len(set(properties['sp']) & variable_gender) != 0): continue\n",
      "                        exceptions_gn[lan][psp] += 1\n",
      "                    exceptions[lan][prop].add(lexeme)\n",
      "                    incons.write('\"{}\";\"{}\";\"{}\";\"{}\";{};\"{}\"\\n'.format(lan, prop, lexeme, psp, len(values), '\";\"'.join(values)))\n",
      "incons.close()\n",
      "for lan in sorted(text_langs):\n",
      "    print(\"{}\\n\".format(lan))\n",
      "    for prop in sorted(consistent_props):\n",
      "        extra = ''\n",
      "        if prop == 'gn':\n",
      "            for psp in exceptions_gn[lan]:\n",
      "                extra += '\\n{}{}: {}x'.format(' ' * 8, psp, exceptions_gn[lan][psp])\n",
      "        print(\"{}{:<8}: {:>4} inconsistent lexemes{}\".format(' ' * 4, prop, len(exceptions.get(lan, {}).get(prop, set())), extra))\n",
      "        "
     ],
     "language": "python",
     "metadata": {},
     "outputs": [
      {
       "output_type": "stream",
       "stream": "stdout",
       "text": [
        "arc\n",
        "\n",
        "    gn      :   10 inconsistent lexemes\n",
        "        subs: 72x\n",
        "    ls      :    0 inconsistent lexemes\n",
        "    nu      :   62 inconsistent lexemes\n",
        "    sp      :    0 inconsistent lexemes\n",
        "    vc      :  262 inconsistent lexemes\n",
        "hbo\n",
        "\n",
        "    gn      :   61 inconsistent lexemes\n",
        "        subs: 1026x\n",
        "        nmpr: 11x\n",
        "    ls      :    0 inconsistent lexemes\n",
        "    nu      :  976 inconsistent lexemes\n",
        "    sp      :    0 inconsistent lexemes\n",
        "    vc      : 3862 inconsistent lexemes\n"
       ]
      }
     ],
     "prompt_number": 17
    },
    {
     "cell_type": "markdown",
     "metadata": {},
     "source": [
      "# Check features\n",
      "\n",
      "Is the ``sp`` feature on entries the same as the ``sp`` feature in the text?"
     ]
    },
    {
     "cell_type": "code",
     "collapsed": false,
     "input": [],
     "language": "python",
     "metadata": {},
     "outputs": []
    }
   ],
   "metadata": {}
  }
 ]
}