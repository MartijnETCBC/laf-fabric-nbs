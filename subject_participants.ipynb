{
 "metadata": {
  "name": "",
  "signature": "sha256:93cf3f5578a09ba15f084861110a5609cc8b283da24c4cbdc5c69b16c747e41b"
 },
 "nbformat": 3,
 "nbformat_minor": 0,
 "worksheets": [
  {
   "cells": [
    {
     "cell_type": "markdown",
     "metadata": {},
     "source": [
      "<a href=\"http://laf-fabric.readthedocs.org/en/latest/\" target=\"_blank\"><img align=\"left\" src=\"images/laf-fabric-xsmall.png\"/></a>\n",
      "<a href=\"http://www.godgeleerdheid.vu.nl/etcbc\" target=\"_blank\"><img align=\"left\" src=\"images/VU-ETCBC-xsmall.png\"/></a>"
     ]
    },
    {
     "cell_type": "heading",
     "level": 1,
     "metadata": {},
     "source": [
      "Subject Participants in the Psalms"
     ]
    },
    {
     "cell_type": "markdown",
     "metadata": {},
     "source": [
      "One of the central areas of interest in current research conducted by the ETCBC is that of participant references and participant tracking. This notebook provides some initial insights into the patterns of participant references attested in the Psalms, as it identifies for each clause in each Psalm the person, number and gender values of the subject and whether the subject has been realized explicitly (i.e. by noun phrases or pronominal phrases) or not."
     ]
    },
    {
     "cell_type": "code",
     "collapsed": false,
     "input": [
      "import sys\n",
      "import collections\n",
      "import json\n",
      "%load_ext autoreload\n",
      "%autoreload 2\n",
      "import laf\n",
      "from laf.fabric import LafFabric\n",
      "from etcbc.preprocess import prepare\n",
      "from etcbc.lib import Transcription, monad_set\n",
      "from etcbc.trees import Tree\n",
      "fabric = LafFabric()\n",
      "tr = Transcription()"
     ],
     "language": "python",
     "metadata": {},
     "outputs": [
      {
       "output_type": "stream",
       "stream": "stderr",
       "text": [
        "  0.00s This is LAF-Fabric 4.2.8\n",
        "http://laf-fabric.readthedocs.org/en/latest/texts/API-reference.html\n"
       ]
      }
     ],
     "prompt_number": 1
    },
    {
     "cell_type": "code",
     "collapsed": false,
     "input": [
      "API=fabric.load('bhs3', '--', 'psalms', {\n",
      "    \"xmlids\": {\"node\": False, \"edge\": False},\n",
      "    \"features\": ('''\n",
      "        oid otype\n",
      "        surface_consonants text text_plain graphical_pron_suffix_plain suffix\n",
      "        gender number person suffix_gender suffix_number suffix_person\n",
      "        locative tense\n",
      "        noun_type pronoun_type\n",
      "        part_of_speech phrase_dependent_part_of_speech lexical_set\n",
      "        phrase_type phrase_function\n",
      "        clause_constituent_relation clause_atom_type\n",
      "        domain text_type embedding_domain verse_label\n",
      "        book chapter verse\n",
      "    ''',\n",
      "    '''mother.\n",
      "    '''),\n",
      "    \"prepare\": prepare,\n",
      "}, verbose='DETAIL')\n",
      "exec(fabric.localnames.format(var='fabric'))"
     ],
     "language": "python",
     "metadata": {},
     "outputs": [
      {
       "output_type": "stream",
       "stream": "stderr",
       "text": [
        "  0.00s LOADING API: please wait ... \n"
       ]
      },
      {
       "output_type": "stream",
       "stream": "stderr",
       "text": [
        "  0.00s DETAIL: COMPILING m: UP TO DATE\n"
       ]
      },
      {
       "output_type": "stream",
       "stream": "stderr",
       "text": [
        "  0.13s INFO: DATA COMPILED AT: 2014-04-18T18-24-37\n"
       ]
      },
      {
       "output_type": "stream",
       "stream": "stderr",
       "text": [
        "  0.13s DETAIL: COMPILING a: UP TO DATE\n"
       ]
      },
      {
       "output_type": "stream",
       "stream": "stderr",
       "text": [
        "  1.07s DETAIL: keep main: G.node_anchor_min\n"
       ]
      },
      {
       "output_type": "stream",
       "stream": "stderr",
       "text": [
        "  1.07s DETAIL: keep main: G.node_anchor_max\n"
       ]
      },
      {
       "output_type": "stream",
       "stream": "stderr",
       "text": [
        "  1.07s DETAIL: keep main: G.node_sort\n"
       ]
      },
      {
       "output_type": "stream",
       "stream": "stderr",
       "text": [
        "  1.08s DETAIL: keep main: G.node_sort_inv\n"
       ]
      },
      {
       "output_type": "stream",
       "stream": "stderr",
       "text": [
        "  1.08s DETAIL: keep main: G.edges_from\n"
       ]
      },
      {
       "output_type": "stream",
       "stream": "stderr",
       "text": [
        "  1.08s DETAIL: keep main: G.edges_to\n"
       ]
      },
      {
       "output_type": "stream",
       "stream": "stderr",
       "text": [
        "  1.08s DETAIL: keep main: F.shebanq_db_oid [node] \n"
       ]
      },
      {
       "output_type": "stream",
       "stream": "stderr",
       "text": [
        "  1.08s DETAIL: keep main: F.shebanq_db_otype [node] \n"
       ]
      },
      {
       "output_type": "stream",
       "stream": "stderr",
       "text": [
        "  1.09s DETAIL: keep main: F.shebanq_ft_clause_atom_type [node] \n"
       ]
      },
      {
       "output_type": "stream",
       "stream": "stderr",
       "text": [
        "  1.09s DETAIL: keep main: F.shebanq_ft_clause_constituent_relation [node] \n"
       ]
      },
      {
       "output_type": "stream",
       "stream": "stderr",
       "text": [
        "  1.09s DETAIL: keep main: F.shebanq_ft_domain [node] \n"
       ]
      },
      {
       "output_type": "stream",
       "stream": "stderr",
       "text": [
        "  1.09s DETAIL: keep main: F.shebanq_ft_embedding_domain [node] \n"
       ]
      },
      {
       "output_type": "stream",
       "stream": "stderr",
       "text": [
        "  1.10s DETAIL: keep main: F.shebanq_ft_gender [node] \n"
       ]
      },
      {
       "output_type": "stream",
       "stream": "stderr",
       "text": [
        "  1.10s DETAIL: keep main: F.shebanq_ft_graphical_pron_suffix_plain [node] \n"
       ]
      },
      {
       "output_type": "stream",
       "stream": "stderr",
       "text": [
        "  1.10s DETAIL: keep main: F.shebanq_ft_lexical_set [node] \n"
       ]
      },
      {
       "output_type": "stream",
       "stream": "stderr",
       "text": [
        "  1.10s DETAIL: keep main: F.shebanq_ft_locative [node] \n"
       ]
      },
      {
       "output_type": "stream",
       "stream": "stderr",
       "text": [
        "  1.10s DETAIL: keep main: F.shebanq_ft_noun_type [node] \n"
       ]
      },
      {
       "output_type": "stream",
       "stream": "stderr",
       "text": [
        "  1.11s DETAIL: keep main: F.shebanq_ft_number [node] \n"
       ]
      },
      {
       "output_type": "stream",
       "stream": "stderr",
       "text": [
        "  1.11s DETAIL: keep main: F.shebanq_ft_part_of_speech [node] \n"
       ]
      },
      {
       "output_type": "stream",
       "stream": "stderr",
       "text": [
        "  1.11s DETAIL: keep main: F.shebanq_ft_person [node] \n"
       ]
      },
      {
       "output_type": "stream",
       "stream": "stderr",
       "text": [
        "  1.11s DETAIL: keep main: F.shebanq_ft_phrase_dependent_part_of_speech [node] \n"
       ]
      },
      {
       "output_type": "stream",
       "stream": "stderr",
       "text": [
        "  1.11s DETAIL: keep main: F.shebanq_ft_phrase_function [node] \n"
       ]
      },
      {
       "output_type": "stream",
       "stream": "stderr",
       "text": [
        "  1.12s DETAIL: keep main: F.shebanq_ft_phrase_type [node] \n"
       ]
      },
      {
       "output_type": "stream",
       "stream": "stderr",
       "text": [
        "  1.12s DETAIL: keep main: F.shebanq_ft_pronoun_type [node] \n"
       ]
      },
      {
       "output_type": "stream",
       "stream": "stderr",
       "text": [
        "  1.12s DETAIL: keep main: F.shebanq_ft_suffix [node] \n"
       ]
      },
      {
       "output_type": "stream",
       "stream": "stderr",
       "text": [
        "  1.12s DETAIL: keep main: F.shebanq_ft_suffix_gender [node] \n"
       ]
      },
      {
       "output_type": "stream",
       "stream": "stderr",
       "text": [
        "  1.13s DETAIL: keep main: F.shebanq_ft_suffix_number [node] \n"
       ]
      },
      {
       "output_type": "stream",
       "stream": "stderr",
       "text": [
        "  1.14s DETAIL: keep main: F.shebanq_ft_suffix_person [node] \n"
       ]
      },
      {
       "output_type": "stream",
       "stream": "stderr",
       "text": [
        "  1.14s DETAIL: keep main: F.shebanq_ft_surface_consonants [node] \n"
       ]
      },
      {
       "output_type": "stream",
       "stream": "stderr",
       "text": [
        "  1.14s DETAIL: keep main: F.shebanq_ft_tense [node] \n"
       ]
      },
      {
       "output_type": "stream",
       "stream": "stderr",
       "text": [
        "  1.14s DETAIL: keep main: F.shebanq_ft_text [node] \n"
       ]
      },
      {
       "output_type": "stream",
       "stream": "stderr",
       "text": [
        "  1.14s DETAIL: keep main: F.shebanq_ft_text_plain [node] \n"
       ]
      },
      {
       "output_type": "stream",
       "stream": "stderr",
       "text": [
        "  1.15s DETAIL: keep main: F.shebanq_ft_text_type [node] \n"
       ]
      },
      {
       "output_type": "stream",
       "stream": "stderr",
       "text": [
        "  1.15s DETAIL: keep main: F.shebanq_sft_book [node] \n"
       ]
      },
      {
       "output_type": "stream",
       "stream": "stderr",
       "text": [
        "  1.15s DETAIL: keep main: F.shebanq_sft_chapter [node] \n"
       ]
      },
      {
       "output_type": "stream",
       "stream": "stderr",
       "text": [
        "  1.15s DETAIL: keep main: F.shebanq_sft_verse [node] \n"
       ]
      },
      {
       "output_type": "stream",
       "stream": "stderr",
       "text": [
        "  1.15s DETAIL: keep main: F.shebanq_mother_ [e] \n"
       ]
      },
      {
       "output_type": "stream",
       "stream": "stderr",
       "text": [
        "  1.16s DETAIL: keep main: C.shebanq_mother_ -> \n"
       ]
      },
      {
       "output_type": "stream",
       "stream": "stderr",
       "text": [
        "  1.16s DETAIL: keep main: C.shebanq_mother_ <- \n"
       ]
      },
      {
       "output_type": "stream",
       "stream": "stderr",
       "text": [
        "  1.16s DETAIL: load main: F.shebanq_sft_verse_label [node] \n"
       ]
      },
      {
       "output_type": "stream",
       "stream": "stderr",
       "text": [
        "  1.55s LOGFILE=C:\\Users\\Gino/laf-fabric-data/bhs3/tasks/psalms/__log__psalms.txt\n"
       ]
      },
      {
       "output_type": "stream",
       "stream": "stderr",
       "text": [
        "  1.56s DETAIL: prep prep: G.node_sort\n"
       ]
      },
      {
       "output_type": "stream",
       "stream": "stderr",
       "text": [
        "  1.74s DETAIL: prep prep: G.node_sort_inv\n"
       ]
      },
      {
       "output_type": "stream",
       "stream": "stderr",
       "text": [
        "  3.57s INFO: DATA LOADED FROM SOURCE bhs3 AND ANNOX -- FOR TASK psalms\n"
       ]
      }
     ],
     "prompt_number": 50
    },
    {
     "cell_type": "code",
     "collapsed": false,
     "input": [
      "psalm_nodes = collections.defaultdict(lambda: [])\n",
      "type_table = {'verse', 'clause_atom', 'phrase', 'word'}\n",
      "info_spec = {\n",
      "    'verse'      : '''verse_label''',\n",
      "    'clause'     : '''clause_constituent_relation(ccr)\n",
      "                      domain text_type(ttype) embedding_domain(edomain)\n",
      "                   ''',\n",
      "    'clause_atom': '''clause_atom_type(catype)''',\n",
      "    'phrase'     : '''phrase_type(ptype) phrase_function(pfunc)''',\n",
      "    'word'       : '''gender(g) number(n) person(p)\n",
      "                      noun_type(ntype) pronoun_type(pntype)\n",
      "                      part_of_speech(pos) phrase_dependent_part_of_speech(pdpos)\n",
      "                   ''',\n",
      "}\n",
      "info_spec_compiled = {}\n",
      "for otype in info_spec:\n",
      "    fieldspecs = info_spec[otype].strip().split()\n",
      "    fields = []\n",
      "    for fieldspec in fieldspecs:\n",
      "        prefield = fieldspec.split('(')\n",
      "        if len(prefield) == 1:\n",
      "            fields.append((fieldspec, fieldspec))\n",
      "        else:\n",
      "            fields.append((prefield[0], prefield[1].rstrip(')')))\n",
      "    info_spec_compiled[otype] = fields\n",
      "\n",
      "def formatPerson(p):\n",
      "    if p == 'first_person':\n",
      "        return '1'\n",
      "    elif p == 'second_person':\n",
      "        return '2'\n",
      "    elif p == 'third_person':\n",
      "        return '3'\n",
      "    else:\n",
      "        return '-'\n",
      "\n",
      "def formatNumber(n):\n",
      "    if n == 'singular':\n",
      "        return 'sg'\n",
      "    elif n == 'plural':\n",
      "        return 'pl'\n",
      "    else:\n",
      "        return '--'\n",
      "\n",
      "def formatGender(g):\n",
      "    if g == 'masculine':\n",
      "        return 'M'\n",
      "    elif g == 'feminine':\n",
      "        return 'F'\n",
      "    else:\n",
      "        return '-'\n",
      "    \n",
      "def identify_png(clauseNodes, pngsu):\n",
      "    verse_label = ''\n",
      "    clause_atom_nr = 0\n",
      "    expl_su = False\n",
      "    in_subject = False\n",
      "    pngSet = False\n",
      "    pV = nV = gV = ''\n",
      "    p = n = g = ''\n",
      "    text_subject = ''\n",
      "    text_verb = ''\n",
      "    \n",
      "    for node in clauseNodes:\n",
      "        otype = F.otype.v(node)\n",
      "        if otype == 'verse':\n",
      "            verse_label = F.verse_label.v(node)\n",
      "        elif otype == 'clause_atom':\n",
      "            if clause_atom_nr == 0:\n",
      "                clause_atom_nr += 1\n",
      "                continue\n",
      "            pngsu.write('{};{};{};{};{};{}\\n'.format(verse_label, clause_atom_nr, text_subject, p + n + g, text_verb, pV + nV + gV))\n",
      "            expl_su = False\n",
      "            in_subject = False\n",
      "            pngSet = False\n",
      "            pV = nV = gV = ''\n",
      "            p = n = g = ''\n",
      "            text_subject = ''\n",
      "            text_verb = ''\n",
      "            clause_atom_nr += 1\n",
      "        elif otype == 'phrase':\n",
      "            if F.phrase_function.v(node) == 'Subj':\n",
      "                in_subject = True\n",
      "            else:\n",
      "                in_subject = False\n",
      "        elif otype == 'word':\n",
      "            pdpos = F.phrase_dependent_part_of_speech.v(node)\n",
      "            if pdpos == 'verb':\n",
      "                pV = formatPerson(F.person.v(node))\n",
      "                nV = formatNumber(F.number.v(node))\n",
      "                gV = formatGender(F.gender.v(node))\n",
      "                text_verb = F.text.v(node)\n",
      "            elif in_subject:\n",
      "                text_subject += F.text.v(node) + \" \"\n",
      "                if pdpos == 'pronoun':\n",
      "                    p = formatPerson(F.person.v(node))\n",
      "                    n = formatNumber(F.number.v(node))\n",
      "                    g = formatGender(F.gender.v(node))\n",
      "                    pngSet = True\n",
      "                elif pdpos == 'noun' and not pngSet:\n",
      "                    lexset = F.lexical_set.v(node)\n",
      "                    if lexset == 'Cardinal' or lexset == 'Distributive_noun':\n",
      "                        continue\n",
      "                    else:\n",
      "                        p = formatPerson('third_person')\n",
      "                        n = formatNumber(F.number.v(node))\n",
      "                        g = formatGender(F.gender.v(node))\n",
      "                        pngSet = True\n",
      "                    \n",
      "    pngsu.write('{};{};{};{};{};{}\\n'.format(verse_label, clause_atom_nr, text_subject, p + n + g, text_verb, pV + nV + gV))\n",
      "    pngsu.write('\\n')    \n",
      "    \n",
      "def analyze_psalms():\n",
      "    pngsu = outfile('SuPngInPsalms.csv')\n",
      "    pngsu.write('{};{};{};{};{};{}\\n'.format('verse', 'clause_atom_nr', 'subject', 'subjectPNG', 'verbal_form', 'verbPNG'))\n",
      "    inPsalms = False\n",
      "    nodesInPsalms = collections.defaultdict(lambda: [])\n",
      "    chapter = 0\n",
      "    \n",
      "    for node in NN():\n",
      "        otype = F.otype.v(node)\n",
      "        if otype == 'book':\n",
      "            if F.book.v(node) == \"Psalms\":\n",
      "                inPsalms = True\n",
      "            else:\n",
      "                inPsalms = False\n",
      "        elif otype == 'chapter' and inPsalms:\n",
      "            chapter = int(F.chapter.v(node))\n",
      "            msg(\"{} \".format(chapter), withtime=False, newline=False)\n",
      "        elif inPsalms and otype in type_table:\n",
      "            nodesInPsalms[chapter].append(node)\n",
      "    \n",
      "    for c in sorted(nodesInPsalms):\n",
      "        identify_png(nodesInPsalms[c], pngsu)\n",
      "    \n",
      "    pngsu.close()"
     ],
     "language": "python",
     "metadata": {},
     "outputs": [],
     "prompt_number": 61
    },
    {
     "cell_type": "code",
     "collapsed": false,
     "input": [
      "msg(\"Processing psalms ...\")\n",
      "analyze_psalms()\n",
      "msg('', withtime=False)\n",
      "msg(\"Psalms processed\")"
     ],
     "language": "python",
     "metadata": {},
     "outputs": [
      {
       "output_type": "stream",
       "stream": "stderr",
       "text": [
        "33m 27s Processing psalms ...\n"
       ]
      },
      {
       "output_type": "stream",
       "stream": "stderr",
       "text": [
        "1 "
       ]
      },
      {
       "output_type": "stream",
       "stream": "stderr",
       "text": [
        "2 "
       ]
      },
      {
       "output_type": "stream",
       "stream": "stderr",
       "text": [
        "3 "
       ]
      },
      {
       "output_type": "stream",
       "stream": "stderr",
       "text": [
        "4 "
       ]
      },
      {
       "output_type": "stream",
       "stream": "stderr",
       "text": [
        "5 "
       ]
      },
      {
       "output_type": "stream",
       "stream": "stderr",
       "text": [
        "6 "
       ]
      },
      {
       "output_type": "stream",
       "stream": "stderr",
       "text": [
        "7 "
       ]
      },
      {
       "output_type": "stream",
       "stream": "stderr",
       "text": [
        "8 "
       ]
      },
      {
       "output_type": "stream",
       "stream": "stderr",
       "text": [
        "9 "
       ]
      },
      {
       "output_type": "stream",
       "stream": "stderr",
       "text": [
        "10 "
       ]
      },
      {
       "output_type": "stream",
       "stream": "stderr",
       "text": [
        "11 "
       ]
      },
      {
       "output_type": "stream",
       "stream": "stderr",
       "text": [
        "12 "
       ]
      },
      {
       "output_type": "stream",
       "stream": "stderr",
       "text": [
        "13 "
       ]
      },
      {
       "output_type": "stream",
       "stream": "stderr",
       "text": [
        "14 "
       ]
      },
      {
       "output_type": "stream",
       "stream": "stderr",
       "text": [
        "15 "
       ]
      },
      {
       "output_type": "stream",
       "stream": "stderr",
       "text": [
        "16 "
       ]
      },
      {
       "output_type": "stream",
       "stream": "stderr",
       "text": [
        "17 "
       ]
      },
      {
       "output_type": "stream",
       "stream": "stderr",
       "text": [
        "18 "
       ]
      },
      {
       "output_type": "stream",
       "stream": "stderr",
       "text": [
        "19 "
       ]
      },
      {
       "output_type": "stream",
       "stream": "stderr",
       "text": [
        "20 "
       ]
      },
      {
       "output_type": "stream",
       "stream": "stderr",
       "text": [
        "21 "
       ]
      },
      {
       "output_type": "stream",
       "stream": "stderr",
       "text": [
        "22 "
       ]
      },
      {
       "output_type": "stream",
       "stream": "stderr",
       "text": [
        "23 "
       ]
      },
      {
       "output_type": "stream",
       "stream": "stderr",
       "text": [
        "24 "
       ]
      },
      {
       "output_type": "stream",
       "stream": "stderr",
       "text": [
        "25 "
       ]
      },
      {
       "output_type": "stream",
       "stream": "stderr",
       "text": [
        "26 "
       ]
      },
      {
       "output_type": "stream",
       "stream": "stderr",
       "text": [
        "27 "
       ]
      },
      {
       "output_type": "stream",
       "stream": "stderr",
       "text": [
        "28 "
       ]
      },
      {
       "output_type": "stream",
       "stream": "stderr",
       "text": [
        "29 "
       ]
      },
      {
       "output_type": "stream",
       "stream": "stderr",
       "text": [
        "30 "
       ]
      },
      {
       "output_type": "stream",
       "stream": "stderr",
       "text": [
        "31 "
       ]
      },
      {
       "output_type": "stream",
       "stream": "stderr",
       "text": [
        "32 "
       ]
      },
      {
       "output_type": "stream",
       "stream": "stderr",
       "text": [
        "33 "
       ]
      },
      {
       "output_type": "stream",
       "stream": "stderr",
       "text": [
        "34 "
       ]
      },
      {
       "output_type": "stream",
       "stream": "stderr",
       "text": [
        "35 "
       ]
      },
      {
       "output_type": "stream",
       "stream": "stderr",
       "text": [
        "36 "
       ]
      },
      {
       "output_type": "stream",
       "stream": "stderr",
       "text": [
        "37 "
       ]
      },
      {
       "output_type": "stream",
       "stream": "stderr",
       "text": [
        "38 "
       ]
      },
      {
       "output_type": "stream",
       "stream": "stderr",
       "text": [
        "39 "
       ]
      },
      {
       "output_type": "stream",
       "stream": "stderr",
       "text": [
        "40 "
       ]
      },
      {
       "output_type": "stream",
       "stream": "stderr",
       "text": [
        "41 "
       ]
      },
      {
       "output_type": "stream",
       "stream": "stderr",
       "text": [
        "42 "
       ]
      },
      {
       "output_type": "stream",
       "stream": "stderr",
       "text": [
        "43 "
       ]
      },
      {
       "output_type": "stream",
       "stream": "stderr",
       "text": [
        "44 "
       ]
      },
      {
       "output_type": "stream",
       "stream": "stderr",
       "text": [
        "45 "
       ]
      },
      {
       "output_type": "stream",
       "stream": "stderr",
       "text": [
        "46 "
       ]
      },
      {
       "output_type": "stream",
       "stream": "stderr",
       "text": [
        "47 "
       ]
      },
      {
       "output_type": "stream",
       "stream": "stderr",
       "text": [
        "48 "
       ]
      },
      {
       "output_type": "stream",
       "stream": "stderr",
       "text": [
        "49 "
       ]
      },
      {
       "output_type": "stream",
       "stream": "stderr",
       "text": [
        "50 "
       ]
      },
      {
       "output_type": "stream",
       "stream": "stderr",
       "text": [
        "51 "
       ]
      },
      {
       "output_type": "stream",
       "stream": "stderr",
       "text": [
        "52 "
       ]
      },
      {
       "output_type": "stream",
       "stream": "stderr",
       "text": [
        "53 "
       ]
      },
      {
       "output_type": "stream",
       "stream": "stderr",
       "text": [
        "54 "
       ]
      },
      {
       "output_type": "stream",
       "stream": "stderr",
       "text": [
        "55 "
       ]
      },
      {
       "output_type": "stream",
       "stream": "stderr",
       "text": [
        "56 "
       ]
      },
      {
       "output_type": "stream",
       "stream": "stderr",
       "text": [
        "57 "
       ]
      },
      {
       "output_type": "stream",
       "stream": "stderr",
       "text": [
        "58 "
       ]
      },
      {
       "output_type": "stream",
       "stream": "stderr",
       "text": [
        "59 "
       ]
      },
      {
       "output_type": "stream",
       "stream": "stderr",
       "text": [
        "60 "
       ]
      },
      {
       "output_type": "stream",
       "stream": "stderr",
       "text": [
        "61 "
       ]
      },
      {
       "output_type": "stream",
       "stream": "stderr",
       "text": [
        "62 "
       ]
      },
      {
       "output_type": "stream",
       "stream": "stderr",
       "text": [
        "63 "
       ]
      },
      {
       "output_type": "stream",
       "stream": "stderr",
       "text": [
        "64 "
       ]
      },
      {
       "output_type": "stream",
       "stream": "stderr",
       "text": [
        "65 "
       ]
      },
      {
       "output_type": "stream",
       "stream": "stderr",
       "text": [
        "66 "
       ]
      },
      {
       "output_type": "stream",
       "stream": "stderr",
       "text": [
        "67 "
       ]
      },
      {
       "output_type": "stream",
       "stream": "stderr",
       "text": [
        "68 "
       ]
      },
      {
       "output_type": "stream",
       "stream": "stderr",
       "text": [
        "69 "
       ]
      },
      {
       "output_type": "stream",
       "stream": "stderr",
       "text": [
        "70 "
       ]
      },
      {
       "output_type": "stream",
       "stream": "stderr",
       "text": [
        "71 "
       ]
      },
      {
       "output_type": "stream",
       "stream": "stderr",
       "text": [
        "72 "
       ]
      },
      {
       "output_type": "stream",
       "stream": "stderr",
       "text": [
        "73 "
       ]
      },
      {
       "output_type": "stream",
       "stream": "stderr",
       "text": [
        "74 "
       ]
      },
      {
       "output_type": "stream",
       "stream": "stderr",
       "text": [
        "75 "
       ]
      },
      {
       "output_type": "stream",
       "stream": "stderr",
       "text": [
        "76 "
       ]
      },
      {
       "output_type": "stream",
       "stream": "stderr",
       "text": [
        "77 "
       ]
      },
      {
       "output_type": "stream",
       "stream": "stderr",
       "text": [
        "78 "
       ]
      },
      {
       "output_type": "stream",
       "stream": "stderr",
       "text": [
        "79 "
       ]
      },
      {
       "output_type": "stream",
       "stream": "stderr",
       "text": [
        "80 "
       ]
      },
      {
       "output_type": "stream",
       "stream": "stderr",
       "text": [
        "81 "
       ]
      },
      {
       "output_type": "stream",
       "stream": "stderr",
       "text": [
        "82 "
       ]
      },
      {
       "output_type": "stream",
       "stream": "stderr",
       "text": [
        "83 "
       ]
      },
      {
       "output_type": "stream",
       "stream": "stderr",
       "text": [
        "84 "
       ]
      },
      {
       "output_type": "stream",
       "stream": "stderr",
       "text": [
        "85 "
       ]
      },
      {
       "output_type": "stream",
       "stream": "stderr",
       "text": [
        "86 "
       ]
      },
      {
       "output_type": "stream",
       "stream": "stderr",
       "text": [
        "87 "
       ]
      },
      {
       "output_type": "stream",
       "stream": "stderr",
       "text": [
        "88 "
       ]
      },
      {
       "output_type": "stream",
       "stream": "stderr",
       "text": [
        "89 "
       ]
      },
      {
       "output_type": "stream",
       "stream": "stderr",
       "text": [
        "90 "
       ]
      },
      {
       "output_type": "stream",
       "stream": "stderr",
       "text": [
        "91 "
       ]
      },
      {
       "output_type": "stream",
       "stream": "stderr",
       "text": [
        "92 "
       ]
      },
      {
       "output_type": "stream",
       "stream": "stderr",
       "text": [
        "93 "
       ]
      },
      {
       "output_type": "stream",
       "stream": "stderr",
       "text": [
        "94 "
       ]
      },
      {
       "output_type": "stream",
       "stream": "stderr",
       "text": [
        "95 "
       ]
      },
      {
       "output_type": "stream",
       "stream": "stderr",
       "text": [
        "96 "
       ]
      },
      {
       "output_type": "stream",
       "stream": "stderr",
       "text": [
        "97 "
       ]
      },
      {
       "output_type": "stream",
       "stream": "stderr",
       "text": [
        "98 "
       ]
      },
      {
       "output_type": "stream",
       "stream": "stderr",
       "text": [
        "99 "
       ]
      },
      {
       "output_type": "stream",
       "stream": "stderr",
       "text": [
        "100 "
       ]
      },
      {
       "output_type": "stream",
       "stream": "stderr",
       "text": [
        "101 "
       ]
      },
      {
       "output_type": "stream",
       "stream": "stderr",
       "text": [
        "102 "
       ]
      },
      {
       "output_type": "stream",
       "stream": "stderr",
       "text": [
        "103 "
       ]
      },
      {
       "output_type": "stream",
       "stream": "stderr",
       "text": [
        "104 "
       ]
      },
      {
       "output_type": "stream",
       "stream": "stderr",
       "text": [
        "105 "
       ]
      },
      {
       "output_type": "stream",
       "stream": "stderr",
       "text": [
        "106 "
       ]
      },
      {
       "output_type": "stream",
       "stream": "stderr",
       "text": [
        "107 "
       ]
      },
      {
       "output_type": "stream",
       "stream": "stderr",
       "text": [
        "108 "
       ]
      },
      {
       "output_type": "stream",
       "stream": "stderr",
       "text": [
        "109 "
       ]
      },
      {
       "output_type": "stream",
       "stream": "stderr",
       "text": [
        "110 "
       ]
      },
      {
       "output_type": "stream",
       "stream": "stderr",
       "text": [
        "111 "
       ]
      },
      {
       "output_type": "stream",
       "stream": "stderr",
       "text": [
        "112 "
       ]
      },
      {
       "output_type": "stream",
       "stream": "stderr",
       "text": [
        "113 "
       ]
      },
      {
       "output_type": "stream",
       "stream": "stderr",
       "text": [
        "114 "
       ]
      },
      {
       "output_type": "stream",
       "stream": "stderr",
       "text": [
        "115 "
       ]
      },
      {
       "output_type": "stream",
       "stream": "stderr",
       "text": [
        "116 "
       ]
      },
      {
       "output_type": "stream",
       "stream": "stderr",
       "text": [
        "117 "
       ]
      },
      {
       "output_type": "stream",
       "stream": "stderr",
       "text": [
        "118 "
       ]
      },
      {
       "output_type": "stream",
       "stream": "stderr",
       "text": [
        "119 "
       ]
      },
      {
       "output_type": "stream",
       "stream": "stderr",
       "text": [
        "120 "
       ]
      },
      {
       "output_type": "stream",
       "stream": "stderr",
       "text": [
        "121 "
       ]
      },
      {
       "output_type": "stream",
       "stream": "stderr",
       "text": [
        "122 "
       ]
      },
      {
       "output_type": "stream",
       "stream": "stderr",
       "text": [
        "123 "
       ]
      },
      {
       "output_type": "stream",
       "stream": "stderr",
       "text": [
        "124 "
       ]
      },
      {
       "output_type": "stream",
       "stream": "stderr",
       "text": [
        "125 "
       ]
      },
      {
       "output_type": "stream",
       "stream": "stderr",
       "text": [
        "126 "
       ]
      },
      {
       "output_type": "stream",
       "stream": "stderr",
       "text": [
        "127 "
       ]
      },
      {
       "output_type": "stream",
       "stream": "stderr",
       "text": [
        "128 "
       ]
      },
      {
       "output_type": "stream",
       "stream": "stderr",
       "text": [
        "129 "
       ]
      },
      {
       "output_type": "stream",
       "stream": "stderr",
       "text": [
        "130 "
       ]
      },
      {
       "output_type": "stream",
       "stream": "stderr",
       "text": [
        "131 "
       ]
      },
      {
       "output_type": "stream",
       "stream": "stderr",
       "text": [
        "132 "
       ]
      },
      {
       "output_type": "stream",
       "stream": "stderr",
       "text": [
        "133 "
       ]
      },
      {
       "output_type": "stream",
       "stream": "stderr",
       "text": [
        "134 "
       ]
      },
      {
       "output_type": "stream",
       "stream": "stderr",
       "text": [
        "135 "
       ]
      },
      {
       "output_type": "stream",
       "stream": "stderr",
       "text": [
        "136 "
       ]
      },
      {
       "output_type": "stream",
       "stream": "stderr",
       "text": [
        "137 "
       ]
      },
      {
       "output_type": "stream",
       "stream": "stderr",
       "text": [
        "138 "
       ]
      },
      {
       "output_type": "stream",
       "stream": "stderr",
       "text": [
        "139 "
       ]
      },
      {
       "output_type": "stream",
       "stream": "stderr",
       "text": [
        "140 "
       ]
      },
      {
       "output_type": "stream",
       "stream": "stderr",
       "text": [
        "141 "
       ]
      },
      {
       "output_type": "stream",
       "stream": "stderr",
       "text": [
        "142 "
       ]
      },
      {
       "output_type": "stream",
       "stream": "stderr",
       "text": [
        "143 "
       ]
      },
      {
       "output_type": "stream",
       "stream": "stderr",
       "text": [
        "144 "
       ]
      },
      {
       "output_type": "stream",
       "stream": "stderr",
       "text": [
        "145 "
       ]
      },
      {
       "output_type": "stream",
       "stream": "stderr",
       "text": [
        "146 "
       ]
      },
      {
       "output_type": "stream",
       "stream": "stderr",
       "text": [
        "147 "
       ]
      },
      {
       "output_type": "stream",
       "stream": "stderr",
       "text": [
        "148 "
       ]
      },
      {
       "output_type": "stream",
       "stream": "stderr",
       "text": [
        "149 "
       ]
      },
      {
       "output_type": "stream",
       "stream": "stderr",
       "text": [
        "150 "
       ]
      },
      {
       "output_type": "stream",
       "stream": "stderr",
       "text": [
        "\n"
       ]
      },
      {
       "output_type": "stream",
       "stream": "stderr",
       "text": [
        "33m 31s Psalms processed\n"
       ]
      }
     ],
     "prompt_number": 62
    }
   ],
   "metadata": {}
  }
 ]
}